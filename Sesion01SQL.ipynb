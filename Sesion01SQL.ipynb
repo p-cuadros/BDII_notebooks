{
 "cells": [
  {
   "cell_type": "raw",
   "metadata": {
    "azdata_cell_guid": "285529f5-4bbd-4f5a-acfb-6902e9633ac8"
   },
   "source": [
    "DEMOSTRACIÓN"
   ]
  },
  {
   "cell_type": "markdown",
   "metadata": {
    "azdata_cell_guid": "995dbd6c-b640-44d4-8c7c-40dc6a9cc8e0"
   },
   "source": [
    "1. Utilizando Vistas"
   ]
  },
  {
   "cell_type": "markdown",
   "metadata": {
    "azdata_cell_guid": "0b8f2bd3-3865-434d-bb2f-b799a0e324c2"
   },
   "source": [
    "1.1. Accediendo a la base de datos TSQL"
   ]
  },
  {
   "cell_type": "markdown",
   "metadata": {
    "azdata_cell_guid": "fb9e4440-5e76-4b92-9f42-0e07c06182f5"
   },
   "source": [
    "USE TSQL;\n",
    "GO"
   ]
  },
  {
   "cell_type": "markdown",
   "metadata": {
    "azdata_cell_guid": "5b762a5d-dd6d-4092-90f4-2778de3783ef"
   },
   "source": [
    "1.2 Seleccionar y ejecutar el siguiente código para crear una vista"
   ]
  },
  {
   "cell_type": "code",
   "execution_count": 2,
   "metadata": {
    "azdata_cell_guid": "2d127db9-1796-430b-b0b9-6dfa0983576c"
   },
   "outputs": [
    {
     "data": {
      "text/html": [
       "Commands completed successfully."
      ]
     },
     "metadata": {},
     "output_type": "display_data"
    },
    {
     "data": {
      "text/html": [
       "Total execution time: 00:00:00.186"
      ]
     },
     "metadata": {},
     "output_type": "display_data"
    }
   ],
   "source": [
    "CREATE VIEW HR.EmpPhoneList\n",
    "AS\n",
    "SELECT empid, lastname, firstname, phone\n",
    "FROM HR.Employees;\n",
    "GO"
   ]
  },
  {
   "cell_type": "markdown",
   "metadata": {
    "azdata_cell_guid": "66f80a8f-08ef-4330-896c-e9b3e62c5610"
   },
   "source": [
    "1.3 Consultar la nueva vista"
   ]
  },
  {
   "cell_type": "code",
   "execution_count": 3,
   "metadata": {
    "azdata_cell_guid": "6d9f850f-4f4b-44d0-ab8a-357e5727055a"
   },
   "outputs": [
    {
     "data": {
      "text/html": [
       "(9 rows affected)"
      ]
     },
     "metadata": {},
     "output_type": "display_data"
    },
    {
     "data": {
      "text/html": [
       "Total execution time: 00:00:00.220"
      ]
     },
     "metadata": {},
     "output_type": "display_data"
    },
    {
     "data": {
      "application/vnd.dataresource+json": {
       "data": [
        {
         "0": "1",
         "1": "Davis",
         "2": "Sara",
         "3": "(206) 555-0101"
        },
        {
         "0": "2",
         "1": "Funk",
         "2": "Don",
         "3": "(206) 555-0100"
        },
        {
         "0": "3",
         "1": "Lew",
         "2": "Judy",
         "3": "(206) 555-0103"
        },
        {
         "0": "4",
         "1": "Peled",
         "2": "Yael",
         "3": "(206) 555-0104"
        },
        {
         "0": "5",
         "1": "Buck",
         "2": "Sven",
         "3": "(71) 234-5678"
        },
        {
         "0": "6",
         "1": "Suurs",
         "2": "Paul",
         "3": "(71) 345-6789"
        },
        {
         "0": "7",
         "1": "King",
         "2": "Russell",
         "3": "(71) 123-4567"
        },
        {
         "0": "8",
         "1": "Cameron",
         "2": "Maria",
         "3": "(206) 555-0102"
        },
        {
         "0": "9",
         "1": "Dolgopyatova",
         "2": "Zoya",
         "3": "(71) 456-7890"
        }
       ],
       "schema": {
        "fields": [
         {
          "name": "empid"
         },
         {
          "name": "lastname"
         },
         {
          "name": "firstname"
         },
         {
          "name": "phone"
         }
        ]
       }
      },
      "text/html": [
       "<table><tr><th>empid</th><th>lastname</th><th>firstname</th><th>phone</th></tr><tr><td>1</td><td>Davis</td><td>Sara</td><td>(206) 555-0101</td></tr><tr><td>2</td><td>Funk</td><td>Don</td><td>(206) 555-0100</td></tr><tr><td>3</td><td>Lew</td><td>Judy</td><td>(206) 555-0103</td></tr><tr><td>4</td><td>Peled</td><td>Yael</td><td>(206) 555-0104</td></tr><tr><td>5</td><td>Buck</td><td>Sven</td><td>(71) 234-5678</td></tr><tr><td>6</td><td>Suurs</td><td>Paul</td><td>(71) 345-6789</td></tr><tr><td>7</td><td>King</td><td>Russell</td><td>(71) 123-4567</td></tr><tr><td>8</td><td>Cameron</td><td>Maria</td><td>(206) 555-0102</td></tr><tr><td>9</td><td>Dolgopyatova</td><td>Zoya</td><td>(71) 456-7890</td></tr></table>"
      ]
     },
     "execution_count": 3,
     "metadata": {},
     "output_type": "execute_result"
    }
   ],
   "source": [
    "SELECT empid, lastname, firstname, phone\n",
    "FROM HR.EmpPhoneList;\n",
    "GO"
   ]
  },
  {
   "cell_type": "markdown",
   "metadata": {
    "azdata_cell_guid": "2b15cd60-05a1-49df-88a6-bd9a98e0040e"
   },
   "source": [
    "1.4 Crear una vista ustilizando un JOIN multi-tabla"
   ]
  },
  {
   "cell_type": "code",
   "execution_count": 4,
   "metadata": {
    "azdata_cell_guid": "9ab04003-a52e-4e39-a9e1-f76c60a29261"
   },
   "outputs": [
    {
     "data": {
      "text/html": [
       "Commands completed successfully."
      ]
     },
     "metadata": {},
     "output_type": "display_data"
    },
    {
     "data": {
      "text/html": [
       "Total execution time: 00:00:00.187"
      ]
     },
     "metadata": {},
     "output_type": "display_data"
    }
   ],
   "source": [
    "CREATE VIEW Sales.OrdersByEmployeeYear\n",
    "AS\n",
    "    SELECT  emp.empid AS employee ,\n",
    "            YEAR(ord.orderdate) AS orderyear ,\n",
    "            SUM(od.qty * od.unitprice) AS totalsales\n",
    "    FROM    HR.Employees AS emp\n",
    "            JOIN Sales.Orders AS ord ON emp.empid = ord.empid\n",
    "            JOIN Sales.OrderDetails AS od ON ord.orderid = od.orderid\n",
    "    GROUP BY emp.empid ,\n",
    "            YEAR(ord.orderdate)\n",
    "GO"
   ]
  },
  {
   "cell_type": "markdown",
   "metadata": {
    "azdata_cell_guid": "f7fb2851-84e3-4b66-8a4b-c7e545a1b422"
   },
   "source": [
    "1.5 Seleccionar la vista"
   ]
  },
  {
   "cell_type": "code",
   "execution_count": 5,
   "metadata": {
    "azdata_cell_guid": "dd2004e1-4392-4f48-8d34-ae4e337d55c1"
   },
   "outputs": [
    {
     "data": {
      "text/html": [
       "(27 rows affected)"
      ]
     },
     "metadata": {},
     "output_type": "display_data"
    },
    {
     "data": {
      "text/html": [
       "Total execution time: 00:00:00.265"
      ]
     },
     "metadata": {},
     "output_type": "display_data"
    },
    {
     "data": {
      "application/vnd.dataresource+json": {
       "data": [
        {
         "0": "1",
         "1": "2006",
         "2": "38789.0000"
        },
        {
         "0": "1",
         "1": "2007",
         "2": "97533.5800"
        },
        {
         "0": "1",
         "1": "2008",
         "2": "65821.1300"
        },
        {
         "0": "2",
         "1": "2006",
         "2": "22834.7000"
        },
        {
         "0": "2",
         "1": "2007",
         "2": "74958.6000"
        },
        {
         "0": "2",
         "1": "2008",
         "2": "79955.9600"
        },
        {
         "0": "3",
         "1": "2006",
         "2": "19231.8000"
        },
        {
         "0": "3",
         "1": "2007",
         "2": "111788.6100"
        },
        {
         "0": "3",
         "1": "2008",
         "2": "82030.8900"
        },
        {
         "0": "4",
         "1": "2006",
         "2": "53114.8000"
        },
        {
         "0": "4",
         "1": "2007",
         "2": "139477.7000"
        },
        {
         "0": "4",
         "1": "2008",
         "2": "57594.9500"
        },
        {
         "0": "5",
         "1": "2006",
         "2": "21965.2000"
        },
        {
         "0": "5",
         "1": "2007",
         "2": "32595.0500"
        },
        {
         "0": "5",
         "1": "2008",
         "2": "21007.5000"
        },
        {
         "0": "6",
         "1": "2006",
         "2": "17731.1000"
        },
        {
         "0": "6",
         "1": "2007",
         "2": "45992.0000"
        },
        {
         "0": "6",
         "1": "2008",
         "2": "14475.0000"
        },
        {
         "0": "7",
         "1": "2006",
         "2": "18104.8000"
        },
        {
         "0": "7",
         "1": "2007",
         "2": "66689.1400"
        },
        {
         "0": "7",
         "1": "2008",
         "2": "56502.0500"
        },
        {
         "0": "8",
         "1": "2006",
         "2": "23161.4000"
        },
        {
         "0": "8",
         "1": "2007",
         "2": "59776.5200"
        },
        {
         "0": "8",
         "1": "2008",
         "2": "50363.1100"
        },
        {
         "0": "9",
         "1": "2006",
         "2": "11365.7000"
        },
        {
         "0": "9",
         "1": "2007",
         "2": "29577.5500"
        },
        {
         "0": "9",
         "1": "2008",
         "2": "42020.7500"
        }
       ],
       "schema": {
        "fields": [
         {
          "name": "employee"
         },
         {
          "name": "orderyear"
         },
         {
          "name": "totalsales"
         }
        ]
       }
      },
      "text/html": [
       "<table><tr><th>employee</th><th>orderyear</th><th>totalsales</th></tr><tr><td>1</td><td>2006</td><td>38789.0000</td></tr><tr><td>1</td><td>2007</td><td>97533.5800</td></tr><tr><td>1</td><td>2008</td><td>65821.1300</td></tr><tr><td>2</td><td>2006</td><td>22834.7000</td></tr><tr><td>2</td><td>2007</td><td>74958.6000</td></tr><tr><td>2</td><td>2008</td><td>79955.9600</td></tr><tr><td>3</td><td>2006</td><td>19231.8000</td></tr><tr><td>3</td><td>2007</td><td>111788.6100</td></tr><tr><td>3</td><td>2008</td><td>82030.8900</td></tr><tr><td>4</td><td>2006</td><td>53114.8000</td></tr><tr><td>4</td><td>2007</td><td>139477.7000</td></tr><tr><td>4</td><td>2008</td><td>57594.9500</td></tr><tr><td>5</td><td>2006</td><td>21965.2000</td></tr><tr><td>5</td><td>2007</td><td>32595.0500</td></tr><tr><td>5</td><td>2008</td><td>21007.5000</td></tr><tr><td>6</td><td>2006</td><td>17731.1000</td></tr><tr><td>6</td><td>2007</td><td>45992.0000</td></tr><tr><td>6</td><td>2008</td><td>14475.0000</td></tr><tr><td>7</td><td>2006</td><td>18104.8000</td></tr><tr><td>7</td><td>2007</td><td>66689.1400</td></tr><tr><td>7</td><td>2008</td><td>56502.0500</td></tr><tr><td>8</td><td>2006</td><td>23161.4000</td></tr><tr><td>8</td><td>2007</td><td>59776.5200</td></tr><tr><td>8</td><td>2008</td><td>50363.1100</td></tr><tr><td>9</td><td>2006</td><td>11365.7000</td></tr><tr><td>9</td><td>2007</td><td>29577.5500</td></tr><tr><td>9</td><td>2008</td><td>42020.7500</td></tr></table>"
      ]
     },
     "execution_count": 5,
     "metadata": {},
     "output_type": "execute_result"
    }
   ],
   "source": [
    "SELECT employee, orderyear, totalsales\n",
    "FROM Sales.OrdersByEmployeeYear\n",
    "ORDER BY employee, orderyear;"
   ]
  },
  {
   "cell_type": "markdown",
   "metadata": {
    "azdata_cell_guid": "43bea114-2a59-4f10-857d-2451d862856c"
   },
   "source": [
    "1.6 Limpiar los cambios"
   ]
  },
  {
   "cell_type": "code",
   "execution_count": 6,
   "metadata": {
    "azdata_cell_guid": "5590f0e1-2d6c-4176-9c11-11e198c73379"
   },
   "outputs": [
    {
     "data": {
      "text/html": [
       "Commands completed successfully."
      ]
     },
     "metadata": {},
     "output_type": "display_data"
    },
    {
     "data": {
      "text/html": [
       "Total execution time: 00:00:00.256"
      ]
     },
     "metadata": {},
     "output_type": "display_data"
    }
   ],
   "source": [
    "DROP VIEW Sales.OrdersByEmployeeYear;\n",
    "DROP VIEW HR.EmpPhoneList;"
   ]
  },
  {
   "cell_type": "markdown",
   "metadata": {
    "azdata_cell_guid": "510492bd-8187-42f0-8a7b-1539961ad25b"
   },
   "source": [
    "2. Utilizando Funciones de Tabla en Linea"
   ]
  },
  {
   "cell_type": "markdown",
   "metadata": {
    "azdata_cell_guid": "66598ecf-53fa-4a7f-97ab-ce49510238ae"
   },
   "source": [
    "2.1. Ejecutar y consultar la siguiente función de ejemplo dbo.GetNums() toma como parámetros: @low (bigint) y @high (bigint)"
   ]
  },
  {
   "cell_type": "code",
   "execution_count": 7,
   "metadata": {
    "azdata_cell_guid": "0b132368-b71f-49ca-ae59-b5f08dd062d3"
   },
   "outputs": [
    {
     "data": {
      "text/html": [
       "(11 rows affected)"
      ]
     },
     "metadata": {},
     "output_type": "display_data"
    },
    {
     "data": {
      "text/html": [
       "Total execution time: 00:00:00.331"
      ]
     },
     "metadata": {},
     "output_type": "display_data"
    },
    {
     "data": {
      "application/vnd.dataresource+json": {
       "data": [
        {
         "0": "10"
        },
        {
         "0": "11"
        },
        {
         "0": "12"
        },
        {
         "0": "13"
        },
        {
         "0": "14"
        },
        {
         "0": "15"
        },
        {
         "0": "16"
        },
        {
         "0": "17"
        },
        {
         "0": "18"
        },
        {
         "0": "19"
        },
        {
         "0": "20"
        }
       ],
       "schema": {
        "fields": [
         {
          "name": "n"
         }
        ]
       }
      },
      "text/html": [
       "<table><tr><th>n</th></tr><tr><td>10</td></tr><tr><td>11</td></tr><tr><td>12</td></tr><tr><td>13</td></tr><tr><td>14</td></tr><tr><td>15</td></tr><tr><td>16</td></tr><tr><td>17</td></tr><tr><td>18</td></tr><tr><td>19</td></tr><tr><td>20</td></tr></table>"
      ]
     },
     "execution_count": 7,
     "metadata": {},
     "output_type": "execute_result"
    }
   ],
   "source": [
    "SELECT * FROM dbo.GetNums(10,20);\n",
    "GO"
   ]
  },
  {
   "cell_type": "markdown",
   "metadata": {
    "azdata_cell_guid": "36abf670-f8b8-45b7-8240-da3ed769ef1f"
   },
   "source": [
    "2.2. Crear una función para calcular para extensión de líneas para ordenes de compra"
   ]
  },
  {
   "cell_type": "code",
   "execution_count": 8,
   "metadata": {
    "azdata_cell_guid": "91dd6ac2-6006-4d4d-a033-91aba7e57d2d"
   },
   "outputs": [
    {
     "data": {
      "text/html": [
       "Commands completed successfully."
      ]
     },
     "metadata": {},
     "output_type": "display_data"
    },
    {
     "data": {
      "text/html": [
       "Total execution time: 00:00:00.263"
      ]
     },
     "metadata": {},
     "output_type": "display_data"
    }
   ],
   "source": [
    "CREATE FUNCTION Sales.fn_LineTotal ( @orderid INT )\n",
    "RETURNS TABLE\n",
    "AS\n",
    "RETURN\n",
    "    SELECT  orderid, productid, unitprice, qty, discount,\n",
    "            CAST(( qty * unitprice * ( 1 - discount ) ) AS DECIMAL(8, 2)) AS line_total\n",
    "    FROM    Sales.OrderDetails\n",
    "    WHERE   orderid = @orderid ;\n",
    "GO"
   ]
  },
  {
   "cell_type": "markdown",
   "metadata": {
    "azdata_cell_guid": "4ad8ec63-a042-479e-a086-e41188cb25fd"
   },
   "source": [
    "2.3. Utilizando la función"
   ]
  },
  {
   "cell_type": "code",
   "execution_count": 9,
   "metadata": {
    "azdata_cell_guid": "19a07a30-e2e5-412b-b566-b2d985f99173"
   },
   "outputs": [
    {
     "data": {
      "text/html": [
       "(3 rows affected)"
      ]
     },
     "metadata": {},
     "output_type": "display_data"
    },
    {
     "data": {
      "text/html": [
       "Total execution time: 00:00:00.300"
      ]
     },
     "metadata": {},
     "output_type": "display_data"
    },
    {
     "data": {
      "application/vnd.dataresource+json": {
       "data": [
        {
         "0": "10252",
         "1": "20",
         "2": "64.8000",
         "3": "40",
         "4": "0.050",
         "5": "2462.40"
        },
        {
         "0": "10252",
         "1": "33",
         "2": "2.0000",
         "3": "25",
         "4": "0.050",
         "5": "47.50"
        },
        {
         "0": "10252",
         "1": "60",
         "2": "27.2000",
         "3": "40",
         "4": "0.000",
         "5": "1088.00"
        }
       ],
       "schema": {
        "fields": [
         {
          "name": "orderid"
         },
         {
          "name": "productid"
         },
         {
          "name": "unitprice"
         },
         {
          "name": "qty"
         },
         {
          "name": "discount"
         },
         {
          "name": "line_total"
         }
        ]
       }
      },
      "text/html": [
       "<table><tr><th>orderid</th><th>productid</th><th>unitprice</th><th>qty</th><th>discount</th><th>line_total</th></tr><tr><td>10252</td><td>20</td><td>64.8000</td><td>40</td><td>0.050</td><td>2462.40</td></tr><tr><td>10252</td><td>33</td><td>2.0000</td><td>25</td><td>0.050</td><td>47.50</td></tr><tr><td>10252</td><td>60</td><td>27.2000</td><td>40</td><td>0.000</td><td>1088.00</td></tr></table>"
      ]
     },
     "execution_count": 9,
     "metadata": {},
     "output_type": "execute_result"
    }
   ],
   "source": [
    "SELECT orderid, productid, unitprice, qty, discount, line_total\n",
    "FROM Sales.fn_LineTotal(10252) AS LT;\n",
    "GO"
   ]
  },
  {
   "cell_type": "markdown",
   "metadata": {
    "azdata_cell_guid": "014f9011-afb1-4c2e-ac52-dbde9d5e9266"
   },
   "source": [
    "2.4. Limpiar los cambios"
   ]
  },
  {
   "cell_type": "code",
   "execution_count": 10,
   "metadata": {
    "azdata_cell_guid": "cee77b85-79ac-4472-b20b-87d63234b73d"
   },
   "outputs": [
    {
     "data": {
      "text/html": [
       "Commands completed successfully."
      ]
     },
     "metadata": {},
     "output_type": "display_data"
    },
    {
     "data": {
      "text/html": [
       "Total execution time: 00:00:00.257"
      ]
     },
     "metadata": {},
     "output_type": "display_data"
    }
   ],
   "source": [
    "DROP FUNCTION Sales.fn_LineTotal;\n",
    "GO"
   ]
  },
  {
   "cell_type": "markdown",
   "metadata": {
    "azdata_cell_guid": "67ac03da-6a6f-4325-a243-538683990fdf"
   },
   "source": [
    "3. Utilizando Tablas Derivadas"
   ]
  },
  {
   "cell_type": "markdown",
   "metadata": {
    "azdata_cell_guid": "62a04a96-faa5-4dfd-963b-2652e3f6baf0"
   },
   "source": [
    "3.1. Visualizando alias internos de columnas."
   ]
  },
  {
   "cell_type": "code",
   "execution_count": 11,
   "metadata": {
    "azdata_cell_guid": "bfb6b271-b14d-402d-ae3e-f9a2ba06e6e9"
   },
   "outputs": [
    {
     "data": {
      "text/html": [
       "(3 rows affected)"
      ]
     },
     "metadata": {},
     "output_type": "display_data"
    },
    {
     "data": {
      "text/html": [
       "Total execution time: 00:00:00.315"
      ]
     },
     "metadata": {},
     "output_type": "display_data"
    },
    {
     "data": {
      "application/vnd.dataresource+json": {
       "data": [
        {
         "0": "2006",
         "1": "67"
        },
        {
         "0": "2007",
         "1": "86"
        },
        {
         "0": "2008",
         "1": "81"
        }
       ],
       "schema": {
        "fields": [
         {
          "name": "orderyear"
         },
         {
          "name": "cust_count"
         }
        ]
       }
      },
      "text/html": [
       "<table><tr><th>orderyear</th><th>cust_count</th></tr><tr><td>2006</td><td>67</td></tr><tr><td>2007</td><td>86</td></tr><tr><td>2008</td><td>81</td></tr></table>"
      ]
     },
     "execution_count": 11,
     "metadata": {},
     "output_type": "execute_result"
    }
   ],
   "source": [
    "SELECT orderyear, COUNT(DISTINCT custid) AS cust_count\n",
    "FROM (SELECT YEAR(orderdate) AS orderyear, custid\n",
    "FROM Sales.Orders) AS derived_year\n",
    "GROUP BY orderyear;"
   ]
  },
  {
   "cell_type": "markdown",
   "metadata": {
    "azdata_cell_guid": "072b573f-184b-4bdb-9d95-a5cc6843c263"
   },
   "source": [
    "3.2. Utilizando una variable como parametro de una tabla derivada"
   ]
  },
  {
   "cell_type": "code",
   "execution_count": 12,
   "metadata": {
    "azdata_cell_guid": "102b8e03-32f5-4926-a0d3-eb0694e78f52"
   },
   "outputs": [
    {
     "data": {
      "text/html": [
       "(3 rows affected)"
      ]
     },
     "metadata": {},
     "output_type": "display_data"
    },
    {
     "data": {
      "text/html": [
       "Total execution time: 00:00:00.288"
      ]
     },
     "metadata": {},
     "output_type": "display_data"
    },
    {
     "data": {
      "application/vnd.dataresource+json": {
       "data": [
        {
         "0": "2006",
         "1": "5"
        },
        {
         "0": "2007",
         "1": "16"
        },
        {
         "0": "2008",
         "1": "16"
        }
       ],
       "schema": {
        "fields": [
         {
          "name": "orderyear"
         },
         {
          "name": "cust_count"
         }
        ]
       }
      },
      "text/html": [
       "<table><tr><th>orderyear</th><th>cust_count</th></tr><tr><td>2006</td><td>5</td></tr><tr><td>2007</td><td>16</td></tr><tr><td>2008</td><td>16</td></tr></table>"
      ]
     },
     "execution_count": 12,
     "metadata": {},
     "output_type": "execute_result"
    }
   ],
   "source": [
    "DECLARE @emp_id INT = 9;\n",
    "SELECT orderyear, COUNT(DISTINCT custid) AS cust_count\n",
    "FROM (\t\n",
    "\tSELECT YEAR(orderdate) AS orderyear, custid\n",
    "\tFROM Sales.Orders\n",
    "\tWHERE empid=@emp_id\n",
    ") AS derived_year\n",
    "GROUP BY orderyear;"
   ]
  },
  {
   "cell_type": "markdown",
   "metadata": {
    "azdata_cell_guid": "7865e0a5-8892-4bc2-9065-44e1579469a7"
   },
   "source": [
    "3.3. Enlazando tablas derivadas"
   ]
  },
  {
   "cell_type": "code",
   "execution_count": 13,
   "metadata": {
    "azdata_cell_guid": "f3e9b629-8125-4d93-ac7c-4e6d749fdc1b"
   },
   "outputs": [
    {
     "data": {
      "text/html": [
       "(2 rows affected)"
      ]
     },
     "metadata": {},
     "output_type": "display_data"
    },
    {
     "data": {
      "text/html": [
       "Total execution time: 00:00:00.303"
      ]
     },
     "metadata": {},
     "output_type": "display_data"
    },
    {
     "data": {
      "application/vnd.dataresource+json": {
       "data": [
        {
         "0": "2007",
         "1": "86"
        },
        {
         "0": "2008",
         "1": "81"
        }
       ],
       "schema": {
        "fields": [
         {
          "name": "orderyear"
         },
         {
          "name": "cust_count"
         }
        ]
       }
      },
      "text/html": [
       "<table><tr><th>orderyear</th><th>cust_count</th></tr><tr><td>2007</td><td>86</td></tr><tr><td>2008</td><td>81</td></tr></table>"
      ]
     },
     "execution_count": 13,
     "metadata": {},
     "output_type": "execute_result"
    }
   ],
   "source": [
    "SELECT orderyear, cust_count\n",
    "FROM  (\n",
    "\tSELECT  orderyear, COUNT(DISTINCT custid) AS cust_count\n",
    "\tFROM (\n",
    "\t\tSELECT YEAR(orderdate) AS orderyear ,custid\n",
    "        FROM Sales.Orders) AS derived_table_1\n",
    "\tGROUP BY orderyear) AS derived_table_2\n",
    "WHERE cust_count > 80;"
   ]
  },
  {
   "cell_type": "markdown",
   "metadata": {
    "azdata_cell_guid": "42f68f6c-0b5b-4fe2-b970-b826eb082381"
   },
   "source": [
    "3.4. Una alternativa al ejemplo anterior sería."
   ]
  },
  {
   "cell_type": "code",
   "execution_count": 14,
   "metadata": {
    "azdata_cell_guid": "274c7ae7-e927-4d14-85b5-13f090e4fa96"
   },
   "outputs": [
    {
     "data": {
      "text/html": [
       "(2 rows affected)"
      ]
     },
     "metadata": {},
     "output_type": "display_data"
    },
    {
     "data": {
      "text/html": [
       "Total execution time: 00:00:00.245"
      ]
     },
     "metadata": {},
     "output_type": "display_data"
    },
    {
     "data": {
      "application/vnd.dataresource+json": {
       "data": [
        {
         "0": "2007",
         "1": "86"
        },
        {
         "0": "2008",
         "1": "81"
        }
       ],
       "schema": {
        "fields": [
         {
          "name": "orderyear"
         },
         {
          "name": "cust_count"
         }
        ]
       }
      },
      "text/html": [
       "<table><tr><th>orderyear</th><th>cust_count</th></tr><tr><td>2007</td><td>86</td></tr><tr><td>2008</td><td>81</td></tr></table>"
      ]
     },
     "execution_count": 14,
     "metadata": {},
     "output_type": "execute_result"
    }
   ],
   "source": [
    "SELECT orderyear, COUNT(DISTINCT custid) AS cust_count\n",
    "\tFROM (\n",
    "\t\tSELECT YEAR(orderdate) AS orderyear ,custid\n",
    "        FROM Sales.Orders) AS derived_table_1\n",
    "\tGROUP BY orderyear\n",
    "HAVING COUNT(DISTINCT custid) > 80;"
   ]
  },
  {
   "cell_type": "markdown",
   "metadata": {
    "azdata_cell_guid": "e9d99ccb-9cdf-4985-9089-9a6013ac0062"
   },
   "source": [
    "4. Utilizando Expresions Comunes de Tabla"
   ]
  },
  {
   "cell_type": "markdown",
   "metadata": {
    "azdata_cell_guid": "dab4fff2-6337-4108-94af-f8c42ac6eb9c"
   },
   "source": [
    "4.1. Ejecutar la siguiente expresión."
   ]
  },
  {
   "cell_type": "code",
   "execution_count": 15,
   "metadata": {
    "azdata_cell_guid": "4fac3133-24fc-4b51-963a-aea35b7653af"
   },
   "outputs": [
    {
     "data": {
      "text/html": [
       "(3 rows affected)"
      ]
     },
     "metadata": {},
     "output_type": "display_data"
    },
    {
     "data": {
      "text/html": [
       "Total execution time: 00:00:00.218"
      ]
     },
     "metadata": {},
     "output_type": "display_data"
    },
    {
     "data": {
      "application/vnd.dataresource+json": {
       "data": [
        {
         "0": "2006",
         "1": "67"
        },
        {
         "0": "2007",
         "1": "86"
        },
        {
         "0": "2008",
         "1": "81"
        }
       ],
       "schema": {
        "fields": [
         {
          "name": "orderyear"
         },
         {
          "name": "cust_count"
         }
        ]
       }
      },
      "text/html": [
       "<table><tr><th>orderyear</th><th>cust_count</th></tr><tr><td>2006</td><td>67</td></tr><tr><td>2007</td><td>86</td></tr><tr><td>2008</td><td>81</td></tr></table>"
      ]
     },
     "execution_count": 15,
     "metadata": {},
     "output_type": "execute_result"
    }
   ],
   "source": [
    "WITH CTE_year AS\n",
    "\t(\n",
    "\tSELECT YEAR(orderdate) AS orderyear, custid\n",
    "\tFROM Sales.Orders\n",
    "\t)\n",
    "SELECT orderyear, COUNT(DISTINCT custid) AS cust_count\n",
    "FROM CTE_year\n",
    "GROUP BY orderyear;"
   ]
  },
  {
   "cell_type": "markdown",
   "metadata": {
    "azdata_cell_guid": "0e1b50b9-64f5-4819-a780-b5136160f7d9"
   },
   "source": [
    "4.2. También se puede utilizar de modo recursico"
   ]
  },
  {
   "cell_type": "code",
   "execution_count": 16,
   "metadata": {
    "azdata_cell_guid": "a8c43737-adff-47cc-aa55-a22e1048d379"
   },
   "outputs": [
    {
     "data": {
      "text/html": [
       "(4 rows affected)"
      ]
     },
     "metadata": {},
     "output_type": "display_data"
    },
    {
     "data": {
      "text/html": [
       "Total execution time: 00:00:00.243"
      ]
     },
     "metadata": {},
     "output_type": "display_data"
    },
    {
     "data": {
      "application/vnd.dataresource+json": {
       "data": [
        {
         "0": "5",
         "1": "2",
         "2": "Buck",
         "3": "Sven"
        },
        {
         "0": "6",
         "1": "5",
         "2": "Suurs",
         "3": "Paul"
        },
        {
         "0": "7",
         "1": "5",
         "2": "King",
         "3": "Russell"
        },
        {
         "0": "9",
         "1": "5",
         "2": "Dolgopyatova",
         "3": "Zoya"
        }
       ],
       "schema": {
        "fields": [
         {
          "name": "empid"
         },
         {
          "name": "mgrid"
         },
         {
          "name": "lastname"
         },
         {
          "name": "firstname"
         }
        ]
       }
      },
      "text/html": [
       "<table><tr><th>empid</th><th>mgrid</th><th>lastname</th><th>firstname</th></tr><tr><td>5</td><td>2</td><td>Buck</td><td>Sven</td></tr><tr><td>6</td><td>5</td><td>Suurs</td><td>Paul</td></tr><tr><td>7</td><td>5</td><td>King</td><td>Russell</td></tr><tr><td>9</td><td>5</td><td>Dolgopyatova</td><td>Zoya</td></tr></table>"
      ]
     },
     "execution_count": 16,
     "metadata": {},
     "output_type": "execute_result"
    }
   ],
   "source": [
    "WITH EmpOrg_CTE AS\n",
    "(SELECT empid, mgrid, lastname, firstname --anchor query\n",
    "\tFROM HR.Employees\n",
    "WHERE empid = 5 -- starting \"top\" of tree. Change this to show other root employees\n",
    "\n",
    "UNION ALL\n",
    "SELECT child.empid, child.mgrid, child.lastname, child.firstname -- recursive member which refers back to CTE\n",
    "\tFROM EmpOrg_CTE AS parent\n",
    "\tJOIN HR.Employees AS child\n",
    "\tON child.mgrid=parent.empid\n",
    ")\n",
    "SELECT empid, mgrid, lastname, firstname\n",
    "FROM EmpOrg_CTE;"
   ]
  }
 ],
 "metadata": {
  "kernelspec": {
   "display_name": "Python 3",
   "language": "python",
   "name": "python3"
  },
  "language_info": {
   "codemirror_mode": {
    "name": "ipython",
    "version": 3
   },
   "file_extension": ".py",
   "mimetype": "text/x-python",
   "name": "python",
   "nbconvert_exporter": "python",
   "pygments_lexer": "ipython3",
   "version": "3.8.5"
  }
 },
 "nbformat": 4,
 "nbformat_minor": 2
}
