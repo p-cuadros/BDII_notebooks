{
    "metadata": {
        "kernelspec": {
            "name": "SQL",
            "display_name": "SQL",
            "language": "sql"
        },
        "language_info": {
            "name": "sql",
            "version": ""
        }
    },
    "nbformat_minor": 2,
    "nbformat": 4,
    "cells": [
        {
            "cell_type": "markdown",
            "source": [
                "<h1><center>Implementando Transacciones"
            ],
            "metadata": {
                "azdata_cell_guid": "4646d7f8-3931-4da9-8e5c-dbd0f6217508"
            }
        },
        {
            "cell_type": "markdown",
            "source": [
                "<h2>Parte 01. Transacciones y el motor de base de datos"
            ],
            "metadata": {
                "azdata_cell_guid": "1e34cdc9-ac38-47fb-ad8c-1480f4daba77"
            }
        },
        {
            "cell_type": "markdown",
            "source": [
                "1.1. Abrir la base de datos TSQL."
            ],
            "metadata": {
                "azdata_cell_guid": "b5579a5a-ccb6-47d5-8c05-87496da5b3dc"
            }
        },
        {
            "cell_type": "code",
            "source": [
                "USE TSQL;\r\n",
                "GO"
            ],
            "metadata": {
                "azdata_cell_guid": "cecb48aa-66e4-47fd-be85-74d1ddecd1bb"
            },
            "outputs": [
                {
                    "output_type": "display_data",
                    "data": {
                        "text/html": "Commands completed successfully."
                    },
                    "metadata": {}
                },
                {
                    "output_type": "display_data",
                    "data": {
                        "text/html": "Total execution time: 00:00:00.181"
                    },
                    "metadata": {}
                }
            ],
            "execution_count": 1
        },
        {
            "cell_type": "markdown",
            "source": [
                "1.2. Procedemos a crear dos tablas para las demostraciones"
            ],
            "metadata": {
                "azdata_cell_guid": "e5a29ebd-3b26-4031-b079-a86a6f8aabc6"
            }
        },
        {
            "cell_type": "code",
            "source": [
                "IF OBJECT_ID('dbo.SimpleOrderDetails','U') IS NOT NULL\r\n",
                "\tDROP TABLE dbo.SimpleOrderDetails;\r\n",
                "IF OBJECT_ID('dbo.SimpleOrders','U') IS NOT NULL\r\n",
                "\tDROP TABLE dbo.SimpleOrders;\r\n",
                "GO\r\n",
                "CREATE TABLE dbo.SimpleOrders(\r\n",
                "\torderid int IDENTITY(1,1) NOT NULL PRIMARY KEY,\r\n",
                "\tcustid int NOT NULL FOREIGN KEY REFERENCES Sales.Customers(custid),\r\n",
                "\tempid int NOT NULL FOREIGN KEY REFERENCES HR.Employees(empid),\r\n",
                "\torderdate datetime NOT NULL\r\n",
                ");\r\n",
                "GO\r\n",
                "CREATE TABLE dbo.SimpleOrderDetails(\r\n",
                "\torderid int NOT NULL FOREIGN KEY REFERENCES dbo.SimpleOrders(orderid),\r\n",
                "\tproductid int NOT NULL FOREIGN KEY REFERENCES Production.Products(productid),\r\n",
                "\tunitprice money NOT NULL,\r\n",
                "\tqty smallint NOT NULL,\r\n",
                " CONSTRAINT PK_OrderDetails PRIMARY KEY (orderid, productid)\r\n",
                ");\r\n",
                "GO"
            ],
            "metadata": {
                "azdata_cell_guid": "eb7d2174-30c6-4238-9f2a-08f2ab10f543"
            },
            "outputs": [
                {
                    "output_type": "display_data",
                    "data": {
                        "text/html": "Commands completed successfully."
                    },
                    "metadata": {}
                },
                {
                    "output_type": "display_data",
                    "data": {
                        "text/html": "Commands completed successfully."
                    },
                    "metadata": {}
                },
                {
                    "output_type": "display_data",
                    "data": {
                        "text/html": "Commands completed successfully."
                    },
                    "metadata": {}
                },
                {
                    "output_type": "display_data",
                    "data": {
                        "text/html": "Total execution time: 00:00:00.499"
                    },
                    "metadata": {}
                }
            ],
            "execution_count": 2
        },
        {
            "cell_type": "markdown",
            "source": [
                "1.3. Ahora ejecutamos multiples setencias de manipulaci{on de datos contra las tablas recién creadas. (Se producira un Error)"
            ],
            "metadata": {
                "azdata_cell_guid": "ffd1cafc-22f5-4430-8c8d-3b73502dd3f2"
            }
        },
        {
            "cell_type": "code",
            "source": [
                "BEGIN TRY\r\n",
                "\tINSERT INTO dbo.SimpleOrders(custid, empid, orderdate) VALUES (68,9,'2006-07-12');\r\n",
                "\tINSERT INTO dbo.SimpleOrders(custid, empid, orderdate) VALUES (88,3,'2006-07-15');\r\n",
                "\tINSERT INTO dbo.SimpleOrderDetails(orderid,productid,unitprice,qty) VALUES (1, 2,15.20,20);\r\n",
                "\tINSERT INTO dbo.SimpleOrderDetails(orderid,productid,unitprice,qty) VALUES (999,77,26.20,15);\r\n",
                "END TRY\r\n",
                "BEGIN CATCH\r\n",
                "\tSELECT ERROR_NUMBER() AS ErrNum, ERROR_MESSAGE() AS ErrMsg;\r\n",
                "END CATCH;"
            ],
            "metadata": {
                "azdata_cell_guid": "c683c990-1687-4176-9537-80aa9e0c42bd"
            },
            "outputs": [
                {
                    "output_type": "display_data",
                    "data": {
                        "text/html": "(1 row affected)"
                    },
                    "metadata": {}
                },
                {
                    "output_type": "display_data",
                    "data": {
                        "text/html": "(1 row affected)"
                    },
                    "metadata": {}
                },
                {
                    "output_type": "display_data",
                    "data": {
                        "text/html": "(1 row affected)"
                    },
                    "metadata": {}
                },
                {
                    "output_type": "display_data",
                    "data": {
                        "text/html": "(0 rows affected)"
                    },
                    "metadata": {}
                },
                {
                    "output_type": "display_data",
                    "data": {
                        "text/html": "(1 row affected)"
                    },
                    "metadata": {}
                },
                {
                    "output_type": "display_data",
                    "data": {
                        "text/html": "Total execution time: 00:00:00.602"
                    },
                    "metadata": {}
                },
                {
                    "output_type": "execute_result",
                    "metadata": {},
                    "execution_count": 3,
                    "data": {
                        "application/vnd.dataresource+json": {
                            "schema": {
                                "fields": [
                                    {
                                        "name": "ErrNum"
                                    },
                                    {
                                        "name": "ErrMsg"
                                    }
                                ]
                            },
                            "data": [
                                {
                                    "0": "547",
                                    "1": "The INSERT statement conflicted with the FOREIGN KEY constraint \"FK__SimpleOrd__order__5EBF139D\". The conflict occurred in database \"TSQL\", table \"dbo.SimpleOrders\", column 'orderid'."
                                }
                            ]
                        },
                        "text/html": [
                            "<table>",
                            "<tr><th>ErrNum</th><th>ErrMsg</th></tr>",
                            "<tr><td>547</td><td>The INSERT statement conflicted with the FOREIGN KEY constraint &quot;FK__SimpleOrd__order__5EBF139D&quot;. The conflict occurred in database &quot;TSQL&quot;, table &quot;dbo.SimpleOrders&quot;, column 'orderid'.</td></tr>",
                            "</table>"
                        ]
                    }
                }
            ],
            "execution_count": 3
        },
        {
            "cell_type": "markdown",
            "source": [
                "1.4. Verificamos que inclusive con una excepción, parcialmente se han insertado ciertos registros"
            ],
            "metadata": {
                "azdata_cell_guid": "4ba1fee2-8f90-42f8-bef6-9f3313aa061f"
            }
        },
        {
            "cell_type": "code",
            "source": [
                "SELECT  orderid, custid, empid, orderdate\r\n",
                "FROM dbo.SimpleOrders;\r\n",
                "SELECT  orderid, productid, unitprice, qty\r\n",
                "FROM dbo.SimpleOrderDetails;"
            ],
            "metadata": {
                "azdata_cell_guid": "6b39d7fc-435f-4992-9b70-61df93057737"
            },
            "outputs": [
                {
                    "output_type": "display_data",
                    "data": {
                        "text/html": "(2 rows affected)"
                    },
                    "metadata": {}
                },
                {
                    "output_type": "display_data",
                    "data": {
                        "text/html": "(1 row affected)"
                    },
                    "metadata": {}
                },
                {
                    "output_type": "display_data",
                    "data": {
                        "text/html": "Total execution time: 00:00:00.252"
                    },
                    "metadata": {}
                },
                {
                    "output_type": "execute_result",
                    "metadata": {},
                    "execution_count": 4,
                    "data": {
                        "application/vnd.dataresource+json": {
                            "schema": {
                                "fields": [
                                    {
                                        "name": "orderid"
                                    },
                                    {
                                        "name": "custid"
                                    },
                                    {
                                        "name": "empid"
                                    },
                                    {
                                        "name": "orderdate"
                                    }
                                ]
                            },
                            "data": [
                                {
                                    "0": "1",
                                    "1": "68",
                                    "2": "9",
                                    "3": "2006-07-12 00:00:00.000"
                                },
                                {
                                    "0": "2",
                                    "1": "88",
                                    "2": "3",
                                    "3": "2006-07-15 00:00:00.000"
                                }
                            ]
                        },
                        "text/html": [
                            "<table>",
                            "<tr><th>orderid</th><th>custid</th><th>empid</th><th>orderdate</th></tr>",
                            "<tr><td>1</td><td>68</td><td>9</td><td>2006-07-12 00:00:00.000</td></tr>",
                            "<tr><td>2</td><td>88</td><td>3</td><td>2006-07-15 00:00:00.000</td></tr>",
                            "</table>"
                        ]
                    }
                },
                {
                    "output_type": "execute_result",
                    "metadata": {},
                    "execution_count": 4,
                    "data": {
                        "application/vnd.dataresource+json": {
                            "schema": {
                                "fields": [
                                    {
                                        "name": "orderid"
                                    },
                                    {
                                        "name": "productid"
                                    },
                                    {
                                        "name": "unitprice"
                                    },
                                    {
                                        "name": "qty"
                                    }
                                ]
                            },
                            "data": [
                                {
                                    "0": "1",
                                    "1": "2",
                                    "2": "15.2000",
                                    "3": "20"
                                }
                            ]
                        },
                        "text/html": [
                            "<table>",
                            "<tr><th>orderid</th><th>productid</th><th>unitprice</th><th>qty</th></tr>",
                            "<tr><td>1</td><td>2</td><td>15.2000</td><td>20</td></tr>",
                            "</table>"
                        ]
                    }
                }
            ],
            "execution_count": 4
        },
        {
            "cell_type": "markdown",
            "source": [
                "1.5. Finalizamos limpiando los objetos creados."
            ],
            "metadata": {
                "azdata_cell_guid": "3f7923fe-141d-4614-8f0a-2de0b7d81c3e"
            }
        },
        {
            "cell_type": "code",
            "source": [
                "IF OBJECT_ID('dbo.SimpleOrderDetails','U') IS NOT NULL\r\n",
                "\tDROP TABLE dbo.SimpleOrderDetails;\r\n",
                "IF OBJECT_ID('dbo.SimpleOrders','U') IS NOT NULL\r\n",
                "\tDROP TABLE dbo.SimpleOrders;"
            ],
            "metadata": {
                "azdata_cell_guid": "8602abd0-3bcd-4352-9f62-b2519a00b32a"
            },
            "outputs": [
                {
                    "output_type": "display_data",
                    "data": {
                        "text/html": "Commands completed successfully."
                    },
                    "metadata": {}
                },
                {
                    "output_type": "display_data",
                    "data": {
                        "text/html": "Total execution time: 00:00:00.147"
                    },
                    "metadata": {}
                }
            ],
            "execution_count": 5
        },
        {
            "cell_type": "markdown",
            "source": [
                "<h2>Parte 02. Controlando transacciones."
            ],
            "metadata": {
                "azdata_cell_guid": "98e712f2-350c-4eb9-b999-03a9d22b784a"
            }
        },
        {
            "cell_type": "markdown",
            "source": [
                "2.1. Creamos las tablas para la demostración."
            ],
            "metadata": {
                "azdata_cell_guid": "07150974-20a8-4484-b1f2-1c8eb0effa6a"
            }
        },
        {
            "cell_type": "code",
            "source": [
                "IF OBJECT_ID('dbo.SimpleOrderDetails','U') IS NOT NULL\r\n",
                "\tDROP TABLE dbo.SimpleOrderDetails;\r\n",
                "IF OBJECT_ID('dbo.SimpleOrders','U') IS NOT NULL\r\n",
                "\tDROP TABLE dbo.SimpleOrders;\r\n",
                "GO\r\n",
                "CREATE TABLE dbo.SimpleOrders(\r\n",
                "\torderid int IDENTITY(1,1) NOT NULL PRIMARY KEY,\r\n",
                "\tcustid int NOT NULL FOREIGN KEY REFERENCES Sales.Customers(custid),\r\n",
                "\tempid int NOT NULL FOREIGN KEY REFERENCES HR.Employees(empid),\r\n",
                "\torderdate datetime NOT NULL\r\n",
                ");\r\n",
                "GO\r\n",
                "CREATE TABLE dbo.SimpleOrderDetails(\r\n",
                "\torderid int NOT NULL FOREIGN KEY REFERENCES dbo.SimpleOrders(orderid),\r\n",
                "\tproductid int NOT NULL FOREIGN KEY REFERENCES Production.Products(productid),\r\n",
                "\tunitprice money NOT NULL,\r\n",
                "\tqty smallint NOT NULL,\r\n",
                " CONSTRAINT PK_OrderDetails PRIMARY KEY (orderid, productid)\r\n",
                ");\r\n",
                "GO"
            ],
            "metadata": {
                "azdata_cell_guid": "bf8059b7-485b-43a1-9634-58195116c74d"
            },
            "outputs": [
                {
                    "output_type": "display_data",
                    "data": {
                        "text/html": "Commands completed successfully."
                    },
                    "metadata": {}
                },
                {
                    "output_type": "display_data",
                    "data": {
                        "text/html": "Commands completed successfully."
                    },
                    "metadata": {}
                },
                {
                    "output_type": "display_data",
                    "data": {
                        "text/html": "Commands completed successfully."
                    },
                    "metadata": {}
                },
                {
                    "output_type": "display_data",
                    "data": {
                        "text/html": "Total execution time: 00:00:00.531"
                    },
                    "metadata": {}
                }
            ],
            "execution_count": 13
        },
        {
            "cell_type": "markdown",
            "source": [
                "2.2. Crear una transacción con varias instrucciones INSERT para crear una unica uniad de trabajo."
            ],
            "metadata": {
                "azdata_cell_guid": "1d2adc85-8e43-4cf7-9ac3-9313a0bc3db8"
            }
        },
        {
            "cell_type": "code",
            "source": [
                "BEGIN TRY\r\n",
                "\tBEGIN TRANSACTION\r\n",
                "\t\tINSERT INTO dbo.SimpleOrders(custid, empid, orderdate) VALUES (68,9,'2006-07-12');\r\n",
                "\t\tINSERT INTO dbo.SimpleOrderDetails(orderid,productid,unitprice,qty) VALUES (1, 2,15.20,20);\r\n",
                "\tCOMMIT TRANSACTION\r\n",
                "END TRY\r\n",
                "BEGIN CATCH\r\n",
                "\tSELECT ERROR_NUMBER() AS ErrNum, ERROR_MESSAGE() AS ErrMsg;\r\n",
                "\tROLLBACK TRANSACTION\r\n",
                "END CATCH;"
            ],
            "metadata": {
                "azdata_cell_guid": "fda979b2-28e3-4359-9272-557715348c36"
            },
            "outputs": [
                {
                    "output_type": "display_data",
                    "data": {
                        "text/html": "(1 row affected)"
                    },
                    "metadata": {}
                },
                {
                    "output_type": "display_data",
                    "data": {
                        "text/html": "(1 row affected)"
                    },
                    "metadata": {}
                },
                {
                    "output_type": "display_data",
                    "data": {
                        "text/html": "Total execution time: 00:00:00.140"
                    },
                    "metadata": {}
                }
            ],
            "execution_count": 7
        },
        {
            "cell_type": "markdown",
            "source": [
                "2.3. Verificar el resultado."
            ],
            "metadata": {
                "azdata_cell_guid": "a15f164f-01e7-4a80-92b8-98d4803aa31e"
            }
        },
        {
            "cell_type": "code",
            "source": [
                "SELECT  orderid, custid, empid, orderdate\r\n",
                "FROM dbo.SimpleOrders;\r\n",
                "SELECT  orderid, productid, unitprice, qty\r\n",
                "FROM dbo.SimpleOrderDetails;"
            ],
            "metadata": {
                "azdata_cell_guid": "ff63bc14-01b0-49e6-a2e9-4ffe2f712d2f"
            },
            "outputs": [
                {
                    "output_type": "display_data",
                    "data": {
                        "text/html": "(1 row affected)"
                    },
                    "metadata": {}
                },
                {
                    "output_type": "display_data",
                    "data": {
                        "text/html": "(1 row affected)"
                    },
                    "metadata": {}
                },
                {
                    "output_type": "display_data",
                    "data": {
                        "text/html": "Total execution time: 00:00:00.266"
                    },
                    "metadata": {}
                },
                {
                    "output_type": "execute_result",
                    "metadata": {},
                    "execution_count": 8,
                    "data": {
                        "application/vnd.dataresource+json": {
                            "schema": {
                                "fields": [
                                    {
                                        "name": "orderid"
                                    },
                                    {
                                        "name": "custid"
                                    },
                                    {
                                        "name": "empid"
                                    },
                                    {
                                        "name": "orderdate"
                                    }
                                ]
                            },
                            "data": [
                                {
                                    "0": "1",
                                    "1": "68",
                                    "2": "9",
                                    "3": "2006-07-12 00:00:00.000"
                                }
                            ]
                        },
                        "text/html": [
                            "<table>",
                            "<tr><th>orderid</th><th>custid</th><th>empid</th><th>orderdate</th></tr>",
                            "<tr><td>1</td><td>68</td><td>9</td><td>2006-07-12 00:00:00.000</td></tr>",
                            "</table>"
                        ]
                    }
                },
                {
                    "output_type": "execute_result",
                    "metadata": {},
                    "execution_count": 8,
                    "data": {
                        "application/vnd.dataresource+json": {
                            "schema": {
                                "fields": [
                                    {
                                        "name": "orderid"
                                    },
                                    {
                                        "name": "productid"
                                    },
                                    {
                                        "name": "unitprice"
                                    },
                                    {
                                        "name": "qty"
                                    }
                                ]
                            },
                            "data": [
                                {
                                    "0": "1",
                                    "1": "2",
                                    "2": "15.2000",
                                    "3": "20"
                                }
                            ]
                        },
                        "text/html": [
                            "<table>",
                            "<tr><th>orderid</th><th>productid</th><th>unitprice</th><th>qty</th></tr>",
                            "<tr><td>1</td><td>2</td><td>15.2000</td><td>20</td></tr>",
                            "</table>"
                        ]
                    }
                }
            ],
            "execution_count": 8
        },
        {
            "cell_type": "markdown",
            "source": [
                "2.4. Eliminamos todas las filas creadas anteriormente."
            ],
            "metadata": {
                "azdata_cell_guid": "c8871dd3-4653-4aba-baed-666f7f554e4c"
            }
        },
        {
            "cell_type": "code",
            "source": [
                "DELETE FROM dbo.SimpleOrderDetails;\r\n",
                "GO\r\n",
                "DELETE FROM dbo.SimpleOrders;\r\n",
                "GO"
            ],
            "metadata": {
                "azdata_cell_guid": "39b36f93-c905-41bf-af03-55f7cb3365fd"
            },
            "outputs": [
                {
                    "output_type": "display_data",
                    "data": {
                        "text/html": "(1 row affected)"
                    },
                    "metadata": {}
                },
                {
                    "output_type": "display_data",
                    "data": {
                        "text/html": "(1 row affected)"
                    },
                    "metadata": {}
                },
                {
                    "output_type": "display_data",
                    "data": {
                        "text/html": "Total execution time: 00:00:00.381"
                    },
                    "metadata": {}
                }
            ],
            "execution_count": 9
        },
        {
            "cell_type": "markdown",
            "source": [
                "2.5. Ejecutamos nuevamente pero ahora con errores para ver el manejo de ROLLBACK."
            ],
            "metadata": {
                "azdata_cell_guid": "8c5436e5-9722-4d1f-a4b2-8058aeaf7925"
            }
        },
        {
            "cell_type": "code",
            "source": [
                "BEGIN TRY\r\n",
                "\tBEGIN TRANSACTION\r\n",
                "\t\tINSERT INTO dbo.SimpleOrders(custid, empid, orderdate) VALUES (68,9,'2006-07-15');\r\n",
                "\t\tINSERT INTO dbo.SimpleOrderDetails(orderid,productid,unitprice,qty) VALUES (99, 2,15.20,20);\r\n",
                "\tCOMMIT TRANSACTION\r\n",
                "END TRY\r\n",
                "BEGIN CATCH\r\n",
                "\tSELECT ERROR_NUMBER() AS ErrNum, ERROR_MESSAGE() AS ErrMsg;\r\n",
                "\tROLLBACK TRANSACTION\r\n",
                "END CATCH;"
            ],
            "metadata": {
                "azdata_cell_guid": "442fe91d-3013-4f6f-83a7-9a29804052c0"
            },
            "outputs": [
                {
                    "output_type": "display_data",
                    "data": {
                        "text/html": "(1 row affected)"
                    },
                    "metadata": {}
                },
                {
                    "output_type": "display_data",
                    "data": {
                        "text/html": "(0 rows affected)"
                    },
                    "metadata": {}
                },
                {
                    "output_type": "display_data",
                    "data": {
                        "text/html": "(1 row affected)"
                    },
                    "metadata": {}
                },
                {
                    "output_type": "display_data",
                    "data": {
                        "text/html": "Total execution time: 00:00:00.319"
                    },
                    "metadata": {}
                },
                {
                    "output_type": "execute_result",
                    "metadata": {},
                    "execution_count": 14,
                    "data": {
                        "application/vnd.dataresource+json": {
                            "schema": {
                                "fields": [
                                    {
                                        "name": "ErrNum"
                                    },
                                    {
                                        "name": "ErrMsg"
                                    }
                                ]
                            },
                            "data": [
                                {
                                    "0": "547",
                                    "1": "The INSERT statement conflicted with the FOREIGN KEY constraint \"FK__SimpleOrd__order__6E01572D\". The conflict occurred in database \"TSQL\", table \"dbo.SimpleOrders\", column 'orderid'."
                                }
                            ]
                        },
                        "text/html": [
                            "<table>",
                            "<tr><th>ErrNum</th><th>ErrMsg</th></tr>",
                            "<tr><td>547</td><td>The INSERT statement conflicted with the FOREIGN KEY constraint &quot;FK__SimpleOrd__order__6E01572D&quot;. The conflict occurred in database &quot;TSQL&quot;, table &quot;dbo.SimpleOrders&quot;, column 'orderid'.</td></tr>",
                            "</table>"
                        ]
                    }
                }
            ],
            "execution_count": 14
        },
        {
            "cell_type": "markdown",
            "source": [
                "2.6. Verificamos que ningún resultado parcial permanece."
            ],
            "metadata": {
                "azdata_cell_guid": "444aaaeb-f84b-47ca-abc4-ce7e0df89b6b"
            }
        },
        {
            "cell_type": "code",
            "source": [
                "SELECT  orderid, custid, empid, orderdate\r\n",
                "FROM dbo.SimpleOrders;\r\n",
                "SELECT  orderid, productid, unitprice, qty\r\n",
                "FROM dbo.SimpleOrderDetails;"
            ],
            "metadata": {
                "azdata_cell_guid": "5b25dd58-bafe-4959-a30e-36b1053b79e9"
            },
            "outputs": [
                {
                    "output_type": "display_data",
                    "data": {
                        "text/html": "(1 row affected)"
                    },
                    "metadata": {}
                },
                {
                    "output_type": "display_data",
                    "data": {
                        "text/html": "(0 rows affected)"
                    },
                    "metadata": {}
                },
                {
                    "output_type": "display_data",
                    "data": {
                        "text/html": "Total execution time: 00:00:00.182"
                    },
                    "metadata": {}
                },
                {
                    "output_type": "execute_result",
                    "metadata": {},
                    "execution_count": 15,
                    "data": {
                        "application/vnd.dataresource+json": {
                            "schema": {
                                "fields": [
                                    {
                                        "name": "orderid"
                                    },
                                    {
                                        "name": "custid"
                                    },
                                    {
                                        "name": "empid"
                                    },
                                    {
                                        "name": "orderdate"
                                    }
                                ]
                            },
                            "data": [
                                {
                                    "0": "1",
                                    "1": "68",
                                    "2": "9",
                                    "3": "2006-07-15 00:00:00.000"
                                }
                            ]
                        },
                        "text/html": [
                            "<table>",
                            "<tr><th>orderid</th><th>custid</th><th>empid</th><th>orderdate</th></tr>",
                            "<tr><td>1</td><td>68</td><td>9</td><td>2006-07-15 00:00:00.000</td></tr>",
                            "</table>"
                        ]
                    }
                },
                {
                    "output_type": "execute_result",
                    "metadata": {},
                    "execution_count": 15,
                    "data": {
                        "application/vnd.dataresource+json": {
                            "schema": {
                                "fields": [
                                    {
                                        "name": "orderid"
                                    },
                                    {
                                        "name": "productid"
                                    },
                                    {
                                        "name": "unitprice"
                                    },
                                    {
                                        "name": "qty"
                                    }
                                ]
                            },
                            "data": []
                        },
                        "text/html": [
                            "<table>",
                            "<tr><th>orderid</th><th>productid</th><th>unitprice</th><th>qty</th></tr>",
                            "</table>"
                        ]
                    }
                }
            ],
            "execution_count": 15
        },
        {
            "cell_type": "markdown",
            "source": [
                "2.7. Limpiamos los cambios."
            ],
            "metadata": {
                "azdata_cell_guid": "e9ec1c11-0cdf-4be6-b642-42f1b29d05e7"
            }
        },
        {
            "cell_type": "code",
            "source": [
                "IF OBJECT_ID('dbo.SimpleOrderDetails','U') IS NOT NULL\r\n",
                "\tDROP TABLE dbo.SimpleOrderDetails;\r\n",
                "IF OBJECT_ID('dbo.SimpleOrders','U') IS NOT NULL\r\n",
                "\tDROP TABLE dbo.SimpleOrders;"
            ],
            "metadata": {
                "azdata_cell_guid": "a635d982-4794-4836-ac14-64012102fd01"
            },
            "outputs": [
                {
                    "output_type": "display_data",
                    "data": {
                        "text/html": "Commands completed successfully."
                    },
                    "metadata": {}
                },
                {
                    "output_type": "display_data",
                    "data": {
                        "text/html": "Total execution time: 00:00:00.186"
                    },
                    "metadata": {}
                }
            ],
            "execution_count": 16
        }
    ]
}