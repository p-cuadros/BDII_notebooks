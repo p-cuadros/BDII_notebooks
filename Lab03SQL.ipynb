{
    "metadata": {
        "kernelspec": {
            "name": "SQL",
            "display_name": "SQL",
            "language": "sql"
        },
        "language_info": {
            "name": "sql",
            "version": ""
        }
    },
    "nbformat_minor": 2,
    "nbformat": 4,
    "cells": [
        {
            "cell_type": "markdown",
            "source": [
                "<h1><center>Laboratorio N° 03: Utilizando Funciones de Agregación, Offset y Window Ranking"
            ],
            "metadata": {
                "azdata_cell_guid": "c8883e17-0f15-4c82-9c38-4cb9d501cc21"
            }
        },
        {
            "cell_type": "markdown",
            "source": [
                "<h2>Ejercicio 01. Escribir consultas que utilizan funciones de ranking"
            ],
            "metadata": {
                "azdata_cell_guid": "bd7158c3-af95-4d25-b025-ae421c65276b"
            }
        },
        {
            "cell_type": "markdown",
            "source": [
                "1.1. Abrir la base de datos TSQL."
            ],
            "metadata": {
                "azdata_cell_guid": "9d215a41-b704-44c4-8526-889e0869fd29"
            }
        },
        {
            "cell_type": "code",
            "source": [
                "USE TSQL;\r\n",
                "GO"
            ],
            "metadata": {
                "azdata_cell_guid": "0544951a-8456-4b65-870a-2082011db61a"
            },
            "outputs": [],
            "execution_count": null
        },
        {
            "cell_type": "markdown",
            "source": [
                "1.2. Escribir una sentencia SELECT statement traer las columnas orderid, orderdate y val columns en adición a la columna calculata llamada rowno desde la vista Sales.OrderValues. Usar la función ROW_NUMBER para devolver rowno. Ordenar el número de las filas por la columna orderdate."
            ],
            "metadata": {
                "azdata_cell_guid": "be9b946a-c88e-4efe-9def-c4e06bc2885a"
            }
        },
        {
            "cell_type": "code",
            "source": [
                ""
            ],
            "metadata": {
                "azdata_cell_guid": "e39ccbe5-d64d-4cad-8fd2-7358f2297222"
            },
            "outputs": [],
            "execution_count": null
        },
        {
            "cell_type": "markdown",
            "source": [
                "1.3. Copiar la sentencia previa T-SQL y modificarlo para incluir una columna adicional llamada rankno.\r\n",
                "Para crear rankno, utilizar la función RANK, con el ranking orden basado en la columna orderdate."
            ],
            "metadata": {
                "azdata_cell_guid": "7598d928-fe10-4a87-99e4-5fc3d52b7f23"
            }
        },
        {
            "cell_type": "code",
            "source": [
                ""
            ],
            "metadata": {
                "azdata_cell_guid": "887f0395-feb0-4097-a219-171ebe93b74c"
            },
            "outputs": [],
            "execution_count": null
        },
        {
            "cell_type": "markdown",
            "source": [
                "1.4. Escribir la sentencia SELECT para devolver las columnas orderid, orderdate, custid y val, asi como también como una columna calculada llamada orderrankno desde la vista the Sales.OrderValues. La columna orderrankno deberia mostrar el ranking por cada cliente independientemente, basada en la columna val ordernando de forma descendente."
            ],
            "metadata": {
                "azdata_cell_guid": "d65f3e81-a449-46ba-ae72-79e802cd9d62"
            }
        },
        {
            "cell_type": "code",
            "source": [
                ""
            ],
            "metadata": {
                "azdata_cell_guid": "fea4c949-bba5-4544-a333-6bf5b9ef7def"
            },
            "outputs": [],
            "execution_count": null
        },
        {
            "cell_type": "markdown",
            "source": [
                "1.5. Escribir una sentencia SELECT para traer la columnas custid y val de la vista Sales.OrderValues.\r\n",
                "Adicionar dos columnas calculadas:\r\n",
                "<li>orderyear como un año de la columna orderdate.\r\n",
                "<li>orderrankno como un ranking, particionado por el cliente y el año de orden y ordenado por el valor de orden de forma descendente."
            ],
            "metadata": {
                "azdata_cell_guid": "f5b3d952-f0ba-4f10-adc9-59f4059b152a"
            }
        },
        {
            "cell_type": "code",
            "source": [
                ""
            ],
            "metadata": {
                "azdata_cell_guid": "a945a333-9a54-4fef-bc22-cffb19589858"
            },
            "outputs": [],
            "execution_count": null
        },
        {
            "cell_type": "markdown",
            "source": [
                "1.6. Copiar la consulta la consulta previa y modificarla para filtrar solo las ordenes con los primeros dos rankings basado en la columna orderrankno."
            ],
            "metadata": {
                "azdata_cell_guid": "1c8541c9-5f4c-4918-8462-410040e910f6"
            }
        },
        {
            "cell_type": "code",
            "source": [
                ""
            ],
            "metadata": {
                "azdata_cell_guid": "741aa150-d97d-4908-a90f-f263d8206c81"
            },
            "outputs": [],
            "execution_count": null
        },
        {
            "cell_type": "markdown",
            "source": [
                "<h2>Parte 02. Escribir consultas que usan funciones Offset"
            ],
            "metadata": {
                "azdata_cell_guid": "9ed42464-2c33-46f8-9f64-76426d5ee783"
            }
        },
        {
            "cell_type": "markdown",
            "source": [
                "2.1. Definir un CTE llamado OrderRows basado en una consulta que devuelva las columnas orderid, orderdate y val de la vista Sales.OrderValues. Añadir una columna calculada llamada rowno utilizando la función ROW_NUMBER, ordenando por las columnas orderdate y orderid. Escribir una sentencia SELECT contra el CTE y utilizar la clasula LEFT JOIN con el mismo CTE para traer la fila actual y la previaa basada en la columna rowno. Devolver las columnas orderid, orderdate y  val para la fila actual y la columna val de la fila previa nombrarla prevval. Adicionar una columna calculada llamada diffprev para mostrar la diferencia entre el valor de la columna val actual y el valor previo."
            ],
            "metadata": {
                "azdata_cell_guid": "9442ed31-4527-4ae8-bff0-7b2ff7657b95"
            }
        },
        {
            "cell_type": "code",
            "source": [
                ""
            ],
            "metadata": {
                "azdata_cell_guid": "c6649a87-136f-4c3d-a7c8-5f27cc02898f"
            },
            "outputs": [],
            "execution_count": null
        },
        {
            "cell_type": "markdown",
            "source": [
                "2.2. Escribir una sentencia SELECT que utilice la función LAG para alcanzar el mismo resultado de la consulta en la actividad anterior. Las consulta no debe utilizar un CTE."
            ],
            "metadata": {
                "azdata_cell_guid": "af95fec5-9db1-451e-b1ad-801abe48c22c"
            }
        },
        {
            "cell_type": "code",
            "source": [
                ""
            ],
            "metadata": {
                "azdata_cell_guid": "5f87b03b-2bcc-4b47-b5db-90aafe20ae31"
            },
            "outputs": [],
            "execution_count": null
        },
        {
            "cell_type": "markdown",
            "source": [
                "2.3. Definir un CTE llaamdo SalesMonth2007 que cree dos columnas: monthno (el numero de mes de la columna orderdate) y val (columna agrupada val). Filtrar los resultados para incluir solo el año de ordenes 2007 y agrupar por monthno. Escribir una sentencia SELECT para traer las columnas monthno y val. Adicionar dos columnas calculadas:\r\n",
                "<li><b>avglast3months.</b> Esta columna deberia contener el promedio del monto de ventas  para los ultimos tres meses despues del mes actual, utilizando una función window aggregate. Se puede asumir que no hay meses nulos.\r\n",
                "<li><b>ytdval.</b> Esta columna deberia contener el valor de ventas acumulativo creciente para el mes actual."
            ],
            "metadata": {
                "azdata_cell_guid": "b066ed10-dccd-47d3-9898-081524ae1046"
            }
        },
        {
            "cell_type": "code",
            "source": [
                ""
            ],
            "metadata": {
                "azdata_cell_guid": "90d36f76-2b9b-43da-ad56-3fa901990e72"
            },
            "outputs": [],
            "execution_count": null
        },
        {
            "cell_type": "markdown",
            "source": [
                "<h2>Parte 03. Escribir consultas que utilizan Funciones de agregación de ventanas"
            ],
            "metadata": {
                "azdata_cell_guid": "35bd94be-966f-47af-a62d-d5d550a5e274"
            }
        },
        {
            "cell_type": "markdown",
            "source": [
                "3.1. Escribir una sentencia SELECT para traer las columnas custid, orderid, orderdate y val de la vista\r\n",
                "Sales.OrderValues. Adicionar una columna calculada llamada percoftotalcust conteniendo un valor porcentual de cada monto de ordenes de venta coomparado al monto total de ventas para cada cliente."
            ],
            "metadata": {
                "azdata_cell_guid": "02a29be5-d84a-48a1-b5e6-6cbf8a26a7c1"
            }
        },
        {
            "cell_type": "code",
            "source": [
                "SELECT CatID, CatName, ProdName, UnitPrice,\r\n",
                "\tRANK() OVER(PARTITION BY CatID ORDER BY UnitPrice DESC) AS PriceRank,\r\n",
                "\tDENSE_RANK() OVER(PARTITION BY CatID ORDER BY UnitPrice DESC) AS DensePriceRank\r\n",
                "FROM Production.CategorizedProducts\r\n",
                "ORDER BY CatID; "
            ],
            "metadata": {
                "azdata_cell_guid": "8891d6b5-149d-4f27-8465-70baf79dfdb4"
            },
            "outputs": [],
            "execution_count": null
        },
        {
            "cell_type": "markdown",
            "source": [
                "3.2. Copiar la sentencia SELECT previa statement and modify it by adding a new calculated column named runval.\r\n",
                "This column should contain a running sales total for each customer based on order date, using\r\n",
                "orderid as the tiebreaker."
            ],
            "metadata": {
                "azdata_cell_guid": "739538d8-8a1c-4775-99b9-3093187bb781"
            }
        },
        {
            "cell_type": "code",
            "source": [
                "SELECT CatID, CatName, ProdName, UnitPrice,\r\n",
                "\tROW_NUMBER() OVER(PARTITION BY CatID ORDER BY UnitPrice DESC) AS RowNumber\r\n",
                "FROM Production.CategorizedProducts\r\n",
                "ORDER BY CatID; "
            ],
            "metadata": {
                "azdata_cell_guid": "e7924d07-17ae-49d9-bd4c-b2ba81626199"
            },
            "outputs": [],
            "execution_count": null
        },
        {
            "cell_type": "markdown",
            "source": [
                "3.3. Copiar el CTE SalesMonth2007 en la tarea final en el ejercicio 2. Escribir una sentencia SELECT statement para traer las columnas\r\n",
                "monthno y val. Adicionar dos columnas calculadas:\r\n",
                "<li> <b>avglast3months.</b> Esta columna deberia contener el promedio del monto de ventas  para los ultimos tres meses despues del mes actual, utilizando una función window aggregate. Se puede asumir que no hay meses nulos.\r\n",
                "<li><b>ytdval.</b> Esta columna deberia contener el valor de ventas acumulativo creciente para el mes actual."
            ],
            "metadata": {
                "azdata_cell_guid": "d462149c-d470-4cde-9d08-3ccf9343f8b0"
            }
        }
    ]
}