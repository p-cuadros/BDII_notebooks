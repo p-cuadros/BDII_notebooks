{
    "metadata": {
        "kernelspec": {
            "name": "SQL",
            "display_name": "SQL",
            "language": "sql"
        },
        "language_info": {
            "name": "sql",
            "version": ""
        }
    },
    "nbformat_minor": 2,
    "nbformat": 4,
    "cells": [
        {
            "cell_type": "markdown",
            "source": [
                "<h1><center>Pivoting y Grouping Sets"
            ],
            "metadata": {
                "azdata_cell_guid": "f3192a16-6e7c-476b-b52b-a5f8b80bee42"
            }
        },
        {
            "cell_type": "markdown",
            "source": [
                "<h2>Parte 01. Escribiendo consultas con PIVOT Y UNPIVOT"
            ],
            "metadata": {
                "azdata_cell_guid": "2a3d5b0b-61a9-4ac4-ba9d-4a09b1aa8ab1"
            }
        },
        {
            "cell_type": "markdown",
            "source": [
                "1.1. Abrir la base de datos TSQL."
            ],
            "metadata": {
                "azdata_cell_guid": "ca768b93-1cbc-4a0f-8d1c-4727990a41de"
            }
        },
        {
            "cell_type": "code",
            "source": [
                "USE TSQL;\r\n",
                "GO"
            ],
            "metadata": {
                "azdata_cell_guid": "9c997033-66cc-49a5-bfff-9a457faf2f4f"
            },
            "outputs": [
                {
                    "output_type": "display_data",
                    "data": {
                        "text/html": "Commands completed successfully."
                    },
                    "metadata": {}
                },
                {
                    "output_type": "display_data",
                    "data": {
                        "text/html": "Total execution time: 00:00:00.159"
                    },
                    "metadata": {}
                }
            ],
            "execution_count": 1
        },
        {
            "cell_type": "markdown",
            "source": [
                "1.2. Crear un vista de categorías de productos, sus cantidaddes por año."
            ],
            "metadata": {
                "azdata_cell_guid": "69106d45-4cea-4619-b6c6-f081cfed5400"
            }
        },
        {
            "cell_type": "code",
            "source": [
                "IF OBJECT_ID('Sales.CategoryQtyYear','V') IS NOT NULL DROP VIEW Sales.CategoryQtyYear\r\n",
                "GO\r\n",
                "CREATE VIEW Sales.CategoryQtyYear\r\n",
                "AS\r\n",
                "SELECT  c.categoryname AS Category,\r\n",
                "        od.qty AS Qty,\r\n",
                "        YEAR(o.orderdate) AS Orderyear\r\n",
                "FROM    Production.Categories AS c\r\n",
                "        INNER JOIN Production.Products AS p ON c.categoryid=p.categoryid\r\n",
                "        INNER JOIN Sales.OrderDetails AS od ON p.productid=od.productid\r\n",
                "        INNER JOIN Sales.Orders AS o ON od.orderid=o.orderid;\r\n",
                "GO"
            ],
            "metadata": {
                "azdata_cell_guid": "ccaa4b07-15ad-4240-b8a8-3baf5e86f598"
            },
            "outputs": [
                {
                    "output_type": "display_data",
                    "data": {
                        "text/html": "Commands completed successfully."
                    },
                    "metadata": {}
                },
                {
                    "output_type": "display_data",
                    "data": {
                        "text/html": "Commands completed successfully."
                    },
                    "metadata": {}
                },
                {
                    "output_type": "display_data",
                    "data": {
                        "text/html": "Total execution time: 00:00:00.347"
                    },
                    "metadata": {}
                }
            ],
            "execution_count": 2
        },
        {
            "cell_type": "markdown",
            "source": [
                "1.3. Probar la vista creada."
            ],
            "metadata": {
                "azdata_cell_guid": "c19c12e1-2012-4419-86df-04a7cd6e7c9c"
            }
        },
        {
            "cell_type": "code",
            "source": [
                "SELECT  Category, Qty,Orderyear\r\n",
                "FROM Sales.CategoryQtyYear;"
            ],
            "metadata": {
                "azdata_cell_guid": "d494da8f-256e-4dbc-a352-cfccac558647"
            },
            "outputs": [
                {
                    "output_type": "display_data",
                    "data": {
                        "text/html": "(2155 rows affected)"
                    },
                    "metadata": {}
                },
                {
                    "output_type": "display_data",
                    "data": {
                        "text/html": "Total execution time: 00:00:00.545"
                    },
                    "metadata": {}
                },
                {
                    "output_type": "execute_result",
                    "metadata": {},
                    "execution_count": 3,
                    "data": {
                        "application/vnd.dataresource+json": {
                            "schema": {
                                "fields": [
                                    {
                                        "name": "Category"
                                    },
                                    {
                                        "name": "Qty"
                                    },
                                    {
                                        "name": "Orderyear"
                                    }
                                ]
                            },
                            "data": [
                                {
                                    "0": "Dairy Products",
                                    "1": "12",
                                    "2": "2006"
                                },
                                {
                                    "0": "Grains/Cereals",
                                    "1": "10",
                                    "2": "2006"
                                },
                                {
                                    "0": "Dairy Products",
                                    "1": "5",
                                    "2": "2006"
                                },
                                {
                                    "0": "Produce",
                                    "1": "9",
                                    "2": "2006"
                                },
                                {
                                    "0": "Produce",
                                    "1": "40",
                                    "2": "2006"
                                },
                                {
                                    "0": "Seafood",
                                    "1": "10",
                                    "2": "2006"
                                },
                                {
                                    "0": "Produce",
                                    "1": "35",
                                    "2": "2006"
                                },
                                {
                                    "0": "Condiments",
                                    "1": "15",
                                    "2": "2006"
                                },
                                {
                                    "0": "Grains/Cereals",
                                    "1": "6",
                                    "2": "2006"
                                },
                                {
                                    "0": "Grains/Cereals",
                                    "1": "15",
                                    "2": "2006"
                                },
                                {
                                    "0": "Condiments",
                                    "1": "20",
                                    "2": "2006"
                                },
                                {
                                    "0": "Confections",
                                    "1": "40",
                                    "2": "2006"
                                },
                                {
                                    "0": "Dairy Products",
                                    "1": "25",
                                    "2": "2006"
                                },
                                {
                                    "0": "Dairy Products",
                                    "1": "40",
                                    "2": "2006"
                                },
                                {
                                    "0": "Dairy Products",
                                    "1": "20",
                                    "2": "2006"
                                },
                                {
                                    "0": "Beverages",
                                    "1": "42",
                                    "2": "2006"
                                },
                                {
                                    "0": "Confections",
                                    "1": "40",
                                    "2": "2006"
                                },
                                {
                                    "0": "Beverages",
                                    "1": "15",
                                    "2": "2006"
                                },
                                {
                                    "0": "Meat/Poultry",
                                    "1": "21",
                                    "2": "2006"
                                },
                                {
                                    "0": "Produce",
                                    "1": "21",
                                    "2": "2006"
                                },
                                {
                                    "0": "Beverages",
                                    "1": "20",
                                    "2": "2006"
                                },
                                {
                                    "0": "Confections",
                                    "1": "35",
                                    "2": "2006"
                                },
                                {
                                    "0": "Seafood",
                                    "1": "25",
                                    "2": "2006"
                                },
                                {
                                    "0": "Dairy Products",
                                    "1": "30",
                                    "2": "2006"
                                },
                                {
                                    "0": "Meat/Poultry",
                                    "1": "15",
                                    "2": "2006"
                                },
                                {
                                    "0": "Condiments",
                                    "1": "12",
                                    "2": "2006"
                                },
                                {
                                    "0": "Confections",
                                    "1": "25",
                                    "2": "2006"
                                },
                                {
                                    "0": "Beverages",
                                    "1": "6",
                                    "2": "2006"
                                },
                                {
                                    "0": "Condiments",
                                    "1": "15",
                                    "2": "2006"
                                },
                                {
                                    "0": "Beverages",
                                    "1": "50",
                                    "2": "2006"
                                },
                                {
                                    "0": "Condiments",
                                    "1": "65",
                                    "2": "2006"
                                },
                                {
                                    "0": "Dairy Products",
                                    "1": "6",
                                    "2": "2006"
                                },
                                {
                                    "0": "Confections",
                                    "1": "10",
                                    "2": "2006"
                                },
                                {
                                    "0": "Seafood",
                                    "1": "1",
                                    "2": "2006"
                                },
                                {
                                    "0": "Seafood",
                                    "1": "16",
                                    "2": "2006"
                                },
                                {
                                    "0": "Grains/Cereals",
                                    "1": "50",
                                    "2": "2006"
                                },
                                {
                                    "0": "Confections",
                                    "1": "15",
                                    "2": "2006"
                                },
                                {
                                    "0": "Beverages",
                                    "1": "21",
                                    "2": "2006"
                                },
                                {
                                    "0": "Confections",
                                    "1": "20",
                                    "2": "2006"
                                },
                                {
                                    "0": "Beverages",
                                    "1": "20",
                                    "2": "2006"
                                },
                                {
                                    "0": "Condiments",
                                    "1": "12",
                                    "2": "2006"
                                },
                                {
                                    "0": "Produce",
                                    "1": "15",
                                    "2": "2006"
                                },
                                {
                                    "0": "Grains/Cereals",
                                    "1": "2",
                                    "2": "2006"
                                },
                                {
                                    "0": "Confections",
                                    "1": "60",
                                    "2": "2006"
                                },
                                {
                                    "0": "Beverages",
                                    "1": "28",
                                    "2": "2006"
                                },
                                {
                                    "0": "Seafood",
                                    "1": "60",
                                    "2": "2006"
                                },
                                {
                                    "0": "Produce",
                                    "1": "36",
                                    "2": "2006"
                                },
                                {
                                    "0": "Beverages",
                                    "1": "35",
                                    "2": "2006"
                                },
                                {
                                    "0": "Seafood",
                                    "1": "25",
                                    "2": "2006"
                                },
                                {
                                    "0": "Meat/Poultry",
                                    "1": "30",
                                    "2": "2006"
                                },
                                {
                                    "0": "Beverages",
                                    "1": "20",
                                    "2": "2006"
                                },
                                {
                                    "0": "Dairy Products",
                                    "1": "12",
                                    "2": "2006"
                                },
                                {
                                    "0": "Seafood",
                                    "1": "50",
                                    "2": "2006"
                                },
                                {
                                    "0": "Dairy Products",
                                    "1": "70",
                                    "2": "2006"
                                },
                                {
                                    "0": "Beverages",
                                    "1": "15",
                                    "2": "2006"
                                },
                                {
                                    "0": "Meat/Poultry",
                                    "1": "10",
                                    "2": "2006"
                                },
                                {
                                    "0": "Dairy Products",
                                    "1": "4",
                                    "2": "2006"
                                },
                                {
                                    "0": "Dairy Products",
                                    "1": "60",
                                    "2": "2006"
                                },
                                {
                                    "0": "Dairy Products",
                                    "1": "20",
                                    "2": "2006"
                                },
                                {
                                    "0": "Seafood",
                                    "1": "30",
                                    "2": "2006"
                                },
                                {
                                    "0": "Beverages",
                                    "1": "25",
                                    "2": "2006"
                                },
                                {
                                    "0": "Dairy Products",
                                    "1": "24",
                                    "2": "2006"
                                },
                                {
                                    "0": "Confections",
                                    "1": "6",
                                    "2": "2006"
                                },
                                {
                                    "0": "Dairy Products",
                                    "1": "40",
                                    "2": "2006"
                                },
                                {
                                    "0": "Dairy Products",
                                    "1": "24",
                                    "2": "2006"
                                },
                                {
                                    "0": "Seafood",
                                    "1": "24",
                                    "2": "2006"
                                },
                                {
                                    "0": "Dairy Products",
                                    "1": "15",
                                    "2": "2006"
                                },
                                {
                                    "0": "Dairy Products",
                                    "1": "20",
                                    "2": "2006"
                                },
                                {
                                    "0": "Seafood",
                                    "1": "60",
                                    "2": "2006"
                                },
                                {
                                    "0": "Beverages",
                                    "1": "33",
                                    "2": "2006"
                                },
                                {
                                    "0": "Dairy Products",
                                    "1": "20",
                                    "2": "2006"
                                },
                                {
                                    "0": "Dairy Products",
                                    "1": "7",
                                    "2": "2006"
                                },
                                {
                                    "0": "Beverages",
                                    "1": "12",
                                    "2": "2006"
                                },
                                {
                                    "0": "Dairy Products",
                                    "1": "6",
                                    "2": "2006"
                                },
                                {
                                    "0": "Seafood",
                                    "1": "15",
                                    "2": "2006"
                                },
                                {
                                    "0": "Seafood",
                                    "1": "10",
                                    "2": "2006"
                                },
                                {
                                    "0": "Produce",
                                    "1": "20",
                                    "2": "2006"
                                },
                                {
                                    "0": "Confections",
                                    "1": "12",
                                    "2": "2006"
                                },
                                {
                                    "0": "Condiments",
                                    "1": "16",
                                    "2": "2006"
                                },
                                {
                                    "0": "Dairy Products",
                                    "1": "15",
                                    "2": "2006"
                                },
                                {
                                    "0": "Condiments",
                                    "1": "8",
                                    "2": "2006"
                                },
                                {
                                    "0": "Seafood",
                                    "1": "25",
                                    "2": "2006"
                                },
                                {
                                    "0": "Meat/Poultry",
                                    "1": "15",
                                    "2": "2006"
                                },
                                {
                                    "0": "Beverages",
                                    "1": "12",
                                    "2": "2006"
                                },
                                {
                                    "0": "Meat/Poultry",
                                    "1": "20",
                                    "2": "2006"
                                },
                                {
                                    "0": "Beverages",
                                    "1": "30",
                                    "2": "2006"
                                },
                                {
                                    "0": "Confections",
                                    "1": "1",
                                    "2": "2006"
                                },
                                {
                                    "0": "Beverages",
                                    "1": "6",
                                    "2": "2006"
                                },
                                {
                                    "0": "Beverages",
                                    "1": "4",
                                    "2": "2006"
                                },
                                {
                                    "0": "Seafood",
                                    "1": "6",
                                    "2": "2006"
                                },
                                {
                                    "0": "Grains/Cereals",
                                    "1": "2",
                                    "2": "2006"
                                },
                                {
                                    "0": "Condiments",
                                    "1": "20",
                                    "2": "2006"
                                },
                                {
                                    "0": "Confections",
                                    "1": "18",
                                    "2": "2006"
                                },
                                {
                                    "0": "Dairy Products",
                                    "1": "35",
                                    "2": "2006"
                                },
                                {
                                    "0": "Dairy Products",
                                    "1": "3",
                                    "2": "2006"
                                },
                                {
                                    "0": "Confections",
                                    "1": "15",
                                    "2": "2006"
                                },
                                {
                                    "0": "Condiments",
                                    "1": "21",
                                    "2": "2006"
                                },
                                {
                                    "0": "Dairy Products",
                                    "1": "20",
                                    "2": "2006"
                                },
                                {
                                    "0": "Beverages",
                                    "1": "5",
                                    "2": "2006"
                                },
                                {
                                    "0": "Beverages",
                                    "1": "45",
                                    "2": "2006"
                                },
                                {
                                    "0": "Seafood",
                                    "1": "40",
                                    "2": "2006"
                                },
                                {
                                    "0": "Meat/Poultry",
                                    "1": "36",
                                    "2": "2006"
                                },
                                {
                                    "0": "Beverages",
                                    "1": "100",
                                    "2": "2006"
                                },
                                {
                                    "0": "Confections",
                                    "1": "40",
                                    "2": "2006"
                                },
                                {
                                    "0": "Confections",
                                    "1": "40",
                                    "2": "2006"
                                },
                                {
                                    "0": "Beverages",
                                    "1": "20",
                                    "2": "2006"
                                },
                                {
                                    "0": "Seafood",
                                    "1": "15",
                                    "2": "2006"
                                },
                                {
                                    "0": "Meat/Poultry",
                                    "1": "10",
                                    "2": "2006"
                                },
                                {
                                    "0": "Confections",
                                    "1": "3",
                                    "2": "2006"
                                },
                                {
                                    "0": "Condiments",
                                    "1": "30",
                                    "2": "2006"
                                },
                                {
                                    "0": "Grains/Cereals",
                                    "1": "9",
                                    "2": "2006"
                                },
                                {
                                    "0": "Condiments",
                                    "1": "20",
                                    "2": "2006"
                                },
                                {
                                    "0": "Meat/Poultry",
                                    "1": "15",
                                    "2": "2006"
                                },
                                {
                                    "0": "Confections",
                                    "1": "15",
                                    "2": "2006"
                                },
                                {
                                    "0": "Condiments",
                                    "1": "10",
                                    "2": "2006"
                                },
                                {
                                    "0": "Seafood",
                                    "1": "20",
                                    "2": "2006"
                                },
                                {
                                    "0": "Condiments",
                                    "1": "24",
                                    "2": "2006"
                                },
                                {
                                    "0": "Produce",
                                    "1": "2",
                                    "2": "2006"
                                },
                                {
                                    "0": "Confections",
                                    "1": "20",
                                    "2": "2006"
                                },
                                {
                                    "0": "Seafood",
                                    "1": "12",
                                    "2": "2006"
                                },
                                {
                                    "0": "Beverages",
                                    "1": "10",
                                    "2": "2006"
                                },
                                {
                                    "0": "Condiments",
                                    "1": "5",
                                    "2": "2006"
                                },
                                {
                                    "0": "Beverages",
                                    "1": "6",
                                    "2": "2006"
                                },
                                {
                                    "0": "Beverages",
                                    "1": "18",
                                    "2": "2006"
                                },
                                {
                                    "0": "Meat/Poultry",
                                    "1": "15",
                                    "2": "2006"
                                },
                                {
                                    "0": "Beverages",
                                    "1": "15",
                                    "2": "2006"
                                },
                                {
                                    "0": "Dairy Products",
                                    "1": "21",
                                    "2": "2006"
                                },
                                {
                                    "0": "Beverages",
                                    "1": "6",
                                    "2": "2006"
                                },
                                {
                                    "0": "Grains/Cereals",
                                    "1": "4",
                                    "2": "2006"
                                },
                                {
                                    "0": "Dairy Products",
                                    "1": "12",
                                    "2": "2006"
                                },
                                {
                                    "0": "Confections",
                                    "1": "30",
                                    "2": "2006"
                                },
                                {
                                    "0": "Dairy Products",
                                    "1": "15",
                                    "2": "2006"
                                },
                                {
                                    "0": "Beverages",
                                    "1": "60",
                                    "2": "2006"
                                },
                                {
                                    "0": "Dairy Products",
                                    "1": "20",
                                    "2": "2006"
                                },
                                {
                                    "0": "Beverages",
                                    "1": "40",
                                    "2": "2006"
                                },
                                {
                                    "0": "Seafood",
                                    "1": "40",
                                    "2": "2006"
                                },
                                {
                                    "0": "Dairy Products",
                                    "1": "30",
                                    "2": "2006"
                                },
                                {
                                    "0": "Confections",
                                    "1": "15",
                                    "2": "2006"
                                },
                                {
                                    "0": "Confections",
                                    "1": "15",
                                    "2": "2006"
                                },
                                {
                                    "0": "Beverages",
                                    "1": "20",
                                    "2": "2006"
                                },
                                {
                                    "0": "Condiments",
                                    "1": "30",
                                    "2": "2006"
                                },
                                {
                                    "0": "Confections",
                                    "1": "20",
                                    "2": "2006"
                                },
                                {
                                    "0": "Seafood",
                                    "1": "10",
                                    "2": "2006"
                                },
                                {
                                    "0": "Grains/Cereals",
                                    "1": "20",
                                    "2": "2006"
                                },
                                {
                                    "0": "Meat/Poultry",
                                    "1": "40",
                                    "2": "2006"
                                },
                                {
                                    "0": "Produce",
                                    "1": "28",
                                    "2": "2006"
                                },
                                {
                                    "0": "Beverages",
                                    "1": "12",
                                    "2": "2006"
                                },
                                {
                                    "0": "Seafood",
                                    "1": "40",
                                    "2": "2006"
                                },
                                {
                                    "0": "Condiments",
                                    "1": "30",
                                    "2": "2006"
                                },
                                {
                                    "0": "Confections",
                                    "1": "15",
                                    "2": "2006"
                                },
                                {
                                    "0": "Confections",
                                    "1": "30",
                                    "2": "2006"
                                },
                                {
                                    "0": "Dairy Products",
                                    "1": "10",
                                    "2": "2006"
                                },
                                {
                                    "0": "Dairy Products",
                                    "1": "2",
                                    "2": "2006"
                                },
                                {
                                    "0": "Seafood",
                                    "1": "25",
                                    "2": "2006"
                                },
                                {
                                    "0": "Meat/Poultry",
                                    "1": "25",
                                    "2": "2006"
                                },
                                {
                                    "0": "Beverages",
                                    "1": "30",
                                    "2": "2006"
                                },
                                {
                                    "0": "Seafood",
                                    "1": "10",
                                    "2": "2006"
                                },
                                {
                                    "0": "Meat/Poultry",
                                    "1": "10",
                                    "2": "2006"
                                },
                                {
                                    "0": "Meat/Poultry",
                                    "1": "5",
                                    "2": "2006"
                                },
                                {
                                    "0": "Confections",
                                    "1": "10",
                                    "2": "2006"
                                },
                                {
                                    "0": "Confections",
                                    "1": "3",
                                    "2": "2006"
                                },
                                {
                                    "0": "Dairy Products",
                                    "1": "1",
                                    "2": "2006"
                                },
                                {
                                    "0": "Beverages",
                                    "1": "5",
                                    "2": "2006"
                                },
                                {
                                    "0": "Condiments",
                                    "1": "20",
                                    "2": "2006"
                                },
                                {
                                    "0": "Condiments",
                                    "1": "30",
                                    "2": "2006"
                                },
                                {
                                    "0": "Grains/Cereals",
                                    "1": "2",
                                    "2": "2006"
                                },
                                {
                                    "0": "Beverages",
                                    "1": "20",
                                    "2": "2006"
                                },
                                {
                                    "0": "Dairy Products",
                                    "1": "3",
                                    "2": "2006"
                                },
                                {
                                    "0": "Confections",
                                    "1": "10",
                                    "2": "2006"
                                },
                                {
                                    "0": "Confections",
                                    "1": "5",
                                    "2": "2006"
                                },
                                {
                                    "0": "Grains/Cereals",
                                    "1": "6",
                                    "2": "2006"
                                },
                                {
                                    "0": "Dairy Products",
                                    "1": "7",
                                    "2": "2006"
                                },
                                {
                                    "0": "Produce",
                                    "1": "4",
                                    "2": "2006"
                                },
                                {
                                    "0": "Beverages",
                                    "1": "24",
                                    "2": "2006"
                                },
                                {
                                    "0": "Meat/Poultry",
                                    "1": "20",
                                    "2": "2006"
                                },
                                {
                                    "0": "Beverages",
                                    "1": "10",
                                    "2": "2006"
                                },
                                {
                                    "0": "Seafood",
                                    "1": "12",
                                    "2": "2006"
                                },
                                {
                                    "0": "Dairy Products",
                                    "1": "40",
                                    "2": "2006"
                                },
                                {
                                    "0": "Seafood",
                                    "1": "30",
                                    "2": "2006"
                                },
                                {
                                    "0": "Confections",
                                    "1": "25",
                                    "2": "2006"
                                },
                                {
                                    "0": "Beverages",
                                    "1": "14",
                                    "2": "2006"
                                },
                                {
                                    "0": "Beverages",
                                    "1": "30",
                                    "2": "2006"
                                },
                                {
                                    "0": "Seafood",
                                    "1": "10",
                                    "2": "2006"
                                },
                                {
                                    "0": "Confections",
                                    "1": "70",
                                    "2": "2006"
                                },
                                {
                                    "0": "Beverages",
                                    "1": "20",
                                    "2": "2006"
                                },
                                {
                                    "0": "Seafood",
                                    "1": "20",
                                    "2": "2006"
                                },
                                {
                                    "0": "Beverages",
                                    "1": "6",
                                    "2": "2006"
                                },
                                {
                                    "0": "Meat/Poultry",
                                    "1": "8",
                                    "2": "2006"
                                },
                                {
                                    "0": "Produce",
                                    "1": "14",
                                    "2": "2006"
                                },
                                {
                                    "0": "Beverages",
                                    "1": "30",
                                    "2": "2006"
                                },
                                {
                                    "0": "Dairy Products",
                                    "1": "30",
                                    "2": "2006"
                                },
                                {
                                    "0": "Beverages",
                                    "1": "10",
                                    "2": "2006"
                                },
                                {
                                    "0": "Grains/Cereals",
                                    "1": "20",
                                    "2": "2006"
                                },
                                {
                                    "0": "Condiments",
                                    "1": "5",
                                    "2": "2006"
                                },
                                {
                                    "0": "Confections",
                                    "1": "4",
                                    "2": "2006"
                                },
                                {
                                    "0": "Beverages",
                                    "1": "4",
                                    "2": "2006"
                                },
                                {
                                    "0": "Confections",
                                    "1": "21",
                                    "2": "2006"
                                },
                                {
                                    "0": "Beverages",
                                    "1": "70",
                                    "2": "2006"
                                },
                                {
                                    "0": "Seafood",
                                    "1": "30",
                                    "2": "2006"
                                },
                                {
                                    "0": "Dairy Products",
                                    "1": "40",
                                    "2": "2006"
                                },
                                {
                                    "0": "Condiments",
                                    "1": "80",
                                    "2": "2006"
                                },
                                {
                                    "0": "Condiments",
                                    "1": "6",
                                    "2": "2006"
                                },
                                {
                                    "0": "Seafood",
                                    "1": "12",
                                    "2": "2006"
                                },
                                {
                                    "0": "Produce",
                                    "1": "9",
                                    "2": "2006"
                                },
                                {
                                    "0": "Dairy Products",
                                    "1": "4",
                                    "2": "2006"
                                },
                                {
                                    "0": "Dairy Products",
                                    "1": "40",
                                    "2": "2006"
                                },
                                {
                                    "0": "Condiments",
                                    "1": "24",
                                    "2": "2006"
                                },
                                {
                                    "0": "Grains/Cereals",
                                    "1": "16",
                                    "2": "2006"
                                },
                                {
                                    "0": "Beverages",
                                    "1": "50",
                                    "2": "2006"
                                },
                                {
                                    "0": "Beverages",
                                    "1": "25",
                                    "2": "2006"
                                },
                                {
                                    "0": "Dairy Products",
                                    "1": "50",
                                    "2": "2006"
                                },
                                {
                                    "0": "Seafood",
                                    "1": "35",
                                    "2": "2006"
                                },
                                {
                                    "0": "Seafood",
                                    "1": "30",
                                    "2": "2006"
                                },
                                {
                                    "0": "Dairy Products",
                                    "1": "9",
                                    "2": "2006"
                                },
                                {
                                    "0": "Condiments",
                                    "1": "40",
                                    "2": "2006"
                                },
                                {
                                    "0": "Confections",
                                    "1": "10",
                                    "2": "2006"
                                },
                                {
                                    "0": "Confections",
                                    "1": "10",
                                    "2": "2006"
                                },
                                {
                                    "0": "Seafood",
                                    "1": "8",
                                    "2": "2006"
                                },
                                {
                                    "0": "Beverages",
                                    "1": "20",
                                    "2": "2006"
                                },
                                {
                                    "0": "Grains/Cereals",
                                    "1": "12",
                                    "2": "2006"
                                },
                                {
                                    "0": "Confections",
                                    "1": "50",
                                    "2": "2006"
                                },
                                {
                                    "0": "Dairy Products",
                                    "1": "25",
                                    "2": "2006"
                                },
                                {
                                    "0": "Meat/Poultry",
                                    "1": "15",
                                    "2": "2006"
                                },
                                {
                                    "0": "Seafood",
                                    "1": "40",
                                    "2": "2006"
                                },
                                {
                                    "0": "Grains/Cereals",
                                    "1": "10",
                                    "2": "2006"
                                },
                                {
                                    "0": "Confections",
                                    "1": "16",
                                    "2": "2006"
                                },
                                {
                                    "0": "Produce",
                                    "1": "10",
                                    "2": "2006"
                                },
                                {
                                    "0": "Confections",
                                    "1": "10",
                                    "2": "2006"
                                },
                                {
                                    "0": "Dairy Products",
                                    "1": "40",
                                    "2": "2006"
                                },
                                {
                                    "0": "Grains/Cereals",
                                    "1": "8",
                                    "2": "2006"
                                },
                                {
                                    "0": "Confections",
                                    "1": "10",
                                    "2": "2006"
                                },
                                {
                                    "0": "Beverages",
                                    "1": "7",
                                    "2": "2006"
                                },
                                {
                                    "0": "Dairy Products",
                                    "1": "25",
                                    "2": "2006"
                                },
                                {
                                    "0": "Dairy Products",
                                    "1": "6",
                                    "2": "2006"
                                },
                                {
                                    "0": "Produce",
                                    "1": "48",
                                    "2": "2006"
                                },
                                {
                                    "0": "Condiments",
                                    "1": "18",
                                    "2": "2006"
                                },
                                {
                                    "0": "Grains/Cereals",
                                    "1": "40",
                                    "2": "2006"
                                },
                                {
                                    "0": "Confections",
                                    "1": "24",
                                    "2": "2006"
                                },
                                {
                                    "0": "Seafood",
                                    "1": "20",
                                    "2": "2006"
                                },
                                {
                                    "0": "Seafood",
                                    "1": "28",
                                    "2": "2006"
                                },
                                {
                                    "0": "Dairy Products",
                                    "1": "25",
                                    "2": "2006"
                                },
                                {
                                    "0": "Meat/Poultry",
                                    "1": "20",
                                    "2": "2006"
                                },
                                {
                                    "0": "Seafood",
                                    "1": "15",
                                    "2": "2006"
                                },
                                {
                                    "0": "Condiments",
                                    "1": "10",
                                    "2": "2006"
                                },
                                {
                                    "0": "Meat/Poultry",
                                    "1": "70",
                                    "2": "2006"
                                },
                                {
                                    "0": "Confections",
                                    "1": "28",
                                    "2": "2006"
                                },
                                {
                                    "0": "Seafood",
                                    "1": "20",
                                    "2": "2006"
                                },
                                {
                                    "0": "Seafood",
                                    "1": "12",
                                    "2": "2006"
                                },
                                {
                                    "0": "Beverages",
                                    "1": "40",
                                    "2": "2006"
                                },
                                {
                                    "0": "Dairy Products",
                                    "1": "8",
                                    "2": "2006"
                                },
                                {
                                    "0": "Dairy Products",
                                    "1": "9",
                                    "2": "2006"
                                },
                                {
                                    "0": "Beverages",
                                    "1": "24",
                                    "2": "2006"
                                },
                                {
                                    "0": "Dairy Products",
                                    "1": "56",
                                    "2": "2006"
                                },
                                {
                                    "0": "Seafood",
                                    "1": "40",
                                    "2": "2006"
                                },
                                {
                                    "0": "Meat/Poultry",
                                    "1": "40",
                                    "2": "2006"
                                },
                                {
                                    "0": "Grains/Cereals",
                                    "1": "50",
                                    "2": "2006"
                                },
                                {
                                    "0": "Confections",
                                    "1": "4",
                                    "2": "2006"
                                },
                                {
                                    "0": "Beverages",
                                    "1": "15",
                                    "2": "2006"
                                },
                                {
                                    "0": "Condiments",
                                    "1": "35",
                                    "2": "2006"
                                },
                                {
                                    "0": "Condiments",
                                    "1": "70",
                                    "2": "2006"
                                },
                                {
                                    "0": "Condiments",
                                    "1": "70",
                                    "2": "2006"
                                },
                                {
                                    "0": "Confections",
                                    "1": "80",
                                    "2": "2006"
                                },
                                {
                                    "0": "Grains/Cereals",
                                    "1": "9",
                                    "2": "2006"
                                },
                                {
                                    "0": "Meat/Poultry",
                                    "1": "36",
                                    "2": "2006"
                                },
                                {
                                    "0": "Grains/Cereals",
                                    "1": "20",
                                    "2": "2006"
                                },
                                {
                                    "0": "Confections",
                                    "1": "10",
                                    "2": "2006"
                                },
                                {
                                    "0": "Beverages",
                                    "1": "50",
                                    "2": "2006"
                                },
                                {
                                    "0": "Seafood",
                                    "1": "4",
                                    "2": "2006"
                                },
                                {
                                    "0": "Beverages",
                                    "1": "6",
                                    "2": "2006"
                                },
                                {
                                    "0": "Beverages",
                                    "1": "15",
                                    "2": "2006"
                                },
                                {
                                    "0": "Grains/Cereals",
                                    "1": "25",
                                    "2": "2006"
                                },
                                {
                                    "0": "Meat/Poultry",
                                    "1": "24",
                                    "2": "2006"
                                },
                                {
                                    "0": "Confections",
                                    "1": "15",
                                    "2": "2006"
                                },
                                {
                                    "0": "Dairy Products",
                                    "1": "18",
                                    "2": "2006"
                                },
                                {
                                    "0": "Beverages",
                                    "1": "20",
                                    "2": "2006"
                                },
                                {
                                    "0": "Seafood",
                                    "1": "13",
                                    "2": "2006"
                                },
                                {
                                    "0": "Condiments",
                                    "1": "77",
                                    "2": "2006"
                                },
                                {
                                    "0": "Condiments",
                                    "1": "10",
                                    "2": "2006"
                                },
                                {
                                    "0": "Beverages",
                                    "1": "10",
                                    "2": "2006"
                                },
                                {
                                    "0": "Meat/Poultry",
                                    "1": "20",
                                    "2": "2006"
                                },
                                {
                                    "0": "Dairy Products",
                                    "1": "12",
                                    "2": "2006"
                                },
                                {
                                    "0": "Beverages",
                                    "1": "50",
                                    "2": "2006"
                                },
                                {
                                    "0": "Beverages",
                                    "1": "12",
                                    "2": "2006"
                                },
                                {
                                    "0": "Meat/Poultry",
                                    "1": "4",
                                    "2": "2006"
                                },
                                {
                                    "0": "Beverages",
                                    "1": "25",
                                    "2": "2006"
                                },
                                {
                                    "0": "Grains/Cereals",
                                    "1": "25",
                                    "2": "2006"
                                },
                                {
                                    "0": "Dairy Products",
                                    "1": "30",
                                    "2": "2006"
                                },
                                {
                                    "0": "Meat/Poultry",
                                    "1": "12",
                                    "2": "2006"
                                },
                                {
                                    "0": "Dairy Products",
                                    "1": "20",
                                    "2": "2006"
                                },
                                {
                                    "0": "Seafood",
                                    "1": "30",
                                    "2": "2006"
                                },
                                {
                                    "0": "Confections",
                                    "1": "16",
                                    "2": "2006"
                                },
                                {
                                    "0": "Dairy Products",
                                    "1": "8",
                                    "2": "2006"
                                },
                                {
                                    "0": "Beverages",
                                    "1": "10",
                                    "2": "2006"
                                },
                                {
                                    "0": "Beverages",
                                    "1": "10",
                                    "2": "2006"
                                },
                                {
                                    "0": "Seafood",
                                    "1": "20",
                                    "2": "2006"
                                },
                                {
                                    "0": "Confections",
                                    "1": "56",
                                    "2": "2006"
                                },
                                {
                                    "0": "Dairy Products",
                                    "1": "70",
                                    "2": "2006"
                                },
                                {
                                    "0": "Dairy Products",
                                    "1": "80",
                                    "2": "2006"
                                },
                                {
                                    "0": "Produce",
                                    "1": "30",
                                    "2": "2006"
                                },
                                {
                                    "0": "Meat/Poultry",
                                    "1": "35",
                                    "2": "2006"
                                },
                                {
                                    "0": "Beverages",
                                    "1": "10",
                                    "2": "2006"
                                },
                                {
                                    "0": "Confections",
                                    "1": "35",
                                    "2": "2006"
                                },
                                {
                                    "0": "Meat/Poultry",
                                    "1": "28",
                                    "2": "2006"
                                },
                                {
                                    "0": "Beverages",
                                    "1": "54",
                                    "2": "2006"
                                },
                                {
                                    "0": "Dairy Products",
                                    "1": "55",
                                    "2": "2006"
                                },
                                {
                                    "0": "Confections",
                                    "1": "50",
                                    "2": "2006"
                                },
                                {
                                    "0": "Produce",
                                    "1": "20",
                                    "2": "2006"
                                },
                                {
                                    "0": "Meat/Poultry",
                                    "1": "24",
                                    "2": "2006"
                                },
                                {
                                    "0": "Dairy Products",
                                    "1": "20",
                                    "2": "2006"
                                },
                                {
                                    "0": "Beverages",
                                    "1": "12",
                                    "2": "2006"
                                },
                                {
                                    "0": "Beverages",
                                    "1": "12",
                                    "2": "2006"
                                },
                                {
                                    "0": "Dairy Products",
                                    "1": "30",
                                    "2": "2006"
                                },
                                {
                                    "0": "Dairy Products",
                                    "1": "5",
                                    "2": "2006"
                                },
                                {
                                    "0": "Dairy Products",
                                    "1": "24",
                                    "2": "2006"
                                },
                                {
                                    "0": "Condiments",
                                    "1": "5",
                                    "2": "2006"
                                },
                                {
                                    "0": "Condiments",
                                    "1": "5",
                                    "2": "2006"
                                },
                                {
                                    "0": "Beverages",
                                    "1": "36",
                                    "2": "2006"
                                },
                                {
                                    "0": "Meat/Poultry",
                                    "1": "18",
                                    "2": "2006"
                                },
                                {
                                    "0": "Condiments",
                                    "1": "15",
                                    "2": "2006"
                                },
                                {
                                    "0": "Condiments",
                                    "1": "7",
                                    "2": "2006"
                                },
                                {
                                    "0": "Confections",
                                    "1": "5",
                                    "2": "2006"
                                },
                                {
                                    "0": "Produce",
                                    "1": "13",
                                    "2": "2006"
                                },
                                {
                                    "0": "Grains/Cereals",
                                    "1": "25",
                                    "2": "2006"
                                },
                                {
                                    "0": "Grains/Cereals",
                                    "1": "35",
                                    "2": "2006"
                                },
                                {
                                    "0": "Meat/Poultry",
                                    "1": "20",
                                    "2": "2006"
                                },
                                {
                                    "0": "Grains/Cereals",
                                    "1": "18",
                                    "2": "2006"
                                },
                                {
                                    "0": "Beverages",
                                    "1": "15",
                                    "2": "2006"
                                },
                                {
                                    "0": "Grains/Cereals",
                                    "1": "30",
                                    "2": "2006"
                                },
                                {
                                    "0": "Produce",
                                    "1": "20",
                                    "2": "2006"
                                },
                                {
                                    "0": "Seafood",
                                    "1": "6",
                                    "2": "2006"
                                },
                                {
                                    "0": "Confections",
                                    "1": "12",
                                    "2": "2006"
                                },
                                {
                                    "0": "Beverages",
                                    "1": "40",
                                    "2": "2006"
                                },
                                {
                                    "0": "Dairy Products",
                                    "1": "70",
                                    "2": "2006"
                                },
                                {
                                    "0": "Dairy Products",
                                    "1": "42",
                                    "2": "2006"
                                },
                                {
                                    "0": "Seafood",
                                    "1": "80",
                                    "2": "2006"
                                },
                                {
                                    "0": "Dairy Products",
                                    "1": "50",
                                    "2": "2006"
                                },
                                {
                                    "0": "Dairy Products",
                                    "1": "30",
                                    "2": "2006"
                                },
                                {
                                    "0": "Seafood",
                                    "1": "15",
                                    "2": "2006"
                                },
                                {
                                    "0": "Produce",
                                    "1": "15",
                                    "2": "2006"
                                },
                                {
                                    "0": "Meat/Poultry",
                                    "1": "10",
                                    "2": "2006"
                                },
                                {
                                    "0": "Dairy Products",
                                    "1": "42",
                                    "2": "2006"
                                },
                                {
                                    "0": "Produce",
                                    "1": "20",
                                    "2": "2006"
                                },
                                {
                                    "0": "Beverages",
                                    "1": "20",
                                    "2": "2006"
                                },
                                {
                                    "0": "Dairy Products",
                                    "1": "6",
                                    "2": "2006"
                                },
                                {
                                    "0": "Seafood",
                                    "1": "8",
                                    "2": "2006"
                                },
                                {
                                    "0": "Condiments",
                                    "1": "16",
                                    "2": "2006"
                                },
                                {
                                    "0": "Condiments",
                                    "1": "20",
                                    "2": "2006"
                                },
                                {
                                    "0": "Seafood",
                                    "1": "18",
                                    "2": "2006"
                                },
                                {
                                    "0": "Meat/Poultry",
                                    "1": "20",
                                    "2": "2006"
                                },
                                {
                                    "0": "Dairy Products",
                                    "1": "6",
                                    "2": "2006"
                                },
                                {
                                    "0": "Beverages",
                                    "1": "30",
                                    "2": "2006"
                                },
                                {
                                    "0": "Produce",
                                    "1": "14",
                                    "2": "2006"
                                },
                                {
                                    "0": "Condiments",
                                    "1": "32",
                                    "2": "2006"
                                },
                                {
                                    "0": "Seafood",
                                    "1": "9",
                                    "2": "2006"
                                },
                                {
                                    "0": "Meat/Poultry",
                                    "1": "14",
                                    "2": "2006"
                                },
                                {
                                    "0": "Dairy Products",
                                    "1": "60",
                                    "2": "2006"
                                },
                                {
                                    "0": "Produce",
                                    "1": "50",
                                    "2": "2006"
                                },
                                {
                                    "0": "Seafood",
                                    "1": "20",
                                    "2": "2006"
                                },
                                {
                                    "0": "Confections",
                                    "1": "15",
                                    "2": "2006"
                                },
                                {
                                    "0": "Grains/Cereals",
                                    "1": "20",
                                    "2": "2006"
                                },
                                {
                                    "0": "Confections",
                                    "1": "28",
                                    "2": "2006"
                                },
                                {
                                    "0": "Dairy Products",
                                    "1": "15",
                                    "2": "2006"
                                },
                                {
                                    "0": "Produce",
                                    "1": "10",
                                    "2": "2006"
                                },
                                {
                                    "0": "Dairy Products",
                                    "1": "20",
                                    "2": "2006"
                                },
                                {
                                    "0": "Confections",
                                    "1": "8",
                                    "2": "2006"
                                },
                                {
                                    "0": "Beverages",
                                    "1": "15",
                                    "2": "2006"
                                },
                                {
                                    "0": "Beverages",
                                    "1": "10",
                                    "2": "2006"
                                },
                                {
                                    "0": "Beverages",
                                    "1": "15",
                                    "2": "2006"
                                },
                                {
                                    "0": "Produce",
                                    "1": "6",
                                    "2": "2006"
                                },
                                {
                                    "0": "Dairy Products",
                                    "1": "12",
                                    "2": "2006"
                                },
                                {
                                    "0": "Dairy Products",
                                    "1": "15",
                                    "2": "2006"
                                },
                                {
                                    "0": "Seafood",
                                    "1": "15",
                                    "2": "2006"
                                },
                                {
                                    "0": "Grains/Cereals",
                                    "1": "20",
                                    "2": "2006"
                                },
                                {
                                    "0": "Meat/Poultry",
                                    "1": "40",
                                    "2": "2006"
                                },
                                {
                                    "0": "Seafood",
                                    "1": "16",
                                    "2": "2006"
                                },
                                {
                                    "0": "Meat/Poultry",
                                    "1": "15",
                                    "2": "2006"
                                },
                                {
                                    "0": "Confections",
                                    "1": "20",
                                    "2": "2006"
                                },
                                {
                                    "0": "Beverages",
                                    "1": "30",
                                    "2": "2006"
                                },
                                {
                                    "0": "Dairy Products",
                                    "1": "60",
                                    "2": "2006"
                                },
                                {
                                    "0": "Beverages",
                                    "1": "40",
                                    "2": "2006"
                                },
                                {
                                    "0": "Seafood",
                                    "1": "45",
                                    "2": "2006"
                                },
                                {
                                    "0": "Dairy Products",
                                    "1": "24",
                                    "2": "2006"
                                },
                                {
                                    "0": "Seafood",
                                    "1": "18",
                                    "2": "2006"
                                },
                                {
                                    "0": "Dairy Products",
                                    "1": "50",
                                    "2": "2006"
                                },
                                {
                                    "0": "Beverages",
                                    "1": "25",
                                    "2": "2006"
                                },
                                {
                                    "0": "Produce",
                                    "1": "42",
                                    "2": "2006"
                                },
                                {
                                    "0": "Confections",
                                    "1": "7",
                                    "2": "2006"
                                },
                                {
                                    "0": "Confections",
                                    "1": "70",
                                    "2": "2006"
                                },
                                {
                                    "0": "Dairy Products",
                                    "1": "32",
                                    "2": "2006"
                                },
                                {
                                    "0": "Seafood",
                                    "1": "10",
                                    "2": "2006"
                                },
                                {
                                    "0": "Confections",
                                    "1": "10",
                                    "2": "2006"
                                },
                                {
                                    "0": "Seafood",
                                    "1": "28",
                                    "2": "2006"
                                },
                                {
                                    "0": "Meat/Poultry",
                                    "1": "70",
                                    "2": "2006"
                                },
                                {
                                    "0": "Dairy Products",
                                    "1": "8",
                                    "2": "2006"
                                },
                                {
                                    "0": "Grains/Cereals",
                                    "1": "40",
                                    "2": "2006"
                                },
                                {
                                    "0": "Dairy Products",
                                    "1": "60",
                                    "2": "2006"
                                },
                                {
                                    "0": "Dairy Products",
                                    "1": "21",
                                    "2": "2006"
                                },
                                {
                                    "0": "Confections",
                                    "1": "10",
                                    "2": "2006"
                                },
                                {
                                    "0": "Produce",
                                    "1": "18",
                                    "2": "2006"
                                },
                                {
                                    "0": "Beverages",
                                    "1": "30",
                                    "2": "2006"
                                },
                                {
                                    "0": "Meat/Poultry",
                                    "1": "120",
                                    "2": "2006"
                                },
                                {
                                    "0": "Confections",
                                    "1": "60",
                                    "2": "2006"
                                },
                                {
                                    "0": "Dairy Products",
                                    "1": "30",
                                    "2": "2006"
                                },
                                {
                                    "0": "Beverages",
                                    "1": "35",
                                    "2": "2006"
                                },
                                {
                                    "0": "Condiments",
                                    "1": "14",
                                    "2": "2006"
                                },
                                {
                                    "0": "Meat/Poultry",
                                    "1": "21",
                                    "2": "2007"
                                },
                                {
                                    "0": "Beverages",
                                    "1": "35",
                                    "2": "2007"
                                },
                                {
                                    "0": "Confections",
                                    "1": "30",
                                    "2": "2007"
                                },
                                {
                                    "0": "Seafood",
                                    "1": "18",
                                    "2": "2007"
                                },
                                {
                                    "0": "Grains/Cereals",
                                    "1": "70",
                                    "2": "2007"
                                },
                                {
                                    "0": "Condiments",
                                    "1": "20",
                                    "2": "2007"
                                },
                                {
                                    "0": "Dairy Products",
                                    "1": "60",
                                    "2": "2007"
                                },
                                {
                                    "0": "Grains/Cereals",
                                    "1": "60",
                                    "2": "2007"
                                },
                                {
                                    "0": "Condiments",
                                    "1": "65",
                                    "2": "2007"
                                },
                                {
                                    "0": "Confections",
                                    "1": "21",
                                    "2": "2007"
                                },
                                {
                                    "0": "Confections",
                                    "1": "70",
                                    "2": "2007"
                                },
                                {
                                    "0": "Confections",
                                    "1": "30",
                                    "2": "2007"
                                },
                                {
                                    "0": "Grains/Cereals",
                                    "1": "40",
                                    "2": "2007"
                                },
                                {
                                    "0": "Confections",
                                    "1": "30",
                                    "2": "2007"
                                },
                                {
                                    "0": "Condiments",
                                    "1": "50",
                                    "2": "2007"
                                },
                                {
                                    "0": "Beverages",
                                    "1": "10",
                                    "2": "2007"
                                },
                                {
                                    "0": "Confections",
                                    "1": "30",
                                    "2": "2007"
                                },
                                {
                                    "0": "Produce",
                                    "1": "42",
                                    "2": "2007"
                                },
                                {
                                    "0": "Seafood",
                                    "1": "5",
                                    "2": "2007"
                                },
                                {
                                    "0": "Seafood",
                                    "1": "2",
                                    "2": "2007"
                                },
                                {
                                    "0": "Dairy Products",
                                    "1": "30",
                                    "2": "2007"
                                },
                                {
                                    "0": "Dairy Products",
                                    "1": "15",
                                    "2": "2007"
                                },
                                {
                                    "0": "Dairy Products",
                                    "1": "15",
                                    "2": "2007"
                                },
                                {
                                    "0": "Seafood",
                                    "1": "10",
                                    "2": "2007"
                                },
                                {
                                    "0": "Meat/Poultry",
                                    "1": "6",
                                    "2": "2007"
                                },
                                {
                                    "0": "Confections",
                                    "1": "35",
                                    "2": "2007"
                                },
                                {
                                    "0": "Produce",
                                    "1": "12",
                                    "2": "2007"
                                },
                                {
                                    "0": "Confections",
                                    "1": "12",
                                    "2": "2007"
                                },
                                {
                                    "0": "Dairy Products",
                                    "1": "49",
                                    "2": "2007"
                                },
                                {
                                    "0": "Dairy Products",
                                    "1": "16",
                                    "2": "2007"
                                },
                                {
                                    "0": "Seafood",
                                    "1": "25",
                                    "2": "2007"
                                },
                                {
                                    "0": "Condiments",
                                    "1": "40",
                                    "2": "2007"
                                },
                                {
                                    "0": "Dairy Products",
                                    "1": "9",
                                    "2": "2007"
                                },
                                {
                                    "0": "Produce",
                                    "1": "20",
                                    "2": "2007"
                                },
                                {
                                    "0": "Beverages",
                                    "1": "24",
                                    "2": "2007"
                                },
                                {
                                    "0": "Confections",
                                    "1": "40",
                                    "2": "2007"
                                },
                                {
                                    "0": "Beverages",
                                    "1": "14",
                                    "2": "2007"
                                },
                                {
                                    "0": "Confections",
                                    "1": "18",
                                    "2": "2007"
                                },
                                {
                                    "0": "Dairy Products",
                                    "1": "50",
                                    "2": "2007"
                                },
                                {
                                    "0": "Meat/Poultry",
                                    "1": "2",
                                    "2": "2007"
                                },
                                {
                                    "0": "Dairy Products",
                                    "1": "20",
                                    "2": "2007"
                                },
                                {
                                    "0": "Confections",
                                    "1": "20",
                                    "2": "2007"
                                },
                                {
                                    "0": "Meat/Poultry",
                                    "1": "10",
                                    "2": "2007"
                                },
                                {
                                    "0": "Grains/Cereals",
                                    "1": "20",
                                    "2": "2007"
                                },
                                {
                                    "0": "Beverages",
                                    "1": "50",
                                    "2": "2007"
                                },
                                {
                                    "0": "Seafood",
                                    "1": "2",
                                    "2": "2007"
                                },
                                {
                                    "0": "Confections",
                                    "1": "36",
                                    "2": "2007"
                                },
                                {
                                    "0": "Condiments",
                                    "1": "35",
                                    "2": "2007"
                                },
                                {
                                    "0": "Beverages",
                                    "1": "60",
                                    "2": "2007"
                                },
                                {
                                    "0": "Confections",
                                    "1": "55",
                                    "2": "2007"
                                },
                                {
                                    "0": "Condiments",
                                    "1": "16",
                                    "2": "2007"
                                },
                                {
                                    "0": "Produce",
                                    "1": "15",
                                    "2": "2007"
                                },
                                {
                                    "0": "Dairy Products",
                                    "1": "60",
                                    "2": "2007"
                                },
                                {
                                    "0": "Dairy Products",
                                    "1": "20",
                                    "2": "2007"
                                },
                                {
                                    "0": "Meat/Poultry",
                                    "1": "20",
                                    "2": "2007"
                                },
                                {
                                    "0": "Seafood",
                                    "1": "2",
                                    "2": "2007"
                                },
                                {
                                    "0": "Beverages",
                                    "1": "8",
                                    "2": "2007"
                                },
                                {
                                    "0": "Seafood",
                                    "1": "20",
                                    "2": "2007"
                                },
                                {
                                    "0": "Confections",
                                    "1": "4",
                                    "2": "2007"
                                },
                                {
                                    "0": "Confections",
                                    "1": "30",
                                    "2": "2007"
                                },
                                {
                                    "0": "Meat/Poultry",
                                    "1": "15",
                                    "2": "2007"
                                },
                                {
                                    "0": "Condiments",
                                    "1": "10",
                                    "2": "2007"
                                },
                                {
                                    "0": "Confections",
                                    "1": "2",
                                    "2": "2007"
                                },
                                {
                                    "0": "Dairy Products",
                                    "1": "14",
                                    "2": "2007"
                                },
                                {
                                    "0": "Dairy Products",
                                    "1": "20",
                                    "2": "2007"
                                },
                                {
                                    "0": "Beverages",
                                    "1": "60",
                                    "2": "2007"
                                },
                                {
                                    "0": "Beverages",
                                    "1": "49",
                                    "2": "2007"
                                },
                                {
                                    "0": "Confections",
                                    "1": "30",
                                    "2": "2007"
                                },
                                {
                                    "0": "Meat/Poultry",
                                    "1": "10",
                                    "2": "2007"
                                },
                                {
                                    "0": "Beverages",
                                    "1": "20",
                                    "2": "2007"
                                },
                                {
                                    "0": "Grains/Cereals",
                                    "1": "5",
                                    "2": "2007"
                                },
                                {
                                    "0": "Grains/Cereals",
                                    "1": "7",
                                    "2": "2007"
                                },
                                {
                                    "0": "Produce",
                                    "1": "35",
                                    "2": "2007"
                                },
                                {
                                    "0": "Seafood",
                                    "1": "20",
                                    "2": "2007"
                                },
                                {
                                    "0": "Confections",
                                    "1": "40",
                                    "2": "2007"
                                },
                                {
                                    "0": "Condiments",
                                    "1": "35",
                                    "2": "2007"
                                },
                                {
                                    "0": "Meat/Poultry",
                                    "1": "45",
                                    "2": "2007"
                                },
                                {
                                    "0": "Confections",
                                    "1": "50",
                                    "2": "2007"
                                },
                                {
                                    "0": "Grains/Cereals",
                                    "1": "30",
                                    "2": "2007"
                                },
                                {
                                    "0": "Dairy Products",
                                    "1": "70",
                                    "2": "2007"
                                },
                                {
                                    "0": "Meat/Poultry",
                                    "1": "50",
                                    "2": "2007"
                                },
                                {
                                    "0": "Seafood",
                                    "1": "50",
                                    "2": "2007"
                                },
                                {
                                    "0": "Confections",
                                    "1": "30",
                                    "2": "2007"
                                },
                                {
                                    "0": "Confections",
                                    "1": "10",
                                    "2": "2007"
                                },
                                {
                                    "0": "Meat/Poultry",
                                    "1": "40",
                                    "2": "2007"
                                },
                                {
                                    "0": "Grains/Cereals",
                                    "1": "28",
                                    "2": "2007"
                                },
                                {
                                    "0": "Dairy Products",
                                    "1": "6",
                                    "2": "2007"
                                },
                                {
                                    "0": "Beverages",
                                    "1": "18",
                                    "2": "2007"
                                },
                                {
                                    "0": "Beverages",
                                    "1": "10",
                                    "2": "2007"
                                },
                                {
                                    "0": "Grains/Cereals",
                                    "1": "12",
                                    "2": "2007"
                                },
                                {
                                    "0": "Dairy Products",
                                    "1": "10",
                                    "2": "2007"
                                },
                                {
                                    "0": "Seafood",
                                    "1": "5",
                                    "2": "2007"
                                },
                                {
                                    "0": "Grains/Cereals",
                                    "1": "40",
                                    "2": "2007"
                                },
                                {
                                    "0": "Grains/Cereals",
                                    "1": "30",
                                    "2": "2007"
                                },
                                {
                                    "0": "Beverages",
                                    "1": "24",
                                    "2": "2007"
                                },
                                {
                                    "0": "Meat/Poultry",
                                    "1": "15",
                                    "2": "2007"
                                },
                                {
                                    "0": "Confections",
                                    "1": "15",
                                    "2": "2007"
                                },
                                {
                                    "0": "Beverages",
                                    "1": "20",
                                    "2": "2007"
                                },
                                {
                                    "0": "Grains/Cereals",
                                    "1": "15",
                                    "2": "2007"
                                },
                                {
                                    "0": "Dairy Products",
                                    "1": "15",
                                    "2": "2007"
                                },
                                {
                                    "0": "Confections",
                                    "1": "16",
                                    "2": "2007"
                                },
                                {
                                    "0": "Grains/Cereals",
                                    "1": "6",
                                    "2": "2007"
                                },
                                {
                                    "0": "Produce",
                                    "1": "30",
                                    "2": "2007"
                                },
                                {
                                    "0": "Beverages",
                                    "1": "45",
                                    "2": "2007"
                                },
                                {
                                    "0": "Confections",
                                    "1": "49",
                                    "2": "2007"
                                },
                                {
                                    "0": "Meat/Poultry",
                                    "1": "24",
                                    "2": "2007"
                                },
                                {
                                    "0": "Condiments",
                                    "1": "90",
                                    "2": "2007"
                                },
                                {
                                    "0": "Confections",
                                    "1": "50",
                                    "2": "2007"
                                },
                                {
                                    "0": "Dairy Products",
                                    "1": "30",
                                    "2": "2007"
                                },
                                {
                                    "0": "Meat/Poultry",
                                    "1": "80",
                                    "2": "2007"
                                },
                                {
                                    "0": "Condiments",
                                    "1": "60",
                                    "2": "2007"
                                },
                                {
                                    "0": "Dairy Products",
                                    "1": "6",
                                    "2": "2007"
                                },
                                {
                                    "0": "Produce",
                                    "1": "12",
                                    "2": "2007"
                                },
                                {
                                    "0": "Meat/Poultry",
                                    "1": "10",
                                    "2": "2007"
                                },
                                {
                                    "0": "Confections",
                                    "1": "15",
                                    "2": "2007"
                                },
                                {
                                    "0": "Beverages",
                                    "1": "8",
                                    "2": "2007"
                                },
                                {
                                    "0": "Seafood",
                                    "1": "30",
                                    "2": "2007"
                                },
                                {
                                    "0": "Beverages",
                                    "1": "6",
                                    "2": "2007"
                                },
                                {
                                    "0": "Meat/Poultry",
                                    "1": "15",
                                    "2": "2007"
                                },
                                {
                                    "0": "Confections",
                                    "1": "12",
                                    "2": "2007"
                                },
                                {
                                    "0": "Beverages",
                                    "1": "20",
                                    "2": "2007"
                                },
                                {
                                    "0": "Dairy Products",
                                    "1": "3",
                                    "2": "2007"
                                },
                                {
                                    "0": "Grains/Cereals",
                                    "1": "15",
                                    "2": "2007"
                                },
                                {
                                    "0": "Confections",
                                    "1": "40",
                                    "2": "2007"
                                },
                                {
                                    "0": "Condiments",
                                    "1": "35",
                                    "2": "2007"
                                },
                                {
                                    "0": "Dairy Products",
                                    "1": "2",
                                    "2": "2007"
                                },
                                {
                                    "0": "Confections",
                                    "1": "6",
                                    "2": "2007"
                                },
                                {
                                    "0": "Seafood",
                                    "1": "20",
                                    "2": "2007"
                                },
                                {
                                    "0": "Seafood",
                                    "1": "14",
                                    "2": "2007"
                                },
                                {
                                    "0": "Grains/Cereals",
                                    "1": "20",
                                    "2": "2007"
                                },
                                {
                                    "0": "Confections",
                                    "1": "35",
                                    "2": "2007"
                                },
                                {
                                    "0": "Seafood",
                                    "1": "20",
                                    "2": "2007"
                                },
                                {
                                    "0": "Meat/Poultry",
                                    "1": "6",
                                    "2": "2007"
                                },
                                {
                                    "0": "Meat/Poultry",
                                    "1": "120",
                                    "2": "2007"
                                },
                                {
                                    "0": "Grains/Cereals",
                                    "1": "35",
                                    "2": "2007"
                                },
                                {
                                    "0": "Condiments",
                                    "1": "28",
                                    "2": "2007"
                                },
                                {
                                    "0": "Condiments",
                                    "1": "55",
                                    "2": "2007"
                                },
                                {
                                    "0": "Produce",
                                    "1": "15",
                                    "2": "2007"
                                },
                                {
                                    "0": "Condiments",
                                    "1": "100",
                                    "2": "2007"
                                },
                                {
                                    "0": "Confections",
                                    "1": "15",
                                    "2": "2007"
                                },
                                {
                                    "0": "Beverages",
                                    "1": "25",
                                    "2": "2007"
                                },
                                {
                                    "0": "Confections",
                                    "1": "20",
                                    "2": "2007"
                                },
                                {
                                    "0": "Dairy Products",
                                    "1": "20",
                                    "2": "2007"
                                },
                                {
                                    "0": "Seafood",
                                    "1": "10",
                                    "2": "2007"
                                },
                                {
                                    "0": "Beverages",
                                    "1": "20",
                                    "2": "2007"
                                },
                                {
                                    "0": "Meat/Poultry",
                                    "1": "50",
                                    "2": "2007"
                                },
                                {
                                    "0": "Condiments",
                                    "1": "25",
                                    "2": "2007"
                                },
                                {
                                    "0": "Dairy Products",
                                    "1": "30",
                                    "2": "2007"
                                },
                                {
                                    "0": "Confections",
                                    "1": "40",
                                    "2": "2007"
                                },
                                {
                                    "0": "Confections",
                                    "1": "21",
                                    "2": "2007"
                                },
                                {
                                    "0": "Dairy Products",
                                    "1": "36",
                                    "2": "2007"
                                },
                                {
                                    "0": "Confections",
                                    "1": "30",
                                    "2": "2007"
                                },
                                {
                                    "0": "Produce",
                                    "1": "30",
                                    "2": "2007"
                                },
                                {
                                    "0": "Beverages",
                                    "1": "20",
                                    "2": "2007"
                                },
                                {
                                    "0": "Grains/Cereals",
                                    "1": "15",
                                    "2": "2007"
                                },
                                {
                                    "0": "Dairy Products",
                                    "1": "50",
                                    "2": "2007"
                                },
                                {
                                    "0": "Produce",
                                    "1": "16",
                                    "2": "2007"
                                },
                                {
                                    "0": "Seafood",
                                    "1": "20",
                                    "2": "2007"
                                },
                                {
                                    "0": "Dairy Products",
                                    "1": "40",
                                    "2": "2007"
                                },
                                {
                                    "0": "Confections",
                                    "1": "21",
                                    "2": "2007"
                                },
                                {
                                    "0": "Beverages",
                                    "1": "4",
                                    "2": "2007"
                                },
                                {
                                    "0": "Confections",
                                    "1": "40",
                                    "2": "2007"
                                },
                                {
                                    "0": "Seafood",
                                    "1": "28",
                                    "2": "2007"
                                },
                                {
                                    "0": "Meat/Poultry",
                                    "1": "60",
                                    "2": "2007"
                                },
                                {
                                    "0": "Seafood",
                                    "1": "1",
                                    "2": "2007"
                                },
                                {
                                    "0": "Grains/Cereals",
                                    "1": "21",
                                    "2": "2007"
                                },
                                {
                                    "0": "Confections",
                                    "1": "21",
                                    "2": "2007"
                                },
                                {
                                    "0": "Grains/Cereals",
                                    "1": "50",
                                    "2": "2007"
                                },
                                {
                                    "0": "Condiments",
                                    "1": "16",
                                    "2": "2007"
                                },
                                {
                                    "0": "Beverages",
                                    "1": "3",
                                    "2": "2007"
                                },
                                {
                                    "0": "Grains/Cereals",
                                    "1": "30",
                                    "2": "2007"
                                },
                                {
                                    "0": "Dairy Products",
                                    "1": "20",
                                    "2": "2007"
                                },
                                {
                                    "0": "Beverages",
                                    "1": "25",
                                    "2": "2007"
                                },
                                {
                                    "0": "Meat/Poultry",
                                    "1": "18",
                                    "2": "2007"
                                },
                                {
                                    "0": "Seafood",
                                    "1": "20",
                                    "2": "2007"
                                },
                                {
                                    "0": "Seafood",
                                    "1": "30",
                                    "2": "2007"
                                },
                                {
                                    "0": "Confections",
                                    "1": "25",
                                    "2": "2007"
                                },
                                {
                                    "0": "Dairy Products",
                                    "1": "10",
                                    "2": "2007"
                                },
                                {
                                    "0": "Seafood",
                                    "1": "5",
                                    "2": "2007"
                                },
                                {
                                    "0": "Beverages",
                                    "1": "28",
                                    "2": "2007"
                                },
                                {
                                    "0": "Confections",
                                    "1": "12",
                                    "2": "2007"
                                },
                                {
                                    "0": "Seafood",
                                    "1": "8",
                                    "2": "2007"
                                },
                                {
                                    "0": "Beverages",
                                    "1": "15",
                                    "2": "2007"
                                },
                                {
                                    "0": "Beverages",
                                    "1": "40",
                                    "2": "2007"
                                },
                                {
                                    "0": "Confections",
                                    "1": "35",
                                    "2": "2007"
                                },
                                {
                                    "0": "Condiments",
                                    "1": "2",
                                    "2": "2007"
                                },
                                {
                                    "0": "Seafood",
                                    "1": "30",
                                    "2": "2007"
                                },
                                {
                                    "0": "Grains/Cereals",
                                    "1": "15",
                                    "2": "2007"
                                },
                                {
                                    "0": "Grains/Cereals",
                                    "1": "8",
                                    "2": "2007"
                                },
                                {
                                    "0": "Produce",
                                    "1": "30",
                                    "2": "2007"
                                },
                                {
                                    "0": "Grains/Cereals",
                                    "1": "20",
                                    "2": "2007"
                                },
                                {
                                    "0": "Beverages",
                                    "1": "80",
                                    "2": "2007"
                                },
                                {
                                    "0": "Produce",
                                    "1": "18",
                                    "2": "2007"
                                },
                                {
                                    "0": "Dairy Products",
                                    "1": "12",
                                    "2": "2007"
                                },
                                {
                                    "0": "Dairy Products",
                                    "1": "12",
                                    "2": "2007"
                                },
                                {
                                    "0": "Produce",
                                    "1": "12",
                                    "2": "2007"
                                },
                                {
                                    "0": "Produce",
                                    "1": "18",
                                    "2": "2007"
                                },
                                {
                                    "0": "Seafood",
                                    "1": "21",
                                    "2": "2007"
                                },
                                {
                                    "0": "Beverages",
                                    "1": "10",
                                    "2": "2007"
                                },
                                {
                                    "0": "Dairy Products",
                                    "1": "35",
                                    "2": "2007"
                                },
                                {
                                    "0": "Condiments",
                                    "1": "60",
                                    "2": "2007"
                                },
                                {
                                    "0": "Beverages",
                                    "1": "42",
                                    "2": "2007"
                                },
                                {
                                    "0": "Meat/Poultry",
                                    "1": "2",
                                    "2": "2007"
                                },
                                {
                                    "0": "Beverages",
                                    "1": "12",
                                    "2": "2007"
                                },
                                {
                                    "0": "Beverages",
                                    "1": "15",
                                    "2": "2007"
                                },
                                {
                                    "0": "Confections",
                                    "1": "21",
                                    "2": "2007"
                                },
                                {
                                    "0": "Beverages",
                                    "1": "20",
                                    "2": "2007"
                                },
                                {
                                    "0": "Seafood",
                                    "1": "20",
                                    "2": "2007"
                                },
                                {
                                    "0": "Beverages",
                                    "1": "30",
                                    "2": "2007"
                                },
                                {
                                    "0": "Meat/Poultry",
                                    "1": "28",
                                    "2": "2007"
                                },
                                {
                                    "0": "Dairy Products",
                                    "1": "60",
                                    "2": "2007"
                                },
                                {
                                    "0": "Grains/Cereals",
                                    "1": "30",
                                    "2": "2007"
                                },
                                {
                                    "0": "Confections",
                                    "1": "30",
                                    "2": "2007"
                                },
                                {
                                    "0": "Dairy Products",
                                    "1": "12",
                                    "2": "2007"
                                },
                                {
                                    "0": "Confections",
                                    "1": "24",
                                    "2": "2007"
                                },
                                {
                                    "0": "Dairy Products",
                                    "1": "40",
                                    "2": "2007"
                                },
                                {
                                    "0": "Seafood",
                                    "1": "10",
                                    "2": "2007"
                                },
                                {
                                    "0": "Beverages",
                                    "1": "35",
                                    "2": "2007"
                                },
                                {
                                    "0": "Condiments",
                                    "1": "30",
                                    "2": "2007"
                                },
                                {
                                    "0": "Confections",
                                    "1": "14",
                                    "2": "2007"
                                },
                                {
                                    "0": "Seafood",
                                    "1": "10",
                                    "2": "2007"
                                },
                                {
                                    "0": "Produce",
                                    "1": "3",
                                    "2": "2007"
                                },
                                {
                                    "0": "Beverages",
                                    "1": "20",
                                    "2": "2007"
                                },
                                {
                                    "0": "Condiments",
                                    "1": "20",
                                    "2": "2007"
                                },
                                {
                                    "0": "Meat/Poultry",
                                    "1": "30",
                                    "2": "2007"
                                },
                                {
                                    "0": "Beverages",
                                    "1": "60",
                                    "2": "2007"
                                },
                                {
                                    "0": "Dairy Products",
                                    "1": "5",
                                    "2": "2007"
                                },
                                {
                                    "0": "Produce",
                                    "1": "25",
                                    "2": "2007"
                                },
                                {
                                    "0": "Produce",
                                    "1": "16",
                                    "2": "2007"
                                },
                                {
                                    "0": "Confections",
                                    "1": "5",
                                    "2": "2007"
                                },
                                {
                                    "0": "Confections",
                                    "1": "30",
                                    "2": "2007"
                                },
                                {
                                    "0": "Meat/Poultry",
                                    "1": "24",
                                    "2": "2007"
                                },
                                {
                                    "0": "Dairy Products",
                                    "1": "30",
                                    "2": "2007"
                                },
                                {
                                    "0": "Seafood",
                                    "1": "20",
                                    "2": "2007"
                                },
                                {
                                    "0": "Dairy Products",
                                    "1": "15",
                                    "2": "2007"
                                },
                                {
                                    "0": "Confections",
                                    "1": "18",
                                    "2": "2007"
                                },
                                {
                                    "0": "Dairy Products",
                                    "1": "60",
                                    "2": "2007"
                                },
                                {
                                    "0": "Confections",
                                    "1": "30",
                                    "2": "2007"
                                },
                                {
                                    "0": "Beverages",
                                    "1": "36",
                                    "2": "2007"
                                },
                                {
                                    "0": "Condiments",
                                    "1": "15",
                                    "2": "2007"
                                },
                                {
                                    "0": "Condiments",
                                    "1": "7",
                                    "2": "2007"
                                },
                                {
                                    "0": "Confections",
                                    "1": "60",
                                    "2": "2007"
                                },
                                {
                                    "0": "Grains/Cereals",
                                    "1": "20",
                                    "2": "2007"
                                },
                                {
                                    "0": "Condiments",
                                    "1": "15",
                                    "2": "2007"
                                },
                                {
                                    "0": "Condiments",
                                    "1": "10",
                                    "2": "2007"
                                },
                                {
                                    "0": "Dairy Products",
                                    "1": "10",
                                    "2": "2007"
                                },
                                {
                                    "0": "Grains/Cereals",
                                    "1": "30",
                                    "2": "2007"
                                },
                                {
                                    "0": "Grains/Cereals",
                                    "1": "10",
                                    "2": "2007"
                                },
                                {
                                    "0": "Seafood",
                                    "1": "20",
                                    "2": "2007"
                                },
                                {
                                    "0": "Condiments",
                                    "1": "5",
                                    "2": "2007"
                                },
                                {
                                    "0": "Dairy Products",
                                    "1": "20",
                                    "2": "2007"
                                },
                                {
                                    "0": "Grains/Cereals",
                                    "1": "14",
                                    "2": "2007"
                                },
                                {
                                    "0": "Dairy Products",
                                    "1": "25",
                                    "2": "2007"
                                },
                                {
                                    "0": "Condiments",
                                    "1": "25",
                                    "2": "2007"
                                },
                                {
                                    "0": "Beverages",
                                    "1": "14",
                                    "2": "2007"
                                },
                                {
                                    "0": "Seafood",
                                    "1": "5",
                                    "2": "2007"
                                },
                                {
                                    "0": "Grains/Cereals",
                                    "1": "30",
                                    "2": "2007"
                                },
                                {
                                    "0": "Produce",
                                    "1": "20",
                                    "2": "2007"
                                },
                                {
                                    "0": "Confections",
                                    "1": "25",
                                    "2": "2007"
                                },
                                {
                                    "0": "Condiments",
                                    "1": "12",
                                    "2": "2007"
                                },
                                {
                                    "0": "Produce",
                                    "1": "8",
                                    "2": "2007"
                                },
                                {
                                    "0": "Meat/Poultry",
                                    "1": "20",
                                    "2": "2007"
                                },
                                {
                                    "0": "Seafood",
                                    "1": "21",
                                    "2": "2007"
                                },
                                {
                                    "0": "Meat/Poultry",
                                    "1": "6",
                                    "2": "2007"
                                },
                                {
                                    "0": "Beverages",
                                    "1": "30",
                                    "2": "2007"
                                },
                                {
                                    "0": "Produce",
                                    "1": "70",
                                    "2": "2007"
                                },
                                {
                                    "0": "Condiments",
                                    "1": "20",
                                    "2": "2007"
                                },
                                {
                                    "0": "Beverages",
                                    "1": "12",
                                    "2": "2007"
                                },
                                {
                                    "0": "Confections",
                                    "1": "12",
                                    "2": "2007"
                                },
                                {
                                    "0": "Meat/Poultry",
                                    "1": "10",
                                    "2": "2007"
                                },
                                {
                                    "0": "Condiments",
                                    "1": "25",
                                    "2": "2007"
                                },
                                {
                                    "0": "Confections",
                                    "1": "3",
                                    "2": "2007"
                                },
                                {
                                    "0": "Confections",
                                    "1": "18",
                                    "2": "2007"
                                },
                                {
                                    "0": "Beverages",
                                    "1": "14",
                                    "2": "2007"
                                },
                                {
                                    "0": "Beverages",
                                    "1": "15",
                                    "2": "2007"
                                },
                                {
                                    "0": "Confections",
                                    "1": "15",
                                    "2": "2007"
                                },
                                {
                                    "0": "Seafood",
                                    "1": "10",
                                    "2": "2007"
                                },
                                {
                                    "0": "Beverages",
                                    "1": "10",
                                    "2": "2007"
                                },
                                {
                                    "0": "Produce",
                                    "1": "3",
                                    "2": "2007"
                                },
                                {
                                    "0": "Meat/Poultry",
                                    "1": "36",
                                    "2": "2007"
                                },
                                {
                                    "0": "Beverages",
                                    "1": "36",
                                    "2": "2007"
                                },
                                {
                                    "0": "Condiments",
                                    "1": "50",
                                    "2": "2007"
                                },
                                {
                                    "0": "Produce",
                                    "1": "50",
                                    "2": "2007"
                                },
                                {
                                    "0": "Condiments",
                                    "1": "10",
                                    "2": "2007"
                                },
                                {
                                    "0": "Beverages",
                                    "1": "10",
                                    "2": "2007"
                                },
                                {
                                    "0": "Seafood",
                                    "1": "9",
                                    "2": "2007"
                                },
                                {
                                    "0": "Confections",
                                    "1": "6",
                                    "2": "2007"
                                },
                                {
                                    "0": "Dairy Products",
                                    "1": "12",
                                    "2": "2007"
                                },
                                {
                                    "0": "Confections",
                                    "1": "40",
                                    "2": "2007"
                                },
                                {
                                    "0": "Dairy Products",
                                    "1": "50",
                                    "2": "2007"
                                },
                                {
                                    "0": "Condiments",
                                    "1": "15",
                                    "2": "2007"
                                },
                                {
                                    "0": "Confections",
                                    "1": "39",
                                    "2": "2007"
                                },
                                {
                                    "0": "Produce",
                                    "1": "35",
                                    "2": "2007"
                                },
                                {
                                    "0": "Grains/Cereals",
                                    "1": "70",
                                    "2": "2007"
                                },
                                {
                                    "0": "Condiments",
                                    "1": "39",
                                    "2": "2007"
                                },
                                {
                                    "0": "Beverages",
                                    "1": "50",
                                    "2": "2007"
                                },
                                {
                                    "0": "Meat/Poultry",
                                    "1": "16",
                                    "2": "2007"
                                },
                                {
                                    "0": "Confections",
                                    "1": "50",
                                    "2": "2007"
                                },
                                {
                                    "0": "Confections",
                                    "1": "120",
                                    "2": "2007"
                                },
                                {
                                    "0": "Dairy Products",
                                    "1": "16",
                                    "2": "2007"
                                },
                                {
                                    "0": "Dairy Products",
                                    "1": "84",
                                    "2": "2007"
                                },
                                {
                                    "0": "Seafood",
                                    "1": "25",
                                    "2": "2007"
                                },
                                {
                                    "0": "Seafood",
                                    "1": "80",
                                    "2": "2007"
                                },
                                {
                                    "0": "Grains/Cereals",
                                    "1": "20",
                                    "2": "2007"
                                },
                                {
                                    "0": "Grains/Cereals",
                                    "1": "6",
                                    "2": "2007"
                                },
                                {
                                    "0": "Dairy Products",
                                    "1": "4",
                                    "2": "2007"
                                },
                                {
                                    "0": "Beverages",
                                    "1": "6",
                                    "2": "2007"
                                },
                                {
                                    "0": "Beverages",
                                    "1": "5",
                                    "2": "2007"
                                },
                                {
                                    "0": "Beverages",
                                    "1": "15",
                                    "2": "2007"
                                },
                                {
                                    "0": "Condiments",
                                    "1": "9",
                                    "2": "2007"
                                },
                                {
                                    "0": "Seafood",
                                    "1": "16",
                                    "2": "2007"
                                },
                                {
                                    "0": "Grains/Cereals",
                                    "1": "40",
                                    "2": "2007"
                                },
                                {
                                    "0": "Dairy Products",
                                    "1": "10",
                                    "2": "2007"
                                },
                                {
                                    "0": "Beverages",
                                    "1": "8",
                                    "2": "2007"
                                },
                                {
                                    "0": "Meat/Poultry",
                                    "1": "5",
                                    "2": "2007"
                                },
                                {
                                    "0": "Beverages",
                                    "1": "3",
                                    "2": "2007"
                                },
                                {
                                    "0": "Seafood",
                                    "1": "10",
                                    "2": "2007"
                                },
                                {
                                    "0": "Confections",
                                    "1": "6",
                                    "2": "2007"
                                },
                                {
                                    "0": "Beverages",
                                    "1": "40",
                                    "2": "2007"
                                },
                                {
                                    "0": "Condiments",
                                    "1": "24",
                                    "2": "2007"
                                },
                                {
                                    "0": "Seafood",
                                    "1": "20",
                                    "2": "2007"
                                },
                                {
                                    "0": "Seafood",
                                    "1": "25",
                                    "2": "2007"
                                },
                                {
                                    "0": "Meat/Poultry",
                                    "1": "25",
                                    "2": "2007"
                                },
                                {
                                    "0": "Confections",
                                    "1": "15",
                                    "2": "2007"
                                },
                                {
                                    "0": "Seafood",
                                    "1": "18",
                                    "2": "2007"
                                },
                                {
                                    "0": "Seafood",
                                    "1": "6",
                                    "2": "2007"
                                },
                                {
                                    "0": "Seafood",
                                    "1": "2",
                                    "2": "2007"
                                },
                                {
                                    "0": "Seafood",
                                    "1": "10",
                                    "2": "2007"
                                },
                                {
                                    "0": "Beverages",
                                    "1": "60",
                                    "2": "2007"
                                },
                                {
                                    "0": "Meat/Poultry",
                                    "1": "15",
                                    "2": "2007"
                                },
                                {
                                    "0": "Seafood",
                                    "1": "30",
                                    "2": "2007"
                                },
                                {
                                    "0": "Seafood",
                                    "1": "15",
                                    "2": "2007"
                                },
                                {
                                    "0": "Beverages",
                                    "1": "8",
                                    "2": "2007"
                                },
                                {
                                    "0": "Seafood",
                                    "1": "10",
                                    "2": "2007"
                                },
                                {
                                    "0": "Grains/Cereals",
                                    "1": "30",
                                    "2": "2007"
                                },
                                {
                                    "0": "Condiments",
                                    "1": "50",
                                    "2": "2007"
                                },
                                {
                                    "0": "Seafood",
                                    "1": "30",
                                    "2": "2007"
                                },
                                {
                                    "0": "Dairy Products",
                                    "1": "3",
                                    "2": "2007"
                                },
                                {
                                    "0": "Dairy Products",
                                    "1": "8",
                                    "2": "2007"
                                },
                                {
                                    "0": "Dairy Products",
                                    "1": "9",
                                    "2": "2007"
                                },
                                {
                                    "0": "Meat/Poultry",
                                    "1": "14",
                                    "2": "2007"
                                },
                                {
                                    "0": "Confections",
                                    "1": "20",
                                    "2": "2007"
                                },
                                {
                                    "0": "Dairy Products",
                                    "1": "10",
                                    "2": "2007"
                                },
                                {
                                    "0": "Meat/Poultry",
                                    "1": "40",
                                    "2": "2007"
                                },
                                {
                                    "0": "Beverages",
                                    "1": "25",
                                    "2": "2007"
                                },
                                {
                                    "0": "Condiments",
                                    "1": "20",
                                    "2": "2007"
                                },
                                {
                                    "0": "Beverages",
                                    "1": "50",
                                    "2": "2007"
                                },
                                {
                                    "0": "Dairy Products",
                                    "1": "2",
                                    "2": "2007"
                                },
                                {
                                    "0": "Seafood",
                                    "1": "15",
                                    "2": "2007"
                                },
                                {
                                    "0": "Condiments",
                                    "1": "24",
                                    "2": "2007"
                                },
                                {
                                    "0": "Condiments",
                                    "1": "50",
                                    "2": "2007"
                                },
                                {
                                    "0": "Dairy Products",
                                    "1": "24",
                                    "2": "2007"
                                },
                                {
                                    "0": "Seafood",
                                    "1": "24",
                                    "2": "2007"
                                },
                                {
                                    "0": "Seafood",
                                    "1": "10",
                                    "2": "2007"
                                },
                                {
                                    "0": "Seafood",
                                    "1": "10",
                                    "2": "2007"
                                },
                                {
                                    "0": "Meat/Poultry",
                                    "1": "10",
                                    "2": "2007"
                                },
                                {
                                    "0": "Dairy Products",
                                    "1": "50",
                                    "2": "2007"
                                },
                                {
                                    "0": "Seafood",
                                    "1": "10",
                                    "2": "2007"
                                },
                                {
                                    "0": "Grains/Cereals",
                                    "1": "5",
                                    "2": "2007"
                                },
                                {
                                    "0": "Dairy Products",
                                    "1": "15",
                                    "2": "2007"
                                },
                                {
                                    "0": "Dairy Products",
                                    "1": "15",
                                    "2": "2007"
                                },
                                {
                                    "0": "Dairy Products",
                                    "1": "20",
                                    "2": "2007"
                                },
                                {
                                    "0": "Dairy Products",
                                    "1": "30",
                                    "2": "2007"
                                },
                                {
                                    "0": "Dairy Products",
                                    "1": "35",
                                    "2": "2007"
                                },
                                {
                                    "0": "Dairy Products",
                                    "1": "30",
                                    "2": "2007"
                                },
                                {
                                    "0": "Produce",
                                    "1": "6",
                                    "2": "2007"
                                },
                                {
                                    "0": "Seafood",
                                    "1": "20",
                                    "2": "2007"
                                },
                                {
                                    "0": "Dairy Products",
                                    "1": "21",
                                    "2": "2007"
                                },
                                {
                                    "0": "Seafood",
                                    "1": "9",
                                    "2": "2007"
                                },
                                {
                                    "0": "Beverages",
                                    "1": "7",
                                    "2": "2007"
                                },
                                {
                                    "0": "Dairy Products",
                                    "1": "1",
                                    "2": "2007"
                                },
                                {
                                    "0": "Seafood",
                                    "1": "8",
                                    "2": "2007"
                                },
                                {
                                    "0": "Confections",
                                    "1": "15",
                                    "2": "2007"
                                },
                                {
                                    "0": "Dairy Products",
                                    "1": "15",
                                    "2": "2007"
                                },
                                {
                                    "0": "Confections",
                                    "1": "6",
                                    "2": "2007"
                                },
                                {
                                    "0": "Condiments",
                                    "1": "60",
                                    "2": "2007"
                                },
                                {
                                    "0": "Confections",
                                    "1": "40",
                                    "2": "2007"
                                },
                                {
                                    "0": "Beverages",
                                    "1": "30",
                                    "2": "2007"
                                },
                                {
                                    "0": "Confections",
                                    "1": "35",
                                    "2": "2007"
                                },
                                {
                                    "0": "Beverages",
                                    "1": "35",
                                    "2": "2007"
                                },
                                {
                                    "0": "Beverages",
                                    "1": "4",
                                    "2": "2007"
                                },
                                {
                                    "0": "Condiments",
                                    "1": "36",
                                    "2": "2007"
                                },
                                {
                                    "0": "Dairy Products",
                                    "1": "9",
                                    "2": "2007"
                                },
                                {
                                    "0": "Dairy Products",
                                    "1": "15",
                                    "2": "2007"
                                },
                                {
                                    "0": "Meat/Poultry",
                                    "1": "24",
                                    "2": "2007"
                                },
                                {
                                    "0": "Dairy Products",
                                    "1": "30",
                                    "2": "2007"
                                },
                                {
                                    "0": "Grains/Cereals",
                                    "1": "70",
                                    "2": "2007"
                                },
                                {
                                    "0": "Produce",
                                    "1": "7",
                                    "2": "2007"
                                },
                                {
                                    "0": "Beverages",
                                    "1": "7",
                                    "2": "2007"
                                },
                                {
                                    "0": "Dairy Products",
                                    "1": "10",
                                    "2": "2007"
                                },
                                {
                                    "0": "Produce",
                                    "1": "10",
                                    "2": "2007"
                                },
                                {
                                    "0": "Beverages",
                                    "1": "30",
                                    "2": "2007"
                                },
                                {
                                    "0": "Confections",
                                    "1": "40",
                                    "2": "2007"
                                },
                                {
                                    "0": "Dairy Products",
                                    "1": "24",
                                    "2": "2007"
                                },
                                {
                                    "0": "Seafood",
                                    "1": "60",
                                    "2": "2007"
                                },
                                {
                                    "0": "Beverages",
                                    "1": "10",
                                    "2": "2007"
                                },
                                {
                                    "0": "Seafood",
                                    "1": "14",
                                    "2": "2007"
                                },
                                {
                                    "0": "Dairy Products",
                                    "1": "55",
                                    "2": "2007"
                                },
                                {
                                    "0": "Seafood",
                                    "1": "100",
                                    "2": "2007"
                                },
                                {
                                    "0": "Produce",
                                    "1": "48",
                                    "2": "2007"
                                },
                                {
                                    "0": "Meat/Poultry",
                                    "1": "8",
                                    "2": "2007"
                                },
                                {
                                    "0": "Confections",
                                    "1": "10",
                                    "2": "2007"
                                },
                                {
                                    "0": "Confections",
                                    "1": "6",
                                    "2": "2007"
                                },
                                {
                                    "0": "Condiments",
                                    "1": "10",
                                    "2": "2007"
                                },
                                {
                                    "0": "Confections",
                                    "1": "40",
                                    "2": "2007"
                                },
                                {
                                    "0": "Beverages",
                                    "1": "20",
                                    "2": "2007"
                                },
                                {
                                    "0": "Condiments",
                                    "1": "40",
                                    "2": "2007"
                                },
                                {
                                    "0": "Dairy Products",
                                    "1": "18",
                                    "2": "2007"
                                },
                                {
                                    "0": "Beverages",
                                    "1": "30",
                                    "2": "2007"
                                },
                                {
                                    "0": "Dairy Products",
                                    "1": "15",
                                    "2": "2007"
                                },
                                {
                                    "0": "Confections",
                                    "1": "14",
                                    "2": "2007"
                                },
                                {
                                    "0": "Grains/Cereals",
                                    "1": "24",
                                    "2": "2007"
                                },
                                {
                                    "0": "Dairy Products",
                                    "1": "30",
                                    "2": "2007"
                                },
                                {
                                    "0": "Beverages",
                                    "1": "6",
                                    "2": "2007"
                                },
                                {
                                    "0": "Confections",
                                    "1": "30",
                                    "2": "2007"
                                },
                                {
                                    "0": "Grains/Cereals",
                                    "1": "20",
                                    "2": "2007"
                                },
                                {
                                    "0": "Confections",
                                    "1": "20",
                                    "2": "2007"
                                },
                                {
                                    "0": "Condiments",
                                    "1": "10",
                                    "2": "2007"
                                },
                                {
                                    "0": "Produce",
                                    "1": "30",
                                    "2": "2007"
                                },
                                {
                                    "0": "Confections",
                                    "1": "35",
                                    "2": "2007"
                                },
                                {
                                    "0": "Beverages",
                                    "1": "18",
                                    "2": "2007"
                                },
                                {
                                    "0": "Produce",
                                    "1": "20",
                                    "2": "2007"
                                },
                                {
                                    "0": "Grains/Cereals",
                                    "1": "40",
                                    "2": "2007"
                                },
                                {
                                    "0": "Dairy Products",
                                    "1": "24",
                                    "2": "2007"
                                },
                                {
                                    "0": "Grains/Cereals",
                                    "1": "30",
                                    "2": "2007"
                                },
                                {
                                    "0": "Beverages",
                                    "1": "20",
                                    "2": "2007"
                                },
                                {
                                    "0": "Confections",
                                    "1": "25",
                                    "2": "2007"
                                },
                                {
                                    "0": "Produce",
                                    "1": "20",
                                    "2": "2007"
                                },
                                {
                                    "0": "Grains/Cereals",
                                    "1": "30",
                                    "2": "2007"
                                },
                                {
                                    "0": "Meat/Poultry",
                                    "1": "18",
                                    "2": "2007"
                                },
                                {
                                    "0": "Seafood",
                                    "1": "3",
                                    "2": "2007"
                                },
                                {
                                    "0": "Seafood",
                                    "1": "12",
                                    "2": "2007"
                                },
                                {
                                    "0": "Meat/Poultry",
                                    "1": "18",
                                    "2": "2007"
                                },
                                {
                                    "0": "Seafood",
                                    "1": "20",
                                    "2": "2007"
                                },
                                {
                                    "0": "Confections",
                                    "1": "15",
                                    "2": "2007"
                                },
                                {
                                    "0": "Condiments",
                                    "1": "10",
                                    "2": "2007"
                                },
                                {
                                    "0": "Produce",
                                    "1": "50",
                                    "2": "2007"
                                },
                                {
                                    "0": "Dairy Products",
                                    "1": "20",
                                    "2": "2007"
                                },
                                {
                                    "0": "Confections",
                                    "1": "10",
                                    "2": "2007"
                                },
                                {
                                    "0": "Seafood",
                                    "1": "25",
                                    "2": "2007"
                                },
                                {
                                    "0": "Grains/Cereals",
                                    "1": "70",
                                    "2": "2007"
                                },
                                {
                                    "0": "Meat/Poultry",
                                    "1": "16",
                                    "2": "2007"
                                },
                                {
                                    "0": "Dairy Products",
                                    "1": "6",
                                    "2": "2007"
                                },
                                {
                                    "0": "Meat/Poultry",
                                    "1": "25",
                                    "2": "2007"
                                },
                                {
                                    "0": "Beverages",
                                    "1": "25",
                                    "2": "2007"
                                },
                                {
                                    "0": "Grains/Cereals",
                                    "1": "18",
                                    "2": "2007"
                                },
                                {
                                    "0": "Dairy Products",
                                    "1": "35",
                                    "2": "2007"
                                },
                                {
                                    "0": "Seafood",
                                    "1": "18",
                                    "2": "2007"
                                },
                                {
                                    "0": "Beverages",
                                    "1": "10",
                                    "2": "2007"
                                },
                                {
                                    "0": "Dairy Products",
                                    "1": "60",
                                    "2": "2007"
                                },
                                {
                                    "0": "Produce",
                                    "1": "3",
                                    "2": "2007"
                                },
                                {
                                    "0": "Dairy Products",
                                    "1": "40",
                                    "2": "2007"
                                },
                                {
                                    "0": "Seafood",
                                    "1": "5",
                                    "2": "2007"
                                },
                                {
                                    "0": "Dairy Products",
                                    "1": "35",
                                    "2": "2007"
                                },
                                {
                                    "0": "Beverages",
                                    "1": "30",
                                    "2": "2007"
                                },
                                {
                                    "0": "Dairy Products",
                                    "1": "15",
                                    "2": "2007"
                                },
                                {
                                    "0": "Grains/Cereals",
                                    "1": "60",
                                    "2": "2007"
                                },
                                {
                                    "0": "Produce",
                                    "1": "11",
                                    "2": "2007"
                                },
                                {
                                    "0": "Grains/Cereals",
                                    "1": "28",
                                    "2": "2007"
                                },
                                {
                                    "0": "Confections",
                                    "1": "12",
                                    "2": "2007"
                                },
                                {
                                    "0": "Dairy Products",
                                    "1": "10",
                                    "2": "2007"
                                },
                                {
                                    "0": "Seafood",
                                    "1": "50",
                                    "2": "2007"
                                },
                                {
                                    "0": "Beverages",
                                    "1": "15",
                                    "2": "2007"
                                },
                                {
                                    "0": "Meat/Poultry",
                                    "1": "18",
                                    "2": "2007"
                                },
                                {
                                    "0": "Beverages",
                                    "1": "40",
                                    "2": "2007"
                                },
                                {
                                    "0": "Meat/Poultry",
                                    "1": "25",
                                    "2": "2007"
                                },
                                {
                                    "0": "Dairy Products",
                                    "1": "14",
                                    "2": "2007"
                                },
                                {
                                    "0": "Seafood",
                                    "1": "2",
                                    "2": "2007"
                                },
                                {
                                    "0": "Confections",
                                    "1": "10",
                                    "2": "2007"
                                },
                                {
                                    "0": "Grains/Cereals",
                                    "1": "6",
                                    "2": "2007"
                                },
                                {
                                    "0": "Dairy Products",
                                    "1": "12",
                                    "2": "2007"
                                },
                                {
                                    "0": "Condiments",
                                    "1": "6",
                                    "2": "2007"
                                },
                                {
                                    "0": "Dairy Products",
                                    "1": "30",
                                    "2": "2007"
                                },
                                {
                                    "0": "Beverages",
                                    "1": "10",
                                    "2": "2007"
                                },
                                {
                                    "0": "Beverages",
                                    "1": "10",
                                    "2": "2007"
                                },
                                {
                                    "0": "Dairy Products",
                                    "1": "20",
                                    "2": "2007"
                                },
                                {
                                    "0": "Condiments",
                                    "1": "21",
                                    "2": "2007"
                                },
                                {
                                    "0": "Beverages",
                                    "1": "10",
                                    "2": "2007"
                                },
                                {
                                    "0": "Beverages",
                                    "1": "20",
                                    "2": "2007"
                                },
                                {
                                    "0": "Condiments",
                                    "1": "18",
                                    "2": "2007"
                                },
                                {
                                    "0": "Beverages",
                                    "1": "20",
                                    "2": "2007"
                                },
                                {
                                    "0": "Grains/Cereals",
                                    "1": "6",
                                    "2": "2007"
                                },
                                {
                                    "0": "Condiments",
                                    "1": "10",
                                    "2": "2007"
                                },
                                {
                                    "0": "Beverages",
                                    "1": "21",
                                    "2": "2007"
                                },
                                {
                                    "0": "Produce",
                                    "1": "15",
                                    "2": "2007"
                                },
                                {
                                    "0": "Seafood",
                                    "1": "9",
                                    "2": "2007"
                                },
                                {
                                    "0": "Condiments",
                                    "1": "30",
                                    "2": "2007"
                                },
                                {
                                    "0": "Beverages",
                                    "1": "50",
                                    "2": "2007"
                                },
                                {
                                    "0": "Grains/Cereals",
                                    "1": "4",
                                    "2": "2007"
                                },
                                {
                                    "0": "Beverages",
                                    "1": "14",
                                    "2": "2007"
                                },
                                {
                                    "0": "Meat/Poultry",
                                    "1": "10",
                                    "2": "2007"
                                },
                                {
                                    "0": "Dairy Products",
                                    "1": "24",
                                    "2": "2007"
                                },
                                {
                                    "0": "Dairy Products",
                                    "1": "10",
                                    "2": "2007"
                                },
                                {
                                    "0": "Dairy Products",
                                    "1": "50",
                                    "2": "2007"
                                },
                                {
                                    "0": "Confections",
                                    "1": "15",
                                    "2": "2007"
                                },
                                {
                                    "0": "Grains/Cereals",
                                    "1": "4",
                                    "2": "2007"
                                },
                                {
                                    "0": "Confections",
                                    "1": "6",
                                    "2": "2007"
                                },
                                {
                                    "0": "Beverages",
                                    "1": "20",
                                    "2": "2007"
                                },
                                {
                                    "0": "Condiments",
                                    "1": "20",
                                    "2": "2007"
                                },
                                {
                                    "0": "Seafood",
                                    "1": "40",
                                    "2": "2007"
                                },
                                {
                                    "0": "Grains/Cereals",
                                    "1": "100",
                                    "2": "2007"
                                },
                                {
                                    "0": "Beverages",
                                    "1": "4",
                                    "2": "2007"
                                },
                                {
                                    "0": "Beverages",
                                    "1": "20",
                                    "2": "2007"
                                },
                                {
                                    "0": "Condiments",
                                    "1": "60",
                                    "2": "2007"
                                },
                                {
                                    "0": "Condiments",
                                    "1": "14",
                                    "2": "2007"
                                },
                                {
                                    "0": "Produce",
                                    "1": "10",
                                    "2": "2007"
                                },
                                {
                                    "0": "Meat/Poultry",
                                    "1": "50",
                                    "2": "2007"
                                },
                                {
                                    "0": "Condiments",
                                    "1": "25",
                                    "2": "2007"
                                },
                                {
                                    "0": "Confections",
                                    "1": "5",
                                    "2": "2007"
                                },
                                {
                                    "0": "Confections",
                                    "1": "21",
                                    "2": "2007"
                                },
                                {
                                    "0": "Dairy Products",
                                    "1": "20",
                                    "2": "2007"
                                },
                                {
                                    "0": "Beverages",
                                    "1": "4",
                                    "2": "2007"
                                },
                                {
                                    "0": "Grains/Cereals",
                                    "1": "24",
                                    "2": "2007"
                                },
                                {
                                    "0": "Seafood",
                                    "1": "30",
                                    "2": "2007"
                                },
                                {
                                    "0": "Beverages",
                                    "1": "30",
                                    "2": "2007"
                                },
                                {
                                    "0": "Condiments",
                                    "1": "120",
                                    "2": "2007"
                                },
                                {
                                    "0": "Dairy Products",
                                    "1": "65",
                                    "2": "2007"
                                },
                                {
                                    "0": "Grains/Cereals",
                                    "1": "5",
                                    "2": "2007"
                                },
                                {
                                    "0": "Condiments",
                                    "1": "24",
                                    "2": "2007"
                                },
                                {
                                    "0": "Beverages",
                                    "1": "30",
                                    "2": "2007"
                                },
                                {
                                    "0": "Beverages",
                                    "1": "35",
                                    "2": "2007"
                                },
                                {
                                    "0": "Grains/Cereals",
                                    "1": "20",
                                    "2": "2007"
                                },
                                {
                                    "0": "Condiments",
                                    "1": "12",
                                    "2": "2007"
                                },
                                {
                                    "0": "Confections",
                                    "1": "50",
                                    "2": "2007"
                                },
                                {
                                    "0": "Dairy Products",
                                    "1": "9",
                                    "2": "2007"
                                },
                                {
                                    "0": "Confections",
                                    "1": "10",
                                    "2": "2007"
                                },
                                {
                                    "0": "Meat/Poultry",
                                    "1": "4",
                                    "2": "2007"
                                },
                                {
                                    "0": "Seafood",
                                    "1": "30",
                                    "2": "2007"
                                },
                                {
                                    "0": "Seafood",
                                    "1": "60",
                                    "2": "2007"
                                },
                                {
                                    "0": "Dairy Products",
                                    "1": "35",
                                    "2": "2007"
                                },
                                {
                                    "0": "Condiments",
                                    "1": "5",
                                    "2": "2007"
                                },
                                {
                                    "0": "Grains/Cereals",
                                    "1": "48",
                                    "2": "2007"
                                },
                                {
                                    "0": "Confections",
                                    "1": "25",
                                    "2": "2007"
                                },
                                {
                                    "0": "Confections",
                                    "1": "6",
                                    "2": "2007"
                                },
                                {
                                    "0": "Beverages",
                                    "1": "10",
                                    "2": "2007"
                                },
                                {
                                    "0": "Confections",
                                    "1": "30",
                                    "2": "2007"
                                },
                                {
                                    "0": "Dairy Products",
                                    "1": "20",
                                    "2": "2007"
                                },
                                {
                                    "0": "Dairy Products",
                                    "1": "70",
                                    "2": "2007"
                                },
                                {
                                    "0": "Dairy Products",
                                    "1": "15",
                                    "2": "2007"
                                },
                                {
                                    "0": "Condiments",
                                    "1": "20",
                                    "2": "2007"
                                },
                                {
                                    "0": "Meat/Poultry",
                                    "1": "20",
                                    "2": "2007"
                                },
                                {
                                    "0": "Confections",
                                    "1": "10",
                                    "2": "2007"
                                },
                                {
                                    "0": "Produce",
                                    "1": "45",
                                    "2": "2007"
                                },
                                {
                                    "0": "Meat/Poultry",
                                    "1": "100",
                                    "2": "2007"
                                },
                                {
                                    "0": "Dairy Products",
                                    "1": "14",
                                    "2": "2007"
                                },
                                {
                                    "0": "Seafood",
                                    "1": "42",
                                    "2": "2007"
                                },
                                {
                                    "0": "Dairy Products",
                                    "1": "12",
                                    "2": "2007"
                                },
                                {
                                    "0": "Grains/Cereals",
                                    "1": "28",
                                    "2": "2007"
                                },
                                {
                                    "0": "Beverages",
                                    "1": "3",
                                    "2": "2007"
                                },
                                {
                                    "0": "Seafood",
                                    "1": "10",
                                    "2": "2007"
                                },
                                {
                                    "0": "Confections",
                                    "1": "6",
                                    "2": "2007"
                                },
                                {
                                    "0": "Seafood",
                                    "1": "21",
                                    "2": "2007"
                                },
                                {
                                    "0": "Beverages",
                                    "1": "6",
                                    "2": "2007"
                                },
                                {
                                    "0": "Beverages",
                                    "1": "10",
                                    "2": "2007"
                                },
                                {
                                    "0": "Dairy Products",
                                    "1": "15",
                                    "2": "2007"
                                },
                                {
                                    "0": "Seafood",
                                    "1": "70",
                                    "2": "2007"
                                },
                                {
                                    "0": "Seafood",
                                    "1": "55",
                                    "2": "2007"
                                },
                                {
                                    "0": "Confections",
                                    "1": "18",
                                    "2": "2007"
                                },
                                {
                                    "0": "Dairy Products",
                                    "1": "40",
                                    "2": "2007"
                                },
                                {
                                    "0": "Beverages",
                                    "1": "80",
                                    "2": "2007"
                                },
                                {
                                    "0": "Seafood",
                                    "1": "8",
                                    "2": "2007"
                                },
                                {
                                    "0": "Beverages",
                                    "1": "40",
                                    "2": "2007"
                                },
                                {
                                    "0": "Dairy Products",
                                    "1": "14",
                                    "2": "2007"
                                },
                                {
                                    "0": "Confections",
                                    "1": "8",
                                    "2": "2007"
                                },
                                {
                                    "0": "Beverages",
                                    "1": "5",
                                    "2": "2007"
                                },
                                {
                                    "0": "Meat/Poultry",
                                    "1": "5",
                                    "2": "2007"
                                },
                                {
                                    "0": "Beverages",
                                    "1": "15",
                                    "2": "2007"
                                },
                                {
                                    "0": "Grains/Cereals",
                                    "1": "14",
                                    "2": "2007"
                                },
                                {
                                    "0": "Beverages",
                                    "1": "15",
                                    "2": "2007"
                                },
                                {
                                    "0": "Dairy Products",
                                    "1": "15",
                                    "2": "2007"
                                },
                                {
                                    "0": "Dairy Products",
                                    "1": "30",
                                    "2": "2007"
                                },
                                {
                                    "0": "Condiments",
                                    "1": "70",
                                    "2": "2007"
                                },
                                {
                                    "0": "Grains/Cereals",
                                    "1": "20",
                                    "2": "2007"
                                },
                                {
                                    "0": "Confections",
                                    "1": "15",
                                    "2": "2007"
                                },
                                {
                                    "0": "Confections",
                                    "1": "42",
                                    "2": "2007"
                                },
                                {
                                    "0": "Grains/Cereals",
                                    "1": "40",
                                    "2": "2007"
                                },
                                {
                                    "0": "Beverages",
                                    "1": "5",
                                    "2": "2007"
                                },
                                {
                                    "0": "Grains/Cereals",
                                    "1": "5",
                                    "2": "2007"
                                },
                                {
                                    "0": "Confections",
                                    "1": "5",
                                    "2": "2007"
                                },
                                {
                                    "0": "Grains/Cereals",
                                    "1": "10",
                                    "2": "2007"
                                },
                                {
                                    "0": "Beverages",
                                    "1": "20",
                                    "2": "2007"
                                },
                                {
                                    "0": "Dairy Products",
                                    "1": "15",
                                    "2": "2007"
                                },
                                {
                                    "0": "Beverages",
                                    "1": "20",
                                    "2": "2007"
                                },
                                {
                                    "0": "Confections",
                                    "1": "18",
                                    "2": "2007"
                                },
                                {
                                    "0": "Produce",
                                    "1": "21",
                                    "2": "2007"
                                },
                                {
                                    "0": "Confections",
                                    "1": "15",
                                    "2": "2007"
                                },
                                {
                                    "0": "Confections",
                                    "1": "25",
                                    "2": "2007"
                                },
                                {
                                    "0": "Beverages",
                                    "1": "3",
                                    "2": "2007"
                                },
                                {
                                    "0": "Beverages",
                                    "1": "30",
                                    "2": "2007"
                                },
                                {
                                    "0": "Produce",
                                    "1": "10",
                                    "2": "2007"
                                },
                                {
                                    "0": "Meat/Poultry",
                                    "1": "6",
                                    "2": "2007"
                                },
                                {
                                    "0": "Condiments",
                                    "1": "10",
                                    "2": "2007"
                                },
                                {
                                    "0": "Produce",
                                    "1": "3",
                                    "2": "2007"
                                },
                                {
                                    "0": "Grains/Cereals",
                                    "1": "5",
                                    "2": "2007"
                                },
                                {
                                    "0": "Dairy Products",
                                    "1": "10",
                                    "2": "2007"
                                },
                                {
                                    "0": "Meat/Poultry",
                                    "1": "12",
                                    "2": "2007"
                                },
                                {
                                    "0": "Dairy Products",
                                    "1": "20",
                                    "2": "2007"
                                },
                                {
                                    "0": "Dairy Products",
                                    "1": "20",
                                    "2": "2007"
                                },
                                {
                                    "0": "Confections",
                                    "1": "15",
                                    "2": "2007"
                                },
                                {
                                    "0": "Seafood",
                                    "1": "35",
                                    "2": "2007"
                                },
                                {
                                    "0": "Beverages",
                                    "1": "25",
                                    "2": "2007"
                                },
                                {
                                    "0": "Meat/Poultry",
                                    "1": "20",
                                    "2": "2007"
                                },
                                {
                                    "0": "Grains/Cereals",
                                    "1": "9",
                                    "2": "2007"
                                },
                                {
                                    "0": "Meat/Poultry",
                                    "1": "12",
                                    "2": "2007"
                                },
                                {
                                    "0": "Beverages",
                                    "1": "35",
                                    "2": "2007"
                                },
                                {
                                    "0": "Beverages",
                                    "1": "8",
                                    "2": "2007"
                                },
                                {
                                    "0": "Beverages",
                                    "1": "30",
                                    "2": "2007"
                                },
                                {
                                    "0": "Dairy Products",
                                    "1": "20",
                                    "2": "2007"
                                },
                                {
                                    "0": "Dairy Products",
                                    "1": "36",
                                    "2": "2007"
                                },
                                {
                                    "0": "Seafood",
                                    "1": "13",
                                    "2": "2007"
                                },
                                {
                                    "0": "Confections",
                                    "1": "35",
                                    "2": "2007"
                                },
                                {
                                    "0": "Confections",
                                    "1": "80",
                                    "2": "2007"
                                },
                                {
                                    "0": "Produce",
                                    "1": "35",
                                    "2": "2007"
                                },
                                {
                                    "0": "Seafood",
                                    "1": "50",
                                    "2": "2007"
                                },
                                {
                                    "0": "Produce",
                                    "1": "15",
                                    "2": "2007"
                                },
                                {
                                    "0": "Beverages",
                                    "1": "2",
                                    "2": "2007"
                                },
                                {
                                    "0": "Condiments",
                                    "1": "10",
                                    "2": "2007"
                                },
                                {
                                    "0": "Condiments",
                                    "1": "15",
                                    "2": "2007"
                                },
                                {
                                    "0": "Grains/Cereals",
                                    "1": "40",
                                    "2": "2007"
                                },
                                {
                                    "0": "Condiments",
                                    "1": "25",
                                    "2": "2007"
                                },
                                {
                                    "0": "Seafood",
                                    "1": "6",
                                    "2": "2007"
                                },
                                {
                                    "0": "Dairy Products",
                                    "1": "10",
                                    "2": "2007"
                                },
                                {
                                    "0": "Confections",
                                    "1": "25",
                                    "2": "2007"
                                },
                                {
                                    "0": "Grains/Cereals",
                                    "1": "60",
                                    "2": "2007"
                                },
                                {
                                    "0": "Seafood",
                                    "1": "20",
                                    "2": "2007"
                                },
                                {
                                    "0": "Condiments",
                                    "1": "21",
                                    "2": "2007"
                                },
                                {
                                    "0": "Dairy Products",
                                    "1": "60",
                                    "2": "2007"
                                },
                                {
                                    "0": "Seafood",
                                    "1": "8",
                                    "2": "2007"
                                },
                                {
                                    "0": "Dairy Products",
                                    "1": "20",
                                    "2": "2007"
                                },
                                {
                                    "0": "Beverages",
                                    "1": "15",
                                    "2": "2007"
                                },
                                {
                                    "0": "Beverages",
                                    "1": "50",
                                    "2": "2007"
                                },
                                {
                                    "0": "Seafood",
                                    "1": "60",
                                    "2": "2007"
                                },
                                {
                                    "0": "Confections",
                                    "1": "30",
                                    "2": "2007"
                                },
                                {
                                    "0": "Condiments",
                                    "1": "20",
                                    "2": "2007"
                                },
                                {
                                    "0": "Produce",
                                    "1": "15",
                                    "2": "2007"
                                },
                                {
                                    "0": "Beverages",
                                    "1": "21",
                                    "2": "2007"
                                },
                                {
                                    "0": "Seafood",
                                    "1": "2",
                                    "2": "2007"
                                },
                                {
                                    "0": "Seafood",
                                    "1": "4",
                                    "2": "2007"
                                },
                                {
                                    "0": "Beverages",
                                    "1": "20",
                                    "2": "2007"
                                },
                                {
                                    "0": "Seafood",
                                    "1": "21",
                                    "2": "2007"
                                },
                                {
                                    "0": "Seafood",
                                    "1": "20",
                                    "2": "2007"
                                },
                                {
                                    "0": "Seafood",
                                    "1": "15",
                                    "2": "2007"
                                },
                                {
                                    "0": "Beverages",
                                    "1": "15",
                                    "2": "2007"
                                },
                                {
                                    "0": "Seafood",
                                    "1": "18",
                                    "2": "2007"
                                },
                                {
                                    "0": "Dairy Products",
                                    "1": "30",
                                    "2": "2007"
                                },
                                {
                                    "0": "Condiments",
                                    "1": "35",
                                    "2": "2007"
                                },
                                {
                                    "0": "Confections",
                                    "1": "30",
                                    "2": "2007"
                                },
                                {
                                    "0": "Beverages",
                                    "1": "20",
                                    "2": "2007"
                                },
                                {
                                    "0": "Grains/Cereals",
                                    "1": "15",
                                    "2": "2007"
                                },
                                {
                                    "0": "Beverages",
                                    "1": "15",
                                    "2": "2007"
                                },
                                {
                                    "0": "Produce",
                                    "1": "20",
                                    "2": "2007"
                                },
                                {
                                    "0": "Dairy Products",
                                    "1": "15",
                                    "2": "2007"
                                },
                                {
                                    "0": "Seafood",
                                    "1": "30",
                                    "2": "2007"
                                },
                                {
                                    "0": "Meat/Poultry",
                                    "1": "25",
                                    "2": "2007"
                                },
                                {
                                    "0": "Meat/Poultry",
                                    "1": "30",
                                    "2": "2007"
                                },
                                {
                                    "0": "Confections",
                                    "1": "12",
                                    "2": "2007"
                                },
                                {
                                    "0": "Grains/Cereals",
                                    "1": "20",
                                    "2": "2007"
                                },
                                {
                                    "0": "Seafood",
                                    "1": "2",
                                    "2": "2007"
                                },
                                {
                                    "0": "Grains/Cereals",
                                    "1": "20",
                                    "2": "2007"
                                },
                                {
                                    "0": "Confections",
                                    "1": "30",
                                    "2": "2007"
                                },
                                {
                                    "0": "Dairy Products",
                                    "1": "20",
                                    "2": "2007"
                                },
                                {
                                    "0": "Condiments",
                                    "1": "12",
                                    "2": "2007"
                                },
                                {
                                    "0": "Beverages",
                                    "1": "20",
                                    "2": "2007"
                                },
                                {
                                    "0": "Meat/Poultry",
                                    "1": "6",
                                    "2": "2007"
                                },
                                {
                                    "0": "Seafood",
                                    "1": "20",
                                    "2": "2007"
                                },
                                {
                                    "0": "Produce",
                                    "1": "3",
                                    "2": "2007"
                                },
                                {
                                    "0": "Condiments",
                                    "1": "28",
                                    "2": "2007"
                                },
                                {
                                    "0": "Confections",
                                    "1": "6",
                                    "2": "2007"
                                },
                                {
                                    "0": "Condiments",
                                    "1": "50",
                                    "2": "2007"
                                },
                                {
                                    "0": "Seafood",
                                    "1": "24",
                                    "2": "2007"
                                },
                                {
                                    "0": "Seafood",
                                    "1": "45",
                                    "2": "2007"
                                },
                                {
                                    "0": "Confections",
                                    "1": "10",
                                    "2": "2007"
                                },
                                {
                                    "0": "Grains/Cereals",
                                    "1": "45",
                                    "2": "2007"
                                },
                                {
                                    "0": "Dairy Products",
                                    "1": "30",
                                    "2": "2007"
                                },
                                {
                                    "0": "Confections",
                                    "1": "60",
                                    "2": "2007"
                                },
                                {
                                    "0": "Seafood",
                                    "1": "70",
                                    "2": "2007"
                                },
                                {
                                    "0": "Dairy Products",
                                    "1": "55",
                                    "2": "2007"
                                },
                                {
                                    "0": "Condiments",
                                    "1": "70",
                                    "2": "2007"
                                },
                                {
                                    "0": "Dairy Products",
                                    "1": "20",
                                    "2": "2007"
                                },
                                {
                                    "0": "Seafood",
                                    "1": "24",
                                    "2": "2007"
                                },
                                {
                                    "0": "Beverages",
                                    "1": "40",
                                    "2": "2007"
                                },
                                {
                                    "0": "Confections",
                                    "1": "21",
                                    "2": "2007"
                                },
                                {
                                    "0": "Beverages",
                                    "1": "3",
                                    "2": "2007"
                                },
                                {
                                    "0": "Seafood",
                                    "1": "49",
                                    "2": "2007"
                                },
                                {
                                    "0": "Confections",
                                    "1": "10",
                                    "2": "2007"
                                },
                                {
                                    "0": "Seafood",
                                    "1": "30",
                                    "2": "2007"
                                },
                                {
                                    "0": "Grains/Cereals",
                                    "1": "30",
                                    "2": "2007"
                                },
                                {
                                    "0": "Produce",
                                    "1": "20",
                                    "2": "2007"
                                },
                                {
                                    "0": "Seafood",
                                    "1": "24",
                                    "2": "2007"
                                },
                                {
                                    "0": "Grains/Cereals",
                                    "1": "12",
                                    "2": "2007"
                                },
                                {
                                    "0": "Condiments",
                                    "1": "15",
                                    "2": "2007"
                                },
                                {
                                    "0": "Produce",
                                    "1": "20",
                                    "2": "2007"
                                },
                                {
                                    "0": "Dairy Products",
                                    "1": "1",
                                    "2": "2007"
                                },
                                {
                                    "0": "Beverages",
                                    "1": "10",
                                    "2": "2007"
                                },
                                {
                                    "0": "Meat/Poultry",
                                    "1": "36",
                                    "2": "2007"
                                },
                                {
                                    "0": "Condiments",
                                    "1": "10",
                                    "2": "2007"
                                },
                                {
                                    "0": "Dairy Products",
                                    "1": "45",
                                    "2": "2007"
                                },
                                {
                                    "0": "Dairy Products",
                                    "1": "14",
                                    "2": "2007"
                                },
                                {
                                    "0": "Dairy Products",
                                    "1": "8",
                                    "2": "2007"
                                },
                                {
                                    "0": "Meat/Poultry",
                                    "1": "4",
                                    "2": "2007"
                                },
                                {
                                    "0": "Grains/Cereals",
                                    "1": "15",
                                    "2": "2007"
                                },
                                {
                                    "0": "Seafood",
                                    "1": "30",
                                    "2": "2007"
                                },
                                {
                                    "0": "Grains/Cereals",
                                    "1": "32",
                                    "2": "2007"
                                },
                                {
                                    "0": "Seafood",
                                    "1": "60",
                                    "2": "2007"
                                },
                                {
                                    "0": "Beverages",
                                    "1": "25",
                                    "2": "2007"
                                },
                                {
                                    "0": "Seafood",
                                    "1": "50",
                                    "2": "2007"
                                },
                                {
                                    "0": "Beverages",
                                    "1": "25",
                                    "2": "2007"
                                },
                                {
                                    "0": "Confections",
                                    "1": "10",
                                    "2": "2007"
                                },
                                {
                                    "0": "Confections",
                                    "1": "10",
                                    "2": "2007"
                                },
                                {
                                    "0": "Condiments",
                                    "1": "12",
                                    "2": "2007"
                                },
                                {
                                    "0": "Beverages",
                                    "1": "15",
                                    "2": "2007"
                                },
                                {
                                    "0": "Dairy Products",
                                    "1": "12",
                                    "2": "2007"
                                },
                                {
                                    "0": "Confections",
                                    "1": "3",
                                    "2": "2007"
                                },
                                {
                                    "0": "Grains/Cereals",
                                    "1": "6",
                                    "2": "2007"
                                },
                                {
                                    "0": "Beverages",
                                    "1": "6",
                                    "2": "2007"
                                },
                                {
                                    "0": "Grains/Cereals",
                                    "1": "5",
                                    "2": "2007"
                                },
                                {
                                    "0": "Produce",
                                    "1": "30",
                                    "2": "2007"
                                },
                                {
                                    "0": "Meat/Poultry",
                                    "1": "10",
                                    "2": "2007"
                                },
                                {
                                    "0": "Seafood",
                                    "1": "30",
                                    "2": "2007"
                                },
                                {
                                    "0": "Seafood",
                                    "1": "2",
                                    "2": "2007"
                                },
                                {
                                    "0": "Confections",
                                    "1": "7",
                                    "2": "2007"
                                },
                                {
                                    "0": "Condiments",
                                    "1": "21",
                                    "2": "2007"
                                },
                                {
                                    "0": "Confections",
                                    "1": "30",
                                    "2": "2007"
                                },
                                {
                                    "0": "Dairy Products",
                                    "1": "8",
                                    "2": "2007"
                                },
                                {
                                    "0": "Dairy Products",
                                    "1": "100",
                                    "2": "2007"
                                },
                                {
                                    "0": "Dairy Products",
                                    "1": "30",
                                    "2": "2007"
                                },
                                {
                                    "0": "Seafood",
                                    "1": "120",
                                    "2": "2007"
                                },
                                {
                                    "0": "Meat/Poultry",
                                    "1": "30",
                                    "2": "2007"
                                },
                                {
                                    "0": "Dairy Products",
                                    "1": "12",
                                    "2": "2007"
                                },
                                {
                                    "0": "Confections",
                                    "1": "50",
                                    "2": "2007"
                                },
                                {
                                    "0": "Dairy Products",
                                    "1": "20",
                                    "2": "2007"
                                },
                                {
                                    "0": "Grains/Cereals",
                                    "1": "40",
                                    "2": "2007"
                                },
                                {
                                    "0": "Confections",
                                    "1": "30",
                                    "2": "2007"
                                },
                                {
                                    "0": "Confections",
                                    "1": "12",
                                    "2": "2007"
                                },
                                {
                                    "0": "Grains/Cereals",
                                    "1": "28",
                                    "2": "2007"
                                },
                                {
                                    "0": "Dairy Products",
                                    "1": "30",
                                    "2": "2007"
                                },
                                {
                                    "0": "Condiments",
                                    "1": "4",
                                    "2": "2007"
                                },
                                {
                                    "0": "Beverages",
                                    "1": "30",
                                    "2": "2007"
                                },
                                {
                                    "0": "Grains/Cereals",
                                    "1": "9",
                                    "2": "2007"
                                },
                                {
                                    "0": "Seafood",
                                    "1": "20",
                                    "2": "2007"
                                },
                                {
                                    "0": "Confections",
                                    "1": "40",
                                    "2": "2007"
                                },
                                {
                                    "0": "Dairy Products",
                                    "1": "30",
                                    "2": "2007"
                                },
                                {
                                    "0": "Seafood",
                                    "1": "20",
                                    "2": "2007"
                                },
                                {
                                    "0": "Seafood",
                                    "1": "4",
                                    "2": "2007"
                                },
                                {
                                    "0": "Confections",
                                    "1": "15",
                                    "2": "2007"
                                },
                                {
                                    "0": "Meat/Poultry",
                                    "1": "30",
                                    "2": "2007"
                                },
                                {
                                    "0": "Confections",
                                    "1": "15",
                                    "2": "2007"
                                },
                                {
                                    "0": "Meat/Poultry",
                                    "1": "50",
                                    "2": "2007"
                                },
                                {
                                    "0": "Meat/Poultry",
                                    "1": "10",
                                    "2": "2007"
                                },
                                {
                                    "0": "Seafood",
                                    "1": "6",
                                    "2": "2007"
                                },
                                {
                                    "0": "Seafood",
                                    "1": "18",
                                    "2": "2007"
                                },
                                {
                                    "0": "Produce",
                                    "1": "60",
                                    "2": "2007"
                                },
                                {
                                    "0": "Beverages",
                                    "1": "14",
                                    "2": "2007"
                                },
                                {
                                    "0": "Beverages",
                                    "1": "35",
                                    "2": "2007"
                                },
                                {
                                    "0": "Grains/Cereals",
                                    "1": "20",
                                    "2": "2007"
                                },
                                {
                                    "0": "Condiments",
                                    "1": "30",
                                    "2": "2007"
                                },
                                {
                                    "0": "Beverages",
                                    "1": "30",
                                    "2": "2007"
                                },
                                {
                                    "0": "Meat/Poultry",
                                    "1": "40",
                                    "2": "2007"
                                },
                                {
                                    "0": "Beverages",
                                    "1": "40",
                                    "2": "2007"
                                },
                                {
                                    "0": "Condiments",
                                    "1": "24",
                                    "2": "2007"
                                },
                                {
                                    "0": "Confections",
                                    "1": "48",
                                    "2": "2007"
                                },
                                {
                                    "0": "Condiments",
                                    "1": "20",
                                    "2": "2007"
                                },
                                {
                                    "0": "Meat/Poultry",
                                    "1": "6",
                                    "2": "2007"
                                },
                                {
                                    "0": "Meat/Poultry",
                                    "1": "60",
                                    "2": "2007"
                                },
                                {
                                    "0": "Dairy Products",
                                    "1": "30",
                                    "2": "2007"
                                },
                                {
                                    "0": "Seafood",
                                    "1": "15",
                                    "2": "2007"
                                },
                                {
                                    "0": "Produce",
                                    "1": "90",
                                    "2": "2007"
                                },
                                {
                                    "0": "Dairy Products",
                                    "1": "25",
                                    "2": "2007"
                                },
                                {
                                    "0": "Beverages",
                                    "1": "50",
                                    "2": "2007"
                                },
                                {
                                    "0": "Condiments",
                                    "1": "10",
                                    "2": "2007"
                                },
                                {
                                    "0": "Dairy Products",
                                    "1": "4",
                                    "2": "2007"
                                },
                                {
                                    "0": "Beverages",
                                    "1": "20",
                                    "2": "2007"
                                },
                                {
                                    "0": "Meat/Poultry",
                                    "1": "20",
                                    "2": "2007"
                                },
                                {
                                    "0": "Seafood",
                                    "1": "18",
                                    "2": "2007"
                                },
                                {
                                    "0": "Confections",
                                    "1": "7",
                                    "2": "2007"
                                },
                                {
                                    "0": "Beverages",
                                    "1": "9",
                                    "2": "2007"
                                },
                                {
                                    "0": "Seafood",
                                    "1": "30",
                                    "2": "2007"
                                },
                                {
                                    "0": "Beverages",
                                    "1": "30",
                                    "2": "2007"
                                },
                                {
                                    "0": "Dairy Products",
                                    "1": "15",
                                    "2": "2007"
                                },
                                {
                                    "0": "Meat/Poultry",
                                    "1": "8",
                                    "2": "2007"
                                },
                                {
                                    "0": "Meat/Poultry",
                                    "1": "12",
                                    "2": "2007"
                                },
                                {
                                    "0": "Condiments",
                                    "1": "65",
                                    "2": "2007"
                                },
                                {
                                    "0": "Beverages",
                                    "1": "8",
                                    "2": "2007"
                                },
                                {
                                    "0": "Confections",
                                    "1": "12",
                                    "2": "2007"
                                },
                                {
                                    "0": "Beverages",
                                    "1": "5",
                                    "2": "2007"
                                },
                                {
                                    "0": "Beverages",
                                    "1": "12",
                                    "2": "2007"
                                },
                                {
                                    "0": "Confections",
                                    "1": "40",
                                    "2": "2007"
                                },
                                {
                                    "0": "Dairy Products",
                                    "1": "60",
                                    "2": "2007"
                                },
                                {
                                    "0": "Dairy Products",
                                    "1": "42",
                                    "2": "2007"
                                },
                                {
                                    "0": "Dairy Products",
                                    "1": "20",
                                    "2": "2007"
                                },
                                {
                                    "0": "Beverages",
                                    "1": "35",
                                    "2": "2007"
                                },
                                {
                                    "0": "Condiments",
                                    "1": "6",
                                    "2": "2007"
                                },
                                {
                                    "0": "Beverages",
                                    "1": "15",
                                    "2": "2007"
                                },
                                {
                                    "0": "Beverages",
                                    "1": "5",
                                    "2": "2007"
                                },
                                {
                                    "0": "Dairy Products",
                                    "1": "35",
                                    "2": "2007"
                                },
                                {
                                    "0": "Seafood",
                                    "1": "35",
                                    "2": "2007"
                                },
                                {
                                    "0": "Condiments",
                                    "1": "6",
                                    "2": "2007"
                                },
                                {
                                    "0": "Beverages",
                                    "1": "35",
                                    "2": "2007"
                                },
                                {
                                    "0": "Confections",
                                    "1": "24",
                                    "2": "2007"
                                },
                                {
                                    "0": "Dairy Products",
                                    "1": "20",
                                    "2": "2007"
                                },
                                {
                                    "0": "Dairy Products",
                                    "1": "4",
                                    "2": "2007"
                                },
                                {
                                    "0": "Confections",
                                    "1": "20",
                                    "2": "2007"
                                },
                                {
                                    "0": "Beverages",
                                    "1": "24",
                                    "2": "2007"
                                },
                                {
                                    "0": "Dairy Products",
                                    "1": "8",
                                    "2": "2007"
                                },
                                {
                                    "0": "Meat/Poultry",
                                    "1": "21",
                                    "2": "2007"
                                },
                                {
                                    "0": "Grains/Cereals",
                                    "1": "40",
                                    "2": "2007"
                                },
                                {
                                    "0": "Beverages",
                                    "1": "28",
                                    "2": "2007"
                                },
                                {
                                    "0": "Condiments",
                                    "1": "4",
                                    "2": "2007"
                                },
                                {
                                    "0": "Seafood",
                                    "1": "5",
                                    "2": "2007"
                                },
                                {
                                    "0": "Condiments",
                                    "1": "40",
                                    "2": "2007"
                                },
                                {
                                    "0": "Produce",
                                    "1": "28",
                                    "2": "2007"
                                },
                                {
                                    "0": "Dairy Products",
                                    "1": "10",
                                    "2": "2007"
                                },
                                {
                                    "0": "Confections",
                                    "1": "5",
                                    "2": "2007"
                                },
                                {
                                    "0": "Confections",
                                    "1": "5",
                                    "2": "2007"
                                },
                                {
                                    "0": "Confections",
                                    "1": "12",
                                    "2": "2007"
                                },
                                {
                                    "0": "Seafood",
                                    "1": "42",
                                    "2": "2007"
                                },
                                {
                                    "0": "Meat/Poultry",
                                    "1": "120",
                                    "2": "2007"
                                },
                                {
                                    "0": "Meat/Poultry",
                                    "1": "3",
                                    "2": "2007"
                                },
                                {
                                    "0": "Grains/Cereals",
                                    "1": "30",
                                    "2": "2007"
                                },
                                {
                                    "0": "Seafood",
                                    "1": "18",
                                    "2": "2007"
                                },
                                {
                                    "0": "Confections",
                                    "1": "30",
                                    "2": "2007"
                                },
                                {
                                    "0": "Seafood",
                                    "1": "110",
                                    "2": "2007"
                                },
                                {
                                    "0": "Seafood",
                                    "1": "24",
                                    "2": "2007"
                                },
                                {
                                    "0": "Beverages",
                                    "1": "30",
                                    "2": "2007"
                                },
                                {
                                    "0": "Meat/Poultry",
                                    "1": "27",
                                    "2": "2007"
                                },
                                {
                                    "0": "Confections",
                                    "1": "50",
                                    "2": "2007"
                                },
                                {
                                    "0": "Grains/Cereals",
                                    "1": "18",
                                    "2": "2007"
                                },
                                {
                                    "0": "Seafood",
                                    "1": "12",
                                    "2": "2007"
                                },
                                {
                                    "0": "Seafood",
                                    "1": "21",
                                    "2": "2007"
                                },
                                {
                                    "0": "Dairy Products",
                                    "1": "30",
                                    "2": "2007"
                                },
                                {
                                    "0": "Confections",
                                    "1": "5",
                                    "2": "2007"
                                },
                                {
                                    "0": "Produce",
                                    "1": "7",
                                    "2": "2007"
                                },
                                {
                                    "0": "Condiments",
                                    "1": "10",
                                    "2": "2007"
                                },
                                {
                                    "0": "Confections",
                                    "1": "32",
                                    "2": "2007"
                                },
                                {
                                    "0": "Meat/Poultry",
                                    "1": "15",
                                    "2": "2007"
                                },
                                {
                                    "0": "Dairy Products",
                                    "1": "25",
                                    "2": "2007"
                                },
                                {
                                    "0": "Dairy Products",
                                    "1": "36",
                                    "2": "2007"
                                },
                                {
                                    "0": "Confections",
                                    "1": "20",
                                    "2": "2007"
                                },
                                {
                                    "0": "Seafood",
                                    "1": "40",
                                    "2": "2007"
                                },
                                {
                                    "0": "Confections",
                                    "1": "20",
                                    "2": "2007"
                                },
                                {
                                    "0": "Seafood",
                                    "1": "12",
                                    "2": "2007"
                                },
                                {
                                    "0": "Seafood",
                                    "1": "3",
                                    "2": "2007"
                                },
                                {
                                    "0": "Meat/Poultry",
                                    "1": "40",
                                    "2": "2007"
                                },
                                {
                                    "0": "Beverages",
                                    "1": "21",
                                    "2": "2007"
                                },
                                {
                                    "0": "Dairy Products",
                                    "1": "8",
                                    "2": "2007"
                                },
                                {
                                    "0": "Condiments",
                                    "1": "50",
                                    "2": "2007"
                                },
                                {
                                    "0": "Beverages",
                                    "1": "3",
                                    "2": "2007"
                                },
                                {
                                    "0": "Dairy Products",
                                    "1": "50",
                                    "2": "2007"
                                },
                                {
                                    "0": "Confections",
                                    "1": "45",
                                    "2": "2007"
                                },
                                {
                                    "0": "Beverages",
                                    "1": "42",
                                    "2": "2007"
                                },
                                {
                                    "0": "Confections",
                                    "1": "15",
                                    "2": "2007"
                                },
                                {
                                    "0": "Seafood",
                                    "1": "16",
                                    "2": "2007"
                                },
                                {
                                    "0": "Condiments",
                                    "1": "5",
                                    "2": "2007"
                                },
                                {
                                    "0": "Seafood",
                                    "1": "12",
                                    "2": "2007"
                                },
                                {
                                    "0": "Grains/Cereals",
                                    "1": "4",
                                    "2": "2007"
                                },
                                {
                                    "0": "Meat/Poultry",
                                    "1": "6",
                                    "2": "2007"
                                },
                                {
                                    "0": "Condiments",
                                    "1": "25",
                                    "2": "2007"
                                },
                                {
                                    "0": "Dairy Products",
                                    "1": "5",
                                    "2": "2007"
                                },
                                {
                                    "0": "Meat/Poultry",
                                    "1": "20",
                                    "2": "2007"
                                },
                                {
                                    "0": "Grains/Cereals",
                                    "1": "10",
                                    "2": "2007"
                                },
                                {
                                    "0": "Dairy Products",
                                    "1": "10",
                                    "2": "2007"
                                },
                                {
                                    "0": "Seafood",
                                    "1": "15",
                                    "2": "2007"
                                },
                                {
                                    "0": "Seafood",
                                    "1": "6",
                                    "2": "2007"
                                },
                                {
                                    "0": "Meat/Poultry",
                                    "1": "12",
                                    "2": "2007"
                                },
                                {
                                    "0": "Dairy Products",
                                    "1": "15",
                                    "2": "2007"
                                },
                                {
                                    "0": "Beverages",
                                    "1": "50",
                                    "2": "2007"
                                },
                                {
                                    "0": "Confections",
                                    "1": "30",
                                    "2": "2007"
                                },
                                {
                                    "0": "Confections",
                                    "1": "40",
                                    "2": "2007"
                                },
                                {
                                    "0": "Confections",
                                    "1": "15",
                                    "2": "2007"
                                },
                                {
                                    "0": "Dairy Products",
                                    "1": "3",
                                    "2": "2007"
                                },
                                {
                                    "0": "Condiments",
                                    "1": "10",
                                    "2": "2007"
                                },
                                {
                                    "0": "Confections",
                                    "1": "40",
                                    "2": "2007"
                                },
                                {
                                    "0": "Produce",
                                    "1": "30",
                                    "2": "2007"
                                },
                                {
                                    "0": "Beverages",
                                    "1": "20",
                                    "2": "2007"
                                },
                                {
                                    "0": "Produce",
                                    "1": "16",
                                    "2": "2007"
                                },
                                {
                                    "0": "Produce",
                                    "1": "20",
                                    "2": "2007"
                                },
                                {
                                    "0": "Grains/Cereals",
                                    "1": "25",
                                    "2": "2007"
                                },
                                {
                                    "0": "Condiments",
                                    "1": "30",
                                    "2": "2007"
                                },
                                {
                                    "0": "Seafood",
                                    "1": "15",
                                    "2": "2007"
                                },
                                {
                                    "0": "Beverages",
                                    "1": "20",
                                    "2": "2007"
                                },
                                {
                                    "0": "Condiments",
                                    "1": "20",
                                    "2": "2007"
                                },
                                {
                                    "0": "Condiments",
                                    "1": "2",
                                    "2": "2007"
                                },
                                {
                                    "0": "Condiments",
                                    "1": "40",
                                    "2": "2007"
                                },
                                {
                                    "0": "Beverages",
                                    "1": "20",
                                    "2": "2007"
                                },
                                {
                                    "0": "Seafood",
                                    "1": "4",
                                    "2": "2007"
                                },
                                {
                                    "0": "Seafood",
                                    "1": "12",
                                    "2": "2007"
                                },
                                {
                                    "0": "Confections",
                                    "1": "3",
                                    "2": "2007"
                                },
                                {
                                    "0": "Seafood",
                                    "1": "6",
                                    "2": "2007"
                                },
                                {
                                    "0": "Grains/Cereals",
                                    "1": "18",
                                    "2": "2007"
                                },
                                {
                                    "0": "Produce",
                                    "1": "5",
                                    "2": "2007"
                                },
                                {
                                    "0": "Beverages",
                                    "1": "35",
                                    "2": "2007"
                                },
                                {
                                    "0": "Seafood",
                                    "1": "40",
                                    "2": "2007"
                                },
                                {
                                    "0": "Grains/Cereals",
                                    "1": "14",
                                    "2": "2007"
                                },
                                {
                                    "0": "Beverages",
                                    "1": "15",
                                    "2": "2007"
                                },
                                {
                                    "0": "Condiments",
                                    "1": "20",
                                    "2": "2007"
                                },
                                {
                                    "0": "Dairy Products",
                                    "1": "50",
                                    "2": "2007"
                                },
                                {
                                    "0": "Dairy Products",
                                    "1": "35",
                                    "2": "2007"
                                },
                                {
                                    "0": "Seafood",
                                    "1": "28",
                                    "2": "2007"
                                },
                                {
                                    "0": "Seafood",
                                    "1": "50",
                                    "2": "2007"
                                },
                                {
                                    "0": "Seafood",
                                    "1": "24",
                                    "2": "2007"
                                },
                                {
                                    "0": "Condiments",
                                    "1": "16",
                                    "2": "2007"
                                },
                                {
                                    "0": "Dairy Products",
                                    "1": "45",
                                    "2": "2007"
                                },
                                {
                                    "0": "Dairy Products",
                                    "1": "7",
                                    "2": "2007"
                                },
                                {
                                    "0": "Seafood",
                                    "1": "6",
                                    "2": "2007"
                                },
                                {
                                    "0": "Grains/Cereals",
                                    "1": "28",
                                    "2": "2007"
                                },
                                {
                                    "0": "Confections",
                                    "1": "9",
                                    "2": "2007"
                                },
                                {
                                    "0": "Dairy Products",
                                    "1": "40",
                                    "2": "2007"
                                },
                                {
                                    "0": "Dairy Products",
                                    "1": "8",
                                    "2": "2007"
                                },
                                {
                                    "0": "Seafood",
                                    "1": "35",
                                    "2": "2007"
                                },
                                {
                                    "0": "Condiments",
                                    "1": "9",
                                    "2": "2007"
                                },
                                {
                                    "0": "Dairy Products",
                                    "1": "30",
                                    "2": "2007"
                                },
                                {
                                    "0": "Grains/Cereals",
                                    "1": "44",
                                    "2": "2007"
                                },
                                {
                                    "0": "Seafood",
                                    "1": "40",
                                    "2": "2007"
                                },
                                {
                                    "0": "Grains/Cereals",
                                    "1": "28",
                                    "2": "2007"
                                },
                                {
                                    "0": "Grains/Cereals",
                                    "1": "15",
                                    "2": "2007"
                                },
                                {
                                    "0": "Dairy Products",
                                    "1": "6",
                                    "2": "2007"
                                },
                                {
                                    "0": "Beverages",
                                    "1": "10",
                                    "2": "2007"
                                },
                                {
                                    "0": "Produce",
                                    "1": "5",
                                    "2": "2007"
                                },
                                {
                                    "0": "Seafood",
                                    "1": "40",
                                    "2": "2007"
                                },
                                {
                                    "0": "Dairy Products",
                                    "1": "25",
                                    "2": "2007"
                                },
                                {
                                    "0": "Confections",
                                    "1": "12",
                                    "2": "2007"
                                },
                                {
                                    "0": "Seafood",
                                    "1": "30",
                                    "2": "2007"
                                },
                                {
                                    "0": "Confections",
                                    "1": "20",
                                    "2": "2007"
                                },
                                {
                                    "0": "Seafood",
                                    "1": "15",
                                    "2": "2007"
                                },
                                {
                                    "0": "Beverages",
                                    "1": "8",
                                    "2": "2007"
                                },
                                {
                                    "0": "Dairy Products",
                                    "1": "3",
                                    "2": "2007"
                                },
                                {
                                    "0": "Seafood",
                                    "1": "4",
                                    "2": "2007"
                                },
                                {
                                    "0": "Produce",
                                    "1": "5",
                                    "2": "2007"
                                },
                                {
                                    "0": "Seafood",
                                    "1": "3",
                                    "2": "2007"
                                },
                                {
                                    "0": "Confections",
                                    "1": "30",
                                    "2": "2007"
                                },
                                {
                                    "0": "Grains/Cereals",
                                    "1": "30",
                                    "2": "2007"
                                },
                                {
                                    "0": "Grains/Cereals",
                                    "1": "14",
                                    "2": "2007"
                                },
                                {
                                    "0": "Dairy Products",
                                    "1": "25",
                                    "2": "2007"
                                },
                                {
                                    "0": "Seafood",
                                    "1": "21",
                                    "2": "2007"
                                },
                                {
                                    "0": "Seafood",
                                    "1": "20",
                                    "2": "2007"
                                },
                                {
                                    "0": "Confections",
                                    "1": "6",
                                    "2": "2007"
                                },
                                {
                                    "0": "Dairy Products",
                                    "1": "20",
                                    "2": "2007"
                                },
                                {
                                    "0": "Beverages",
                                    "1": "30",
                                    "2": "2007"
                                },
                                {
                                    "0": "Dairy Products",
                                    "1": "7",
                                    "2": "2007"
                                },
                                {
                                    "0": "Confections",
                                    "1": "30",
                                    "2": "2007"
                                },
                                {
                                    "0": "Grains/Cereals",
                                    "1": "24",
                                    "2": "2007"
                                },
                                {
                                    "0": "Confections",
                                    "1": "20",
                                    "2": "2007"
                                },
                                {
                                    "0": "Grains/Cereals",
                                    "1": "60",
                                    "2": "2007"
                                },
                                {
                                    "0": "Beverages",
                                    "1": "40",
                                    "2": "2007"
                                },
                                {
                                    "0": "Dairy Products",
                                    "1": "10",
                                    "2": "2007"
                                },
                                {
                                    "0": "Confections",
                                    "1": "12",
                                    "2": "2007"
                                },
                                {
                                    "0": "Confections",
                                    "1": "40",
                                    "2": "2007"
                                },
                                {
                                    "0": "Beverages",
                                    "1": "30",
                                    "2": "2007"
                                },
                                {
                                    "0": "Confections",
                                    "1": "35",
                                    "2": "2007"
                                },
                                {
                                    "0": "Beverages",
                                    "1": "18",
                                    "2": "2007"
                                },
                                {
                                    "0": "Beverages",
                                    "1": "16",
                                    "2": "2007"
                                },
                                {
                                    "0": "Confections",
                                    "1": "30",
                                    "2": "2007"
                                },
                                {
                                    "0": "Produce",
                                    "1": "28",
                                    "2": "2007"
                                },
                                {
                                    "0": "Grains/Cereals",
                                    "1": "60",
                                    "2": "2007"
                                },
                                {
                                    "0": "Confections",
                                    "1": "40",
                                    "2": "2007"
                                },
                                {
                                    "0": "Grains/Cereals",
                                    "1": "6",
                                    "2": "2007"
                                },
                                {
                                    "0": "Beverages",
                                    "1": "20",
                                    "2": "2007"
                                },
                                {
                                    "0": "Condiments",
                                    "1": "20",
                                    "2": "2007"
                                },
                                {
                                    "0": "Beverages",
                                    "1": "130",
                                    "2": "2007"
                                },
                                {
                                    "0": "Condiments",
                                    "1": "80",
                                    "2": "2007"
                                },
                                {
                                    "0": "Beverages",
                                    "1": "40",
                                    "2": "2007"
                                },
                                {
                                    "0": "Produce",
                                    "1": "35",
                                    "2": "2007"
                                },
                                {
                                    "0": "Confections",
                                    "1": "40",
                                    "2": "2007"
                                },
                                {
                                    "0": "Grains/Cereals",
                                    "1": "2",
                                    "2": "2007"
                                },
                                {
                                    "0": "Grains/Cereals",
                                    "1": "4",
                                    "2": "2007"
                                },
                                {
                                    "0": "Dairy Products",
                                    "1": "50",
                                    "2": "2007"
                                },
                                {
                                    "0": "Dairy Products",
                                    "1": "15",
                                    "2": "2007"
                                },
                                {
                                    "0": "Dairy Products",
                                    "1": "12",
                                    "2": "2007"
                                },
                                {
                                    "0": "Seafood",
                                    "1": "30",
                                    "2": "2007"
                                },
                                {
                                    "0": "Grains/Cereals",
                                    "1": "15",
                                    "2": "2007"
                                },
                                {
                                    "0": "Condiments",
                                    "1": "20",
                                    "2": "2007"
                                },
                                {
                                    "0": "Confections",
                                    "1": "15",
                                    "2": "2007"
                                },
                                {
                                    "0": "Dairy Products",
                                    "1": "15",
                                    "2": "2007"
                                },
                                {
                                    "0": "Dairy Products",
                                    "1": "16",
                                    "2": "2007"
                                },
                                {
                                    "0": "Meat/Poultry",
                                    "1": "18",
                                    "2": "2007"
                                },
                                {
                                    "0": "Dairy Products",
                                    "1": "25",
                                    "2": "2007"
                                },
                                {
                                    "0": "Meat/Poultry",
                                    "1": "33",
                                    "2": "2007"
                                },
                                {
                                    "0": "Dairy Products",
                                    "1": "70",
                                    "2": "2007"
                                },
                                {
                                    "0": "Beverages",
                                    "1": "7",
                                    "2": "2007"
                                },
                                {
                                    "0": "Dairy Products",
                                    "1": "2",
                                    "2": "2007"
                                },
                                {
                                    "0": "Condiments",
                                    "1": "50",
                                    "2": "2007"
                                },
                                {
                                    "0": "Seafood",
                                    "1": "6",
                                    "2": "2007"
                                },
                                {
                                    "0": "Beverages",
                                    "1": "3",
                                    "2": "2007"
                                },
                                {
                                    "0": "Dairy Products",
                                    "1": "16",
                                    "2": "2007"
                                },
                                {
                                    "0": "Grains/Cereals",
                                    "1": "12",
                                    "2": "2007"
                                },
                                {
                                    "0": "Seafood",
                                    "1": "27",
                                    "2": "2007"
                                },
                                {
                                    "0": "Produce",
                                    "1": "120",
                                    "2": "2007"
                                },
                                {
                                    "0": "Grains/Cereals",
                                    "1": "20",
                                    "2": "2007"
                                },
                                {
                                    "0": "Seafood",
                                    "1": "10",
                                    "2": "2007"
                                },
                                {
                                    "0": "Confections",
                                    "1": "20",
                                    "2": "2007"
                                },
                                {
                                    "0": "Confections",
                                    "1": "20",
                                    "2": "2007"
                                },
                                {
                                    "0": "Beverages",
                                    "1": "35",
                                    "2": "2007"
                                },
                                {
                                    "0": "Condiments",
                                    "1": "15",
                                    "2": "2007"
                                },
                                {
                                    "0": "Meat/Poultry",
                                    "1": "3",
                                    "2": "2007"
                                },
                                {
                                    "0": "Grains/Cereals",
                                    "1": "20",
                                    "2": "2007"
                                },
                                {
                                    "0": "Produce",
                                    "1": "35",
                                    "2": "2007"
                                },
                                {
                                    "0": "Dairy Products",
                                    "1": "1",
                                    "2": "2007"
                                },
                                {
                                    "0": "Dairy Products",
                                    "1": "10",
                                    "2": "2007"
                                },
                                {
                                    "0": "Beverages",
                                    "1": "5",
                                    "2": "2007"
                                },
                                {
                                    "0": "Seafood",
                                    "1": "30",
                                    "2": "2007"
                                },
                                {
                                    "0": "Beverages",
                                    "1": "2",
                                    "2": "2007"
                                },
                                {
                                    "0": "Dairy Products",
                                    "1": "30",
                                    "2": "2007"
                                },
                                {
                                    "0": "Seafood",
                                    "1": "10",
                                    "2": "2007"
                                },
                                {
                                    "0": "Beverages",
                                    "1": "10",
                                    "2": "2007"
                                },
                                {
                                    "0": "Condiments",
                                    "1": "30",
                                    "2": "2007"
                                },
                                {
                                    "0": "Seafood",
                                    "1": "15",
                                    "2": "2007"
                                },
                                {
                                    "0": "Beverages",
                                    "1": "42",
                                    "2": "2007"
                                },
                                {
                                    "0": "Beverages",
                                    "1": "15",
                                    "2": "2007"
                                },
                                {
                                    "0": "Meat/Poultry",
                                    "1": "20",
                                    "2": "2007"
                                },
                                {
                                    "0": "Confections",
                                    "1": "50",
                                    "2": "2007"
                                },
                                {
                                    "0": "Beverages",
                                    "1": "40",
                                    "2": "2007"
                                },
                                {
                                    "0": "Seafood",
                                    "1": "30",
                                    "2": "2007"
                                },
                                {
                                    "0": "Beverages",
                                    "1": "15",
                                    "2": "2007"
                                },
                                {
                                    "0": "Condiments",
                                    "1": "30",
                                    "2": "2007"
                                },
                                {
                                    "0": "Confections",
                                    "1": "18",
                                    "2": "2007"
                                },
                                {
                                    "0": "Produce",
                                    "1": "3",
                                    "2": "2007"
                                },
                                {
                                    "0": "Grains/Cereals",
                                    "1": "20",
                                    "2": "2007"
                                },
                                {
                                    "0": "Meat/Poultry",
                                    "1": "14",
                                    "2": "2007"
                                },
                                {
                                    "0": "Seafood",
                                    "1": "20",
                                    "2": "2007"
                                },
                                {
                                    "0": "Beverages",
                                    "1": "10",
                                    "2": "2007"
                                },
                                {
                                    "0": "Meat/Poultry",
                                    "1": "3",
                                    "2": "2007"
                                },
                                {
                                    "0": "Confections",
                                    "1": "15",
                                    "2": "2007"
                                },
                                {
                                    "0": "Seafood",
                                    "1": "14",
                                    "2": "2007"
                                },
                                {
                                    "0": "Grains/Cereals",
                                    "1": "8",
                                    "2": "2007"
                                },
                                {
                                    "0": "Produce",
                                    "1": "15",
                                    "2": "2007"
                                },
                                {
                                    "0": "Meat/Poultry",
                                    "1": "6",
                                    "2": "2007"
                                },
                                {
                                    "0": "Confections",
                                    "1": "65",
                                    "2": "2007"
                                },
                                {
                                    "0": "Meat/Poultry",
                                    "1": "35",
                                    "2": "2007"
                                },
                                {
                                    "0": "Confections",
                                    "1": "21",
                                    "2": "2007"
                                },
                                {
                                    "0": "Condiments",
                                    "1": "10",
                                    "2": "2007"
                                },
                                {
                                    "0": "Grains/Cereals",
                                    "1": "35",
                                    "2": "2007"
                                },
                                {
                                    "0": "Dairy Products",
                                    "1": "24",
                                    "2": "2007"
                                },
                                {
                                    "0": "Dairy Products",
                                    "1": "20",
                                    "2": "2007"
                                },
                                {
                                    "0": "Confections",
                                    "1": "2",
                                    "2": "2007"
                                },
                                {
                                    "0": "Dairy Products",
                                    "1": "10",
                                    "2": "2007"
                                },
                                {
                                    "0": "Seafood",
                                    "1": "20",
                                    "2": "2007"
                                },
                                {
                                    "0": "Beverages",
                                    "1": "20",
                                    "2": "2007"
                                },
                                {
                                    "0": "Dairy Products",
                                    "1": "25",
                                    "2": "2007"
                                },
                                {
                                    "0": "Dairy Products",
                                    "1": "50",
                                    "2": "2007"
                                },
                                {
                                    "0": "Produce",
                                    "1": "10",
                                    "2": "2007"
                                },
                                {
                                    "0": "Meat/Poultry",
                                    "1": "7",
                                    "2": "2007"
                                },
                                {
                                    "0": "Meat/Poultry",
                                    "1": "40",
                                    "2": "2007"
                                },
                                {
                                    "0": "Meat/Poultry",
                                    "1": "20",
                                    "2": "2007"
                                },
                                {
                                    "0": "Seafood",
                                    "1": "25",
                                    "2": "2007"
                                },
                                {
                                    "0": "Produce",
                                    "1": "30",
                                    "2": "2007"
                                },
                                {
                                    "0": "Meat/Poultry",
                                    "1": "60",
                                    "2": "2007"
                                },
                                {
                                    "0": "Confections",
                                    "1": "5",
                                    "2": "2007"
                                },
                                {
                                    "0": "Confections",
                                    "1": "24",
                                    "2": "2007"
                                },
                                {
                                    "0": "Confections",
                                    "1": "15",
                                    "2": "2007"
                                },
                                {
                                    "0": "Dairy Products",
                                    "1": "15",
                                    "2": "2007"
                                },
                                {
                                    "0": "Seafood",
                                    "1": "36",
                                    "2": "2007"
                                },
                                {
                                    "0": "Produce",
                                    "1": "24",
                                    "2": "2007"
                                },
                                {
                                    "0": "Confections",
                                    "1": "4",
                                    "2": "2007"
                                },
                                {
                                    "0": "Beverages",
                                    "1": "10",
                                    "2": "2007"
                                },
                                {
                                    "0": "Beverages",
                                    "1": "10",
                                    "2": "2007"
                                },
                                {
                                    "0": "Beverages",
                                    "1": "20",
                                    "2": "2007"
                                },
                                {
                                    "0": "Condiments",
                                    "1": "2",
                                    "2": "2007"
                                },
                                {
                                    "0": "Produce",
                                    "1": "15",
                                    "2": "2007"
                                },
                                {
                                    "0": "Seafood",
                                    "1": "1",
                                    "2": "2007"
                                },
                                {
                                    "0": "Grains/Cereals",
                                    "1": "20",
                                    "2": "2008"
                                },
                                {
                                    "0": "Beverages",
                                    "1": "50",
                                    "2": "2008"
                                },
                                {
                                    "0": "Grains/Cereals",
                                    "1": "20",
                                    "2": "2008"
                                },
                                {
                                    "0": "Seafood",
                                    "1": "7",
                                    "2": "2008"
                                },
                                {
                                    "0": "Confections",
                                    "1": "5",
                                    "2": "2008"
                                },
                                {
                                    "0": "Beverages",
                                    "1": "5",
                                    "2": "2008"
                                },
                                {
                                    "0": "Confections",
                                    "1": "15",
                                    "2": "2008"
                                },
                                {
                                    "0": "Grains/Cereals",
                                    "1": "18",
                                    "2": "2008"
                                },
                                {
                                    "0": "Seafood",
                                    "1": "30",
                                    "2": "2008"
                                },
                                {
                                    "0": "Dairy Products",
                                    "1": "16",
                                    "2": "2008"
                                },
                                {
                                    "0": "Dairy Products",
                                    "1": "40",
                                    "2": "2008"
                                },
                                {
                                    "0": "Condiments",
                                    "1": "20",
                                    "2": "2008"
                                },
                                {
                                    "0": "Beverages",
                                    "1": "12",
                                    "2": "2008"
                                },
                                {
                                    "0": "Seafood",
                                    "1": "35",
                                    "2": "2008"
                                },
                                {
                                    "0": "Seafood",
                                    "1": "20",
                                    "2": "2008"
                                },
                                {
                                    "0": "Beverages",
                                    "1": "20",
                                    "2": "2008"
                                },
                                {
                                    "0": "Confections",
                                    "1": "8",
                                    "2": "2008"
                                },
                                {
                                    "0": "Condiments",
                                    "1": "30",
                                    "2": "2008"
                                },
                                {
                                    "0": "Dairy Products",
                                    "1": "16",
                                    "2": "2008"
                                },
                                {
                                    "0": "Beverages",
                                    "1": "30",
                                    "2": "2008"
                                },
                                {
                                    "0": "Confections",
                                    "1": "20",
                                    "2": "2008"
                                },
                                {
                                    "0": "Confections",
                                    "1": "40",
                                    "2": "2008"
                                },
                                {
                                    "0": "Beverages",
                                    "1": "30",
                                    "2": "2008"
                                },
                                {
                                    "0": "Seafood",
                                    "1": "60",
                                    "2": "2008"
                                },
                                {
                                    "0": "Confections",
                                    "1": "25",
                                    "2": "2008"
                                },
                                {
                                    "0": "Dairy Products",
                                    "1": "20",
                                    "2": "2008"
                                },
                                {
                                    "0": "Seafood",
                                    "1": "20",
                                    "2": "2008"
                                },
                                {
                                    "0": "Beverages",
                                    "1": "7",
                                    "2": "2008"
                                },
                                {
                                    "0": "Beverages",
                                    "1": "20",
                                    "2": "2008"
                                },
                                {
                                    "0": "Grains/Cereals",
                                    "1": "30",
                                    "2": "2008"
                                },
                                {
                                    "0": "Beverages",
                                    "1": "20",
                                    "2": "2008"
                                },
                                {
                                    "0": "Produce",
                                    "1": "6",
                                    "2": "2008"
                                },
                                {
                                    "0": "Confections",
                                    "1": "3",
                                    "2": "2008"
                                },
                                {
                                    "0": "Beverages",
                                    "1": "6",
                                    "2": "2008"
                                },
                                {
                                    "0": "Dairy Products",
                                    "1": "20",
                                    "2": "2008"
                                },
                                {
                                    "0": "Grains/Cereals",
                                    "1": "15",
                                    "2": "2008"
                                },
                                {
                                    "0": "Dairy Products",
                                    "1": "40",
                                    "2": "2008"
                                },
                                {
                                    "0": "Condiments",
                                    "1": "15",
                                    "2": "2008"
                                },
                                {
                                    "0": "Seafood",
                                    "1": "12",
                                    "2": "2008"
                                },
                                {
                                    "0": "Beverages",
                                    "1": "9",
                                    "2": "2008"
                                },
                                {
                                    "0": "Confections",
                                    "1": "12",
                                    "2": "2008"
                                },
                                {
                                    "0": "Meat/Poultry",
                                    "1": "20",
                                    "2": "2008"
                                },
                                {
                                    "0": "Dairy Products",
                                    "1": "35",
                                    "2": "2008"
                                },
                                {
                                    "0": "Grains/Cereals",
                                    "1": "15",
                                    "2": "2008"
                                },
                                {
                                    "0": "Seafood",
                                    "1": "15",
                                    "2": "2008"
                                },
                                {
                                    "0": "Beverages",
                                    "1": "21",
                                    "2": "2008"
                                },
                                {
                                    "0": "Confections",
                                    "1": "5",
                                    "2": "2008"
                                },
                                {
                                    "0": "Beverages",
                                    "1": "2",
                                    "2": "2008"
                                },
                                {
                                    "0": "Beverages",
                                    "1": "10",
                                    "2": "2008"
                                },
                                {
                                    "0": "Condiments",
                                    "1": "20",
                                    "2": "2008"
                                },
                                {
                                    "0": "Seafood",
                                    "1": "10",
                                    "2": "2008"
                                },
                                {
                                    "0": "Dairy Products",
                                    "1": "21",
                                    "2": "2008"
                                },
                                {
                                    "0": "Condiments",
                                    "1": "6",
                                    "2": "2008"
                                },
                                {
                                    "0": "Beverages",
                                    "1": "28",
                                    "2": "2008"
                                },
                                {
                                    "0": "Dairy Products",
                                    "1": "30",
                                    "2": "2008"
                                },
                                {
                                    "0": "Confections",
                                    "1": "24",
                                    "2": "2008"
                                },
                                {
                                    "0": "Confections",
                                    "1": "2",
                                    "2": "2008"
                                },
                                {
                                    "0": "Beverages",
                                    "1": "8",
                                    "2": "2008"
                                },
                                {
                                    "0": "Beverages",
                                    "1": "8",
                                    "2": "2008"
                                },
                                {
                                    "0": "Beverages",
                                    "1": "9",
                                    "2": "2008"
                                },
                                {
                                    "0": "Seafood",
                                    "1": "3",
                                    "2": "2008"
                                },
                                {
                                    "0": "Confections",
                                    "1": "10",
                                    "2": "2008"
                                },
                                {
                                    "0": "Condiments",
                                    "1": "16",
                                    "2": "2008"
                                },
                                {
                                    "0": "Grains/Cereals",
                                    "1": "3",
                                    "2": "2008"
                                },
                                {
                                    "0": "Produce",
                                    "1": "20",
                                    "2": "2008"
                                },
                                {
                                    "0": "Dairy Products",
                                    "1": "9",
                                    "2": "2008"
                                },
                                {
                                    "0": "Meat/Poultry",
                                    "1": "9",
                                    "2": "2008"
                                },
                                {
                                    "0": "Meat/Poultry",
                                    "1": "8",
                                    "2": "2008"
                                },
                                {
                                    "0": "Seafood",
                                    "1": "20",
                                    "2": "2008"
                                },
                                {
                                    "0": "Dairy Products",
                                    "1": "15",
                                    "2": "2008"
                                },
                                {
                                    "0": "Condiments",
                                    "1": "2",
                                    "2": "2008"
                                },
                                {
                                    "0": "Grains/Cereals",
                                    "1": "52",
                                    "2": "2008"
                                },
                                {
                                    "0": "Beverages",
                                    "1": "6",
                                    "2": "2008"
                                },
                                {
                                    "0": "Grains/Cereals",
                                    "1": "24",
                                    "2": "2008"
                                },
                                {
                                    "0": "Dairy Products",
                                    "1": "60",
                                    "2": "2008"
                                },
                                {
                                    "0": "Grains/Cereals",
                                    "1": "30",
                                    "2": "2008"
                                },
                                {
                                    "0": "Seafood",
                                    "1": "6",
                                    "2": "2008"
                                },
                                {
                                    "0": "Seafood",
                                    "1": "25",
                                    "2": "2008"
                                },
                                {
                                    "0": "Confections",
                                    "1": "40",
                                    "2": "2008"
                                },
                                {
                                    "0": "Beverages",
                                    "1": "21",
                                    "2": "2008"
                                },
                                {
                                    "0": "Beverages",
                                    "1": "4",
                                    "2": "2008"
                                },
                                {
                                    "0": "Seafood",
                                    "1": "25",
                                    "2": "2008"
                                },
                                {
                                    "0": "Seafood",
                                    "1": "50",
                                    "2": "2008"
                                },
                                {
                                    "0": "Seafood",
                                    "1": "30",
                                    "2": "2008"
                                },
                                {
                                    "0": "Dairy Products",
                                    "1": "15",
                                    "2": "2008"
                                },
                                {
                                    "0": "Confections",
                                    "1": "6",
                                    "2": "2008"
                                },
                                {
                                    "0": "Beverages",
                                    "1": "10",
                                    "2": "2008"
                                },
                                {
                                    "0": "Seafood",
                                    "1": "16",
                                    "2": "2008"
                                },
                                {
                                    "0": "Grains/Cereals",
                                    "1": "30",
                                    "2": "2008"
                                },
                                {
                                    "0": "Dairy Products",
                                    "1": "50",
                                    "2": "2008"
                                },
                                {
                                    "0": "Condiments",
                                    "1": "15",
                                    "2": "2008"
                                },
                                {
                                    "0": "Dairy Products",
                                    "1": "15",
                                    "2": "2008"
                                },
                                {
                                    "0": "Beverages",
                                    "1": "5",
                                    "2": "2008"
                                },
                                {
                                    "0": "Confections",
                                    "1": "20",
                                    "2": "2008"
                                },
                                {
                                    "0": "Beverages",
                                    "1": "12",
                                    "2": "2008"
                                },
                                {
                                    "0": "Produce",
                                    "1": "4",
                                    "2": "2008"
                                },
                                {
                                    "0": "Grains/Cereals",
                                    "1": "35",
                                    "2": "2008"
                                },
                                {
                                    "0": "Grains/Cereals",
                                    "1": "70",
                                    "2": "2008"
                                },
                                {
                                    "0": "Beverages",
                                    "1": "25",
                                    "2": "2008"
                                },
                                {
                                    "0": "Grains/Cereals",
                                    "1": "42",
                                    "2": "2008"
                                },
                                {
                                    "0": "Seafood",
                                    "1": "60",
                                    "2": "2008"
                                },
                                {
                                    "0": "Grains/Cereals",
                                    "1": "48",
                                    "2": "2008"
                                },
                                {
                                    "0": "Condiments",
                                    "1": "21",
                                    "2": "2008"
                                },
                                {
                                    "0": "Beverages",
                                    "1": "30",
                                    "2": "2008"
                                },
                                {
                                    "0": "Produce",
                                    "1": "20",
                                    "2": "2008"
                                },
                                {
                                    "0": "Beverages",
                                    "1": "80",
                                    "2": "2008"
                                },
                                {
                                    "0": "Confections",
                                    "1": "12",
                                    "2": "2008"
                                },
                                {
                                    "0": "Seafood",
                                    "1": "60",
                                    "2": "2008"
                                },
                                {
                                    "0": "Seafood",
                                    "1": "36",
                                    "2": "2008"
                                },
                                {
                                    "0": "Dairy Products",
                                    "1": "45",
                                    "2": "2008"
                                },
                                {
                                    "0": "Dairy Products",
                                    "1": "55",
                                    "2": "2008"
                                },
                                {
                                    "0": "Condiments",
                                    "1": "30",
                                    "2": "2008"
                                },
                                {
                                    "0": "Meat/Poultry",
                                    "1": "3",
                                    "2": "2008"
                                },
                                {
                                    "0": "Condiments",
                                    "1": "49",
                                    "2": "2008"
                                },
                                {
                                    "0": "Confections",
                                    "1": "18",
                                    "2": "2008"
                                },
                                {
                                    "0": "Confections",
                                    "1": "20",
                                    "2": "2008"
                                },
                                {
                                    "0": "Dairy Products",
                                    "1": "4",
                                    "2": "2008"
                                },
                                {
                                    "0": "Beverages",
                                    "1": "30",
                                    "2": "2008"
                                },
                                {
                                    "0": "Beverages",
                                    "1": "5",
                                    "2": "2008"
                                },
                                {
                                    "0": "Confections",
                                    "1": "10",
                                    "2": "2008"
                                },
                                {
                                    "0": "Grains/Cereals",
                                    "1": "10",
                                    "2": "2008"
                                },
                                {
                                    "0": "Dairy Products",
                                    "1": "42",
                                    "2": "2008"
                                },
                                {
                                    "0": "Beverages",
                                    "1": "15",
                                    "2": "2008"
                                },
                                {
                                    "0": "Meat/Poultry",
                                    "1": "6",
                                    "2": "2008"
                                },
                                {
                                    "0": "Confections",
                                    "1": "50",
                                    "2": "2008"
                                },
                                {
                                    "0": "Seafood",
                                    "1": "10",
                                    "2": "2008"
                                },
                                {
                                    "0": "Seafood",
                                    "1": "100",
                                    "2": "2008"
                                },
                                {
                                    "0": "Seafood",
                                    "1": "65",
                                    "2": "2008"
                                },
                                {
                                    "0": "Confections",
                                    "1": "50",
                                    "2": "2008"
                                },
                                {
                                    "0": "Dairy Products",
                                    "1": "14",
                                    "2": "2008"
                                },
                                {
                                    "0": "Grains/Cereals",
                                    "1": "24",
                                    "2": "2008"
                                },
                                {
                                    "0": "Condiments",
                                    "1": "15",
                                    "2": "2008"
                                },
                                {
                                    "0": "Beverages",
                                    "1": "20",
                                    "2": "2008"
                                },
                                {
                                    "0": "Grains/Cereals",
                                    "1": "20",
                                    "2": "2008"
                                },
                                {
                                    "0": "Condiments",
                                    "1": "30",
                                    "2": "2008"
                                },
                                {
                                    "0": "Confections",
                                    "1": "35",
                                    "2": "2008"
                                },
                                {
                                    "0": "Meat/Poultry",
                                    "1": "10",
                                    "2": "2008"
                                },
                                {
                                    "0": "Produce",
                                    "1": "5",
                                    "2": "2008"
                                },
                                {
                                    "0": "Confections",
                                    "1": "10",
                                    "2": "2008"
                                },
                                {
                                    "0": "Beverages",
                                    "1": "4",
                                    "2": "2008"
                                },
                                {
                                    "0": "Beverages",
                                    "1": "40",
                                    "2": "2008"
                                },
                                {
                                    "0": "Meat/Poultry",
                                    "1": "35",
                                    "2": "2008"
                                },
                                {
                                    "0": "Grains/Cereals",
                                    "1": "30",
                                    "2": "2008"
                                },
                                {
                                    "0": "Produce",
                                    "1": "3",
                                    "2": "2008"
                                },
                                {
                                    "0": "Beverages",
                                    "1": "20",
                                    "2": "2008"
                                },
                                {
                                    "0": "Meat/Poultry",
                                    "1": "42",
                                    "2": "2008"
                                },
                                {
                                    "0": "Seafood",
                                    "1": "20",
                                    "2": "2008"
                                },
                                {
                                    "0": "Confections",
                                    "1": "40",
                                    "2": "2008"
                                },
                                {
                                    "0": "Dairy Products",
                                    "1": "35",
                                    "2": "2008"
                                },
                                {
                                    "0": "Confections",
                                    "1": "3",
                                    "2": "2008"
                                },
                                {
                                    "0": "Dairy Products",
                                    "1": "25",
                                    "2": "2008"
                                },
                                {
                                    "0": "Grains/Cereals",
                                    "1": "8",
                                    "2": "2008"
                                },
                                {
                                    "0": "Beverages",
                                    "1": "20",
                                    "2": "2008"
                                },
                                {
                                    "0": "Seafood",
                                    "1": "12",
                                    "2": "2008"
                                },
                                {
                                    "0": "Beverages",
                                    "1": "4",
                                    "2": "2008"
                                },
                                {
                                    "0": "Beverages",
                                    "1": "15",
                                    "2": "2008"
                                },
                                {
                                    "0": "Beverages",
                                    "1": "60",
                                    "2": "2008"
                                },
                                {
                                    "0": "Beverages",
                                    "1": "80",
                                    "2": "2008"
                                },
                                {
                                    "0": "Beverages",
                                    "1": "21",
                                    "2": "2008"
                                },
                                {
                                    "0": "Beverages",
                                    "1": "6",
                                    "2": "2008"
                                },
                                {
                                    "0": "Seafood",
                                    "1": "40",
                                    "2": "2008"
                                },
                                {
                                    "0": "Meat/Poultry",
                                    "1": "3",
                                    "2": "2008"
                                },
                                {
                                    "0": "Confections",
                                    "1": "20",
                                    "2": "2008"
                                },
                                {
                                    "0": "Beverages",
                                    "1": "30",
                                    "2": "2008"
                                },
                                {
                                    "0": "Confections",
                                    "1": "42",
                                    "2": "2008"
                                },
                                {
                                    "0": "Beverages",
                                    "1": "40",
                                    "2": "2008"
                                },
                                {
                                    "0": "Dairy Products",
                                    "1": "10",
                                    "2": "2008"
                                },
                                {
                                    "0": "Grains/Cereals",
                                    "1": "50",
                                    "2": "2008"
                                },
                                {
                                    "0": "Confections",
                                    "1": "20",
                                    "2": "2008"
                                },
                                {
                                    "0": "Beverages",
                                    "1": "3",
                                    "2": "2008"
                                },
                                {
                                    "0": "Produce",
                                    "1": "2",
                                    "2": "2008"
                                },
                                {
                                    "0": "Condiments",
                                    "1": "50",
                                    "2": "2008"
                                },
                                {
                                    "0": "Confections",
                                    "1": "12",
                                    "2": "2008"
                                },
                                {
                                    "0": "Meat/Poultry",
                                    "1": "16",
                                    "2": "2008"
                                },
                                {
                                    "0": "Meat/Poultry",
                                    "1": "10",
                                    "2": "2008"
                                },
                                {
                                    "0": "Confections",
                                    "1": "20",
                                    "2": "2008"
                                },
                                {
                                    "0": "Grains/Cereals",
                                    "1": "15",
                                    "2": "2008"
                                },
                                {
                                    "0": "Condiments",
                                    "1": "21",
                                    "2": "2008"
                                },
                                {
                                    "0": "Confections",
                                    "1": "20",
                                    "2": "2008"
                                },
                                {
                                    "0": "Produce",
                                    "1": "3",
                                    "2": "2008"
                                },
                                {
                                    "0": "Seafood",
                                    "1": "10",
                                    "2": "2008"
                                },
                                {
                                    "0": "Confections",
                                    "1": "25",
                                    "2": "2008"
                                },
                                {
                                    "0": "Confections",
                                    "1": "21",
                                    "2": "2008"
                                },
                                {
                                    "0": "Confections",
                                    "1": "15",
                                    "2": "2008"
                                },
                                {
                                    "0": "Seafood",
                                    "1": "21",
                                    "2": "2008"
                                },
                                {
                                    "0": "Grains/Cereals",
                                    "1": "20",
                                    "2": "2008"
                                },
                                {
                                    "0": "Confections",
                                    "1": "30",
                                    "2": "2008"
                                },
                                {
                                    "0": "Seafood",
                                    "1": "25",
                                    "2": "2008"
                                },
                                {
                                    "0": "Confections",
                                    "1": "20",
                                    "2": "2008"
                                },
                                {
                                    "0": "Seafood",
                                    "1": "12",
                                    "2": "2008"
                                },
                                {
                                    "0": "Condiments",
                                    "1": "10",
                                    "2": "2008"
                                },
                                {
                                    "0": "Beverages",
                                    "1": "10",
                                    "2": "2008"
                                },
                                {
                                    "0": "Grains/Cereals",
                                    "1": "30",
                                    "2": "2008"
                                },
                                {
                                    "0": "Condiments",
                                    "1": "30",
                                    "2": "2008"
                                },
                                {
                                    "0": "Beverages",
                                    "1": "50",
                                    "2": "2008"
                                },
                                {
                                    "0": "Seafood",
                                    "1": "10",
                                    "2": "2008"
                                },
                                {
                                    "0": "Grains/Cereals",
                                    "1": "25",
                                    "2": "2008"
                                },
                                {
                                    "0": "Confections",
                                    "1": "20",
                                    "2": "2008"
                                },
                                {
                                    "0": "Meat/Poultry",
                                    "1": "32",
                                    "2": "2008"
                                },
                                {
                                    "0": "Beverages",
                                    "1": "8",
                                    "2": "2008"
                                },
                                {
                                    "0": "Confections",
                                    "1": "40",
                                    "2": "2008"
                                },
                                {
                                    "0": "Grains/Cereals",
                                    "1": "21",
                                    "2": "2008"
                                },
                                {
                                    "0": "Condiments",
                                    "1": "12",
                                    "2": "2008"
                                },
                                {
                                    "0": "Beverages",
                                    "1": "20",
                                    "2": "2008"
                                },
                                {
                                    "0": "Beverages",
                                    "1": "12",
                                    "2": "2008"
                                },
                                {
                                    "0": "Beverages",
                                    "1": "30",
                                    "2": "2008"
                                },
                                {
                                    "0": "Condiments",
                                    "1": "25",
                                    "2": "2008"
                                },
                                {
                                    "0": "Seafood",
                                    "1": "70",
                                    "2": "2008"
                                },
                                {
                                    "0": "Dairy Products",
                                    "1": "35",
                                    "2": "2008"
                                },
                                {
                                    "0": "Condiments",
                                    "1": "40",
                                    "2": "2008"
                                },
                                {
                                    "0": "Confections",
                                    "1": "5",
                                    "2": "2008"
                                },
                                {
                                    "0": "Beverages",
                                    "1": "20",
                                    "2": "2008"
                                },
                                {
                                    "0": "Confections",
                                    "1": "18",
                                    "2": "2008"
                                },
                                {
                                    "0": "Dairy Products",
                                    "1": "40",
                                    "2": "2008"
                                },
                                {
                                    "0": "Beverages",
                                    "1": "40",
                                    "2": "2008"
                                },
                                {
                                    "0": "Meat/Poultry",
                                    "1": "15",
                                    "2": "2008"
                                },
                                {
                                    "0": "Beverages",
                                    "1": "10",
                                    "2": "2008"
                                },
                                {
                                    "0": "Seafood",
                                    "1": "14",
                                    "2": "2008"
                                },
                                {
                                    "0": "Seafood",
                                    "1": "15",
                                    "2": "2008"
                                },
                                {
                                    "0": "Dairy Products",
                                    "1": "40",
                                    "2": "2008"
                                },
                                {
                                    "0": "Condiments",
                                    "1": "30",
                                    "2": "2008"
                                },
                                {
                                    "0": "Beverages",
                                    "1": "10",
                                    "2": "2008"
                                },
                                {
                                    "0": "Meat/Poultry",
                                    "1": "24",
                                    "2": "2008"
                                },
                                {
                                    "0": "Seafood",
                                    "1": "35",
                                    "2": "2008"
                                },
                                {
                                    "0": "Seafood",
                                    "1": "20",
                                    "2": "2008"
                                },
                                {
                                    "0": "Seafood",
                                    "1": "28",
                                    "2": "2008"
                                },
                                {
                                    "0": "Dairy Products",
                                    "1": "50",
                                    "2": "2008"
                                },
                                {
                                    "0": "Beverages",
                                    "1": "120",
                                    "2": "2008"
                                },
                                {
                                    "0": "Beverages",
                                    "1": "110",
                                    "2": "2008"
                                },
                                {
                                    "0": "Beverages",
                                    "1": "45",
                                    "2": "2008"
                                },
                                {
                                    "0": "Seafood",
                                    "1": "91",
                                    "2": "2008"
                                },
                                {
                                    "0": "Dairy Products",
                                    "1": "100",
                                    "2": "2008"
                                },
                                {
                                    "0": "Seafood",
                                    "1": "15",
                                    "2": "2008"
                                },
                                {
                                    "0": "Grains/Cereals",
                                    "1": "16",
                                    "2": "2008"
                                },
                                {
                                    "0": "Meat/Poultry",
                                    "1": "80",
                                    "2": "2008"
                                },
                                {
                                    "0": "Seafood",
                                    "1": "36",
                                    "2": "2008"
                                },
                                {
                                    "0": "Seafood",
                                    "1": "5",
                                    "2": "2008"
                                },
                                {
                                    "0": "Beverages",
                                    "1": "8",
                                    "2": "2008"
                                },
                                {
                                    "0": "Beverages",
                                    "1": "3",
                                    "2": "2008"
                                },
                                {
                                    "0": "Seafood",
                                    "1": "30",
                                    "2": "2008"
                                },
                                {
                                    "0": "Dairy Products",
                                    "1": "30",
                                    "2": "2008"
                                },
                                {
                                    "0": "Meat/Poultry",
                                    "1": "30",
                                    "2": "2008"
                                },
                                {
                                    "0": "Confections",
                                    "1": "6",
                                    "2": "2008"
                                },
                                {
                                    "0": "Seafood",
                                    "1": "40",
                                    "2": "2008"
                                },
                                {
                                    "0": "Condiments",
                                    "1": "21",
                                    "2": "2008"
                                },
                                {
                                    "0": "Confections",
                                    "1": "20",
                                    "2": "2008"
                                },
                                {
                                    "0": "Seafood",
                                    "1": "15",
                                    "2": "2008"
                                },
                                {
                                    "0": "Confections",
                                    "1": "35",
                                    "2": "2008"
                                },
                                {
                                    "0": "Beverages",
                                    "1": "20",
                                    "2": "2008"
                                },
                                {
                                    "0": "Condiments",
                                    "1": "15",
                                    "2": "2008"
                                },
                                {
                                    "0": "Beverages",
                                    "1": "14",
                                    "2": "2008"
                                },
                                {
                                    "0": "Produce",
                                    "1": "20",
                                    "2": "2008"
                                },
                                {
                                    "0": "Grains/Cereals",
                                    "1": "14",
                                    "2": "2008"
                                },
                                {
                                    "0": "Produce",
                                    "1": "12",
                                    "2": "2008"
                                },
                                {
                                    "0": "Confections",
                                    "1": "15",
                                    "2": "2008"
                                },
                                {
                                    "0": "Seafood",
                                    "1": "5",
                                    "2": "2008"
                                },
                                {
                                    "0": "Confections",
                                    "1": "12",
                                    "2": "2008"
                                },
                                {
                                    "0": "Confections",
                                    "1": "10",
                                    "2": "2008"
                                },
                                {
                                    "0": "Condiments",
                                    "1": "5",
                                    "2": "2008"
                                },
                                {
                                    "0": "Beverages",
                                    "1": "10",
                                    "2": "2008"
                                },
                                {
                                    "0": "Meat/Poultry",
                                    "1": "12",
                                    "2": "2008"
                                },
                                {
                                    "0": "Beverages",
                                    "1": "15",
                                    "2": "2008"
                                },
                                {
                                    "0": "Dairy Products",
                                    "1": "40",
                                    "2": "2008"
                                },
                                {
                                    "0": "Meat/Poultry",
                                    "1": "60",
                                    "2": "2008"
                                },
                                {
                                    "0": "Condiments",
                                    "1": "30",
                                    "2": "2008"
                                },
                                {
                                    "0": "Dairy Products",
                                    "1": "40",
                                    "2": "2008"
                                },
                                {
                                    "0": "Seafood",
                                    "1": "15",
                                    "2": "2008"
                                },
                                {
                                    "0": "Dairy Products",
                                    "1": "25",
                                    "2": "2008"
                                },
                                {
                                    "0": "Meat/Poultry",
                                    "1": "10",
                                    "2": "2008"
                                },
                                {
                                    "0": "Dairy Products",
                                    "1": "30",
                                    "2": "2008"
                                },
                                {
                                    "0": "Meat/Poultry",
                                    "1": "10",
                                    "2": "2008"
                                },
                                {
                                    "0": "Confections",
                                    "1": "6",
                                    "2": "2008"
                                },
                                {
                                    "0": "Dairy Products",
                                    "1": "6",
                                    "2": "2008"
                                },
                                {
                                    "0": "Grains/Cereals",
                                    "1": "20",
                                    "2": "2008"
                                },
                                {
                                    "0": "Seafood",
                                    "1": "1",
                                    "2": "2008"
                                },
                                {
                                    "0": "Dairy Products",
                                    "1": "10",
                                    "2": "2008"
                                },
                                {
                                    "0": "Beverages",
                                    "1": "60",
                                    "2": "2008"
                                },
                                {
                                    "0": "Dairy Products",
                                    "1": "25",
                                    "2": "2008"
                                },
                                {
                                    "0": "Confections",
                                    "1": "24",
                                    "2": "2008"
                                },
                                {
                                    "0": "Confections",
                                    "1": "24",
                                    "2": "2008"
                                },
                                {
                                    "0": "Seafood",
                                    "1": "20",
                                    "2": "2008"
                                },
                                {
                                    "0": "Confections",
                                    "1": "24",
                                    "2": "2008"
                                },
                                {
                                    "0": "Beverages",
                                    "1": "10",
                                    "2": "2008"
                                },
                                {
                                    "0": "Condiments",
                                    "1": "40",
                                    "2": "2008"
                                },
                                {
                                    "0": "Meat/Poultry",
                                    "1": "15",
                                    "2": "2008"
                                },
                                {
                                    "0": "Beverages",
                                    "1": "35",
                                    "2": "2008"
                                },
                                {
                                    "0": "Grains/Cereals",
                                    "1": "10",
                                    "2": "2008"
                                },
                                {
                                    "0": "Beverages",
                                    "1": "10",
                                    "2": "2008"
                                },
                                {
                                    "0": "Beverages",
                                    "1": "24",
                                    "2": "2008"
                                },
                                {
                                    "0": "Seafood",
                                    "1": "20",
                                    "2": "2008"
                                },
                                {
                                    "0": "Produce",
                                    "1": "30",
                                    "2": "2008"
                                },
                                {
                                    "0": "Beverages",
                                    "1": "6",
                                    "2": "2008"
                                },
                                {
                                    "0": "Seafood",
                                    "1": "25",
                                    "2": "2008"
                                },
                                {
                                    "0": "Grains/Cereals",
                                    "1": "12",
                                    "2": "2008"
                                },
                                {
                                    "0": "Dairy Products",
                                    "1": "2",
                                    "2": "2008"
                                },
                                {
                                    "0": "Seafood",
                                    "1": "10",
                                    "2": "2008"
                                },
                                {
                                    "0": "Confections",
                                    "1": "7",
                                    "2": "2008"
                                },
                                {
                                    "0": "Dairy Products",
                                    "1": "10",
                                    "2": "2008"
                                },
                                {
                                    "0": "Confections",
                                    "1": "5",
                                    "2": "2008"
                                },
                                {
                                    "0": "Grains/Cereals",
                                    "1": "5",
                                    "2": "2008"
                                },
                                {
                                    "0": "Beverages",
                                    "1": "20",
                                    "2": "2008"
                                },
                                {
                                    "0": "Confections",
                                    "1": "5",
                                    "2": "2008"
                                },
                                {
                                    "0": "Beverages",
                                    "1": "5",
                                    "2": "2008"
                                },
                                {
                                    "0": "Confections",
                                    "1": "60",
                                    "2": "2008"
                                },
                                {
                                    "0": "Beverages",
                                    "1": "49",
                                    "2": "2008"
                                },
                                {
                                    "0": "Condiments",
                                    "1": "15",
                                    "2": "2008"
                                },
                                {
                                    "0": "Confections",
                                    "1": "36",
                                    "2": "2008"
                                },
                                {
                                    "0": "Confections",
                                    "1": "25",
                                    "2": "2008"
                                },
                                {
                                    "0": "Meat/Poultry",
                                    "1": "25",
                                    "2": "2008"
                                },
                                {
                                    "0": "Seafood",
                                    "1": "30",
                                    "2": "2008"
                                },
                                {
                                    "0": "Seafood",
                                    "1": "42",
                                    "2": "2008"
                                },
                                {
                                    "0": "Grains/Cereals",
                                    "1": "30",
                                    "2": "2008"
                                },
                                {
                                    "0": "Confections",
                                    "1": "30",
                                    "2": "2008"
                                },
                                {
                                    "0": "Confections",
                                    "1": "14",
                                    "2": "2008"
                                },
                                {
                                    "0": "Dairy Products",
                                    "1": "16",
                                    "2": "2008"
                                },
                                {
                                    "0": "Beverages",
                                    "1": "20",
                                    "2": "2008"
                                },
                                {
                                    "0": "Meat/Poultry",
                                    "1": "2",
                                    "2": "2008"
                                },
                                {
                                    "0": "Condiments",
                                    "1": "30",
                                    "2": "2008"
                                },
                                {
                                    "0": "Condiments",
                                    "1": "20",
                                    "2": "2008"
                                },
                                {
                                    "0": "Beverages",
                                    "1": "21",
                                    "2": "2008"
                                },
                                {
                                    "0": "Seafood",
                                    "1": "4",
                                    "2": "2008"
                                },
                                {
                                    "0": "Grains/Cereals",
                                    "1": "8",
                                    "2": "2008"
                                },
                                {
                                    "0": "Seafood",
                                    "1": "30",
                                    "2": "2008"
                                },
                                {
                                    "0": "Produce",
                                    "1": "8",
                                    "2": "2008"
                                },
                                {
                                    "0": "Beverages",
                                    "1": "20",
                                    "2": "2008"
                                },
                                {
                                    "0": "Seafood",
                                    "1": "20",
                                    "2": "2008"
                                },
                                {
                                    "0": "Beverages",
                                    "1": "24",
                                    "2": "2008"
                                },
                                {
                                    "0": "Dairy Products",
                                    "1": "49",
                                    "2": "2008"
                                },
                                {
                                    "0": "Dairy Products",
                                    "1": "35",
                                    "2": "2008"
                                },
                                {
                                    "0": "Beverages",
                                    "1": "10",
                                    "2": "2008"
                                },
                                {
                                    "0": "Beverages",
                                    "1": "40",
                                    "2": "2008"
                                },
                                {
                                    "0": "Produce",
                                    "1": "8",
                                    "2": "2008"
                                },
                                {
                                    "0": "Seafood",
                                    "1": "20",
                                    "2": "2008"
                                },
                                {
                                    "0": "Dairy Products",
                                    "1": "44",
                                    "2": "2008"
                                },
                                {
                                    "0": "Confections",
                                    "1": "30",
                                    "2": "2008"
                                },
                                {
                                    "0": "Confections",
                                    "1": "80",
                                    "2": "2008"
                                },
                                {
                                    "0": "Dairy Products",
                                    "1": "50",
                                    "2": "2008"
                                },
                                {
                                    "0": "Confections",
                                    "1": "28",
                                    "2": "2008"
                                },
                                {
                                    "0": "Seafood",
                                    "1": "15",
                                    "2": "2008"
                                },
                                {
                                    "0": "Grains/Cereals",
                                    "1": "21",
                                    "2": "2008"
                                },
                                {
                                    "0": "Seafood",
                                    "1": "15",
                                    "2": "2008"
                                },
                                {
                                    "0": "Dairy Products",
                                    "1": "5",
                                    "2": "2008"
                                },
                                {
                                    "0": "Condiments",
                                    "1": "18",
                                    "2": "2008"
                                },
                                {
                                    "0": "Grains/Cereals",
                                    "1": "18",
                                    "2": "2008"
                                },
                                {
                                    "0": "Seafood",
                                    "1": "20",
                                    "2": "2008"
                                },
                                {
                                    "0": "Dairy Products",
                                    "1": "10",
                                    "2": "2008"
                                },
                                {
                                    "0": "Seafood",
                                    "1": "25",
                                    "2": "2008"
                                },
                                {
                                    "0": "Beverages",
                                    "1": "25",
                                    "2": "2008"
                                },
                                {
                                    "0": "Condiments",
                                    "1": "40",
                                    "2": "2008"
                                },
                                {
                                    "0": "Dairy Products",
                                    "1": "4",
                                    "2": "2008"
                                },
                                {
                                    "0": "Confections",
                                    "1": "9",
                                    "2": "2008"
                                },
                                {
                                    "0": "Produce",
                                    "1": "40",
                                    "2": "2008"
                                },
                                {
                                    "0": "Meat/Poultry",
                                    "1": "4",
                                    "2": "2008"
                                },
                                {
                                    "0": "Condiments",
                                    "1": "12",
                                    "2": "2008"
                                },
                                {
                                    "0": "Seafood",
                                    "1": "30",
                                    "2": "2008"
                                },
                                {
                                    "0": "Meat/Poultry",
                                    "1": "6",
                                    "2": "2008"
                                },
                                {
                                    "0": "Confections",
                                    "1": "60",
                                    "2": "2008"
                                },
                                {
                                    "0": "Condiments",
                                    "1": "5",
                                    "2": "2008"
                                },
                                {
                                    "0": "Dairy Products",
                                    "1": "15",
                                    "2": "2008"
                                },
                                {
                                    "0": "Seafood",
                                    "1": "6",
                                    "2": "2008"
                                },
                                {
                                    "0": "Beverages",
                                    "1": "50",
                                    "2": "2008"
                                },
                                {
                                    "0": "Condiments",
                                    "1": "16",
                                    "2": "2008"
                                },
                                {
                                    "0": "Produce",
                                    "1": "2",
                                    "2": "2008"
                                },
                                {
                                    "0": "Confections",
                                    "1": "50",
                                    "2": "2008"
                                },
                                {
                                    "0": "Dairy Products",
                                    "1": "50",
                                    "2": "2008"
                                },
                                {
                                    "0": "Confections",
                                    "1": "28",
                                    "2": "2008"
                                },
                                {
                                    "0": "Dairy Products",
                                    "1": "25",
                                    "2": "2008"
                                },
                                {
                                    "0": "Seafood",
                                    "1": "30",
                                    "2": "2008"
                                },
                                {
                                    "0": "Dairy Products",
                                    "1": "24",
                                    "2": "2008"
                                },
                                {
                                    "0": "Beverages",
                                    "1": "12",
                                    "2": "2008"
                                },
                                {
                                    "0": "Confections",
                                    "1": "12",
                                    "2": "2008"
                                },
                                {
                                    "0": "Confections",
                                    "1": "14",
                                    "2": "2008"
                                },
                                {
                                    "0": "Produce",
                                    "1": "8",
                                    "2": "2008"
                                },
                                {
                                    "0": "Seafood",
                                    "1": "30",
                                    "2": "2008"
                                },
                                {
                                    "0": "Beverages",
                                    "1": "40",
                                    "2": "2008"
                                },
                                {
                                    "0": "Grains/Cereals",
                                    "1": "8",
                                    "2": "2008"
                                },
                                {
                                    "0": "Condiments",
                                    "1": "20",
                                    "2": "2008"
                                },
                                {
                                    "0": "Produce",
                                    "1": "6",
                                    "2": "2008"
                                },
                                {
                                    "0": "Dairy Products",
                                    "1": "5",
                                    "2": "2008"
                                },
                                {
                                    "0": "Beverages",
                                    "1": "20",
                                    "2": "2008"
                                },
                                {
                                    "0": "Beverages",
                                    "1": "10",
                                    "2": "2008"
                                },
                                {
                                    "0": "Seafood",
                                    "1": "24",
                                    "2": "2008"
                                },
                                {
                                    "0": "Grains/Cereals",
                                    "1": "6",
                                    "2": "2008"
                                },
                                {
                                    "0": "Beverages",
                                    "1": "60",
                                    "2": "2008"
                                },
                                {
                                    "0": "Produce",
                                    "1": "45",
                                    "2": "2008"
                                },
                                {
                                    "0": "Seafood",
                                    "1": "77",
                                    "2": "2008"
                                },
                                {
                                    "0": "Meat/Poultry",
                                    "1": "20",
                                    "2": "2008"
                                },
                                {
                                    "0": "Dairy Products",
                                    "1": "9",
                                    "2": "2008"
                                },
                                {
                                    "0": "Beverages",
                                    "1": "44",
                                    "2": "2008"
                                },
                                {
                                    "0": "Dairy Products",
                                    "1": "2",
                                    "2": "2008"
                                },
                                {
                                    "0": "Seafood",
                                    "1": "6",
                                    "2": "2008"
                                },
                                {
                                    "0": "Beverages",
                                    "1": "5",
                                    "2": "2008"
                                },
                                {
                                    "0": "Dairy Products",
                                    "1": "10",
                                    "2": "2008"
                                },
                                {
                                    "0": "Produce",
                                    "1": "16",
                                    "2": "2008"
                                },
                                {
                                    "0": "Seafood",
                                    "1": "8",
                                    "2": "2008"
                                },
                                {
                                    "0": "Grains/Cereals",
                                    "1": "12",
                                    "2": "2008"
                                },
                                {
                                    "0": "Confections",
                                    "1": "12",
                                    "2": "2008"
                                },
                                {
                                    "0": "Confections",
                                    "1": "12",
                                    "2": "2008"
                                },
                                {
                                    "0": "Confections",
                                    "1": "40",
                                    "2": "2008"
                                },
                                {
                                    "0": "Dairy Products",
                                    "1": "30",
                                    "2": "2008"
                                },
                                {
                                    "0": "Beverages",
                                    "1": "30",
                                    "2": "2008"
                                },
                                {
                                    "0": "Grains/Cereals",
                                    "1": "4",
                                    "2": "2008"
                                },
                                {
                                    "0": "Seafood",
                                    "1": "9",
                                    "2": "2008"
                                },
                                {
                                    "0": "Grains/Cereals",
                                    "1": "40",
                                    "2": "2008"
                                },
                                {
                                    "0": "Meat/Poultry",
                                    "1": "14",
                                    "2": "2008"
                                },
                                {
                                    "0": "Meat/Poultry",
                                    "1": "6",
                                    "2": "2008"
                                },
                                {
                                    "0": "Dairy Products",
                                    "1": "7",
                                    "2": "2008"
                                },
                                {
                                    "0": "Confections",
                                    "1": "5",
                                    "2": "2008"
                                },
                                {
                                    "0": "Seafood",
                                    "1": "6",
                                    "2": "2008"
                                },
                                {
                                    "0": "Beverages",
                                    "1": "10",
                                    "2": "2008"
                                },
                                {
                                    "0": "Condiments",
                                    "1": "10",
                                    "2": "2008"
                                },
                                {
                                    "0": "Condiments",
                                    "1": "16",
                                    "2": "2008"
                                },
                                {
                                    "0": "Beverages",
                                    "1": "10",
                                    "2": "2008"
                                },
                                {
                                    "0": "Produce",
                                    "1": "20",
                                    "2": "2008"
                                },
                                {
                                    "0": "Beverages",
                                    "1": "30",
                                    "2": "2008"
                                },
                                {
                                    "0": "Confections",
                                    "1": "30",
                                    "2": "2008"
                                },
                                {
                                    "0": "Produce",
                                    "1": "10",
                                    "2": "2008"
                                },
                                {
                                    "0": "Condiments",
                                    "1": "20",
                                    "2": "2008"
                                },
                                {
                                    "0": "Condiments",
                                    "1": "20",
                                    "2": "2008"
                                },
                                {
                                    "0": "Confections",
                                    "1": "40",
                                    "2": "2008"
                                },
                                {
                                    "0": "Seafood",
                                    "1": "10",
                                    "2": "2008"
                                },
                                {
                                    "0": "Condiments",
                                    "1": "6",
                                    "2": "2008"
                                },
                                {
                                    "0": "Produce",
                                    "1": "18",
                                    "2": "2008"
                                },
                                {
                                    "0": "Dairy Products",
                                    "1": "20",
                                    "2": "2008"
                                },
                                {
                                    "0": "Beverages",
                                    "1": "80",
                                    "2": "2008"
                                },
                                {
                                    "0": "Confections",
                                    "1": "30",
                                    "2": "2008"
                                },
                                {
                                    "0": "Dairy Products",
                                    "1": "24",
                                    "2": "2008"
                                },
                                {
                                    "0": "Condiments",
                                    "1": "35",
                                    "2": "2008"
                                },
                                {
                                    "0": "Beverages",
                                    "1": "40",
                                    "2": "2008"
                                },
                                {
                                    "0": "Beverages",
                                    "1": "60",
                                    "2": "2008"
                                },
                                {
                                    "0": "Produce",
                                    "1": "20",
                                    "2": "2008"
                                },
                                {
                                    "0": "Beverages",
                                    "1": "9",
                                    "2": "2008"
                                },
                                {
                                    "0": "Seafood",
                                    "1": "84",
                                    "2": "2008"
                                },
                                {
                                    "0": "Grains/Cereals",
                                    "1": "15",
                                    "2": "2008"
                                },
                                {
                                    "0": "Confections",
                                    "1": "55",
                                    "2": "2008"
                                },
                                {
                                    "0": "Beverages",
                                    "1": "20",
                                    "2": "2008"
                                },
                                {
                                    "0": "Seafood",
                                    "1": "40",
                                    "2": "2008"
                                },
                                {
                                    "0": "Confections",
                                    "1": "36",
                                    "2": "2008"
                                },
                                {
                                    "0": "Seafood",
                                    "1": "8",
                                    "2": "2008"
                                },
                                {
                                    "0": "Dairy Products",
                                    "1": "35",
                                    "2": "2008"
                                },
                                {
                                    "0": "Dairy Products",
                                    "1": "30",
                                    "2": "2008"
                                },
                                {
                                    "0": "Confections",
                                    "1": "15",
                                    "2": "2008"
                                },
                                {
                                    "0": "Beverages",
                                    "1": "10",
                                    "2": "2008"
                                },
                                {
                                    "0": "Condiments",
                                    "1": "15",
                                    "2": "2008"
                                },
                                {
                                    "0": "Produce",
                                    "1": "60",
                                    "2": "2008"
                                },
                                {
                                    "0": "Beverages",
                                    "1": "6",
                                    "2": "2008"
                                },
                                {
                                    "0": "Dairy Products",
                                    "1": "20",
                                    "2": "2008"
                                },
                                {
                                    "0": "Produce",
                                    "1": "60",
                                    "2": "2008"
                                },
                                {
                                    "0": "Confections",
                                    "1": "40",
                                    "2": "2008"
                                },
                                {
                                    "0": "Condiments",
                                    "1": "40",
                                    "2": "2008"
                                },
                                {
                                    "0": "Dairy Products",
                                    "1": "15",
                                    "2": "2008"
                                },
                                {
                                    "0": "Seafood",
                                    "1": "4",
                                    "2": "2008"
                                },
                                {
                                    "0": "Confections",
                                    "1": "65",
                                    "2": "2008"
                                },
                                {
                                    "0": "Beverages",
                                    "1": "60",
                                    "2": "2008"
                                },
                                {
                                    "0": "Meat/Poultry",
                                    "1": "65",
                                    "2": "2008"
                                },
                                {
                                    "0": "Condiments",
                                    "1": "66",
                                    "2": "2008"
                                },
                                {
                                    "0": "Beverages",
                                    "1": "50",
                                    "2": "2008"
                                },
                                {
                                    "0": "Beverages",
                                    "1": "20",
                                    "2": "2008"
                                },
                                {
                                    "0": "Beverages",
                                    "1": "90",
                                    "2": "2008"
                                },
                                {
                                    "0": "Dairy Products",
                                    "1": "2",
                                    "2": "2008"
                                },
                                {
                                    "0": "Meat/Poultry",
                                    "1": "50",
                                    "2": "2008"
                                },
                                {
                                    "0": "Seafood",
                                    "1": "35",
                                    "2": "2008"
                                },
                                {
                                    "0": "Dairy Products",
                                    "1": "18",
                                    "2": "2008"
                                },
                                {
                                    "0": "Produce",
                                    "1": "20",
                                    "2": "2008"
                                },
                                {
                                    "0": "Dairy Products",
                                    "1": "4",
                                    "2": "2008"
                                },
                                {
                                    "0": "Grains/Cereals",
                                    "1": "40",
                                    "2": "2008"
                                },
                                {
                                    "0": "Dairy Products",
                                    "1": "50",
                                    "2": "2008"
                                },
                                {
                                    "0": "Seafood",
                                    "1": "20",
                                    "2": "2008"
                                },
                                {
                                    "0": "Grains/Cereals",
                                    "1": "20",
                                    "2": "2008"
                                },
                                {
                                    "0": "Beverages",
                                    "1": "12",
                                    "2": "2008"
                                },
                                {
                                    "0": "Condiments",
                                    "1": "7",
                                    "2": "2008"
                                },
                                {
                                    "0": "Produce",
                                    "1": "20",
                                    "2": "2008"
                                },
                                {
                                    "0": "Beverages",
                                    "1": "30",
                                    "2": "2008"
                                },
                                {
                                    "0": "Seafood",
                                    "1": "20",
                                    "2": "2008"
                                },
                                {
                                    "0": "Produce",
                                    "1": "15",
                                    "2": "2008"
                                },
                                {
                                    "0": "Condiments",
                                    "1": "21",
                                    "2": "2008"
                                },
                                {
                                    "0": "Condiments",
                                    "1": "25",
                                    "2": "2008"
                                },
                                {
                                    "0": "Beverages",
                                    "1": "30",
                                    "2": "2008"
                                },
                                {
                                    "0": "Condiments",
                                    "1": "30",
                                    "2": "2008"
                                },
                                {
                                    "0": "Produce",
                                    "1": "60",
                                    "2": "2008"
                                },
                                {
                                    "0": "Grains/Cereals",
                                    "1": "25",
                                    "2": "2008"
                                },
                                {
                                    "0": "Seafood",
                                    "1": "25",
                                    "2": "2008"
                                },
                                {
                                    "0": "Meat/Poultry",
                                    "1": "6",
                                    "2": "2008"
                                },
                                {
                                    "0": "Seafood",
                                    "1": "56",
                                    "2": "2008"
                                },
                                {
                                    "0": "Beverages",
                                    "1": "15",
                                    "2": "2008"
                                },
                                {
                                    "0": "Grains/Cereals",
                                    "1": "24",
                                    "2": "2008"
                                },
                                {
                                    "0": "Meat/Poultry",
                                    "1": "40",
                                    "2": "2008"
                                },
                                {
                                    "0": "Beverages",
                                    "1": "4",
                                    "2": "2008"
                                },
                                {
                                    "0": "Seafood",
                                    "1": "10",
                                    "2": "2008"
                                },
                                {
                                    "0": "Grains/Cereals",
                                    "1": "10",
                                    "2": "2008"
                                },
                                {
                                    "0": "Confections",
                                    "1": "6",
                                    "2": "2008"
                                },
                                {
                                    "0": "Beverages",
                                    "1": "6",
                                    "2": "2008"
                                },
                                {
                                    "0": "Beverages",
                                    "1": "2",
                                    "2": "2008"
                                },
                                {
                                    "0": "Dairy Products",
                                    "1": "10",
                                    "2": "2008"
                                },
                                {
                                    "0": "Beverages",
                                    "1": "8",
                                    "2": "2008"
                                },
                                {
                                    "0": "Meat/Poultry",
                                    "1": "2",
                                    "2": "2008"
                                },
                                {
                                    "0": "Condiments",
                                    "1": "30",
                                    "2": "2008"
                                },
                                {
                                    "0": "Meat/Poultry",
                                    "1": "10",
                                    "2": "2008"
                                },
                                {
                                    "0": "Grains/Cereals",
                                    "1": "14",
                                    "2": "2008"
                                },
                                {
                                    "0": "Produce",
                                    "1": "70",
                                    "2": "2008"
                                },
                                {
                                    "0": "Beverages",
                                    "1": "90",
                                    "2": "2008"
                                },
                                {
                                    "0": "Dairy Products",
                                    "1": "21",
                                    "2": "2008"
                                },
                                {
                                    "0": "Beverages",
                                    "1": "12",
                                    "2": "2008"
                                },
                                {
                                    "0": "Seafood",
                                    "1": "18",
                                    "2": "2008"
                                },
                                {
                                    "0": "Dairy Products",
                                    "1": "9",
                                    "2": "2008"
                                },
                                {
                                    "0": "Produce",
                                    "1": "20",
                                    "2": "2008"
                                },
                                {
                                    "0": "Beverages",
                                    "1": "10",
                                    "2": "2008"
                                },
                                {
                                    "0": "Seafood",
                                    "1": "40",
                                    "2": "2008"
                                },
                                {
                                    "0": "Dairy Products",
                                    "1": "20",
                                    "2": "2008"
                                },
                                {
                                    "0": "Confections",
                                    "1": "50",
                                    "2": "2008"
                                },
                                {
                                    "0": "Dairy Products",
                                    "1": "36",
                                    "2": "2008"
                                },
                                {
                                    "0": "Dairy Products",
                                    "1": "60",
                                    "2": "2008"
                                },
                                {
                                    "0": "Grains/Cereals",
                                    "1": "10",
                                    "2": "2008"
                                },
                                {
                                    "0": "Grains/Cereals",
                                    "1": "4",
                                    "2": "2008"
                                },
                                {
                                    "0": "Seafood",
                                    "1": "20",
                                    "2": "2008"
                                },
                                {
                                    "0": "Confections",
                                    "1": "2",
                                    "2": "2008"
                                },
                                {
                                    "0": "Seafood",
                                    "1": "28",
                                    "2": "2008"
                                },
                                {
                                    "0": "Seafood",
                                    "1": "15",
                                    "2": "2008"
                                },
                                {
                                    "0": "Condiments",
                                    "1": "18",
                                    "2": "2008"
                                },
                                {
                                    "0": "Dairy Products",
                                    "1": "15",
                                    "2": "2008"
                                },
                                {
                                    "0": "Seafood",
                                    "1": "16",
                                    "2": "2008"
                                },
                                {
                                    "0": "Condiments",
                                    "1": "25",
                                    "2": "2008"
                                },
                                {
                                    "0": "Dairy Products",
                                    "1": "110",
                                    "2": "2008"
                                },
                                {
                                    "0": "Beverages",
                                    "1": "30",
                                    "2": "2008"
                                },
                                {
                                    "0": "Dairy Products",
                                    "1": "20",
                                    "2": "2008"
                                },
                                {
                                    "0": "Seafood",
                                    "1": "10",
                                    "2": "2008"
                                },
                                {
                                    "0": "Grains/Cereals",
                                    "1": "5",
                                    "2": "2008"
                                },
                                {
                                    "0": "Seafood",
                                    "1": "3",
                                    "2": "2008"
                                },
                                {
                                    "0": "Confections",
                                    "1": "2",
                                    "2": "2008"
                                },
                                {
                                    "0": "Seafood",
                                    "1": "24",
                                    "2": "2008"
                                },
                                {
                                    "0": "Beverages",
                                    "1": "11",
                                    "2": "2008"
                                },
                                {
                                    "0": "Confections",
                                    "1": "15",
                                    "2": "2008"
                                },
                                {
                                    "0": "Confections",
                                    "1": "63",
                                    "2": "2008"
                                },
                                {
                                    "0": "Produce",
                                    "1": "44",
                                    "2": "2008"
                                },
                                {
                                    "0": "Dairy Products",
                                    "1": "35",
                                    "2": "2008"
                                },
                                {
                                    "0": "Confections",
                                    "1": "35",
                                    "2": "2008"
                                },
                                {
                                    "0": "Dairy Products",
                                    "1": "30",
                                    "2": "2008"
                                },
                                {
                                    "0": "Produce",
                                    "1": "4",
                                    "2": "2008"
                                },
                                {
                                    "0": "Beverages",
                                    "1": "30",
                                    "2": "2008"
                                },
                                {
                                    "0": "Confections",
                                    "1": "12",
                                    "2": "2008"
                                },
                                {
                                    "0": "Dairy Products",
                                    "1": "30",
                                    "2": "2008"
                                },
                                {
                                    "0": "Condiments",
                                    "1": "21",
                                    "2": "2008"
                                },
                                {
                                    "0": "Dairy Products",
                                    "1": "50",
                                    "2": "2008"
                                },
                                {
                                    "0": "Beverages",
                                    "1": "10",
                                    "2": "2008"
                                },
                                {
                                    "0": "Seafood",
                                    "1": "20",
                                    "2": "2008"
                                },
                                {
                                    "0": "Seafood",
                                    "1": "8",
                                    "2": "2008"
                                },
                                {
                                    "0": "Produce",
                                    "1": "10",
                                    "2": "2008"
                                },
                                {
                                    "0": "Beverages",
                                    "1": "30",
                                    "2": "2008"
                                },
                                {
                                    "0": "Confections",
                                    "1": "21",
                                    "2": "2008"
                                },
                                {
                                    "0": "Meat/Poultry",
                                    "1": "35",
                                    "2": "2008"
                                },
                                {
                                    "0": "Dairy Products",
                                    "1": "24",
                                    "2": "2008"
                                },
                                {
                                    "0": "Grains/Cereals",
                                    "1": "20",
                                    "2": "2008"
                                },
                                {
                                    "0": "Condiments",
                                    "1": "12",
                                    "2": "2008"
                                },
                                {
                                    "0": "Beverages",
                                    "1": "100",
                                    "2": "2008"
                                },
                                {
                                    "0": "Condiments",
                                    "1": "70",
                                    "2": "2008"
                                },
                                {
                                    "0": "Meat/Poultry",
                                    "1": "60",
                                    "2": "2008"
                                },
                                {
                                    "0": "Dairy Products",
                                    "1": "100",
                                    "2": "2008"
                                },
                                {
                                    "0": "Beverages",
                                    "1": "45",
                                    "2": "2008"
                                },
                                {
                                    "0": "Seafood",
                                    "1": "80",
                                    "2": "2008"
                                },
                                {
                                    "0": "Beverages",
                                    "1": "21",
                                    "2": "2008"
                                },
                                {
                                    "0": "Grains/Cereals",
                                    "1": "20",
                                    "2": "2008"
                                },
                                {
                                    "0": "Dairy Products",
                                    "1": "16",
                                    "2": "2008"
                                },
                                {
                                    "0": "Seafood",
                                    "1": "35",
                                    "2": "2008"
                                },
                                {
                                    "0": "Beverages",
                                    "1": "25",
                                    "2": "2008"
                                },
                                {
                                    "0": "Dairy Products",
                                    "1": "30",
                                    "2": "2008"
                                },
                                {
                                    "0": "Meat/Poultry",
                                    "1": "70",
                                    "2": "2008"
                                },
                                {
                                    "0": "Dairy Products",
                                    "1": "36",
                                    "2": "2008"
                                },
                                {
                                    "0": "Confections",
                                    "1": "15",
                                    "2": "2008"
                                },
                                {
                                    "0": "Condiments",
                                    "1": "12",
                                    "2": "2008"
                                },
                                {
                                    "0": "Condiments",
                                    "1": "6",
                                    "2": "2008"
                                },
                                {
                                    "0": "Beverages",
                                    "1": "10",
                                    "2": "2008"
                                },
                                {
                                    "0": "Beverages",
                                    "1": "60",
                                    "2": "2008"
                                },
                                {
                                    "0": "Grains/Cereals",
                                    "1": "30",
                                    "2": "2008"
                                },
                                {
                                    "0": "Meat/Poultry",
                                    "1": "10",
                                    "2": "2008"
                                },
                                {
                                    "0": "Seafood",
                                    "1": "7",
                                    "2": "2008"
                                },
                                {
                                    "0": "Dairy Products",
                                    "1": "30",
                                    "2": "2008"
                                },
                                {
                                    "0": "Beverages",
                                    "1": "4",
                                    "2": "2008"
                                },
                                {
                                    "0": "Seafood",
                                    "1": "5",
                                    "2": "2008"
                                },
                                {
                                    "0": "Grains/Cereals",
                                    "1": "2",
                                    "2": "2008"
                                },
                                {
                                    "0": "Dairy Products",
                                    "1": "30",
                                    "2": "2008"
                                },
                                {
                                    "0": "Produce",
                                    "1": "20",
                                    "2": "2008"
                                },
                                {
                                    "0": "Beverages",
                                    "1": "24",
                                    "2": "2008"
                                },
                                {
                                    "0": "Confections",
                                    "1": "60",
                                    "2": "2008"
                                },
                                {
                                    "0": "Grains/Cereals",
                                    "1": "28",
                                    "2": "2008"
                                },
                                {
                                    "0": "Confections",
                                    "1": "20",
                                    "2": "2008"
                                },
                                {
                                    "0": "Beverages",
                                    "1": "30",
                                    "2": "2008"
                                },
                                {
                                    "0": "Condiments",
                                    "1": "30",
                                    "2": "2008"
                                },
                                {
                                    "0": "Condiments",
                                    "1": "15",
                                    "2": "2008"
                                },
                                {
                                    "0": "Condiments",
                                    "1": "4",
                                    "2": "2008"
                                },
                                {
                                    "0": "Dairy Products",
                                    "1": "10",
                                    "2": "2008"
                                },
                                {
                                    "0": "Confections",
                                    "1": "12",
                                    "2": "2008"
                                },
                                {
                                    "0": "Dairy Products",
                                    "1": "15",
                                    "2": "2008"
                                },
                                {
                                    "0": "Produce",
                                    "1": "24",
                                    "2": "2008"
                                },
                                {
                                    "0": "Dairy Products",
                                    "1": "20",
                                    "2": "2008"
                                },
                                {
                                    "0": "Dairy Products",
                                    "1": "15",
                                    "2": "2008"
                                },
                                {
                                    "0": "Beverages",
                                    "1": "18",
                                    "2": "2008"
                                },
                                {
                                    "0": "Beverages",
                                    "1": "25",
                                    "2": "2008"
                                },
                                {
                                    "0": "Condiments",
                                    "1": "30",
                                    "2": "2008"
                                },
                                {
                                    "0": "Confections",
                                    "1": "42",
                                    "2": "2008"
                                },
                                {
                                    "0": "Beverages",
                                    "1": "10",
                                    "2": "2008"
                                },
                                {
                                    "0": "Dairy Products",
                                    "1": "4",
                                    "2": "2008"
                                },
                                {
                                    "0": "Beverages",
                                    "1": "50",
                                    "2": "2008"
                                },
                                {
                                    "0": "Beverages",
                                    "1": "10",
                                    "2": "2008"
                                },
                                {
                                    "0": "Beverages",
                                    "1": "30",
                                    "2": "2008"
                                },
                                {
                                    "0": "Condiments",
                                    "1": "10",
                                    "2": "2008"
                                },
                                {
                                    "0": "Seafood",
                                    "1": "35",
                                    "2": "2008"
                                },
                                {
                                    "0": "Dairy Products",
                                    "1": "20",
                                    "2": "2008"
                                },
                                {
                                    "0": "Grains/Cereals",
                                    "1": "25",
                                    "2": "2008"
                                },
                                {
                                    "0": "Dairy Products",
                                    "1": "10",
                                    "2": "2008"
                                },
                                {
                                    "0": "Beverages",
                                    "1": "20",
                                    "2": "2008"
                                },
                                {
                                    "0": "Beverages",
                                    "1": "15",
                                    "2": "2008"
                                },
                                {
                                    "0": "Confections",
                                    "1": "15",
                                    "2": "2008"
                                },
                                {
                                    "0": "Produce",
                                    "1": "20",
                                    "2": "2008"
                                },
                                {
                                    "0": "Grains/Cereals",
                                    "1": "20",
                                    "2": "2008"
                                },
                                {
                                    "0": "Produce",
                                    "1": "40",
                                    "2": "2008"
                                },
                                {
                                    "0": "Meat/Poultry",
                                    "1": "35",
                                    "2": "2008"
                                },
                                {
                                    "0": "Dairy Products",
                                    "1": "50",
                                    "2": "2008"
                                },
                                {
                                    "0": "Beverages",
                                    "1": "3",
                                    "2": "2008"
                                },
                                {
                                    "0": "Confections",
                                    "1": "3",
                                    "2": "2008"
                                },
                                {
                                    "0": "Dairy Products",
                                    "1": "21",
                                    "2": "2008"
                                },
                                {
                                    "0": "Condiments",
                                    "1": "4",
                                    "2": "2008"
                                },
                                {
                                    "0": "Seafood",
                                    "1": "30",
                                    "2": "2008"
                                },
                                {
                                    "0": "Meat/Poultry",
                                    "1": "12",
                                    "2": "2008"
                                },
                                {
                                    "0": "Dairy Products",
                                    "1": "35",
                                    "2": "2008"
                                },
                                {
                                    "0": "Dairy Products",
                                    "1": "4",
                                    "2": "2008"
                                },
                                {
                                    "0": "Condiments",
                                    "1": "10",
                                    "2": "2008"
                                },
                                {
                                    "0": "Dairy Products",
                                    "1": "15",
                                    "2": "2008"
                                },
                                {
                                    "0": "Meat/Poultry",
                                    "1": "10",
                                    "2": "2008"
                                },
                                {
                                    "0": "Beverages",
                                    "1": "12",
                                    "2": "2008"
                                },
                                {
                                    "0": "Beverages",
                                    "1": "30",
                                    "2": "2008"
                                },
                                {
                                    "0": "Seafood",
                                    "1": "40",
                                    "2": "2008"
                                },
                                {
                                    "0": "Seafood",
                                    "1": "30",
                                    "2": "2008"
                                },
                                {
                                    "0": "Meat/Poultry",
                                    "1": "77",
                                    "2": "2008"
                                },
                                {
                                    "0": "Seafood",
                                    "1": "12",
                                    "2": "2008"
                                },
                                {
                                    "0": "Meat/Poultry",
                                    "1": "25",
                                    "2": "2008"
                                },
                                {
                                    "0": "Meat/Poultry",
                                    "1": "4",
                                    "2": "2008"
                                },
                                {
                                    "0": "Confections",
                                    "1": "55",
                                    "2": "2008"
                                },
                                {
                                    "0": "Seafood",
                                    "1": "4",
                                    "2": "2008"
                                },
                                {
                                    "0": "Meat/Poultry",
                                    "1": "20",
                                    "2": "2008"
                                },
                                {
                                    "0": "Confections",
                                    "1": "3",
                                    "2": "2008"
                                },
                                {
                                    "0": "Confections",
                                    "1": "42",
                                    "2": "2008"
                                },
                                {
                                    "0": "Beverages",
                                    "1": "35",
                                    "2": "2008"
                                },
                                {
                                    "0": "Seafood",
                                    "1": "9",
                                    "2": "2008"
                                },
                                {
                                    "0": "Produce",
                                    "1": "8",
                                    "2": "2008"
                                },
                                {
                                    "0": "Beverages",
                                    "1": "36",
                                    "2": "2008"
                                },
                                {
                                    "0": "Condiments",
                                    "1": "28",
                                    "2": "2008"
                                },
                                {
                                    "0": "Beverages",
                                    "1": "20",
                                    "2": "2008"
                                },
                                {
                                    "0": "Beverages",
                                    "1": "40",
                                    "2": "2008"
                                },
                                {
                                    "0": "Beverages",
                                    "1": "20",
                                    "2": "2008"
                                },
                                {
                                    "0": "Confections",
                                    "1": "30",
                                    "2": "2008"
                                },
                                {
                                    "0": "Dairy Products",
                                    "1": "20",
                                    "2": "2008"
                                },
                                {
                                    "0": "Produce",
                                    "1": "15",
                                    "2": "2008"
                                },
                                {
                                    "0": "Seafood",
                                    "1": "10",
                                    "2": "2008"
                                },
                                {
                                    "0": "Beverages",
                                    "1": "8",
                                    "2": "2008"
                                },
                                {
                                    "0": "Seafood",
                                    "1": "40",
                                    "2": "2008"
                                },
                                {
                                    "0": "Confections",
                                    "1": "22",
                                    "2": "2008"
                                },
                                {
                                    "0": "Grains/Cereals",
                                    "1": "130",
                                    "2": "2008"
                                },
                                {
                                    "0": "Dairy Products",
                                    "1": "10",
                                    "2": "2008"
                                },
                                {
                                    "0": "Beverages",
                                    "1": "20",
                                    "2": "2008"
                                },
                                {
                                    "0": "Confections",
                                    "1": "14",
                                    "2": "2008"
                                },
                                {
                                    "0": "Beverages",
                                    "1": "10",
                                    "2": "2008"
                                },
                                {
                                    "0": "Seafood",
                                    "1": "30",
                                    "2": "2008"
                                },
                                {
                                    "0": "Beverages",
                                    "1": "2",
                                    "2": "2008"
                                },
                                {
                                    "0": "Condiments",
                                    "1": "20",
                                    "2": "2008"
                                },
                                {
                                    "0": "Produce",
                                    "1": "20",
                                    "2": "2008"
                                },
                                {
                                    "0": "Confections",
                                    "1": "10",
                                    "2": "2008"
                                },
                                {
                                    "0": "Beverages",
                                    "1": "24",
                                    "2": "2008"
                                },
                                {
                                    "0": "Condiments",
                                    "1": "4",
                                    "2": "2008"
                                },
                                {
                                    "0": "Condiments",
                                    "1": "1",
                                    "2": "2008"
                                },
                                {
                                    "0": "Condiments",
                                    "1": "1",
                                    "2": "2008"
                                },
                                {
                                    "0": "Produce",
                                    "1": "1",
                                    "2": "2008"
                                },
                                {
                                    "0": "Condiments",
                                    "1": "2",
                                    "2": "2008"
                                },
                                {
                                    "0": "Seafood",
                                    "1": "1",
                                    "2": "2008"
                                },
                                {
                                    "0": "Dairy Products",
                                    "1": "2",
                                    "2": "2008"
                                },
                                {
                                    "0": "Seafood",
                                    "1": "4",
                                    "2": "2008"
                                },
                                {
                                    "0": "Produce",
                                    "1": "1",
                                    "2": "2008"
                                },
                                {
                                    "0": "Confections",
                                    "1": "2",
                                    "2": "2008"
                                },
                                {
                                    "0": "Confections",
                                    "1": "1",
                                    "2": "2008"
                                },
                                {
                                    "0": "Grains/Cereals",
                                    "1": "2",
                                    "2": "2008"
                                },
                                {
                                    "0": "Dairy Products",
                                    "1": "1",
                                    "2": "2008"
                                },
                                {
                                    "0": "Beverages",
                                    "1": "2",
                                    "2": "2008"
                                },
                                {
                                    "0": "Seafood",
                                    "1": "3",
                                    "2": "2008"
                                },
                                {
                                    "0": "Seafood",
                                    "1": "3",
                                    "2": "2008"
                                },
                                {
                                    "0": "Grains/Cereals",
                                    "1": "2",
                                    "2": "2008"
                                },
                                {
                                    "0": "Meat/Poultry",
                                    "1": "2",
                                    "2": "2008"
                                },
                                {
                                    "0": "Dairy Products",
                                    "1": "2",
                                    "2": "2008"
                                },
                                {
                                    "0": "Grains/Cereals",
                                    "1": "2",
                                    "2": "2008"
                                },
                                {
                                    "0": "Condiments",
                                    "1": "1",
                                    "2": "2008"
                                },
                                {
                                    "0": "Seafood",
                                    "1": "2",
                                    "2": "2008"
                                },
                                {
                                    "0": "Beverages",
                                    "1": "4",
                                    "2": "2008"
                                },
                                {
                                    "0": "Condiments",
                                    "1": "2",
                                    "2": "2008"
                                }
                            ]
                        },
                        "text/html": [
                            "<table>",
                            "<tr><th>Category</th><th>Qty</th><th>Orderyear</th></tr>",
                            "<tr><td>Dairy Products</td><td>12</td><td>2006</td></tr>",
                            "<tr><td>Grains/Cereals</td><td>10</td><td>2006</td></tr>",
                            "<tr><td>Dairy Products</td><td>5</td><td>2006</td></tr>",
                            "<tr><td>Produce</td><td>9</td><td>2006</td></tr>",
                            "<tr><td>Produce</td><td>40</td><td>2006</td></tr>",
                            "<tr><td>Seafood</td><td>10</td><td>2006</td></tr>",
                            "<tr><td>Produce</td><td>35</td><td>2006</td></tr>",
                            "<tr><td>Condiments</td><td>15</td><td>2006</td></tr>",
                            "<tr><td>Grains/Cereals</td><td>6</td><td>2006</td></tr>",
                            "<tr><td>Grains/Cereals</td><td>15</td><td>2006</td></tr>",
                            "<tr><td>Condiments</td><td>20</td><td>2006</td></tr>",
                            "<tr><td>Confections</td><td>40</td><td>2006</td></tr>",
                            "<tr><td>Dairy Products</td><td>25</td><td>2006</td></tr>",
                            "<tr><td>Dairy Products</td><td>40</td><td>2006</td></tr>",
                            "<tr><td>Dairy Products</td><td>20</td><td>2006</td></tr>",
                            "<tr><td>Beverages</td><td>42</td><td>2006</td></tr>",
                            "<tr><td>Confections</td><td>40</td><td>2006</td></tr>",
                            "<tr><td>Beverages</td><td>15</td><td>2006</td></tr>",
                            "<tr><td>Meat/Poultry</td><td>21</td><td>2006</td></tr>",
                            "<tr><td>Produce</td><td>21</td><td>2006</td></tr>",
                            "<tr><td>Beverages</td><td>20</td><td>2006</td></tr>",
                            "<tr><td>Confections</td><td>35</td><td>2006</td></tr>",
                            "<tr><td>Seafood</td><td>25</td><td>2006</td></tr>",
                            "<tr><td>Dairy Products</td><td>30</td><td>2006</td></tr>",
                            "<tr><td>Meat/Poultry</td><td>15</td><td>2006</td></tr>",
                            "<tr><td>Condiments</td><td>12</td><td>2006</td></tr>",
                            "<tr><td>Confections</td><td>25</td><td>2006</td></tr>",
                            "<tr><td>Beverages</td><td>6</td><td>2006</td></tr>",
                            "<tr><td>Condiments</td><td>15</td><td>2006</td></tr>",
                            "<tr><td>Beverages</td><td>50</td><td>2006</td></tr>",
                            "<tr><td>Condiments</td><td>65</td><td>2006</td></tr>",
                            "<tr><td>Dairy Products</td><td>6</td><td>2006</td></tr>",
                            "<tr><td>Confections</td><td>10</td><td>2006</td></tr>",
                            "<tr><td>Seafood</td><td>1</td><td>2006</td></tr>",
                            "<tr><td>Seafood</td><td>16</td><td>2006</td></tr>",
                            "<tr><td>Grains/Cereals</td><td>50</td><td>2006</td></tr>",
                            "<tr><td>Confections</td><td>15</td><td>2006</td></tr>",
                            "<tr><td>Beverages</td><td>21</td><td>2006</td></tr>",
                            "<tr><td>Confections</td><td>20</td><td>2006</td></tr>",
                            "<tr><td>Beverages</td><td>20</td><td>2006</td></tr>",
                            "<tr><td>Condiments</td><td>12</td><td>2006</td></tr>",
                            "<tr><td>Produce</td><td>15</td><td>2006</td></tr>",
                            "<tr><td>Grains/Cereals</td><td>2</td><td>2006</td></tr>",
                            "<tr><td>Confections</td><td>60</td><td>2006</td></tr>",
                            "<tr><td>Beverages</td><td>28</td><td>2006</td></tr>",
                            "<tr><td>Seafood</td><td>60</td><td>2006</td></tr>",
                            "<tr><td>Produce</td><td>36</td><td>2006</td></tr>",
                            "<tr><td>Beverages</td><td>35</td><td>2006</td></tr>",
                            "<tr><td>Seafood</td><td>25</td><td>2006</td></tr>",
                            "<tr><td>Meat/Poultry</td><td>30</td><td>2006</td></tr>",
                            "<tr><td>Beverages</td><td>20</td><td>2006</td></tr>",
                            "<tr><td>Dairy Products</td><td>12</td><td>2006</td></tr>",
                            "<tr><td>Seafood</td><td>50</td><td>2006</td></tr>",
                            "<tr><td>Dairy Products</td><td>70</td><td>2006</td></tr>",
                            "<tr><td>Beverages</td><td>15</td><td>2006</td></tr>",
                            "<tr><td>Meat/Poultry</td><td>10</td><td>2006</td></tr>",
                            "<tr><td>Dairy Products</td><td>4</td><td>2006</td></tr>",
                            "<tr><td>Dairy Products</td><td>60</td><td>2006</td></tr>",
                            "<tr><td>Dairy Products</td><td>20</td><td>2006</td></tr>",
                            "<tr><td>Seafood</td><td>30</td><td>2006</td></tr>",
                            "<tr><td>Beverages</td><td>25</td><td>2006</td></tr>",
                            "<tr><td>Dairy Products</td><td>24</td><td>2006</td></tr>",
                            "<tr><td>Confections</td><td>6</td><td>2006</td></tr>",
                            "<tr><td>Dairy Products</td><td>40</td><td>2006</td></tr>",
                            "<tr><td>Dairy Products</td><td>24</td><td>2006</td></tr>",
                            "<tr><td>Seafood</td><td>24</td><td>2006</td></tr>",
                            "<tr><td>Dairy Products</td><td>15</td><td>2006</td></tr>",
                            "<tr><td>Dairy Products</td><td>20</td><td>2006</td></tr>",
                            "<tr><td>Seafood</td><td>60</td><td>2006</td></tr>",
                            "<tr><td>Beverages</td><td>33</td><td>2006</td></tr>",
                            "<tr><td>Dairy Products</td><td>20</td><td>2006</td></tr>",
                            "<tr><td>Dairy Products</td><td>7</td><td>2006</td></tr>",
                            "<tr><td>Beverages</td><td>12</td><td>2006</td></tr>",
                            "<tr><td>Dairy Products</td><td>6</td><td>2006</td></tr>",
                            "<tr><td>Seafood</td><td>15</td><td>2006</td></tr>",
                            "<tr><td>Seafood</td><td>10</td><td>2006</td></tr>",
                            "<tr><td>Produce</td><td>20</td><td>2006</td></tr>",
                            "<tr><td>Confections</td><td>12</td><td>2006</td></tr>",
                            "<tr><td>Condiments</td><td>16</td><td>2006</td></tr>",
                            "<tr><td>Dairy Products</td><td>15</td><td>2006</td></tr>",
                            "<tr><td>Condiments</td><td>8</td><td>2006</td></tr>",
                            "<tr><td>Seafood</td><td>25</td><td>2006</td></tr>",
                            "<tr><td>Meat/Poultry</td><td>15</td><td>2006</td></tr>",
                            "<tr><td>Beverages</td><td>12</td><td>2006</td></tr>",
                            "<tr><td>Meat/Poultry</td><td>20</td><td>2006</td></tr>",
                            "<tr><td>Beverages</td><td>30</td><td>2006</td></tr>",
                            "<tr><td>Confections</td><td>1</td><td>2006</td></tr>",
                            "<tr><td>Beverages</td><td>6</td><td>2006</td></tr>",
                            "<tr><td>Beverages</td><td>4</td><td>2006</td></tr>",
                            "<tr><td>Seafood</td><td>6</td><td>2006</td></tr>",
                            "<tr><td>Grains/Cereals</td><td>2</td><td>2006</td></tr>",
                            "<tr><td>Condiments</td><td>20</td><td>2006</td></tr>",
                            "<tr><td>Confections</td><td>18</td><td>2006</td></tr>",
                            "<tr><td>Dairy Products</td><td>35</td><td>2006</td></tr>",
                            "<tr><td>Dairy Products</td><td>3</td><td>2006</td></tr>",
                            "<tr><td>Confections</td><td>15</td><td>2006</td></tr>",
                            "<tr><td>Condiments</td><td>21</td><td>2006</td></tr>",
                            "<tr><td>Dairy Products</td><td>20</td><td>2006</td></tr>",
                            "<tr><td>Beverages</td><td>5</td><td>2006</td></tr>",
                            "<tr><td>Beverages</td><td>45</td><td>2006</td></tr>",
                            "<tr><td>Seafood</td><td>40</td><td>2006</td></tr>",
                            "<tr><td>Meat/Poultry</td><td>36</td><td>2006</td></tr>",
                            "<tr><td>Beverages</td><td>100</td><td>2006</td></tr>",
                            "<tr><td>Confections</td><td>40</td><td>2006</td></tr>",
                            "<tr><td>Confections</td><td>40</td><td>2006</td></tr>",
                            "<tr><td>Beverages</td><td>20</td><td>2006</td></tr>",
                            "<tr><td>Seafood</td><td>15</td><td>2006</td></tr>",
                            "<tr><td>Meat/Poultry</td><td>10</td><td>2006</td></tr>",
                            "<tr><td>Confections</td><td>3</td><td>2006</td></tr>",
                            "<tr><td>Condiments</td><td>30</td><td>2006</td></tr>",
                            "<tr><td>Grains/Cereals</td><td>9</td><td>2006</td></tr>",
                            "<tr><td>Condiments</td><td>20</td><td>2006</td></tr>",
                            "<tr><td>Meat/Poultry</td><td>15</td><td>2006</td></tr>",
                            "<tr><td>Confections</td><td>15</td><td>2006</td></tr>",
                            "<tr><td>Condiments</td><td>10</td><td>2006</td></tr>",
                            "<tr><td>Seafood</td><td>20</td><td>2006</td></tr>",
                            "<tr><td>Condiments</td><td>24</td><td>2006</td></tr>",
                            "<tr><td>Produce</td><td>2</td><td>2006</td></tr>",
                            "<tr><td>Confections</td><td>20</td><td>2006</td></tr>",
                            "<tr><td>Seafood</td><td>12</td><td>2006</td></tr>",
                            "<tr><td>Beverages</td><td>10</td><td>2006</td></tr>",
                            "<tr><td>Condiments</td><td>5</td><td>2006</td></tr>",
                            "<tr><td>Beverages</td><td>6</td><td>2006</td></tr>",
                            "<tr><td>Beverages</td><td>18</td><td>2006</td></tr>",
                            "<tr><td>Meat/Poultry</td><td>15</td><td>2006</td></tr>",
                            "<tr><td>Beverages</td><td>15</td><td>2006</td></tr>",
                            "<tr><td>Dairy Products</td><td>21</td><td>2006</td></tr>",
                            "<tr><td>Beverages</td><td>6</td><td>2006</td></tr>",
                            "<tr><td>Grains/Cereals</td><td>4</td><td>2006</td></tr>",
                            "<tr><td>Dairy Products</td><td>12</td><td>2006</td></tr>",
                            "<tr><td>Confections</td><td>30</td><td>2006</td></tr>",
                            "<tr><td>Dairy Products</td><td>15</td><td>2006</td></tr>",
                            "<tr><td>Beverages</td><td>60</td><td>2006</td></tr>",
                            "<tr><td>Dairy Products</td><td>20</td><td>2006</td></tr>",
                            "<tr><td>Beverages</td><td>40</td><td>2006</td></tr>",
                            "<tr><td>Seafood</td><td>40</td><td>2006</td></tr>",
                            "<tr><td>Dairy Products</td><td>30</td><td>2006</td></tr>",
                            "<tr><td>Confections</td><td>15</td><td>2006</td></tr>",
                            "<tr><td>Confections</td><td>15</td><td>2006</td></tr>",
                            "<tr><td>Beverages</td><td>20</td><td>2006</td></tr>",
                            "<tr><td>Condiments</td><td>30</td><td>2006</td></tr>",
                            "<tr><td>Confections</td><td>20</td><td>2006</td></tr>",
                            "<tr><td>Seafood</td><td>10</td><td>2006</td></tr>",
                            "<tr><td>Grains/Cereals</td><td>20</td><td>2006</td></tr>",
                            "<tr><td>Meat/Poultry</td><td>40</td><td>2006</td></tr>",
                            "<tr><td>Produce</td><td>28</td><td>2006</td></tr>",
                            "<tr><td>Beverages</td><td>12</td><td>2006</td></tr>",
                            "<tr><td>Seafood</td><td>40</td><td>2006</td></tr>",
                            "<tr><td>Condiments</td><td>30</td><td>2006</td></tr>",
                            "<tr><td>Confections</td><td>15</td><td>2006</td></tr>",
                            "<tr><td>Confections</td><td>30</td><td>2006</td></tr>",
                            "<tr><td>Dairy Products</td><td>10</td><td>2006</td></tr>",
                            "<tr><td>Dairy Products</td><td>2</td><td>2006</td></tr>",
                            "<tr><td>Seafood</td><td>25</td><td>2006</td></tr>",
                            "<tr><td>Meat/Poultry</td><td>25</td><td>2006</td></tr>",
                            "<tr><td>Beverages</td><td>30</td><td>2006</td></tr>",
                            "<tr><td>Seafood</td><td>10</td><td>2006</td></tr>",
                            "<tr><td>Meat/Poultry</td><td>10</td><td>2006</td></tr>",
                            "<tr><td>Meat/Poultry</td><td>5</td><td>2006</td></tr>",
                            "<tr><td>Confections</td><td>10</td><td>2006</td></tr>",
                            "<tr><td>Confections</td><td>3</td><td>2006</td></tr>",
                            "<tr><td>Dairy Products</td><td>1</td><td>2006</td></tr>",
                            "<tr><td>Beverages</td><td>5</td><td>2006</td></tr>",
                            "<tr><td>Condiments</td><td>20</td><td>2006</td></tr>",
                            "<tr><td>Condiments</td><td>30</td><td>2006</td></tr>",
                            "<tr><td>Grains/Cereals</td><td>2</td><td>2006</td></tr>",
                            "<tr><td>Beverages</td><td>20</td><td>2006</td></tr>",
                            "<tr><td>Dairy Products</td><td>3</td><td>2006</td></tr>",
                            "<tr><td>Confections</td><td>10</td><td>2006</td></tr>",
                            "<tr><td>Confections</td><td>5</td><td>2006</td></tr>",
                            "<tr><td>Grains/Cereals</td><td>6</td><td>2006</td></tr>",
                            "<tr><td>Dairy Products</td><td>7</td><td>2006</td></tr>",
                            "<tr><td>Produce</td><td>4</td><td>2006</td></tr>",
                            "<tr><td>Beverages</td><td>24</td><td>2006</td></tr>",
                            "<tr><td>Meat/Poultry</td><td>20</td><td>2006</td></tr>",
                            "<tr><td>Beverages</td><td>10</td><td>2006</td></tr>",
                            "<tr><td>Seafood</td><td>12</td><td>2006</td></tr>",
                            "<tr><td>Dairy Products</td><td>40</td><td>2006</td></tr>",
                            "<tr><td>Seafood</td><td>30</td><td>2006</td></tr>",
                            "<tr><td>Confections</td><td>25</td><td>2006</td></tr>",
                            "<tr><td>Beverages</td><td>14</td><td>2006</td></tr>",
                            "<tr><td>Beverages</td><td>30</td><td>2006</td></tr>",
                            "<tr><td>Seafood</td><td>10</td><td>2006</td></tr>",
                            "<tr><td>Confections</td><td>70</td><td>2006</td></tr>",
                            "<tr><td>Beverages</td><td>20</td><td>2006</td></tr>",
                            "<tr><td>Seafood</td><td>20</td><td>2006</td></tr>",
                            "<tr><td>Beverages</td><td>6</td><td>2006</td></tr>",
                            "<tr><td>Meat/Poultry</td><td>8</td><td>2006</td></tr>",
                            "<tr><td>Produce</td><td>14</td><td>2006</td></tr>",
                            "<tr><td>Beverages</td><td>30</td><td>2006</td></tr>",
                            "<tr><td>Dairy Products</td><td>30</td><td>2006</td></tr>",
                            "<tr><td>Beverages</td><td>10</td><td>2006</td></tr>",
                            "<tr><td>Grains/Cereals</td><td>20</td><td>2006</td></tr>",
                            "<tr><td>Condiments</td><td>5</td><td>2006</td></tr>",
                            "<tr><td>Confections</td><td>4</td><td>2006</td></tr>",
                            "<tr><td>Beverages</td><td>4</td><td>2006</td></tr>",
                            "<tr><td>Confections</td><td>21</td><td>2006</td></tr>",
                            "<tr><td>Beverages</td><td>70</td><td>2006</td></tr>",
                            "<tr><td>Seafood</td><td>30</td><td>2006</td></tr>",
                            "<tr><td>Dairy Products</td><td>40</td><td>2006</td></tr>",
                            "<tr><td>Condiments</td><td>80</td><td>2006</td></tr>",
                            "<tr><td>Condiments</td><td>6</td><td>2006</td></tr>",
                            "<tr><td>Seafood</td><td>12</td><td>2006</td></tr>",
                            "<tr><td>Produce</td><td>9</td><td>2006</td></tr>",
                            "<tr><td>Dairy Products</td><td>4</td><td>2006</td></tr>",
                            "<tr><td>Dairy Products</td><td>40</td><td>2006</td></tr>",
                            "<tr><td>Condiments</td><td>24</td><td>2006</td></tr>",
                            "<tr><td>Grains/Cereals</td><td>16</td><td>2006</td></tr>",
                            "<tr><td>Beverages</td><td>50</td><td>2006</td></tr>",
                            "<tr><td>Beverages</td><td>25</td><td>2006</td></tr>",
                            "<tr><td>Dairy Products</td><td>50</td><td>2006</td></tr>",
                            "<tr><td>Seafood</td><td>35</td><td>2006</td></tr>",
                            "<tr><td>Seafood</td><td>30</td><td>2006</td></tr>",
                            "<tr><td>Dairy Products</td><td>9</td><td>2006</td></tr>",
                            "<tr><td>Condiments</td><td>40</td><td>2006</td></tr>",
                            "<tr><td>Confections</td><td>10</td><td>2006</td></tr>",
                            "<tr><td>Confections</td><td>10</td><td>2006</td></tr>",
                            "<tr><td>Seafood</td><td>8</td><td>2006</td></tr>",
                            "<tr><td>Beverages</td><td>20</td><td>2006</td></tr>",
                            "<tr><td>Grains/Cereals</td><td>12</td><td>2006</td></tr>",
                            "<tr><td>Confections</td><td>50</td><td>2006</td></tr>",
                            "<tr><td>Dairy Products</td><td>25</td><td>2006</td></tr>",
                            "<tr><td>Meat/Poultry</td><td>15</td><td>2006</td></tr>",
                            "<tr><td>Seafood</td><td>40</td><td>2006</td></tr>",
                            "<tr><td>Grains/Cereals</td><td>10</td><td>2006</td></tr>",
                            "<tr><td>Confections</td><td>16</td><td>2006</td></tr>",
                            "<tr><td>Produce</td><td>10</td><td>2006</td></tr>",
                            "<tr><td>Confections</td><td>10</td><td>2006</td></tr>",
                            "<tr><td>Dairy Products</td><td>40</td><td>2006</td></tr>",
                            "<tr><td>Grains/Cereals</td><td>8</td><td>2006</td></tr>",
                            "<tr><td>Confections</td><td>10</td><td>2006</td></tr>",
                            "<tr><td>Beverages</td><td>7</td><td>2006</td></tr>",
                            "<tr><td>Dairy Products</td><td>25</td><td>2006</td></tr>",
                            "<tr><td>Dairy Products</td><td>6</td><td>2006</td></tr>",
                            "<tr><td>Produce</td><td>48</td><td>2006</td></tr>",
                            "<tr><td>Condiments</td><td>18</td><td>2006</td></tr>",
                            "<tr><td>Grains/Cereals</td><td>40</td><td>2006</td></tr>",
                            "<tr><td>Confections</td><td>24</td><td>2006</td></tr>",
                            "<tr><td>Seafood</td><td>20</td><td>2006</td></tr>",
                            "<tr><td>Seafood</td><td>28</td><td>2006</td></tr>",
                            "<tr><td>Dairy Products</td><td>25</td><td>2006</td></tr>",
                            "<tr><td>Meat/Poultry</td><td>20</td><td>2006</td></tr>",
                            "<tr><td>Seafood</td><td>15</td><td>2006</td></tr>",
                            "<tr><td>Condiments</td><td>10</td><td>2006</td></tr>",
                            "<tr><td>Meat/Poultry</td><td>70</td><td>2006</td></tr>",
                            "<tr><td>Confections</td><td>28</td><td>2006</td></tr>",
                            "<tr><td>Seafood</td><td>20</td><td>2006</td></tr>",
                            "<tr><td>Seafood</td><td>12</td><td>2006</td></tr>",
                            "<tr><td>Beverages</td><td>40</td><td>2006</td></tr>",
                            "<tr><td>Dairy Products</td><td>8</td><td>2006</td></tr>",
                            "<tr><td>Dairy Products</td><td>9</td><td>2006</td></tr>",
                            "<tr><td>Beverages</td><td>24</td><td>2006</td></tr>",
                            "<tr><td>Dairy Products</td><td>56</td><td>2006</td></tr>",
                            "<tr><td>Seafood</td><td>40</td><td>2006</td></tr>",
                            "<tr><td>Meat/Poultry</td><td>40</td><td>2006</td></tr>",
                            "<tr><td>Grains/Cereals</td><td>50</td><td>2006</td></tr>",
                            "<tr><td>Confections</td><td>4</td><td>2006</td></tr>",
                            "<tr><td>Beverages</td><td>15</td><td>2006</td></tr>",
                            "<tr><td>Condiments</td><td>35</td><td>2006</td></tr>",
                            "<tr><td>Condiments</td><td>70</td><td>2006</td></tr>",
                            "<tr><td>Condiments</td><td>70</td><td>2006</td></tr>",
                            "<tr><td>Confections</td><td>80</td><td>2006</td></tr>",
                            "<tr><td>Grains/Cereals</td><td>9</td><td>2006</td></tr>",
                            "<tr><td>Meat/Poultry</td><td>36</td><td>2006</td></tr>",
                            "<tr><td>Grains/Cereals</td><td>20</td><td>2006</td></tr>",
                            "<tr><td>Confections</td><td>10</td><td>2006</td></tr>",
                            "<tr><td>Beverages</td><td>50</td><td>2006</td></tr>",
                            "<tr><td>Seafood</td><td>4</td><td>2006</td></tr>",
                            "<tr><td>Beverages</td><td>6</td><td>2006</td></tr>",
                            "<tr><td>Beverages</td><td>15</td><td>2006</td></tr>",
                            "<tr><td>Grains/Cereals</td><td>25</td><td>2006</td></tr>",
                            "<tr><td>Meat/Poultry</td><td>24</td><td>2006</td></tr>",
                            "<tr><td>Confections</td><td>15</td><td>2006</td></tr>",
                            "<tr><td>Dairy Products</td><td>18</td><td>2006</td></tr>",
                            "<tr><td>Beverages</td><td>20</td><td>2006</td></tr>",
                            "<tr><td>Seafood</td><td>13</td><td>2006</td></tr>",
                            "<tr><td>Condiments</td><td>77</td><td>2006</td></tr>",
                            "<tr><td>Condiments</td><td>10</td><td>2006</td></tr>",
                            "<tr><td>Beverages</td><td>10</td><td>2006</td></tr>",
                            "<tr><td>Meat/Poultry</td><td>20</td><td>2006</td></tr>",
                            "<tr><td>Dairy Products</td><td>12</td><td>2006</td></tr>",
                            "<tr><td>Beverages</td><td>50</td><td>2006</td></tr>",
                            "<tr><td>Beverages</td><td>12</td><td>2006</td></tr>",
                            "<tr><td>Meat/Poultry</td><td>4</td><td>2006</td></tr>",
                            "<tr><td>Beverages</td><td>25</td><td>2006</td></tr>",
                            "<tr><td>Grains/Cereals</td><td>25</td><td>2006</td></tr>",
                            "<tr><td>Dairy Products</td><td>30</td><td>2006</td></tr>",
                            "<tr><td>Meat/Poultry</td><td>12</td><td>2006</td></tr>",
                            "<tr><td>Dairy Products</td><td>20</td><td>2006</td></tr>",
                            "<tr><td>Seafood</td><td>30</td><td>2006</td></tr>",
                            "<tr><td>Confections</td><td>16</td><td>2006</td></tr>",
                            "<tr><td>Dairy Products</td><td>8</td><td>2006</td></tr>",
                            "<tr><td>Beverages</td><td>10</td><td>2006</td></tr>",
                            "<tr><td>Beverages</td><td>10</td><td>2006</td></tr>",
                            "<tr><td>Seafood</td><td>20</td><td>2006</td></tr>",
                            "<tr><td>Confections</td><td>56</td><td>2006</td></tr>",
                            "<tr><td>Dairy Products</td><td>70</td><td>2006</td></tr>",
                            "<tr><td>Dairy Products</td><td>80</td><td>2006</td></tr>",
                            "<tr><td>Produce</td><td>30</td><td>2006</td></tr>",
                            "<tr><td>Meat/Poultry</td><td>35</td><td>2006</td></tr>",
                            "<tr><td>Beverages</td><td>10</td><td>2006</td></tr>",
                            "<tr><td>Confections</td><td>35</td><td>2006</td></tr>",
                            "<tr><td>Meat/Poultry</td><td>28</td><td>2006</td></tr>",
                            "<tr><td>Beverages</td><td>54</td><td>2006</td></tr>",
                            "<tr><td>Dairy Products</td><td>55</td><td>2006</td></tr>",
                            "<tr><td>Confections</td><td>50</td><td>2006</td></tr>",
                            "<tr><td>Produce</td><td>20</td><td>2006</td></tr>",
                            "<tr><td>Meat/Poultry</td><td>24</td><td>2006</td></tr>",
                            "<tr><td>Dairy Products</td><td>20</td><td>2006</td></tr>",
                            "<tr><td>Beverages</td><td>12</td><td>2006</td></tr>",
                            "<tr><td>Beverages</td><td>12</td><td>2006</td></tr>",
                            "<tr><td>Dairy Products</td><td>30</td><td>2006</td></tr>",
                            "<tr><td>Dairy Products</td><td>5</td><td>2006</td></tr>",
                            "<tr><td>Dairy Products</td><td>24</td><td>2006</td></tr>",
                            "<tr><td>Condiments</td><td>5</td><td>2006</td></tr>",
                            "<tr><td>Condiments</td><td>5</td><td>2006</td></tr>",
                            "<tr><td>Beverages</td><td>36</td><td>2006</td></tr>",
                            "<tr><td>Meat/Poultry</td><td>18</td><td>2006</td></tr>",
                            "<tr><td>Condiments</td><td>15</td><td>2006</td></tr>",
                            "<tr><td>Condiments</td><td>7</td><td>2006</td></tr>",
                            "<tr><td>Confections</td><td>5</td><td>2006</td></tr>",
                            "<tr><td>Produce</td><td>13</td><td>2006</td></tr>",
                            "<tr><td>Grains/Cereals</td><td>25</td><td>2006</td></tr>",
                            "<tr><td>Grains/Cereals</td><td>35</td><td>2006</td></tr>",
                            "<tr><td>Meat/Poultry</td><td>20</td><td>2006</td></tr>",
                            "<tr><td>Grains/Cereals</td><td>18</td><td>2006</td></tr>",
                            "<tr><td>Beverages</td><td>15</td><td>2006</td></tr>",
                            "<tr><td>Grains/Cereals</td><td>30</td><td>2006</td></tr>",
                            "<tr><td>Produce</td><td>20</td><td>2006</td></tr>",
                            "<tr><td>Seafood</td><td>6</td><td>2006</td></tr>",
                            "<tr><td>Confections</td><td>12</td><td>2006</td></tr>",
                            "<tr><td>Beverages</td><td>40</td><td>2006</td></tr>",
                            "<tr><td>Dairy Products</td><td>70</td><td>2006</td></tr>",
                            "<tr><td>Dairy Products</td><td>42</td><td>2006</td></tr>",
                            "<tr><td>Seafood</td><td>80</td><td>2006</td></tr>",
                            "<tr><td>Dairy Products</td><td>50</td><td>2006</td></tr>",
                            "<tr><td>Dairy Products</td><td>30</td><td>2006</td></tr>",
                            "<tr><td>Seafood</td><td>15</td><td>2006</td></tr>",
                            "<tr><td>Produce</td><td>15</td><td>2006</td></tr>",
                            "<tr><td>Meat/Poultry</td><td>10</td><td>2006</td></tr>",
                            "<tr><td>Dairy Products</td><td>42</td><td>2006</td></tr>",
                            "<tr><td>Produce</td><td>20</td><td>2006</td></tr>",
                            "<tr><td>Beverages</td><td>20</td><td>2006</td></tr>",
                            "<tr><td>Dairy Products</td><td>6</td><td>2006</td></tr>",
                            "<tr><td>Seafood</td><td>8</td><td>2006</td></tr>",
                            "<tr><td>Condiments</td><td>16</td><td>2006</td></tr>",
                            "<tr><td>Condiments</td><td>20</td><td>2006</td></tr>",
                            "<tr><td>Seafood</td><td>18</td><td>2006</td></tr>",
                            "<tr><td>Meat/Poultry</td><td>20</td><td>2006</td></tr>",
                            "<tr><td>Dairy Products</td><td>6</td><td>2006</td></tr>",
                            "<tr><td>Beverages</td><td>30</td><td>2006</td></tr>",
                            "<tr><td>Produce</td><td>14</td><td>2006</td></tr>",
                            "<tr><td>Condiments</td><td>32</td><td>2006</td></tr>",
                            "<tr><td>Seafood</td><td>9</td><td>2006</td></tr>",
                            "<tr><td>Meat/Poultry</td><td>14</td><td>2006</td></tr>",
                            "<tr><td>Dairy Products</td><td>60</td><td>2006</td></tr>",
                            "<tr><td>Produce</td><td>50</td><td>2006</td></tr>",
                            "<tr><td>Seafood</td><td>20</td><td>2006</td></tr>",
                            "<tr><td>Confections</td><td>15</td><td>2006</td></tr>",
                            "<tr><td>Grains/Cereals</td><td>20</td><td>2006</td></tr>",
                            "<tr><td>Confections</td><td>28</td><td>2006</td></tr>",
                            "<tr><td>Dairy Products</td><td>15</td><td>2006</td></tr>",
                            "<tr><td>Produce</td><td>10</td><td>2006</td></tr>",
                            "<tr><td>Dairy Products</td><td>20</td><td>2006</td></tr>",
                            "<tr><td>Confections</td><td>8</td><td>2006</td></tr>",
                            "<tr><td>Beverages</td><td>15</td><td>2006</td></tr>",
                            "<tr><td>Beverages</td><td>10</td><td>2006</td></tr>",
                            "<tr><td>Beverages</td><td>15</td><td>2006</td></tr>",
                            "<tr><td>Produce</td><td>6</td><td>2006</td></tr>",
                            "<tr><td>Dairy Products</td><td>12</td><td>2006</td></tr>",
                            "<tr><td>Dairy Products</td><td>15</td><td>2006</td></tr>",
                            "<tr><td>Seafood</td><td>15</td><td>2006</td></tr>",
                            "<tr><td>Grains/Cereals</td><td>20</td><td>2006</td></tr>",
                            "<tr><td>Meat/Poultry</td><td>40</td><td>2006</td></tr>",
                            "<tr><td>Seafood</td><td>16</td><td>2006</td></tr>",
                            "<tr><td>Meat/Poultry</td><td>15</td><td>2006</td></tr>",
                            "<tr><td>Confections</td><td>20</td><td>2006</td></tr>",
                            "<tr><td>Beverages</td><td>30</td><td>2006</td></tr>",
                            "<tr><td>Dairy Products</td><td>60</td><td>2006</td></tr>",
                            "<tr><td>Beverages</td><td>40</td><td>2006</td></tr>",
                            "<tr><td>Seafood</td><td>45</td><td>2006</td></tr>",
                            "<tr><td>Dairy Products</td><td>24</td><td>2006</td></tr>",
                            "<tr><td>Seafood</td><td>18</td><td>2006</td></tr>",
                            "<tr><td>Dairy Products</td><td>50</td><td>2006</td></tr>",
                            "<tr><td>Beverages</td><td>25</td><td>2006</td></tr>",
                            "<tr><td>Produce</td><td>42</td><td>2006</td></tr>",
                            "<tr><td>Confections</td><td>7</td><td>2006</td></tr>",
                            "<tr><td>Confections</td><td>70</td><td>2006</td></tr>",
                            "<tr><td>Dairy Products</td><td>32</td><td>2006</td></tr>",
                            "<tr><td>Seafood</td><td>10</td><td>2006</td></tr>",
                            "<tr><td>Confections</td><td>10</td><td>2006</td></tr>",
                            "<tr><td>Seafood</td><td>28</td><td>2006</td></tr>",
                            "<tr><td>Meat/Poultry</td><td>70</td><td>2006</td></tr>",
                            "<tr><td>Dairy Products</td><td>8</td><td>2006</td></tr>",
                            "<tr><td>Grains/Cereals</td><td>40</td><td>2006</td></tr>",
                            "<tr><td>Dairy Products</td><td>60</td><td>2006</td></tr>",
                            "<tr><td>Dairy Products</td><td>21</td><td>2006</td></tr>",
                            "<tr><td>Confections</td><td>10</td><td>2006</td></tr>",
                            "<tr><td>Produce</td><td>18</td><td>2006</td></tr>",
                            "<tr><td>Beverages</td><td>30</td><td>2006</td></tr>",
                            "<tr><td>Meat/Poultry</td><td>120</td><td>2006</td></tr>",
                            "<tr><td>Confections</td><td>60</td><td>2006</td></tr>",
                            "<tr><td>Dairy Products</td><td>30</td><td>2006</td></tr>",
                            "<tr><td>Beverages</td><td>35</td><td>2006</td></tr>",
                            "<tr><td>Condiments</td><td>14</td><td>2006</td></tr>",
                            "<tr><td>Meat/Poultry</td><td>21</td><td>2007</td></tr>",
                            "<tr><td>Beverages</td><td>35</td><td>2007</td></tr>",
                            "<tr><td>Confections</td><td>30</td><td>2007</td></tr>",
                            "<tr><td>Seafood</td><td>18</td><td>2007</td></tr>",
                            "<tr><td>Grains/Cereals</td><td>70</td><td>2007</td></tr>",
                            "<tr><td>Condiments</td><td>20</td><td>2007</td></tr>",
                            "<tr><td>Dairy Products</td><td>60</td><td>2007</td></tr>",
                            "<tr><td>Grains/Cereals</td><td>60</td><td>2007</td></tr>",
                            "<tr><td>Condiments</td><td>65</td><td>2007</td></tr>",
                            "<tr><td>Confections</td><td>21</td><td>2007</td></tr>",
                            "<tr><td>Confections</td><td>70</td><td>2007</td></tr>",
                            "<tr><td>Confections</td><td>30</td><td>2007</td></tr>",
                            "<tr><td>Grains/Cereals</td><td>40</td><td>2007</td></tr>",
                            "<tr><td>Confections</td><td>30</td><td>2007</td></tr>",
                            "<tr><td>Condiments</td><td>50</td><td>2007</td></tr>",
                            "<tr><td>Beverages</td><td>10</td><td>2007</td></tr>",
                            "<tr><td>Confections</td><td>30</td><td>2007</td></tr>",
                            "<tr><td>Produce</td><td>42</td><td>2007</td></tr>",
                            "<tr><td>Seafood</td><td>5</td><td>2007</td></tr>",
                            "<tr><td>Seafood</td><td>2</td><td>2007</td></tr>",
                            "<tr><td>Dairy Products</td><td>30</td><td>2007</td></tr>",
                            "<tr><td>Dairy Products</td><td>15</td><td>2007</td></tr>",
                            "<tr><td>Dairy Products</td><td>15</td><td>2007</td></tr>",
                            "<tr><td>Seafood</td><td>10</td><td>2007</td></tr>",
                            "<tr><td>Meat/Poultry</td><td>6</td><td>2007</td></tr>",
                            "<tr><td>Confections</td><td>35</td><td>2007</td></tr>",
                            "<tr><td>Produce</td><td>12</td><td>2007</td></tr>",
                            "<tr><td>Confections</td><td>12</td><td>2007</td></tr>",
                            "<tr><td>Dairy Products</td><td>49</td><td>2007</td></tr>",
                            "<tr><td>Dairy Products</td><td>16</td><td>2007</td></tr>",
                            "<tr><td>Seafood</td><td>25</td><td>2007</td></tr>",
                            "<tr><td>Condiments</td><td>40</td><td>2007</td></tr>",
                            "<tr><td>Dairy Products</td><td>9</td><td>2007</td></tr>",
                            "<tr><td>Produce</td><td>20</td><td>2007</td></tr>",
                            "<tr><td>Beverages</td><td>24</td><td>2007</td></tr>",
                            "<tr><td>Confections</td><td>40</td><td>2007</td></tr>",
                            "<tr><td>Beverages</td><td>14</td><td>2007</td></tr>",
                            "<tr><td>Confections</td><td>18</td><td>2007</td></tr>",
                            "<tr><td>Dairy Products</td><td>50</td><td>2007</td></tr>",
                            "<tr><td>Meat/Poultry</td><td>2</td><td>2007</td></tr>",
                            "<tr><td>Dairy Products</td><td>20</td><td>2007</td></tr>",
                            "<tr><td>Confections</td><td>20</td><td>2007</td></tr>",
                            "<tr><td>Meat/Poultry</td><td>10</td><td>2007</td></tr>",
                            "<tr><td>Grains/Cereals</td><td>20</td><td>2007</td></tr>",
                            "<tr><td>Beverages</td><td>50</td><td>2007</td></tr>",
                            "<tr><td>Seafood</td><td>2</td><td>2007</td></tr>",
                            "<tr><td>Confections</td><td>36</td><td>2007</td></tr>",
                            "<tr><td>Condiments</td><td>35</td><td>2007</td></tr>",
                            "<tr><td>Beverages</td><td>60</td><td>2007</td></tr>",
                            "<tr><td>Confections</td><td>55</td><td>2007</td></tr>",
                            "<tr><td>Condiments</td><td>16</td><td>2007</td></tr>",
                            "<tr><td>Produce</td><td>15</td><td>2007</td></tr>",
                            "<tr><td>Dairy Products</td><td>60</td><td>2007</td></tr>",
                            "<tr><td>Dairy Products</td><td>20</td><td>2007</td></tr>",
                            "<tr><td>Meat/Poultry</td><td>20</td><td>2007</td></tr>",
                            "<tr><td>Seafood</td><td>2</td><td>2007</td></tr>",
                            "<tr><td>Beverages</td><td>8</td><td>2007</td></tr>",
                            "<tr><td>Seafood</td><td>20</td><td>2007</td></tr>",
                            "<tr><td>Confections</td><td>4</td><td>2007</td></tr>",
                            "<tr><td>Confections</td><td>30</td><td>2007</td></tr>",
                            "<tr><td>Meat/Poultry</td><td>15</td><td>2007</td></tr>",
                            "<tr><td>Condiments</td><td>10</td><td>2007</td></tr>",
                            "<tr><td>Confections</td><td>2</td><td>2007</td></tr>",
                            "<tr><td>Dairy Products</td><td>14</td><td>2007</td></tr>",
                            "<tr><td>Dairy Products</td><td>20</td><td>2007</td></tr>",
                            "<tr><td>Beverages</td><td>60</td><td>2007</td></tr>",
                            "<tr><td>Beverages</td><td>49</td><td>2007</td></tr>",
                            "<tr><td>Confections</td><td>30</td><td>2007</td></tr>",
                            "<tr><td>Meat/Poultry</td><td>10</td><td>2007</td></tr>",
                            "<tr><td>Beverages</td><td>20</td><td>2007</td></tr>",
                            "<tr><td>Grains/Cereals</td><td>5</td><td>2007</td></tr>",
                            "<tr><td>Grains/Cereals</td><td>7</td><td>2007</td></tr>",
                            "<tr><td>Produce</td><td>35</td><td>2007</td></tr>",
                            "<tr><td>Seafood</td><td>20</td><td>2007</td></tr>",
                            "<tr><td>Confections</td><td>40</td><td>2007</td></tr>",
                            "<tr><td>Condiments</td><td>35</td><td>2007</td></tr>",
                            "<tr><td>Meat/Poultry</td><td>45</td><td>2007</td></tr>",
                            "<tr><td>Confections</td><td>50</td><td>2007</td></tr>",
                            "<tr><td>Grains/Cereals</td><td>30</td><td>2007</td></tr>",
                            "<tr><td>Dairy Products</td><td>70</td><td>2007</td></tr>",
                            "<tr><td>Meat/Poultry</td><td>50</td><td>2007</td></tr>",
                            "<tr><td>Seafood</td><td>50</td><td>2007</td></tr>",
                            "<tr><td>Confections</td><td>30</td><td>2007</td></tr>",
                            "<tr><td>Confections</td><td>10</td><td>2007</td></tr>",
                            "<tr><td>Meat/Poultry</td><td>40</td><td>2007</td></tr>",
                            "<tr><td>Grains/Cereals</td><td>28</td><td>2007</td></tr>",
                            "<tr><td>Dairy Products</td><td>6</td><td>2007</td></tr>",
                            "<tr><td>Beverages</td><td>18</td><td>2007</td></tr>",
                            "<tr><td>Beverages</td><td>10</td><td>2007</td></tr>",
                            "<tr><td>Grains/Cereals</td><td>12</td><td>2007</td></tr>",
                            "<tr><td>Dairy Products</td><td>10</td><td>2007</td></tr>",
                            "<tr><td>Seafood</td><td>5</td><td>2007</td></tr>",
                            "<tr><td>Grains/Cereals</td><td>40</td><td>2007</td></tr>",
                            "<tr><td>Grains/Cereals</td><td>30</td><td>2007</td></tr>",
                            "<tr><td>Beverages</td><td>24</td><td>2007</td></tr>",
                            "<tr><td>Meat/Poultry</td><td>15</td><td>2007</td></tr>",
                            "<tr><td>Confections</td><td>15</td><td>2007</td></tr>",
                            "<tr><td>Beverages</td><td>20</td><td>2007</td></tr>",
                            "<tr><td>Grains/Cereals</td><td>15</td><td>2007</td></tr>",
                            "<tr><td>Dairy Products</td><td>15</td><td>2007</td></tr>",
                            "<tr><td>Confections</td><td>16</td><td>2007</td></tr>",
                            "<tr><td>Grains/Cereals</td><td>6</td><td>2007</td></tr>",
                            "<tr><td>Produce</td><td>30</td><td>2007</td></tr>",
                            "<tr><td>Beverages</td><td>45</td><td>2007</td></tr>",
                            "<tr><td>Confections</td><td>49</td><td>2007</td></tr>",
                            "<tr><td>Meat/Poultry</td><td>24</td><td>2007</td></tr>",
                            "<tr><td>Condiments</td><td>90</td><td>2007</td></tr>",
                            "<tr><td>Confections</td><td>50</td><td>2007</td></tr>",
                            "<tr><td>Dairy Products</td><td>30</td><td>2007</td></tr>",
                            "<tr><td>Meat/Poultry</td><td>80</td><td>2007</td></tr>",
                            "<tr><td>Condiments</td><td>60</td><td>2007</td></tr>",
                            "<tr><td>Dairy Products</td><td>6</td><td>2007</td></tr>",
                            "<tr><td>Produce</td><td>12</td><td>2007</td></tr>",
                            "<tr><td>Meat/Poultry</td><td>10</td><td>2007</td></tr>",
                            "<tr><td>Confections</td><td>15</td><td>2007</td></tr>",
                            "<tr><td>Beverages</td><td>8</td><td>2007</td></tr>",
                            "<tr><td>Seafood</td><td>30</td><td>2007</td></tr>",
                            "<tr><td>Beverages</td><td>6</td><td>2007</td></tr>",
                            "<tr><td>Meat/Poultry</td><td>15</td><td>2007</td></tr>",
                            "<tr><td>Confections</td><td>12</td><td>2007</td></tr>",
                            "<tr><td>Beverages</td><td>20</td><td>2007</td></tr>",
                            "<tr><td>Dairy Products</td><td>3</td><td>2007</td></tr>",
                            "<tr><td>Grains/Cereals</td><td>15</td><td>2007</td></tr>",
                            "<tr><td>Confections</td><td>40</td><td>2007</td></tr>",
                            "<tr><td>Condiments</td><td>35</td><td>2007</td></tr>",
                            "<tr><td>Dairy Products</td><td>2</td><td>2007</td></tr>",
                            "<tr><td>Confections</td><td>6</td><td>2007</td></tr>",
                            "<tr><td>Seafood</td><td>20</td><td>2007</td></tr>",
                            "<tr><td>Seafood</td><td>14</td><td>2007</td></tr>",
                            "<tr><td>Grains/Cereals</td><td>20</td><td>2007</td></tr>",
                            "<tr><td>Confections</td><td>35</td><td>2007</td></tr>",
                            "<tr><td>Seafood</td><td>20</td><td>2007</td></tr>",
                            "<tr><td>Meat/Poultry</td><td>6</td><td>2007</td></tr>",
                            "<tr><td>Meat/Poultry</td><td>120</td><td>2007</td></tr>",
                            "<tr><td>Grains/Cereals</td><td>35</td><td>2007</td></tr>",
                            "<tr><td>Condiments</td><td>28</td><td>2007</td></tr>",
                            "<tr><td>Condiments</td><td>55</td><td>2007</td></tr>",
                            "<tr><td>Produce</td><td>15</td><td>2007</td></tr>",
                            "<tr><td>Condiments</td><td>100</td><td>2007</td></tr>",
                            "<tr><td>Confections</td><td>15</td><td>2007</td></tr>",
                            "<tr><td>Beverages</td><td>25</td><td>2007</td></tr>",
                            "<tr><td>Confections</td><td>20</td><td>2007</td></tr>",
                            "<tr><td>Dairy Products</td><td>20</td><td>2007</td></tr>",
                            "<tr><td>Seafood</td><td>10</td><td>2007</td></tr>",
                            "<tr><td>Beverages</td><td>20</td><td>2007</td></tr>",
                            "<tr><td>Meat/Poultry</td><td>50</td><td>2007</td></tr>",
                            "<tr><td>Condiments</td><td>25</td><td>2007</td></tr>",
                            "<tr><td>Dairy Products</td><td>30</td><td>2007</td></tr>",
                            "<tr><td>Confections</td><td>40</td><td>2007</td></tr>",
                            "<tr><td>Confections</td><td>21</td><td>2007</td></tr>",
                            "<tr><td>Dairy Products</td><td>36</td><td>2007</td></tr>",
                            "<tr><td>Confections</td><td>30</td><td>2007</td></tr>",
                            "<tr><td>Produce</td><td>30</td><td>2007</td></tr>",
                            "<tr><td>Beverages</td><td>20</td><td>2007</td></tr>",
                            "<tr><td>Grains/Cereals</td><td>15</td><td>2007</td></tr>",
                            "<tr><td>Dairy Products</td><td>50</td><td>2007</td></tr>",
                            "<tr><td>Produce</td><td>16</td><td>2007</td></tr>",
                            "<tr><td>Seafood</td><td>20</td><td>2007</td></tr>",
                            "<tr><td>Dairy Products</td><td>40</td><td>2007</td></tr>",
                            "<tr><td>Confections</td><td>21</td><td>2007</td></tr>",
                            "<tr><td>Beverages</td><td>4</td><td>2007</td></tr>",
                            "<tr><td>Confections</td><td>40</td><td>2007</td></tr>",
                            "<tr><td>Seafood</td><td>28</td><td>2007</td></tr>",
                            "<tr><td>Meat/Poultry</td><td>60</td><td>2007</td></tr>",
                            "<tr><td>Seafood</td><td>1</td><td>2007</td></tr>",
                            "<tr><td>Grains/Cereals</td><td>21</td><td>2007</td></tr>",
                            "<tr><td>Confections</td><td>21</td><td>2007</td></tr>",
                            "<tr><td>Grains/Cereals</td><td>50</td><td>2007</td></tr>",
                            "<tr><td>Condiments</td><td>16</td><td>2007</td></tr>",
                            "<tr><td>Beverages</td><td>3</td><td>2007</td></tr>",
                            "<tr><td>Grains/Cereals</td><td>30</td><td>2007</td></tr>",
                            "<tr><td>Dairy Products</td><td>20</td><td>2007</td></tr>",
                            "<tr><td>Beverages</td><td>25</td><td>2007</td></tr>",
                            "<tr><td>Meat/Poultry</td><td>18</td><td>2007</td></tr>",
                            "<tr><td>Seafood</td><td>20</td><td>2007</td></tr>",
                            "<tr><td>Seafood</td><td>30</td><td>2007</td></tr>",
                            "<tr><td>Confections</td><td>25</td><td>2007</td></tr>",
                            "<tr><td>Dairy Products</td><td>10</td><td>2007</td></tr>",
                            "<tr><td>Seafood</td><td>5</td><td>2007</td></tr>",
                            "<tr><td>Beverages</td><td>28</td><td>2007</td></tr>",
                            "<tr><td>Confections</td><td>12</td><td>2007</td></tr>",
                            "<tr><td>Seafood</td><td>8</td><td>2007</td></tr>",
                            "<tr><td>Beverages</td><td>15</td><td>2007</td></tr>",
                            "<tr><td>Beverages</td><td>40</td><td>2007</td></tr>",
                            "<tr><td>Confections</td><td>35</td><td>2007</td></tr>",
                            "<tr><td>Condiments</td><td>2</td><td>2007</td></tr>",
                            "<tr><td>Seafood</td><td>30</td><td>2007</td></tr>",
                            "<tr><td>Grains/Cereals</td><td>15</td><td>2007</td></tr>",
                            "<tr><td>Grains/Cereals</td><td>8</td><td>2007</td></tr>",
                            "<tr><td>Produce</td><td>30</td><td>2007</td></tr>",
                            "<tr><td>Grains/Cereals</td><td>20</td><td>2007</td></tr>",
                            "<tr><td>Beverages</td><td>80</td><td>2007</td></tr>",
                            "<tr><td>Produce</td><td>18</td><td>2007</td></tr>",
                            "<tr><td>Dairy Products</td><td>12</td><td>2007</td></tr>",
                            "<tr><td>Dairy Products</td><td>12</td><td>2007</td></tr>",
                            "<tr><td>Produce</td><td>12</td><td>2007</td></tr>",
                            "<tr><td>Produce</td><td>18</td><td>2007</td></tr>",
                            "<tr><td>Seafood</td><td>21</td><td>2007</td></tr>",
                            "<tr><td>Beverages</td><td>10</td><td>2007</td></tr>",
                            "<tr><td>Dairy Products</td><td>35</td><td>2007</td></tr>",
                            "<tr><td>Condiments</td><td>60</td><td>2007</td></tr>",
                            "<tr><td>Beverages</td><td>42</td><td>2007</td></tr>",
                            "<tr><td>Meat/Poultry</td><td>2</td><td>2007</td></tr>",
                            "<tr><td>Beverages</td><td>12</td><td>2007</td></tr>",
                            "<tr><td>Beverages</td><td>15</td><td>2007</td></tr>",
                            "<tr><td>Confections</td><td>21</td><td>2007</td></tr>",
                            "<tr><td>Beverages</td><td>20</td><td>2007</td></tr>",
                            "<tr><td>Seafood</td><td>20</td><td>2007</td></tr>",
                            "<tr><td>Beverages</td><td>30</td><td>2007</td></tr>",
                            "<tr><td>Meat/Poultry</td><td>28</td><td>2007</td></tr>",
                            "<tr><td>Dairy Products</td><td>60</td><td>2007</td></tr>",
                            "<tr><td>Grains/Cereals</td><td>30</td><td>2007</td></tr>",
                            "<tr><td>Confections</td><td>30</td><td>2007</td></tr>",
                            "<tr><td>Dairy Products</td><td>12</td><td>2007</td></tr>",
                            "<tr><td>Confections</td><td>24</td><td>2007</td></tr>",
                            "<tr><td>Dairy Products</td><td>40</td><td>2007</td></tr>",
                            "<tr><td>Seafood</td><td>10</td><td>2007</td></tr>",
                            "<tr><td>Beverages</td><td>35</td><td>2007</td></tr>",
                            "<tr><td>Condiments</td><td>30</td><td>2007</td></tr>",
                            "<tr><td>Confections</td><td>14</td><td>2007</td></tr>",
                            "<tr><td>Seafood</td><td>10</td><td>2007</td></tr>",
                            "<tr><td>Produce</td><td>3</td><td>2007</td></tr>",
                            "<tr><td>Beverages</td><td>20</td><td>2007</td></tr>",
                            "<tr><td>Condiments</td><td>20</td><td>2007</td></tr>",
                            "<tr><td>Meat/Poultry</td><td>30</td><td>2007</td></tr>",
                            "<tr><td>Beverages</td><td>60</td><td>2007</td></tr>",
                            "<tr><td>Dairy Products</td><td>5</td><td>2007</td></tr>",
                            "<tr><td>Produce</td><td>25</td><td>2007</td></tr>",
                            "<tr><td>Produce</td><td>16</td><td>2007</td></tr>",
                            "<tr><td>Confections</td><td>5</td><td>2007</td></tr>",
                            "<tr><td>Confections</td><td>30</td><td>2007</td></tr>",
                            "<tr><td>Meat/Poultry</td><td>24</td><td>2007</td></tr>",
                            "<tr><td>Dairy Products</td><td>30</td><td>2007</td></tr>",
                            "<tr><td>Seafood</td><td>20</td><td>2007</td></tr>",
                            "<tr><td>Dairy Products</td><td>15</td><td>2007</td></tr>",
                            "<tr><td>Confections</td><td>18</td><td>2007</td></tr>",
                            "<tr><td>Dairy Products</td><td>60</td><td>2007</td></tr>",
                            "<tr><td>Confections</td><td>30</td><td>2007</td></tr>",
                            "<tr><td>Beverages</td><td>36</td><td>2007</td></tr>",
                            "<tr><td>Condiments</td><td>15</td><td>2007</td></tr>",
                            "<tr><td>Condiments</td><td>7</td><td>2007</td></tr>",
                            "<tr><td>Confections</td><td>60</td><td>2007</td></tr>",
                            "<tr><td>Grains/Cereals</td><td>20</td><td>2007</td></tr>",
                            "<tr><td>Condiments</td><td>15</td><td>2007</td></tr>",
                            "<tr><td>Condiments</td><td>10</td><td>2007</td></tr>",
                            "<tr><td>Dairy Products</td><td>10</td><td>2007</td></tr>",
                            "<tr><td>Grains/Cereals</td><td>30</td><td>2007</td></tr>",
                            "<tr><td>Grains/Cereals</td><td>10</td><td>2007</td></tr>",
                            "<tr><td>Seafood</td><td>20</td><td>2007</td></tr>",
                            "<tr><td>Condiments</td><td>5</td><td>2007</td></tr>",
                            "<tr><td>Dairy Products</td><td>20</td><td>2007</td></tr>",
                            "<tr><td>Grains/Cereals</td><td>14</td><td>2007</td></tr>",
                            "<tr><td>Dairy Products</td><td>25</td><td>2007</td></tr>",
                            "<tr><td>Condiments</td><td>25</td><td>2007</td></tr>",
                            "<tr><td>Beverages</td><td>14</td><td>2007</td></tr>",
                            "<tr><td>Seafood</td><td>5</td><td>2007</td></tr>",
                            "<tr><td>Grains/Cereals</td><td>30</td><td>2007</td></tr>",
                            "<tr><td>Produce</td><td>20</td><td>2007</td></tr>",
                            "<tr><td>Confections</td><td>25</td><td>2007</td></tr>",
                            "<tr><td>Condiments</td><td>12</td><td>2007</td></tr>",
                            "<tr><td>Produce</td><td>8</td><td>2007</td></tr>",
                            "<tr><td>Meat/Poultry</td><td>20</td><td>2007</td></tr>",
                            "<tr><td>Seafood</td><td>21</td><td>2007</td></tr>",
                            "<tr><td>Meat/Poultry</td><td>6</td><td>2007</td></tr>",
                            "<tr><td>Beverages</td><td>30</td><td>2007</td></tr>",
                            "<tr><td>Produce</td><td>70</td><td>2007</td></tr>",
                            "<tr><td>Condiments</td><td>20</td><td>2007</td></tr>",
                            "<tr><td>Beverages</td><td>12</td><td>2007</td></tr>",
                            "<tr><td>Confections</td><td>12</td><td>2007</td></tr>",
                            "<tr><td>Meat/Poultry</td><td>10</td><td>2007</td></tr>",
                            "<tr><td>Condiments</td><td>25</td><td>2007</td></tr>",
                            "<tr><td>Confections</td><td>3</td><td>2007</td></tr>",
                            "<tr><td>Confections</td><td>18</td><td>2007</td></tr>",
                            "<tr><td>Beverages</td><td>14</td><td>2007</td></tr>",
                            "<tr><td>Beverages</td><td>15</td><td>2007</td></tr>",
                            "<tr><td>Confections</td><td>15</td><td>2007</td></tr>",
                            "<tr><td>Seafood</td><td>10</td><td>2007</td></tr>",
                            "<tr><td>Beverages</td><td>10</td><td>2007</td></tr>",
                            "<tr><td>Produce</td><td>3</td><td>2007</td></tr>",
                            "<tr><td>Meat/Poultry</td><td>36</td><td>2007</td></tr>",
                            "<tr><td>Beverages</td><td>36</td><td>2007</td></tr>",
                            "<tr><td>Condiments</td><td>50</td><td>2007</td></tr>",
                            "<tr><td>Produce</td><td>50</td><td>2007</td></tr>",
                            "<tr><td>Condiments</td><td>10</td><td>2007</td></tr>",
                            "<tr><td>Beverages</td><td>10</td><td>2007</td></tr>",
                            "<tr><td>Seafood</td><td>9</td><td>2007</td></tr>",
                            "<tr><td>Confections</td><td>6</td><td>2007</td></tr>",
                            "<tr><td>Dairy Products</td><td>12</td><td>2007</td></tr>",
                            "<tr><td>Confections</td><td>40</td><td>2007</td></tr>",
                            "<tr><td>Dairy Products</td><td>50</td><td>2007</td></tr>",
                            "<tr><td>Condiments</td><td>15</td><td>2007</td></tr>",
                            "<tr><td>Confections</td><td>39</td><td>2007</td></tr>",
                            "<tr><td>Produce</td><td>35</td><td>2007</td></tr>",
                            "<tr><td>Grains/Cereals</td><td>70</td><td>2007</td></tr>",
                            "<tr><td>Condiments</td><td>39</td><td>2007</td></tr>",
                            "<tr><td>Beverages</td><td>50</td><td>2007</td></tr>",
                            "<tr><td>Meat/Poultry</td><td>16</td><td>2007</td></tr>",
                            "<tr><td>Confections</td><td>50</td><td>2007</td></tr>",
                            "<tr><td>Confections</td><td>120</td><td>2007</td></tr>",
                            "<tr><td>Dairy Products</td><td>16</td><td>2007</td></tr>",
                            "<tr><td>Dairy Products</td><td>84</td><td>2007</td></tr>",
                            "<tr><td>Seafood</td><td>25</td><td>2007</td></tr>",
                            "<tr><td>Seafood</td><td>80</td><td>2007</td></tr>",
                            "<tr><td>Grains/Cereals</td><td>20</td><td>2007</td></tr>",
                            "<tr><td>Grains/Cereals</td><td>6</td><td>2007</td></tr>",
                            "<tr><td>Dairy Products</td><td>4</td><td>2007</td></tr>",
                            "<tr><td>Beverages</td><td>6</td><td>2007</td></tr>",
                            "<tr><td>Beverages</td><td>5</td><td>2007</td></tr>",
                            "<tr><td>Beverages</td><td>15</td><td>2007</td></tr>",
                            "<tr><td>Condiments</td><td>9</td><td>2007</td></tr>",
                            "<tr><td>Seafood</td><td>16</td><td>2007</td></tr>",
                            "<tr><td>Grains/Cereals</td><td>40</td><td>2007</td></tr>",
                            "<tr><td>Dairy Products</td><td>10</td><td>2007</td></tr>",
                            "<tr><td>Beverages</td><td>8</td><td>2007</td></tr>",
                            "<tr><td>Meat/Poultry</td><td>5</td><td>2007</td></tr>",
                            "<tr><td>Beverages</td><td>3</td><td>2007</td></tr>",
                            "<tr><td>Seafood</td><td>10</td><td>2007</td></tr>",
                            "<tr><td>Confections</td><td>6</td><td>2007</td></tr>",
                            "<tr><td>Beverages</td><td>40</td><td>2007</td></tr>",
                            "<tr><td>Condiments</td><td>24</td><td>2007</td></tr>",
                            "<tr><td>Seafood</td><td>20</td><td>2007</td></tr>",
                            "<tr><td>Seafood</td><td>25</td><td>2007</td></tr>",
                            "<tr><td>Meat/Poultry</td><td>25</td><td>2007</td></tr>",
                            "<tr><td>Confections</td><td>15</td><td>2007</td></tr>",
                            "<tr><td>Seafood</td><td>18</td><td>2007</td></tr>",
                            "<tr><td>Seafood</td><td>6</td><td>2007</td></tr>",
                            "<tr><td>Seafood</td><td>2</td><td>2007</td></tr>",
                            "<tr><td>Seafood</td><td>10</td><td>2007</td></tr>",
                            "<tr><td>Beverages</td><td>60</td><td>2007</td></tr>",
                            "<tr><td>Meat/Poultry</td><td>15</td><td>2007</td></tr>",
                            "<tr><td>Seafood</td><td>30</td><td>2007</td></tr>",
                            "<tr><td>Seafood</td><td>15</td><td>2007</td></tr>",
                            "<tr><td>Beverages</td><td>8</td><td>2007</td></tr>",
                            "<tr><td>Seafood</td><td>10</td><td>2007</td></tr>",
                            "<tr><td>Grains/Cereals</td><td>30</td><td>2007</td></tr>",
                            "<tr><td>Condiments</td><td>50</td><td>2007</td></tr>",
                            "<tr><td>Seafood</td><td>30</td><td>2007</td></tr>",
                            "<tr><td>Dairy Products</td><td>3</td><td>2007</td></tr>",
                            "<tr><td>Dairy Products</td><td>8</td><td>2007</td></tr>",
                            "<tr><td>Dairy Products</td><td>9</td><td>2007</td></tr>",
                            "<tr><td>Meat/Poultry</td><td>14</td><td>2007</td></tr>",
                            "<tr><td>Confections</td><td>20</td><td>2007</td></tr>",
                            "<tr><td>Dairy Products</td><td>10</td><td>2007</td></tr>",
                            "<tr><td>Meat/Poultry</td><td>40</td><td>2007</td></tr>",
                            "<tr><td>Beverages</td><td>25</td><td>2007</td></tr>",
                            "<tr><td>Condiments</td><td>20</td><td>2007</td></tr>",
                            "<tr><td>Beverages</td><td>50</td><td>2007</td></tr>",
                            "<tr><td>Dairy Products</td><td>2</td><td>2007</td></tr>",
                            "<tr><td>Seafood</td><td>15</td><td>2007</td></tr>",
                            "<tr><td>Condiments</td><td>24</td><td>2007</td></tr>",
                            "<tr><td>Condiments</td><td>50</td><td>2007</td></tr>",
                            "<tr><td>Dairy Products</td><td>24</td><td>2007</td></tr>",
                            "<tr><td>Seafood</td><td>24</td><td>2007</td></tr>",
                            "<tr><td>Seafood</td><td>10</td><td>2007</td></tr>",
                            "<tr><td>Seafood</td><td>10</td><td>2007</td></tr>",
                            "<tr><td>Meat/Poultry</td><td>10</td><td>2007</td></tr>",
                            "<tr><td>Dairy Products</td><td>50</td><td>2007</td></tr>",
                            "<tr><td>Seafood</td><td>10</td><td>2007</td></tr>",
                            "<tr><td>Grains/Cereals</td><td>5</td><td>2007</td></tr>",
                            "<tr><td>Dairy Products</td><td>15</td><td>2007</td></tr>",
                            "<tr><td>Dairy Products</td><td>15</td><td>2007</td></tr>",
                            "<tr><td>Dairy Products</td><td>20</td><td>2007</td></tr>",
                            "<tr><td>Dairy Products</td><td>30</td><td>2007</td></tr>",
                            "<tr><td>Dairy Products</td><td>35</td><td>2007</td></tr>",
                            "<tr><td>Dairy Products</td><td>30</td><td>2007</td></tr>",
                            "<tr><td>Produce</td><td>6</td><td>2007</td></tr>",
                            "<tr><td>Seafood</td><td>20</td><td>2007</td></tr>",
                            "<tr><td>Dairy Products</td><td>21</td><td>2007</td></tr>",
                            "<tr><td>Seafood</td><td>9</td><td>2007</td></tr>",
                            "<tr><td>Beverages</td><td>7</td><td>2007</td></tr>",
                            "<tr><td>Dairy Products</td><td>1</td><td>2007</td></tr>",
                            "<tr><td>Seafood</td><td>8</td><td>2007</td></tr>",
                            "<tr><td>Confections</td><td>15</td><td>2007</td></tr>",
                            "<tr><td>Dairy Products</td><td>15</td><td>2007</td></tr>",
                            "<tr><td>Confections</td><td>6</td><td>2007</td></tr>",
                            "<tr><td>Condiments</td><td>60</td><td>2007</td></tr>",
                            "<tr><td>Confections</td><td>40</td><td>2007</td></tr>",
                            "<tr><td>Beverages</td><td>30</td><td>2007</td></tr>",
                            "<tr><td>Confections</td><td>35</td><td>2007</td></tr>",
                            "<tr><td>Beverages</td><td>35</td><td>2007</td></tr>",
                            "<tr><td>Beverages</td><td>4</td><td>2007</td></tr>",
                            "<tr><td>Condiments</td><td>36</td><td>2007</td></tr>",
                            "<tr><td>Dairy Products</td><td>9</td><td>2007</td></tr>",
                            "<tr><td>Dairy Products</td><td>15</td><td>2007</td></tr>",
                            "<tr><td>Meat/Poultry</td><td>24</td><td>2007</td></tr>",
                            "<tr><td>Dairy Products</td><td>30</td><td>2007</td></tr>",
                            "<tr><td>Grains/Cereals</td><td>70</td><td>2007</td></tr>",
                            "<tr><td>Produce</td><td>7</td><td>2007</td></tr>",
                            "<tr><td>Beverages</td><td>7</td><td>2007</td></tr>",
                            "<tr><td>Dairy Products</td><td>10</td><td>2007</td></tr>",
                            "<tr><td>Produce</td><td>10</td><td>2007</td></tr>",
                            "<tr><td>Beverages</td><td>30</td><td>2007</td></tr>",
                            "<tr><td>Confections</td><td>40</td><td>2007</td></tr>",
                            "<tr><td>Dairy Products</td><td>24</td><td>2007</td></tr>",
                            "<tr><td>Seafood</td><td>60</td><td>2007</td></tr>",
                            "<tr><td>Beverages</td><td>10</td><td>2007</td></tr>",
                            "<tr><td>Seafood</td><td>14</td><td>2007</td></tr>",
                            "<tr><td>Dairy Products</td><td>55</td><td>2007</td></tr>",
                            "<tr><td>Seafood</td><td>100</td><td>2007</td></tr>",
                            "<tr><td>Produce</td><td>48</td><td>2007</td></tr>",
                            "<tr><td>Meat/Poultry</td><td>8</td><td>2007</td></tr>",
                            "<tr><td>Confections</td><td>10</td><td>2007</td></tr>",
                            "<tr><td>Confections</td><td>6</td><td>2007</td></tr>",
                            "<tr><td>Condiments</td><td>10</td><td>2007</td></tr>",
                            "<tr><td>Confections</td><td>40</td><td>2007</td></tr>",
                            "<tr><td>Beverages</td><td>20</td><td>2007</td></tr>",
                            "<tr><td>Condiments</td><td>40</td><td>2007</td></tr>",
                            "<tr><td>Dairy Products</td><td>18</td><td>2007</td></tr>",
                            "<tr><td>Beverages</td><td>30</td><td>2007</td></tr>",
                            "<tr><td>Dairy Products</td><td>15</td><td>2007</td></tr>",
                            "<tr><td>Confections</td><td>14</td><td>2007</td></tr>",
                            "<tr><td>Grains/Cereals</td><td>24</td><td>2007</td></tr>",
                            "<tr><td>Dairy Products</td><td>30</td><td>2007</td></tr>",
                            "<tr><td>Beverages</td><td>6</td><td>2007</td></tr>",
                            "<tr><td>Confections</td><td>30</td><td>2007</td></tr>",
                            "<tr><td>Grains/Cereals</td><td>20</td><td>2007</td></tr>",
                            "<tr><td>Confections</td><td>20</td><td>2007</td></tr>",
                            "<tr><td>Condiments</td><td>10</td><td>2007</td></tr>",
                            "<tr><td>Produce</td><td>30</td><td>2007</td></tr>",
                            "<tr><td>Confections</td><td>35</td><td>2007</td></tr>",
                            "<tr><td>Beverages</td><td>18</td><td>2007</td></tr>",
                            "<tr><td>Produce</td><td>20</td><td>2007</td></tr>",
                            "<tr><td>Grains/Cereals</td><td>40</td><td>2007</td></tr>",
                            "<tr><td>Dairy Products</td><td>24</td><td>2007</td></tr>",
                            "<tr><td>Grains/Cereals</td><td>30</td><td>2007</td></tr>",
                            "<tr><td>Beverages</td><td>20</td><td>2007</td></tr>",
                            "<tr><td>Confections</td><td>25</td><td>2007</td></tr>",
                            "<tr><td>Produce</td><td>20</td><td>2007</td></tr>",
                            "<tr><td>Grains/Cereals</td><td>30</td><td>2007</td></tr>",
                            "<tr><td>Meat/Poultry</td><td>18</td><td>2007</td></tr>",
                            "<tr><td>Seafood</td><td>3</td><td>2007</td></tr>",
                            "<tr><td>Seafood</td><td>12</td><td>2007</td></tr>",
                            "<tr><td>Meat/Poultry</td><td>18</td><td>2007</td></tr>",
                            "<tr><td>Seafood</td><td>20</td><td>2007</td></tr>",
                            "<tr><td>Confections</td><td>15</td><td>2007</td></tr>",
                            "<tr><td>Condiments</td><td>10</td><td>2007</td></tr>",
                            "<tr><td>Produce</td><td>50</td><td>2007</td></tr>",
                            "<tr><td>Dairy Products</td><td>20</td><td>2007</td></tr>",
                            "<tr><td>Confections</td><td>10</td><td>2007</td></tr>",
                            "<tr><td>Seafood</td><td>25</td><td>2007</td></tr>",
                            "<tr><td>Grains/Cereals</td><td>70</td><td>2007</td></tr>",
                            "<tr><td>Meat/Poultry</td><td>16</td><td>2007</td></tr>",
                            "<tr><td>Dairy Products</td><td>6</td><td>2007</td></tr>",
                            "<tr><td>Meat/Poultry</td><td>25</td><td>2007</td></tr>",
                            "<tr><td>Beverages</td><td>25</td><td>2007</td></tr>",
                            "<tr><td>Grains/Cereals</td><td>18</td><td>2007</td></tr>",
                            "<tr><td>Dairy Products</td><td>35</td><td>2007</td></tr>",
                            "<tr><td>Seafood</td><td>18</td><td>2007</td></tr>",
                            "<tr><td>Beverages</td><td>10</td><td>2007</td></tr>",
                            "<tr><td>Dairy Products</td><td>60</td><td>2007</td></tr>",
                            "<tr><td>Produce</td><td>3</td><td>2007</td></tr>",
                            "<tr><td>Dairy Products</td><td>40</td><td>2007</td></tr>",
                            "<tr><td>Seafood</td><td>5</td><td>2007</td></tr>",
                            "<tr><td>Dairy Products</td><td>35</td><td>2007</td></tr>",
                            "<tr><td>Beverages</td><td>30</td><td>2007</td></tr>",
                            "<tr><td>Dairy Products</td><td>15</td><td>2007</td></tr>",
                            "<tr><td>Grains/Cereals</td><td>60</td><td>2007</td></tr>",
                            "<tr><td>Produce</td><td>11</td><td>2007</td></tr>",
                            "<tr><td>Grains/Cereals</td><td>28</td><td>2007</td></tr>",
                            "<tr><td>Confections</td><td>12</td><td>2007</td></tr>",
                            "<tr><td>Dairy Products</td><td>10</td><td>2007</td></tr>",
                            "<tr><td>Seafood</td><td>50</td><td>2007</td></tr>",
                            "<tr><td>Beverages</td><td>15</td><td>2007</td></tr>",
                            "<tr><td>Meat/Poultry</td><td>18</td><td>2007</td></tr>",
                            "<tr><td>Beverages</td><td>40</td><td>2007</td></tr>",
                            "<tr><td>Meat/Poultry</td><td>25</td><td>2007</td></tr>",
                            "<tr><td>Dairy Products</td><td>14</td><td>2007</td></tr>",
                            "<tr><td>Seafood</td><td>2</td><td>2007</td></tr>",
                            "<tr><td>Confections</td><td>10</td><td>2007</td></tr>",
                            "<tr><td>Grains/Cereals</td><td>6</td><td>2007</td></tr>",
                            "<tr><td>Dairy Products</td><td>12</td><td>2007</td></tr>",
                            "<tr><td>Condiments</td><td>6</td><td>2007</td></tr>",
                            "<tr><td>Dairy Products</td><td>30</td><td>2007</td></tr>",
                            "<tr><td>Beverages</td><td>10</td><td>2007</td></tr>",
                            "<tr><td>Beverages</td><td>10</td><td>2007</td></tr>",
                            "<tr><td>Dairy Products</td><td>20</td><td>2007</td></tr>",
                            "<tr><td>Condiments</td><td>21</td><td>2007</td></tr>",
                            "<tr><td>Beverages</td><td>10</td><td>2007</td></tr>",
                            "<tr><td>Beverages</td><td>20</td><td>2007</td></tr>",
                            "<tr><td>Condiments</td><td>18</td><td>2007</td></tr>",
                            "<tr><td>Beverages</td><td>20</td><td>2007</td></tr>",
                            "<tr><td>Grains/Cereals</td><td>6</td><td>2007</td></tr>",
                            "<tr><td>Condiments</td><td>10</td><td>2007</td></tr>",
                            "<tr><td>Beverages</td><td>21</td><td>2007</td></tr>",
                            "<tr><td>Produce</td><td>15</td><td>2007</td></tr>",
                            "<tr><td>Seafood</td><td>9</td><td>2007</td></tr>",
                            "<tr><td>Condiments</td><td>30</td><td>2007</td></tr>",
                            "<tr><td>Beverages</td><td>50</td><td>2007</td></tr>",
                            "<tr><td>Grains/Cereals</td><td>4</td><td>2007</td></tr>",
                            "<tr><td>Beverages</td><td>14</td><td>2007</td></tr>",
                            "<tr><td>Meat/Poultry</td><td>10</td><td>2007</td></tr>",
                            "<tr><td>Dairy Products</td><td>24</td><td>2007</td></tr>",
                            "<tr><td>Dairy Products</td><td>10</td><td>2007</td></tr>",
                            "<tr><td>Dairy Products</td><td>50</td><td>2007</td></tr>",
                            "<tr><td>Confections</td><td>15</td><td>2007</td></tr>",
                            "<tr><td>Grains/Cereals</td><td>4</td><td>2007</td></tr>",
                            "<tr><td>Confections</td><td>6</td><td>2007</td></tr>",
                            "<tr><td>Beverages</td><td>20</td><td>2007</td></tr>",
                            "<tr><td>Condiments</td><td>20</td><td>2007</td></tr>",
                            "<tr><td>Seafood</td><td>40</td><td>2007</td></tr>",
                            "<tr><td>Grains/Cereals</td><td>100</td><td>2007</td></tr>",
                            "<tr><td>Beverages</td><td>4</td><td>2007</td></tr>",
                            "<tr><td>Beverages</td><td>20</td><td>2007</td></tr>",
                            "<tr><td>Condiments</td><td>60</td><td>2007</td></tr>",
                            "<tr><td>Condiments</td><td>14</td><td>2007</td></tr>",
                            "<tr><td>Produce</td><td>10</td><td>2007</td></tr>",
                            "<tr><td>Meat/Poultry</td><td>50</td><td>2007</td></tr>",
                            "<tr><td>Condiments</td><td>25</td><td>2007</td></tr>",
                            "<tr><td>Confections</td><td>5</td><td>2007</td></tr>",
                            "<tr><td>Confections</td><td>21</td><td>2007</td></tr>",
                            "<tr><td>Dairy Products</td><td>20</td><td>2007</td></tr>",
                            "<tr><td>Beverages</td><td>4</td><td>2007</td></tr>",
                            "<tr><td>Grains/Cereals</td><td>24</td><td>2007</td></tr>",
                            "<tr><td>Seafood</td><td>30</td><td>2007</td></tr>",
                            "<tr><td>Beverages</td><td>30</td><td>2007</td></tr>",
                            "<tr><td>Condiments</td><td>120</td><td>2007</td></tr>",
                            "<tr><td>Dairy Products</td><td>65</td><td>2007</td></tr>",
                            "<tr><td>Grains/Cereals</td><td>5</td><td>2007</td></tr>",
                            "<tr><td>Condiments</td><td>24</td><td>2007</td></tr>",
                            "<tr><td>Beverages</td><td>30</td><td>2007</td></tr>",
                            "<tr><td>Beverages</td><td>35</td><td>2007</td></tr>",
                            "<tr><td>Grains/Cereals</td><td>20</td><td>2007</td></tr>",
                            "<tr><td>Condiments</td><td>12</td><td>2007</td></tr>",
                            "<tr><td>Confections</td><td>50</td><td>2007</td></tr>",
                            "<tr><td>Dairy Products</td><td>9</td><td>2007</td></tr>",
                            "<tr><td>Confections</td><td>10</td><td>2007</td></tr>",
                            "<tr><td>Meat/Poultry</td><td>4</td><td>2007</td></tr>",
                            "<tr><td>Seafood</td><td>30</td><td>2007</td></tr>",
                            "<tr><td>Seafood</td><td>60</td><td>2007</td></tr>",
                            "<tr><td>Dairy Products</td><td>35</td><td>2007</td></tr>",
                            "<tr><td>Condiments</td><td>5</td><td>2007</td></tr>",
                            "<tr><td>Grains/Cereals</td><td>48</td><td>2007</td></tr>",
                            "<tr><td>Confections</td><td>25</td><td>2007</td></tr>",
                            "<tr><td>Confections</td><td>6</td><td>2007</td></tr>",
                            "<tr><td>Beverages</td><td>10</td><td>2007</td></tr>",
                            "<tr><td>Confections</td><td>30</td><td>2007</td></tr>",
                            "<tr><td>Dairy Products</td><td>20</td><td>2007</td></tr>",
                            "<tr><td>Dairy Products</td><td>70</td><td>2007</td></tr>",
                            "<tr><td>Dairy Products</td><td>15</td><td>2007</td></tr>",
                            "<tr><td>Condiments</td><td>20</td><td>2007</td></tr>",
                            "<tr><td>Meat/Poultry</td><td>20</td><td>2007</td></tr>",
                            "<tr><td>Confections</td><td>10</td><td>2007</td></tr>",
                            "<tr><td>Produce</td><td>45</td><td>2007</td></tr>",
                            "<tr><td>Meat/Poultry</td><td>100</td><td>2007</td></tr>",
                            "<tr><td>Dairy Products</td><td>14</td><td>2007</td></tr>",
                            "<tr><td>Seafood</td><td>42</td><td>2007</td></tr>",
                            "<tr><td>Dairy Products</td><td>12</td><td>2007</td></tr>",
                            "<tr><td>Grains/Cereals</td><td>28</td><td>2007</td></tr>",
                            "<tr><td>Beverages</td><td>3</td><td>2007</td></tr>",
                            "<tr><td>Seafood</td><td>10</td><td>2007</td></tr>",
                            "<tr><td>Confections</td><td>6</td><td>2007</td></tr>",
                            "<tr><td>Seafood</td><td>21</td><td>2007</td></tr>",
                            "<tr><td>Beverages</td><td>6</td><td>2007</td></tr>",
                            "<tr><td>Beverages</td><td>10</td><td>2007</td></tr>",
                            "<tr><td>Dairy Products</td><td>15</td><td>2007</td></tr>",
                            "<tr><td>Seafood</td><td>70</td><td>2007</td></tr>",
                            "<tr><td>Seafood</td><td>55</td><td>2007</td></tr>",
                            "<tr><td>Confections</td><td>18</td><td>2007</td></tr>",
                            "<tr><td>Dairy Products</td><td>40</td><td>2007</td></tr>",
                            "<tr><td>Beverages</td><td>80</td><td>2007</td></tr>",
                            "<tr><td>Seafood</td><td>8</td><td>2007</td></tr>",
                            "<tr><td>Beverages</td><td>40</td><td>2007</td></tr>",
                            "<tr><td>Dairy Products</td><td>14</td><td>2007</td></tr>",
                            "<tr><td>Confections</td><td>8</td><td>2007</td></tr>",
                            "<tr><td>Beverages</td><td>5</td><td>2007</td></tr>",
                            "<tr><td>Meat/Poultry</td><td>5</td><td>2007</td></tr>",
                            "<tr><td>Beverages</td><td>15</td><td>2007</td></tr>",
                            "<tr><td>Grains/Cereals</td><td>14</td><td>2007</td></tr>",
                            "<tr><td>Beverages</td><td>15</td><td>2007</td></tr>",
                            "<tr><td>Dairy Products</td><td>15</td><td>2007</td></tr>",
                            "<tr><td>Dairy Products</td><td>30</td><td>2007</td></tr>",
                            "<tr><td>Condiments</td><td>70</td><td>2007</td></tr>",
                            "<tr><td>Grains/Cereals</td><td>20</td><td>2007</td></tr>",
                            "<tr><td>Confections</td><td>15</td><td>2007</td></tr>",
                            "<tr><td>Confections</td><td>42</td><td>2007</td></tr>",
                            "<tr><td>Grains/Cereals</td><td>40</td><td>2007</td></tr>",
                            "<tr><td>Beverages</td><td>5</td><td>2007</td></tr>",
                            "<tr><td>Grains/Cereals</td><td>5</td><td>2007</td></tr>",
                            "<tr><td>Confections</td><td>5</td><td>2007</td></tr>",
                            "<tr><td>Grains/Cereals</td><td>10</td><td>2007</td></tr>",
                            "<tr><td>Beverages</td><td>20</td><td>2007</td></tr>",
                            "<tr><td>Dairy Products</td><td>15</td><td>2007</td></tr>",
                            "<tr><td>Beverages</td><td>20</td><td>2007</td></tr>",
                            "<tr><td>Confections</td><td>18</td><td>2007</td></tr>",
                            "<tr><td>Produce</td><td>21</td><td>2007</td></tr>",
                            "<tr><td>Confections</td><td>15</td><td>2007</td></tr>",
                            "<tr><td>Confections</td><td>25</td><td>2007</td></tr>",
                            "<tr><td>Beverages</td><td>3</td><td>2007</td></tr>",
                            "<tr><td>Beverages</td><td>30</td><td>2007</td></tr>",
                            "<tr><td>Produce</td><td>10</td><td>2007</td></tr>",
                            "<tr><td>Meat/Poultry</td><td>6</td><td>2007</td></tr>",
                            "<tr><td>Condiments</td><td>10</td><td>2007</td></tr>",
                            "<tr><td>Produce</td><td>3</td><td>2007</td></tr>",
                            "<tr><td>Grains/Cereals</td><td>5</td><td>2007</td></tr>",
                            "<tr><td>Dairy Products</td><td>10</td><td>2007</td></tr>",
                            "<tr><td>Meat/Poultry</td><td>12</td><td>2007</td></tr>",
                            "<tr><td>Dairy Products</td><td>20</td><td>2007</td></tr>",
                            "<tr><td>Dairy Products</td><td>20</td><td>2007</td></tr>",
                            "<tr><td>Confections</td><td>15</td><td>2007</td></tr>",
                            "<tr><td>Seafood</td><td>35</td><td>2007</td></tr>",
                            "<tr><td>Beverages</td><td>25</td><td>2007</td></tr>",
                            "<tr><td>Meat/Poultry</td><td>20</td><td>2007</td></tr>",
                            "<tr><td>Grains/Cereals</td><td>9</td><td>2007</td></tr>",
                            "<tr><td>Meat/Poultry</td><td>12</td><td>2007</td></tr>",
                            "<tr><td>Beverages</td><td>35</td><td>2007</td></tr>",
                            "<tr><td>Beverages</td><td>8</td><td>2007</td></tr>",
                            "<tr><td>Beverages</td><td>30</td><td>2007</td></tr>",
                            "<tr><td>Dairy Products</td><td>20</td><td>2007</td></tr>",
                            "<tr><td>Dairy Products</td><td>36</td><td>2007</td></tr>",
                            "<tr><td>Seafood</td><td>13</td><td>2007</td></tr>",
                            "<tr><td>Confections</td><td>35</td><td>2007</td></tr>",
                            "<tr><td>Confections</td><td>80</td><td>2007</td></tr>",
                            "<tr><td>Produce</td><td>35</td><td>2007</td></tr>",
                            "<tr><td>Seafood</td><td>50</td><td>2007</td></tr>",
                            "<tr><td>Produce</td><td>15</td><td>2007</td></tr>",
                            "<tr><td>Beverages</td><td>2</td><td>2007</td></tr>",
                            "<tr><td>Condiments</td><td>10</td><td>2007</td></tr>",
                            "<tr><td>Condiments</td><td>15</td><td>2007</td></tr>",
                            "<tr><td>Grains/Cereals</td><td>40</td><td>2007</td></tr>",
                            "<tr><td>Condiments</td><td>25</td><td>2007</td></tr>",
                            "<tr><td>Seafood</td><td>6</td><td>2007</td></tr>",
                            "<tr><td>Dairy Products</td><td>10</td><td>2007</td></tr>",
                            "<tr><td>Confections</td><td>25</td><td>2007</td></tr>",
                            "<tr><td>Grains/Cereals</td><td>60</td><td>2007</td></tr>",
                            "<tr><td>Seafood</td><td>20</td><td>2007</td></tr>",
                            "<tr><td>Condiments</td><td>21</td><td>2007</td></tr>",
                            "<tr><td>Dairy Products</td><td>60</td><td>2007</td></tr>",
                            "<tr><td>Seafood</td><td>8</td><td>2007</td></tr>",
                            "<tr><td>Dairy Products</td><td>20</td><td>2007</td></tr>",
                            "<tr><td>Beverages</td><td>15</td><td>2007</td></tr>",
                            "<tr><td>Beverages</td><td>50</td><td>2007</td></tr>",
                            "<tr><td>Seafood</td><td>60</td><td>2007</td></tr>",
                            "<tr><td>Confections</td><td>30</td><td>2007</td></tr>",
                            "<tr><td>Condiments</td><td>20</td><td>2007</td></tr>",
                            "<tr><td>Produce</td><td>15</td><td>2007</td></tr>",
                            "<tr><td>Beverages</td><td>21</td><td>2007</td></tr>",
                            "<tr><td>Seafood</td><td>2</td><td>2007</td></tr>",
                            "<tr><td>Seafood</td><td>4</td><td>2007</td></tr>",
                            "<tr><td>Beverages</td><td>20</td><td>2007</td></tr>",
                            "<tr><td>Seafood</td><td>21</td><td>2007</td></tr>",
                            "<tr><td>Seafood</td><td>20</td><td>2007</td></tr>",
                            "<tr><td>Seafood</td><td>15</td><td>2007</td></tr>",
                            "<tr><td>Beverages</td><td>15</td><td>2007</td></tr>",
                            "<tr><td>Seafood</td><td>18</td><td>2007</td></tr>",
                            "<tr><td>Dairy Products</td><td>30</td><td>2007</td></tr>",
                            "<tr><td>Condiments</td><td>35</td><td>2007</td></tr>",
                            "<tr><td>Confections</td><td>30</td><td>2007</td></tr>",
                            "<tr><td>Beverages</td><td>20</td><td>2007</td></tr>",
                            "<tr><td>Grains/Cereals</td><td>15</td><td>2007</td></tr>",
                            "<tr><td>Beverages</td><td>15</td><td>2007</td></tr>",
                            "<tr><td>Produce</td><td>20</td><td>2007</td></tr>",
                            "<tr><td>Dairy Products</td><td>15</td><td>2007</td></tr>",
                            "<tr><td>Seafood</td><td>30</td><td>2007</td></tr>",
                            "<tr><td>Meat/Poultry</td><td>25</td><td>2007</td></tr>",
                            "<tr><td>Meat/Poultry</td><td>30</td><td>2007</td></tr>",
                            "<tr><td>Confections</td><td>12</td><td>2007</td></tr>",
                            "<tr><td>Grains/Cereals</td><td>20</td><td>2007</td></tr>",
                            "<tr><td>Seafood</td><td>2</td><td>2007</td></tr>",
                            "<tr><td>Grains/Cereals</td><td>20</td><td>2007</td></tr>",
                            "<tr><td>Confections</td><td>30</td><td>2007</td></tr>",
                            "<tr><td>Dairy Products</td><td>20</td><td>2007</td></tr>",
                            "<tr><td>Condiments</td><td>12</td><td>2007</td></tr>",
                            "<tr><td>Beverages</td><td>20</td><td>2007</td></tr>",
                            "<tr><td>Meat/Poultry</td><td>6</td><td>2007</td></tr>",
                            "<tr><td>Seafood</td><td>20</td><td>2007</td></tr>",
                            "<tr><td>Produce</td><td>3</td><td>2007</td></tr>",
                            "<tr><td>Condiments</td><td>28</td><td>2007</td></tr>",
                            "<tr><td>Confections</td><td>6</td><td>2007</td></tr>",
                            "<tr><td>Condiments</td><td>50</td><td>2007</td></tr>",
                            "<tr><td>Seafood</td><td>24</td><td>2007</td></tr>",
                            "<tr><td>Seafood</td><td>45</td><td>2007</td></tr>",
                            "<tr><td>Confections</td><td>10</td><td>2007</td></tr>",
                            "<tr><td>Grains/Cereals</td><td>45</td><td>2007</td></tr>",
                            "<tr><td>Dairy Products</td><td>30</td><td>2007</td></tr>",
                            "<tr><td>Confections</td><td>60</td><td>2007</td></tr>",
                            "<tr><td>Seafood</td><td>70</td><td>2007</td></tr>",
                            "<tr><td>Dairy Products</td><td>55</td><td>2007</td></tr>",
                            "<tr><td>Condiments</td><td>70</td><td>2007</td></tr>",
                            "<tr><td>Dairy Products</td><td>20</td><td>2007</td></tr>",
                            "<tr><td>Seafood</td><td>24</td><td>2007</td></tr>",
                            "<tr><td>Beverages</td><td>40</td><td>2007</td></tr>",
                            "<tr><td>Confections</td><td>21</td><td>2007</td></tr>",
                            "<tr><td>Beverages</td><td>3</td><td>2007</td></tr>",
                            "<tr><td>Seafood</td><td>49</td><td>2007</td></tr>",
                            "<tr><td>Confections</td><td>10</td><td>2007</td></tr>",
                            "<tr><td>Seafood</td><td>30</td><td>2007</td></tr>",
                            "<tr><td>Grains/Cereals</td><td>30</td><td>2007</td></tr>",
                            "<tr><td>Produce</td><td>20</td><td>2007</td></tr>",
                            "<tr><td>Seafood</td><td>24</td><td>2007</td></tr>",
                            "<tr><td>Grains/Cereals</td><td>12</td><td>2007</td></tr>",
                            "<tr><td>Condiments</td><td>15</td><td>2007</td></tr>",
                            "<tr><td>Produce</td><td>20</td><td>2007</td></tr>",
                            "<tr><td>Dairy Products</td><td>1</td><td>2007</td></tr>",
                            "<tr><td>Beverages</td><td>10</td><td>2007</td></tr>",
                            "<tr><td>Meat/Poultry</td><td>36</td><td>2007</td></tr>",
                            "<tr><td>Condiments</td><td>10</td><td>2007</td></tr>",
                            "<tr><td>Dairy Products</td><td>45</td><td>2007</td></tr>",
                            "<tr><td>Dairy Products</td><td>14</td><td>2007</td></tr>",
                            "<tr><td>Dairy Products</td><td>8</td><td>2007</td></tr>",
                            "<tr><td>Meat/Poultry</td><td>4</td><td>2007</td></tr>",
                            "<tr><td>Grains/Cereals</td><td>15</td><td>2007</td></tr>",
                            "<tr><td>Seafood</td><td>30</td><td>2007</td></tr>",
                            "<tr><td>Grains/Cereals</td><td>32</td><td>2007</td></tr>",
                            "<tr><td>Seafood</td><td>60</td><td>2007</td></tr>",
                            "<tr><td>Beverages</td><td>25</td><td>2007</td></tr>",
                            "<tr><td>Seafood</td><td>50</td><td>2007</td></tr>",
                            "<tr><td>Beverages</td><td>25</td><td>2007</td></tr>",
                            "<tr><td>Confections</td><td>10</td><td>2007</td></tr>",
                            "<tr><td>Confections</td><td>10</td><td>2007</td></tr>",
                            "<tr><td>Condiments</td><td>12</td><td>2007</td></tr>",
                            "<tr><td>Beverages</td><td>15</td><td>2007</td></tr>",
                            "<tr><td>Dairy Products</td><td>12</td><td>2007</td></tr>",
                            "<tr><td>Confections</td><td>3</td><td>2007</td></tr>",
                            "<tr><td>Grains/Cereals</td><td>6</td><td>2007</td></tr>",
                            "<tr><td>Beverages</td><td>6</td><td>2007</td></tr>",
                            "<tr><td>Grains/Cereals</td><td>5</td><td>2007</td></tr>",
                            "<tr><td>Produce</td><td>30</td><td>2007</td></tr>",
                            "<tr><td>Meat/Poultry</td><td>10</td><td>2007</td></tr>",
                            "<tr><td>Seafood</td><td>30</td><td>2007</td></tr>",
                            "<tr><td>Seafood</td><td>2</td><td>2007</td></tr>",
                            "<tr><td>Confections</td><td>7</td><td>2007</td></tr>",
                            "<tr><td>Condiments</td><td>21</td><td>2007</td></tr>",
                            "<tr><td>Confections</td><td>30</td><td>2007</td></tr>",
                            "<tr><td>Dairy Products</td><td>8</td><td>2007</td></tr>",
                            "<tr><td>Dairy Products</td><td>100</td><td>2007</td></tr>",
                            "<tr><td>Dairy Products</td><td>30</td><td>2007</td></tr>",
                            "<tr><td>Seafood</td><td>120</td><td>2007</td></tr>",
                            "<tr><td>Meat/Poultry</td><td>30</td><td>2007</td></tr>",
                            "<tr><td>Dairy Products</td><td>12</td><td>2007</td></tr>",
                            "<tr><td>Confections</td><td>50</td><td>2007</td></tr>",
                            "<tr><td>Dairy Products</td><td>20</td><td>2007</td></tr>",
                            "<tr><td>Grains/Cereals</td><td>40</td><td>2007</td></tr>",
                            "<tr><td>Confections</td><td>30</td><td>2007</td></tr>",
                            "<tr><td>Confections</td><td>12</td><td>2007</td></tr>",
                            "<tr><td>Grains/Cereals</td><td>28</td><td>2007</td></tr>",
                            "<tr><td>Dairy Products</td><td>30</td><td>2007</td></tr>",
                            "<tr><td>Condiments</td><td>4</td><td>2007</td></tr>",
                            "<tr><td>Beverages</td><td>30</td><td>2007</td></tr>",
                            "<tr><td>Grains/Cereals</td><td>9</td><td>2007</td></tr>",
                            "<tr><td>Seafood</td><td>20</td><td>2007</td></tr>",
                            "<tr><td>Confections</td><td>40</td><td>2007</td></tr>",
                            "<tr><td>Dairy Products</td><td>30</td><td>2007</td></tr>",
                            "<tr><td>Seafood</td><td>20</td><td>2007</td></tr>",
                            "<tr><td>Seafood</td><td>4</td><td>2007</td></tr>",
                            "<tr><td>Confections</td><td>15</td><td>2007</td></tr>",
                            "<tr><td>Meat/Poultry</td><td>30</td><td>2007</td></tr>",
                            "<tr><td>Confections</td><td>15</td><td>2007</td></tr>",
                            "<tr><td>Meat/Poultry</td><td>50</td><td>2007</td></tr>",
                            "<tr><td>Meat/Poultry</td><td>10</td><td>2007</td></tr>",
                            "<tr><td>Seafood</td><td>6</td><td>2007</td></tr>",
                            "<tr><td>Seafood</td><td>18</td><td>2007</td></tr>",
                            "<tr><td>Produce</td><td>60</td><td>2007</td></tr>",
                            "<tr><td>Beverages</td><td>14</td><td>2007</td></tr>",
                            "<tr><td>Beverages</td><td>35</td><td>2007</td></tr>",
                            "<tr><td>Grains/Cereals</td><td>20</td><td>2007</td></tr>",
                            "<tr><td>Condiments</td><td>30</td><td>2007</td></tr>",
                            "<tr><td>Beverages</td><td>30</td><td>2007</td></tr>",
                            "<tr><td>Meat/Poultry</td><td>40</td><td>2007</td></tr>",
                            "<tr><td>Beverages</td><td>40</td><td>2007</td></tr>",
                            "<tr><td>Condiments</td><td>24</td><td>2007</td></tr>",
                            "<tr><td>Confections</td><td>48</td><td>2007</td></tr>",
                            "<tr><td>Condiments</td><td>20</td><td>2007</td></tr>",
                            "<tr><td>Meat/Poultry</td><td>6</td><td>2007</td></tr>",
                            "<tr><td>Meat/Poultry</td><td>60</td><td>2007</td></tr>",
                            "<tr><td>Dairy Products</td><td>30</td><td>2007</td></tr>",
                            "<tr><td>Seafood</td><td>15</td><td>2007</td></tr>",
                            "<tr><td>Produce</td><td>90</td><td>2007</td></tr>",
                            "<tr><td>Dairy Products</td><td>25</td><td>2007</td></tr>",
                            "<tr><td>Beverages</td><td>50</td><td>2007</td></tr>",
                            "<tr><td>Condiments</td><td>10</td><td>2007</td></tr>",
                            "<tr><td>Dairy Products</td><td>4</td><td>2007</td></tr>",
                            "<tr><td>Beverages</td><td>20</td><td>2007</td></tr>",
                            "<tr><td>Meat/Poultry</td><td>20</td><td>2007</td></tr>",
                            "<tr><td>Seafood</td><td>18</td><td>2007</td></tr>",
                            "<tr><td>Confections</td><td>7</td><td>2007</td></tr>",
                            "<tr><td>Beverages</td><td>9</td><td>2007</td></tr>",
                            "<tr><td>Seafood</td><td>30</td><td>2007</td></tr>",
                            "<tr><td>Beverages</td><td>30</td><td>2007</td></tr>",
                            "<tr><td>Dairy Products</td><td>15</td><td>2007</td></tr>",
                            "<tr><td>Meat/Poultry</td><td>8</td><td>2007</td></tr>",
                            "<tr><td>Meat/Poultry</td><td>12</td><td>2007</td></tr>",
                            "<tr><td>Condiments</td><td>65</td><td>2007</td></tr>",
                            "<tr><td>Beverages</td><td>8</td><td>2007</td></tr>",
                            "<tr><td>Confections</td><td>12</td><td>2007</td></tr>",
                            "<tr><td>Beverages</td><td>5</td><td>2007</td></tr>",
                            "<tr><td>Beverages</td><td>12</td><td>2007</td></tr>",
                            "<tr><td>Confections</td><td>40</td><td>2007</td></tr>",
                            "<tr><td>Dairy Products</td><td>60</td><td>2007</td></tr>",
                            "<tr><td>Dairy Products</td><td>42</td><td>2007</td></tr>",
                            "<tr><td>Dairy Products</td><td>20</td><td>2007</td></tr>",
                            "<tr><td>Beverages</td><td>35</td><td>2007</td></tr>",
                            "<tr><td>Condiments</td><td>6</td><td>2007</td></tr>",
                            "<tr><td>Beverages</td><td>15</td><td>2007</td></tr>",
                            "<tr><td>Beverages</td><td>5</td><td>2007</td></tr>",
                            "<tr><td>Dairy Products</td><td>35</td><td>2007</td></tr>",
                            "<tr><td>Seafood</td><td>35</td><td>2007</td></tr>",
                            "<tr><td>Condiments</td><td>6</td><td>2007</td></tr>",
                            "<tr><td>Beverages</td><td>35</td><td>2007</td></tr>",
                            "<tr><td>Confections</td><td>24</td><td>2007</td></tr>",
                            "<tr><td>Dairy Products</td><td>20</td><td>2007</td></tr>",
                            "<tr><td>Dairy Products</td><td>4</td><td>2007</td></tr>",
                            "<tr><td>Confections</td><td>20</td><td>2007</td></tr>",
                            "<tr><td>Beverages</td><td>24</td><td>2007</td></tr>",
                            "<tr><td>Dairy Products</td><td>8</td><td>2007</td></tr>",
                            "<tr><td>Meat/Poultry</td><td>21</td><td>2007</td></tr>",
                            "<tr><td>Grains/Cereals</td><td>40</td><td>2007</td></tr>",
                            "<tr><td>Beverages</td><td>28</td><td>2007</td></tr>",
                            "<tr><td>Condiments</td><td>4</td><td>2007</td></tr>",
                            "<tr><td>Seafood</td><td>5</td><td>2007</td></tr>",
                            "<tr><td>Condiments</td><td>40</td><td>2007</td></tr>",
                            "<tr><td>Produce</td><td>28</td><td>2007</td></tr>",
                            "<tr><td>Dairy Products</td><td>10</td><td>2007</td></tr>",
                            "<tr><td>Confections</td><td>5</td><td>2007</td></tr>",
                            "<tr><td>Confections</td><td>5</td><td>2007</td></tr>",
                            "<tr><td>Confections</td><td>12</td><td>2007</td></tr>",
                            "<tr><td>Seafood</td><td>42</td><td>2007</td></tr>",
                            "<tr><td>Meat/Poultry</td><td>120</td><td>2007</td></tr>",
                            "<tr><td>Meat/Poultry</td><td>3</td><td>2007</td></tr>",
                            "<tr><td>Grains/Cereals</td><td>30</td><td>2007</td></tr>",
                            "<tr><td>Seafood</td><td>18</td><td>2007</td></tr>",
                            "<tr><td>Confections</td><td>30</td><td>2007</td></tr>",
                            "<tr><td>Seafood</td><td>110</td><td>2007</td></tr>",
                            "<tr><td>Seafood</td><td>24</td><td>2007</td></tr>",
                            "<tr><td>Beverages</td><td>30</td><td>2007</td></tr>",
                            "<tr><td>Meat/Poultry</td><td>27</td><td>2007</td></tr>",
                            "<tr><td>Confections</td><td>50</td><td>2007</td></tr>",
                            "<tr><td>Grains/Cereals</td><td>18</td><td>2007</td></tr>",
                            "<tr><td>Seafood</td><td>12</td><td>2007</td></tr>",
                            "<tr><td>Seafood</td><td>21</td><td>2007</td></tr>",
                            "<tr><td>Dairy Products</td><td>30</td><td>2007</td></tr>",
                            "<tr><td>Confections</td><td>5</td><td>2007</td></tr>",
                            "<tr><td>Produce</td><td>7</td><td>2007</td></tr>",
                            "<tr><td>Condiments</td><td>10</td><td>2007</td></tr>",
                            "<tr><td>Confections</td><td>32</td><td>2007</td></tr>",
                            "<tr><td>Meat/Poultry</td><td>15</td><td>2007</td></tr>",
                            "<tr><td>Dairy Products</td><td>25</td><td>2007</td></tr>",
                            "<tr><td>Dairy Products</td><td>36</td><td>2007</td></tr>",
                            "<tr><td>Confections</td><td>20</td><td>2007</td></tr>",
                            "<tr><td>Seafood</td><td>40</td><td>2007</td></tr>",
                            "<tr><td>Confections</td><td>20</td><td>2007</td></tr>",
                            "<tr><td>Seafood</td><td>12</td><td>2007</td></tr>",
                            "<tr><td>Seafood</td><td>3</td><td>2007</td></tr>",
                            "<tr><td>Meat/Poultry</td><td>40</td><td>2007</td></tr>",
                            "<tr><td>Beverages</td><td>21</td><td>2007</td></tr>",
                            "<tr><td>Dairy Products</td><td>8</td><td>2007</td></tr>",
                            "<tr><td>Condiments</td><td>50</td><td>2007</td></tr>",
                            "<tr><td>Beverages</td><td>3</td><td>2007</td></tr>",
                            "<tr><td>Dairy Products</td><td>50</td><td>2007</td></tr>",
                            "<tr><td>Confections</td><td>45</td><td>2007</td></tr>",
                            "<tr><td>Beverages</td><td>42</td><td>2007</td></tr>",
                            "<tr><td>Confections</td><td>15</td><td>2007</td></tr>",
                            "<tr><td>Seafood</td><td>16</td><td>2007</td></tr>",
                            "<tr><td>Condiments</td><td>5</td><td>2007</td></tr>",
                            "<tr><td>Seafood</td><td>12</td><td>2007</td></tr>",
                            "<tr><td>Grains/Cereals</td><td>4</td><td>2007</td></tr>",
                            "<tr><td>Meat/Poultry</td><td>6</td><td>2007</td></tr>",
                            "<tr><td>Condiments</td><td>25</td><td>2007</td></tr>",
                            "<tr><td>Dairy Products</td><td>5</td><td>2007</td></tr>",
                            "<tr><td>Meat/Poultry</td><td>20</td><td>2007</td></tr>",
                            "<tr><td>Grains/Cereals</td><td>10</td><td>2007</td></tr>",
                            "<tr><td>Dairy Products</td><td>10</td><td>2007</td></tr>",
                            "<tr><td>Seafood</td><td>15</td><td>2007</td></tr>",
                            "<tr><td>Seafood</td><td>6</td><td>2007</td></tr>",
                            "<tr><td>Meat/Poultry</td><td>12</td><td>2007</td></tr>",
                            "<tr><td>Dairy Products</td><td>15</td><td>2007</td></tr>",
                            "<tr><td>Beverages</td><td>50</td><td>2007</td></tr>",
                            "<tr><td>Confections</td><td>30</td><td>2007</td></tr>",
                            "<tr><td>Confections</td><td>40</td><td>2007</td></tr>",
                            "<tr><td>Confections</td><td>15</td><td>2007</td></tr>",
                            "<tr><td>Dairy Products</td><td>3</td><td>2007</td></tr>",
                            "<tr><td>Condiments</td><td>10</td><td>2007</td></tr>",
                            "<tr><td>Confections</td><td>40</td><td>2007</td></tr>",
                            "<tr><td>Produce</td><td>30</td><td>2007</td></tr>",
                            "<tr><td>Beverages</td><td>20</td><td>2007</td></tr>",
                            "<tr><td>Produce</td><td>16</td><td>2007</td></tr>",
                            "<tr><td>Produce</td><td>20</td><td>2007</td></tr>",
                            "<tr><td>Grains/Cereals</td><td>25</td><td>2007</td></tr>",
                            "<tr><td>Condiments</td><td>30</td><td>2007</td></tr>",
                            "<tr><td>Seafood</td><td>15</td><td>2007</td></tr>",
                            "<tr><td>Beverages</td><td>20</td><td>2007</td></tr>",
                            "<tr><td>Condiments</td><td>20</td><td>2007</td></tr>",
                            "<tr><td>Condiments</td><td>2</td><td>2007</td></tr>",
                            "<tr><td>Condiments</td><td>40</td><td>2007</td></tr>",
                            "<tr><td>Beverages</td><td>20</td><td>2007</td></tr>",
                            "<tr><td>Seafood</td><td>4</td><td>2007</td></tr>",
                            "<tr><td>Seafood</td><td>12</td><td>2007</td></tr>",
                            "<tr><td>Confections</td><td>3</td><td>2007</td></tr>",
                            "<tr><td>Seafood</td><td>6</td><td>2007</td></tr>",
                            "<tr><td>Grains/Cereals</td><td>18</td><td>2007</td></tr>",
                            "<tr><td>Produce</td><td>5</td><td>2007</td></tr>",
                            "<tr><td>Beverages</td><td>35</td><td>2007</td></tr>",
                            "<tr><td>Seafood</td><td>40</td><td>2007</td></tr>",
                            "<tr><td>Grains/Cereals</td><td>14</td><td>2007</td></tr>",
                            "<tr><td>Beverages</td><td>15</td><td>2007</td></tr>",
                            "<tr><td>Condiments</td><td>20</td><td>2007</td></tr>",
                            "<tr><td>Dairy Products</td><td>50</td><td>2007</td></tr>",
                            "<tr><td>Dairy Products</td><td>35</td><td>2007</td></tr>",
                            "<tr><td>Seafood</td><td>28</td><td>2007</td></tr>",
                            "<tr><td>Seafood</td><td>50</td><td>2007</td></tr>",
                            "<tr><td>Seafood</td><td>24</td><td>2007</td></tr>",
                            "<tr><td>Condiments</td><td>16</td><td>2007</td></tr>",
                            "<tr><td>Dairy Products</td><td>45</td><td>2007</td></tr>",
                            "<tr><td>Dairy Products</td><td>7</td><td>2007</td></tr>",
                            "<tr><td>Seafood</td><td>6</td><td>2007</td></tr>",
                            "<tr><td>Grains/Cereals</td><td>28</td><td>2007</td></tr>",
                            "<tr><td>Confections</td><td>9</td><td>2007</td></tr>",
                            "<tr><td>Dairy Products</td><td>40</td><td>2007</td></tr>",
                            "<tr><td>Dairy Products</td><td>8</td><td>2007</td></tr>",
                            "<tr><td>Seafood</td><td>35</td><td>2007</td></tr>",
                            "<tr><td>Condiments</td><td>9</td><td>2007</td></tr>",
                            "<tr><td>Dairy Products</td><td>30</td><td>2007</td></tr>",
                            "<tr><td>Grains/Cereals</td><td>44</td><td>2007</td></tr>",
                            "<tr><td>Seafood</td><td>40</td><td>2007</td></tr>",
                            "<tr><td>Grains/Cereals</td><td>28</td><td>2007</td></tr>",
                            "<tr><td>Grains/Cereals</td><td>15</td><td>2007</td></tr>",
                            "<tr><td>Dairy Products</td><td>6</td><td>2007</td></tr>",
                            "<tr><td>Beverages</td><td>10</td><td>2007</td></tr>",
                            "<tr><td>Produce</td><td>5</td><td>2007</td></tr>",
                            "<tr><td>Seafood</td><td>40</td><td>2007</td></tr>",
                            "<tr><td>Dairy Products</td><td>25</td><td>2007</td></tr>",
                            "<tr><td>Confections</td><td>12</td><td>2007</td></tr>",
                            "<tr><td>Seafood</td><td>30</td><td>2007</td></tr>",
                            "<tr><td>Confections</td><td>20</td><td>2007</td></tr>",
                            "<tr><td>Seafood</td><td>15</td><td>2007</td></tr>",
                            "<tr><td>Beverages</td><td>8</td><td>2007</td></tr>",
                            "<tr><td>Dairy Products</td><td>3</td><td>2007</td></tr>",
                            "<tr><td>Seafood</td><td>4</td><td>2007</td></tr>",
                            "<tr><td>Produce</td><td>5</td><td>2007</td></tr>",
                            "<tr><td>Seafood</td><td>3</td><td>2007</td></tr>",
                            "<tr><td>Confections</td><td>30</td><td>2007</td></tr>",
                            "<tr><td>Grains/Cereals</td><td>30</td><td>2007</td></tr>",
                            "<tr><td>Grains/Cereals</td><td>14</td><td>2007</td></tr>",
                            "<tr><td>Dairy Products</td><td>25</td><td>2007</td></tr>",
                            "<tr><td>Seafood</td><td>21</td><td>2007</td></tr>",
                            "<tr><td>Seafood</td><td>20</td><td>2007</td></tr>",
                            "<tr><td>Confections</td><td>6</td><td>2007</td></tr>",
                            "<tr><td>Dairy Products</td><td>20</td><td>2007</td></tr>",
                            "<tr><td>Beverages</td><td>30</td><td>2007</td></tr>",
                            "<tr><td>Dairy Products</td><td>7</td><td>2007</td></tr>",
                            "<tr><td>Confections</td><td>30</td><td>2007</td></tr>",
                            "<tr><td>Grains/Cereals</td><td>24</td><td>2007</td></tr>",
                            "<tr><td>Confections</td><td>20</td><td>2007</td></tr>",
                            "<tr><td>Grains/Cereals</td><td>60</td><td>2007</td></tr>",
                            "<tr><td>Beverages</td><td>40</td><td>2007</td></tr>",
                            "<tr><td>Dairy Products</td><td>10</td><td>2007</td></tr>",
                            "<tr><td>Confections</td><td>12</td><td>2007</td></tr>",
                            "<tr><td>Confections</td><td>40</td><td>2007</td></tr>",
                            "<tr><td>Beverages</td><td>30</td><td>2007</td></tr>",
                            "<tr><td>Confections</td><td>35</td><td>2007</td></tr>",
                            "<tr><td>Beverages</td><td>18</td><td>2007</td></tr>",
                            "<tr><td>Beverages</td><td>16</td><td>2007</td></tr>",
                            "<tr><td>Confections</td><td>30</td><td>2007</td></tr>",
                            "<tr><td>Produce</td><td>28</td><td>2007</td></tr>",
                            "<tr><td>Grains/Cereals</td><td>60</td><td>2007</td></tr>",
                            "<tr><td>Confections</td><td>40</td><td>2007</td></tr>",
                            "<tr><td>Grains/Cereals</td><td>6</td><td>2007</td></tr>",
                            "<tr><td>Beverages</td><td>20</td><td>2007</td></tr>",
                            "<tr><td>Condiments</td><td>20</td><td>2007</td></tr>",
                            "<tr><td>Beverages</td><td>130</td><td>2007</td></tr>",
                            "<tr><td>Condiments</td><td>80</td><td>2007</td></tr>",
                            "<tr><td>Beverages</td><td>40</td><td>2007</td></tr>",
                            "<tr><td>Produce</td><td>35</td><td>2007</td></tr>",
                            "<tr><td>Confections</td><td>40</td><td>2007</td></tr>",
                            "<tr><td>Grains/Cereals</td><td>2</td><td>2007</td></tr>",
                            "<tr><td>Grains/Cereals</td><td>4</td><td>2007</td></tr>",
                            "<tr><td>Dairy Products</td><td>50</td><td>2007</td></tr>",
                            "<tr><td>Dairy Products</td><td>15</td><td>2007</td></tr>",
                            "<tr><td>Dairy Products</td><td>12</td><td>2007</td></tr>",
                            "<tr><td>Seafood</td><td>30</td><td>2007</td></tr>",
                            "<tr><td>Grains/Cereals</td><td>15</td><td>2007</td></tr>",
                            "<tr><td>Condiments</td><td>20</td><td>2007</td></tr>",
                            "<tr><td>Confections</td><td>15</td><td>2007</td></tr>",
                            "<tr><td>Dairy Products</td><td>15</td><td>2007</td></tr>",
                            "<tr><td>Dairy Products</td><td>16</td><td>2007</td></tr>",
                            "<tr><td>Meat/Poultry</td><td>18</td><td>2007</td></tr>",
                            "<tr><td>Dairy Products</td><td>25</td><td>2007</td></tr>",
                            "<tr><td>Meat/Poultry</td><td>33</td><td>2007</td></tr>",
                            "<tr><td>Dairy Products</td><td>70</td><td>2007</td></tr>",
                            "<tr><td>Beverages</td><td>7</td><td>2007</td></tr>",
                            "<tr><td>Dairy Products</td><td>2</td><td>2007</td></tr>",
                            "<tr><td>Condiments</td><td>50</td><td>2007</td></tr>",
                            "<tr><td>Seafood</td><td>6</td><td>2007</td></tr>",
                            "<tr><td>Beverages</td><td>3</td><td>2007</td></tr>",
                            "<tr><td>Dairy Products</td><td>16</td><td>2007</td></tr>",
                            "<tr><td>Grains/Cereals</td><td>12</td><td>2007</td></tr>",
                            "<tr><td>Seafood</td><td>27</td><td>2007</td></tr>",
                            "<tr><td>Produce</td><td>120</td><td>2007</td></tr>",
                            "<tr><td>Grains/Cereals</td><td>20</td><td>2007</td></tr>",
                            "<tr><td>Seafood</td><td>10</td><td>2007</td></tr>",
                            "<tr><td>Confections</td><td>20</td><td>2007</td></tr>",
                            "<tr><td>Confections</td><td>20</td><td>2007</td></tr>",
                            "<tr><td>Beverages</td><td>35</td><td>2007</td></tr>",
                            "<tr><td>Condiments</td><td>15</td><td>2007</td></tr>",
                            "<tr><td>Meat/Poultry</td><td>3</td><td>2007</td></tr>",
                            "<tr><td>Grains/Cereals</td><td>20</td><td>2007</td></tr>",
                            "<tr><td>Produce</td><td>35</td><td>2007</td></tr>",
                            "<tr><td>Dairy Products</td><td>1</td><td>2007</td></tr>",
                            "<tr><td>Dairy Products</td><td>10</td><td>2007</td></tr>",
                            "<tr><td>Beverages</td><td>5</td><td>2007</td></tr>",
                            "<tr><td>Seafood</td><td>30</td><td>2007</td></tr>",
                            "<tr><td>Beverages</td><td>2</td><td>2007</td></tr>",
                            "<tr><td>Dairy Products</td><td>30</td><td>2007</td></tr>",
                            "<tr><td>Seafood</td><td>10</td><td>2007</td></tr>",
                            "<tr><td>Beverages</td><td>10</td><td>2007</td></tr>",
                            "<tr><td>Condiments</td><td>30</td><td>2007</td></tr>",
                            "<tr><td>Seafood</td><td>15</td><td>2007</td></tr>",
                            "<tr><td>Beverages</td><td>42</td><td>2007</td></tr>",
                            "<tr><td>Beverages</td><td>15</td><td>2007</td></tr>",
                            "<tr><td>Meat/Poultry</td><td>20</td><td>2007</td></tr>",
                            "<tr><td>Confections</td><td>50</td><td>2007</td></tr>",
                            "<tr><td>Beverages</td><td>40</td><td>2007</td></tr>",
                            "<tr><td>Seafood</td><td>30</td><td>2007</td></tr>",
                            "<tr><td>Beverages</td><td>15</td><td>2007</td></tr>",
                            "<tr><td>Condiments</td><td>30</td><td>2007</td></tr>",
                            "<tr><td>Confections</td><td>18</td><td>2007</td></tr>",
                            "<tr><td>Produce</td><td>3</td><td>2007</td></tr>",
                            "<tr><td>Grains/Cereals</td><td>20</td><td>2007</td></tr>",
                            "<tr><td>Meat/Poultry</td><td>14</td><td>2007</td></tr>",
                            "<tr><td>Seafood</td><td>20</td><td>2007</td></tr>",
                            "<tr><td>Beverages</td><td>10</td><td>2007</td></tr>",
                            "<tr><td>Meat/Poultry</td><td>3</td><td>2007</td></tr>",
                            "<tr><td>Confections</td><td>15</td><td>2007</td></tr>",
                            "<tr><td>Seafood</td><td>14</td><td>2007</td></tr>",
                            "<tr><td>Grains/Cereals</td><td>8</td><td>2007</td></tr>",
                            "<tr><td>Produce</td><td>15</td><td>2007</td></tr>",
                            "<tr><td>Meat/Poultry</td><td>6</td><td>2007</td></tr>",
                            "<tr><td>Confections</td><td>65</td><td>2007</td></tr>",
                            "<tr><td>Meat/Poultry</td><td>35</td><td>2007</td></tr>",
                            "<tr><td>Confections</td><td>21</td><td>2007</td></tr>",
                            "<tr><td>Condiments</td><td>10</td><td>2007</td></tr>",
                            "<tr><td>Grains/Cereals</td><td>35</td><td>2007</td></tr>",
                            "<tr><td>Dairy Products</td><td>24</td><td>2007</td></tr>",
                            "<tr><td>Dairy Products</td><td>20</td><td>2007</td></tr>",
                            "<tr><td>Confections</td><td>2</td><td>2007</td></tr>",
                            "<tr><td>Dairy Products</td><td>10</td><td>2007</td></tr>",
                            "<tr><td>Seafood</td><td>20</td><td>2007</td></tr>",
                            "<tr><td>Beverages</td><td>20</td><td>2007</td></tr>",
                            "<tr><td>Dairy Products</td><td>25</td><td>2007</td></tr>",
                            "<tr><td>Dairy Products</td><td>50</td><td>2007</td></tr>",
                            "<tr><td>Produce</td><td>10</td><td>2007</td></tr>",
                            "<tr><td>Meat/Poultry</td><td>7</td><td>2007</td></tr>",
                            "<tr><td>Meat/Poultry</td><td>40</td><td>2007</td></tr>",
                            "<tr><td>Meat/Poultry</td><td>20</td><td>2007</td></tr>",
                            "<tr><td>Seafood</td><td>25</td><td>2007</td></tr>",
                            "<tr><td>Produce</td><td>30</td><td>2007</td></tr>",
                            "<tr><td>Meat/Poultry</td><td>60</td><td>2007</td></tr>",
                            "<tr><td>Confections</td><td>5</td><td>2007</td></tr>",
                            "<tr><td>Confections</td><td>24</td><td>2007</td></tr>",
                            "<tr><td>Confections</td><td>15</td><td>2007</td></tr>",
                            "<tr><td>Dairy Products</td><td>15</td><td>2007</td></tr>",
                            "<tr><td>Seafood</td><td>36</td><td>2007</td></tr>",
                            "<tr><td>Produce</td><td>24</td><td>2007</td></tr>",
                            "<tr><td>Confections</td><td>4</td><td>2007</td></tr>",
                            "<tr><td>Beverages</td><td>10</td><td>2007</td></tr>",
                            "<tr><td>Beverages</td><td>10</td><td>2007</td></tr>",
                            "<tr><td>Beverages</td><td>20</td><td>2007</td></tr>",
                            "<tr><td>Condiments</td><td>2</td><td>2007</td></tr>",
                            "<tr><td>Produce</td><td>15</td><td>2007</td></tr>",
                            "<tr><td>Seafood</td><td>1</td><td>2007</td></tr>",
                            "<tr><td>Grains/Cereals</td><td>20</td><td>2008</td></tr>",
                            "<tr><td>Beverages</td><td>50</td><td>2008</td></tr>",
                            "<tr><td>Grains/Cereals</td><td>20</td><td>2008</td></tr>",
                            "<tr><td>Seafood</td><td>7</td><td>2008</td></tr>",
                            "<tr><td>Confections</td><td>5</td><td>2008</td></tr>",
                            "<tr><td>Beverages</td><td>5</td><td>2008</td></tr>",
                            "<tr><td>Confections</td><td>15</td><td>2008</td></tr>",
                            "<tr><td>Grains/Cereals</td><td>18</td><td>2008</td></tr>",
                            "<tr><td>Seafood</td><td>30</td><td>2008</td></tr>",
                            "<tr><td>Dairy Products</td><td>16</td><td>2008</td></tr>",
                            "<tr><td>Dairy Products</td><td>40</td><td>2008</td></tr>",
                            "<tr><td>Condiments</td><td>20</td><td>2008</td></tr>",
                            "<tr><td>Beverages</td><td>12</td><td>2008</td></tr>",
                            "<tr><td>Seafood</td><td>35</td><td>2008</td></tr>",
                            "<tr><td>Seafood</td><td>20</td><td>2008</td></tr>",
                            "<tr><td>Beverages</td><td>20</td><td>2008</td></tr>",
                            "<tr><td>Confections</td><td>8</td><td>2008</td></tr>",
                            "<tr><td>Condiments</td><td>30</td><td>2008</td></tr>",
                            "<tr><td>Dairy Products</td><td>16</td><td>2008</td></tr>",
                            "<tr><td>Beverages</td><td>30</td><td>2008</td></tr>",
                            "<tr><td>Confections</td><td>20</td><td>2008</td></tr>",
                            "<tr><td>Confections</td><td>40</td><td>2008</td></tr>",
                            "<tr><td>Beverages</td><td>30</td><td>2008</td></tr>",
                            "<tr><td>Seafood</td><td>60</td><td>2008</td></tr>",
                            "<tr><td>Confections</td><td>25</td><td>2008</td></tr>",
                            "<tr><td>Dairy Products</td><td>20</td><td>2008</td></tr>",
                            "<tr><td>Seafood</td><td>20</td><td>2008</td></tr>",
                            "<tr><td>Beverages</td><td>7</td><td>2008</td></tr>",
                            "<tr><td>Beverages</td><td>20</td><td>2008</td></tr>",
                            "<tr><td>Grains/Cereals</td><td>30</td><td>2008</td></tr>",
                            "<tr><td>Beverages</td><td>20</td><td>2008</td></tr>",
                            "<tr><td>Produce</td><td>6</td><td>2008</td></tr>",
                            "<tr><td>Confections</td><td>3</td><td>2008</td></tr>",
                            "<tr><td>Beverages</td><td>6</td><td>2008</td></tr>",
                            "<tr><td>Dairy Products</td><td>20</td><td>2008</td></tr>",
                            "<tr><td>Grains/Cereals</td><td>15</td><td>2008</td></tr>",
                            "<tr><td>Dairy Products</td><td>40</td><td>2008</td></tr>",
                            "<tr><td>Condiments</td><td>15</td><td>2008</td></tr>",
                            "<tr><td>Seafood</td><td>12</td><td>2008</td></tr>",
                            "<tr><td>Beverages</td><td>9</td><td>2008</td></tr>",
                            "<tr><td>Confections</td><td>12</td><td>2008</td></tr>",
                            "<tr><td>Meat/Poultry</td><td>20</td><td>2008</td></tr>",
                            "<tr><td>Dairy Products</td><td>35</td><td>2008</td></tr>",
                            "<tr><td>Grains/Cereals</td><td>15</td><td>2008</td></tr>",
                            "<tr><td>Seafood</td><td>15</td><td>2008</td></tr>",
                            "<tr><td>Beverages</td><td>21</td><td>2008</td></tr>",
                            "<tr><td>Confections</td><td>5</td><td>2008</td></tr>",
                            "<tr><td>Beverages</td><td>2</td><td>2008</td></tr>",
                            "<tr><td>Beverages</td><td>10</td><td>2008</td></tr>",
                            "<tr><td>Condiments</td><td>20</td><td>2008</td></tr>",
                            "<tr><td>Seafood</td><td>10</td><td>2008</td></tr>",
                            "<tr><td>Dairy Products</td><td>21</td><td>2008</td></tr>",
                            "<tr><td>Condiments</td><td>6</td><td>2008</td></tr>",
                            "<tr><td>Beverages</td><td>28</td><td>2008</td></tr>",
                            "<tr><td>Dairy Products</td><td>30</td><td>2008</td></tr>",
                            "<tr><td>Confections</td><td>24</td><td>2008</td></tr>",
                            "<tr><td>Confections</td><td>2</td><td>2008</td></tr>",
                            "<tr><td>Beverages</td><td>8</td><td>2008</td></tr>",
                            "<tr><td>Beverages</td><td>8</td><td>2008</td></tr>",
                            "<tr><td>Beverages</td><td>9</td><td>2008</td></tr>",
                            "<tr><td>Seafood</td><td>3</td><td>2008</td></tr>",
                            "<tr><td>Confections</td><td>10</td><td>2008</td></tr>",
                            "<tr><td>Condiments</td><td>16</td><td>2008</td></tr>",
                            "<tr><td>Grains/Cereals</td><td>3</td><td>2008</td></tr>",
                            "<tr><td>Produce</td><td>20</td><td>2008</td></tr>",
                            "<tr><td>Dairy Products</td><td>9</td><td>2008</td></tr>",
                            "<tr><td>Meat/Poultry</td><td>9</td><td>2008</td></tr>",
                            "<tr><td>Meat/Poultry</td><td>8</td><td>2008</td></tr>",
                            "<tr><td>Seafood</td><td>20</td><td>2008</td></tr>",
                            "<tr><td>Dairy Products</td><td>15</td><td>2008</td></tr>",
                            "<tr><td>Condiments</td><td>2</td><td>2008</td></tr>",
                            "<tr><td>Grains/Cereals</td><td>52</td><td>2008</td></tr>",
                            "<tr><td>Beverages</td><td>6</td><td>2008</td></tr>",
                            "<tr><td>Grains/Cereals</td><td>24</td><td>2008</td></tr>",
                            "<tr><td>Dairy Products</td><td>60</td><td>2008</td></tr>",
                            "<tr><td>Grains/Cereals</td><td>30</td><td>2008</td></tr>",
                            "<tr><td>Seafood</td><td>6</td><td>2008</td></tr>",
                            "<tr><td>Seafood</td><td>25</td><td>2008</td></tr>",
                            "<tr><td>Confections</td><td>40</td><td>2008</td></tr>",
                            "<tr><td>Beverages</td><td>21</td><td>2008</td></tr>",
                            "<tr><td>Beverages</td><td>4</td><td>2008</td></tr>",
                            "<tr><td>Seafood</td><td>25</td><td>2008</td></tr>",
                            "<tr><td>Seafood</td><td>50</td><td>2008</td></tr>",
                            "<tr><td>Seafood</td><td>30</td><td>2008</td></tr>",
                            "<tr><td>Dairy Products</td><td>15</td><td>2008</td></tr>",
                            "<tr><td>Confections</td><td>6</td><td>2008</td></tr>",
                            "<tr><td>Beverages</td><td>10</td><td>2008</td></tr>",
                            "<tr><td>Seafood</td><td>16</td><td>2008</td></tr>",
                            "<tr><td>Grains/Cereals</td><td>30</td><td>2008</td></tr>",
                            "<tr><td>Dairy Products</td><td>50</td><td>2008</td></tr>",
                            "<tr><td>Condiments</td><td>15</td><td>2008</td></tr>",
                            "<tr><td>Dairy Products</td><td>15</td><td>2008</td></tr>",
                            "<tr><td>Beverages</td><td>5</td><td>2008</td></tr>",
                            "<tr><td>Confections</td><td>20</td><td>2008</td></tr>",
                            "<tr><td>Beverages</td><td>12</td><td>2008</td></tr>",
                            "<tr><td>Produce</td><td>4</td><td>2008</td></tr>",
                            "<tr><td>Grains/Cereals</td><td>35</td><td>2008</td></tr>",
                            "<tr><td>Grains/Cereals</td><td>70</td><td>2008</td></tr>",
                            "<tr><td>Beverages</td><td>25</td><td>2008</td></tr>",
                            "<tr><td>Grains/Cereals</td><td>42</td><td>2008</td></tr>",
                            "<tr><td>Seafood</td><td>60</td><td>2008</td></tr>",
                            "<tr><td>Grains/Cereals</td><td>48</td><td>2008</td></tr>",
                            "<tr><td>Condiments</td><td>21</td><td>2008</td></tr>",
                            "<tr><td>Beverages</td><td>30</td><td>2008</td></tr>",
                            "<tr><td>Produce</td><td>20</td><td>2008</td></tr>",
                            "<tr><td>Beverages</td><td>80</td><td>2008</td></tr>",
                            "<tr><td>Confections</td><td>12</td><td>2008</td></tr>",
                            "<tr><td>Seafood</td><td>60</td><td>2008</td></tr>",
                            "<tr><td>Seafood</td><td>36</td><td>2008</td></tr>",
                            "<tr><td>Dairy Products</td><td>45</td><td>2008</td></tr>",
                            "<tr><td>Dairy Products</td><td>55</td><td>2008</td></tr>",
                            "<tr><td>Condiments</td><td>30</td><td>2008</td></tr>",
                            "<tr><td>Meat/Poultry</td><td>3</td><td>2008</td></tr>",
                            "<tr><td>Condiments</td><td>49</td><td>2008</td></tr>",
                            "<tr><td>Confections</td><td>18</td><td>2008</td></tr>",
                            "<tr><td>Confections</td><td>20</td><td>2008</td></tr>",
                            "<tr><td>Dairy Products</td><td>4</td><td>2008</td></tr>",
                            "<tr><td>Beverages</td><td>30</td><td>2008</td></tr>",
                            "<tr><td>Beverages</td><td>5</td><td>2008</td></tr>",
                            "<tr><td>Confections</td><td>10</td><td>2008</td></tr>",
                            "<tr><td>Grains/Cereals</td><td>10</td><td>2008</td></tr>",
                            "<tr><td>Dairy Products</td><td>42</td><td>2008</td></tr>",
                            "<tr><td>Beverages</td><td>15</td><td>2008</td></tr>",
                            "<tr><td>Meat/Poultry</td><td>6</td><td>2008</td></tr>",
                            "<tr><td>Confections</td><td>50</td><td>2008</td></tr>",
                            "<tr><td>Seafood</td><td>10</td><td>2008</td></tr>",
                            "<tr><td>Seafood</td><td>100</td><td>2008</td></tr>",
                            "<tr><td>Seafood</td><td>65</td><td>2008</td></tr>",
                            "<tr><td>Confections</td><td>50</td><td>2008</td></tr>",
                            "<tr><td>Dairy Products</td><td>14</td><td>2008</td></tr>",
                            "<tr><td>Grains/Cereals</td><td>24</td><td>2008</td></tr>",
                            "<tr><td>Condiments</td><td>15</td><td>2008</td></tr>",
                            "<tr><td>Beverages</td><td>20</td><td>2008</td></tr>",
                            "<tr><td>Grains/Cereals</td><td>20</td><td>2008</td></tr>",
                            "<tr><td>Condiments</td><td>30</td><td>2008</td></tr>",
                            "<tr><td>Confections</td><td>35</td><td>2008</td></tr>",
                            "<tr><td>Meat/Poultry</td><td>10</td><td>2008</td></tr>",
                            "<tr><td>Produce</td><td>5</td><td>2008</td></tr>",
                            "<tr><td>Confections</td><td>10</td><td>2008</td></tr>",
                            "<tr><td>Beverages</td><td>4</td><td>2008</td></tr>",
                            "<tr><td>Beverages</td><td>40</td><td>2008</td></tr>",
                            "<tr><td>Meat/Poultry</td><td>35</td><td>2008</td></tr>",
                            "<tr><td>Grains/Cereals</td><td>30</td><td>2008</td></tr>",
                            "<tr><td>Produce</td><td>3</td><td>2008</td></tr>",
                            "<tr><td>Beverages</td><td>20</td><td>2008</td></tr>",
                            "<tr><td>Meat/Poultry</td><td>42</td><td>2008</td></tr>",
                            "<tr><td>Seafood</td><td>20</td><td>2008</td></tr>",
                            "<tr><td>Confections</td><td>40</td><td>2008</td></tr>",
                            "<tr><td>Dairy Products</td><td>35</td><td>2008</td></tr>",
                            "<tr><td>Confections</td><td>3</td><td>2008</td></tr>",
                            "<tr><td>Dairy Products</td><td>25</td><td>2008</td></tr>",
                            "<tr><td>Grains/Cereals</td><td>8</td><td>2008</td></tr>",
                            "<tr><td>Beverages</td><td>20</td><td>2008</td></tr>",
                            "<tr><td>Seafood</td><td>12</td><td>2008</td></tr>",
                            "<tr><td>Beverages</td><td>4</td><td>2008</td></tr>",
                            "<tr><td>Beverages</td><td>15</td><td>2008</td></tr>",
                            "<tr><td>Beverages</td><td>60</td><td>2008</td></tr>",
                            "<tr><td>Beverages</td><td>80</td><td>2008</td></tr>",
                            "<tr><td>Beverages</td><td>21</td><td>2008</td></tr>",
                            "<tr><td>Beverages</td><td>6</td><td>2008</td></tr>",
                            "<tr><td>Seafood</td><td>40</td><td>2008</td></tr>",
                            "<tr><td>Meat/Poultry</td><td>3</td><td>2008</td></tr>",
                            "<tr><td>Confections</td><td>20</td><td>2008</td></tr>",
                            "<tr><td>Beverages</td><td>30</td><td>2008</td></tr>",
                            "<tr><td>Confections</td><td>42</td><td>2008</td></tr>",
                            "<tr><td>Beverages</td><td>40</td><td>2008</td></tr>",
                            "<tr><td>Dairy Products</td><td>10</td><td>2008</td></tr>",
                            "<tr><td>Grains/Cereals</td><td>50</td><td>2008</td></tr>",
                            "<tr><td>Confections</td><td>20</td><td>2008</td></tr>",
                            "<tr><td>Beverages</td><td>3</td><td>2008</td></tr>",
                            "<tr><td>Produce</td><td>2</td><td>2008</td></tr>",
                            "<tr><td>Condiments</td><td>50</td><td>2008</td></tr>",
                            "<tr><td>Confections</td><td>12</td><td>2008</td></tr>",
                            "<tr><td>Meat/Poultry</td><td>16</td><td>2008</td></tr>",
                            "<tr><td>Meat/Poultry</td><td>10</td><td>2008</td></tr>",
                            "<tr><td>Confections</td><td>20</td><td>2008</td></tr>",
                            "<tr><td>Grains/Cereals</td><td>15</td><td>2008</td></tr>",
                            "<tr><td>Condiments</td><td>21</td><td>2008</td></tr>",
                            "<tr><td>Confections</td><td>20</td><td>2008</td></tr>",
                            "<tr><td>Produce</td><td>3</td><td>2008</td></tr>",
                            "<tr><td>Seafood</td><td>10</td><td>2008</td></tr>",
                            "<tr><td>Confections</td><td>25</td><td>2008</td></tr>",
                            "<tr><td>Confections</td><td>21</td><td>2008</td></tr>",
                            "<tr><td>Confections</td><td>15</td><td>2008</td></tr>",
                            "<tr><td>Seafood</td><td>21</td><td>2008</td></tr>",
                            "<tr><td>Grains/Cereals</td><td>20</td><td>2008</td></tr>",
                            "<tr><td>Confections</td><td>30</td><td>2008</td></tr>",
                            "<tr><td>Seafood</td><td>25</td><td>2008</td></tr>",
                            "<tr><td>Confections</td><td>20</td><td>2008</td></tr>",
                            "<tr><td>Seafood</td><td>12</td><td>2008</td></tr>",
                            "<tr><td>Condiments</td><td>10</td><td>2008</td></tr>",
                            "<tr><td>Beverages</td><td>10</td><td>2008</td></tr>",
                            "<tr><td>Grains/Cereals</td><td>30</td><td>2008</td></tr>",
                            "<tr><td>Condiments</td><td>30</td><td>2008</td></tr>",
                            "<tr><td>Beverages</td><td>50</td><td>2008</td></tr>",
                            "<tr><td>Seafood</td><td>10</td><td>2008</td></tr>",
                            "<tr><td>Grains/Cereals</td><td>25</td><td>2008</td></tr>",
                            "<tr><td>Confections</td><td>20</td><td>2008</td></tr>",
                            "<tr><td>Meat/Poultry</td><td>32</td><td>2008</td></tr>",
                            "<tr><td>Beverages</td><td>8</td><td>2008</td></tr>",
                            "<tr><td>Confections</td><td>40</td><td>2008</td></tr>",
                            "<tr><td>Grains/Cereals</td><td>21</td><td>2008</td></tr>",
                            "<tr><td>Condiments</td><td>12</td><td>2008</td></tr>",
                            "<tr><td>Beverages</td><td>20</td><td>2008</td></tr>",
                            "<tr><td>Beverages</td><td>12</td><td>2008</td></tr>",
                            "<tr><td>Beverages</td><td>30</td><td>2008</td></tr>",
                            "<tr><td>Condiments</td><td>25</td><td>2008</td></tr>",
                            "<tr><td>Seafood</td><td>70</td><td>2008</td></tr>",
                            "<tr><td>Dairy Products</td><td>35</td><td>2008</td></tr>",
                            "<tr><td>Condiments</td><td>40</td><td>2008</td></tr>",
                            "<tr><td>Confections</td><td>5</td><td>2008</td></tr>",
                            "<tr><td>Beverages</td><td>20</td><td>2008</td></tr>",
                            "<tr><td>Confections</td><td>18</td><td>2008</td></tr>",
                            "<tr><td>Dairy Products</td><td>40</td><td>2008</td></tr>",
                            "<tr><td>Beverages</td><td>40</td><td>2008</td></tr>",
                            "<tr><td>Meat/Poultry</td><td>15</td><td>2008</td></tr>",
                            "<tr><td>Beverages</td><td>10</td><td>2008</td></tr>",
                            "<tr><td>Seafood</td><td>14</td><td>2008</td></tr>",
                            "<tr><td>Seafood</td><td>15</td><td>2008</td></tr>",
                            "<tr><td>Dairy Products</td><td>40</td><td>2008</td></tr>",
                            "<tr><td>Condiments</td><td>30</td><td>2008</td></tr>",
                            "<tr><td>Beverages</td><td>10</td><td>2008</td></tr>",
                            "<tr><td>Meat/Poultry</td><td>24</td><td>2008</td></tr>",
                            "<tr><td>Seafood</td><td>35</td><td>2008</td></tr>",
                            "<tr><td>Seafood</td><td>20</td><td>2008</td></tr>",
                            "<tr><td>Seafood</td><td>28</td><td>2008</td></tr>",
                            "<tr><td>Dairy Products</td><td>50</td><td>2008</td></tr>",
                            "<tr><td>Beverages</td><td>120</td><td>2008</td></tr>",
                            "<tr><td>Beverages</td><td>110</td><td>2008</td></tr>",
                            "<tr><td>Beverages</td><td>45</td><td>2008</td></tr>",
                            "<tr><td>Seafood</td><td>91</td><td>2008</td></tr>",
                            "<tr><td>Dairy Products</td><td>100</td><td>2008</td></tr>",
                            "<tr><td>Seafood</td><td>15</td><td>2008</td></tr>",
                            "<tr><td>Grains/Cereals</td><td>16</td><td>2008</td></tr>",
                            "<tr><td>Meat/Poultry</td><td>80</td><td>2008</td></tr>",
                            "<tr><td>Seafood</td><td>36</td><td>2008</td></tr>",
                            "<tr><td>Seafood</td><td>5</td><td>2008</td></tr>",
                            "<tr><td>Beverages</td><td>8</td><td>2008</td></tr>",
                            "<tr><td>Beverages</td><td>3</td><td>2008</td></tr>",
                            "<tr><td>Seafood</td><td>30</td><td>2008</td></tr>",
                            "<tr><td>Dairy Products</td><td>30</td><td>2008</td></tr>",
                            "<tr><td>Meat/Poultry</td><td>30</td><td>2008</td></tr>",
                            "<tr><td>Confections</td><td>6</td><td>2008</td></tr>",
                            "<tr><td>Seafood</td><td>40</td><td>2008</td></tr>",
                            "<tr><td>Condiments</td><td>21</td><td>2008</td></tr>",
                            "<tr><td>Confections</td><td>20</td><td>2008</td></tr>",
                            "<tr><td>Seafood</td><td>15</td><td>2008</td></tr>",
                            "<tr><td>Confections</td><td>35</td><td>2008</td></tr>",
                            "<tr><td>Beverages</td><td>20</td><td>2008</td></tr>",
                            "<tr><td>Condiments</td><td>15</td><td>2008</td></tr>",
                            "<tr><td>Beverages</td><td>14</td><td>2008</td></tr>",
                            "<tr><td>Produce</td><td>20</td><td>2008</td></tr>",
                            "<tr><td>Grains/Cereals</td><td>14</td><td>2008</td></tr>",
                            "<tr><td>Produce</td><td>12</td><td>2008</td></tr>",
                            "<tr><td>Confections</td><td>15</td><td>2008</td></tr>",
                            "<tr><td>Seafood</td><td>5</td><td>2008</td></tr>",
                            "<tr><td>Confections</td><td>12</td><td>2008</td></tr>",
                            "<tr><td>Confections</td><td>10</td><td>2008</td></tr>",
                            "<tr><td>Condiments</td><td>5</td><td>2008</td></tr>",
                            "<tr><td>Beverages</td><td>10</td><td>2008</td></tr>",
                            "<tr><td>Meat/Poultry</td><td>12</td><td>2008</td></tr>",
                            "<tr><td>Beverages</td><td>15</td><td>2008</td></tr>",
                            "<tr><td>Dairy Products</td><td>40</td><td>2008</td></tr>",
                            "<tr><td>Meat/Poultry</td><td>60</td><td>2008</td></tr>",
                            "<tr><td>Condiments</td><td>30</td><td>2008</td></tr>",
                            "<tr><td>Dairy Products</td><td>40</td><td>2008</td></tr>",
                            "<tr><td>Seafood</td><td>15</td><td>2008</td></tr>",
                            "<tr><td>Dairy Products</td><td>25</td><td>2008</td></tr>",
                            "<tr><td>Meat/Poultry</td><td>10</td><td>2008</td></tr>",
                            "<tr><td>Dairy Products</td><td>30</td><td>2008</td></tr>",
                            "<tr><td>Meat/Poultry</td><td>10</td><td>2008</td></tr>",
                            "<tr><td>Confections</td><td>6</td><td>2008</td></tr>",
                            "<tr><td>Dairy Products</td><td>6</td><td>2008</td></tr>",
                            "<tr><td>Grains/Cereals</td><td>20</td><td>2008</td></tr>",
                            "<tr><td>Seafood</td><td>1</td><td>2008</td></tr>",
                            "<tr><td>Dairy Products</td><td>10</td><td>2008</td></tr>",
                            "<tr><td>Beverages</td><td>60</td><td>2008</td></tr>",
                            "<tr><td>Dairy Products</td><td>25</td><td>2008</td></tr>",
                            "<tr><td>Confections</td><td>24</td><td>2008</td></tr>",
                            "<tr><td>Confections</td><td>24</td><td>2008</td></tr>",
                            "<tr><td>Seafood</td><td>20</td><td>2008</td></tr>",
                            "<tr><td>Confections</td><td>24</td><td>2008</td></tr>",
                            "<tr><td>Beverages</td><td>10</td><td>2008</td></tr>",
                            "<tr><td>Condiments</td><td>40</td><td>2008</td></tr>",
                            "<tr><td>Meat/Poultry</td><td>15</td><td>2008</td></tr>",
                            "<tr><td>Beverages</td><td>35</td><td>2008</td></tr>",
                            "<tr><td>Grains/Cereals</td><td>10</td><td>2008</td></tr>",
                            "<tr><td>Beverages</td><td>10</td><td>2008</td></tr>",
                            "<tr><td>Beverages</td><td>24</td><td>2008</td></tr>",
                            "<tr><td>Seafood</td><td>20</td><td>2008</td></tr>",
                            "<tr><td>Produce</td><td>30</td><td>2008</td></tr>",
                            "<tr><td>Beverages</td><td>6</td><td>2008</td></tr>",
                            "<tr><td>Seafood</td><td>25</td><td>2008</td></tr>",
                            "<tr><td>Grains/Cereals</td><td>12</td><td>2008</td></tr>",
                            "<tr><td>Dairy Products</td><td>2</td><td>2008</td></tr>",
                            "<tr><td>Seafood</td><td>10</td><td>2008</td></tr>",
                            "<tr><td>Confections</td><td>7</td><td>2008</td></tr>",
                            "<tr><td>Dairy Products</td><td>10</td><td>2008</td></tr>",
                            "<tr><td>Confections</td><td>5</td><td>2008</td></tr>",
                            "<tr><td>Grains/Cereals</td><td>5</td><td>2008</td></tr>",
                            "<tr><td>Beverages</td><td>20</td><td>2008</td></tr>",
                            "<tr><td>Confections</td><td>5</td><td>2008</td></tr>",
                            "<tr><td>Beverages</td><td>5</td><td>2008</td></tr>",
                            "<tr><td>Confections</td><td>60</td><td>2008</td></tr>",
                            "<tr><td>Beverages</td><td>49</td><td>2008</td></tr>",
                            "<tr><td>Condiments</td><td>15</td><td>2008</td></tr>",
                            "<tr><td>Confections</td><td>36</td><td>2008</td></tr>",
                            "<tr><td>Confections</td><td>25</td><td>2008</td></tr>",
                            "<tr><td>Meat/Poultry</td><td>25</td><td>2008</td></tr>",
                            "<tr><td>Seafood</td><td>30</td><td>2008</td></tr>",
                            "<tr><td>Seafood</td><td>42</td><td>2008</td></tr>",
                            "<tr><td>Grains/Cereals</td><td>30</td><td>2008</td></tr>",
                            "<tr><td>Confections</td><td>30</td><td>2008</td></tr>",
                            "<tr><td>Confections</td><td>14</td><td>2008</td></tr>",
                            "<tr><td>Dairy Products</td><td>16</td><td>2008</td></tr>",
                            "<tr><td>Beverages</td><td>20</td><td>2008</td></tr>",
                            "<tr><td>Meat/Poultry</td><td>2</td><td>2008</td></tr>",
                            "<tr><td>Condiments</td><td>30</td><td>2008</td></tr>",
                            "<tr><td>Condiments</td><td>20</td><td>2008</td></tr>",
                            "<tr><td>Beverages</td><td>21</td><td>2008</td></tr>",
                            "<tr><td>Seafood</td><td>4</td><td>2008</td></tr>",
                            "<tr><td>Grains/Cereals</td><td>8</td><td>2008</td></tr>",
                            "<tr><td>Seafood</td><td>30</td><td>2008</td></tr>",
                            "<tr><td>Produce</td><td>8</td><td>2008</td></tr>",
                            "<tr><td>Beverages</td><td>20</td><td>2008</td></tr>",
                            "<tr><td>Seafood</td><td>20</td><td>2008</td></tr>",
                            "<tr><td>Beverages</td><td>24</td><td>2008</td></tr>",
                            "<tr><td>Dairy Products</td><td>49</td><td>2008</td></tr>",
                            "<tr><td>Dairy Products</td><td>35</td><td>2008</td></tr>",
                            "<tr><td>Beverages</td><td>10</td><td>2008</td></tr>",
                            "<tr><td>Beverages</td><td>40</td><td>2008</td></tr>",
                            "<tr><td>Produce</td><td>8</td><td>2008</td></tr>",
                            "<tr><td>Seafood</td><td>20</td><td>2008</td></tr>",
                            "<tr><td>Dairy Products</td><td>44</td><td>2008</td></tr>",
                            "<tr><td>Confections</td><td>30</td><td>2008</td></tr>",
                            "<tr><td>Confections</td><td>80</td><td>2008</td></tr>",
                            "<tr><td>Dairy Products</td><td>50</td><td>2008</td></tr>",
                            "<tr><td>Confections</td><td>28</td><td>2008</td></tr>",
                            "<tr><td>Seafood</td><td>15</td><td>2008</td></tr>",
                            "<tr><td>Grains/Cereals</td><td>21</td><td>2008</td></tr>",
                            "<tr><td>Seafood</td><td>15</td><td>2008</td></tr>",
                            "<tr><td>Dairy Products</td><td>5</td><td>2008</td></tr>",
                            "<tr><td>Condiments</td><td>18</td><td>2008</td></tr>",
                            "<tr><td>Grains/Cereals</td><td>18</td><td>2008</td></tr>",
                            "<tr><td>Seafood</td><td>20</td><td>2008</td></tr>",
                            "<tr><td>Dairy Products</td><td>10</td><td>2008</td></tr>",
                            "<tr><td>Seafood</td><td>25</td><td>2008</td></tr>",
                            "<tr><td>Beverages</td><td>25</td><td>2008</td></tr>",
                            "<tr><td>Condiments</td><td>40</td><td>2008</td></tr>",
                            "<tr><td>Dairy Products</td><td>4</td><td>2008</td></tr>",
                            "<tr><td>Confections</td><td>9</td><td>2008</td></tr>",
                            "<tr><td>Produce</td><td>40</td><td>2008</td></tr>",
                            "<tr><td>Meat/Poultry</td><td>4</td><td>2008</td></tr>",
                            "<tr><td>Condiments</td><td>12</td><td>2008</td></tr>",
                            "<tr><td>Seafood</td><td>30</td><td>2008</td></tr>",
                            "<tr><td>Meat/Poultry</td><td>6</td><td>2008</td></tr>",
                            "<tr><td>Confections</td><td>60</td><td>2008</td></tr>",
                            "<tr><td>Condiments</td><td>5</td><td>2008</td></tr>",
                            "<tr><td>Dairy Products</td><td>15</td><td>2008</td></tr>",
                            "<tr><td>Seafood</td><td>6</td><td>2008</td></tr>",
                            "<tr><td>Beverages</td><td>50</td><td>2008</td></tr>",
                            "<tr><td>Condiments</td><td>16</td><td>2008</td></tr>",
                            "<tr><td>Produce</td><td>2</td><td>2008</td></tr>",
                            "<tr><td>Confections</td><td>50</td><td>2008</td></tr>",
                            "<tr><td>Dairy Products</td><td>50</td><td>2008</td></tr>",
                            "<tr><td>Confections</td><td>28</td><td>2008</td></tr>",
                            "<tr><td>Dairy Products</td><td>25</td><td>2008</td></tr>",
                            "<tr><td>Seafood</td><td>30</td><td>2008</td></tr>",
                            "<tr><td>Dairy Products</td><td>24</td><td>2008</td></tr>",
                            "<tr><td>Beverages</td><td>12</td><td>2008</td></tr>",
                            "<tr><td>Confections</td><td>12</td><td>2008</td></tr>",
                            "<tr><td>Confections</td><td>14</td><td>2008</td></tr>",
                            "<tr><td>Produce</td><td>8</td><td>2008</td></tr>",
                            "<tr><td>Seafood</td><td>30</td><td>2008</td></tr>",
                            "<tr><td>Beverages</td><td>40</td><td>2008</td></tr>",
                            "<tr><td>Grains/Cereals</td><td>8</td><td>2008</td></tr>",
                            "<tr><td>Condiments</td><td>20</td><td>2008</td></tr>",
                            "<tr><td>Produce</td><td>6</td><td>2008</td></tr>",
                            "<tr><td>Dairy Products</td><td>5</td><td>2008</td></tr>",
                            "<tr><td>Beverages</td><td>20</td><td>2008</td></tr>",
                            "<tr><td>Beverages</td><td>10</td><td>2008</td></tr>",
                            "<tr><td>Seafood</td><td>24</td><td>2008</td></tr>",
                            "<tr><td>Grains/Cereals</td><td>6</td><td>2008</td></tr>",
                            "<tr><td>Beverages</td><td>60</td><td>2008</td></tr>",
                            "<tr><td>Produce</td><td>45</td><td>2008</td></tr>",
                            "<tr><td>Seafood</td><td>77</td><td>2008</td></tr>",
                            "<tr><td>Meat/Poultry</td><td>20</td><td>2008</td></tr>",
                            "<tr><td>Dairy Products</td><td>9</td><td>2008</td></tr>",
                            "<tr><td>Beverages</td><td>44</td><td>2008</td></tr>",
                            "<tr><td>Dairy Products</td><td>2</td><td>2008</td></tr>",
                            "<tr><td>Seafood</td><td>6</td><td>2008</td></tr>",
                            "<tr><td>Beverages</td><td>5</td><td>2008</td></tr>",
                            "<tr><td>Dairy Products</td><td>10</td><td>2008</td></tr>",
                            "<tr><td>Produce</td><td>16</td><td>2008</td></tr>",
                            "<tr><td>Seafood</td><td>8</td><td>2008</td></tr>",
                            "<tr><td>Grains/Cereals</td><td>12</td><td>2008</td></tr>",
                            "<tr><td>Confections</td><td>12</td><td>2008</td></tr>",
                            "<tr><td>Confections</td><td>12</td><td>2008</td></tr>",
                            "<tr><td>Confections</td><td>40</td><td>2008</td></tr>",
                            "<tr><td>Dairy Products</td><td>30</td><td>2008</td></tr>",
                            "<tr><td>Beverages</td><td>30</td><td>2008</td></tr>",
                            "<tr><td>Grains/Cereals</td><td>4</td><td>2008</td></tr>",
                            "<tr><td>Seafood</td><td>9</td><td>2008</td></tr>",
                            "<tr><td>Grains/Cereals</td><td>40</td><td>2008</td></tr>",
                            "<tr><td>Meat/Poultry</td><td>14</td><td>2008</td></tr>",
                            "<tr><td>Meat/Poultry</td><td>6</td><td>2008</td></tr>",
                            "<tr><td>Dairy Products</td><td>7</td><td>2008</td></tr>",
                            "<tr><td>Confections</td><td>5</td><td>2008</td></tr>",
                            "<tr><td>Seafood</td><td>6</td><td>2008</td></tr>",
                            "<tr><td>Beverages</td><td>10</td><td>2008</td></tr>",
                            "<tr><td>Condiments</td><td>10</td><td>2008</td></tr>",
                            "<tr><td>Condiments</td><td>16</td><td>2008</td></tr>",
                            "<tr><td>Beverages</td><td>10</td><td>2008</td></tr>",
                            "<tr><td>Produce</td><td>20</td><td>2008</td></tr>",
                            "<tr><td>Beverages</td><td>30</td><td>2008</td></tr>",
                            "<tr><td>Confections</td><td>30</td><td>2008</td></tr>",
                            "<tr><td>Produce</td><td>10</td><td>2008</td></tr>",
                            "<tr><td>Condiments</td><td>20</td><td>2008</td></tr>",
                            "<tr><td>Condiments</td><td>20</td><td>2008</td></tr>",
                            "<tr><td>Confections</td><td>40</td><td>2008</td></tr>",
                            "<tr><td>Seafood</td><td>10</td><td>2008</td></tr>",
                            "<tr><td>Condiments</td><td>6</td><td>2008</td></tr>",
                            "<tr><td>Produce</td><td>18</td><td>2008</td></tr>",
                            "<tr><td>Dairy Products</td><td>20</td><td>2008</td></tr>",
                            "<tr><td>Beverages</td><td>80</td><td>2008</td></tr>",
                            "<tr><td>Confections</td><td>30</td><td>2008</td></tr>",
                            "<tr><td>Dairy Products</td><td>24</td><td>2008</td></tr>",
                            "<tr><td>Condiments</td><td>35</td><td>2008</td></tr>",
                            "<tr><td>Beverages</td><td>40</td><td>2008</td></tr>",
                            "<tr><td>Beverages</td><td>60</td><td>2008</td></tr>",
                            "<tr><td>Produce</td><td>20</td><td>2008</td></tr>",
                            "<tr><td>Beverages</td><td>9</td><td>2008</td></tr>",
                            "<tr><td>Seafood</td><td>84</td><td>2008</td></tr>",
                            "<tr><td>Grains/Cereals</td><td>15</td><td>2008</td></tr>",
                            "<tr><td>Confections</td><td>55</td><td>2008</td></tr>",
                            "<tr><td>Beverages</td><td>20</td><td>2008</td></tr>",
                            "<tr><td>Seafood</td><td>40</td><td>2008</td></tr>",
                            "<tr><td>Confections</td><td>36</td><td>2008</td></tr>",
                            "<tr><td>Seafood</td><td>8</td><td>2008</td></tr>",
                            "<tr><td>Dairy Products</td><td>35</td><td>2008</td></tr>",
                            "<tr><td>Dairy Products</td><td>30</td><td>2008</td></tr>",
                            "<tr><td>Confections</td><td>15</td><td>2008</td></tr>",
                            "<tr><td>Beverages</td><td>10</td><td>2008</td></tr>",
                            "<tr><td>Condiments</td><td>15</td><td>2008</td></tr>",
                            "<tr><td>Produce</td><td>60</td><td>2008</td></tr>",
                            "<tr><td>Beverages</td><td>6</td><td>2008</td></tr>",
                            "<tr><td>Dairy Products</td><td>20</td><td>2008</td></tr>",
                            "<tr><td>Produce</td><td>60</td><td>2008</td></tr>",
                            "<tr><td>Confections</td><td>40</td><td>2008</td></tr>",
                            "<tr><td>Condiments</td><td>40</td><td>2008</td></tr>",
                            "<tr><td>Dairy Products</td><td>15</td><td>2008</td></tr>",
                            "<tr><td>Seafood</td><td>4</td><td>2008</td></tr>",
                            "<tr><td>Confections</td><td>65</td><td>2008</td></tr>",
                            "<tr><td>Beverages</td><td>60</td><td>2008</td></tr>",
                            "<tr><td>Meat/Poultry</td><td>65</td><td>2008</td></tr>",
                            "<tr><td>Condiments</td><td>66</td><td>2008</td></tr>",
                            "<tr><td>Beverages</td><td>50</td><td>2008</td></tr>",
                            "<tr><td>Beverages</td><td>20</td><td>2008</td></tr>",
                            "<tr><td>Beverages</td><td>90</td><td>2008</td></tr>",
                            "<tr><td>Dairy Products</td><td>2</td><td>2008</td></tr>",
                            "<tr><td>Meat/Poultry</td><td>50</td><td>2008</td></tr>",
                            "<tr><td>Seafood</td><td>35</td><td>2008</td></tr>",
                            "<tr><td>Dairy Products</td><td>18</td><td>2008</td></tr>",
                            "<tr><td>Produce</td><td>20</td><td>2008</td></tr>",
                            "<tr><td>Dairy Products</td><td>4</td><td>2008</td></tr>",
                            "<tr><td>Grains/Cereals</td><td>40</td><td>2008</td></tr>",
                            "<tr><td>Dairy Products</td><td>50</td><td>2008</td></tr>",
                            "<tr><td>Seafood</td><td>20</td><td>2008</td></tr>",
                            "<tr><td>Grains/Cereals</td><td>20</td><td>2008</td></tr>",
                            "<tr><td>Beverages</td><td>12</td><td>2008</td></tr>",
                            "<tr><td>Condiments</td><td>7</td><td>2008</td></tr>",
                            "<tr><td>Produce</td><td>20</td><td>2008</td></tr>",
                            "<tr><td>Beverages</td><td>30</td><td>2008</td></tr>",
                            "<tr><td>Seafood</td><td>20</td><td>2008</td></tr>",
                            "<tr><td>Produce</td><td>15</td><td>2008</td></tr>",
                            "<tr><td>Condiments</td><td>21</td><td>2008</td></tr>",
                            "<tr><td>Condiments</td><td>25</td><td>2008</td></tr>",
                            "<tr><td>Beverages</td><td>30</td><td>2008</td></tr>",
                            "<tr><td>Condiments</td><td>30</td><td>2008</td></tr>",
                            "<tr><td>Produce</td><td>60</td><td>2008</td></tr>",
                            "<tr><td>Grains/Cereals</td><td>25</td><td>2008</td></tr>",
                            "<tr><td>Seafood</td><td>25</td><td>2008</td></tr>",
                            "<tr><td>Meat/Poultry</td><td>6</td><td>2008</td></tr>",
                            "<tr><td>Seafood</td><td>56</td><td>2008</td></tr>",
                            "<tr><td>Beverages</td><td>15</td><td>2008</td></tr>",
                            "<tr><td>Grains/Cereals</td><td>24</td><td>2008</td></tr>",
                            "<tr><td>Meat/Poultry</td><td>40</td><td>2008</td></tr>",
                            "<tr><td>Beverages</td><td>4</td><td>2008</td></tr>",
                            "<tr><td>Seafood</td><td>10</td><td>2008</td></tr>",
                            "<tr><td>Grains/Cereals</td><td>10</td><td>2008</td></tr>",
                            "<tr><td>Confections</td><td>6</td><td>2008</td></tr>",
                            "<tr><td>Beverages</td><td>6</td><td>2008</td></tr>",
                            "<tr><td>Beverages</td><td>2</td><td>2008</td></tr>",
                            "<tr><td>Dairy Products</td><td>10</td><td>2008</td></tr>",
                            "<tr><td>Beverages</td><td>8</td><td>2008</td></tr>",
                            "<tr><td>Meat/Poultry</td><td>2</td><td>2008</td></tr>",
                            "<tr><td>Condiments</td><td>30</td><td>2008</td></tr>",
                            "<tr><td>Meat/Poultry</td><td>10</td><td>2008</td></tr>",
                            "<tr><td>Grains/Cereals</td><td>14</td><td>2008</td></tr>",
                            "<tr><td>Produce</td><td>70</td><td>2008</td></tr>",
                            "<tr><td>Beverages</td><td>90</td><td>2008</td></tr>",
                            "<tr><td>Dairy Products</td><td>21</td><td>2008</td></tr>",
                            "<tr><td>Beverages</td><td>12</td><td>2008</td></tr>",
                            "<tr><td>Seafood</td><td>18</td><td>2008</td></tr>",
                            "<tr><td>Dairy Products</td><td>9</td><td>2008</td></tr>",
                            "<tr><td>Produce</td><td>20</td><td>2008</td></tr>",
                            "<tr><td>Beverages</td><td>10</td><td>2008</td></tr>",
                            "<tr><td>Seafood</td><td>40</td><td>2008</td></tr>",
                            "<tr><td>Dairy Products</td><td>20</td><td>2008</td></tr>",
                            "<tr><td>Confections</td><td>50</td><td>2008</td></tr>",
                            "<tr><td>Dairy Products</td><td>36</td><td>2008</td></tr>",
                            "<tr><td>Dairy Products</td><td>60</td><td>2008</td></tr>",
                            "<tr><td>Grains/Cereals</td><td>10</td><td>2008</td></tr>",
                            "<tr><td>Grains/Cereals</td><td>4</td><td>2008</td></tr>",
                            "<tr><td>Seafood</td><td>20</td><td>2008</td></tr>",
                            "<tr><td>Confections</td><td>2</td><td>2008</td></tr>",
                            "<tr><td>Seafood</td><td>28</td><td>2008</td></tr>",
                            "<tr><td>Seafood</td><td>15</td><td>2008</td></tr>",
                            "<tr><td>Condiments</td><td>18</td><td>2008</td></tr>",
                            "<tr><td>Dairy Products</td><td>15</td><td>2008</td></tr>",
                            "<tr><td>Seafood</td><td>16</td><td>2008</td></tr>",
                            "<tr><td>Condiments</td><td>25</td><td>2008</td></tr>",
                            "<tr><td>Dairy Products</td><td>110</td><td>2008</td></tr>",
                            "<tr><td>Beverages</td><td>30</td><td>2008</td></tr>",
                            "<tr><td>Dairy Products</td><td>20</td><td>2008</td></tr>",
                            "<tr><td>Seafood</td><td>10</td><td>2008</td></tr>",
                            "<tr><td>Grains/Cereals</td><td>5</td><td>2008</td></tr>",
                            "<tr><td>Seafood</td><td>3</td><td>2008</td></tr>",
                            "<tr><td>Confections</td><td>2</td><td>2008</td></tr>",
                            "<tr><td>Seafood</td><td>24</td><td>2008</td></tr>",
                            "<tr><td>Beverages</td><td>11</td><td>2008</td></tr>",
                            "<tr><td>Confections</td><td>15</td><td>2008</td></tr>",
                            "<tr><td>Confections</td><td>63</td><td>2008</td></tr>",
                            "<tr><td>Produce</td><td>44</td><td>2008</td></tr>",
                            "<tr><td>Dairy Products</td><td>35</td><td>2008</td></tr>",
                            "<tr><td>Confections</td><td>35</td><td>2008</td></tr>",
                            "<tr><td>Dairy Products</td><td>30</td><td>2008</td></tr>",
                            "<tr><td>Produce</td><td>4</td><td>2008</td></tr>",
                            "<tr><td>Beverages</td><td>30</td><td>2008</td></tr>",
                            "<tr><td>Confections</td><td>12</td><td>2008</td></tr>",
                            "<tr><td>Dairy Products</td><td>30</td><td>2008</td></tr>",
                            "<tr><td>Condiments</td><td>21</td><td>2008</td></tr>",
                            "<tr><td>Dairy Products</td><td>50</td><td>2008</td></tr>",
                            "<tr><td>Beverages</td><td>10</td><td>2008</td></tr>",
                            "<tr><td>Seafood</td><td>20</td><td>2008</td></tr>",
                            "<tr><td>Seafood</td><td>8</td><td>2008</td></tr>",
                            "<tr><td>Produce</td><td>10</td><td>2008</td></tr>",
                            "<tr><td>Beverages</td><td>30</td><td>2008</td></tr>",
                            "<tr><td>Confections</td><td>21</td><td>2008</td></tr>",
                            "<tr><td>Meat/Poultry</td><td>35</td><td>2008</td></tr>",
                            "<tr><td>Dairy Products</td><td>24</td><td>2008</td></tr>",
                            "<tr><td>Grains/Cereals</td><td>20</td><td>2008</td></tr>",
                            "<tr><td>Condiments</td><td>12</td><td>2008</td></tr>",
                            "<tr><td>Beverages</td><td>100</td><td>2008</td></tr>",
                            "<tr><td>Condiments</td><td>70</td><td>2008</td></tr>",
                            "<tr><td>Meat/Poultry</td><td>60</td><td>2008</td></tr>",
                            "<tr><td>Dairy Products</td><td>100</td><td>2008</td></tr>",
                            "<tr><td>Beverages</td><td>45</td><td>2008</td></tr>",
                            "<tr><td>Seafood</td><td>80</td><td>2008</td></tr>",
                            "<tr><td>Beverages</td><td>21</td><td>2008</td></tr>",
                            "<tr><td>Grains/Cereals</td><td>20</td><td>2008</td></tr>",
                            "<tr><td>Dairy Products</td><td>16</td><td>2008</td></tr>",
                            "<tr><td>Seafood</td><td>35</td><td>2008</td></tr>",
                            "<tr><td>Beverages</td><td>25</td><td>2008</td></tr>",
                            "<tr><td>Dairy Products</td><td>30</td><td>2008</td></tr>",
                            "<tr><td>Meat/Poultry</td><td>70</td><td>2008</td></tr>",
                            "<tr><td>Dairy Products</td><td>36</td><td>2008</td></tr>",
                            "<tr><td>Confections</td><td>15</td><td>2008</td></tr>",
                            "<tr><td>Condiments</td><td>12</td><td>2008</td></tr>",
                            "<tr><td>Condiments</td><td>6</td><td>2008</td></tr>",
                            "<tr><td>Beverages</td><td>10</td><td>2008</td></tr>",
                            "<tr><td>Beverages</td><td>60</td><td>2008</td></tr>",
                            "<tr><td>Grains/Cereals</td><td>30</td><td>2008</td></tr>",
                            "<tr><td>Meat/Poultry</td><td>10</td><td>2008</td></tr>",
                            "<tr><td>Seafood</td><td>7</td><td>2008</td></tr>",
                            "<tr><td>Dairy Products</td><td>30</td><td>2008</td></tr>",
                            "<tr><td>Beverages</td><td>4</td><td>2008</td></tr>",
                            "<tr><td>Seafood</td><td>5</td><td>2008</td></tr>",
                            "<tr><td>Grains/Cereals</td><td>2</td><td>2008</td></tr>",
                            "<tr><td>Dairy Products</td><td>30</td><td>2008</td></tr>",
                            "<tr><td>Produce</td><td>20</td><td>2008</td></tr>",
                            "<tr><td>Beverages</td><td>24</td><td>2008</td></tr>",
                            "<tr><td>Confections</td><td>60</td><td>2008</td></tr>",
                            "<tr><td>Grains/Cereals</td><td>28</td><td>2008</td></tr>",
                            "<tr><td>Confections</td><td>20</td><td>2008</td></tr>",
                            "<tr><td>Beverages</td><td>30</td><td>2008</td></tr>",
                            "<tr><td>Condiments</td><td>30</td><td>2008</td></tr>",
                            "<tr><td>Condiments</td><td>15</td><td>2008</td></tr>",
                            "<tr><td>Condiments</td><td>4</td><td>2008</td></tr>",
                            "<tr><td>Dairy Products</td><td>10</td><td>2008</td></tr>",
                            "<tr><td>Confections</td><td>12</td><td>2008</td></tr>",
                            "<tr><td>Dairy Products</td><td>15</td><td>2008</td></tr>",
                            "<tr><td>Produce</td><td>24</td><td>2008</td></tr>",
                            "<tr><td>Dairy Products</td><td>20</td><td>2008</td></tr>",
                            "<tr><td>Dairy Products</td><td>15</td><td>2008</td></tr>",
                            "<tr><td>Beverages</td><td>18</td><td>2008</td></tr>",
                            "<tr><td>Beverages</td><td>25</td><td>2008</td></tr>",
                            "<tr><td>Condiments</td><td>30</td><td>2008</td></tr>",
                            "<tr><td>Confections</td><td>42</td><td>2008</td></tr>",
                            "<tr><td>Beverages</td><td>10</td><td>2008</td></tr>",
                            "<tr><td>Dairy Products</td><td>4</td><td>2008</td></tr>",
                            "<tr><td>Beverages</td><td>50</td><td>2008</td></tr>",
                            "<tr><td>Beverages</td><td>10</td><td>2008</td></tr>",
                            "<tr><td>Beverages</td><td>30</td><td>2008</td></tr>",
                            "<tr><td>Condiments</td><td>10</td><td>2008</td></tr>",
                            "<tr><td>Seafood</td><td>35</td><td>2008</td></tr>",
                            "<tr><td>Dairy Products</td><td>20</td><td>2008</td></tr>",
                            "<tr><td>Grains/Cereals</td><td>25</td><td>2008</td></tr>",
                            "<tr><td>Dairy Products</td><td>10</td><td>2008</td></tr>",
                            "<tr><td>Beverages</td><td>20</td><td>2008</td></tr>",
                            "<tr><td>Beverages</td><td>15</td><td>2008</td></tr>",
                            "<tr><td>Confections</td><td>15</td><td>2008</td></tr>",
                            "<tr><td>Produce</td><td>20</td><td>2008</td></tr>",
                            "<tr><td>Grains/Cereals</td><td>20</td><td>2008</td></tr>",
                            "<tr><td>Produce</td><td>40</td><td>2008</td></tr>",
                            "<tr><td>Meat/Poultry</td><td>35</td><td>2008</td></tr>",
                            "<tr><td>Dairy Products</td><td>50</td><td>2008</td></tr>",
                            "<tr><td>Beverages</td><td>3</td><td>2008</td></tr>",
                            "<tr><td>Confections</td><td>3</td><td>2008</td></tr>",
                            "<tr><td>Dairy Products</td><td>21</td><td>2008</td></tr>",
                            "<tr><td>Condiments</td><td>4</td><td>2008</td></tr>",
                            "<tr><td>Seafood</td><td>30</td><td>2008</td></tr>",
                            "<tr><td>Meat/Poultry</td><td>12</td><td>2008</td></tr>",
                            "<tr><td>Dairy Products</td><td>35</td><td>2008</td></tr>",
                            "<tr><td>Dairy Products</td><td>4</td><td>2008</td></tr>",
                            "<tr><td>Condiments</td><td>10</td><td>2008</td></tr>",
                            "<tr><td>Dairy Products</td><td>15</td><td>2008</td></tr>",
                            "<tr><td>Meat/Poultry</td><td>10</td><td>2008</td></tr>",
                            "<tr><td>Beverages</td><td>12</td><td>2008</td></tr>",
                            "<tr><td>Beverages</td><td>30</td><td>2008</td></tr>",
                            "<tr><td>Seafood</td><td>40</td><td>2008</td></tr>",
                            "<tr><td>Seafood</td><td>30</td><td>2008</td></tr>",
                            "<tr><td>Meat/Poultry</td><td>77</td><td>2008</td></tr>",
                            "<tr><td>Seafood</td><td>12</td><td>2008</td></tr>",
                            "<tr><td>Meat/Poultry</td><td>25</td><td>2008</td></tr>",
                            "<tr><td>Meat/Poultry</td><td>4</td><td>2008</td></tr>",
                            "<tr><td>Confections</td><td>55</td><td>2008</td></tr>",
                            "<tr><td>Seafood</td><td>4</td><td>2008</td></tr>",
                            "<tr><td>Meat/Poultry</td><td>20</td><td>2008</td></tr>",
                            "<tr><td>Confections</td><td>3</td><td>2008</td></tr>",
                            "<tr><td>Confections</td><td>42</td><td>2008</td></tr>",
                            "<tr><td>Beverages</td><td>35</td><td>2008</td></tr>",
                            "<tr><td>Seafood</td><td>9</td><td>2008</td></tr>",
                            "<tr><td>Produce</td><td>8</td><td>2008</td></tr>",
                            "<tr><td>Beverages</td><td>36</td><td>2008</td></tr>",
                            "<tr><td>Condiments</td><td>28</td><td>2008</td></tr>",
                            "<tr><td>Beverages</td><td>20</td><td>2008</td></tr>",
                            "<tr><td>Beverages</td><td>40</td><td>2008</td></tr>",
                            "<tr><td>Beverages</td><td>20</td><td>2008</td></tr>",
                            "<tr><td>Confections</td><td>30</td><td>2008</td></tr>",
                            "<tr><td>Dairy Products</td><td>20</td><td>2008</td></tr>",
                            "<tr><td>Produce</td><td>15</td><td>2008</td></tr>",
                            "<tr><td>Seafood</td><td>10</td><td>2008</td></tr>",
                            "<tr><td>Beverages</td><td>8</td><td>2008</td></tr>",
                            "<tr><td>Seafood</td><td>40</td><td>2008</td></tr>",
                            "<tr><td>Confections</td><td>22</td><td>2008</td></tr>",
                            "<tr><td>Grains/Cereals</td><td>130</td><td>2008</td></tr>",
                            "<tr><td>Dairy Products</td><td>10</td><td>2008</td></tr>",
                            "<tr><td>Beverages</td><td>20</td><td>2008</td></tr>",
                            "<tr><td>Confections</td><td>14</td><td>2008</td></tr>",
                            "<tr><td>Beverages</td><td>10</td><td>2008</td></tr>",
                            "<tr><td>Seafood</td><td>30</td><td>2008</td></tr>",
                            "<tr><td>Beverages</td><td>2</td><td>2008</td></tr>",
                            "<tr><td>Condiments</td><td>20</td><td>2008</td></tr>",
                            "<tr><td>Produce</td><td>20</td><td>2008</td></tr>",
                            "<tr><td>Confections</td><td>10</td><td>2008</td></tr>",
                            "<tr><td>Beverages</td><td>24</td><td>2008</td></tr>",
                            "<tr><td>Condiments</td><td>4</td><td>2008</td></tr>",
                            "<tr><td>Condiments</td><td>1</td><td>2008</td></tr>",
                            "<tr><td>Condiments</td><td>1</td><td>2008</td></tr>",
                            "<tr><td>Produce</td><td>1</td><td>2008</td></tr>",
                            "<tr><td>Condiments</td><td>2</td><td>2008</td></tr>",
                            "<tr><td>Seafood</td><td>1</td><td>2008</td></tr>",
                            "<tr><td>Dairy Products</td><td>2</td><td>2008</td></tr>",
                            "<tr><td>Seafood</td><td>4</td><td>2008</td></tr>",
                            "<tr><td>Produce</td><td>1</td><td>2008</td></tr>",
                            "<tr><td>Confections</td><td>2</td><td>2008</td></tr>",
                            "<tr><td>Confections</td><td>1</td><td>2008</td></tr>",
                            "<tr><td>Grains/Cereals</td><td>2</td><td>2008</td></tr>",
                            "<tr><td>Dairy Products</td><td>1</td><td>2008</td></tr>",
                            "<tr><td>Beverages</td><td>2</td><td>2008</td></tr>",
                            "<tr><td>Seafood</td><td>3</td><td>2008</td></tr>",
                            "<tr><td>Seafood</td><td>3</td><td>2008</td></tr>",
                            "<tr><td>Grains/Cereals</td><td>2</td><td>2008</td></tr>",
                            "<tr><td>Meat/Poultry</td><td>2</td><td>2008</td></tr>",
                            "<tr><td>Dairy Products</td><td>2</td><td>2008</td></tr>",
                            "<tr><td>Grains/Cereals</td><td>2</td><td>2008</td></tr>",
                            "<tr><td>Condiments</td><td>1</td><td>2008</td></tr>",
                            "<tr><td>Seafood</td><td>2</td><td>2008</td></tr>",
                            "<tr><td>Beverages</td><td>4</td><td>2008</td></tr>",
                            "<tr><td>Condiments</td><td>2</td><td>2008</td></tr>",
                            "</table>"
                        ]
                    }
                }
            ],
            "execution_count": 3
        },
        {
            "cell_type": "markdown",
            "source": [
                "1.4. Utilizar PIVOT entre categorías y años de ordenes."
            ],
            "metadata": {
                "azdata_cell_guid": "be48ff3c-8596-42f1-a7c6-79c5b80a2291"
            }
        },
        {
            "cell_type": "code",
            "source": [
                "SELECT  Category, [2006],[2007],[2008]\r\n",
                "FROM    ( SELECT  Category, Qty, Orderyear FROM Sales.CategoryQtyYear) AS D \r\n",
                "    PIVOT(SUM(QTY) FOR orderyear IN ([2006],[2007],[2008])) AS pvt\r\n",
                "ORDER BY Category;"
            ],
            "metadata": {
                "azdata_cell_guid": "f1e20a64-237c-415d-8f3f-7e07f4bfd9ae"
            },
            "outputs": [
                {
                    "output_type": "display_data",
                    "data": {
                        "text/html": "(8 rows affected)"
                    },
                    "metadata": {}
                },
                {
                    "output_type": "display_data",
                    "data": {
                        "text/html": "Total execution time: 00:00:00.233"
                    },
                    "metadata": {}
                },
                {
                    "output_type": "execute_result",
                    "metadata": {},
                    "execution_count": 4,
                    "data": {
                        "application/vnd.dataresource+json": {
                            "schema": {
                                "fields": [
                                    {
                                        "name": "Category"
                                    },
                                    {
                                        "name": "2006"
                                    },
                                    {
                                        "name": "2007"
                                    },
                                    {
                                        "name": "2008"
                                    }
                                ]
                            },
                            "data": [
                                {
                                    "0": "Beverages",
                                    "1": "1842",
                                    "2": "3996",
                                    "3": "3694"
                                },
                                {
                                    "0": "Condiments",
                                    "1": "962",
                                    "2": "2895",
                                    "3": "1441"
                                },
                                {
                                    "0": "Confections",
                                    "1": "1357",
                                    "2": "4137",
                                    "3": "2412"
                                },
                                {
                                    "0": "Dairy Products",
                                    "1": "2086",
                                    "2": "4374",
                                    "3": "2689"
                                },
                                {
                                    "0": "Grains/Cereals",
                                    "1": "549",
                                    "2": "2636",
                                    "3": "1377"
                                },
                                {
                                    "0": "Meat/Poultry",
                                    "1": "950",
                                    "2": "2189",
                                    "3": "1060"
                                },
                                {
                                    "0": "Produce",
                                    "1": "549",
                                    "2": "1583",
                                    "3": "858"
                                },
                                {
                                    "0": "Seafood",
                                    "1": "1286",
                                    "2": "3679",
                                    "3": "2716"
                                }
                            ]
                        },
                        "text/html": [
                            "<table>",
                            "<tr><th>Category</th><th>2006</th><th>2007</th><th>2008</th></tr>",
                            "<tr><td>Beverages</td><td>1842</td><td>3996</td><td>3694</td></tr>",
                            "<tr><td>Condiments</td><td>962</td><td>2895</td><td>1441</td></tr>",
                            "<tr><td>Confections</td><td>1357</td><td>4137</td><td>2412</td></tr>",
                            "<tr><td>Dairy Products</td><td>2086</td><td>4374</td><td>2689</td></tr>",
                            "<tr><td>Grains/Cereals</td><td>549</td><td>2636</td><td>1377</td></tr>",
                            "<tr><td>Meat/Poultry</td><td>950</td><td>2189</td><td>1060</td></tr>",
                            "<tr><td>Produce</td><td>549</td><td>1583</td><td>858</td></tr>",
                            "<tr><td>Seafood</td><td>1286</td><td>3679</td><td>2716</td></tr>",
                            "</table>"
                        ]
                    }
                }
            ],
            "execution_count": 4
        },
        {
            "cell_type": "markdown",
            "source": [
                "1.5. Para utilizar UNPIVOT, crear una tabla con el resultado de la consulta con PIVOT anterior."
            ],
            "metadata": {
                "azdata_cell_guid": "f98b9e6e-407e-471a-8b4c-1a8d31fdae00"
            }
        },
        {
            "cell_type": "code",
            "source": [
                "CREATE TABLE [Sales].[PivotedCategorySales](\r\n",
                "\t[Category] [nvarchar](15) NOT NULL,\r\n",
                "\t[2006] [int] NULL,\r\n",
                "\t[2007] [int] NULL,\r\n",
                "\t[2008] [int] NULL);\r\n",
                "GO\r\n",
                "INSERT INTO Sales.PivotedCategorySales (Category, [2006],[2007],[2008])\r\n",
                "SELECT Category, [2006],[2007],[2008] \r\n",
                "FROM (SELECT  Category, Qty, Orderyear FROM Sales.CategoryQtyYear) AS D \r\n",
                "    PIVOT(SUM(QTY) FOR orderyear IN ([2006],[2007],[2008]))AS p\r\n",
                "GO"
            ],
            "metadata": {
                "azdata_cell_guid": "49ccb2ac-6c5e-431a-a1f2-7491290e65bb"
            },
            "outputs": [
                {
                    "output_type": "display_data",
                    "data": {
                        "text/html": "Commands completed successfully."
                    },
                    "metadata": {}
                },
                {
                    "output_type": "display_data",
                    "data": {
                        "text/html": "(8 rows affected)"
                    },
                    "metadata": {}
                },
                {
                    "output_type": "display_data",
                    "data": {
                        "text/html": "Total execution time: 00:00:00.359"
                    },
                    "metadata": {}
                }
            ],
            "execution_count": 5
        },
        {
            "cell_type": "markdown",
            "source": [
                "1.6. Probrar la tabla generada"
            ],
            "metadata": {
                "azdata_cell_guid": "8a5e162e-2637-4443-bd9b-ada391da96ec"
            }
        },
        {
            "cell_type": "code",
            "source": [
                "SELECT Category, [2006],[2007],[2008]\r\n",
                "FROM Sales.PivotedCategorySales;"
            ],
            "metadata": {
                "azdata_cell_guid": "f17f783a-2d14-4529-a54b-0b10080d4325"
            },
            "outputs": [
                {
                    "output_type": "display_data",
                    "data": {
                        "text/html": "(8 rows affected)"
                    },
                    "metadata": {}
                },
                {
                    "output_type": "display_data",
                    "data": {
                        "text/html": "Total execution time: 00:00:00.204"
                    },
                    "metadata": {}
                },
                {
                    "output_type": "execute_result",
                    "metadata": {},
                    "execution_count": 6,
                    "data": {
                        "application/vnd.dataresource+json": {
                            "schema": {
                                "fields": [
                                    {
                                        "name": "Category"
                                    },
                                    {
                                        "name": "2006"
                                    },
                                    {
                                        "name": "2007"
                                    },
                                    {
                                        "name": "2008"
                                    }
                                ]
                            },
                            "data": [
                                {
                                    "0": "Beverages",
                                    "1": "1842",
                                    "2": "3996",
                                    "3": "3694"
                                },
                                {
                                    "0": "Condiments",
                                    "1": "962",
                                    "2": "2895",
                                    "3": "1441"
                                },
                                {
                                    "0": "Confections",
                                    "1": "1357",
                                    "2": "4137",
                                    "3": "2412"
                                },
                                {
                                    "0": "Dairy Products",
                                    "1": "2086",
                                    "2": "4374",
                                    "3": "2689"
                                },
                                {
                                    "0": "Grains/Cereals",
                                    "1": "549",
                                    "2": "2636",
                                    "3": "1377"
                                },
                                {
                                    "0": "Meat/Poultry",
                                    "1": "950",
                                    "2": "2189",
                                    "3": "1060"
                                },
                                {
                                    "0": "Produce",
                                    "1": "549",
                                    "2": "1583",
                                    "3": "858"
                                },
                                {
                                    "0": "Seafood",
                                    "1": "1286",
                                    "2": "3679",
                                    "3": "2716"
                                }
                            ]
                        },
                        "text/html": [
                            "<table>",
                            "<tr><th>Category</th><th>2006</th><th>2007</th><th>2008</th></tr>",
                            "<tr><td>Beverages</td><td>1842</td><td>3996</td><td>3694</td></tr>",
                            "<tr><td>Condiments</td><td>962</td><td>2895</td><td>1441</td></tr>",
                            "<tr><td>Confections</td><td>1357</td><td>4137</td><td>2412</td></tr>",
                            "<tr><td>Dairy Products</td><td>2086</td><td>4374</td><td>2689</td></tr>",
                            "<tr><td>Grains/Cereals</td><td>549</td><td>2636</td><td>1377</td></tr>",
                            "<tr><td>Meat/Poultry</td><td>950</td><td>2189</td><td>1060</td></tr>",
                            "<tr><td>Produce</td><td>549</td><td>1583</td><td>858</td></tr>",
                            "<tr><td>Seafood</td><td>1286</td><td>3679</td><td>2716</td></tr>",
                            "</table>"
                        ]
                    }
                }
            ],
            "execution_count": 6
        },
        {
            "cell_type": "markdown",
            "source": [
                "1.7. Utilizar UNPIVOT."
            ],
            "metadata": {
                "azdata_cell_guid": "2e35011b-87c0-475f-8868-56052dc563c6"
            }
        },
        {
            "cell_type": "code",
            "source": [
                "SELECT category, qty, orderyear\r\n",
                "FROM Sales.PivotedCategorySales\r\n",
                "UNPIVOT(qty FOR orderyear IN([2006],[2007],[2008])) AS unpvt;"
            ],
            "metadata": {
                "azdata_cell_guid": "6383cab3-afeb-4806-bb18-82b01e953c36"
            },
            "outputs": [
                {
                    "output_type": "display_data",
                    "data": {
                        "text/html": "(24 rows affected)"
                    },
                    "metadata": {}
                },
                {
                    "output_type": "display_data",
                    "data": {
                        "text/html": "Total execution time: 00:00:00.213"
                    },
                    "metadata": {}
                },
                {
                    "output_type": "execute_result",
                    "metadata": {},
                    "execution_count": 7,
                    "data": {
                        "application/vnd.dataresource+json": {
                            "schema": {
                                "fields": [
                                    {
                                        "name": "category"
                                    },
                                    {
                                        "name": "qty"
                                    },
                                    {
                                        "name": "orderyear"
                                    }
                                ]
                            },
                            "data": [
                                {
                                    "0": "Beverages",
                                    "1": "1842",
                                    "2": "2006"
                                },
                                {
                                    "0": "Beverages",
                                    "1": "3996",
                                    "2": "2007"
                                },
                                {
                                    "0": "Beverages",
                                    "1": "3694",
                                    "2": "2008"
                                },
                                {
                                    "0": "Condiments",
                                    "1": "962",
                                    "2": "2006"
                                },
                                {
                                    "0": "Condiments",
                                    "1": "2895",
                                    "2": "2007"
                                },
                                {
                                    "0": "Condiments",
                                    "1": "1441",
                                    "2": "2008"
                                },
                                {
                                    "0": "Confections",
                                    "1": "1357",
                                    "2": "2006"
                                },
                                {
                                    "0": "Confections",
                                    "1": "4137",
                                    "2": "2007"
                                },
                                {
                                    "0": "Confections",
                                    "1": "2412",
                                    "2": "2008"
                                },
                                {
                                    "0": "Dairy Products",
                                    "1": "2086",
                                    "2": "2006"
                                },
                                {
                                    "0": "Dairy Products",
                                    "1": "4374",
                                    "2": "2007"
                                },
                                {
                                    "0": "Dairy Products",
                                    "1": "2689",
                                    "2": "2008"
                                },
                                {
                                    "0": "Grains/Cereals",
                                    "1": "549",
                                    "2": "2006"
                                },
                                {
                                    "0": "Grains/Cereals",
                                    "1": "2636",
                                    "2": "2007"
                                },
                                {
                                    "0": "Grains/Cereals",
                                    "1": "1377",
                                    "2": "2008"
                                },
                                {
                                    "0": "Meat/Poultry",
                                    "1": "950",
                                    "2": "2006"
                                },
                                {
                                    "0": "Meat/Poultry",
                                    "1": "2189",
                                    "2": "2007"
                                },
                                {
                                    "0": "Meat/Poultry",
                                    "1": "1060",
                                    "2": "2008"
                                },
                                {
                                    "0": "Produce",
                                    "1": "549",
                                    "2": "2006"
                                },
                                {
                                    "0": "Produce",
                                    "1": "1583",
                                    "2": "2007"
                                },
                                {
                                    "0": "Produce",
                                    "1": "858",
                                    "2": "2008"
                                },
                                {
                                    "0": "Seafood",
                                    "1": "1286",
                                    "2": "2006"
                                },
                                {
                                    "0": "Seafood",
                                    "1": "3679",
                                    "2": "2007"
                                },
                                {
                                    "0": "Seafood",
                                    "1": "2716",
                                    "2": "2008"
                                }
                            ]
                        },
                        "text/html": [
                            "<table>",
                            "<tr><th>category</th><th>qty</th><th>orderyear</th></tr>",
                            "<tr><td>Beverages</td><td>1842</td><td>2006</td></tr>",
                            "<tr><td>Beverages</td><td>3996</td><td>2007</td></tr>",
                            "<tr><td>Beverages</td><td>3694</td><td>2008</td></tr>",
                            "<tr><td>Condiments</td><td>962</td><td>2006</td></tr>",
                            "<tr><td>Condiments</td><td>2895</td><td>2007</td></tr>",
                            "<tr><td>Condiments</td><td>1441</td><td>2008</td></tr>",
                            "<tr><td>Confections</td><td>1357</td><td>2006</td></tr>",
                            "<tr><td>Confections</td><td>4137</td><td>2007</td></tr>",
                            "<tr><td>Confections</td><td>2412</td><td>2008</td></tr>",
                            "<tr><td>Dairy Products</td><td>2086</td><td>2006</td></tr>",
                            "<tr><td>Dairy Products</td><td>4374</td><td>2007</td></tr>",
                            "<tr><td>Dairy Products</td><td>2689</td><td>2008</td></tr>",
                            "<tr><td>Grains/Cereals</td><td>549</td><td>2006</td></tr>",
                            "<tr><td>Grains/Cereals</td><td>2636</td><td>2007</td></tr>",
                            "<tr><td>Grains/Cereals</td><td>1377</td><td>2008</td></tr>",
                            "<tr><td>Meat/Poultry</td><td>950</td><td>2006</td></tr>",
                            "<tr><td>Meat/Poultry</td><td>2189</td><td>2007</td></tr>",
                            "<tr><td>Meat/Poultry</td><td>1060</td><td>2008</td></tr>",
                            "<tr><td>Produce</td><td>549</td><td>2006</td></tr>",
                            "<tr><td>Produce</td><td>1583</td><td>2007</td></tr>",
                            "<tr><td>Produce</td><td>858</td><td>2008</td></tr>",
                            "<tr><td>Seafood</td><td>1286</td><td>2006</td></tr>",
                            "<tr><td>Seafood</td><td>3679</td><td>2007</td></tr>",
                            "<tr><td>Seafood</td><td>2716</td><td>2008</td></tr>",
                            "</table>"
                        ]
                    }
                }
            ],
            "execution_count": 7
        },
        {
            "cell_type": "markdown",
            "source": [
                "1.8. Limpiar los cambios realizados.\r\n",
                ""
            ],
            "metadata": {
                "azdata_cell_guid": "68069f88-6c64-4d07-a995-3644915fa1a1"
            }
        },
        {
            "cell_type": "code",
            "source": [
                "IF OBJECT_ID('Sales.CategoryQtyYear','V') IS NOT NULL DROP VIEW Sales.CategoryQtyYear\r\n",
                "IF OBJECT_ID('Sales.PivotedCategorySales') IS NOT NULL DROP TABLE Sales.PivotedCategorySales\r\n",
                "GO"
            ],
            "metadata": {
                "azdata_cell_guid": "9fe152af-4bcf-4768-9263-ce4dc5efeb62"
            },
            "outputs": [
                {
                    "output_type": "display_data",
                    "data": {
                        "text/html": "Commands completed successfully."
                    },
                    "metadata": {}
                },
                {
                    "output_type": "display_data",
                    "data": {
                        "text/html": "Total execution time: 00:00:00.163"
                    },
                    "metadata": {}
                }
            ],
            "execution_count": 8
        },
        {
            "cell_type": "markdown",
            "source": [
                "<h2>Parte 02. Trabajando con GROUPING SETS"
            ],
            "metadata": {
                "azdata_cell_guid": "9cb263c1-8042-4920-a154-dc27728b3a5c"
            }
        },
        {
            "cell_type": "markdown",
            "source": [
                "2.1. Ejecutar la siguiente vistas"
            ],
            "metadata": {
                "azdata_cell_guid": "f864dcd1-c4d6-4520-bdf4-017d3b53508f"
            }
        },
        {
            "cell_type": "code",
            "source": [
                "-- Step 2: Setup objects for demo\r\n",
                "IF OBJECT_ID('Sales.CategorySales','V') IS NOT NULL DROP VIEW Sales.CategorySales\r\n",
                "GO\r\n",
                "CREATE VIEW Sales.CategorySales\r\n",
                "AS\r\n",
                "SELECT  c.categoryname AS Category,\r\n",
                "        o.empid AS Emp,\r\n",
                "        o.custid AS Cust,\r\n",
                "        od.qty AS Qty,\r\n",
                "        YEAR(o.orderdate) AS Orderyear\r\n",
                "FROM    Production.Categories AS c\r\n",
                "        INNER JOIN Production.Products AS p ON c.categoryid=p.categoryid\r\n",
                "        INNER JOIN Sales.OrderDetails AS od ON p.productid=od.productid\r\n",
                "        INNER JOIN Sales.Orders AS o ON od.orderid=o.orderid\r\n",
                "WHERE c.categoryid IN (1,2,3) AND o.custid BETWEEN 1 AND 5; --limits results for slides\r\n",
                "GO"
            ],
            "metadata": {
                "azdata_cell_guid": "c2efaa17-cd0a-4cc7-b6fa-3fe26fda9dc5"
            },
            "outputs": [
                {
                    "output_type": "display_data",
                    "data": {
                        "text/html": "Commands completed successfully."
                    },
                    "metadata": {}
                },
                {
                    "output_type": "display_data",
                    "data": {
                        "text/html": "Commands completed successfully."
                    },
                    "metadata": {}
                },
                {
                    "output_type": "display_data",
                    "data": {
                        "text/html": "Total execution time: 00:00:00.519"
                    },
                    "metadata": {}
                }
            ],
            "execution_count": 9
        },
        {
            "cell_type": "markdown",
            "source": [
                "2.2. Elaborar una consulta sin utilizar GROUPING SETS."
            ],
            "metadata": {
                "azdata_cell_guid": "47151e89-7385-4816-a2d1-1739a3764ebb"
            }
        },
        {
            "cell_type": "code",
            "source": [
                "SELECT Category, NULL AS Cust, SUM(Qty) AS TotalQty\r\n",
                "FROM Sales.CategorySales\r\n",
                "GROUP BY category\r\n",
                "UNION ALL \r\n",
                "SELECT  NULL, Cust, SUM(Qty) AS TotalQty\r\n",
                "FROM Sales.CategorySales\r\n",
                "GROUP BY cust \r\n",
                "UNION ALL\r\n",
                "SELECT NULL, NULL, SUM(Qty) AS TotalQty\r\n",
                "FROM Sales.CategorySales;"
            ],
            "metadata": {
                "azdata_cell_guid": "66d1795a-e4fd-4ee4-aae0-ce7b6fb456a2"
            },
            "outputs": [
                {
                    "output_type": "display_data",
                    "data": {
                        "text/html": "(9 rows affected)"
                    },
                    "metadata": {}
                },
                {
                    "output_type": "display_data",
                    "data": {
                        "text/html": "Total execution time: 00:00:00.280"
                    },
                    "metadata": {}
                },
                {
                    "output_type": "execute_result",
                    "metadata": {},
                    "execution_count": 10,
                    "data": {
                        "application/vnd.dataresource+json": {
                            "schema": {
                                "fields": [
                                    {
                                        "name": "Category"
                                    },
                                    {
                                        "name": "Cust"
                                    },
                                    {
                                        "name": "TotalQty"
                                    }
                                ]
                            },
                            "data": [
                                {
                                    "0": "Beverages",
                                    "1": "NULL",
                                    "2": "513"
                                },
                                {
                                    "0": "Condiments",
                                    "1": "NULL",
                                    "2": "114"
                                },
                                {
                                    "0": "Confections",
                                    "1": "NULL",
                                    "2": "372"
                                },
                                {
                                    "0": "NULL",
                                    "1": "1",
                                    "2": "80"
                                },
                                {
                                    "0": "NULL",
                                    "1": "2",
                                    "2": "12"
                                },
                                {
                                    "0": "NULL",
                                    "1": "3",
                                    "2": "154"
                                },
                                {
                                    "0": "NULL",
                                    "1": "4",
                                    "2": "241"
                                },
                                {
                                    "0": "NULL",
                                    "1": "5",
                                    "2": "512"
                                },
                                {
                                    "0": "NULL",
                                    "1": "NULL",
                                    "2": "999"
                                }
                            ]
                        },
                        "text/html": [
                            "<table>",
                            "<tr><th>Category</th><th>Cust</th><th>TotalQty</th></tr>",
                            "<tr><td>Beverages</td><td>NULL</td><td>513</td></tr>",
                            "<tr><td>Condiments</td><td>NULL</td><td>114</td></tr>",
                            "<tr><td>Confections</td><td>NULL</td><td>372</td></tr>",
                            "<tr><td>NULL</td><td>1</td><td>80</td></tr>",
                            "<tr><td>NULL</td><td>2</td><td>12</td></tr>",
                            "<tr><td>NULL</td><td>3</td><td>154</td></tr>",
                            "<tr><td>NULL</td><td>4</td><td>241</td></tr>",
                            "<tr><td>NULL</td><td>5</td><td>512</td></tr>",
                            "<tr><td>NULL</td><td>NULL</td><td>999</td></tr>",
                            "</table>"
                        ]
                    }
                }
            ],
            "execution_count": 10
        },
        {
            "cell_type": "markdown",
            "source": [
                "2.3. Consultar con GROUPING SETS."
            ],
            "metadata": {
                "azdata_cell_guid": "a1283c0f-1080-4ffb-9486-d68e57398f17"
            }
        },
        {
            "cell_type": "code",
            "source": [
                "SELECT Category, Cust, SUM(Qty) AS TotalQty\r\n",
                "FROM Sales.CategorySales\r\n",
                "GROUP BY \r\n",
                "GROUPING SETS((Category),(Cust),())\r\n",
                "ORDER BY Category DESC, Cust desc;"
            ],
            "metadata": {
                "azdata_cell_guid": "3a476f8b-ecd9-41cb-a320-771961528680"
            },
            "outputs": [
                {
                    "output_type": "display_data",
                    "data": {
                        "text/html": "(9 rows affected)"
                    },
                    "metadata": {}
                },
                {
                    "output_type": "display_data",
                    "data": {
                        "text/html": "Total execution time: 00:00:00.281"
                    },
                    "metadata": {}
                },
                {
                    "output_type": "execute_result",
                    "metadata": {},
                    "execution_count": 13,
                    "data": {
                        "application/vnd.dataresource+json": {
                            "schema": {
                                "fields": [
                                    {
                                        "name": "Category"
                                    },
                                    {
                                        "name": "Cust"
                                    },
                                    {
                                        "name": "TotalQty"
                                    }
                                ]
                            },
                            "data": [
                                {
                                    "0": "Confections",
                                    "1": "NULL",
                                    "2": "372"
                                },
                                {
                                    "0": "Condiments",
                                    "1": "NULL",
                                    "2": "114"
                                },
                                {
                                    "0": "Beverages",
                                    "1": "NULL",
                                    "2": "513"
                                },
                                {
                                    "0": "NULL",
                                    "1": "5",
                                    "2": "512"
                                },
                                {
                                    "0": "NULL",
                                    "1": "4",
                                    "2": "241"
                                },
                                {
                                    "0": "NULL",
                                    "1": "3",
                                    "2": "154"
                                },
                                {
                                    "0": "NULL",
                                    "1": "2",
                                    "2": "12"
                                },
                                {
                                    "0": "NULL",
                                    "1": "1",
                                    "2": "80"
                                },
                                {
                                    "0": "NULL",
                                    "1": "NULL",
                                    "2": "999"
                                }
                            ]
                        },
                        "text/html": [
                            "<table>",
                            "<tr><th>Category</th><th>Cust</th><th>TotalQty</th></tr>",
                            "<tr><td>Confections</td><td>NULL</td><td>372</td></tr>",
                            "<tr><td>Condiments</td><td>NULL</td><td>114</td></tr>",
                            "<tr><td>Beverages</td><td>NULL</td><td>513</td></tr>",
                            "<tr><td>NULL</td><td>5</td><td>512</td></tr>",
                            "<tr><td>NULL</td><td>4</td><td>241</td></tr>",
                            "<tr><td>NULL</td><td>3</td><td>154</td></tr>",
                            "<tr><td>NULL</td><td>2</td><td>12</td></tr>",
                            "<tr><td>NULL</td><td>1</td><td>80</td></tr>",
                            "<tr><td>NULL</td><td>NULL</td><td>999</td></tr>",
                            "</table>"
                        ]
                    }
                }
            ],
            "execution_count": 13
        },
        {
            "cell_type": "markdown",
            "source": [
                "2.4. Consultar con CUBE."
            ],
            "metadata": {
                "azdata_cell_guid": "3e2c0b09-fe36-409e-bf45-6bd39908efc0"
            }
        },
        {
            "cell_type": "code",
            "source": [
                "SELECT Category, Cust, SUM(Qty) AS TotalQty\r\n",
                "FROM Sales.CategorySales\r\n",
                "GROUP BY CUBE(Category,Cust)\r\n",
                "ORDER BY Category, Cust; "
            ],
            "metadata": {
                "azdata_cell_guid": "22ae8ee5-64a3-403c-bf24-b74e0e7b1e21"
            },
            "outputs": [
                {
                    "output_type": "display_data",
                    "data": {
                        "text/html": "(21 rows affected)"
                    },
                    "metadata": {}
                },
                {
                    "output_type": "display_data",
                    "data": {
                        "text/html": "Total execution time: 00:00:00.299"
                    },
                    "metadata": {}
                },
                {
                    "output_type": "execute_result",
                    "metadata": {},
                    "execution_count": 14,
                    "data": {
                        "application/vnd.dataresource+json": {
                            "schema": {
                                "fields": [
                                    {
                                        "name": "Category"
                                    },
                                    {
                                        "name": "Cust"
                                    },
                                    {
                                        "name": "TotalQty"
                                    }
                                ]
                            },
                            "data": [
                                {
                                    "0": "NULL",
                                    "1": "NULL",
                                    "2": "999"
                                },
                                {
                                    "0": "NULL",
                                    "1": "1",
                                    "2": "80"
                                },
                                {
                                    "0": "NULL",
                                    "1": "2",
                                    "2": "12"
                                },
                                {
                                    "0": "NULL",
                                    "1": "3",
                                    "2": "154"
                                },
                                {
                                    "0": "NULL",
                                    "1": "4",
                                    "2": "241"
                                },
                                {
                                    "0": "NULL",
                                    "1": "5",
                                    "2": "512"
                                },
                                {
                                    "0": "Beverages",
                                    "1": "NULL",
                                    "2": "513"
                                },
                                {
                                    "0": "Beverages",
                                    "1": "1",
                                    "2": "36"
                                },
                                {
                                    "0": "Beverages",
                                    "1": "2",
                                    "2": "5"
                                },
                                {
                                    "0": "Beverages",
                                    "1": "3",
                                    "2": "105"
                                },
                                {
                                    "0": "Beverages",
                                    "1": "4",
                                    "2": "112"
                                },
                                {
                                    "0": "Beverages",
                                    "1": "5",
                                    "2": "255"
                                },
                                {
                                    "0": "Condiments",
                                    "1": "NULL",
                                    "2": "114"
                                },
                                {
                                    "0": "Condiments",
                                    "1": "1",
                                    "2": "44"
                                },
                                {
                                    "0": "Condiments",
                                    "1": "3",
                                    "2": "4"
                                },
                                {
                                    "0": "Condiments",
                                    "1": "5",
                                    "2": "66"
                                },
                                {
                                    "0": "Confections",
                                    "1": "NULL",
                                    "2": "372"
                                },
                                {
                                    "0": "Confections",
                                    "1": "2",
                                    "2": "7"
                                },
                                {
                                    "0": "Confections",
                                    "1": "3",
                                    "2": "45"
                                },
                                {
                                    "0": "Confections",
                                    "1": "4",
                                    "2": "129"
                                },
                                {
                                    "0": "Confections",
                                    "1": "5",
                                    "2": "191"
                                }
                            ]
                        },
                        "text/html": [
                            "<table>",
                            "<tr><th>Category</th><th>Cust</th><th>TotalQty</th></tr>",
                            "<tr><td>NULL</td><td>NULL</td><td>999</td></tr>",
                            "<tr><td>NULL</td><td>1</td><td>80</td></tr>",
                            "<tr><td>NULL</td><td>2</td><td>12</td></tr>",
                            "<tr><td>NULL</td><td>3</td><td>154</td></tr>",
                            "<tr><td>NULL</td><td>4</td><td>241</td></tr>",
                            "<tr><td>NULL</td><td>5</td><td>512</td></tr>",
                            "<tr><td>Beverages</td><td>NULL</td><td>513</td></tr>",
                            "<tr><td>Beverages</td><td>1</td><td>36</td></tr>",
                            "<tr><td>Beverages</td><td>2</td><td>5</td></tr>",
                            "<tr><td>Beverages</td><td>3</td><td>105</td></tr>",
                            "<tr><td>Beverages</td><td>4</td><td>112</td></tr>",
                            "<tr><td>Beverages</td><td>5</td><td>255</td></tr>",
                            "<tr><td>Condiments</td><td>NULL</td><td>114</td></tr>",
                            "<tr><td>Condiments</td><td>1</td><td>44</td></tr>",
                            "<tr><td>Condiments</td><td>3</td><td>4</td></tr>",
                            "<tr><td>Condiments</td><td>5</td><td>66</td></tr>",
                            "<tr><td>Confections</td><td>NULL</td><td>372</td></tr>",
                            "<tr><td>Confections</td><td>2</td><td>7</td></tr>",
                            "<tr><td>Confections</td><td>3</td><td>45</td></tr>",
                            "<tr><td>Confections</td><td>4</td><td>129</td></tr>",
                            "<tr><td>Confections</td><td>5</td><td>191</td></tr>",
                            "</table>"
                        ]
                    }
                }
            ],
            "execution_count": 14
        },
        {
            "cell_type": "markdown",
            "source": [
                "2.5. Consultar con ROLLUP"
            ],
            "metadata": {
                "azdata_cell_guid": "f6eed40e-d7d8-4249-8687-8285b79cb224"
            }
        },
        {
            "cell_type": "code",
            "source": [
                "SELECT Category, Cust, SUM(Qty) AS TotalQty\r\n",
                "FROM Sales.CategorySales\r\n",
                "GROUP BY ROLLUP(Category,Cust)\r\n",
                "ORDER BY Category, Cust;"
            ],
            "metadata": {
                "azdata_cell_guid": "e7a8996e-af7c-42f4-8780-eb7990b294a3"
            },
            "outputs": [
                {
                    "output_type": "display_data",
                    "data": {
                        "text/html": "(16 rows affected)"
                    },
                    "metadata": {}
                },
                {
                    "output_type": "display_data",
                    "data": {
                        "text/html": "Total execution time: 00:00:00.248"
                    },
                    "metadata": {}
                },
                {
                    "output_type": "execute_result",
                    "metadata": {},
                    "execution_count": 15,
                    "data": {
                        "application/vnd.dataresource+json": {
                            "schema": {
                                "fields": [
                                    {
                                        "name": "Category"
                                    },
                                    {
                                        "name": "Cust"
                                    },
                                    {
                                        "name": "TotalQty"
                                    }
                                ]
                            },
                            "data": [
                                {
                                    "0": "NULL",
                                    "1": "NULL",
                                    "2": "999"
                                },
                                {
                                    "0": "Beverages",
                                    "1": "NULL",
                                    "2": "513"
                                },
                                {
                                    "0": "Beverages",
                                    "1": "1",
                                    "2": "36"
                                },
                                {
                                    "0": "Beverages",
                                    "1": "2",
                                    "2": "5"
                                },
                                {
                                    "0": "Beverages",
                                    "1": "3",
                                    "2": "105"
                                },
                                {
                                    "0": "Beverages",
                                    "1": "4",
                                    "2": "112"
                                },
                                {
                                    "0": "Beverages",
                                    "1": "5",
                                    "2": "255"
                                },
                                {
                                    "0": "Condiments",
                                    "1": "NULL",
                                    "2": "114"
                                },
                                {
                                    "0": "Condiments",
                                    "1": "1",
                                    "2": "44"
                                },
                                {
                                    "0": "Condiments",
                                    "1": "3",
                                    "2": "4"
                                },
                                {
                                    "0": "Condiments",
                                    "1": "5",
                                    "2": "66"
                                },
                                {
                                    "0": "Confections",
                                    "1": "NULL",
                                    "2": "372"
                                },
                                {
                                    "0": "Confections",
                                    "1": "2",
                                    "2": "7"
                                },
                                {
                                    "0": "Confections",
                                    "1": "3",
                                    "2": "45"
                                },
                                {
                                    "0": "Confections",
                                    "1": "4",
                                    "2": "129"
                                },
                                {
                                    "0": "Confections",
                                    "1": "5",
                                    "2": "191"
                                }
                            ]
                        },
                        "text/html": [
                            "<table>",
                            "<tr><th>Category</th><th>Cust</th><th>TotalQty</th></tr>",
                            "<tr><td>NULL</td><td>NULL</td><td>999</td></tr>",
                            "<tr><td>Beverages</td><td>NULL</td><td>513</td></tr>",
                            "<tr><td>Beverages</td><td>1</td><td>36</td></tr>",
                            "<tr><td>Beverages</td><td>2</td><td>5</td></tr>",
                            "<tr><td>Beverages</td><td>3</td><td>105</td></tr>",
                            "<tr><td>Beverages</td><td>4</td><td>112</td></tr>",
                            "<tr><td>Beverages</td><td>5</td><td>255</td></tr>",
                            "<tr><td>Condiments</td><td>NULL</td><td>114</td></tr>",
                            "<tr><td>Condiments</td><td>1</td><td>44</td></tr>",
                            "<tr><td>Condiments</td><td>3</td><td>4</td></tr>",
                            "<tr><td>Condiments</td><td>5</td><td>66</td></tr>",
                            "<tr><td>Confections</td><td>NULL</td><td>372</td></tr>",
                            "<tr><td>Confections</td><td>2</td><td>7</td></tr>",
                            "<tr><td>Confections</td><td>3</td><td>45</td></tr>",
                            "<tr><td>Confections</td><td>4</td><td>129</td></tr>",
                            "<tr><td>Confections</td><td>5</td><td>191</td></tr>",
                            "</table>"
                        ]
                    }
                }
            ],
            "execution_count": 15
        },
        {
            "cell_type": "markdown",
            "source": [
                "2.6. Utilizar Grouping_ID."
            ],
            "metadata": {
                "azdata_cell_guid": "f9a07e7d-de3b-4afd-b2fd-924db520f317"
            }
        },
        {
            "cell_type": "code",
            "source": [
                "SELECT\tGROUPING_ID(Category)AS grpCat, GROUPING_ID(Cust) AS grpCust, \r\n",
                "\t\tCategory, Cust, SUM(Qty) AS TotalQty\r\n",
                "FROM Sales.CategorySales\r\n",
                "GROUP BY CUBE(Category,Cust)\r\n",
                "ORDER BY Category, Cust;"
            ],
            "metadata": {
                "azdata_cell_guid": "337f422d-cf4a-4331-a8c1-de00488b26d9"
            },
            "outputs": [
                {
                    "output_type": "display_data",
                    "data": {
                        "text/html": "(21 rows affected)"
                    },
                    "metadata": {}
                },
                {
                    "output_type": "display_data",
                    "data": {
                        "text/html": "Total execution time: 00:00:00.353"
                    },
                    "metadata": {}
                },
                {
                    "output_type": "execute_result",
                    "metadata": {},
                    "execution_count": 16,
                    "data": {
                        "application/vnd.dataresource+json": {
                            "schema": {
                                "fields": [
                                    {
                                        "name": "grpCat"
                                    },
                                    {
                                        "name": "grpCust"
                                    },
                                    {
                                        "name": "Category"
                                    },
                                    {
                                        "name": "Cust"
                                    },
                                    {
                                        "name": "TotalQty"
                                    }
                                ]
                            },
                            "data": [
                                {
                                    "0": "1",
                                    "1": "1",
                                    "2": "NULL",
                                    "3": "NULL",
                                    "4": "999"
                                },
                                {
                                    "0": "1",
                                    "1": "0",
                                    "2": "NULL",
                                    "3": "1",
                                    "4": "80"
                                },
                                {
                                    "0": "1",
                                    "1": "0",
                                    "2": "NULL",
                                    "3": "2",
                                    "4": "12"
                                },
                                {
                                    "0": "1",
                                    "1": "0",
                                    "2": "NULL",
                                    "3": "3",
                                    "4": "154"
                                },
                                {
                                    "0": "1",
                                    "1": "0",
                                    "2": "NULL",
                                    "3": "4",
                                    "4": "241"
                                },
                                {
                                    "0": "1",
                                    "1": "0",
                                    "2": "NULL",
                                    "3": "5",
                                    "4": "512"
                                },
                                {
                                    "0": "0",
                                    "1": "1",
                                    "2": "Beverages",
                                    "3": "NULL",
                                    "4": "513"
                                },
                                {
                                    "0": "0",
                                    "1": "0",
                                    "2": "Beverages",
                                    "3": "1",
                                    "4": "36"
                                },
                                {
                                    "0": "0",
                                    "1": "0",
                                    "2": "Beverages",
                                    "3": "2",
                                    "4": "5"
                                },
                                {
                                    "0": "0",
                                    "1": "0",
                                    "2": "Beverages",
                                    "3": "3",
                                    "4": "105"
                                },
                                {
                                    "0": "0",
                                    "1": "0",
                                    "2": "Beverages",
                                    "3": "4",
                                    "4": "112"
                                },
                                {
                                    "0": "0",
                                    "1": "0",
                                    "2": "Beverages",
                                    "3": "5",
                                    "4": "255"
                                },
                                {
                                    "0": "0",
                                    "1": "1",
                                    "2": "Condiments",
                                    "3": "NULL",
                                    "4": "114"
                                },
                                {
                                    "0": "0",
                                    "1": "0",
                                    "2": "Condiments",
                                    "3": "1",
                                    "4": "44"
                                },
                                {
                                    "0": "0",
                                    "1": "0",
                                    "2": "Condiments",
                                    "3": "3",
                                    "4": "4"
                                },
                                {
                                    "0": "0",
                                    "1": "0",
                                    "2": "Condiments",
                                    "3": "5",
                                    "4": "66"
                                },
                                {
                                    "0": "0",
                                    "1": "1",
                                    "2": "Confections",
                                    "3": "NULL",
                                    "4": "372"
                                },
                                {
                                    "0": "0",
                                    "1": "0",
                                    "2": "Confections",
                                    "3": "2",
                                    "4": "7"
                                },
                                {
                                    "0": "0",
                                    "1": "0",
                                    "2": "Confections",
                                    "3": "3",
                                    "4": "45"
                                },
                                {
                                    "0": "0",
                                    "1": "0",
                                    "2": "Confections",
                                    "3": "4",
                                    "4": "129"
                                },
                                {
                                    "0": "0",
                                    "1": "0",
                                    "2": "Confections",
                                    "3": "5",
                                    "4": "191"
                                }
                            ]
                        },
                        "text/html": [
                            "<table>",
                            "<tr><th>grpCat</th><th>grpCust</th><th>Category</th><th>Cust</th><th>TotalQty</th></tr>",
                            "<tr><td>1</td><td>1</td><td>NULL</td><td>NULL</td><td>999</td></tr>",
                            "<tr><td>1</td><td>0</td><td>NULL</td><td>1</td><td>80</td></tr>",
                            "<tr><td>1</td><td>0</td><td>NULL</td><td>2</td><td>12</td></tr>",
                            "<tr><td>1</td><td>0</td><td>NULL</td><td>3</td><td>154</td></tr>",
                            "<tr><td>1</td><td>0</td><td>NULL</td><td>4</td><td>241</td></tr>",
                            "<tr><td>1</td><td>0</td><td>NULL</td><td>5</td><td>512</td></tr>",
                            "<tr><td>0</td><td>1</td><td>Beverages</td><td>NULL</td><td>513</td></tr>",
                            "<tr><td>0</td><td>0</td><td>Beverages</td><td>1</td><td>36</td></tr>",
                            "<tr><td>0</td><td>0</td><td>Beverages</td><td>2</td><td>5</td></tr>",
                            "<tr><td>0</td><td>0</td><td>Beverages</td><td>3</td><td>105</td></tr>",
                            "<tr><td>0</td><td>0</td><td>Beverages</td><td>4</td><td>112</td></tr>",
                            "<tr><td>0</td><td>0</td><td>Beverages</td><td>5</td><td>255</td></tr>",
                            "<tr><td>0</td><td>1</td><td>Condiments</td><td>NULL</td><td>114</td></tr>",
                            "<tr><td>0</td><td>0</td><td>Condiments</td><td>1</td><td>44</td></tr>",
                            "<tr><td>0</td><td>0</td><td>Condiments</td><td>3</td><td>4</td></tr>",
                            "<tr><td>0</td><td>0</td><td>Condiments</td><td>5</td><td>66</td></tr>",
                            "<tr><td>0</td><td>1</td><td>Confections</td><td>NULL</td><td>372</td></tr>",
                            "<tr><td>0</td><td>0</td><td>Confections</td><td>2</td><td>7</td></tr>",
                            "<tr><td>0</td><td>0</td><td>Confections</td><td>3</td><td>45</td></tr>",
                            "<tr><td>0</td><td>0</td><td>Confections</td><td>4</td><td>129</td></tr>",
                            "<tr><td>0</td><td>0</td><td>Confections</td><td>5</td><td>191</td></tr>",
                            "</table>"
                        ]
                    }
                }
            ],
            "execution_count": 16
        },
        {
            "cell_type": "markdown",
            "source": [
                "2.7. Finalmente limpiar los cambios"
            ],
            "metadata": {
                "azdata_cell_guid": "13634fbc-a591-49a2-9484-b31e7041c26e"
            }
        },
        {
            "cell_type": "code",
            "source": [
                "IF OBJECT_ID('Sales.CategorySales','V') IS NOT NULL DROP VIEW Sales.CategorySales\r\n",
                "GO"
            ],
            "metadata": {
                "azdata_cell_guid": "f7c3458b-42e4-46ab-8bf5-7f961aa30a7d"
            },
            "outputs": [
                {
                    "output_type": "display_data",
                    "data": {
                        "text/html": "Commands completed successfully."
                    },
                    "metadata": {}
                },
                {
                    "output_type": "display_data",
                    "data": {
                        "text/html": "Total execution time: 00:00:00.249"
                    },
                    "metadata": {}
                }
            ],
            "execution_count": 17
        }
    ]
}