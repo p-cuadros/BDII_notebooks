{
    "metadata": {
        "kernelspec": {
            "name": "SQL",
            "display_name": "SQL",
            "language": "sql"
        },
        "language_info": {
            "name": "sql",
            "version": ""
        }
    },
    "nbformat_minor": 2,
    "nbformat": 4,
    "cells": [
        {
            "cell_type": "markdown",
            "source": [
                "<H1><center>LABORATORIO N° 01: UTILIZANDO EXPRESIONES DE TABLA"
            ],
            "metadata": {
                "azdata_cell_guid": "7b3dee29-b50e-422e-b3fb-f48b2061c4c1"
            }
        },
        {
            "cell_type": "markdown",
            "source": [
                "<h2><b>Objetivo:</b></h2>\r\n",
                "* Aplicar los conocimientos asimilados sobre Expresiones de tabla regulares"
            ],
            "metadata": {
                "azdata_cell_guid": "29744702-cc82-486d-bdc2-bb7c7d93d005"
            }
        },
        {
            "cell_type": "markdown",
            "source": [
                "1. <b><u>Utilizando Vistas</u></b>"
            ],
            "metadata": {
                "azdata_cell_guid": "b980556b-ce64-48ca-bf90-ebea4e201733"
            }
        },
        {
            "cell_type": "markdown",
            "source": [
                "1.1. Accediendo a la base de datos TSQL"
            ],
            "metadata": {
                "azdata_cell_guid": "c23728e6-c690-40c0-b265-0d357bd908c6"
            }
        },
        {
            "cell_type": "code",
            "source": [
                "USE TSQL;\r\n",
                "GO"
            ],
            "metadata": {
                "azdata_cell_guid": "98dd6cf2-f089-45e0-8ba8-688e45df6cdb"
            },
            "outputs": [],
            "execution_count": null
        },
        {
            "cell_type": "markdown",
            "source": [
                "1.2. Escribir una sentencia SELECT para devolver las columnas productid, productname, supplierid, unitprice y\r\n",
                "discontinued de la tabla Production.Products. Filtrar los resultados para incluir solo los productos que pertenezcana a la categoría Beverages (categoryid = 1)"
            ],
            "metadata": {
                "azdata_cell_guid": "057e0360-df5d-4e23-a3f2-f389f0a0fc58"
            }
        },
        {
            "cell_type": "code",
            "source": [
                ""
            ],
            "metadata": {
                "azdata_cell_guid": "1d603896-ad30-488c-b2dc-79d6c880b7bd"
            },
            "outputs": [],
            "execution_count": null
        },
        {
            "cell_type": "markdown",
            "source": [
                "1.3. Modificar al sentencia T-SQL para incluir el siguiente código. Colocar esta sentencia antes de la clausula SELECT:"
            ],
            "metadata": {
                "azdata_cell_guid": "a7ace022-d398-43f5-adc4-347392bc039f"
            }
        },
        {
            "cell_type": "code",
            "source": [
                "CREATE VIEW Production.ProductsBeverages AS"
            ],
            "metadata": {
                "azdata_cell_guid": "86e964f9-4ddf-4697-95cd-2a960eea0189"
            },
            "outputs": [],
            "execution_count": null
        },
        {
            "cell_type": "markdown",
            "source": [
                "1.4. Escribir una sentencia SELECT para devolver las columnas productid y productname de la vista Production.ProductsBeverages. Filtrar los resultados para incluir solo productos donde supplierid = 1"
            ],
            "metadata": {
                "azdata_cell_guid": "bed83f21-1431-4777-bfef-45f0af970628"
            }
        },
        {
            "cell_type": "code",
            "source": [
                ""
            ],
            "metadata": {
                "azdata_cell_guid": "8919d918-fc92-4cb4-b27d-39c09a688c4d"
            },
            "outputs": [],
            "execution_count": null
        },
        {
            "cell_type": "markdown",
            "source": [
                "1.5. El departamento de TI ha escrito una sentencia T-SQL que añade una columna calculada a la vista."
            ],
            "metadata": {
                "azdata_cell_guid": "042177d8-531f-4bfa-b659-3de65fb43b10"
            }
        },
        {
            "cell_type": "code",
            "source": [
                "ALTER VIEW Production.ProductsBeverages AS\r\n",
                "SELECT\r\n",
                "productid, productname, supplierid, unitprice, discontinued,\r\n",
                "CASE WHEN unitprice > 100. THEN N'high' ELSE N'normal' END\r\n",
                "FROM Production.Products\r\n",
                "WHERE categoryid = 1;"
            ],
            "metadata": {
                "azdata_cell_guid": "c8b6781b-e5be-452d-80d3-5a6d22c58bd1"
            },
            "outputs": [],
            "execution_count": null
        },
        {
            "cell_type": "markdown",
            "source": [
                "1.6. Aplicar los cambios necesario para que la sentencia T-SQL statement se ejecute correctamente."
            ],
            "metadata": {
                "azdata_cell_guid": "0b3ae01e-56fc-4dcc-be22-1c91adacb12d"
            }
        },
        {
            "cell_type": "code",
            "source": [
                ""
            ],
            "metadata": {
                "azdata_cell_guid": "955673f2-25e0-4e96-920e-832886343097"
            },
            "outputs": [],
            "execution_count": null
        },
        {
            "cell_type": "markdown",
            "source": [
                "2. <b><u>Utilizando utilizando Tablas Derivadas</u></b>"
            ],
            "metadata": {
                "azdata_cell_guid": "9fcdfc78-c5a3-4d76-9e5a-69e415002db5"
            }
        },
        {
            "cell_type": "markdown",
            "source": [
                "2.1. Escribir una sentencia SELECT contra una tabla derivada y retornar las columnas productid y productname. Filtrar los resultados para incluir solo las filas en las cuales el valor de la columna pricetype es igual a high. Usar la sentencia SELECT del ejericio 1, paso 4, como la la consulta inner que define la tabla derivada. No olvidar usar el alias para la tabla derivada. (Ypuede usar el alias “p”.)"
            ],
            "metadata": {
                "azdata_cell_guid": "511f8eba-1091-4d5c-b4da-6eb3946a7bbd"
            }
        },
        {
            "cell_type": "code",
            "source": [
                ""
            ],
            "metadata": {
                "azdata_cell_guid": "f9a1bb71-fb95-4caf-a51a-c2074a46ff56"
            },
            "outputs": [],
            "execution_count": null
        },
        {
            "cell_type": "markdown",
            "source": [
                "2.2. Escribir una sentencia SELECT para devolver la columna custid y dos columnas calculadas:\r\n",
                "totalsalesamount, la cual retornará el total de ventas por cliente y avgsalesamount, la cual devolvera el monto promedio de ventas de las ordenes por cliente. Para calcular correctamente el monto promedio de ventas de las ordenes por cliente, primero debera calcular el monto total de ventas por orden. Se puede definir una tabla derivada basado en una consulta que enlace las tablas Sales.Orders y Sales.OrderDetails. Usar las columnas custid y orderid de la tabla Sales.Orders y las columnas qty y unitprice de la tabla  Sales.OrderDetails."
            ],
            "metadata": {
                "azdata_cell_guid": "f5681774-ff98-4b62-9315-e46dd92dccb1"
            }
        },
        {
            "cell_type": "code",
            "source": [
                ""
            ],
            "metadata": {
                "azdata_cell_guid": "49b7a77b-a8c9-4275-9a40-8ca1d5e0ec1a"
            },
            "outputs": [],
            "execution_count": null
        },
        {
            "cell_type": "markdown",
            "source": [
                "3. <b><u>Utilizando Expresions Comunes de Tabla</u></b>"
            ],
            "metadata": {
                "azdata_cell_guid": "299ae039-7d57-4f9e-8704-b7d521cba7d4"
            }
        },
        {
            "cell_type": "markdown",
            "source": [
                "3.1. Escribir una sentencia SELECT como la del ejercicio 2.1, pero utilizar un CTE en vez de una tabla derivada.\r\n",
                "Utilizar un alias de columna en linea en la consulta CTE y nombrar al CTE como ProductBeverages."
            ],
            "metadata": {
                "azdata_cell_guid": "7cadfd5d-e300-4fcd-a5b8-0b2e1e8b4a9f"
            }
        },
        {
            "cell_type": "code",
            "source": [
                ""
            ],
            "metadata": {
                "azdata_cell_guid": "dfb6cf61-037b-4fee-b6da-4d89cf4cb3dd"
            },
            "outputs": [],
            "execution_count": null
        },
        {
            "cell_type": "markdown",
            "source": [
                "3.2. Escribir una consulta SELECT contra la tabla Sales.OrderValues para traer cada customer’s ID y el monto total de ventaspara el año 2008. Definir un CTE llamado c2008 basado en esta consulta, utilizando la forma de alias externapara nombrar las columnas del CTE como custid y salesamt2008. Enlazar la tabla Sales.Customers y el CTE c2008, devolviendo las columnas custid y contactname de la tabla Sales.Customers y la columna \r\n",
                "salesamt2008 desde el CTE c2008."
            ],
            "metadata": {
                "azdata_cell_guid": "da5e6de7-ca23-4217-8a7b-315014dd7668"
            }
        },
        {
            "cell_type": "code",
            "source": [
                ""
            ],
            "metadata": {
                "azdata_cell_guid": "151cd974-bd95-46c9-af47-cfe0925d01a8"
            },
            "outputs": [],
            "execution_count": null
        },
        {
            "cell_type": "markdown",
            "source": [
                "4. <b><u>Utilizando Funciones de Tabla en línea</b></u>"
            ],
            "metadata": {
                "azdata_cell_guid": "6351453f-8c69-44f9-918e-cb939c9f74ec"
            }
        },
        {
            "cell_type": "markdown",
            "source": [
                "4.1. Escribir una sentencia SELECT contra la vista Sales.OrderValues y traer la las columnas custid y totalsalesamount como un total de la columna val. Filtrar los resultados para incluir las ordenes solo del año 2007."
            ],
            "metadata": {
                "azdata_cell_guid": "94b1d64c-46c8-4107-8ee0-1de5cc5441bb"
            }
        },
        {
            "cell_type": "code",
            "source": [
                ""
            ],
            "metadata": {
                "azdata_cell_guid": "c370d6e2-0a74-4636-8c17-6dc1da546562"
            },
            "outputs": [],
            "execution_count": null
        },
        {
            "cell_type": "markdown",
            "source": [
                "4.2. Definir una función de valores de tabla (TVF) en linea utilizando el siguiente encabezado de función y añadir la consulta previa despues de la clausula RETURN:\r\n",
                "Modificar la consulta constante año valor 2007 en la clausula WHERE con el parametro @orderyear."
            ],
            "metadata": {
                "azdata_cell_guid": "8b91f57b-9cec-4519-9737-e01c5382dfc0"
            }
        },
        {
            "cell_type": "code",
            "source": [
                "CREATE FUNCTION dbo.fnGetSalesByCustomer\r\n",
                "(@orderyear AS INT) RETURNS TABLE\r\n",
                "AS\r\n",
                "RETURN"
            ],
            "metadata": {
                "azdata_cell_guid": "d2fcd69d-2058-4513-b0b7-3e5b4ca50676"
            },
            "outputs": [],
            "execution_count": null
        },
        {
            "cell_type": "markdown",
            "source": [
                "4.3. Escribir una sentencia SELECT que devuelva el top 3 de los productos vendidos basado en el valor de total de ventas para el cliente con el ID 1. Devolver las columnas productid y productname de la tabla Production.Products. Utilizar las columnas qty y unitprice de la tabla Sales.OrderDetails para calcular el valor de cada linea de la orden, y devolver la suma de todos los valores por producto, nombrando la columna resultante totalsalesamount. Filtrar los resultados para incluir solo las filas donde el valor de la columna custid es igual a 1."
            ],
            "metadata": {
                "azdata_cell_guid": "4303945d-a530-4163-8afb-00d615accf21"
            }
        },
        {
            "cell_type": "code",
            "source": [
                ""
            ],
            "metadata": {
                "azdata_cell_guid": "35c89b37-a6f3-4996-82b4-3f1763bb87f0"
            },
            "outputs": [],
            "execution_count": null
        },
        {
            "cell_type": "markdown",
            "source": [
                "4.4. Crear una funncion (TVF) basada en el siguiente encabezado, utilizando la sentencia  SELECT previa. Reemplazar la constante custid valor 1 en la consulta con el parametro de la funcion @custid:"
            ],
            "metadata": {
                "azdata_cell_guid": "c00eab0c-56e6-4277-adae-1fbfe072fb2b"
            }
        },
        {
            "cell_type": "code",
            "source": [
                "CREATE FUNCTION dbo.fnGetTop3ProductsForCustomer\r\n",
                "(@custid AS INT) RETURNS TABLE\r\n",
                "AS\r\n",
                "RETURN"
            ],
            "metadata": {
                "azdata_cell_guid": "40f72f70-dd41-42d1-9d6c-2a8418f7d175",
                "tags": [
                    "hide_input"
                ]
            },
            "outputs": [],
            "execution_count": null
        },
        {
            "cell_type": "markdown",
            "source": [
                "4.5. Probar la función SELECT creada escribiendo  una sentencia con esta y utilizar el valor para el parametro customer ID. Traer las columnas productid, productname y totalsalesamount, y utilizar el alias “p” para la función TVF."
            ],
            "metadata": {
                "azdata_cell_guid": "276b1e2c-d0f7-4b2c-a9a2-8de7de51ed60"
            }
        },
        {
            "cell_type": "code",
            "source": [
                ""
            ],
            "metadata": {
                "azdata_cell_guid": "efad99a1-7a10-4a2a-9638-26086ce7d414"
            },
            "outputs": [],
            "execution_count": null
        },
        {
            "cell_type": "markdown",
            "source": [
                "4.6. Escribir el código necesario para limpiar todos los cambios realizados"
            ],
            "metadata": {
                "azdata_cell_guid": "a0c425de-23dd-41d7-bd01-17e58424adef"
            }
        },
        {
            "cell_type": "code",
            "source": [
                ""
            ],
            "metadata": {
                "azdata_cell_guid": "c1d7a633-39cd-4129-9d8c-eaddfdf00a91"
            },
            "outputs": [],
            "execution_count": null
        }
    ]
}