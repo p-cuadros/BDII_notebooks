{
    "metadata": {
        "kernelspec": {
            "name": "SQL",
            "display_name": "SQL",
            "language": "sql"
        },
        "language_info": {
            "name": "sql",
            "version": ""
        }
    },
    "nbformat_minor": 2,
    "nbformat": 4,
    "cells": [
        {
            "cell_type": "markdown",
            "source": [
                "<h1>Sesión N° 02 - Utilizando Operadores de Conjuntos de Datos"
            ],
            "metadata": {
                "azdata_cell_guid": "d0c4d935-9c5d-43a3-a9b0-a06e7c6b3e84"
            }
        },
        {
            "cell_type": "markdown",
            "source": [
                "<h2>1. Operador UNION"
            ],
            "metadata": {
                "azdata_cell_guid": "9aa4cfaa-48b4-4de7-9064-449c8af61f2b"
            }
        },
        {
            "cell_type": "markdown",
            "source": [
                "1.1. Conectar con la BD TSQL"
            ],
            "metadata": {
                "azdata_cell_guid": "640fa51c-11a4-469b-ae33-f5e2af0d15a1"
            }
        },
        {
            "cell_type": "code",
            "source": [
                "USE TSQL;\r\n",
                "GO"
            ],
            "metadata": {
                "tags": [],
                "azdata_cell_guid": "cf3a81eb-31f2-4d09-9505-9e570a0b0f05"
            },
            "outputs": [
                {
                    "output_type": "display_data",
                    "data": {
                        "text/html": "Commands completed successfully."
                    },
                    "metadata": {}
                },
                {
                    "output_type": "display_data",
                    "data": {
                        "text/html": "Total execution time: 00:00:00.369"
                    },
                    "metadata": {}
                }
            ],
            "execution_count": 3
        },
        {
            "cell_type": "markdown",
            "source": [
                "1.2. El operador UNION ALL devuelve todas las filas de ambas tablas incluyendo duplicados"
            ],
            "metadata": {
                "azdata_cell_guid": "d7e9f8ad-d30a-4306-b899-9ae1ffd21033"
            }
        },
        {
            "cell_type": "code",
            "source": [
                "SELECT country, region, city FROM HR.Employees\r\n",
                "UNION ALL -- 100 rows\r\n",
                "SELECT country, region, city FROM Sales.Customers;"
            ],
            "metadata": {
                "azdata_cell_guid": "d168c270-0299-40d4-aa25-a6fa63008921"
            },
            "outputs": [
                {
                    "output_type": "display_data",
                    "data": {
                        "text/html": "(100 rows affected)"
                    },
                    "metadata": {}
                },
                {
                    "output_type": "display_data",
                    "data": {
                        "text/html": "Total execution time: 00:00:00.184"
                    },
                    "metadata": {}
                },
                {
                    "output_type": "execute_result",
                    "metadata": {},
                    "execution_count": 4,
                    "data": {
                        "application/vnd.dataresource+json": {
                            "schema": {
                                "fields": [
                                    {
                                        "name": "country"
                                    },
                                    {
                                        "name": "region"
                                    },
                                    {
                                        "name": "city"
                                    }
                                ]
                            },
                            "data": [
                                {
                                    "0": "USA",
                                    "1": "WA",
                                    "2": "Seattle"
                                },
                                {
                                    "0": "USA",
                                    "1": "WA",
                                    "2": "Tacoma"
                                },
                                {
                                    "0": "USA",
                                    "1": "WA",
                                    "2": "Kirkland"
                                },
                                {
                                    "0": "USA",
                                    "1": "WA",
                                    "2": "Redmond"
                                },
                                {
                                    "0": "UK",
                                    "1": "NULL",
                                    "2": "London"
                                },
                                {
                                    "0": "UK",
                                    "1": "NULL",
                                    "2": "London"
                                },
                                {
                                    "0": "UK",
                                    "1": "NULL",
                                    "2": "London"
                                },
                                {
                                    "0": "USA",
                                    "1": "WA",
                                    "2": "Seattle"
                                },
                                {
                                    "0": "UK",
                                    "1": "NULL",
                                    "2": "London"
                                },
                                {
                                    "0": "Germany",
                                    "1": "NULL",
                                    "2": "Berlin"
                                },
                                {
                                    "0": "Mexico",
                                    "1": "NULL",
                                    "2": "México D.F."
                                },
                                {
                                    "0": "Mexico",
                                    "1": "NULL",
                                    "2": "México D.F."
                                },
                                {
                                    "0": "UK",
                                    "1": "NULL",
                                    "2": "London"
                                },
                                {
                                    "0": "Sweden",
                                    "1": "NULL",
                                    "2": "Luleå"
                                },
                                {
                                    "0": "Germany",
                                    "1": "NULL",
                                    "2": "Mannheim"
                                },
                                {
                                    "0": "France",
                                    "1": "NULL",
                                    "2": "Strasbourg"
                                },
                                {
                                    "0": "Spain",
                                    "1": "NULL",
                                    "2": "Madrid"
                                },
                                {
                                    "0": "France",
                                    "1": "NULL",
                                    "2": "Marseille"
                                },
                                {
                                    "0": "Canada",
                                    "1": "BC",
                                    "2": "Tsawassen"
                                },
                                {
                                    "0": "UK",
                                    "1": "NULL",
                                    "2": "London"
                                },
                                {
                                    "0": "Argentina",
                                    "1": "NULL",
                                    "2": "Buenos Aires"
                                },
                                {
                                    "0": "Mexico",
                                    "1": "NULL",
                                    "2": "México D.F."
                                },
                                {
                                    "0": "Switzerland",
                                    "1": "NULL",
                                    "2": "Bern"
                                },
                                {
                                    "0": "Brazil",
                                    "1": "SP",
                                    "2": "Sao Paulo"
                                },
                                {
                                    "0": "UK",
                                    "1": "NULL",
                                    "2": "London"
                                },
                                {
                                    "0": "Germany",
                                    "1": "NULL",
                                    "2": "Aachen"
                                },
                                {
                                    "0": "France",
                                    "1": "NULL",
                                    "2": "Nantes"
                                },
                                {
                                    "0": "UK",
                                    "1": "NULL",
                                    "2": "London"
                                },
                                {
                                    "0": "Austria",
                                    "1": "NULL",
                                    "2": "Graz"
                                },
                                {
                                    "0": "Brazil",
                                    "1": "SP",
                                    "2": "Sao Paulo"
                                },
                                {
                                    "0": "Spain",
                                    "1": "NULL",
                                    "2": "Madrid"
                                },
                                {
                                    "0": "France",
                                    "1": "NULL",
                                    "2": "Lille"
                                },
                                {
                                    "0": "Sweden",
                                    "1": "NULL",
                                    "2": "Bräcke"
                                },
                                {
                                    "0": "Germany",
                                    "1": "NULL",
                                    "2": "München"
                                },
                                {
                                    "0": "France",
                                    "1": "NULL",
                                    "2": "Nantes"
                                },
                                {
                                    "0": "Italy",
                                    "1": "NULL",
                                    "2": "Torino"
                                },
                                {
                                    "0": "Portugal",
                                    "1": "NULL",
                                    "2": "Lisboa"
                                },
                                {
                                    "0": "Spain",
                                    "1": "NULL",
                                    "2": "Barcelona"
                                },
                                {
                                    "0": "Spain",
                                    "1": "NULL",
                                    "2": "Sevilla"
                                },
                                {
                                    "0": "Brazil",
                                    "1": "SP",
                                    "2": "Campinas"
                                },
                                {
                                    "0": "USA",
                                    "1": "OR",
                                    "2": "Eugene"
                                },
                                {
                                    "0": "Venezuela",
                                    "1": "DF",
                                    "2": "Caracas"
                                },
                                {
                                    "0": "Brazil",
                                    "1": "RJ",
                                    "2": "Rio de Janeiro"
                                },
                                {
                                    "0": "Venezuela",
                                    "1": "Táchira",
                                    "2": "San Cristóbal"
                                },
                                {
                                    "0": "USA",
                                    "1": "OR",
                                    "2": "Elgin"
                                },
                                {
                                    "0": "Ireland",
                                    "1": "Co. Cork",
                                    "2": "Cork"
                                },
                                {
                                    "0": "UK",
                                    "1": "Isle of Wight",
                                    "2": "Cowes"
                                },
                                {
                                    "0": "Germany",
                                    "1": "NULL",
                                    "2": "Brandenburg"
                                },
                                {
                                    "0": "France",
                                    "1": "NULL",
                                    "2": "Versailles"
                                },
                                {
                                    "0": "France",
                                    "1": "NULL",
                                    "2": "Toulouse"
                                },
                                {
                                    "0": "Canada",
                                    "1": "BC",
                                    "2": "Vancouver"
                                },
                                {
                                    "0": "USA",
                                    "1": "WA",
                                    "2": "Walla Walla"
                                },
                                {
                                    "0": "Germany",
                                    "1": "NULL",
                                    "2": "Frankfurt a.M."
                                },
                                {
                                    "0": "USA",
                                    "1": "CA",
                                    "2": "San Francisco"
                                },
                                {
                                    "0": "Venezuela",
                                    "1": "Lara",
                                    "2": "Barquisimeto"
                                },
                                {
                                    "0": "Venezuela",
                                    "1": "Nueva Esparta",
                                    "2": "I. de Margarita"
                                },
                                {
                                    "0": "USA",
                                    "1": "OR",
                                    "2": "Portland"
                                },
                                {
                                    "0": "Italy",
                                    "1": "NULL",
                                    "2": "Bergamo"
                                },
                                {
                                    "0": "Belgium",
                                    "1": "NULL",
                                    "2": "Bruxelles"
                                },
                                {
                                    "0": "Canada",
                                    "1": "Québec",
                                    "2": "Montréal"
                                },
                                {
                                    "0": "Germany",
                                    "1": "NULL",
                                    "2": "Leipzig"
                                },
                                {
                                    "0": "UK",
                                    "1": "NULL",
                                    "2": "London"
                                },
                                {
                                    "0": "Argentina",
                                    "1": "NULL",
                                    "2": "Buenos Aires"
                                },
                                {
                                    "0": "USA",
                                    "1": "AK",
                                    "2": "Anchorage"
                                },
                                {
                                    "0": "Germany",
                                    "1": "NULL",
                                    "2": "Köln"
                                },
                                {
                                    "0": "France",
                                    "1": "NULL",
                                    "2": "Paris"
                                },
                                {
                                    "0": "Mexico",
                                    "1": "NULL",
                                    "2": "México D.F."
                                },
                                {
                                    "0": "Austria",
                                    "1": "NULL",
                                    "2": "Salzburg"
                                },
                                {
                                    "0": "Portugal",
                                    "1": "NULL",
                                    "2": "Lisboa"
                                },
                                {
                                    "0": "Brazil",
                                    "1": "RJ",
                                    "2": "Rio de Janeiro"
                                },
                                {
                                    "0": "Brazil",
                                    "1": "SP",
                                    "2": "Sao Paulo"
                                },
                                {
                                    "0": "Germany",
                                    "1": "NULL",
                                    "2": "Cunewalde"
                                },
                                {
                                    "0": "Argentina",
                                    "1": "NULL",
                                    "2": "Buenos Aires"
                                },
                                {
                                    "0": "USA",
                                    "1": "NM",
                                    "2": "Albuquerque"
                                },
                                {
                                    "0": "Italy",
                                    "1": "NULL",
                                    "2": "Reggio Emilia"
                                },
                                {
                                    "0": "Brazil",
                                    "1": "RJ",
                                    "2": "Rio de Janeiro"
                                },
                                {
                                    "0": "Switzerland",
                                    "1": "NULL",
                                    "2": "Genève"
                                },
                                {
                                    "0": "Spain",
                                    "1": "NULL",
                                    "2": "Madrid"
                                },
                                {
                                    "0": "Norway",
                                    "1": "NULL",
                                    "2": "Stavern"
                                },
                                {
                                    "0": "USA",
                                    "1": "ID",
                                    "2": "Boise"
                                },
                                {
                                    "0": "UK",
                                    "1": "NULL",
                                    "2": "London"
                                },
                                {
                                    "0": "Denmark",
                                    "1": "NULL",
                                    "2": "Kobenhavn"
                                },
                                {
                                    "0": "France",
                                    "1": "NULL",
                                    "2": "Paris"
                                },
                                {
                                    "0": "USA",
                                    "1": "WY",
                                    "2": "Lander"
                                },
                                {
                                    "0": "Belgium",
                                    "1": "NULL",
                                    "2": "Charleroi"
                                },
                                {
                                    "0": "USA",
                                    "1": "OR",
                                    "2": "Portland"
                                },
                                {
                                    "0": "USA",
                                    "1": "MT",
                                    "2": "Butte"
                                },
                                {
                                    "0": "Germany",
                                    "1": "NULL",
                                    "2": "Münster"
                                },
                                {
                                    "0": "Mexico",
                                    "1": "NULL",
                                    "2": "México D.F."
                                },
                                {
                                    "0": "Brazil",
                                    "1": "SP",
                                    "2": "Sao Paulo"
                                },
                                {
                                    "0": "USA",
                                    "1": "WA",
                                    "2": "Kirkland"
                                },
                                {
                                    "0": "Denmark",
                                    "1": "NULL",
                                    "2": "Århus"
                                },
                                {
                                    "0": "France",
                                    "1": "NULL",
                                    "2": "Lyon"
                                },
                                {
                                    "0": "France",
                                    "1": "NULL",
                                    "2": "Reims"
                                },
                                {
                                    "0": "Germany",
                                    "1": "NULL",
                                    "2": "Stuttgart"
                                },
                                {
                                    "0": "Finland",
                                    "1": "NULL",
                                    "2": "Oulu"
                                },
                                {
                                    "0": "Brazil",
                                    "1": "SP",
                                    "2": "Resende"
                                },
                                {
                                    "0": "USA",
                                    "1": "WA",
                                    "2": "Seattle"
                                },
                                {
                                    "0": "Finland",
                                    "1": "NULL",
                                    "2": "Helsinki"
                                },
                                {
                                    "0": "Poland",
                                    "1": "NULL",
                                    "2": "Warszawa"
                                }
                            ]
                        },
                        "text/html": [
                            "<table>",
                            "<tr><th>country</th><th>region</th><th>city</th></tr>",
                            "<tr><td>USA</td><td>WA</td><td>Seattle</td></tr>",
                            "<tr><td>USA</td><td>WA</td><td>Tacoma</td></tr>",
                            "<tr><td>USA</td><td>WA</td><td>Kirkland</td></tr>",
                            "<tr><td>USA</td><td>WA</td><td>Redmond</td></tr>",
                            "<tr><td>UK</td><td>NULL</td><td>London</td></tr>",
                            "<tr><td>UK</td><td>NULL</td><td>London</td></tr>",
                            "<tr><td>UK</td><td>NULL</td><td>London</td></tr>",
                            "<tr><td>USA</td><td>WA</td><td>Seattle</td></tr>",
                            "<tr><td>UK</td><td>NULL</td><td>London</td></tr>",
                            "<tr><td>Germany</td><td>NULL</td><td>Berlin</td></tr>",
                            "<tr><td>Mexico</td><td>NULL</td><td>México D.F.</td></tr>",
                            "<tr><td>Mexico</td><td>NULL</td><td>México D.F.</td></tr>",
                            "<tr><td>UK</td><td>NULL</td><td>London</td></tr>",
                            "<tr><td>Sweden</td><td>NULL</td><td>Luleå</td></tr>",
                            "<tr><td>Germany</td><td>NULL</td><td>Mannheim</td></tr>",
                            "<tr><td>France</td><td>NULL</td><td>Strasbourg</td></tr>",
                            "<tr><td>Spain</td><td>NULL</td><td>Madrid</td></tr>",
                            "<tr><td>France</td><td>NULL</td><td>Marseille</td></tr>",
                            "<tr><td>Canada</td><td>BC</td><td>Tsawassen</td></tr>",
                            "<tr><td>UK</td><td>NULL</td><td>London</td></tr>",
                            "<tr><td>Argentina</td><td>NULL</td><td>Buenos Aires</td></tr>",
                            "<tr><td>Mexico</td><td>NULL</td><td>México D.F.</td></tr>",
                            "<tr><td>Switzerland</td><td>NULL</td><td>Bern</td></tr>",
                            "<tr><td>Brazil</td><td>SP</td><td>Sao Paulo</td></tr>",
                            "<tr><td>UK</td><td>NULL</td><td>London</td></tr>",
                            "<tr><td>Germany</td><td>NULL</td><td>Aachen</td></tr>",
                            "<tr><td>France</td><td>NULL</td><td>Nantes</td></tr>",
                            "<tr><td>UK</td><td>NULL</td><td>London</td></tr>",
                            "<tr><td>Austria</td><td>NULL</td><td>Graz</td></tr>",
                            "<tr><td>Brazil</td><td>SP</td><td>Sao Paulo</td></tr>",
                            "<tr><td>Spain</td><td>NULL</td><td>Madrid</td></tr>",
                            "<tr><td>France</td><td>NULL</td><td>Lille</td></tr>",
                            "<tr><td>Sweden</td><td>NULL</td><td>Bräcke</td></tr>",
                            "<tr><td>Germany</td><td>NULL</td><td>München</td></tr>",
                            "<tr><td>France</td><td>NULL</td><td>Nantes</td></tr>",
                            "<tr><td>Italy</td><td>NULL</td><td>Torino</td></tr>",
                            "<tr><td>Portugal</td><td>NULL</td><td>Lisboa</td></tr>",
                            "<tr><td>Spain</td><td>NULL</td><td>Barcelona</td></tr>",
                            "<tr><td>Spain</td><td>NULL</td><td>Sevilla</td></tr>",
                            "<tr><td>Brazil</td><td>SP</td><td>Campinas</td></tr>",
                            "<tr><td>USA</td><td>OR</td><td>Eugene</td></tr>",
                            "<tr><td>Venezuela</td><td>DF</td><td>Caracas</td></tr>",
                            "<tr><td>Brazil</td><td>RJ</td><td>Rio de Janeiro</td></tr>",
                            "<tr><td>Venezuela</td><td>Táchira</td><td>San Cristóbal</td></tr>",
                            "<tr><td>USA</td><td>OR</td><td>Elgin</td></tr>",
                            "<tr><td>Ireland</td><td>Co. Cork</td><td>Cork</td></tr>",
                            "<tr><td>UK</td><td>Isle of Wight</td><td>Cowes</td></tr>",
                            "<tr><td>Germany</td><td>NULL</td><td>Brandenburg</td></tr>",
                            "<tr><td>France</td><td>NULL</td><td>Versailles</td></tr>",
                            "<tr><td>France</td><td>NULL</td><td>Toulouse</td></tr>",
                            "<tr><td>Canada</td><td>BC</td><td>Vancouver</td></tr>",
                            "<tr><td>USA</td><td>WA</td><td>Walla Walla</td></tr>",
                            "<tr><td>Germany</td><td>NULL</td><td>Frankfurt a.M.</td></tr>",
                            "<tr><td>USA</td><td>CA</td><td>San Francisco</td></tr>",
                            "<tr><td>Venezuela</td><td>Lara</td><td>Barquisimeto</td></tr>",
                            "<tr><td>Venezuela</td><td>Nueva Esparta</td><td>I. de Margarita</td></tr>",
                            "<tr><td>USA</td><td>OR</td><td>Portland</td></tr>",
                            "<tr><td>Italy</td><td>NULL</td><td>Bergamo</td></tr>",
                            "<tr><td>Belgium</td><td>NULL</td><td>Bruxelles</td></tr>",
                            "<tr><td>Canada</td><td>Québec</td><td>Montréal</td></tr>",
                            "<tr><td>Germany</td><td>NULL</td><td>Leipzig</td></tr>",
                            "<tr><td>UK</td><td>NULL</td><td>London</td></tr>",
                            "<tr><td>Argentina</td><td>NULL</td><td>Buenos Aires</td></tr>",
                            "<tr><td>USA</td><td>AK</td><td>Anchorage</td></tr>",
                            "<tr><td>Germany</td><td>NULL</td><td>Köln</td></tr>",
                            "<tr><td>France</td><td>NULL</td><td>Paris</td></tr>",
                            "<tr><td>Mexico</td><td>NULL</td><td>México D.F.</td></tr>",
                            "<tr><td>Austria</td><td>NULL</td><td>Salzburg</td></tr>",
                            "<tr><td>Portugal</td><td>NULL</td><td>Lisboa</td></tr>",
                            "<tr><td>Brazil</td><td>RJ</td><td>Rio de Janeiro</td></tr>",
                            "<tr><td>Brazil</td><td>SP</td><td>Sao Paulo</td></tr>",
                            "<tr><td>Germany</td><td>NULL</td><td>Cunewalde</td></tr>",
                            "<tr><td>Argentina</td><td>NULL</td><td>Buenos Aires</td></tr>",
                            "<tr><td>USA</td><td>NM</td><td>Albuquerque</td></tr>",
                            "<tr><td>Italy</td><td>NULL</td><td>Reggio Emilia</td></tr>",
                            "<tr><td>Brazil</td><td>RJ</td><td>Rio de Janeiro</td></tr>",
                            "<tr><td>Switzerland</td><td>NULL</td><td>Genève</td></tr>",
                            "<tr><td>Spain</td><td>NULL</td><td>Madrid</td></tr>",
                            "<tr><td>Norway</td><td>NULL</td><td>Stavern</td></tr>",
                            "<tr><td>USA</td><td>ID</td><td>Boise</td></tr>",
                            "<tr><td>UK</td><td>NULL</td><td>London</td></tr>",
                            "<tr><td>Denmark</td><td>NULL</td><td>Kobenhavn</td></tr>",
                            "<tr><td>France</td><td>NULL</td><td>Paris</td></tr>",
                            "<tr><td>USA</td><td>WY</td><td>Lander</td></tr>",
                            "<tr><td>Belgium</td><td>NULL</td><td>Charleroi</td></tr>",
                            "<tr><td>USA</td><td>OR</td><td>Portland</td></tr>",
                            "<tr><td>USA</td><td>MT</td><td>Butte</td></tr>",
                            "<tr><td>Germany</td><td>NULL</td><td>Münster</td></tr>",
                            "<tr><td>Mexico</td><td>NULL</td><td>México D.F.</td></tr>",
                            "<tr><td>Brazil</td><td>SP</td><td>Sao Paulo</td></tr>",
                            "<tr><td>USA</td><td>WA</td><td>Kirkland</td></tr>",
                            "<tr><td>Denmark</td><td>NULL</td><td>Århus</td></tr>",
                            "<tr><td>France</td><td>NULL</td><td>Lyon</td></tr>",
                            "<tr><td>France</td><td>NULL</td><td>Reims</td></tr>",
                            "<tr><td>Germany</td><td>NULL</td><td>Stuttgart</td></tr>",
                            "<tr><td>Finland</td><td>NULL</td><td>Oulu</td></tr>",
                            "<tr><td>Brazil</td><td>SP</td><td>Resende</td></tr>",
                            "<tr><td>USA</td><td>WA</td><td>Seattle</td></tr>",
                            "<tr><td>Finland</td><td>NULL</td><td>Helsinki</td></tr>",
                            "<tr><td>Poland</td><td>NULL</td><td>Warszawa</td></tr>",
                            "</table>"
                        ]
                    }
                }
            ],
            "execution_count": 4
        },
        {
            "cell_type": "markdown",
            "source": [
                "1.3. El operador UNION ALL devuelve todas las filas de ambas tablas excluyendo duplicados"
            ],
            "metadata": {
                "azdata_cell_guid": "baf6fd76-49fc-4c50-b636-50676f55d82a"
            }
        },
        {
            "cell_type": "code",
            "source": [
                "SELECT country, region, city FROM HR.Employees \r\n",
                "UNION \r\n",
                "SELECT country, region, city FROM Sales.Customers; "
            ],
            "metadata": {
                "azdata_cell_guid": "2156d210-6a72-4e47-9e63-64286fbb0963"
            },
            "outputs": [
                {
                    "output_type": "display_data",
                    "data": {
                        "text/html": "(71 rows affected)"
                    },
                    "metadata": {}
                },
                {
                    "output_type": "display_data",
                    "data": {
                        "text/html": "Total execution time: 00:00:00.252"
                    },
                    "metadata": {}
                },
                {
                    "output_type": "execute_result",
                    "metadata": {},
                    "execution_count": 5,
                    "data": {
                        "application/vnd.dataresource+json": {
                            "schema": {
                                "fields": [
                                    {
                                        "name": "country"
                                    },
                                    {
                                        "name": "region"
                                    },
                                    {
                                        "name": "city"
                                    }
                                ]
                            },
                            "data": [
                                {
                                    "0": "Argentina",
                                    "1": "NULL",
                                    "2": "Buenos Aires"
                                },
                                {
                                    "0": "Austria",
                                    "1": "NULL",
                                    "2": "Graz"
                                },
                                {
                                    "0": "Austria",
                                    "1": "NULL",
                                    "2": "Salzburg"
                                },
                                {
                                    "0": "Belgium",
                                    "1": "NULL",
                                    "2": "Bruxelles"
                                },
                                {
                                    "0": "Belgium",
                                    "1": "NULL",
                                    "2": "Charleroi"
                                },
                                {
                                    "0": "Brazil",
                                    "1": "RJ",
                                    "2": "Rio de Janeiro"
                                },
                                {
                                    "0": "Brazil",
                                    "1": "SP",
                                    "2": "Campinas"
                                },
                                {
                                    "0": "Brazil",
                                    "1": "SP",
                                    "2": "Resende"
                                },
                                {
                                    "0": "Brazil",
                                    "1": "SP",
                                    "2": "Sao Paulo"
                                },
                                {
                                    "0": "Canada",
                                    "1": "BC",
                                    "2": "Tsawassen"
                                },
                                {
                                    "0": "Canada",
                                    "1": "BC",
                                    "2": "Vancouver"
                                },
                                {
                                    "0": "Canada",
                                    "1": "Québec",
                                    "2": "Montréal"
                                },
                                {
                                    "0": "Denmark",
                                    "1": "NULL",
                                    "2": "Århus"
                                },
                                {
                                    "0": "Denmark",
                                    "1": "NULL",
                                    "2": "Kobenhavn"
                                },
                                {
                                    "0": "Finland",
                                    "1": "NULL",
                                    "2": "Helsinki"
                                },
                                {
                                    "0": "Finland",
                                    "1": "NULL",
                                    "2": "Oulu"
                                },
                                {
                                    "0": "France",
                                    "1": "NULL",
                                    "2": "Lille"
                                },
                                {
                                    "0": "France",
                                    "1": "NULL",
                                    "2": "Lyon"
                                },
                                {
                                    "0": "France",
                                    "1": "NULL",
                                    "2": "Marseille"
                                },
                                {
                                    "0": "France",
                                    "1": "NULL",
                                    "2": "Nantes"
                                },
                                {
                                    "0": "France",
                                    "1": "NULL",
                                    "2": "Paris"
                                },
                                {
                                    "0": "France",
                                    "1": "NULL",
                                    "2": "Reims"
                                },
                                {
                                    "0": "France",
                                    "1": "NULL",
                                    "2": "Strasbourg"
                                },
                                {
                                    "0": "France",
                                    "1": "NULL",
                                    "2": "Toulouse"
                                },
                                {
                                    "0": "France",
                                    "1": "NULL",
                                    "2": "Versailles"
                                },
                                {
                                    "0": "Germany",
                                    "1": "NULL",
                                    "2": "Aachen"
                                },
                                {
                                    "0": "Germany",
                                    "1": "NULL",
                                    "2": "Berlin"
                                },
                                {
                                    "0": "Germany",
                                    "1": "NULL",
                                    "2": "Brandenburg"
                                },
                                {
                                    "0": "Germany",
                                    "1": "NULL",
                                    "2": "Cunewalde"
                                },
                                {
                                    "0": "Germany",
                                    "1": "NULL",
                                    "2": "Frankfurt a.M."
                                },
                                {
                                    "0": "Germany",
                                    "1": "NULL",
                                    "2": "Köln"
                                },
                                {
                                    "0": "Germany",
                                    "1": "NULL",
                                    "2": "Leipzig"
                                },
                                {
                                    "0": "Germany",
                                    "1": "NULL",
                                    "2": "Mannheim"
                                },
                                {
                                    "0": "Germany",
                                    "1": "NULL",
                                    "2": "München"
                                },
                                {
                                    "0": "Germany",
                                    "1": "NULL",
                                    "2": "Münster"
                                },
                                {
                                    "0": "Germany",
                                    "1": "NULL",
                                    "2": "Stuttgart"
                                },
                                {
                                    "0": "Ireland",
                                    "1": "Co. Cork",
                                    "2": "Cork"
                                },
                                {
                                    "0": "Italy",
                                    "1": "NULL",
                                    "2": "Bergamo"
                                },
                                {
                                    "0": "Italy",
                                    "1": "NULL",
                                    "2": "Reggio Emilia"
                                },
                                {
                                    "0": "Italy",
                                    "1": "NULL",
                                    "2": "Torino"
                                },
                                {
                                    "0": "Mexico",
                                    "1": "NULL",
                                    "2": "México D.F."
                                },
                                {
                                    "0": "Norway",
                                    "1": "NULL",
                                    "2": "Stavern"
                                },
                                {
                                    "0": "Poland",
                                    "1": "NULL",
                                    "2": "Warszawa"
                                },
                                {
                                    "0": "Portugal",
                                    "1": "NULL",
                                    "2": "Lisboa"
                                },
                                {
                                    "0": "Spain",
                                    "1": "NULL",
                                    "2": "Barcelona"
                                },
                                {
                                    "0": "Spain",
                                    "1": "NULL",
                                    "2": "Madrid"
                                },
                                {
                                    "0": "Spain",
                                    "1": "NULL",
                                    "2": "Sevilla"
                                },
                                {
                                    "0": "Sweden",
                                    "1": "NULL",
                                    "2": "Bräcke"
                                },
                                {
                                    "0": "Sweden",
                                    "1": "NULL",
                                    "2": "Luleå"
                                },
                                {
                                    "0": "Switzerland",
                                    "1": "NULL",
                                    "2": "Bern"
                                },
                                {
                                    "0": "Switzerland",
                                    "1": "NULL",
                                    "2": "Genève"
                                },
                                {
                                    "0": "UK",
                                    "1": "NULL",
                                    "2": "London"
                                },
                                {
                                    "0": "UK",
                                    "1": "Isle of Wight",
                                    "2": "Cowes"
                                },
                                {
                                    "0": "USA",
                                    "1": "AK",
                                    "2": "Anchorage"
                                },
                                {
                                    "0": "USA",
                                    "1": "CA",
                                    "2": "San Francisco"
                                },
                                {
                                    "0": "USA",
                                    "1": "ID",
                                    "2": "Boise"
                                },
                                {
                                    "0": "USA",
                                    "1": "MT",
                                    "2": "Butte"
                                },
                                {
                                    "0": "USA",
                                    "1": "NM",
                                    "2": "Albuquerque"
                                },
                                {
                                    "0": "USA",
                                    "1": "OR",
                                    "2": "Elgin"
                                },
                                {
                                    "0": "USA",
                                    "1": "OR",
                                    "2": "Eugene"
                                },
                                {
                                    "0": "USA",
                                    "1": "OR",
                                    "2": "Portland"
                                },
                                {
                                    "0": "USA",
                                    "1": "WA",
                                    "2": "Kirkland"
                                },
                                {
                                    "0": "USA",
                                    "1": "WA",
                                    "2": "Redmond"
                                },
                                {
                                    "0": "USA",
                                    "1": "WA",
                                    "2": "Seattle"
                                },
                                {
                                    "0": "USA",
                                    "1": "WA",
                                    "2": "Tacoma"
                                },
                                {
                                    "0": "USA",
                                    "1": "WA",
                                    "2": "Walla Walla"
                                },
                                {
                                    "0": "USA",
                                    "1": "WY",
                                    "2": "Lander"
                                },
                                {
                                    "0": "Venezuela",
                                    "1": "DF",
                                    "2": "Caracas"
                                },
                                {
                                    "0": "Venezuela",
                                    "1": "Lara",
                                    "2": "Barquisimeto"
                                },
                                {
                                    "0": "Venezuela",
                                    "1": "Nueva Esparta",
                                    "2": "I. de Margarita"
                                },
                                {
                                    "0": "Venezuela",
                                    "1": "Táchira",
                                    "2": "San Cristóbal"
                                }
                            ]
                        },
                        "text/html": [
                            "<table>",
                            "<tr><th>country</th><th>region</th><th>city</th></tr>",
                            "<tr><td>Argentina</td><td>NULL</td><td>Buenos Aires</td></tr>",
                            "<tr><td>Austria</td><td>NULL</td><td>Graz</td></tr>",
                            "<tr><td>Austria</td><td>NULL</td><td>Salzburg</td></tr>",
                            "<tr><td>Belgium</td><td>NULL</td><td>Bruxelles</td></tr>",
                            "<tr><td>Belgium</td><td>NULL</td><td>Charleroi</td></tr>",
                            "<tr><td>Brazil</td><td>RJ</td><td>Rio de Janeiro</td></tr>",
                            "<tr><td>Brazil</td><td>SP</td><td>Campinas</td></tr>",
                            "<tr><td>Brazil</td><td>SP</td><td>Resende</td></tr>",
                            "<tr><td>Brazil</td><td>SP</td><td>Sao Paulo</td></tr>",
                            "<tr><td>Canada</td><td>BC</td><td>Tsawassen</td></tr>",
                            "<tr><td>Canada</td><td>BC</td><td>Vancouver</td></tr>",
                            "<tr><td>Canada</td><td>Québec</td><td>Montréal</td></tr>",
                            "<tr><td>Denmark</td><td>NULL</td><td>Århus</td></tr>",
                            "<tr><td>Denmark</td><td>NULL</td><td>Kobenhavn</td></tr>",
                            "<tr><td>Finland</td><td>NULL</td><td>Helsinki</td></tr>",
                            "<tr><td>Finland</td><td>NULL</td><td>Oulu</td></tr>",
                            "<tr><td>France</td><td>NULL</td><td>Lille</td></tr>",
                            "<tr><td>France</td><td>NULL</td><td>Lyon</td></tr>",
                            "<tr><td>France</td><td>NULL</td><td>Marseille</td></tr>",
                            "<tr><td>France</td><td>NULL</td><td>Nantes</td></tr>",
                            "<tr><td>France</td><td>NULL</td><td>Paris</td></tr>",
                            "<tr><td>France</td><td>NULL</td><td>Reims</td></tr>",
                            "<tr><td>France</td><td>NULL</td><td>Strasbourg</td></tr>",
                            "<tr><td>France</td><td>NULL</td><td>Toulouse</td></tr>",
                            "<tr><td>France</td><td>NULL</td><td>Versailles</td></tr>",
                            "<tr><td>Germany</td><td>NULL</td><td>Aachen</td></tr>",
                            "<tr><td>Germany</td><td>NULL</td><td>Berlin</td></tr>",
                            "<tr><td>Germany</td><td>NULL</td><td>Brandenburg</td></tr>",
                            "<tr><td>Germany</td><td>NULL</td><td>Cunewalde</td></tr>",
                            "<tr><td>Germany</td><td>NULL</td><td>Frankfurt a.M.</td></tr>",
                            "<tr><td>Germany</td><td>NULL</td><td>Köln</td></tr>",
                            "<tr><td>Germany</td><td>NULL</td><td>Leipzig</td></tr>",
                            "<tr><td>Germany</td><td>NULL</td><td>Mannheim</td></tr>",
                            "<tr><td>Germany</td><td>NULL</td><td>München</td></tr>",
                            "<tr><td>Germany</td><td>NULL</td><td>Münster</td></tr>",
                            "<tr><td>Germany</td><td>NULL</td><td>Stuttgart</td></tr>",
                            "<tr><td>Ireland</td><td>Co. Cork</td><td>Cork</td></tr>",
                            "<tr><td>Italy</td><td>NULL</td><td>Bergamo</td></tr>",
                            "<tr><td>Italy</td><td>NULL</td><td>Reggio Emilia</td></tr>",
                            "<tr><td>Italy</td><td>NULL</td><td>Torino</td></tr>",
                            "<tr><td>Mexico</td><td>NULL</td><td>México D.F.</td></tr>",
                            "<tr><td>Norway</td><td>NULL</td><td>Stavern</td></tr>",
                            "<tr><td>Poland</td><td>NULL</td><td>Warszawa</td></tr>",
                            "<tr><td>Portugal</td><td>NULL</td><td>Lisboa</td></tr>",
                            "<tr><td>Spain</td><td>NULL</td><td>Barcelona</td></tr>",
                            "<tr><td>Spain</td><td>NULL</td><td>Madrid</td></tr>",
                            "<tr><td>Spain</td><td>NULL</td><td>Sevilla</td></tr>",
                            "<tr><td>Sweden</td><td>NULL</td><td>Bräcke</td></tr>",
                            "<tr><td>Sweden</td><td>NULL</td><td>Luleå</td></tr>",
                            "<tr><td>Switzerland</td><td>NULL</td><td>Bern</td></tr>",
                            "<tr><td>Switzerland</td><td>NULL</td><td>Genève</td></tr>",
                            "<tr><td>UK</td><td>NULL</td><td>London</td></tr>",
                            "<tr><td>UK</td><td>Isle of Wight</td><td>Cowes</td></tr>",
                            "<tr><td>USA</td><td>AK</td><td>Anchorage</td></tr>",
                            "<tr><td>USA</td><td>CA</td><td>San Francisco</td></tr>",
                            "<tr><td>USA</td><td>ID</td><td>Boise</td></tr>",
                            "<tr><td>USA</td><td>MT</td><td>Butte</td></tr>",
                            "<tr><td>USA</td><td>NM</td><td>Albuquerque</td></tr>",
                            "<tr><td>USA</td><td>OR</td><td>Elgin</td></tr>",
                            "<tr><td>USA</td><td>OR</td><td>Eugene</td></tr>",
                            "<tr><td>USA</td><td>OR</td><td>Portland</td></tr>",
                            "<tr><td>USA</td><td>WA</td><td>Kirkland</td></tr>",
                            "<tr><td>USA</td><td>WA</td><td>Redmond</td></tr>",
                            "<tr><td>USA</td><td>WA</td><td>Seattle</td></tr>",
                            "<tr><td>USA</td><td>WA</td><td>Tacoma</td></tr>",
                            "<tr><td>USA</td><td>WA</td><td>Walla Walla</td></tr>",
                            "<tr><td>USA</td><td>WY</td><td>Lander</td></tr>",
                            "<tr><td>Venezuela</td><td>DF</td><td>Caracas</td></tr>",
                            "<tr><td>Venezuela</td><td>Lara</td><td>Barquisimeto</td></tr>",
                            "<tr><td>Venezuela</td><td>Nueva Esparta</td><td>I. de Margarita</td></tr>",
                            "<tr><td>Venezuela</td><td>Táchira</td><td>San Cristóbal</td></tr>",
                            "</table>"
                        ]
                    }
                }
            ],
            "execution_count": 5
        },
        {
            "cell_type": "markdown",
            "source": [
                "<h2>2. Operador EXCEPT y INTERSECT"
            ],
            "metadata": {
                "azdata_cell_guid": "d63c9fa9-a516-440f-8018-aaa6560ea20f"
            }
        },
        {
            "cell_type": "markdown",
            "source": [
                "2.1. El operador INTERSECT retorna solo las filas encontradas en ambas tablas"
            ],
            "metadata": {
                "azdata_cell_guid": "ceb1771e-f591-4b89-8f44-8e67d1228cc7"
            }
        },
        {
            "cell_type": "code",
            "source": [
                "SELECT country, region, city FROM HR.Employees\r\n",
                "INTERSECT -- 3 distinct rows \r\n",
                "SELECT country, region, city FROM Sales.Customers;"
            ],
            "metadata": {
                "azdata_cell_guid": "c9f2afe5-7fe5-444b-83af-f46f47853c57"
            },
            "outputs": [
                {
                    "output_type": "display_data",
                    "data": {
                        "text/html": "(3 rows affected)"
                    },
                    "metadata": {}
                },
                {
                    "output_type": "display_data",
                    "data": {
                        "text/html": "Total execution time: 00:00:00.218"
                    },
                    "metadata": {}
                },
                {
                    "output_type": "execute_result",
                    "metadata": {},
                    "execution_count": 6,
                    "data": {
                        "application/vnd.dataresource+json": {
                            "schema": {
                                "fields": [
                                    {
                                        "name": "country"
                                    },
                                    {
                                        "name": "region"
                                    },
                                    {
                                        "name": "city"
                                    }
                                ]
                            },
                            "data": [
                                {
                                    "0": "UK",
                                    "1": "NULL",
                                    "2": "London"
                                },
                                {
                                    "0": "USA",
                                    "1": "WA",
                                    "2": "Kirkland"
                                },
                                {
                                    "0": "USA",
                                    "1": "WA",
                                    "2": "Seattle"
                                }
                            ]
                        },
                        "text/html": [
                            "<table>",
                            "<tr><th>country</th><th>region</th><th>city</th></tr>",
                            "<tr><td>UK</td><td>NULL</td><td>London</td></tr>",
                            "<tr><td>USA</td><td>WA</td><td>Kirkland</td></tr>",
                            "<tr><td>USA</td><td>WA</td><td>Seattle</td></tr>",
                            "</table>"
                        ]
                    }
                }
            ],
            "execution_count": 6
        },
        {
            "cell_type": "markdown",
            "source": [
                "2.2. El operador EXCEPT retorna solo las filas de la tabla tabla derecha (HR.Employees) que no se intersectan con la tabla izquierda."
            ],
            "metadata": {
                "azdata_cell_guid": "75181983-5cca-42b4-abb9-24229a401dbf"
            }
        },
        {
            "cell_type": "code",
            "source": [
                "SELECT country, region, city FROM HR.Employees\r\n",
                "EXCEPT \r\n",
                "SELECT country, region, city FROM Sales.Customers;"
            ],
            "metadata": {
                "azdata_cell_guid": "0dfab54c-404e-401e-914b-68c1c9986642"
            },
            "outputs": [
                {
                    "output_type": "display_data",
                    "data": {
                        "text/html": "(2 rows affected)"
                    },
                    "metadata": {}
                },
                {
                    "output_type": "display_data",
                    "data": {
                        "text/html": "Total execution time: 00:00:00.201"
                    },
                    "metadata": {}
                },
                {
                    "output_type": "execute_result",
                    "metadata": {},
                    "execution_count": 7,
                    "data": {
                        "application/vnd.dataresource+json": {
                            "schema": {
                                "fields": [
                                    {
                                        "name": "country"
                                    },
                                    {
                                        "name": "region"
                                    },
                                    {
                                        "name": "city"
                                    }
                                ]
                            },
                            "data": [
                                {
                                    "0": "USA",
                                    "1": "WA",
                                    "2": "Redmond"
                                },
                                {
                                    "0": "USA",
                                    "1": "WA",
                                    "2": "Tacoma"
                                }
                            ]
                        },
                        "text/html": [
                            "<table>",
                            "<tr><th>country</th><th>region</th><th>city</th></tr>",
                            "<tr><td>USA</td><td>WA</td><td>Redmond</td></tr>",
                            "<tr><td>USA</td><td>WA</td><td>Tacoma</td></tr>",
                            "</table>"
                        ]
                    }
                }
            ],
            "execution_count": 7
        },
        {
            "cell_type": "markdown",
            "source": [
                "2.3. El operador EXCEPT retorna solo las filas de la tabla tabla derecha (Sales.Custormers) que no se intersectan con la tabla izquierda."
            ],
            "metadata": {
                "azdata_cell_guid": "3a051271-254d-4e6e-aa70-ed401dbb01f2"
            }
        },
        {
            "cell_type": "code",
            "source": [
                "SELECT country, region, city FROM Sales.Customers\r\n",
                "EXCEPT \r\n",
                "SELECT country, region, city FROM HR.Employees;"
            ],
            "metadata": {
                "azdata_cell_guid": "e663ba7a-e52a-41ee-adff-4d867f78d8b6"
            },
            "outputs": [
                {
                    "output_type": "display_data",
                    "data": {
                        "text/html": "(66 rows affected)"
                    },
                    "metadata": {}
                },
                {
                    "output_type": "display_data",
                    "data": {
                        "text/html": "Total execution time: 00:00:00.290"
                    },
                    "metadata": {}
                },
                {
                    "output_type": "execute_result",
                    "metadata": {},
                    "execution_count": 8,
                    "data": {
                        "application/vnd.dataresource+json": {
                            "schema": {
                                "fields": [
                                    {
                                        "name": "country"
                                    },
                                    {
                                        "name": "region"
                                    },
                                    {
                                        "name": "city"
                                    }
                                ]
                            },
                            "data": [
                                {
                                    "0": "Argentina",
                                    "1": "NULL",
                                    "2": "Buenos Aires"
                                },
                                {
                                    "0": "Austria",
                                    "1": "NULL",
                                    "2": "Graz"
                                },
                                {
                                    "0": "Austria",
                                    "1": "NULL",
                                    "2": "Salzburg"
                                },
                                {
                                    "0": "Belgium",
                                    "1": "NULL",
                                    "2": "Bruxelles"
                                },
                                {
                                    "0": "Belgium",
                                    "1": "NULL",
                                    "2": "Charleroi"
                                },
                                {
                                    "0": "Brazil",
                                    "1": "RJ",
                                    "2": "Rio de Janeiro"
                                },
                                {
                                    "0": "Brazil",
                                    "1": "SP",
                                    "2": "Campinas"
                                },
                                {
                                    "0": "Brazil",
                                    "1": "SP",
                                    "2": "Resende"
                                },
                                {
                                    "0": "Brazil",
                                    "1": "SP",
                                    "2": "Sao Paulo"
                                },
                                {
                                    "0": "Canada",
                                    "1": "BC",
                                    "2": "Tsawassen"
                                },
                                {
                                    "0": "Canada",
                                    "1": "BC",
                                    "2": "Vancouver"
                                },
                                {
                                    "0": "Canada",
                                    "1": "Québec",
                                    "2": "Montréal"
                                },
                                {
                                    "0": "Denmark",
                                    "1": "NULL",
                                    "2": "Århus"
                                },
                                {
                                    "0": "Denmark",
                                    "1": "NULL",
                                    "2": "Kobenhavn"
                                },
                                {
                                    "0": "Finland",
                                    "1": "NULL",
                                    "2": "Helsinki"
                                },
                                {
                                    "0": "Finland",
                                    "1": "NULL",
                                    "2": "Oulu"
                                },
                                {
                                    "0": "France",
                                    "1": "NULL",
                                    "2": "Lille"
                                },
                                {
                                    "0": "France",
                                    "1": "NULL",
                                    "2": "Lyon"
                                },
                                {
                                    "0": "France",
                                    "1": "NULL",
                                    "2": "Marseille"
                                },
                                {
                                    "0": "France",
                                    "1": "NULL",
                                    "2": "Nantes"
                                },
                                {
                                    "0": "France",
                                    "1": "NULL",
                                    "2": "Paris"
                                },
                                {
                                    "0": "France",
                                    "1": "NULL",
                                    "2": "Reims"
                                },
                                {
                                    "0": "France",
                                    "1": "NULL",
                                    "2": "Strasbourg"
                                },
                                {
                                    "0": "France",
                                    "1": "NULL",
                                    "2": "Toulouse"
                                },
                                {
                                    "0": "France",
                                    "1": "NULL",
                                    "2": "Versailles"
                                },
                                {
                                    "0": "Germany",
                                    "1": "NULL",
                                    "2": "Aachen"
                                },
                                {
                                    "0": "Germany",
                                    "1": "NULL",
                                    "2": "Berlin"
                                },
                                {
                                    "0": "Germany",
                                    "1": "NULL",
                                    "2": "Brandenburg"
                                },
                                {
                                    "0": "Germany",
                                    "1": "NULL",
                                    "2": "Cunewalde"
                                },
                                {
                                    "0": "Germany",
                                    "1": "NULL",
                                    "2": "Frankfurt a.M."
                                },
                                {
                                    "0": "Germany",
                                    "1": "NULL",
                                    "2": "Köln"
                                },
                                {
                                    "0": "Germany",
                                    "1": "NULL",
                                    "2": "Leipzig"
                                },
                                {
                                    "0": "Germany",
                                    "1": "NULL",
                                    "2": "Mannheim"
                                },
                                {
                                    "0": "Germany",
                                    "1": "NULL",
                                    "2": "München"
                                },
                                {
                                    "0": "Germany",
                                    "1": "NULL",
                                    "2": "Münster"
                                },
                                {
                                    "0": "Germany",
                                    "1": "NULL",
                                    "2": "Stuttgart"
                                },
                                {
                                    "0": "Ireland",
                                    "1": "Co. Cork",
                                    "2": "Cork"
                                },
                                {
                                    "0": "Italy",
                                    "1": "NULL",
                                    "2": "Bergamo"
                                },
                                {
                                    "0": "Italy",
                                    "1": "NULL",
                                    "2": "Reggio Emilia"
                                },
                                {
                                    "0": "Italy",
                                    "1": "NULL",
                                    "2": "Torino"
                                },
                                {
                                    "0": "Mexico",
                                    "1": "NULL",
                                    "2": "México D.F."
                                },
                                {
                                    "0": "Norway",
                                    "1": "NULL",
                                    "2": "Stavern"
                                },
                                {
                                    "0": "Poland",
                                    "1": "NULL",
                                    "2": "Warszawa"
                                },
                                {
                                    "0": "Portugal",
                                    "1": "NULL",
                                    "2": "Lisboa"
                                },
                                {
                                    "0": "Spain",
                                    "1": "NULL",
                                    "2": "Barcelona"
                                },
                                {
                                    "0": "Spain",
                                    "1": "NULL",
                                    "2": "Madrid"
                                },
                                {
                                    "0": "Spain",
                                    "1": "NULL",
                                    "2": "Sevilla"
                                },
                                {
                                    "0": "Sweden",
                                    "1": "NULL",
                                    "2": "Bräcke"
                                },
                                {
                                    "0": "Sweden",
                                    "1": "NULL",
                                    "2": "Luleå"
                                },
                                {
                                    "0": "Switzerland",
                                    "1": "NULL",
                                    "2": "Bern"
                                },
                                {
                                    "0": "Switzerland",
                                    "1": "NULL",
                                    "2": "Genève"
                                },
                                {
                                    "0": "UK",
                                    "1": "Isle of Wight",
                                    "2": "Cowes"
                                },
                                {
                                    "0": "USA",
                                    "1": "AK",
                                    "2": "Anchorage"
                                },
                                {
                                    "0": "USA",
                                    "1": "CA",
                                    "2": "San Francisco"
                                },
                                {
                                    "0": "USA",
                                    "1": "ID",
                                    "2": "Boise"
                                },
                                {
                                    "0": "USA",
                                    "1": "MT",
                                    "2": "Butte"
                                },
                                {
                                    "0": "USA",
                                    "1": "NM",
                                    "2": "Albuquerque"
                                },
                                {
                                    "0": "USA",
                                    "1": "OR",
                                    "2": "Elgin"
                                },
                                {
                                    "0": "USA",
                                    "1": "OR",
                                    "2": "Eugene"
                                },
                                {
                                    "0": "USA",
                                    "1": "OR",
                                    "2": "Portland"
                                },
                                {
                                    "0": "USA",
                                    "1": "WA",
                                    "2": "Walla Walla"
                                },
                                {
                                    "0": "USA",
                                    "1": "WY",
                                    "2": "Lander"
                                },
                                {
                                    "0": "Venezuela",
                                    "1": "DF",
                                    "2": "Caracas"
                                },
                                {
                                    "0": "Venezuela",
                                    "1": "Lara",
                                    "2": "Barquisimeto"
                                },
                                {
                                    "0": "Venezuela",
                                    "1": "Nueva Esparta",
                                    "2": "I. de Margarita"
                                },
                                {
                                    "0": "Venezuela",
                                    "1": "Táchira",
                                    "2": "San Cristóbal"
                                }
                            ]
                        },
                        "text/html": [
                            "<table>",
                            "<tr><th>country</th><th>region</th><th>city</th></tr>",
                            "<tr><td>Argentina</td><td>NULL</td><td>Buenos Aires</td></tr>",
                            "<tr><td>Austria</td><td>NULL</td><td>Graz</td></tr>",
                            "<tr><td>Austria</td><td>NULL</td><td>Salzburg</td></tr>",
                            "<tr><td>Belgium</td><td>NULL</td><td>Bruxelles</td></tr>",
                            "<tr><td>Belgium</td><td>NULL</td><td>Charleroi</td></tr>",
                            "<tr><td>Brazil</td><td>RJ</td><td>Rio de Janeiro</td></tr>",
                            "<tr><td>Brazil</td><td>SP</td><td>Campinas</td></tr>",
                            "<tr><td>Brazil</td><td>SP</td><td>Resende</td></tr>",
                            "<tr><td>Brazil</td><td>SP</td><td>Sao Paulo</td></tr>",
                            "<tr><td>Canada</td><td>BC</td><td>Tsawassen</td></tr>",
                            "<tr><td>Canada</td><td>BC</td><td>Vancouver</td></tr>",
                            "<tr><td>Canada</td><td>Québec</td><td>Montréal</td></tr>",
                            "<tr><td>Denmark</td><td>NULL</td><td>Århus</td></tr>",
                            "<tr><td>Denmark</td><td>NULL</td><td>Kobenhavn</td></tr>",
                            "<tr><td>Finland</td><td>NULL</td><td>Helsinki</td></tr>",
                            "<tr><td>Finland</td><td>NULL</td><td>Oulu</td></tr>",
                            "<tr><td>France</td><td>NULL</td><td>Lille</td></tr>",
                            "<tr><td>France</td><td>NULL</td><td>Lyon</td></tr>",
                            "<tr><td>France</td><td>NULL</td><td>Marseille</td></tr>",
                            "<tr><td>France</td><td>NULL</td><td>Nantes</td></tr>",
                            "<tr><td>France</td><td>NULL</td><td>Paris</td></tr>",
                            "<tr><td>France</td><td>NULL</td><td>Reims</td></tr>",
                            "<tr><td>France</td><td>NULL</td><td>Strasbourg</td></tr>",
                            "<tr><td>France</td><td>NULL</td><td>Toulouse</td></tr>",
                            "<tr><td>France</td><td>NULL</td><td>Versailles</td></tr>",
                            "<tr><td>Germany</td><td>NULL</td><td>Aachen</td></tr>",
                            "<tr><td>Germany</td><td>NULL</td><td>Berlin</td></tr>",
                            "<tr><td>Germany</td><td>NULL</td><td>Brandenburg</td></tr>",
                            "<tr><td>Germany</td><td>NULL</td><td>Cunewalde</td></tr>",
                            "<tr><td>Germany</td><td>NULL</td><td>Frankfurt a.M.</td></tr>",
                            "<tr><td>Germany</td><td>NULL</td><td>Köln</td></tr>",
                            "<tr><td>Germany</td><td>NULL</td><td>Leipzig</td></tr>",
                            "<tr><td>Germany</td><td>NULL</td><td>Mannheim</td></tr>",
                            "<tr><td>Germany</td><td>NULL</td><td>München</td></tr>",
                            "<tr><td>Germany</td><td>NULL</td><td>Münster</td></tr>",
                            "<tr><td>Germany</td><td>NULL</td><td>Stuttgart</td></tr>",
                            "<tr><td>Ireland</td><td>Co. Cork</td><td>Cork</td></tr>",
                            "<tr><td>Italy</td><td>NULL</td><td>Bergamo</td></tr>",
                            "<tr><td>Italy</td><td>NULL</td><td>Reggio Emilia</td></tr>",
                            "<tr><td>Italy</td><td>NULL</td><td>Torino</td></tr>",
                            "<tr><td>Mexico</td><td>NULL</td><td>México D.F.</td></tr>",
                            "<tr><td>Norway</td><td>NULL</td><td>Stavern</td></tr>",
                            "<tr><td>Poland</td><td>NULL</td><td>Warszawa</td></tr>",
                            "<tr><td>Portugal</td><td>NULL</td><td>Lisboa</td></tr>",
                            "<tr><td>Spain</td><td>NULL</td><td>Barcelona</td></tr>",
                            "<tr><td>Spain</td><td>NULL</td><td>Madrid</td></tr>",
                            "<tr><td>Spain</td><td>NULL</td><td>Sevilla</td></tr>",
                            "<tr><td>Sweden</td><td>NULL</td><td>Bräcke</td></tr>",
                            "<tr><td>Sweden</td><td>NULL</td><td>Luleå</td></tr>",
                            "<tr><td>Switzerland</td><td>NULL</td><td>Bern</td></tr>",
                            "<tr><td>Switzerland</td><td>NULL</td><td>Genève</td></tr>",
                            "<tr><td>UK</td><td>Isle of Wight</td><td>Cowes</td></tr>",
                            "<tr><td>USA</td><td>AK</td><td>Anchorage</td></tr>",
                            "<tr><td>USA</td><td>CA</td><td>San Francisco</td></tr>",
                            "<tr><td>USA</td><td>ID</td><td>Boise</td></tr>",
                            "<tr><td>USA</td><td>MT</td><td>Butte</td></tr>",
                            "<tr><td>USA</td><td>NM</td><td>Albuquerque</td></tr>",
                            "<tr><td>USA</td><td>OR</td><td>Elgin</td></tr>",
                            "<tr><td>USA</td><td>OR</td><td>Eugene</td></tr>",
                            "<tr><td>USA</td><td>OR</td><td>Portland</td></tr>",
                            "<tr><td>USA</td><td>WA</td><td>Walla Walla</td></tr>",
                            "<tr><td>USA</td><td>WY</td><td>Lander</td></tr>",
                            "<tr><td>Venezuela</td><td>DF</td><td>Caracas</td></tr>",
                            "<tr><td>Venezuela</td><td>Lara</td><td>Barquisimeto</td></tr>",
                            "<tr><td>Venezuela</td><td>Nueva Esparta</td><td>I. de Margarita</td></tr>",
                            "<tr><td>Venezuela</td><td>Táchira</td><td>San Cristóbal</td></tr>",
                            "</table>"
                        ]
                    }
                }
            ],
            "execution_count": 8
        },
        {
            "cell_type": "markdown",
            "source": [
                "<h2>3. Utilizando el Operador APPLY"
            ],
            "metadata": {
                "azdata_cell_guid": "915d1371-a636-494f-bf85-7ce06b37827b"
            }
        },
        {
            "cell_type": "markdown",
            "source": [
                "3.1. Crear una función de tabla que acepte una variable SupplierID y retorne el top 3 de los productos más costosos de ese proveedor"
            ],
            "metadata": {
                "azdata_cell_guid": "a822cf5f-e2ad-4f38-a3b4-a34946de313d"
            }
        },
        {
            "cell_type": "code",
            "source": [
                "CREATE FUNCTION dbo.fn_TopProductsByShipper\r\n",
                "(@supplierid int)\r\n",
                "RETURNS TABLE\r\n",
                "AS\r\n",
                "RETURN\r\n",
                "\tSELECT TOP (3) productid, productname, unitprice\r\n",
                "\tFROM Production.Products\r\n",
                "\tWHERE supplierid = @supplierid\r\n",
                "\tORDER BY unitprice DESC;\r\n",
                "GO"
            ],
            "metadata": {
                "azdata_cell_guid": "6685ff3a-f25b-4b2b-aefd-381a3589fd3e"
            },
            "outputs": [
                {
                    "output_type": "display_data",
                    "data": {
                        "text/html": "Commands completed successfully."
                    },
                    "metadata": {}
                },
                {
                    "output_type": "display_data",
                    "data": {
                        "text/html": "Total execution time: 00:00:00.184"
                    },
                    "metadata": {}
                }
            ],
            "execution_count": 9
        },
        {
            "cell_type": "markdown",
            "source": [
                "3.2. Probar la función con el proveedor ID=2"
            ],
            "metadata": {
                "azdata_cell_guid": "22513e22-9b32-44bc-b1f9-d743bc8d7497"
            }
        },
        {
            "cell_type": "code",
            "source": [
                "SELECT * FROM dbo.fn_TopProductsByShipper(2);\r\n",
                ""
            ],
            "metadata": {
                "azdata_cell_guid": "b6e4cd97-9612-4ef7-a42e-958aa65e09de"
            },
            "outputs": [
                {
                    "output_type": "display_data",
                    "data": {
                        "text/html": "(3 rows affected)"
                    },
                    "metadata": {}
                },
                {
                    "output_type": "display_data",
                    "data": {
                        "text/html": "Total execution time: 00:00:00.219"
                    },
                    "metadata": {}
                },
                {
                    "output_type": "execute_result",
                    "metadata": {},
                    "execution_count": 10,
                    "data": {
                        "application/vnd.dataresource+json": {
                            "schema": {
                                "fields": [
                                    {
                                        "name": "productid"
                                    },
                                    {
                                        "name": "productname"
                                    },
                                    {
                                        "name": "unitprice"
                                    }
                                ]
                            },
                            "data": [
                                {
                                    "0": "4",
                                    "1": "Product KSBRM",
                                    "2": "22.0000"
                                },
                                {
                                    "0": "5",
                                    "1": "Product EPEIM",
                                    "2": "21.3500"
                                },
                                {
                                    "0": "65",
                                    "1": "Product XYWBZ",
                                    "2": "21.0500"
                                }
                            ]
                        },
                        "text/html": [
                            "<table>",
                            "<tr><th>productid</th><th>productname</th><th>unitprice</th></tr>",
                            "<tr><td>4</td><td>Product KSBRM</td><td>22.0000</td></tr>",
                            "<tr><td>5</td><td>Product EPEIM</td><td>21.3500</td></tr>",
                            "<tr><td>65</td><td>Product XYWBZ</td><td>21.0500</td></tr>",
                            "</table>"
                        ]
                    }
                }
            ],
            "execution_count": 10
        },
        {
            "cell_type": "markdown",
            "source": [
                "3.3. Probar con el operador CROSS APPLY"
            ],
            "metadata": {
                "azdata_cell_guid": "24c11369-5546-4000-a71a-dddf05b9accb"
            }
        },
        {
            "cell_type": "code",
            "source": [
                "SELECT S.supplierid, S.companyname,\r\n",
                "\tP.productid, P.productname, P.unitprice\r\n",
                "FROM Production.Suppliers AS S\r\n",
                "CROSS APPLY dbo.fn_TopProductsByShipper(S.supplierid) AS P\r\n",
                "ORDER BY S.supplierid ASC, P.unitprice DESC;"
            ],
            "metadata": {
                "azdata_cell_guid": "60b49bd1-b804-4088-b66b-bea80ff6a248"
            },
            "outputs": [
                {
                    "output_type": "display_data",
                    "data": {
                        "text/html": "(71 rows affected)"
                    },
                    "metadata": {}
                },
                {
                    "output_type": "display_data",
                    "data": {
                        "text/html": "Total execution time: 00:00:00.245"
                    },
                    "metadata": {}
                },
                {
                    "output_type": "execute_result",
                    "metadata": {},
                    "execution_count": 11,
                    "data": {
                        "application/vnd.dataresource+json": {
                            "schema": {
                                "fields": [
                                    {
                                        "name": "supplierid"
                                    },
                                    {
                                        "name": "companyname"
                                    },
                                    {
                                        "name": "productid"
                                    },
                                    {
                                        "name": "productname"
                                    },
                                    {
                                        "name": "unitprice"
                                    }
                                ]
                            },
                            "data": [
                                {
                                    "0": "1",
                                    "1": "Supplier SWRXU",
                                    "2": "2",
                                    "3": "Product RECZE",
                                    "4": "19.0000"
                                },
                                {
                                    "0": "1",
                                    "1": "Supplier SWRXU",
                                    "2": "1",
                                    "3": "Product HHYDP",
                                    "4": "18.0000"
                                },
                                {
                                    "0": "1",
                                    "1": "Supplier SWRXU",
                                    "2": "3",
                                    "3": "Product IMEHJ",
                                    "4": "10.0000"
                                },
                                {
                                    "0": "2",
                                    "1": "Supplier VHQZD",
                                    "2": "4",
                                    "3": "Product KSBRM",
                                    "4": "22.0000"
                                },
                                {
                                    "0": "2",
                                    "1": "Supplier VHQZD",
                                    "2": "5",
                                    "3": "Product EPEIM",
                                    "4": "21.3500"
                                },
                                {
                                    "0": "2",
                                    "1": "Supplier VHQZD",
                                    "2": "65",
                                    "3": "Product XYWBZ",
                                    "4": "21.0500"
                                },
                                {
                                    "0": "3",
                                    "1": "Supplier STUAZ",
                                    "2": "8",
                                    "3": "Product WVJFP",
                                    "4": "40.0000"
                                },
                                {
                                    "0": "3",
                                    "1": "Supplier STUAZ",
                                    "2": "7",
                                    "3": "Product HMLNI",
                                    "4": "30.0000"
                                },
                                {
                                    "0": "3",
                                    "1": "Supplier STUAZ",
                                    "2": "6",
                                    "3": "Product VAIIV",
                                    "4": "25.0000"
                                },
                                {
                                    "0": "4",
                                    "1": "Supplier QOVFD",
                                    "2": "9",
                                    "3": "Product AOZBW",
                                    "4": "97.0000"
                                },
                                {
                                    "0": "4",
                                    "1": "Supplier QOVFD",
                                    "2": "10",
                                    "3": "Product YHXGE",
                                    "4": "31.0000"
                                },
                                {
                                    "0": "4",
                                    "1": "Supplier QOVFD",
                                    "2": "74",
                                    "3": "Product BKAZJ",
                                    "4": "10.0000"
                                },
                                {
                                    "0": "5",
                                    "1": "Supplier EQPNC",
                                    "2": "12",
                                    "3": "Product OSFNS",
                                    "4": "38.0000"
                                },
                                {
                                    "0": "5",
                                    "1": "Supplier EQPNC",
                                    "2": "11",
                                    "3": "Product QMVUN",
                                    "4": "21.0000"
                                },
                                {
                                    "0": "6",
                                    "1": "Supplier QWUSF",
                                    "2": "14",
                                    "3": "Product PWCJB",
                                    "4": "23.2500"
                                },
                                {
                                    "0": "6",
                                    "1": "Supplier QWUSF",
                                    "2": "15",
                                    "3": "Product KSZOI",
                                    "4": "15.5000"
                                },
                                {
                                    "0": "6",
                                    "1": "Supplier QWUSF",
                                    "2": "13",
                                    "3": "Product POXFU",
                                    "4": "6.0000"
                                },
                                {
                                    "0": "7",
                                    "1": "Supplier GQRCV",
                                    "2": "18",
                                    "3": "Product CKEDC",
                                    "4": "62.5000"
                                },
                                {
                                    "0": "7",
                                    "1": "Supplier GQRCV",
                                    "2": "63",
                                    "3": "Product ICKNK",
                                    "4": "43.9000"
                                },
                                {
                                    "0": "7",
                                    "1": "Supplier GQRCV",
                                    "2": "17",
                                    "3": "Product BLCAX",
                                    "4": "39.0000"
                                },
                                {
                                    "0": "8",
                                    "1": "Supplier BWGYE",
                                    "2": "20",
                                    "3": "Product QHFFP",
                                    "4": "81.0000"
                                },
                                {
                                    "0": "8",
                                    "1": "Supplier BWGYE",
                                    "2": "68",
                                    "3": "Product TBTBL",
                                    "4": "12.5000"
                                },
                                {
                                    "0": "8",
                                    "1": "Supplier BWGYE",
                                    "2": "21",
                                    "3": "Product VJZZH",
                                    "4": "10.0000"
                                },
                                {
                                    "0": "9",
                                    "1": "Supplier QQYEU",
                                    "2": "22",
                                    "3": "Product CPHFY",
                                    "4": "21.0000"
                                },
                                {
                                    "0": "9",
                                    "1": "Supplier QQYEU",
                                    "2": "23",
                                    "3": "Product JLUDZ",
                                    "4": "9.0000"
                                },
                                {
                                    "0": "10",
                                    "1": "Supplier UNAHG",
                                    "2": "24",
                                    "3": "Product QOGNU",
                                    "4": "4.5000"
                                },
                                {
                                    "0": "11",
                                    "1": "Supplier ZPYVS",
                                    "2": "27",
                                    "3": "Product SMIOH",
                                    "4": "43.9000"
                                },
                                {
                                    "0": "11",
                                    "1": "Supplier ZPYVS",
                                    "2": "26",
                                    "3": "Product HLGZA",
                                    "4": "31.2300"
                                },
                                {
                                    "0": "11",
                                    "1": "Supplier ZPYVS",
                                    "2": "25",
                                    "3": "Product LYLNI",
                                    "4": "14.0000"
                                },
                                {
                                    "0": "12",
                                    "1": "Supplier SVIYA",
                                    "2": "29",
                                    "3": "Product VJXYN",
                                    "4": "123.7900"
                                },
                                {
                                    "0": "12",
                                    "1": "Supplier SVIYA",
                                    "2": "28",
                                    "3": "Product OFBNT",
                                    "4": "45.6000"
                                },
                                {
                                    "0": "12",
                                    "1": "Supplier SVIYA",
                                    "2": "64",
                                    "3": "Product HCQDE",
                                    "4": "33.2500"
                                },
                                {
                                    "0": "13",
                                    "1": "Supplier TEGSC",
                                    "2": "30",
                                    "3": "Product LYERX",
                                    "4": "25.8900"
                                },
                                {
                                    "0": "14",
                                    "1": "Supplier KEREV",
                                    "2": "72",
                                    "3": "Product GEEOO",
                                    "4": "34.8000"
                                },
                                {
                                    "0": "14",
                                    "1": "Supplier KEREV",
                                    "2": "32",
                                    "3": "Product NUNAW",
                                    "4": "32.0000"
                                },
                                {
                                    "0": "14",
                                    "1": "Supplier KEREV",
                                    "2": "31",
                                    "3": "Product XWOXC",
                                    "4": "12.5000"
                                },
                                {
                                    "0": "15",
                                    "1": "Supplier NZLIF",
                                    "2": "69",
                                    "3": "Product COAXA",
                                    "4": "36.0000"
                                },
                                {
                                    "0": "15",
                                    "1": "Supplier NZLIF",
                                    "2": "71",
                                    "3": "Product MYMOI",
                                    "4": "21.5000"
                                },
                                {
                                    "0": "15",
                                    "1": "Supplier NZLIF",
                                    "2": "33",
                                    "3": "Product ASTMN",
                                    "4": "2.5000"
                                },
                                {
                                    "0": "16",
                                    "1": "Supplier UHZRG",
                                    "2": "35",
                                    "3": "Product NEVTJ",
                                    "4": "18.0000"
                                },
                                {
                                    "0": "16",
                                    "1": "Supplier UHZRG",
                                    "2": "67",
                                    "3": "Product XLXQF",
                                    "4": "14.0000"
                                },
                                {
                                    "0": "16",
                                    "1": "Supplier UHZRG",
                                    "2": "34",
                                    "3": "Product SWNJY",
                                    "4": "14.0000"
                                },
                                {
                                    "0": "17",
                                    "1": "Supplier QZGUF",
                                    "2": "37",
                                    "3": "Product EVFFA",
                                    "4": "26.0000"
                                },
                                {
                                    "0": "17",
                                    "1": "Supplier QZGUF",
                                    "2": "36",
                                    "3": "Product GMKIJ",
                                    "4": "19.0000"
                                },
                                {
                                    "0": "17",
                                    "1": "Supplier QZGUF",
                                    "2": "73",
                                    "3": "Product WEUJZ",
                                    "4": "15.0000"
                                },
                                {
                                    "0": "18",
                                    "1": "Supplier LVJUA",
                                    "2": "38",
                                    "3": "Product QDOMO",
                                    "4": "263.5000"
                                },
                                {
                                    "0": "18",
                                    "1": "Supplier LVJUA",
                                    "2": "39",
                                    "3": "Product LSOFL",
                                    "4": "18.0000"
                                },
                                {
                                    "0": "19",
                                    "1": "Supplier JDNUG",
                                    "2": "40",
                                    "3": "Product YZIXQ",
                                    "4": "18.4000"
                                },
                                {
                                    "0": "19",
                                    "1": "Supplier JDNUG",
                                    "2": "41",
                                    "3": "Product TTEEX",
                                    "4": "9.6500"
                                },
                                {
                                    "0": "20",
                                    "1": "Supplier CIYNM",
                                    "2": "43",
                                    "3": "Product ZZZHR",
                                    "4": "46.0000"
                                },
                                {
                                    "0": "20",
                                    "1": "Supplier CIYNM",
                                    "2": "44",
                                    "3": "Product VJIEO",
                                    "4": "19.4500"
                                },
                                {
                                    "0": "20",
                                    "1": "Supplier CIYNM",
                                    "2": "42",
                                    "3": "Product RJVNM",
                                    "4": "14.0000"
                                },
                                {
                                    "0": "21",
                                    "1": "Supplier XOXZA",
                                    "2": "46",
                                    "3": "Product CBRRL",
                                    "4": "12.0000"
                                },
                                {
                                    "0": "21",
                                    "1": "Supplier XOXZA",
                                    "2": "45",
                                    "3": "Product AQOKR",
                                    "4": "9.5000"
                                },
                                {
                                    "0": "22",
                                    "1": "Supplier FNUXM",
                                    "2": "48",
                                    "3": "Product MYNXN",
                                    "4": "12.7500"
                                },
                                {
                                    "0": "22",
                                    "1": "Supplier FNUXM",
                                    "2": "47",
                                    "3": "Product EZZPR",
                                    "4": "9.5000"
                                },
                                {
                                    "0": "23",
                                    "1": "Supplier ELCRN",
                                    "2": "49",
                                    "3": "Product FPYPN",
                                    "4": "20.0000"
                                },
                                {
                                    "0": "23",
                                    "1": "Supplier ELCRN",
                                    "2": "76",
                                    "3": "Product JYGFE",
                                    "4": "18.0000"
                                },
                                {
                                    "0": "23",
                                    "1": "Supplier ELCRN",
                                    "2": "50",
                                    "3": "Product BIUDV",
                                    "4": "16.2500"
                                },
                                {
                                    "0": "24",
                                    "1": "Supplier JNNES",
                                    "2": "51",
                                    "3": "Product APITJ",
                                    "4": "53.0000"
                                },
                                {
                                    "0": "24",
                                    "1": "Supplier JNNES",
                                    "2": "53",
                                    "3": "Product BKGEA",
                                    "4": "32.8000"
                                },
                                {
                                    "0": "24",
                                    "1": "Supplier JNNES",
                                    "2": "52",
                                    "3": "Product QSRXF",
                                    "4": "7.0000"
                                },
                                {
                                    "0": "25",
                                    "1": "Supplier ERVYZ",
                                    "2": "55",
                                    "3": "Product YYWRT",
                                    "4": "24.0000"
                                },
                                {
                                    "0": "25",
                                    "1": "Supplier ERVYZ",
                                    "2": "54",
                                    "3": "Product QAQRL",
                                    "4": "7.4500"
                                },
                                {
                                    "0": "26",
                                    "1": "Supplier ZWZDM",
                                    "2": "56",
                                    "3": "Product VKCMF",
                                    "4": "38.0000"
                                },
                                {
                                    "0": "26",
                                    "1": "Supplier ZWZDM",
                                    "2": "57",
                                    "3": "Product OVLQI",
                                    "4": "19.5000"
                                },
                                {
                                    "0": "27",
                                    "1": "Supplier ZRYDZ",
                                    "2": "58",
                                    "3": "Product ACRVI",
                                    "4": "13.2500"
                                },
                                {
                                    "0": "28",
                                    "1": "Supplier OAVQT",
                                    "2": "59",
                                    "3": "Product UKXRI",
                                    "4": "55.0000"
                                },
                                {
                                    "0": "28",
                                    "1": "Supplier OAVQT",
                                    "2": "60",
                                    "3": "Product WHBYK",
                                    "4": "34.0000"
                                },
                                {
                                    "0": "29",
                                    "1": "Supplier OGLRK",
                                    "2": "62",
                                    "3": "Product WUXYK",
                                    "4": "49.3000"
                                },
                                {
                                    "0": "29",
                                    "1": "Supplier OGLRK",
                                    "2": "61",
                                    "3": "Product XYZPE",
                                    "4": "28.5000"
                                }
                            ]
                        },
                        "text/html": [
                            "<table>",
                            "<tr><th>supplierid</th><th>companyname</th><th>productid</th><th>productname</th><th>unitprice</th></tr>",
                            "<tr><td>1</td><td>Supplier SWRXU</td><td>2</td><td>Product RECZE</td><td>19.0000</td></tr>",
                            "<tr><td>1</td><td>Supplier SWRXU</td><td>1</td><td>Product HHYDP</td><td>18.0000</td></tr>",
                            "<tr><td>1</td><td>Supplier SWRXU</td><td>3</td><td>Product IMEHJ</td><td>10.0000</td></tr>",
                            "<tr><td>2</td><td>Supplier VHQZD</td><td>4</td><td>Product KSBRM</td><td>22.0000</td></tr>",
                            "<tr><td>2</td><td>Supplier VHQZD</td><td>5</td><td>Product EPEIM</td><td>21.3500</td></tr>",
                            "<tr><td>2</td><td>Supplier VHQZD</td><td>65</td><td>Product XYWBZ</td><td>21.0500</td></tr>",
                            "<tr><td>3</td><td>Supplier STUAZ</td><td>8</td><td>Product WVJFP</td><td>40.0000</td></tr>",
                            "<tr><td>3</td><td>Supplier STUAZ</td><td>7</td><td>Product HMLNI</td><td>30.0000</td></tr>",
                            "<tr><td>3</td><td>Supplier STUAZ</td><td>6</td><td>Product VAIIV</td><td>25.0000</td></tr>",
                            "<tr><td>4</td><td>Supplier QOVFD</td><td>9</td><td>Product AOZBW</td><td>97.0000</td></tr>",
                            "<tr><td>4</td><td>Supplier QOVFD</td><td>10</td><td>Product YHXGE</td><td>31.0000</td></tr>",
                            "<tr><td>4</td><td>Supplier QOVFD</td><td>74</td><td>Product BKAZJ</td><td>10.0000</td></tr>",
                            "<tr><td>5</td><td>Supplier EQPNC</td><td>12</td><td>Product OSFNS</td><td>38.0000</td></tr>",
                            "<tr><td>5</td><td>Supplier EQPNC</td><td>11</td><td>Product QMVUN</td><td>21.0000</td></tr>",
                            "<tr><td>6</td><td>Supplier QWUSF</td><td>14</td><td>Product PWCJB</td><td>23.2500</td></tr>",
                            "<tr><td>6</td><td>Supplier QWUSF</td><td>15</td><td>Product KSZOI</td><td>15.5000</td></tr>",
                            "<tr><td>6</td><td>Supplier QWUSF</td><td>13</td><td>Product POXFU</td><td>6.0000</td></tr>",
                            "<tr><td>7</td><td>Supplier GQRCV</td><td>18</td><td>Product CKEDC</td><td>62.5000</td></tr>",
                            "<tr><td>7</td><td>Supplier GQRCV</td><td>63</td><td>Product ICKNK</td><td>43.9000</td></tr>",
                            "<tr><td>7</td><td>Supplier GQRCV</td><td>17</td><td>Product BLCAX</td><td>39.0000</td></tr>",
                            "<tr><td>8</td><td>Supplier BWGYE</td><td>20</td><td>Product QHFFP</td><td>81.0000</td></tr>",
                            "<tr><td>8</td><td>Supplier BWGYE</td><td>68</td><td>Product TBTBL</td><td>12.5000</td></tr>",
                            "<tr><td>8</td><td>Supplier BWGYE</td><td>21</td><td>Product VJZZH</td><td>10.0000</td></tr>",
                            "<tr><td>9</td><td>Supplier QQYEU</td><td>22</td><td>Product CPHFY</td><td>21.0000</td></tr>",
                            "<tr><td>9</td><td>Supplier QQYEU</td><td>23</td><td>Product JLUDZ</td><td>9.0000</td></tr>",
                            "<tr><td>10</td><td>Supplier UNAHG</td><td>24</td><td>Product QOGNU</td><td>4.5000</td></tr>",
                            "<tr><td>11</td><td>Supplier ZPYVS</td><td>27</td><td>Product SMIOH</td><td>43.9000</td></tr>",
                            "<tr><td>11</td><td>Supplier ZPYVS</td><td>26</td><td>Product HLGZA</td><td>31.2300</td></tr>",
                            "<tr><td>11</td><td>Supplier ZPYVS</td><td>25</td><td>Product LYLNI</td><td>14.0000</td></tr>",
                            "<tr><td>12</td><td>Supplier SVIYA</td><td>29</td><td>Product VJXYN</td><td>123.7900</td></tr>",
                            "<tr><td>12</td><td>Supplier SVIYA</td><td>28</td><td>Product OFBNT</td><td>45.6000</td></tr>",
                            "<tr><td>12</td><td>Supplier SVIYA</td><td>64</td><td>Product HCQDE</td><td>33.2500</td></tr>",
                            "<tr><td>13</td><td>Supplier TEGSC</td><td>30</td><td>Product LYERX</td><td>25.8900</td></tr>",
                            "<tr><td>14</td><td>Supplier KEREV</td><td>72</td><td>Product GEEOO</td><td>34.8000</td></tr>",
                            "<tr><td>14</td><td>Supplier KEREV</td><td>32</td><td>Product NUNAW</td><td>32.0000</td></tr>",
                            "<tr><td>14</td><td>Supplier KEREV</td><td>31</td><td>Product XWOXC</td><td>12.5000</td></tr>",
                            "<tr><td>15</td><td>Supplier NZLIF</td><td>69</td><td>Product COAXA</td><td>36.0000</td></tr>",
                            "<tr><td>15</td><td>Supplier NZLIF</td><td>71</td><td>Product MYMOI</td><td>21.5000</td></tr>",
                            "<tr><td>15</td><td>Supplier NZLIF</td><td>33</td><td>Product ASTMN</td><td>2.5000</td></tr>",
                            "<tr><td>16</td><td>Supplier UHZRG</td><td>35</td><td>Product NEVTJ</td><td>18.0000</td></tr>",
                            "<tr><td>16</td><td>Supplier UHZRG</td><td>67</td><td>Product XLXQF</td><td>14.0000</td></tr>",
                            "<tr><td>16</td><td>Supplier UHZRG</td><td>34</td><td>Product SWNJY</td><td>14.0000</td></tr>",
                            "<tr><td>17</td><td>Supplier QZGUF</td><td>37</td><td>Product EVFFA</td><td>26.0000</td></tr>",
                            "<tr><td>17</td><td>Supplier QZGUF</td><td>36</td><td>Product GMKIJ</td><td>19.0000</td></tr>",
                            "<tr><td>17</td><td>Supplier QZGUF</td><td>73</td><td>Product WEUJZ</td><td>15.0000</td></tr>",
                            "<tr><td>18</td><td>Supplier LVJUA</td><td>38</td><td>Product QDOMO</td><td>263.5000</td></tr>",
                            "<tr><td>18</td><td>Supplier LVJUA</td><td>39</td><td>Product LSOFL</td><td>18.0000</td></tr>",
                            "<tr><td>19</td><td>Supplier JDNUG</td><td>40</td><td>Product YZIXQ</td><td>18.4000</td></tr>",
                            "<tr><td>19</td><td>Supplier JDNUG</td><td>41</td><td>Product TTEEX</td><td>9.6500</td></tr>",
                            "<tr><td>20</td><td>Supplier CIYNM</td><td>43</td><td>Product ZZZHR</td><td>46.0000</td></tr>",
                            "<tr><td>20</td><td>Supplier CIYNM</td><td>44</td><td>Product VJIEO</td><td>19.4500</td></tr>",
                            "<tr><td>20</td><td>Supplier CIYNM</td><td>42</td><td>Product RJVNM</td><td>14.0000</td></tr>",
                            "<tr><td>21</td><td>Supplier XOXZA</td><td>46</td><td>Product CBRRL</td><td>12.0000</td></tr>",
                            "<tr><td>21</td><td>Supplier XOXZA</td><td>45</td><td>Product AQOKR</td><td>9.5000</td></tr>",
                            "<tr><td>22</td><td>Supplier FNUXM</td><td>48</td><td>Product MYNXN</td><td>12.7500</td></tr>",
                            "<tr><td>22</td><td>Supplier FNUXM</td><td>47</td><td>Product EZZPR</td><td>9.5000</td></tr>",
                            "<tr><td>23</td><td>Supplier ELCRN</td><td>49</td><td>Product FPYPN</td><td>20.0000</td></tr>",
                            "<tr><td>23</td><td>Supplier ELCRN</td><td>76</td><td>Product JYGFE</td><td>18.0000</td></tr>",
                            "<tr><td>23</td><td>Supplier ELCRN</td><td>50</td><td>Product BIUDV</td><td>16.2500</td></tr>",
                            "<tr><td>24</td><td>Supplier JNNES</td><td>51</td><td>Product APITJ</td><td>53.0000</td></tr>",
                            "<tr><td>24</td><td>Supplier JNNES</td><td>53</td><td>Product BKGEA</td><td>32.8000</td></tr>",
                            "<tr><td>24</td><td>Supplier JNNES</td><td>52</td><td>Product QSRXF</td><td>7.0000</td></tr>",
                            "<tr><td>25</td><td>Supplier ERVYZ</td><td>55</td><td>Product YYWRT</td><td>24.0000</td></tr>",
                            "<tr><td>25</td><td>Supplier ERVYZ</td><td>54</td><td>Product QAQRL</td><td>7.4500</td></tr>",
                            "<tr><td>26</td><td>Supplier ZWZDM</td><td>56</td><td>Product VKCMF</td><td>38.0000</td></tr>",
                            "<tr><td>26</td><td>Supplier ZWZDM</td><td>57</td><td>Product OVLQI</td><td>19.5000</td></tr>",
                            "<tr><td>27</td><td>Supplier ZRYDZ</td><td>58</td><td>Product ACRVI</td><td>13.2500</td></tr>",
                            "<tr><td>28</td><td>Supplier OAVQT</td><td>59</td><td>Product UKXRI</td><td>55.0000</td></tr>",
                            "<tr><td>28</td><td>Supplier OAVQT</td><td>60</td><td>Product WHBYK</td><td>34.0000</td></tr>",
                            "<tr><td>29</td><td>Supplier OGLRK</td><td>62</td><td>Product WUXYK</td><td>49.3000</td></tr>",
                            "<tr><td>29</td><td>Supplier OGLRK</td><td>61</td><td>Product XYZPE</td><td>28.5000</td></tr>",
                            "</table>"
                        ]
                    }
                }
            ],
            "execution_count": 11
        },
        {
            "cell_type": "markdown",
            "source": [
                "3.4. Escribir una consulta para buscar clientes sin ordenes generadas."
            ],
            "metadata": {
                "azdata_cell_guid": "54f042c1-a4d5-4972-9a86-4ace8946d4fb"
            }
        },
        {
            "cell_type": "code",
            "source": [
                "SELECT C.custid, C.companyname\r\n",
                "FROM Sales.Customers AS C --91 customers\r\n",
                "LEFT OUTER JOIN Sales.Orders AS O -- 830 orders\r\n",
                "ON C.custid = O.custid --832 results with NULL cust"
            ],
            "metadata": {
                "azdata_cell_guid": "98a90874-75b1-4c0a-b962-733412c2792f",
                "tags": []
            },
            "outputs": [
                {
                    "output_type": "display_data",
                    "data": {
                        "text/html": "(832 rows affected)"
                    },
                    "metadata": {}
                },
                {
                    "output_type": "display_data",
                    "data": {
                        "text/html": "Total execution time: 00:00:01.302"
                    },
                    "metadata": {}
                },
                {
                    "output_type": "execute_result",
                    "metadata": {},
                    "execution_count": 12,
                    "data": {
                        "application/vnd.dataresource+json": {
                            "schema": {
                                "fields": [
                                    {
                                        "name": "custid"
                                    },
                                    {
                                        "name": "companyname"
                                    }
                                ]
                            },
                            "data": [
                                {
                                    "0": "1",
                                    "1": "Customer NRZBB"
                                },
                                {
                                    "0": "1",
                                    "1": "Customer NRZBB"
                                },
                                {
                                    "0": "1",
                                    "1": "Customer NRZBB"
                                },
                                {
                                    "0": "1",
                                    "1": "Customer NRZBB"
                                },
                                {
                                    "0": "1",
                                    "1": "Customer NRZBB"
                                },
                                {
                                    "0": "1",
                                    "1": "Customer NRZBB"
                                },
                                {
                                    "0": "2",
                                    "1": "Customer MLTDN"
                                },
                                {
                                    "0": "2",
                                    "1": "Customer MLTDN"
                                },
                                {
                                    "0": "2",
                                    "1": "Customer MLTDN"
                                },
                                {
                                    "0": "2",
                                    "1": "Customer MLTDN"
                                },
                                {
                                    "0": "3",
                                    "1": "Customer KBUDE"
                                },
                                {
                                    "0": "3",
                                    "1": "Customer KBUDE"
                                },
                                {
                                    "0": "3",
                                    "1": "Customer KBUDE"
                                },
                                {
                                    "0": "3",
                                    "1": "Customer KBUDE"
                                },
                                {
                                    "0": "3",
                                    "1": "Customer KBUDE"
                                },
                                {
                                    "0": "3",
                                    "1": "Customer KBUDE"
                                },
                                {
                                    "0": "3",
                                    "1": "Customer KBUDE"
                                },
                                {
                                    "0": "4",
                                    "1": "Customer HFBZG"
                                },
                                {
                                    "0": "4",
                                    "1": "Customer HFBZG"
                                },
                                {
                                    "0": "4",
                                    "1": "Customer HFBZG"
                                },
                                {
                                    "0": "4",
                                    "1": "Customer HFBZG"
                                },
                                {
                                    "0": "4",
                                    "1": "Customer HFBZG"
                                },
                                {
                                    "0": "4",
                                    "1": "Customer HFBZG"
                                },
                                {
                                    "0": "4",
                                    "1": "Customer HFBZG"
                                },
                                {
                                    "0": "4",
                                    "1": "Customer HFBZG"
                                },
                                {
                                    "0": "4",
                                    "1": "Customer HFBZG"
                                },
                                {
                                    "0": "4",
                                    "1": "Customer HFBZG"
                                },
                                {
                                    "0": "4",
                                    "1": "Customer HFBZG"
                                },
                                {
                                    "0": "4",
                                    "1": "Customer HFBZG"
                                },
                                {
                                    "0": "4",
                                    "1": "Customer HFBZG"
                                },
                                {
                                    "0": "5",
                                    "1": "Customer HGVLZ"
                                },
                                {
                                    "0": "5",
                                    "1": "Customer HGVLZ"
                                },
                                {
                                    "0": "5",
                                    "1": "Customer HGVLZ"
                                },
                                {
                                    "0": "5",
                                    "1": "Customer HGVLZ"
                                },
                                {
                                    "0": "5",
                                    "1": "Customer HGVLZ"
                                },
                                {
                                    "0": "5",
                                    "1": "Customer HGVLZ"
                                },
                                {
                                    "0": "5",
                                    "1": "Customer HGVLZ"
                                },
                                {
                                    "0": "5",
                                    "1": "Customer HGVLZ"
                                },
                                {
                                    "0": "5",
                                    "1": "Customer HGVLZ"
                                },
                                {
                                    "0": "5",
                                    "1": "Customer HGVLZ"
                                },
                                {
                                    "0": "5",
                                    "1": "Customer HGVLZ"
                                },
                                {
                                    "0": "5",
                                    "1": "Customer HGVLZ"
                                },
                                {
                                    "0": "5",
                                    "1": "Customer HGVLZ"
                                },
                                {
                                    "0": "5",
                                    "1": "Customer HGVLZ"
                                },
                                {
                                    "0": "5",
                                    "1": "Customer HGVLZ"
                                },
                                {
                                    "0": "5",
                                    "1": "Customer HGVLZ"
                                },
                                {
                                    "0": "5",
                                    "1": "Customer HGVLZ"
                                },
                                {
                                    "0": "5",
                                    "1": "Customer HGVLZ"
                                },
                                {
                                    "0": "6",
                                    "1": "Customer XHXJV"
                                },
                                {
                                    "0": "6",
                                    "1": "Customer XHXJV"
                                },
                                {
                                    "0": "6",
                                    "1": "Customer XHXJV"
                                },
                                {
                                    "0": "6",
                                    "1": "Customer XHXJV"
                                },
                                {
                                    "0": "6",
                                    "1": "Customer XHXJV"
                                },
                                {
                                    "0": "6",
                                    "1": "Customer XHXJV"
                                },
                                {
                                    "0": "6",
                                    "1": "Customer XHXJV"
                                },
                                {
                                    "0": "7",
                                    "1": "Customer QXVLA"
                                },
                                {
                                    "0": "7",
                                    "1": "Customer QXVLA"
                                },
                                {
                                    "0": "7",
                                    "1": "Customer QXVLA"
                                },
                                {
                                    "0": "7",
                                    "1": "Customer QXVLA"
                                },
                                {
                                    "0": "7",
                                    "1": "Customer QXVLA"
                                },
                                {
                                    "0": "7",
                                    "1": "Customer QXVLA"
                                },
                                {
                                    "0": "7",
                                    "1": "Customer QXVLA"
                                },
                                {
                                    "0": "7",
                                    "1": "Customer QXVLA"
                                },
                                {
                                    "0": "7",
                                    "1": "Customer QXVLA"
                                },
                                {
                                    "0": "7",
                                    "1": "Customer QXVLA"
                                },
                                {
                                    "0": "7",
                                    "1": "Customer QXVLA"
                                },
                                {
                                    "0": "8",
                                    "1": "Customer QUHWH"
                                },
                                {
                                    "0": "8",
                                    "1": "Customer QUHWH"
                                },
                                {
                                    "0": "8",
                                    "1": "Customer QUHWH"
                                },
                                {
                                    "0": "9",
                                    "1": "Customer RTXGC"
                                },
                                {
                                    "0": "9",
                                    "1": "Customer RTXGC"
                                },
                                {
                                    "0": "9",
                                    "1": "Customer RTXGC"
                                },
                                {
                                    "0": "9",
                                    "1": "Customer RTXGC"
                                },
                                {
                                    "0": "9",
                                    "1": "Customer RTXGC"
                                },
                                {
                                    "0": "9",
                                    "1": "Customer RTXGC"
                                },
                                {
                                    "0": "9",
                                    "1": "Customer RTXGC"
                                },
                                {
                                    "0": "9",
                                    "1": "Customer RTXGC"
                                },
                                {
                                    "0": "9",
                                    "1": "Customer RTXGC"
                                },
                                {
                                    "0": "9",
                                    "1": "Customer RTXGC"
                                },
                                {
                                    "0": "9",
                                    "1": "Customer RTXGC"
                                },
                                {
                                    "0": "9",
                                    "1": "Customer RTXGC"
                                },
                                {
                                    "0": "9",
                                    "1": "Customer RTXGC"
                                },
                                {
                                    "0": "9",
                                    "1": "Customer RTXGC"
                                },
                                {
                                    "0": "9",
                                    "1": "Customer RTXGC"
                                },
                                {
                                    "0": "9",
                                    "1": "Customer RTXGC"
                                },
                                {
                                    "0": "9",
                                    "1": "Customer RTXGC"
                                },
                                {
                                    "0": "10",
                                    "1": "Customer EEALV"
                                },
                                {
                                    "0": "10",
                                    "1": "Customer EEALV"
                                },
                                {
                                    "0": "10",
                                    "1": "Customer EEALV"
                                },
                                {
                                    "0": "10",
                                    "1": "Customer EEALV"
                                },
                                {
                                    "0": "10",
                                    "1": "Customer EEALV"
                                },
                                {
                                    "0": "10",
                                    "1": "Customer EEALV"
                                },
                                {
                                    "0": "10",
                                    "1": "Customer EEALV"
                                },
                                {
                                    "0": "10",
                                    "1": "Customer EEALV"
                                },
                                {
                                    "0": "10",
                                    "1": "Customer EEALV"
                                },
                                {
                                    "0": "10",
                                    "1": "Customer EEALV"
                                },
                                {
                                    "0": "10",
                                    "1": "Customer EEALV"
                                },
                                {
                                    "0": "10",
                                    "1": "Customer EEALV"
                                },
                                {
                                    "0": "10",
                                    "1": "Customer EEALV"
                                },
                                {
                                    "0": "10",
                                    "1": "Customer EEALV"
                                },
                                {
                                    "0": "11",
                                    "1": "Customer UBHAU"
                                },
                                {
                                    "0": "11",
                                    "1": "Customer UBHAU"
                                },
                                {
                                    "0": "11",
                                    "1": "Customer UBHAU"
                                },
                                {
                                    "0": "11",
                                    "1": "Customer UBHAU"
                                },
                                {
                                    "0": "11",
                                    "1": "Customer UBHAU"
                                },
                                {
                                    "0": "11",
                                    "1": "Customer UBHAU"
                                },
                                {
                                    "0": "11",
                                    "1": "Customer UBHAU"
                                },
                                {
                                    "0": "11",
                                    "1": "Customer UBHAU"
                                },
                                {
                                    "0": "11",
                                    "1": "Customer UBHAU"
                                },
                                {
                                    "0": "11",
                                    "1": "Customer UBHAU"
                                },
                                {
                                    "0": "12",
                                    "1": "Customer PSNMQ"
                                },
                                {
                                    "0": "12",
                                    "1": "Customer PSNMQ"
                                },
                                {
                                    "0": "12",
                                    "1": "Customer PSNMQ"
                                },
                                {
                                    "0": "12",
                                    "1": "Customer PSNMQ"
                                },
                                {
                                    "0": "12",
                                    "1": "Customer PSNMQ"
                                },
                                {
                                    "0": "12",
                                    "1": "Customer PSNMQ"
                                },
                                {
                                    "0": "13",
                                    "1": "Customer VMLOG"
                                },
                                {
                                    "0": "14",
                                    "1": "Customer WNMAF"
                                },
                                {
                                    "0": "14",
                                    "1": "Customer WNMAF"
                                },
                                {
                                    "0": "14",
                                    "1": "Customer WNMAF"
                                },
                                {
                                    "0": "14",
                                    "1": "Customer WNMAF"
                                },
                                {
                                    "0": "14",
                                    "1": "Customer WNMAF"
                                },
                                {
                                    "0": "14",
                                    "1": "Customer WNMAF"
                                },
                                {
                                    "0": "14",
                                    "1": "Customer WNMAF"
                                },
                                {
                                    "0": "14",
                                    "1": "Customer WNMAF"
                                },
                                {
                                    "0": "15",
                                    "1": "Customer JUWXK"
                                },
                                {
                                    "0": "15",
                                    "1": "Customer JUWXK"
                                },
                                {
                                    "0": "15",
                                    "1": "Customer JUWXK"
                                },
                                {
                                    "0": "15",
                                    "1": "Customer JUWXK"
                                },
                                {
                                    "0": "15",
                                    "1": "Customer JUWXK"
                                },
                                {
                                    "0": "16",
                                    "1": "Customer GYBBY"
                                },
                                {
                                    "0": "16",
                                    "1": "Customer GYBBY"
                                },
                                {
                                    "0": "16",
                                    "1": "Customer GYBBY"
                                },
                                {
                                    "0": "17",
                                    "1": "Customer FEVNN"
                                },
                                {
                                    "0": "17",
                                    "1": "Customer FEVNN"
                                },
                                {
                                    "0": "17",
                                    "1": "Customer FEVNN"
                                },
                                {
                                    "0": "17",
                                    "1": "Customer FEVNN"
                                },
                                {
                                    "0": "17",
                                    "1": "Customer FEVNN"
                                },
                                {
                                    "0": "17",
                                    "1": "Customer FEVNN"
                                },
                                {
                                    "0": "18",
                                    "1": "Customer BSVAR"
                                },
                                {
                                    "0": "18",
                                    "1": "Customer BSVAR"
                                },
                                {
                                    "0": "18",
                                    "1": "Customer BSVAR"
                                },
                                {
                                    "0": "18",
                                    "1": "Customer BSVAR"
                                },
                                {
                                    "0": "19",
                                    "1": "Customer RFNQC"
                                },
                                {
                                    "0": "19",
                                    "1": "Customer RFNQC"
                                },
                                {
                                    "0": "19",
                                    "1": "Customer RFNQC"
                                },
                                {
                                    "0": "19",
                                    "1": "Customer RFNQC"
                                },
                                {
                                    "0": "19",
                                    "1": "Customer RFNQC"
                                },
                                {
                                    "0": "19",
                                    "1": "Customer RFNQC"
                                },
                                {
                                    "0": "19",
                                    "1": "Customer RFNQC"
                                },
                                {
                                    "0": "19",
                                    "1": "Customer RFNQC"
                                },
                                {
                                    "0": "20",
                                    "1": "Customer THHDP"
                                },
                                {
                                    "0": "20",
                                    "1": "Customer THHDP"
                                },
                                {
                                    "0": "20",
                                    "1": "Customer THHDP"
                                },
                                {
                                    "0": "20",
                                    "1": "Customer THHDP"
                                },
                                {
                                    "0": "20",
                                    "1": "Customer THHDP"
                                },
                                {
                                    "0": "20",
                                    "1": "Customer THHDP"
                                },
                                {
                                    "0": "20",
                                    "1": "Customer THHDP"
                                },
                                {
                                    "0": "20",
                                    "1": "Customer THHDP"
                                },
                                {
                                    "0": "20",
                                    "1": "Customer THHDP"
                                },
                                {
                                    "0": "20",
                                    "1": "Customer THHDP"
                                },
                                {
                                    "0": "20",
                                    "1": "Customer THHDP"
                                },
                                {
                                    "0": "20",
                                    "1": "Customer THHDP"
                                },
                                {
                                    "0": "20",
                                    "1": "Customer THHDP"
                                },
                                {
                                    "0": "20",
                                    "1": "Customer THHDP"
                                },
                                {
                                    "0": "20",
                                    "1": "Customer THHDP"
                                },
                                {
                                    "0": "20",
                                    "1": "Customer THHDP"
                                },
                                {
                                    "0": "20",
                                    "1": "Customer THHDP"
                                },
                                {
                                    "0": "20",
                                    "1": "Customer THHDP"
                                },
                                {
                                    "0": "20",
                                    "1": "Customer THHDP"
                                },
                                {
                                    "0": "20",
                                    "1": "Customer THHDP"
                                },
                                {
                                    "0": "20",
                                    "1": "Customer THHDP"
                                },
                                {
                                    "0": "20",
                                    "1": "Customer THHDP"
                                },
                                {
                                    "0": "20",
                                    "1": "Customer THHDP"
                                },
                                {
                                    "0": "20",
                                    "1": "Customer THHDP"
                                },
                                {
                                    "0": "20",
                                    "1": "Customer THHDP"
                                },
                                {
                                    "0": "20",
                                    "1": "Customer THHDP"
                                },
                                {
                                    "0": "20",
                                    "1": "Customer THHDP"
                                },
                                {
                                    "0": "20",
                                    "1": "Customer THHDP"
                                },
                                {
                                    "0": "20",
                                    "1": "Customer THHDP"
                                },
                                {
                                    "0": "20",
                                    "1": "Customer THHDP"
                                },
                                {
                                    "0": "21",
                                    "1": "Customer KIDPX"
                                },
                                {
                                    "0": "21",
                                    "1": "Customer KIDPX"
                                },
                                {
                                    "0": "21",
                                    "1": "Customer KIDPX"
                                },
                                {
                                    "0": "21",
                                    "1": "Customer KIDPX"
                                },
                                {
                                    "0": "21",
                                    "1": "Customer KIDPX"
                                },
                                {
                                    "0": "21",
                                    "1": "Customer KIDPX"
                                },
                                {
                                    "0": "21",
                                    "1": "Customer KIDPX"
                                },
                                {
                                    "0": "22",
                                    "1": "Customer DTDMN"
                                },
                                {
                                    "0": "23",
                                    "1": "Customer WVFAF"
                                },
                                {
                                    "0": "23",
                                    "1": "Customer WVFAF"
                                },
                                {
                                    "0": "23",
                                    "1": "Customer WVFAF"
                                },
                                {
                                    "0": "23",
                                    "1": "Customer WVFAF"
                                },
                                {
                                    "0": "23",
                                    "1": "Customer WVFAF"
                                },
                                {
                                    "0": "24",
                                    "1": "Customer CYZTN"
                                },
                                {
                                    "0": "24",
                                    "1": "Customer CYZTN"
                                },
                                {
                                    "0": "24",
                                    "1": "Customer CYZTN"
                                },
                                {
                                    "0": "24",
                                    "1": "Customer CYZTN"
                                },
                                {
                                    "0": "24",
                                    "1": "Customer CYZTN"
                                },
                                {
                                    "0": "24",
                                    "1": "Customer CYZTN"
                                },
                                {
                                    "0": "24",
                                    "1": "Customer CYZTN"
                                },
                                {
                                    "0": "24",
                                    "1": "Customer CYZTN"
                                },
                                {
                                    "0": "24",
                                    "1": "Customer CYZTN"
                                },
                                {
                                    "0": "24",
                                    "1": "Customer CYZTN"
                                },
                                {
                                    "0": "24",
                                    "1": "Customer CYZTN"
                                },
                                {
                                    "0": "24",
                                    "1": "Customer CYZTN"
                                },
                                {
                                    "0": "24",
                                    "1": "Customer CYZTN"
                                },
                                {
                                    "0": "24",
                                    "1": "Customer CYZTN"
                                },
                                {
                                    "0": "24",
                                    "1": "Customer CYZTN"
                                },
                                {
                                    "0": "24",
                                    "1": "Customer CYZTN"
                                },
                                {
                                    "0": "24",
                                    "1": "Customer CYZTN"
                                },
                                {
                                    "0": "24",
                                    "1": "Customer CYZTN"
                                },
                                {
                                    "0": "24",
                                    "1": "Customer CYZTN"
                                },
                                {
                                    "0": "25",
                                    "1": "Customer AZJED"
                                },
                                {
                                    "0": "25",
                                    "1": "Customer AZJED"
                                },
                                {
                                    "0": "25",
                                    "1": "Customer AZJED"
                                },
                                {
                                    "0": "25",
                                    "1": "Customer AZJED"
                                },
                                {
                                    "0": "25",
                                    "1": "Customer AZJED"
                                },
                                {
                                    "0": "25",
                                    "1": "Customer AZJED"
                                },
                                {
                                    "0": "25",
                                    "1": "Customer AZJED"
                                },
                                {
                                    "0": "25",
                                    "1": "Customer AZJED"
                                },
                                {
                                    "0": "25",
                                    "1": "Customer AZJED"
                                },
                                {
                                    "0": "25",
                                    "1": "Customer AZJED"
                                },
                                {
                                    "0": "25",
                                    "1": "Customer AZJED"
                                },
                                {
                                    "0": "25",
                                    "1": "Customer AZJED"
                                },
                                {
                                    "0": "25",
                                    "1": "Customer AZJED"
                                },
                                {
                                    "0": "25",
                                    "1": "Customer AZJED"
                                },
                                {
                                    "0": "25",
                                    "1": "Customer AZJED"
                                },
                                {
                                    "0": "26",
                                    "1": "Customer USDBG"
                                },
                                {
                                    "0": "26",
                                    "1": "Customer USDBG"
                                },
                                {
                                    "0": "26",
                                    "1": "Customer USDBG"
                                },
                                {
                                    "0": "27",
                                    "1": "Customer WMFEA"
                                },
                                {
                                    "0": "27",
                                    "1": "Customer WMFEA"
                                },
                                {
                                    "0": "27",
                                    "1": "Customer WMFEA"
                                },
                                {
                                    "0": "27",
                                    "1": "Customer WMFEA"
                                },
                                {
                                    "0": "27",
                                    "1": "Customer WMFEA"
                                },
                                {
                                    "0": "27",
                                    "1": "Customer WMFEA"
                                },
                                {
                                    "0": "28",
                                    "1": "Customer XYUFB"
                                },
                                {
                                    "0": "28",
                                    "1": "Customer XYUFB"
                                },
                                {
                                    "0": "28",
                                    "1": "Customer XYUFB"
                                },
                                {
                                    "0": "28",
                                    "1": "Customer XYUFB"
                                },
                                {
                                    "0": "28",
                                    "1": "Customer XYUFB"
                                },
                                {
                                    "0": "28",
                                    "1": "Customer XYUFB"
                                },
                                {
                                    "0": "28",
                                    "1": "Customer XYUFB"
                                },
                                {
                                    "0": "28",
                                    "1": "Customer XYUFB"
                                },
                                {
                                    "0": "29",
                                    "1": "Customer MDLWA"
                                },
                                {
                                    "0": "29",
                                    "1": "Customer MDLWA"
                                },
                                {
                                    "0": "29",
                                    "1": "Customer MDLWA"
                                },
                                {
                                    "0": "29",
                                    "1": "Customer MDLWA"
                                },
                                {
                                    "0": "29",
                                    "1": "Customer MDLWA"
                                },
                                {
                                    "0": "30",
                                    "1": "Customer KSLQF"
                                },
                                {
                                    "0": "30",
                                    "1": "Customer KSLQF"
                                },
                                {
                                    "0": "30",
                                    "1": "Customer KSLQF"
                                },
                                {
                                    "0": "30",
                                    "1": "Customer KSLQF"
                                },
                                {
                                    "0": "30",
                                    "1": "Customer KSLQF"
                                },
                                {
                                    "0": "30",
                                    "1": "Customer KSLQF"
                                },
                                {
                                    "0": "30",
                                    "1": "Customer KSLQF"
                                },
                                {
                                    "0": "30",
                                    "1": "Customer KSLQF"
                                },
                                {
                                    "0": "30",
                                    "1": "Customer KSLQF"
                                },
                                {
                                    "0": "30",
                                    "1": "Customer KSLQF"
                                },
                                {
                                    "0": "31",
                                    "1": "Customer YJCBX"
                                },
                                {
                                    "0": "31",
                                    "1": "Customer YJCBX"
                                },
                                {
                                    "0": "31",
                                    "1": "Customer YJCBX"
                                },
                                {
                                    "0": "31",
                                    "1": "Customer YJCBX"
                                },
                                {
                                    "0": "31",
                                    "1": "Customer YJCBX"
                                },
                                {
                                    "0": "31",
                                    "1": "Customer YJCBX"
                                },
                                {
                                    "0": "31",
                                    "1": "Customer YJCBX"
                                },
                                {
                                    "0": "31",
                                    "1": "Customer YJCBX"
                                },
                                {
                                    "0": "31",
                                    "1": "Customer YJCBX"
                                },
                                {
                                    "0": "32",
                                    "1": "Customer YSIQX"
                                },
                                {
                                    "0": "32",
                                    "1": "Customer YSIQX"
                                },
                                {
                                    "0": "32",
                                    "1": "Customer YSIQX"
                                },
                                {
                                    "0": "32",
                                    "1": "Customer YSIQX"
                                },
                                {
                                    "0": "32",
                                    "1": "Customer YSIQX"
                                },
                                {
                                    "0": "32",
                                    "1": "Customer YSIQX"
                                },
                                {
                                    "0": "32",
                                    "1": "Customer YSIQX"
                                },
                                {
                                    "0": "32",
                                    "1": "Customer YSIQX"
                                },
                                {
                                    "0": "32",
                                    "1": "Customer YSIQX"
                                },
                                {
                                    "0": "32",
                                    "1": "Customer YSIQX"
                                },
                                {
                                    "0": "32",
                                    "1": "Customer YSIQX"
                                },
                                {
                                    "0": "33",
                                    "1": "Customer FVXPQ"
                                },
                                {
                                    "0": "33",
                                    "1": "Customer FVXPQ"
                                },
                                {
                                    "0": "34",
                                    "1": "Customer IBVRG"
                                },
                                {
                                    "0": "34",
                                    "1": "Customer IBVRG"
                                },
                                {
                                    "0": "34",
                                    "1": "Customer IBVRG"
                                },
                                {
                                    "0": "34",
                                    "1": "Customer IBVRG"
                                },
                                {
                                    "0": "34",
                                    "1": "Customer IBVRG"
                                },
                                {
                                    "0": "34",
                                    "1": "Customer IBVRG"
                                },
                                {
                                    "0": "34",
                                    "1": "Customer IBVRG"
                                },
                                {
                                    "0": "34",
                                    "1": "Customer IBVRG"
                                },
                                {
                                    "0": "34",
                                    "1": "Customer IBVRG"
                                },
                                {
                                    "0": "34",
                                    "1": "Customer IBVRG"
                                },
                                {
                                    "0": "34",
                                    "1": "Customer IBVRG"
                                },
                                {
                                    "0": "34",
                                    "1": "Customer IBVRG"
                                },
                                {
                                    "0": "34",
                                    "1": "Customer IBVRG"
                                },
                                {
                                    "0": "34",
                                    "1": "Customer IBVRG"
                                },
                                {
                                    "0": "35",
                                    "1": "Customer UMTLM"
                                },
                                {
                                    "0": "35",
                                    "1": "Customer UMTLM"
                                },
                                {
                                    "0": "35",
                                    "1": "Customer UMTLM"
                                },
                                {
                                    "0": "35",
                                    "1": "Customer UMTLM"
                                },
                                {
                                    "0": "35",
                                    "1": "Customer UMTLM"
                                },
                                {
                                    "0": "35",
                                    "1": "Customer UMTLM"
                                },
                                {
                                    "0": "35",
                                    "1": "Customer UMTLM"
                                },
                                {
                                    "0": "35",
                                    "1": "Customer UMTLM"
                                },
                                {
                                    "0": "35",
                                    "1": "Customer UMTLM"
                                },
                                {
                                    "0": "35",
                                    "1": "Customer UMTLM"
                                },
                                {
                                    "0": "35",
                                    "1": "Customer UMTLM"
                                },
                                {
                                    "0": "35",
                                    "1": "Customer UMTLM"
                                },
                                {
                                    "0": "35",
                                    "1": "Customer UMTLM"
                                },
                                {
                                    "0": "35",
                                    "1": "Customer UMTLM"
                                },
                                {
                                    "0": "35",
                                    "1": "Customer UMTLM"
                                },
                                {
                                    "0": "35",
                                    "1": "Customer UMTLM"
                                },
                                {
                                    "0": "35",
                                    "1": "Customer UMTLM"
                                },
                                {
                                    "0": "35",
                                    "1": "Customer UMTLM"
                                },
                                {
                                    "0": "36",
                                    "1": "Customer LVJSO"
                                },
                                {
                                    "0": "36",
                                    "1": "Customer LVJSO"
                                },
                                {
                                    "0": "36",
                                    "1": "Customer LVJSO"
                                },
                                {
                                    "0": "36",
                                    "1": "Customer LVJSO"
                                },
                                {
                                    "0": "36",
                                    "1": "Customer LVJSO"
                                },
                                {
                                    "0": "37",
                                    "1": "Customer FRXZL"
                                },
                                {
                                    "0": "37",
                                    "1": "Customer FRXZL"
                                },
                                {
                                    "0": "37",
                                    "1": "Customer FRXZL"
                                },
                                {
                                    "0": "37",
                                    "1": "Customer FRXZL"
                                },
                                {
                                    "0": "37",
                                    "1": "Customer FRXZL"
                                },
                                {
                                    "0": "37",
                                    "1": "Customer FRXZL"
                                },
                                {
                                    "0": "37",
                                    "1": "Customer FRXZL"
                                },
                                {
                                    "0": "37",
                                    "1": "Customer FRXZL"
                                },
                                {
                                    "0": "37",
                                    "1": "Customer FRXZL"
                                },
                                {
                                    "0": "37",
                                    "1": "Customer FRXZL"
                                },
                                {
                                    "0": "37",
                                    "1": "Customer FRXZL"
                                },
                                {
                                    "0": "37",
                                    "1": "Customer FRXZL"
                                },
                                {
                                    "0": "37",
                                    "1": "Customer FRXZL"
                                },
                                {
                                    "0": "37",
                                    "1": "Customer FRXZL"
                                },
                                {
                                    "0": "37",
                                    "1": "Customer FRXZL"
                                },
                                {
                                    "0": "37",
                                    "1": "Customer FRXZL"
                                },
                                {
                                    "0": "37",
                                    "1": "Customer FRXZL"
                                },
                                {
                                    "0": "37",
                                    "1": "Customer FRXZL"
                                },
                                {
                                    "0": "37",
                                    "1": "Customer FRXZL"
                                },
                                {
                                    "0": "38",
                                    "1": "Customer LJUCA"
                                },
                                {
                                    "0": "38",
                                    "1": "Customer LJUCA"
                                },
                                {
                                    "0": "38",
                                    "1": "Customer LJUCA"
                                },
                                {
                                    "0": "38",
                                    "1": "Customer LJUCA"
                                },
                                {
                                    "0": "38",
                                    "1": "Customer LJUCA"
                                },
                                {
                                    "0": "38",
                                    "1": "Customer LJUCA"
                                },
                                {
                                    "0": "38",
                                    "1": "Customer LJUCA"
                                },
                                {
                                    "0": "38",
                                    "1": "Customer LJUCA"
                                },
                                {
                                    "0": "38",
                                    "1": "Customer LJUCA"
                                },
                                {
                                    "0": "38",
                                    "1": "Customer LJUCA"
                                },
                                {
                                    "0": "39",
                                    "1": "Customer GLLAG"
                                },
                                {
                                    "0": "39",
                                    "1": "Customer GLLAG"
                                },
                                {
                                    "0": "39",
                                    "1": "Customer GLLAG"
                                },
                                {
                                    "0": "39",
                                    "1": "Customer GLLAG"
                                },
                                {
                                    "0": "39",
                                    "1": "Customer GLLAG"
                                },
                                {
                                    "0": "39",
                                    "1": "Customer GLLAG"
                                },
                                {
                                    "0": "39",
                                    "1": "Customer GLLAG"
                                },
                                {
                                    "0": "39",
                                    "1": "Customer GLLAG"
                                },
                                {
                                    "0": "39",
                                    "1": "Customer GLLAG"
                                },
                                {
                                    "0": "39",
                                    "1": "Customer GLLAG"
                                },
                                {
                                    "0": "39",
                                    "1": "Customer GLLAG"
                                },
                                {
                                    "0": "39",
                                    "1": "Customer GLLAG"
                                },
                                {
                                    "0": "39",
                                    "1": "Customer GLLAG"
                                },
                                {
                                    "0": "39",
                                    "1": "Customer GLLAG"
                                },
                                {
                                    "0": "40",
                                    "1": "Customer EFFTC"
                                },
                                {
                                    "0": "40",
                                    "1": "Customer EFFTC"
                                },
                                {
                                    "0": "40",
                                    "1": "Customer EFFTC"
                                },
                                {
                                    "0": "40",
                                    "1": "Customer EFFTC"
                                },
                                {
                                    "0": "41",
                                    "1": "Customer XIIWM"
                                },
                                {
                                    "0": "41",
                                    "1": "Customer XIIWM"
                                },
                                {
                                    "0": "41",
                                    "1": "Customer XIIWM"
                                },
                                {
                                    "0": "41",
                                    "1": "Customer XIIWM"
                                },
                                {
                                    "0": "41",
                                    "1": "Customer XIIWM"
                                },
                                {
                                    "0": "41",
                                    "1": "Customer XIIWM"
                                },
                                {
                                    "0": "41",
                                    "1": "Customer XIIWM"
                                },
                                {
                                    "0": "41",
                                    "1": "Customer XIIWM"
                                },
                                {
                                    "0": "41",
                                    "1": "Customer XIIWM"
                                },
                                {
                                    "0": "41",
                                    "1": "Customer XIIWM"
                                },
                                {
                                    "0": "41",
                                    "1": "Customer XIIWM"
                                },
                                {
                                    "0": "41",
                                    "1": "Customer XIIWM"
                                },
                                {
                                    "0": "41",
                                    "1": "Customer XIIWM"
                                },
                                {
                                    "0": "41",
                                    "1": "Customer XIIWM"
                                },
                                {
                                    "0": "42",
                                    "1": "Customer IAIJK"
                                },
                                {
                                    "0": "42",
                                    "1": "Customer IAIJK"
                                },
                                {
                                    "0": "42",
                                    "1": "Customer IAIJK"
                                },
                                {
                                    "0": "43",
                                    "1": "Customer UISOJ"
                                },
                                {
                                    "0": "43",
                                    "1": "Customer UISOJ"
                                },
                                {
                                    "0": "44",
                                    "1": "Customer OXFRU"
                                },
                                {
                                    "0": "44",
                                    "1": "Customer OXFRU"
                                },
                                {
                                    "0": "44",
                                    "1": "Customer OXFRU"
                                },
                                {
                                    "0": "44",
                                    "1": "Customer OXFRU"
                                },
                                {
                                    "0": "44",
                                    "1": "Customer OXFRU"
                                },
                                {
                                    "0": "44",
                                    "1": "Customer OXFRU"
                                },
                                {
                                    "0": "44",
                                    "1": "Customer OXFRU"
                                },
                                {
                                    "0": "44",
                                    "1": "Customer OXFRU"
                                },
                                {
                                    "0": "44",
                                    "1": "Customer OXFRU"
                                },
                                {
                                    "0": "44",
                                    "1": "Customer OXFRU"
                                },
                                {
                                    "0": "44",
                                    "1": "Customer OXFRU"
                                },
                                {
                                    "0": "44",
                                    "1": "Customer OXFRU"
                                },
                                {
                                    "0": "44",
                                    "1": "Customer OXFRU"
                                },
                                {
                                    "0": "44",
                                    "1": "Customer OXFRU"
                                },
                                {
                                    "0": "44",
                                    "1": "Customer OXFRU"
                                },
                                {
                                    "0": "45",
                                    "1": "Customer QXPPT"
                                },
                                {
                                    "0": "45",
                                    "1": "Customer QXPPT"
                                },
                                {
                                    "0": "45",
                                    "1": "Customer QXPPT"
                                },
                                {
                                    "0": "45",
                                    "1": "Customer QXPPT"
                                },
                                {
                                    "0": "46",
                                    "1": "Customer XPNIK"
                                },
                                {
                                    "0": "46",
                                    "1": "Customer XPNIK"
                                },
                                {
                                    "0": "46",
                                    "1": "Customer XPNIK"
                                },
                                {
                                    "0": "46",
                                    "1": "Customer XPNIK"
                                },
                                {
                                    "0": "46",
                                    "1": "Customer XPNIK"
                                },
                                {
                                    "0": "46",
                                    "1": "Customer XPNIK"
                                },
                                {
                                    "0": "46",
                                    "1": "Customer XPNIK"
                                },
                                {
                                    "0": "46",
                                    "1": "Customer XPNIK"
                                },
                                {
                                    "0": "46",
                                    "1": "Customer XPNIK"
                                },
                                {
                                    "0": "46",
                                    "1": "Customer XPNIK"
                                },
                                {
                                    "0": "46",
                                    "1": "Customer XPNIK"
                                },
                                {
                                    "0": "46",
                                    "1": "Customer XPNIK"
                                },
                                {
                                    "0": "46",
                                    "1": "Customer XPNIK"
                                },
                                {
                                    "0": "46",
                                    "1": "Customer XPNIK"
                                },
                                {
                                    "0": "47",
                                    "1": "Customer PSQUZ"
                                },
                                {
                                    "0": "47",
                                    "1": "Customer PSQUZ"
                                },
                                {
                                    "0": "47",
                                    "1": "Customer PSQUZ"
                                },
                                {
                                    "0": "47",
                                    "1": "Customer PSQUZ"
                                },
                                {
                                    "0": "47",
                                    "1": "Customer PSQUZ"
                                },
                                {
                                    "0": "47",
                                    "1": "Customer PSQUZ"
                                },
                                {
                                    "0": "47",
                                    "1": "Customer PSQUZ"
                                },
                                {
                                    "0": "47",
                                    "1": "Customer PSQUZ"
                                },
                                {
                                    "0": "47",
                                    "1": "Customer PSQUZ"
                                },
                                {
                                    "0": "47",
                                    "1": "Customer PSQUZ"
                                },
                                {
                                    "0": "47",
                                    "1": "Customer PSQUZ"
                                },
                                {
                                    "0": "47",
                                    "1": "Customer PSQUZ"
                                },
                                {
                                    "0": "48",
                                    "1": "Customer DVFMB"
                                },
                                {
                                    "0": "48",
                                    "1": "Customer DVFMB"
                                },
                                {
                                    "0": "48",
                                    "1": "Customer DVFMB"
                                },
                                {
                                    "0": "48",
                                    "1": "Customer DVFMB"
                                },
                                {
                                    "0": "48",
                                    "1": "Customer DVFMB"
                                },
                                {
                                    "0": "48",
                                    "1": "Customer DVFMB"
                                },
                                {
                                    "0": "48",
                                    "1": "Customer DVFMB"
                                },
                                {
                                    "0": "48",
                                    "1": "Customer DVFMB"
                                },
                                {
                                    "0": "49",
                                    "1": "Customer CQRAA"
                                },
                                {
                                    "0": "49",
                                    "1": "Customer CQRAA"
                                },
                                {
                                    "0": "49",
                                    "1": "Customer CQRAA"
                                },
                                {
                                    "0": "49",
                                    "1": "Customer CQRAA"
                                },
                                {
                                    "0": "49",
                                    "1": "Customer CQRAA"
                                },
                                {
                                    "0": "49",
                                    "1": "Customer CQRAA"
                                },
                                {
                                    "0": "49",
                                    "1": "Customer CQRAA"
                                },
                                {
                                    "0": "49",
                                    "1": "Customer CQRAA"
                                },
                                {
                                    "0": "49",
                                    "1": "Customer CQRAA"
                                },
                                {
                                    "0": "49",
                                    "1": "Customer CQRAA"
                                },
                                {
                                    "0": "50",
                                    "1": "Customer JYPSC"
                                },
                                {
                                    "0": "50",
                                    "1": "Customer JYPSC"
                                },
                                {
                                    "0": "50",
                                    "1": "Customer JYPSC"
                                },
                                {
                                    "0": "50",
                                    "1": "Customer JYPSC"
                                },
                                {
                                    "0": "50",
                                    "1": "Customer JYPSC"
                                },
                                {
                                    "0": "50",
                                    "1": "Customer JYPSC"
                                },
                                {
                                    "0": "50",
                                    "1": "Customer JYPSC"
                                },
                                {
                                    "0": "51",
                                    "1": "Customer PVDZC"
                                },
                                {
                                    "0": "51",
                                    "1": "Customer PVDZC"
                                },
                                {
                                    "0": "51",
                                    "1": "Customer PVDZC"
                                },
                                {
                                    "0": "51",
                                    "1": "Customer PVDZC"
                                },
                                {
                                    "0": "51",
                                    "1": "Customer PVDZC"
                                },
                                {
                                    "0": "51",
                                    "1": "Customer PVDZC"
                                },
                                {
                                    "0": "51",
                                    "1": "Customer PVDZC"
                                },
                                {
                                    "0": "51",
                                    "1": "Customer PVDZC"
                                },
                                {
                                    "0": "51",
                                    "1": "Customer PVDZC"
                                },
                                {
                                    "0": "51",
                                    "1": "Customer PVDZC"
                                },
                                {
                                    "0": "51",
                                    "1": "Customer PVDZC"
                                },
                                {
                                    "0": "51",
                                    "1": "Customer PVDZC"
                                },
                                {
                                    "0": "51",
                                    "1": "Customer PVDZC"
                                },
                                {
                                    "0": "52",
                                    "1": "Customer PZNLA"
                                },
                                {
                                    "0": "52",
                                    "1": "Customer PZNLA"
                                },
                                {
                                    "0": "52",
                                    "1": "Customer PZNLA"
                                },
                                {
                                    "0": "52",
                                    "1": "Customer PZNLA"
                                },
                                {
                                    "0": "52",
                                    "1": "Customer PZNLA"
                                },
                                {
                                    "0": "53",
                                    "1": "Customer GCJSG"
                                },
                                {
                                    "0": "53",
                                    "1": "Customer GCJSG"
                                },
                                {
                                    "0": "53",
                                    "1": "Customer GCJSG"
                                },
                                {
                                    "0": "54",
                                    "1": "Customer TDKEG"
                                },
                                {
                                    "0": "54",
                                    "1": "Customer TDKEG"
                                },
                                {
                                    "0": "54",
                                    "1": "Customer TDKEG"
                                },
                                {
                                    "0": "54",
                                    "1": "Customer TDKEG"
                                },
                                {
                                    "0": "54",
                                    "1": "Customer TDKEG"
                                },
                                {
                                    "0": "55",
                                    "1": "Customer KZQZT"
                                },
                                {
                                    "0": "55",
                                    "1": "Customer KZQZT"
                                },
                                {
                                    "0": "55",
                                    "1": "Customer KZQZT"
                                },
                                {
                                    "0": "55",
                                    "1": "Customer KZQZT"
                                },
                                {
                                    "0": "55",
                                    "1": "Customer KZQZT"
                                },
                                {
                                    "0": "55",
                                    "1": "Customer KZQZT"
                                },
                                {
                                    "0": "55",
                                    "1": "Customer KZQZT"
                                },
                                {
                                    "0": "55",
                                    "1": "Customer KZQZT"
                                },
                                {
                                    "0": "55",
                                    "1": "Customer KZQZT"
                                },
                                {
                                    "0": "55",
                                    "1": "Customer KZQZT"
                                },
                                {
                                    "0": "56",
                                    "1": "Customer QNIVZ"
                                },
                                {
                                    "0": "56",
                                    "1": "Customer QNIVZ"
                                },
                                {
                                    "0": "56",
                                    "1": "Customer QNIVZ"
                                },
                                {
                                    "0": "56",
                                    "1": "Customer QNIVZ"
                                },
                                {
                                    "0": "56",
                                    "1": "Customer QNIVZ"
                                },
                                {
                                    "0": "56",
                                    "1": "Customer QNIVZ"
                                },
                                {
                                    "0": "56",
                                    "1": "Customer QNIVZ"
                                },
                                {
                                    "0": "56",
                                    "1": "Customer QNIVZ"
                                },
                                {
                                    "0": "56",
                                    "1": "Customer QNIVZ"
                                },
                                {
                                    "0": "56",
                                    "1": "Customer QNIVZ"
                                },
                                {
                                    "0": "57",
                                    "1": "Customer WVAXS"
                                },
                                {
                                    "0": "58",
                                    "1": "Customer AHXHT"
                                },
                                {
                                    "0": "58",
                                    "1": "Customer AHXHT"
                                },
                                {
                                    "0": "58",
                                    "1": "Customer AHXHT"
                                },
                                {
                                    "0": "58",
                                    "1": "Customer AHXHT"
                                },
                                {
                                    "0": "58",
                                    "1": "Customer AHXHT"
                                },
                                {
                                    "0": "58",
                                    "1": "Customer AHXHT"
                                },
                                {
                                    "0": "59",
                                    "1": "Customer LOLJO"
                                },
                                {
                                    "0": "59",
                                    "1": "Customer LOLJO"
                                },
                                {
                                    "0": "59",
                                    "1": "Customer LOLJO"
                                },
                                {
                                    "0": "59",
                                    "1": "Customer LOLJO"
                                },
                                {
                                    "0": "59",
                                    "1": "Customer LOLJO"
                                },
                                {
                                    "0": "59",
                                    "1": "Customer LOLJO"
                                },
                                {
                                    "0": "59",
                                    "1": "Customer LOLJO"
                                },
                                {
                                    "0": "59",
                                    "1": "Customer LOLJO"
                                },
                                {
                                    "0": "59",
                                    "1": "Customer LOLJO"
                                },
                                {
                                    "0": "59",
                                    "1": "Customer LOLJO"
                                },
                                {
                                    "0": "60",
                                    "1": "Customer QZURI"
                                },
                                {
                                    "0": "60",
                                    "1": "Customer QZURI"
                                },
                                {
                                    "0": "60",
                                    "1": "Customer QZURI"
                                },
                                {
                                    "0": "60",
                                    "1": "Customer QZURI"
                                },
                                {
                                    "0": "60",
                                    "1": "Customer QZURI"
                                },
                                {
                                    "0": "61",
                                    "1": "Customer WULWD"
                                },
                                {
                                    "0": "61",
                                    "1": "Customer WULWD"
                                },
                                {
                                    "0": "61",
                                    "1": "Customer WULWD"
                                },
                                {
                                    "0": "61",
                                    "1": "Customer WULWD"
                                },
                                {
                                    "0": "61",
                                    "1": "Customer WULWD"
                                },
                                {
                                    "0": "61",
                                    "1": "Customer WULWD"
                                },
                                {
                                    "0": "61",
                                    "1": "Customer WULWD"
                                },
                                {
                                    "0": "61",
                                    "1": "Customer WULWD"
                                },
                                {
                                    "0": "61",
                                    "1": "Customer WULWD"
                                },
                                {
                                    "0": "62",
                                    "1": "Customer WFIZJ"
                                },
                                {
                                    "0": "62",
                                    "1": "Customer WFIZJ"
                                },
                                {
                                    "0": "62",
                                    "1": "Customer WFIZJ"
                                },
                                {
                                    "0": "62",
                                    "1": "Customer WFIZJ"
                                },
                                {
                                    "0": "62",
                                    "1": "Customer WFIZJ"
                                },
                                {
                                    "0": "62",
                                    "1": "Customer WFIZJ"
                                },
                                {
                                    "0": "62",
                                    "1": "Customer WFIZJ"
                                },
                                {
                                    "0": "62",
                                    "1": "Customer WFIZJ"
                                },
                                {
                                    "0": "62",
                                    "1": "Customer WFIZJ"
                                },
                                {
                                    "0": "62",
                                    "1": "Customer WFIZJ"
                                },
                                {
                                    "0": "62",
                                    "1": "Customer WFIZJ"
                                },
                                {
                                    "0": "62",
                                    "1": "Customer WFIZJ"
                                },
                                {
                                    "0": "62",
                                    "1": "Customer WFIZJ"
                                },
                                {
                                    "0": "63",
                                    "1": "Customer IRRVL"
                                },
                                {
                                    "0": "63",
                                    "1": "Customer IRRVL"
                                },
                                {
                                    "0": "63",
                                    "1": "Customer IRRVL"
                                },
                                {
                                    "0": "63",
                                    "1": "Customer IRRVL"
                                },
                                {
                                    "0": "63",
                                    "1": "Customer IRRVL"
                                },
                                {
                                    "0": "63",
                                    "1": "Customer IRRVL"
                                },
                                {
                                    "0": "63",
                                    "1": "Customer IRRVL"
                                },
                                {
                                    "0": "63",
                                    "1": "Customer IRRVL"
                                },
                                {
                                    "0": "63",
                                    "1": "Customer IRRVL"
                                },
                                {
                                    "0": "63",
                                    "1": "Customer IRRVL"
                                },
                                {
                                    "0": "63",
                                    "1": "Customer IRRVL"
                                },
                                {
                                    "0": "63",
                                    "1": "Customer IRRVL"
                                },
                                {
                                    "0": "63",
                                    "1": "Customer IRRVL"
                                },
                                {
                                    "0": "63",
                                    "1": "Customer IRRVL"
                                },
                                {
                                    "0": "63",
                                    "1": "Customer IRRVL"
                                },
                                {
                                    "0": "63",
                                    "1": "Customer IRRVL"
                                },
                                {
                                    "0": "63",
                                    "1": "Customer IRRVL"
                                },
                                {
                                    "0": "63",
                                    "1": "Customer IRRVL"
                                },
                                {
                                    "0": "63",
                                    "1": "Customer IRRVL"
                                },
                                {
                                    "0": "63",
                                    "1": "Customer IRRVL"
                                },
                                {
                                    "0": "63",
                                    "1": "Customer IRRVL"
                                },
                                {
                                    "0": "63",
                                    "1": "Customer IRRVL"
                                },
                                {
                                    "0": "63",
                                    "1": "Customer IRRVL"
                                },
                                {
                                    "0": "63",
                                    "1": "Customer IRRVL"
                                },
                                {
                                    "0": "63",
                                    "1": "Customer IRRVL"
                                },
                                {
                                    "0": "63",
                                    "1": "Customer IRRVL"
                                },
                                {
                                    "0": "63",
                                    "1": "Customer IRRVL"
                                },
                                {
                                    "0": "63",
                                    "1": "Customer IRRVL"
                                },
                                {
                                    "0": "64",
                                    "1": "Customer LWGMD"
                                },
                                {
                                    "0": "64",
                                    "1": "Customer LWGMD"
                                },
                                {
                                    "0": "64",
                                    "1": "Customer LWGMD"
                                },
                                {
                                    "0": "64",
                                    "1": "Customer LWGMD"
                                },
                                {
                                    "0": "64",
                                    "1": "Customer LWGMD"
                                },
                                {
                                    "0": "65",
                                    "1": "Customer NYUHS"
                                },
                                {
                                    "0": "65",
                                    "1": "Customer NYUHS"
                                },
                                {
                                    "0": "65",
                                    "1": "Customer NYUHS"
                                },
                                {
                                    "0": "65",
                                    "1": "Customer NYUHS"
                                },
                                {
                                    "0": "65",
                                    "1": "Customer NYUHS"
                                },
                                {
                                    "0": "65",
                                    "1": "Customer NYUHS"
                                },
                                {
                                    "0": "65",
                                    "1": "Customer NYUHS"
                                },
                                {
                                    "0": "65",
                                    "1": "Customer NYUHS"
                                },
                                {
                                    "0": "65",
                                    "1": "Customer NYUHS"
                                },
                                {
                                    "0": "65",
                                    "1": "Customer NYUHS"
                                },
                                {
                                    "0": "65",
                                    "1": "Customer NYUHS"
                                },
                                {
                                    "0": "65",
                                    "1": "Customer NYUHS"
                                },
                                {
                                    "0": "65",
                                    "1": "Customer NYUHS"
                                },
                                {
                                    "0": "65",
                                    "1": "Customer NYUHS"
                                },
                                {
                                    "0": "65",
                                    "1": "Customer NYUHS"
                                },
                                {
                                    "0": "65",
                                    "1": "Customer NYUHS"
                                },
                                {
                                    "0": "65",
                                    "1": "Customer NYUHS"
                                },
                                {
                                    "0": "65",
                                    "1": "Customer NYUHS"
                                },
                                {
                                    "0": "66",
                                    "1": "Customer LHANT"
                                },
                                {
                                    "0": "66",
                                    "1": "Customer LHANT"
                                },
                                {
                                    "0": "66",
                                    "1": "Customer LHANT"
                                },
                                {
                                    "0": "66",
                                    "1": "Customer LHANT"
                                },
                                {
                                    "0": "66",
                                    "1": "Customer LHANT"
                                },
                                {
                                    "0": "66",
                                    "1": "Customer LHANT"
                                },
                                {
                                    "0": "66",
                                    "1": "Customer LHANT"
                                },
                                {
                                    "0": "66",
                                    "1": "Customer LHANT"
                                },
                                {
                                    "0": "66",
                                    "1": "Customer LHANT"
                                },
                                {
                                    "0": "66",
                                    "1": "Customer LHANT"
                                },
                                {
                                    "0": "66",
                                    "1": "Customer LHANT"
                                },
                                {
                                    "0": "66",
                                    "1": "Customer LHANT"
                                },
                                {
                                    "0": "67",
                                    "1": "Customer QVEPD"
                                },
                                {
                                    "0": "67",
                                    "1": "Customer QVEPD"
                                },
                                {
                                    "0": "67",
                                    "1": "Customer QVEPD"
                                },
                                {
                                    "0": "67",
                                    "1": "Customer QVEPD"
                                },
                                {
                                    "0": "67",
                                    "1": "Customer QVEPD"
                                },
                                {
                                    "0": "67",
                                    "1": "Customer QVEPD"
                                },
                                {
                                    "0": "67",
                                    "1": "Customer QVEPD"
                                },
                                {
                                    "0": "67",
                                    "1": "Customer QVEPD"
                                },
                                {
                                    "0": "67",
                                    "1": "Customer QVEPD"
                                },
                                {
                                    "0": "67",
                                    "1": "Customer QVEPD"
                                },
                                {
                                    "0": "67",
                                    "1": "Customer QVEPD"
                                },
                                {
                                    "0": "68",
                                    "1": "Customer CCKOT"
                                },
                                {
                                    "0": "68",
                                    "1": "Customer CCKOT"
                                },
                                {
                                    "0": "68",
                                    "1": "Customer CCKOT"
                                },
                                {
                                    "0": "68",
                                    "1": "Customer CCKOT"
                                },
                                {
                                    "0": "68",
                                    "1": "Customer CCKOT"
                                },
                                {
                                    "0": "68",
                                    "1": "Customer CCKOT"
                                },
                                {
                                    "0": "68",
                                    "1": "Customer CCKOT"
                                },
                                {
                                    "0": "68",
                                    "1": "Customer CCKOT"
                                },
                                {
                                    "0": "68",
                                    "1": "Customer CCKOT"
                                },
                                {
                                    "0": "68",
                                    "1": "Customer CCKOT"
                                },
                                {
                                    "0": "69",
                                    "1": "Customer SIUIH"
                                },
                                {
                                    "0": "69",
                                    "1": "Customer SIUIH"
                                },
                                {
                                    "0": "69",
                                    "1": "Customer SIUIH"
                                },
                                {
                                    "0": "69",
                                    "1": "Customer SIUIH"
                                },
                                {
                                    "0": "69",
                                    "1": "Customer SIUIH"
                                },
                                {
                                    "0": "70",
                                    "1": "Customer TMXGN"
                                },
                                {
                                    "0": "70",
                                    "1": "Customer TMXGN"
                                },
                                {
                                    "0": "70",
                                    "1": "Customer TMXGN"
                                },
                                {
                                    "0": "70",
                                    "1": "Customer TMXGN"
                                },
                                {
                                    "0": "70",
                                    "1": "Customer TMXGN"
                                },
                                {
                                    "0": "70",
                                    "1": "Customer TMXGN"
                                },
                                {
                                    "0": "71",
                                    "1": "Customer LCOUJ"
                                },
                                {
                                    "0": "71",
                                    "1": "Customer LCOUJ"
                                },
                                {
                                    "0": "71",
                                    "1": "Customer LCOUJ"
                                },
                                {
                                    "0": "71",
                                    "1": "Customer LCOUJ"
                                },
                                {
                                    "0": "71",
                                    "1": "Customer LCOUJ"
                                },
                                {
                                    "0": "71",
                                    "1": "Customer LCOUJ"
                                },
                                {
                                    "0": "71",
                                    "1": "Customer LCOUJ"
                                },
                                {
                                    "0": "71",
                                    "1": "Customer LCOUJ"
                                },
                                {
                                    "0": "71",
                                    "1": "Customer LCOUJ"
                                },
                                {
                                    "0": "71",
                                    "1": "Customer LCOUJ"
                                },
                                {
                                    "0": "71",
                                    "1": "Customer LCOUJ"
                                },
                                {
                                    "0": "71",
                                    "1": "Customer LCOUJ"
                                },
                                {
                                    "0": "71",
                                    "1": "Customer LCOUJ"
                                },
                                {
                                    "0": "71",
                                    "1": "Customer LCOUJ"
                                },
                                {
                                    "0": "71",
                                    "1": "Customer LCOUJ"
                                },
                                {
                                    "0": "71",
                                    "1": "Customer LCOUJ"
                                },
                                {
                                    "0": "71",
                                    "1": "Customer LCOUJ"
                                },
                                {
                                    "0": "71",
                                    "1": "Customer LCOUJ"
                                },
                                {
                                    "0": "71",
                                    "1": "Customer LCOUJ"
                                },
                                {
                                    "0": "71",
                                    "1": "Customer LCOUJ"
                                },
                                {
                                    "0": "71",
                                    "1": "Customer LCOUJ"
                                },
                                {
                                    "0": "71",
                                    "1": "Customer LCOUJ"
                                },
                                {
                                    "0": "71",
                                    "1": "Customer LCOUJ"
                                },
                                {
                                    "0": "71",
                                    "1": "Customer LCOUJ"
                                },
                                {
                                    "0": "71",
                                    "1": "Customer LCOUJ"
                                },
                                {
                                    "0": "71",
                                    "1": "Customer LCOUJ"
                                },
                                {
                                    "0": "71",
                                    "1": "Customer LCOUJ"
                                },
                                {
                                    "0": "71",
                                    "1": "Customer LCOUJ"
                                },
                                {
                                    "0": "71",
                                    "1": "Customer LCOUJ"
                                },
                                {
                                    "0": "71",
                                    "1": "Customer LCOUJ"
                                },
                                {
                                    "0": "71",
                                    "1": "Customer LCOUJ"
                                },
                                {
                                    "0": "72",
                                    "1": "Customer AHPOP"
                                },
                                {
                                    "0": "72",
                                    "1": "Customer AHPOP"
                                },
                                {
                                    "0": "72",
                                    "1": "Customer AHPOP"
                                },
                                {
                                    "0": "72",
                                    "1": "Customer AHPOP"
                                },
                                {
                                    "0": "72",
                                    "1": "Customer AHPOP"
                                },
                                {
                                    "0": "72",
                                    "1": "Customer AHPOP"
                                },
                                {
                                    "0": "72",
                                    "1": "Customer AHPOP"
                                },
                                {
                                    "0": "72",
                                    "1": "Customer AHPOP"
                                },
                                {
                                    "0": "72",
                                    "1": "Customer AHPOP"
                                },
                                {
                                    "0": "73",
                                    "1": "Customer JMIKW"
                                },
                                {
                                    "0": "73",
                                    "1": "Customer JMIKW"
                                },
                                {
                                    "0": "73",
                                    "1": "Customer JMIKW"
                                },
                                {
                                    "0": "73",
                                    "1": "Customer JMIKW"
                                },
                                {
                                    "0": "73",
                                    "1": "Customer JMIKW"
                                },
                                {
                                    "0": "73",
                                    "1": "Customer JMIKW"
                                },
                                {
                                    "0": "73",
                                    "1": "Customer JMIKW"
                                },
                                {
                                    "0": "74",
                                    "1": "Customer YSHXL"
                                },
                                {
                                    "0": "74",
                                    "1": "Customer YSHXL"
                                },
                                {
                                    "0": "74",
                                    "1": "Customer YSHXL"
                                },
                                {
                                    "0": "74",
                                    "1": "Customer YSHXL"
                                },
                                {
                                    "0": "75",
                                    "1": "Customer XOJYP"
                                },
                                {
                                    "0": "75",
                                    "1": "Customer XOJYP"
                                },
                                {
                                    "0": "75",
                                    "1": "Customer XOJYP"
                                },
                                {
                                    "0": "75",
                                    "1": "Customer XOJYP"
                                },
                                {
                                    "0": "75",
                                    "1": "Customer XOJYP"
                                },
                                {
                                    "0": "75",
                                    "1": "Customer XOJYP"
                                },
                                {
                                    "0": "75",
                                    "1": "Customer XOJYP"
                                },
                                {
                                    "0": "75",
                                    "1": "Customer XOJYP"
                                },
                                {
                                    "0": "75",
                                    "1": "Customer XOJYP"
                                },
                                {
                                    "0": "76",
                                    "1": "Customer SFOGW"
                                },
                                {
                                    "0": "76",
                                    "1": "Customer SFOGW"
                                },
                                {
                                    "0": "76",
                                    "1": "Customer SFOGW"
                                },
                                {
                                    "0": "76",
                                    "1": "Customer SFOGW"
                                },
                                {
                                    "0": "76",
                                    "1": "Customer SFOGW"
                                },
                                {
                                    "0": "76",
                                    "1": "Customer SFOGW"
                                },
                                {
                                    "0": "76",
                                    "1": "Customer SFOGW"
                                },
                                {
                                    "0": "76",
                                    "1": "Customer SFOGW"
                                },
                                {
                                    "0": "76",
                                    "1": "Customer SFOGW"
                                },
                                {
                                    "0": "76",
                                    "1": "Customer SFOGW"
                                },
                                {
                                    "0": "76",
                                    "1": "Customer SFOGW"
                                },
                                {
                                    "0": "76",
                                    "1": "Customer SFOGW"
                                },
                                {
                                    "0": "77",
                                    "1": "Customer LCYBZ"
                                },
                                {
                                    "0": "77",
                                    "1": "Customer LCYBZ"
                                },
                                {
                                    "0": "77",
                                    "1": "Customer LCYBZ"
                                },
                                {
                                    "0": "77",
                                    "1": "Customer LCYBZ"
                                },
                                {
                                    "0": "78",
                                    "1": "Customer NLTYP"
                                },
                                {
                                    "0": "78",
                                    "1": "Customer NLTYP"
                                },
                                {
                                    "0": "78",
                                    "1": "Customer NLTYP"
                                },
                                {
                                    "0": "79",
                                    "1": "Customer FAPSM"
                                },
                                {
                                    "0": "79",
                                    "1": "Customer FAPSM"
                                },
                                {
                                    "0": "79",
                                    "1": "Customer FAPSM"
                                },
                                {
                                    "0": "79",
                                    "1": "Customer FAPSM"
                                },
                                {
                                    "0": "79",
                                    "1": "Customer FAPSM"
                                },
                                {
                                    "0": "79",
                                    "1": "Customer FAPSM"
                                },
                                {
                                    "0": "80",
                                    "1": "Customer VONTK"
                                },
                                {
                                    "0": "80",
                                    "1": "Customer VONTK"
                                },
                                {
                                    "0": "80",
                                    "1": "Customer VONTK"
                                },
                                {
                                    "0": "80",
                                    "1": "Customer VONTK"
                                },
                                {
                                    "0": "80",
                                    "1": "Customer VONTK"
                                },
                                {
                                    "0": "80",
                                    "1": "Customer VONTK"
                                },
                                {
                                    "0": "80",
                                    "1": "Customer VONTK"
                                },
                                {
                                    "0": "80",
                                    "1": "Customer VONTK"
                                },
                                {
                                    "0": "80",
                                    "1": "Customer VONTK"
                                },
                                {
                                    "0": "80",
                                    "1": "Customer VONTK"
                                },
                                {
                                    "0": "81",
                                    "1": "Customer YQQWW"
                                },
                                {
                                    "0": "81",
                                    "1": "Customer YQQWW"
                                },
                                {
                                    "0": "81",
                                    "1": "Customer YQQWW"
                                },
                                {
                                    "0": "81",
                                    "1": "Customer YQQWW"
                                },
                                {
                                    "0": "81",
                                    "1": "Customer YQQWW"
                                },
                                {
                                    "0": "81",
                                    "1": "Customer YQQWW"
                                },
                                {
                                    "0": "82",
                                    "1": "Customer EYHKM"
                                },
                                {
                                    "0": "82",
                                    "1": "Customer EYHKM"
                                },
                                {
                                    "0": "82",
                                    "1": "Customer EYHKM"
                                },
                                {
                                    "0": "83",
                                    "1": "Customer ZRNDE"
                                },
                                {
                                    "0": "83",
                                    "1": "Customer ZRNDE"
                                },
                                {
                                    "0": "83",
                                    "1": "Customer ZRNDE"
                                },
                                {
                                    "0": "83",
                                    "1": "Customer ZRNDE"
                                },
                                {
                                    "0": "83",
                                    "1": "Customer ZRNDE"
                                },
                                {
                                    "0": "83",
                                    "1": "Customer ZRNDE"
                                },
                                {
                                    "0": "83",
                                    "1": "Customer ZRNDE"
                                },
                                {
                                    "0": "83",
                                    "1": "Customer ZRNDE"
                                },
                                {
                                    "0": "83",
                                    "1": "Customer ZRNDE"
                                },
                                {
                                    "0": "83",
                                    "1": "Customer ZRNDE"
                                },
                                {
                                    "0": "83",
                                    "1": "Customer ZRNDE"
                                },
                                {
                                    "0": "84",
                                    "1": "Customer NRCSK"
                                },
                                {
                                    "0": "84",
                                    "1": "Customer NRCSK"
                                },
                                {
                                    "0": "84",
                                    "1": "Customer NRCSK"
                                },
                                {
                                    "0": "84",
                                    "1": "Customer NRCSK"
                                },
                                {
                                    "0": "84",
                                    "1": "Customer NRCSK"
                                },
                                {
                                    "0": "84",
                                    "1": "Customer NRCSK"
                                },
                                {
                                    "0": "84",
                                    "1": "Customer NRCSK"
                                },
                                {
                                    "0": "84",
                                    "1": "Customer NRCSK"
                                },
                                {
                                    "0": "84",
                                    "1": "Customer NRCSK"
                                },
                                {
                                    "0": "84",
                                    "1": "Customer NRCSK"
                                },
                                {
                                    "0": "85",
                                    "1": "Customer ENQZT"
                                },
                                {
                                    "0": "85",
                                    "1": "Customer ENQZT"
                                },
                                {
                                    "0": "85",
                                    "1": "Customer ENQZT"
                                },
                                {
                                    "0": "85",
                                    "1": "Customer ENQZT"
                                },
                                {
                                    "0": "85",
                                    "1": "Customer ENQZT"
                                },
                                {
                                    "0": "86",
                                    "1": "Customer SNXOJ"
                                },
                                {
                                    "0": "86",
                                    "1": "Customer SNXOJ"
                                },
                                {
                                    "0": "86",
                                    "1": "Customer SNXOJ"
                                },
                                {
                                    "0": "86",
                                    "1": "Customer SNXOJ"
                                },
                                {
                                    "0": "86",
                                    "1": "Customer SNXOJ"
                                },
                                {
                                    "0": "86",
                                    "1": "Customer SNXOJ"
                                },
                                {
                                    "0": "86",
                                    "1": "Customer SNXOJ"
                                },
                                {
                                    "0": "86",
                                    "1": "Customer SNXOJ"
                                },
                                {
                                    "0": "86",
                                    "1": "Customer SNXOJ"
                                },
                                {
                                    "0": "86",
                                    "1": "Customer SNXOJ"
                                },
                                {
                                    "0": "87",
                                    "1": "Customer ZHYOS"
                                },
                                {
                                    "0": "87",
                                    "1": "Customer ZHYOS"
                                },
                                {
                                    "0": "87",
                                    "1": "Customer ZHYOS"
                                },
                                {
                                    "0": "87",
                                    "1": "Customer ZHYOS"
                                },
                                {
                                    "0": "87",
                                    "1": "Customer ZHYOS"
                                },
                                {
                                    "0": "87",
                                    "1": "Customer ZHYOS"
                                },
                                {
                                    "0": "87",
                                    "1": "Customer ZHYOS"
                                },
                                {
                                    "0": "87",
                                    "1": "Customer ZHYOS"
                                },
                                {
                                    "0": "87",
                                    "1": "Customer ZHYOS"
                                },
                                {
                                    "0": "87",
                                    "1": "Customer ZHYOS"
                                },
                                {
                                    "0": "87",
                                    "1": "Customer ZHYOS"
                                },
                                {
                                    "0": "87",
                                    "1": "Customer ZHYOS"
                                },
                                {
                                    "0": "87",
                                    "1": "Customer ZHYOS"
                                },
                                {
                                    "0": "87",
                                    "1": "Customer ZHYOS"
                                },
                                {
                                    "0": "87",
                                    "1": "Customer ZHYOS"
                                },
                                {
                                    "0": "88",
                                    "1": "Customer SRQVM"
                                },
                                {
                                    "0": "88",
                                    "1": "Customer SRQVM"
                                },
                                {
                                    "0": "88",
                                    "1": "Customer SRQVM"
                                },
                                {
                                    "0": "88",
                                    "1": "Customer SRQVM"
                                },
                                {
                                    "0": "88",
                                    "1": "Customer SRQVM"
                                },
                                {
                                    "0": "88",
                                    "1": "Customer SRQVM"
                                },
                                {
                                    "0": "88",
                                    "1": "Customer SRQVM"
                                },
                                {
                                    "0": "88",
                                    "1": "Customer SRQVM"
                                },
                                {
                                    "0": "88",
                                    "1": "Customer SRQVM"
                                },
                                {
                                    "0": "89",
                                    "1": "Customer YBQTI"
                                },
                                {
                                    "0": "89",
                                    "1": "Customer YBQTI"
                                },
                                {
                                    "0": "89",
                                    "1": "Customer YBQTI"
                                },
                                {
                                    "0": "89",
                                    "1": "Customer YBQTI"
                                },
                                {
                                    "0": "89",
                                    "1": "Customer YBQTI"
                                },
                                {
                                    "0": "89",
                                    "1": "Customer YBQTI"
                                },
                                {
                                    "0": "89",
                                    "1": "Customer YBQTI"
                                },
                                {
                                    "0": "89",
                                    "1": "Customer YBQTI"
                                },
                                {
                                    "0": "89",
                                    "1": "Customer YBQTI"
                                },
                                {
                                    "0": "89",
                                    "1": "Customer YBQTI"
                                },
                                {
                                    "0": "89",
                                    "1": "Customer YBQTI"
                                },
                                {
                                    "0": "89",
                                    "1": "Customer YBQTI"
                                },
                                {
                                    "0": "89",
                                    "1": "Customer YBQTI"
                                },
                                {
                                    "0": "89",
                                    "1": "Customer YBQTI"
                                },
                                {
                                    "0": "90",
                                    "1": "Customer XBBVR"
                                },
                                {
                                    "0": "90",
                                    "1": "Customer XBBVR"
                                },
                                {
                                    "0": "90",
                                    "1": "Customer XBBVR"
                                },
                                {
                                    "0": "90",
                                    "1": "Customer XBBVR"
                                },
                                {
                                    "0": "90",
                                    "1": "Customer XBBVR"
                                },
                                {
                                    "0": "90",
                                    "1": "Customer XBBVR"
                                },
                                {
                                    "0": "90",
                                    "1": "Customer XBBVR"
                                },
                                {
                                    "0": "91",
                                    "1": "Customer CCFIZ"
                                },
                                {
                                    "0": "91",
                                    "1": "Customer CCFIZ"
                                },
                                {
                                    "0": "91",
                                    "1": "Customer CCFIZ"
                                },
                                {
                                    "0": "91",
                                    "1": "Customer CCFIZ"
                                },
                                {
                                    "0": "91",
                                    "1": "Customer CCFIZ"
                                },
                                {
                                    "0": "91",
                                    "1": "Customer CCFIZ"
                                },
                                {
                                    "0": "91",
                                    "1": "Customer CCFIZ"
                                }
                            ]
                        },
                        "text/html": [
                            "<table>",
                            "<tr><th>custid</th><th>companyname</th></tr>",
                            "<tr><td>1</td><td>Customer NRZBB</td></tr>",
                            "<tr><td>1</td><td>Customer NRZBB</td></tr>",
                            "<tr><td>1</td><td>Customer NRZBB</td></tr>",
                            "<tr><td>1</td><td>Customer NRZBB</td></tr>",
                            "<tr><td>1</td><td>Customer NRZBB</td></tr>",
                            "<tr><td>1</td><td>Customer NRZBB</td></tr>",
                            "<tr><td>2</td><td>Customer MLTDN</td></tr>",
                            "<tr><td>2</td><td>Customer MLTDN</td></tr>",
                            "<tr><td>2</td><td>Customer MLTDN</td></tr>",
                            "<tr><td>2</td><td>Customer MLTDN</td></tr>",
                            "<tr><td>3</td><td>Customer KBUDE</td></tr>",
                            "<tr><td>3</td><td>Customer KBUDE</td></tr>",
                            "<tr><td>3</td><td>Customer KBUDE</td></tr>",
                            "<tr><td>3</td><td>Customer KBUDE</td></tr>",
                            "<tr><td>3</td><td>Customer KBUDE</td></tr>",
                            "<tr><td>3</td><td>Customer KBUDE</td></tr>",
                            "<tr><td>3</td><td>Customer KBUDE</td></tr>",
                            "<tr><td>4</td><td>Customer HFBZG</td></tr>",
                            "<tr><td>4</td><td>Customer HFBZG</td></tr>",
                            "<tr><td>4</td><td>Customer HFBZG</td></tr>",
                            "<tr><td>4</td><td>Customer HFBZG</td></tr>",
                            "<tr><td>4</td><td>Customer HFBZG</td></tr>",
                            "<tr><td>4</td><td>Customer HFBZG</td></tr>",
                            "<tr><td>4</td><td>Customer HFBZG</td></tr>",
                            "<tr><td>4</td><td>Customer HFBZG</td></tr>",
                            "<tr><td>4</td><td>Customer HFBZG</td></tr>",
                            "<tr><td>4</td><td>Customer HFBZG</td></tr>",
                            "<tr><td>4</td><td>Customer HFBZG</td></tr>",
                            "<tr><td>4</td><td>Customer HFBZG</td></tr>",
                            "<tr><td>4</td><td>Customer HFBZG</td></tr>",
                            "<tr><td>5</td><td>Customer HGVLZ</td></tr>",
                            "<tr><td>5</td><td>Customer HGVLZ</td></tr>",
                            "<tr><td>5</td><td>Customer HGVLZ</td></tr>",
                            "<tr><td>5</td><td>Customer HGVLZ</td></tr>",
                            "<tr><td>5</td><td>Customer HGVLZ</td></tr>",
                            "<tr><td>5</td><td>Customer HGVLZ</td></tr>",
                            "<tr><td>5</td><td>Customer HGVLZ</td></tr>",
                            "<tr><td>5</td><td>Customer HGVLZ</td></tr>",
                            "<tr><td>5</td><td>Customer HGVLZ</td></tr>",
                            "<tr><td>5</td><td>Customer HGVLZ</td></tr>",
                            "<tr><td>5</td><td>Customer HGVLZ</td></tr>",
                            "<tr><td>5</td><td>Customer HGVLZ</td></tr>",
                            "<tr><td>5</td><td>Customer HGVLZ</td></tr>",
                            "<tr><td>5</td><td>Customer HGVLZ</td></tr>",
                            "<tr><td>5</td><td>Customer HGVLZ</td></tr>",
                            "<tr><td>5</td><td>Customer HGVLZ</td></tr>",
                            "<tr><td>5</td><td>Customer HGVLZ</td></tr>",
                            "<tr><td>5</td><td>Customer HGVLZ</td></tr>",
                            "<tr><td>6</td><td>Customer XHXJV</td></tr>",
                            "<tr><td>6</td><td>Customer XHXJV</td></tr>",
                            "<tr><td>6</td><td>Customer XHXJV</td></tr>",
                            "<tr><td>6</td><td>Customer XHXJV</td></tr>",
                            "<tr><td>6</td><td>Customer XHXJV</td></tr>",
                            "<tr><td>6</td><td>Customer XHXJV</td></tr>",
                            "<tr><td>6</td><td>Customer XHXJV</td></tr>",
                            "<tr><td>7</td><td>Customer QXVLA</td></tr>",
                            "<tr><td>7</td><td>Customer QXVLA</td></tr>",
                            "<tr><td>7</td><td>Customer QXVLA</td></tr>",
                            "<tr><td>7</td><td>Customer QXVLA</td></tr>",
                            "<tr><td>7</td><td>Customer QXVLA</td></tr>",
                            "<tr><td>7</td><td>Customer QXVLA</td></tr>",
                            "<tr><td>7</td><td>Customer QXVLA</td></tr>",
                            "<tr><td>7</td><td>Customer QXVLA</td></tr>",
                            "<tr><td>7</td><td>Customer QXVLA</td></tr>",
                            "<tr><td>7</td><td>Customer QXVLA</td></tr>",
                            "<tr><td>7</td><td>Customer QXVLA</td></tr>",
                            "<tr><td>8</td><td>Customer QUHWH</td></tr>",
                            "<tr><td>8</td><td>Customer QUHWH</td></tr>",
                            "<tr><td>8</td><td>Customer QUHWH</td></tr>",
                            "<tr><td>9</td><td>Customer RTXGC</td></tr>",
                            "<tr><td>9</td><td>Customer RTXGC</td></tr>",
                            "<tr><td>9</td><td>Customer RTXGC</td></tr>",
                            "<tr><td>9</td><td>Customer RTXGC</td></tr>",
                            "<tr><td>9</td><td>Customer RTXGC</td></tr>",
                            "<tr><td>9</td><td>Customer RTXGC</td></tr>",
                            "<tr><td>9</td><td>Customer RTXGC</td></tr>",
                            "<tr><td>9</td><td>Customer RTXGC</td></tr>",
                            "<tr><td>9</td><td>Customer RTXGC</td></tr>",
                            "<tr><td>9</td><td>Customer RTXGC</td></tr>",
                            "<tr><td>9</td><td>Customer RTXGC</td></tr>",
                            "<tr><td>9</td><td>Customer RTXGC</td></tr>",
                            "<tr><td>9</td><td>Customer RTXGC</td></tr>",
                            "<tr><td>9</td><td>Customer RTXGC</td></tr>",
                            "<tr><td>9</td><td>Customer RTXGC</td></tr>",
                            "<tr><td>9</td><td>Customer RTXGC</td></tr>",
                            "<tr><td>9</td><td>Customer RTXGC</td></tr>",
                            "<tr><td>10</td><td>Customer EEALV</td></tr>",
                            "<tr><td>10</td><td>Customer EEALV</td></tr>",
                            "<tr><td>10</td><td>Customer EEALV</td></tr>",
                            "<tr><td>10</td><td>Customer EEALV</td></tr>",
                            "<tr><td>10</td><td>Customer EEALV</td></tr>",
                            "<tr><td>10</td><td>Customer EEALV</td></tr>",
                            "<tr><td>10</td><td>Customer EEALV</td></tr>",
                            "<tr><td>10</td><td>Customer EEALV</td></tr>",
                            "<tr><td>10</td><td>Customer EEALV</td></tr>",
                            "<tr><td>10</td><td>Customer EEALV</td></tr>",
                            "<tr><td>10</td><td>Customer EEALV</td></tr>",
                            "<tr><td>10</td><td>Customer EEALV</td></tr>",
                            "<tr><td>10</td><td>Customer EEALV</td></tr>",
                            "<tr><td>10</td><td>Customer EEALV</td></tr>",
                            "<tr><td>11</td><td>Customer UBHAU</td></tr>",
                            "<tr><td>11</td><td>Customer UBHAU</td></tr>",
                            "<tr><td>11</td><td>Customer UBHAU</td></tr>",
                            "<tr><td>11</td><td>Customer UBHAU</td></tr>",
                            "<tr><td>11</td><td>Customer UBHAU</td></tr>",
                            "<tr><td>11</td><td>Customer UBHAU</td></tr>",
                            "<tr><td>11</td><td>Customer UBHAU</td></tr>",
                            "<tr><td>11</td><td>Customer UBHAU</td></tr>",
                            "<tr><td>11</td><td>Customer UBHAU</td></tr>",
                            "<tr><td>11</td><td>Customer UBHAU</td></tr>",
                            "<tr><td>12</td><td>Customer PSNMQ</td></tr>",
                            "<tr><td>12</td><td>Customer PSNMQ</td></tr>",
                            "<tr><td>12</td><td>Customer PSNMQ</td></tr>",
                            "<tr><td>12</td><td>Customer PSNMQ</td></tr>",
                            "<tr><td>12</td><td>Customer PSNMQ</td></tr>",
                            "<tr><td>12</td><td>Customer PSNMQ</td></tr>",
                            "<tr><td>13</td><td>Customer VMLOG</td></tr>",
                            "<tr><td>14</td><td>Customer WNMAF</td></tr>",
                            "<tr><td>14</td><td>Customer WNMAF</td></tr>",
                            "<tr><td>14</td><td>Customer WNMAF</td></tr>",
                            "<tr><td>14</td><td>Customer WNMAF</td></tr>",
                            "<tr><td>14</td><td>Customer WNMAF</td></tr>",
                            "<tr><td>14</td><td>Customer WNMAF</td></tr>",
                            "<tr><td>14</td><td>Customer WNMAF</td></tr>",
                            "<tr><td>14</td><td>Customer WNMAF</td></tr>",
                            "<tr><td>15</td><td>Customer JUWXK</td></tr>",
                            "<tr><td>15</td><td>Customer JUWXK</td></tr>",
                            "<tr><td>15</td><td>Customer JUWXK</td></tr>",
                            "<tr><td>15</td><td>Customer JUWXK</td></tr>",
                            "<tr><td>15</td><td>Customer JUWXK</td></tr>",
                            "<tr><td>16</td><td>Customer GYBBY</td></tr>",
                            "<tr><td>16</td><td>Customer GYBBY</td></tr>",
                            "<tr><td>16</td><td>Customer GYBBY</td></tr>",
                            "<tr><td>17</td><td>Customer FEVNN</td></tr>",
                            "<tr><td>17</td><td>Customer FEVNN</td></tr>",
                            "<tr><td>17</td><td>Customer FEVNN</td></tr>",
                            "<tr><td>17</td><td>Customer FEVNN</td></tr>",
                            "<tr><td>17</td><td>Customer FEVNN</td></tr>",
                            "<tr><td>17</td><td>Customer FEVNN</td></tr>",
                            "<tr><td>18</td><td>Customer BSVAR</td></tr>",
                            "<tr><td>18</td><td>Customer BSVAR</td></tr>",
                            "<tr><td>18</td><td>Customer BSVAR</td></tr>",
                            "<tr><td>18</td><td>Customer BSVAR</td></tr>",
                            "<tr><td>19</td><td>Customer RFNQC</td></tr>",
                            "<tr><td>19</td><td>Customer RFNQC</td></tr>",
                            "<tr><td>19</td><td>Customer RFNQC</td></tr>",
                            "<tr><td>19</td><td>Customer RFNQC</td></tr>",
                            "<tr><td>19</td><td>Customer RFNQC</td></tr>",
                            "<tr><td>19</td><td>Customer RFNQC</td></tr>",
                            "<tr><td>19</td><td>Customer RFNQC</td></tr>",
                            "<tr><td>19</td><td>Customer RFNQC</td></tr>",
                            "<tr><td>20</td><td>Customer THHDP</td></tr>",
                            "<tr><td>20</td><td>Customer THHDP</td></tr>",
                            "<tr><td>20</td><td>Customer THHDP</td></tr>",
                            "<tr><td>20</td><td>Customer THHDP</td></tr>",
                            "<tr><td>20</td><td>Customer THHDP</td></tr>",
                            "<tr><td>20</td><td>Customer THHDP</td></tr>",
                            "<tr><td>20</td><td>Customer THHDP</td></tr>",
                            "<tr><td>20</td><td>Customer THHDP</td></tr>",
                            "<tr><td>20</td><td>Customer THHDP</td></tr>",
                            "<tr><td>20</td><td>Customer THHDP</td></tr>",
                            "<tr><td>20</td><td>Customer THHDP</td></tr>",
                            "<tr><td>20</td><td>Customer THHDP</td></tr>",
                            "<tr><td>20</td><td>Customer THHDP</td></tr>",
                            "<tr><td>20</td><td>Customer THHDP</td></tr>",
                            "<tr><td>20</td><td>Customer THHDP</td></tr>",
                            "<tr><td>20</td><td>Customer THHDP</td></tr>",
                            "<tr><td>20</td><td>Customer THHDP</td></tr>",
                            "<tr><td>20</td><td>Customer THHDP</td></tr>",
                            "<tr><td>20</td><td>Customer THHDP</td></tr>",
                            "<tr><td>20</td><td>Customer THHDP</td></tr>",
                            "<tr><td>20</td><td>Customer THHDP</td></tr>",
                            "<tr><td>20</td><td>Customer THHDP</td></tr>",
                            "<tr><td>20</td><td>Customer THHDP</td></tr>",
                            "<tr><td>20</td><td>Customer THHDP</td></tr>",
                            "<tr><td>20</td><td>Customer THHDP</td></tr>",
                            "<tr><td>20</td><td>Customer THHDP</td></tr>",
                            "<tr><td>20</td><td>Customer THHDP</td></tr>",
                            "<tr><td>20</td><td>Customer THHDP</td></tr>",
                            "<tr><td>20</td><td>Customer THHDP</td></tr>",
                            "<tr><td>20</td><td>Customer THHDP</td></tr>",
                            "<tr><td>21</td><td>Customer KIDPX</td></tr>",
                            "<tr><td>21</td><td>Customer KIDPX</td></tr>",
                            "<tr><td>21</td><td>Customer KIDPX</td></tr>",
                            "<tr><td>21</td><td>Customer KIDPX</td></tr>",
                            "<tr><td>21</td><td>Customer KIDPX</td></tr>",
                            "<tr><td>21</td><td>Customer KIDPX</td></tr>",
                            "<tr><td>21</td><td>Customer KIDPX</td></tr>",
                            "<tr><td>22</td><td>Customer DTDMN</td></tr>",
                            "<tr><td>23</td><td>Customer WVFAF</td></tr>",
                            "<tr><td>23</td><td>Customer WVFAF</td></tr>",
                            "<tr><td>23</td><td>Customer WVFAF</td></tr>",
                            "<tr><td>23</td><td>Customer WVFAF</td></tr>",
                            "<tr><td>23</td><td>Customer WVFAF</td></tr>",
                            "<tr><td>24</td><td>Customer CYZTN</td></tr>",
                            "<tr><td>24</td><td>Customer CYZTN</td></tr>",
                            "<tr><td>24</td><td>Customer CYZTN</td></tr>",
                            "<tr><td>24</td><td>Customer CYZTN</td></tr>",
                            "<tr><td>24</td><td>Customer CYZTN</td></tr>",
                            "<tr><td>24</td><td>Customer CYZTN</td></tr>",
                            "<tr><td>24</td><td>Customer CYZTN</td></tr>",
                            "<tr><td>24</td><td>Customer CYZTN</td></tr>",
                            "<tr><td>24</td><td>Customer CYZTN</td></tr>",
                            "<tr><td>24</td><td>Customer CYZTN</td></tr>",
                            "<tr><td>24</td><td>Customer CYZTN</td></tr>",
                            "<tr><td>24</td><td>Customer CYZTN</td></tr>",
                            "<tr><td>24</td><td>Customer CYZTN</td></tr>",
                            "<tr><td>24</td><td>Customer CYZTN</td></tr>",
                            "<tr><td>24</td><td>Customer CYZTN</td></tr>",
                            "<tr><td>24</td><td>Customer CYZTN</td></tr>",
                            "<tr><td>24</td><td>Customer CYZTN</td></tr>",
                            "<tr><td>24</td><td>Customer CYZTN</td></tr>",
                            "<tr><td>24</td><td>Customer CYZTN</td></tr>",
                            "<tr><td>25</td><td>Customer AZJED</td></tr>",
                            "<tr><td>25</td><td>Customer AZJED</td></tr>",
                            "<tr><td>25</td><td>Customer AZJED</td></tr>",
                            "<tr><td>25</td><td>Customer AZJED</td></tr>",
                            "<tr><td>25</td><td>Customer AZJED</td></tr>",
                            "<tr><td>25</td><td>Customer AZJED</td></tr>",
                            "<tr><td>25</td><td>Customer AZJED</td></tr>",
                            "<tr><td>25</td><td>Customer AZJED</td></tr>",
                            "<tr><td>25</td><td>Customer AZJED</td></tr>",
                            "<tr><td>25</td><td>Customer AZJED</td></tr>",
                            "<tr><td>25</td><td>Customer AZJED</td></tr>",
                            "<tr><td>25</td><td>Customer AZJED</td></tr>",
                            "<tr><td>25</td><td>Customer AZJED</td></tr>",
                            "<tr><td>25</td><td>Customer AZJED</td></tr>",
                            "<tr><td>25</td><td>Customer AZJED</td></tr>",
                            "<tr><td>26</td><td>Customer USDBG</td></tr>",
                            "<tr><td>26</td><td>Customer USDBG</td></tr>",
                            "<tr><td>26</td><td>Customer USDBG</td></tr>",
                            "<tr><td>27</td><td>Customer WMFEA</td></tr>",
                            "<tr><td>27</td><td>Customer WMFEA</td></tr>",
                            "<tr><td>27</td><td>Customer WMFEA</td></tr>",
                            "<tr><td>27</td><td>Customer WMFEA</td></tr>",
                            "<tr><td>27</td><td>Customer WMFEA</td></tr>",
                            "<tr><td>27</td><td>Customer WMFEA</td></tr>",
                            "<tr><td>28</td><td>Customer XYUFB</td></tr>",
                            "<tr><td>28</td><td>Customer XYUFB</td></tr>",
                            "<tr><td>28</td><td>Customer XYUFB</td></tr>",
                            "<tr><td>28</td><td>Customer XYUFB</td></tr>",
                            "<tr><td>28</td><td>Customer XYUFB</td></tr>",
                            "<tr><td>28</td><td>Customer XYUFB</td></tr>",
                            "<tr><td>28</td><td>Customer XYUFB</td></tr>",
                            "<tr><td>28</td><td>Customer XYUFB</td></tr>",
                            "<tr><td>29</td><td>Customer MDLWA</td></tr>",
                            "<tr><td>29</td><td>Customer MDLWA</td></tr>",
                            "<tr><td>29</td><td>Customer MDLWA</td></tr>",
                            "<tr><td>29</td><td>Customer MDLWA</td></tr>",
                            "<tr><td>29</td><td>Customer MDLWA</td></tr>",
                            "<tr><td>30</td><td>Customer KSLQF</td></tr>",
                            "<tr><td>30</td><td>Customer KSLQF</td></tr>",
                            "<tr><td>30</td><td>Customer KSLQF</td></tr>",
                            "<tr><td>30</td><td>Customer KSLQF</td></tr>",
                            "<tr><td>30</td><td>Customer KSLQF</td></tr>",
                            "<tr><td>30</td><td>Customer KSLQF</td></tr>",
                            "<tr><td>30</td><td>Customer KSLQF</td></tr>",
                            "<tr><td>30</td><td>Customer KSLQF</td></tr>",
                            "<tr><td>30</td><td>Customer KSLQF</td></tr>",
                            "<tr><td>30</td><td>Customer KSLQF</td></tr>",
                            "<tr><td>31</td><td>Customer YJCBX</td></tr>",
                            "<tr><td>31</td><td>Customer YJCBX</td></tr>",
                            "<tr><td>31</td><td>Customer YJCBX</td></tr>",
                            "<tr><td>31</td><td>Customer YJCBX</td></tr>",
                            "<tr><td>31</td><td>Customer YJCBX</td></tr>",
                            "<tr><td>31</td><td>Customer YJCBX</td></tr>",
                            "<tr><td>31</td><td>Customer YJCBX</td></tr>",
                            "<tr><td>31</td><td>Customer YJCBX</td></tr>",
                            "<tr><td>31</td><td>Customer YJCBX</td></tr>",
                            "<tr><td>32</td><td>Customer YSIQX</td></tr>",
                            "<tr><td>32</td><td>Customer YSIQX</td></tr>",
                            "<tr><td>32</td><td>Customer YSIQX</td></tr>",
                            "<tr><td>32</td><td>Customer YSIQX</td></tr>",
                            "<tr><td>32</td><td>Customer YSIQX</td></tr>",
                            "<tr><td>32</td><td>Customer YSIQX</td></tr>",
                            "<tr><td>32</td><td>Customer YSIQX</td></tr>",
                            "<tr><td>32</td><td>Customer YSIQX</td></tr>",
                            "<tr><td>32</td><td>Customer YSIQX</td></tr>",
                            "<tr><td>32</td><td>Customer YSIQX</td></tr>",
                            "<tr><td>32</td><td>Customer YSIQX</td></tr>",
                            "<tr><td>33</td><td>Customer FVXPQ</td></tr>",
                            "<tr><td>33</td><td>Customer FVXPQ</td></tr>",
                            "<tr><td>34</td><td>Customer IBVRG</td></tr>",
                            "<tr><td>34</td><td>Customer IBVRG</td></tr>",
                            "<tr><td>34</td><td>Customer IBVRG</td></tr>",
                            "<tr><td>34</td><td>Customer IBVRG</td></tr>",
                            "<tr><td>34</td><td>Customer IBVRG</td></tr>",
                            "<tr><td>34</td><td>Customer IBVRG</td></tr>",
                            "<tr><td>34</td><td>Customer IBVRG</td></tr>",
                            "<tr><td>34</td><td>Customer IBVRG</td></tr>",
                            "<tr><td>34</td><td>Customer IBVRG</td></tr>",
                            "<tr><td>34</td><td>Customer IBVRG</td></tr>",
                            "<tr><td>34</td><td>Customer IBVRG</td></tr>",
                            "<tr><td>34</td><td>Customer IBVRG</td></tr>",
                            "<tr><td>34</td><td>Customer IBVRG</td></tr>",
                            "<tr><td>34</td><td>Customer IBVRG</td></tr>",
                            "<tr><td>35</td><td>Customer UMTLM</td></tr>",
                            "<tr><td>35</td><td>Customer UMTLM</td></tr>",
                            "<tr><td>35</td><td>Customer UMTLM</td></tr>",
                            "<tr><td>35</td><td>Customer UMTLM</td></tr>",
                            "<tr><td>35</td><td>Customer UMTLM</td></tr>",
                            "<tr><td>35</td><td>Customer UMTLM</td></tr>",
                            "<tr><td>35</td><td>Customer UMTLM</td></tr>",
                            "<tr><td>35</td><td>Customer UMTLM</td></tr>",
                            "<tr><td>35</td><td>Customer UMTLM</td></tr>",
                            "<tr><td>35</td><td>Customer UMTLM</td></tr>",
                            "<tr><td>35</td><td>Customer UMTLM</td></tr>",
                            "<tr><td>35</td><td>Customer UMTLM</td></tr>",
                            "<tr><td>35</td><td>Customer UMTLM</td></tr>",
                            "<tr><td>35</td><td>Customer UMTLM</td></tr>",
                            "<tr><td>35</td><td>Customer UMTLM</td></tr>",
                            "<tr><td>35</td><td>Customer UMTLM</td></tr>",
                            "<tr><td>35</td><td>Customer UMTLM</td></tr>",
                            "<tr><td>35</td><td>Customer UMTLM</td></tr>",
                            "<tr><td>36</td><td>Customer LVJSO</td></tr>",
                            "<tr><td>36</td><td>Customer LVJSO</td></tr>",
                            "<tr><td>36</td><td>Customer LVJSO</td></tr>",
                            "<tr><td>36</td><td>Customer LVJSO</td></tr>",
                            "<tr><td>36</td><td>Customer LVJSO</td></tr>",
                            "<tr><td>37</td><td>Customer FRXZL</td></tr>",
                            "<tr><td>37</td><td>Customer FRXZL</td></tr>",
                            "<tr><td>37</td><td>Customer FRXZL</td></tr>",
                            "<tr><td>37</td><td>Customer FRXZL</td></tr>",
                            "<tr><td>37</td><td>Customer FRXZL</td></tr>",
                            "<tr><td>37</td><td>Customer FRXZL</td></tr>",
                            "<tr><td>37</td><td>Customer FRXZL</td></tr>",
                            "<tr><td>37</td><td>Customer FRXZL</td></tr>",
                            "<tr><td>37</td><td>Customer FRXZL</td></tr>",
                            "<tr><td>37</td><td>Customer FRXZL</td></tr>",
                            "<tr><td>37</td><td>Customer FRXZL</td></tr>",
                            "<tr><td>37</td><td>Customer FRXZL</td></tr>",
                            "<tr><td>37</td><td>Customer FRXZL</td></tr>",
                            "<tr><td>37</td><td>Customer FRXZL</td></tr>",
                            "<tr><td>37</td><td>Customer FRXZL</td></tr>",
                            "<tr><td>37</td><td>Customer FRXZL</td></tr>",
                            "<tr><td>37</td><td>Customer FRXZL</td></tr>",
                            "<tr><td>37</td><td>Customer FRXZL</td></tr>",
                            "<tr><td>37</td><td>Customer FRXZL</td></tr>",
                            "<tr><td>38</td><td>Customer LJUCA</td></tr>",
                            "<tr><td>38</td><td>Customer LJUCA</td></tr>",
                            "<tr><td>38</td><td>Customer LJUCA</td></tr>",
                            "<tr><td>38</td><td>Customer LJUCA</td></tr>",
                            "<tr><td>38</td><td>Customer LJUCA</td></tr>",
                            "<tr><td>38</td><td>Customer LJUCA</td></tr>",
                            "<tr><td>38</td><td>Customer LJUCA</td></tr>",
                            "<tr><td>38</td><td>Customer LJUCA</td></tr>",
                            "<tr><td>38</td><td>Customer LJUCA</td></tr>",
                            "<tr><td>38</td><td>Customer LJUCA</td></tr>",
                            "<tr><td>39</td><td>Customer GLLAG</td></tr>",
                            "<tr><td>39</td><td>Customer GLLAG</td></tr>",
                            "<tr><td>39</td><td>Customer GLLAG</td></tr>",
                            "<tr><td>39</td><td>Customer GLLAG</td></tr>",
                            "<tr><td>39</td><td>Customer GLLAG</td></tr>",
                            "<tr><td>39</td><td>Customer GLLAG</td></tr>",
                            "<tr><td>39</td><td>Customer GLLAG</td></tr>",
                            "<tr><td>39</td><td>Customer GLLAG</td></tr>",
                            "<tr><td>39</td><td>Customer GLLAG</td></tr>",
                            "<tr><td>39</td><td>Customer GLLAG</td></tr>",
                            "<tr><td>39</td><td>Customer GLLAG</td></tr>",
                            "<tr><td>39</td><td>Customer GLLAG</td></tr>",
                            "<tr><td>39</td><td>Customer GLLAG</td></tr>",
                            "<tr><td>39</td><td>Customer GLLAG</td></tr>",
                            "<tr><td>40</td><td>Customer EFFTC</td></tr>",
                            "<tr><td>40</td><td>Customer EFFTC</td></tr>",
                            "<tr><td>40</td><td>Customer EFFTC</td></tr>",
                            "<tr><td>40</td><td>Customer EFFTC</td></tr>",
                            "<tr><td>41</td><td>Customer XIIWM</td></tr>",
                            "<tr><td>41</td><td>Customer XIIWM</td></tr>",
                            "<tr><td>41</td><td>Customer XIIWM</td></tr>",
                            "<tr><td>41</td><td>Customer XIIWM</td></tr>",
                            "<tr><td>41</td><td>Customer XIIWM</td></tr>",
                            "<tr><td>41</td><td>Customer XIIWM</td></tr>",
                            "<tr><td>41</td><td>Customer XIIWM</td></tr>",
                            "<tr><td>41</td><td>Customer XIIWM</td></tr>",
                            "<tr><td>41</td><td>Customer XIIWM</td></tr>",
                            "<tr><td>41</td><td>Customer XIIWM</td></tr>",
                            "<tr><td>41</td><td>Customer XIIWM</td></tr>",
                            "<tr><td>41</td><td>Customer XIIWM</td></tr>",
                            "<tr><td>41</td><td>Customer XIIWM</td></tr>",
                            "<tr><td>41</td><td>Customer XIIWM</td></tr>",
                            "<tr><td>42</td><td>Customer IAIJK</td></tr>",
                            "<tr><td>42</td><td>Customer IAIJK</td></tr>",
                            "<tr><td>42</td><td>Customer IAIJK</td></tr>",
                            "<tr><td>43</td><td>Customer UISOJ</td></tr>",
                            "<tr><td>43</td><td>Customer UISOJ</td></tr>",
                            "<tr><td>44</td><td>Customer OXFRU</td></tr>",
                            "<tr><td>44</td><td>Customer OXFRU</td></tr>",
                            "<tr><td>44</td><td>Customer OXFRU</td></tr>",
                            "<tr><td>44</td><td>Customer OXFRU</td></tr>",
                            "<tr><td>44</td><td>Customer OXFRU</td></tr>",
                            "<tr><td>44</td><td>Customer OXFRU</td></tr>",
                            "<tr><td>44</td><td>Customer OXFRU</td></tr>",
                            "<tr><td>44</td><td>Customer OXFRU</td></tr>",
                            "<tr><td>44</td><td>Customer OXFRU</td></tr>",
                            "<tr><td>44</td><td>Customer OXFRU</td></tr>",
                            "<tr><td>44</td><td>Customer OXFRU</td></tr>",
                            "<tr><td>44</td><td>Customer OXFRU</td></tr>",
                            "<tr><td>44</td><td>Customer OXFRU</td></tr>",
                            "<tr><td>44</td><td>Customer OXFRU</td></tr>",
                            "<tr><td>44</td><td>Customer OXFRU</td></tr>",
                            "<tr><td>45</td><td>Customer QXPPT</td></tr>",
                            "<tr><td>45</td><td>Customer QXPPT</td></tr>",
                            "<tr><td>45</td><td>Customer QXPPT</td></tr>",
                            "<tr><td>45</td><td>Customer QXPPT</td></tr>",
                            "<tr><td>46</td><td>Customer XPNIK</td></tr>",
                            "<tr><td>46</td><td>Customer XPNIK</td></tr>",
                            "<tr><td>46</td><td>Customer XPNIK</td></tr>",
                            "<tr><td>46</td><td>Customer XPNIK</td></tr>",
                            "<tr><td>46</td><td>Customer XPNIK</td></tr>",
                            "<tr><td>46</td><td>Customer XPNIK</td></tr>",
                            "<tr><td>46</td><td>Customer XPNIK</td></tr>",
                            "<tr><td>46</td><td>Customer XPNIK</td></tr>",
                            "<tr><td>46</td><td>Customer XPNIK</td></tr>",
                            "<tr><td>46</td><td>Customer XPNIK</td></tr>",
                            "<tr><td>46</td><td>Customer XPNIK</td></tr>",
                            "<tr><td>46</td><td>Customer XPNIK</td></tr>",
                            "<tr><td>46</td><td>Customer XPNIK</td></tr>",
                            "<tr><td>46</td><td>Customer XPNIK</td></tr>",
                            "<tr><td>47</td><td>Customer PSQUZ</td></tr>",
                            "<tr><td>47</td><td>Customer PSQUZ</td></tr>",
                            "<tr><td>47</td><td>Customer PSQUZ</td></tr>",
                            "<tr><td>47</td><td>Customer PSQUZ</td></tr>",
                            "<tr><td>47</td><td>Customer PSQUZ</td></tr>",
                            "<tr><td>47</td><td>Customer PSQUZ</td></tr>",
                            "<tr><td>47</td><td>Customer PSQUZ</td></tr>",
                            "<tr><td>47</td><td>Customer PSQUZ</td></tr>",
                            "<tr><td>47</td><td>Customer PSQUZ</td></tr>",
                            "<tr><td>47</td><td>Customer PSQUZ</td></tr>",
                            "<tr><td>47</td><td>Customer PSQUZ</td></tr>",
                            "<tr><td>47</td><td>Customer PSQUZ</td></tr>",
                            "<tr><td>48</td><td>Customer DVFMB</td></tr>",
                            "<tr><td>48</td><td>Customer DVFMB</td></tr>",
                            "<tr><td>48</td><td>Customer DVFMB</td></tr>",
                            "<tr><td>48</td><td>Customer DVFMB</td></tr>",
                            "<tr><td>48</td><td>Customer DVFMB</td></tr>",
                            "<tr><td>48</td><td>Customer DVFMB</td></tr>",
                            "<tr><td>48</td><td>Customer DVFMB</td></tr>",
                            "<tr><td>48</td><td>Customer DVFMB</td></tr>",
                            "<tr><td>49</td><td>Customer CQRAA</td></tr>",
                            "<tr><td>49</td><td>Customer CQRAA</td></tr>",
                            "<tr><td>49</td><td>Customer CQRAA</td></tr>",
                            "<tr><td>49</td><td>Customer CQRAA</td></tr>",
                            "<tr><td>49</td><td>Customer CQRAA</td></tr>",
                            "<tr><td>49</td><td>Customer CQRAA</td></tr>",
                            "<tr><td>49</td><td>Customer CQRAA</td></tr>",
                            "<tr><td>49</td><td>Customer CQRAA</td></tr>",
                            "<tr><td>49</td><td>Customer CQRAA</td></tr>",
                            "<tr><td>49</td><td>Customer CQRAA</td></tr>",
                            "<tr><td>50</td><td>Customer JYPSC</td></tr>",
                            "<tr><td>50</td><td>Customer JYPSC</td></tr>",
                            "<tr><td>50</td><td>Customer JYPSC</td></tr>",
                            "<tr><td>50</td><td>Customer JYPSC</td></tr>",
                            "<tr><td>50</td><td>Customer JYPSC</td></tr>",
                            "<tr><td>50</td><td>Customer JYPSC</td></tr>",
                            "<tr><td>50</td><td>Customer JYPSC</td></tr>",
                            "<tr><td>51</td><td>Customer PVDZC</td></tr>",
                            "<tr><td>51</td><td>Customer PVDZC</td></tr>",
                            "<tr><td>51</td><td>Customer PVDZC</td></tr>",
                            "<tr><td>51</td><td>Customer PVDZC</td></tr>",
                            "<tr><td>51</td><td>Customer PVDZC</td></tr>",
                            "<tr><td>51</td><td>Customer PVDZC</td></tr>",
                            "<tr><td>51</td><td>Customer PVDZC</td></tr>",
                            "<tr><td>51</td><td>Customer PVDZC</td></tr>",
                            "<tr><td>51</td><td>Customer PVDZC</td></tr>",
                            "<tr><td>51</td><td>Customer PVDZC</td></tr>",
                            "<tr><td>51</td><td>Customer PVDZC</td></tr>",
                            "<tr><td>51</td><td>Customer PVDZC</td></tr>",
                            "<tr><td>51</td><td>Customer PVDZC</td></tr>",
                            "<tr><td>52</td><td>Customer PZNLA</td></tr>",
                            "<tr><td>52</td><td>Customer PZNLA</td></tr>",
                            "<tr><td>52</td><td>Customer PZNLA</td></tr>",
                            "<tr><td>52</td><td>Customer PZNLA</td></tr>",
                            "<tr><td>52</td><td>Customer PZNLA</td></tr>",
                            "<tr><td>53</td><td>Customer GCJSG</td></tr>",
                            "<tr><td>53</td><td>Customer GCJSG</td></tr>",
                            "<tr><td>53</td><td>Customer GCJSG</td></tr>",
                            "<tr><td>54</td><td>Customer TDKEG</td></tr>",
                            "<tr><td>54</td><td>Customer TDKEG</td></tr>",
                            "<tr><td>54</td><td>Customer TDKEG</td></tr>",
                            "<tr><td>54</td><td>Customer TDKEG</td></tr>",
                            "<tr><td>54</td><td>Customer TDKEG</td></tr>",
                            "<tr><td>55</td><td>Customer KZQZT</td></tr>",
                            "<tr><td>55</td><td>Customer KZQZT</td></tr>",
                            "<tr><td>55</td><td>Customer KZQZT</td></tr>",
                            "<tr><td>55</td><td>Customer KZQZT</td></tr>",
                            "<tr><td>55</td><td>Customer KZQZT</td></tr>",
                            "<tr><td>55</td><td>Customer KZQZT</td></tr>",
                            "<tr><td>55</td><td>Customer KZQZT</td></tr>",
                            "<tr><td>55</td><td>Customer KZQZT</td></tr>",
                            "<tr><td>55</td><td>Customer KZQZT</td></tr>",
                            "<tr><td>55</td><td>Customer KZQZT</td></tr>",
                            "<tr><td>56</td><td>Customer QNIVZ</td></tr>",
                            "<tr><td>56</td><td>Customer QNIVZ</td></tr>",
                            "<tr><td>56</td><td>Customer QNIVZ</td></tr>",
                            "<tr><td>56</td><td>Customer QNIVZ</td></tr>",
                            "<tr><td>56</td><td>Customer QNIVZ</td></tr>",
                            "<tr><td>56</td><td>Customer QNIVZ</td></tr>",
                            "<tr><td>56</td><td>Customer QNIVZ</td></tr>",
                            "<tr><td>56</td><td>Customer QNIVZ</td></tr>",
                            "<tr><td>56</td><td>Customer QNIVZ</td></tr>",
                            "<tr><td>56</td><td>Customer QNIVZ</td></tr>",
                            "<tr><td>57</td><td>Customer WVAXS</td></tr>",
                            "<tr><td>58</td><td>Customer AHXHT</td></tr>",
                            "<tr><td>58</td><td>Customer AHXHT</td></tr>",
                            "<tr><td>58</td><td>Customer AHXHT</td></tr>",
                            "<tr><td>58</td><td>Customer AHXHT</td></tr>",
                            "<tr><td>58</td><td>Customer AHXHT</td></tr>",
                            "<tr><td>58</td><td>Customer AHXHT</td></tr>",
                            "<tr><td>59</td><td>Customer LOLJO</td></tr>",
                            "<tr><td>59</td><td>Customer LOLJO</td></tr>",
                            "<tr><td>59</td><td>Customer LOLJO</td></tr>",
                            "<tr><td>59</td><td>Customer LOLJO</td></tr>",
                            "<tr><td>59</td><td>Customer LOLJO</td></tr>",
                            "<tr><td>59</td><td>Customer LOLJO</td></tr>",
                            "<tr><td>59</td><td>Customer LOLJO</td></tr>",
                            "<tr><td>59</td><td>Customer LOLJO</td></tr>",
                            "<tr><td>59</td><td>Customer LOLJO</td></tr>",
                            "<tr><td>59</td><td>Customer LOLJO</td></tr>",
                            "<tr><td>60</td><td>Customer QZURI</td></tr>",
                            "<tr><td>60</td><td>Customer QZURI</td></tr>",
                            "<tr><td>60</td><td>Customer QZURI</td></tr>",
                            "<tr><td>60</td><td>Customer QZURI</td></tr>",
                            "<tr><td>60</td><td>Customer QZURI</td></tr>",
                            "<tr><td>61</td><td>Customer WULWD</td></tr>",
                            "<tr><td>61</td><td>Customer WULWD</td></tr>",
                            "<tr><td>61</td><td>Customer WULWD</td></tr>",
                            "<tr><td>61</td><td>Customer WULWD</td></tr>",
                            "<tr><td>61</td><td>Customer WULWD</td></tr>",
                            "<tr><td>61</td><td>Customer WULWD</td></tr>",
                            "<tr><td>61</td><td>Customer WULWD</td></tr>",
                            "<tr><td>61</td><td>Customer WULWD</td></tr>",
                            "<tr><td>61</td><td>Customer WULWD</td></tr>",
                            "<tr><td>62</td><td>Customer WFIZJ</td></tr>",
                            "<tr><td>62</td><td>Customer WFIZJ</td></tr>",
                            "<tr><td>62</td><td>Customer WFIZJ</td></tr>",
                            "<tr><td>62</td><td>Customer WFIZJ</td></tr>",
                            "<tr><td>62</td><td>Customer WFIZJ</td></tr>",
                            "<tr><td>62</td><td>Customer WFIZJ</td></tr>",
                            "<tr><td>62</td><td>Customer WFIZJ</td></tr>",
                            "<tr><td>62</td><td>Customer WFIZJ</td></tr>",
                            "<tr><td>62</td><td>Customer WFIZJ</td></tr>",
                            "<tr><td>62</td><td>Customer WFIZJ</td></tr>",
                            "<tr><td>62</td><td>Customer WFIZJ</td></tr>",
                            "<tr><td>62</td><td>Customer WFIZJ</td></tr>",
                            "<tr><td>62</td><td>Customer WFIZJ</td></tr>",
                            "<tr><td>63</td><td>Customer IRRVL</td></tr>",
                            "<tr><td>63</td><td>Customer IRRVL</td></tr>",
                            "<tr><td>63</td><td>Customer IRRVL</td></tr>",
                            "<tr><td>63</td><td>Customer IRRVL</td></tr>",
                            "<tr><td>63</td><td>Customer IRRVL</td></tr>",
                            "<tr><td>63</td><td>Customer IRRVL</td></tr>",
                            "<tr><td>63</td><td>Customer IRRVL</td></tr>",
                            "<tr><td>63</td><td>Customer IRRVL</td></tr>",
                            "<tr><td>63</td><td>Customer IRRVL</td></tr>",
                            "<tr><td>63</td><td>Customer IRRVL</td></tr>",
                            "<tr><td>63</td><td>Customer IRRVL</td></tr>",
                            "<tr><td>63</td><td>Customer IRRVL</td></tr>",
                            "<tr><td>63</td><td>Customer IRRVL</td></tr>",
                            "<tr><td>63</td><td>Customer IRRVL</td></tr>",
                            "<tr><td>63</td><td>Customer IRRVL</td></tr>",
                            "<tr><td>63</td><td>Customer IRRVL</td></tr>",
                            "<tr><td>63</td><td>Customer IRRVL</td></tr>",
                            "<tr><td>63</td><td>Customer IRRVL</td></tr>",
                            "<tr><td>63</td><td>Customer IRRVL</td></tr>",
                            "<tr><td>63</td><td>Customer IRRVL</td></tr>",
                            "<tr><td>63</td><td>Customer IRRVL</td></tr>",
                            "<tr><td>63</td><td>Customer IRRVL</td></tr>",
                            "<tr><td>63</td><td>Customer IRRVL</td></tr>",
                            "<tr><td>63</td><td>Customer IRRVL</td></tr>",
                            "<tr><td>63</td><td>Customer IRRVL</td></tr>",
                            "<tr><td>63</td><td>Customer IRRVL</td></tr>",
                            "<tr><td>63</td><td>Customer IRRVL</td></tr>",
                            "<tr><td>63</td><td>Customer IRRVL</td></tr>",
                            "<tr><td>64</td><td>Customer LWGMD</td></tr>",
                            "<tr><td>64</td><td>Customer LWGMD</td></tr>",
                            "<tr><td>64</td><td>Customer LWGMD</td></tr>",
                            "<tr><td>64</td><td>Customer LWGMD</td></tr>",
                            "<tr><td>64</td><td>Customer LWGMD</td></tr>",
                            "<tr><td>65</td><td>Customer NYUHS</td></tr>",
                            "<tr><td>65</td><td>Customer NYUHS</td></tr>",
                            "<tr><td>65</td><td>Customer NYUHS</td></tr>",
                            "<tr><td>65</td><td>Customer NYUHS</td></tr>",
                            "<tr><td>65</td><td>Customer NYUHS</td></tr>",
                            "<tr><td>65</td><td>Customer NYUHS</td></tr>",
                            "<tr><td>65</td><td>Customer NYUHS</td></tr>",
                            "<tr><td>65</td><td>Customer NYUHS</td></tr>",
                            "<tr><td>65</td><td>Customer NYUHS</td></tr>",
                            "<tr><td>65</td><td>Customer NYUHS</td></tr>",
                            "<tr><td>65</td><td>Customer NYUHS</td></tr>",
                            "<tr><td>65</td><td>Customer NYUHS</td></tr>",
                            "<tr><td>65</td><td>Customer NYUHS</td></tr>",
                            "<tr><td>65</td><td>Customer NYUHS</td></tr>",
                            "<tr><td>65</td><td>Customer NYUHS</td></tr>",
                            "<tr><td>65</td><td>Customer NYUHS</td></tr>",
                            "<tr><td>65</td><td>Customer NYUHS</td></tr>",
                            "<tr><td>65</td><td>Customer NYUHS</td></tr>",
                            "<tr><td>66</td><td>Customer LHANT</td></tr>",
                            "<tr><td>66</td><td>Customer LHANT</td></tr>",
                            "<tr><td>66</td><td>Customer LHANT</td></tr>",
                            "<tr><td>66</td><td>Customer LHANT</td></tr>",
                            "<tr><td>66</td><td>Customer LHANT</td></tr>",
                            "<tr><td>66</td><td>Customer LHANT</td></tr>",
                            "<tr><td>66</td><td>Customer LHANT</td></tr>",
                            "<tr><td>66</td><td>Customer LHANT</td></tr>",
                            "<tr><td>66</td><td>Customer LHANT</td></tr>",
                            "<tr><td>66</td><td>Customer LHANT</td></tr>",
                            "<tr><td>66</td><td>Customer LHANT</td></tr>",
                            "<tr><td>66</td><td>Customer LHANT</td></tr>",
                            "<tr><td>67</td><td>Customer QVEPD</td></tr>",
                            "<tr><td>67</td><td>Customer QVEPD</td></tr>",
                            "<tr><td>67</td><td>Customer QVEPD</td></tr>",
                            "<tr><td>67</td><td>Customer QVEPD</td></tr>",
                            "<tr><td>67</td><td>Customer QVEPD</td></tr>",
                            "<tr><td>67</td><td>Customer QVEPD</td></tr>",
                            "<tr><td>67</td><td>Customer QVEPD</td></tr>",
                            "<tr><td>67</td><td>Customer QVEPD</td></tr>",
                            "<tr><td>67</td><td>Customer QVEPD</td></tr>",
                            "<tr><td>67</td><td>Customer QVEPD</td></tr>",
                            "<tr><td>67</td><td>Customer QVEPD</td></tr>",
                            "<tr><td>68</td><td>Customer CCKOT</td></tr>",
                            "<tr><td>68</td><td>Customer CCKOT</td></tr>",
                            "<tr><td>68</td><td>Customer CCKOT</td></tr>",
                            "<tr><td>68</td><td>Customer CCKOT</td></tr>",
                            "<tr><td>68</td><td>Customer CCKOT</td></tr>",
                            "<tr><td>68</td><td>Customer CCKOT</td></tr>",
                            "<tr><td>68</td><td>Customer CCKOT</td></tr>",
                            "<tr><td>68</td><td>Customer CCKOT</td></tr>",
                            "<tr><td>68</td><td>Customer CCKOT</td></tr>",
                            "<tr><td>68</td><td>Customer CCKOT</td></tr>",
                            "<tr><td>69</td><td>Customer SIUIH</td></tr>",
                            "<tr><td>69</td><td>Customer SIUIH</td></tr>",
                            "<tr><td>69</td><td>Customer SIUIH</td></tr>",
                            "<tr><td>69</td><td>Customer SIUIH</td></tr>",
                            "<tr><td>69</td><td>Customer SIUIH</td></tr>",
                            "<tr><td>70</td><td>Customer TMXGN</td></tr>",
                            "<tr><td>70</td><td>Customer TMXGN</td></tr>",
                            "<tr><td>70</td><td>Customer TMXGN</td></tr>",
                            "<tr><td>70</td><td>Customer TMXGN</td></tr>",
                            "<tr><td>70</td><td>Customer TMXGN</td></tr>",
                            "<tr><td>70</td><td>Customer TMXGN</td></tr>",
                            "<tr><td>71</td><td>Customer LCOUJ</td></tr>",
                            "<tr><td>71</td><td>Customer LCOUJ</td></tr>",
                            "<tr><td>71</td><td>Customer LCOUJ</td></tr>",
                            "<tr><td>71</td><td>Customer LCOUJ</td></tr>",
                            "<tr><td>71</td><td>Customer LCOUJ</td></tr>",
                            "<tr><td>71</td><td>Customer LCOUJ</td></tr>",
                            "<tr><td>71</td><td>Customer LCOUJ</td></tr>",
                            "<tr><td>71</td><td>Customer LCOUJ</td></tr>",
                            "<tr><td>71</td><td>Customer LCOUJ</td></tr>",
                            "<tr><td>71</td><td>Customer LCOUJ</td></tr>",
                            "<tr><td>71</td><td>Customer LCOUJ</td></tr>",
                            "<tr><td>71</td><td>Customer LCOUJ</td></tr>",
                            "<tr><td>71</td><td>Customer LCOUJ</td></tr>",
                            "<tr><td>71</td><td>Customer LCOUJ</td></tr>",
                            "<tr><td>71</td><td>Customer LCOUJ</td></tr>",
                            "<tr><td>71</td><td>Customer LCOUJ</td></tr>",
                            "<tr><td>71</td><td>Customer LCOUJ</td></tr>",
                            "<tr><td>71</td><td>Customer LCOUJ</td></tr>",
                            "<tr><td>71</td><td>Customer LCOUJ</td></tr>",
                            "<tr><td>71</td><td>Customer LCOUJ</td></tr>",
                            "<tr><td>71</td><td>Customer LCOUJ</td></tr>",
                            "<tr><td>71</td><td>Customer LCOUJ</td></tr>",
                            "<tr><td>71</td><td>Customer LCOUJ</td></tr>",
                            "<tr><td>71</td><td>Customer LCOUJ</td></tr>",
                            "<tr><td>71</td><td>Customer LCOUJ</td></tr>",
                            "<tr><td>71</td><td>Customer LCOUJ</td></tr>",
                            "<tr><td>71</td><td>Customer LCOUJ</td></tr>",
                            "<tr><td>71</td><td>Customer LCOUJ</td></tr>",
                            "<tr><td>71</td><td>Customer LCOUJ</td></tr>",
                            "<tr><td>71</td><td>Customer LCOUJ</td></tr>",
                            "<tr><td>71</td><td>Customer LCOUJ</td></tr>",
                            "<tr><td>72</td><td>Customer AHPOP</td></tr>",
                            "<tr><td>72</td><td>Customer AHPOP</td></tr>",
                            "<tr><td>72</td><td>Customer AHPOP</td></tr>",
                            "<tr><td>72</td><td>Customer AHPOP</td></tr>",
                            "<tr><td>72</td><td>Customer AHPOP</td></tr>",
                            "<tr><td>72</td><td>Customer AHPOP</td></tr>",
                            "<tr><td>72</td><td>Customer AHPOP</td></tr>",
                            "<tr><td>72</td><td>Customer AHPOP</td></tr>",
                            "<tr><td>72</td><td>Customer AHPOP</td></tr>",
                            "<tr><td>73</td><td>Customer JMIKW</td></tr>",
                            "<tr><td>73</td><td>Customer JMIKW</td></tr>",
                            "<tr><td>73</td><td>Customer JMIKW</td></tr>",
                            "<tr><td>73</td><td>Customer JMIKW</td></tr>",
                            "<tr><td>73</td><td>Customer JMIKW</td></tr>",
                            "<tr><td>73</td><td>Customer JMIKW</td></tr>",
                            "<tr><td>73</td><td>Customer JMIKW</td></tr>",
                            "<tr><td>74</td><td>Customer YSHXL</td></tr>",
                            "<tr><td>74</td><td>Customer YSHXL</td></tr>",
                            "<tr><td>74</td><td>Customer YSHXL</td></tr>",
                            "<tr><td>74</td><td>Customer YSHXL</td></tr>",
                            "<tr><td>75</td><td>Customer XOJYP</td></tr>",
                            "<tr><td>75</td><td>Customer XOJYP</td></tr>",
                            "<tr><td>75</td><td>Customer XOJYP</td></tr>",
                            "<tr><td>75</td><td>Customer XOJYP</td></tr>",
                            "<tr><td>75</td><td>Customer XOJYP</td></tr>",
                            "<tr><td>75</td><td>Customer XOJYP</td></tr>",
                            "<tr><td>75</td><td>Customer XOJYP</td></tr>",
                            "<tr><td>75</td><td>Customer XOJYP</td></tr>",
                            "<tr><td>75</td><td>Customer XOJYP</td></tr>",
                            "<tr><td>76</td><td>Customer SFOGW</td></tr>",
                            "<tr><td>76</td><td>Customer SFOGW</td></tr>",
                            "<tr><td>76</td><td>Customer SFOGW</td></tr>",
                            "<tr><td>76</td><td>Customer SFOGW</td></tr>",
                            "<tr><td>76</td><td>Customer SFOGW</td></tr>",
                            "<tr><td>76</td><td>Customer SFOGW</td></tr>",
                            "<tr><td>76</td><td>Customer SFOGW</td></tr>",
                            "<tr><td>76</td><td>Customer SFOGW</td></tr>",
                            "<tr><td>76</td><td>Customer SFOGW</td></tr>",
                            "<tr><td>76</td><td>Customer SFOGW</td></tr>",
                            "<tr><td>76</td><td>Customer SFOGW</td></tr>",
                            "<tr><td>76</td><td>Customer SFOGW</td></tr>",
                            "<tr><td>77</td><td>Customer LCYBZ</td></tr>",
                            "<tr><td>77</td><td>Customer LCYBZ</td></tr>",
                            "<tr><td>77</td><td>Customer LCYBZ</td></tr>",
                            "<tr><td>77</td><td>Customer LCYBZ</td></tr>",
                            "<tr><td>78</td><td>Customer NLTYP</td></tr>",
                            "<tr><td>78</td><td>Customer NLTYP</td></tr>",
                            "<tr><td>78</td><td>Customer NLTYP</td></tr>",
                            "<tr><td>79</td><td>Customer FAPSM</td></tr>",
                            "<tr><td>79</td><td>Customer FAPSM</td></tr>",
                            "<tr><td>79</td><td>Customer FAPSM</td></tr>",
                            "<tr><td>79</td><td>Customer FAPSM</td></tr>",
                            "<tr><td>79</td><td>Customer FAPSM</td></tr>",
                            "<tr><td>79</td><td>Customer FAPSM</td></tr>",
                            "<tr><td>80</td><td>Customer VONTK</td></tr>",
                            "<tr><td>80</td><td>Customer VONTK</td></tr>",
                            "<tr><td>80</td><td>Customer VONTK</td></tr>",
                            "<tr><td>80</td><td>Customer VONTK</td></tr>",
                            "<tr><td>80</td><td>Customer VONTK</td></tr>",
                            "<tr><td>80</td><td>Customer VONTK</td></tr>",
                            "<tr><td>80</td><td>Customer VONTK</td></tr>",
                            "<tr><td>80</td><td>Customer VONTK</td></tr>",
                            "<tr><td>80</td><td>Customer VONTK</td></tr>",
                            "<tr><td>80</td><td>Customer VONTK</td></tr>",
                            "<tr><td>81</td><td>Customer YQQWW</td></tr>",
                            "<tr><td>81</td><td>Customer YQQWW</td></tr>",
                            "<tr><td>81</td><td>Customer YQQWW</td></tr>",
                            "<tr><td>81</td><td>Customer YQQWW</td></tr>",
                            "<tr><td>81</td><td>Customer YQQWW</td></tr>",
                            "<tr><td>81</td><td>Customer YQQWW</td></tr>",
                            "<tr><td>82</td><td>Customer EYHKM</td></tr>",
                            "<tr><td>82</td><td>Customer EYHKM</td></tr>",
                            "<tr><td>82</td><td>Customer EYHKM</td></tr>",
                            "<tr><td>83</td><td>Customer ZRNDE</td></tr>",
                            "<tr><td>83</td><td>Customer ZRNDE</td></tr>",
                            "<tr><td>83</td><td>Customer ZRNDE</td></tr>",
                            "<tr><td>83</td><td>Customer ZRNDE</td></tr>",
                            "<tr><td>83</td><td>Customer ZRNDE</td></tr>",
                            "<tr><td>83</td><td>Customer ZRNDE</td></tr>",
                            "<tr><td>83</td><td>Customer ZRNDE</td></tr>",
                            "<tr><td>83</td><td>Customer ZRNDE</td></tr>",
                            "<tr><td>83</td><td>Customer ZRNDE</td></tr>",
                            "<tr><td>83</td><td>Customer ZRNDE</td></tr>",
                            "<tr><td>83</td><td>Customer ZRNDE</td></tr>",
                            "<tr><td>84</td><td>Customer NRCSK</td></tr>",
                            "<tr><td>84</td><td>Customer NRCSK</td></tr>",
                            "<tr><td>84</td><td>Customer NRCSK</td></tr>",
                            "<tr><td>84</td><td>Customer NRCSK</td></tr>",
                            "<tr><td>84</td><td>Customer NRCSK</td></tr>",
                            "<tr><td>84</td><td>Customer NRCSK</td></tr>",
                            "<tr><td>84</td><td>Customer NRCSK</td></tr>",
                            "<tr><td>84</td><td>Customer NRCSK</td></tr>",
                            "<tr><td>84</td><td>Customer NRCSK</td></tr>",
                            "<tr><td>84</td><td>Customer NRCSK</td></tr>",
                            "<tr><td>85</td><td>Customer ENQZT</td></tr>",
                            "<tr><td>85</td><td>Customer ENQZT</td></tr>",
                            "<tr><td>85</td><td>Customer ENQZT</td></tr>",
                            "<tr><td>85</td><td>Customer ENQZT</td></tr>",
                            "<tr><td>85</td><td>Customer ENQZT</td></tr>",
                            "<tr><td>86</td><td>Customer SNXOJ</td></tr>",
                            "<tr><td>86</td><td>Customer SNXOJ</td></tr>",
                            "<tr><td>86</td><td>Customer SNXOJ</td></tr>",
                            "<tr><td>86</td><td>Customer SNXOJ</td></tr>",
                            "<tr><td>86</td><td>Customer SNXOJ</td></tr>",
                            "<tr><td>86</td><td>Customer SNXOJ</td></tr>",
                            "<tr><td>86</td><td>Customer SNXOJ</td></tr>",
                            "<tr><td>86</td><td>Customer SNXOJ</td></tr>",
                            "<tr><td>86</td><td>Customer SNXOJ</td></tr>",
                            "<tr><td>86</td><td>Customer SNXOJ</td></tr>",
                            "<tr><td>87</td><td>Customer ZHYOS</td></tr>",
                            "<tr><td>87</td><td>Customer ZHYOS</td></tr>",
                            "<tr><td>87</td><td>Customer ZHYOS</td></tr>",
                            "<tr><td>87</td><td>Customer ZHYOS</td></tr>",
                            "<tr><td>87</td><td>Customer ZHYOS</td></tr>",
                            "<tr><td>87</td><td>Customer ZHYOS</td></tr>",
                            "<tr><td>87</td><td>Customer ZHYOS</td></tr>",
                            "<tr><td>87</td><td>Customer ZHYOS</td></tr>",
                            "<tr><td>87</td><td>Customer ZHYOS</td></tr>",
                            "<tr><td>87</td><td>Customer ZHYOS</td></tr>",
                            "<tr><td>87</td><td>Customer ZHYOS</td></tr>",
                            "<tr><td>87</td><td>Customer ZHYOS</td></tr>",
                            "<tr><td>87</td><td>Customer ZHYOS</td></tr>",
                            "<tr><td>87</td><td>Customer ZHYOS</td></tr>",
                            "<tr><td>87</td><td>Customer ZHYOS</td></tr>",
                            "<tr><td>88</td><td>Customer SRQVM</td></tr>",
                            "<tr><td>88</td><td>Customer SRQVM</td></tr>",
                            "<tr><td>88</td><td>Customer SRQVM</td></tr>",
                            "<tr><td>88</td><td>Customer SRQVM</td></tr>",
                            "<tr><td>88</td><td>Customer SRQVM</td></tr>",
                            "<tr><td>88</td><td>Customer SRQVM</td></tr>",
                            "<tr><td>88</td><td>Customer SRQVM</td></tr>",
                            "<tr><td>88</td><td>Customer SRQVM</td></tr>",
                            "<tr><td>88</td><td>Customer SRQVM</td></tr>",
                            "<tr><td>89</td><td>Customer YBQTI</td></tr>",
                            "<tr><td>89</td><td>Customer YBQTI</td></tr>",
                            "<tr><td>89</td><td>Customer YBQTI</td></tr>",
                            "<tr><td>89</td><td>Customer YBQTI</td></tr>",
                            "<tr><td>89</td><td>Customer YBQTI</td></tr>",
                            "<tr><td>89</td><td>Customer YBQTI</td></tr>",
                            "<tr><td>89</td><td>Customer YBQTI</td></tr>",
                            "<tr><td>89</td><td>Customer YBQTI</td></tr>",
                            "<tr><td>89</td><td>Customer YBQTI</td></tr>",
                            "<tr><td>89</td><td>Customer YBQTI</td></tr>",
                            "<tr><td>89</td><td>Customer YBQTI</td></tr>",
                            "<tr><td>89</td><td>Customer YBQTI</td></tr>",
                            "<tr><td>89</td><td>Customer YBQTI</td></tr>",
                            "<tr><td>89</td><td>Customer YBQTI</td></tr>",
                            "<tr><td>90</td><td>Customer XBBVR</td></tr>",
                            "<tr><td>90</td><td>Customer XBBVR</td></tr>",
                            "<tr><td>90</td><td>Customer XBBVR</td></tr>",
                            "<tr><td>90</td><td>Customer XBBVR</td></tr>",
                            "<tr><td>90</td><td>Customer XBBVR</td></tr>",
                            "<tr><td>90</td><td>Customer XBBVR</td></tr>",
                            "<tr><td>90</td><td>Customer XBBVR</td></tr>",
                            "<tr><td>91</td><td>Customer CCFIZ</td></tr>",
                            "<tr><td>91</td><td>Customer CCFIZ</td></tr>",
                            "<tr><td>91</td><td>Customer CCFIZ</td></tr>",
                            "<tr><td>91</td><td>Customer CCFIZ</td></tr>",
                            "<tr><td>91</td><td>Customer CCFIZ</td></tr>",
                            "<tr><td>91</td><td>Customer CCFIZ</td></tr>",
                            "<tr><td>91</td><td>Customer CCFIZ</td></tr>",
                            "</table>"
                        ]
                    }
                }
            ],
            "execution_count": 12
        },
        {
            "cell_type": "markdown",
            "source": [
                "3.5. Retornar los tres productos más recientemente ordenados por cliente, Utilizando CROSS APPLY"
            ],
            "metadata": {
                "azdata_cell_guid": "ac2aa1c1-8c39-4abd-a40f-91f52d8cc7d3"
            }
        },
        {
            "cell_type": "code",
            "source": [
                "SELECT C.custid, TopOrders.orderid, TopOrders.orderdate\r\n",
                "FROM Sales.Customers AS C\r\n",
                "CROSS APPLY\r\n",
                "(SELECT TOP (3) orderid, orderdate\r\n",
                "\tFROM Sales.Orders AS O\r\n",
                "\tWHERE O.custid = C.custid\r\n",
                "\tORDER BY orderdate DESC, orderid DESC) AS TopOrders;"
            ],
            "metadata": {
                "azdata_cell_guid": "a31e0ddf-3fbf-4a1d-9bb2-a1f54c79e3e9",
                "tags": []
            },
            "outputs": [
                {
                    "output_type": "error",
                    "evalue": "Execution failed due to an unexpected error: \r\n\tA query is already in progress for this editor session. Please cancel this query or wait for its completion.",
                    "ename": "",
                    "traceback": []
                },
                {
                    "output_type": "display_data",
                    "data": {
                        "text/html": "Total execution time: 00:00:00"
                    },
                    "metadata": {}
                },
                {
                    "output_type": "display_data",
                    "data": {
                        "text/html": "Total execution time: 00:00:00"
                    },
                    "metadata": {}
                }
            ],
            "execution_count": 16
        },
        {
            "cell_type": "markdown",
            "source": [
                "3.6. Utilizar OUTER APPLY para incluir a los clientes sin ordenes"
            ],
            "metadata": {
                "azdata_cell_guid": "5e67b701-b563-4cab-99da-fbf0fc3cb030"
            }
        },
        {
            "cell_type": "code",
            "source": [
                "SELECT C.custid, TopOrders.orderid, TopOrders.orderdate\r\n",
                "FROM Sales.Customers AS C\r\n",
                "OUTER APPLY\r\n",
                "(SELECT TOP (3) orderid, orderdate\r\n",
                "\tFROM Sales.Orders AS O\r\n",
                "\tWHERE O.custid = C.custid\r\n",
                "\tORDER BY orderdate DESC, orderid DESC) AS TopOrders; "
            ],
            "metadata": {
                "azdata_cell_guid": "78cded86-42b7-4969-94c6-f80602c5ce4e"
            },
            "outputs": [
                {
                    "output_type": "display_data",
                    "data": {
                        "text/html": "Total execution time: 00:00:00"
                    },
                    "metadata": {}
                }
            ],
            "execution_count": 15
        }
    ]
}