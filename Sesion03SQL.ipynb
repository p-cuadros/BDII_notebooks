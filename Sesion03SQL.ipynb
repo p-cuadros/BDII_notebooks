{
    "metadata": {
        "kernelspec": {
            "name": "SQL",
            "display_name": "SQL",
            "language": "sql"
        },
        "language_info": {
            "name": "sql",
            "version": ""
        }
    },
    "nbformat_minor": 2,
    "nbformat": 4,
    "cells": [
        {
            "cell_type": "markdown",
            "source": [
                "<h1><center>Utilizando Funciones de Agregación, Offset y Window Ranking"
            ],
            "metadata": {
                "azdata_cell_guid": "3ad57c0e-6bd6-421b-b167-b09ade5720a3"
            }
        },
        {
            "cell_type": "markdown",
            "source": [
                "<h2>Parte 01. Creando Ventanas con Over"
            ],
            "metadata": {
                "azdata_cell_guid": "0b5cbace-3a34-4df1-bdb4-cd34bcb53b56"
            }
        },
        {
            "cell_type": "markdown",
            "source": [
                "1.1. Abrir la base de datos TSQL."
            ],
            "metadata": {
                "azdata_cell_guid": "5105eb69-4fad-4e7f-8b41-3cab24fabf1f"
            }
        },
        {
            "cell_type": "code",
            "source": [
                "USE TSQL;\r\n",
                "GO"
            ],
            "metadata": {
                "azdata_cell_guid": "823c41c9-91c7-4539-b2e7-ad6498133abf"
            },
            "outputs": [
                {
                    "output_type": "display_data",
                    "data": {
                        "text/html": "Commands completed successfully."
                    },
                    "metadata": {}
                },
                {
                    "output_type": "display_data",
                    "data": {
                        "text/html": "Total execution time: 00:00:00.151"
                    },
                    "metadata": {}
                }
            ],
            "execution_count": 2
        },
        {
            "cell_type": "markdown",
            "source": [
                "1.2. Para crear una ventana con OVER primero crearemos dos vistas"
            ],
            "metadata": {
                "azdata_cell_guid": "c528955a-0493-4f67-b2fa-0c6363659fb5"
            }
        },
        {
            "cell_type": "code",
            "source": [
                "IF OBJECT_ID('Production.CategorizedProducts','V') IS NOT NULL DROP VIEW Production.CategorizedProducts\r\n",
                "GO\r\n",
                "CREATE VIEW Production.CategorizedProducts\r\n",
                "AS\r\n",
                "    SELECT  Production.Categories.categoryid AS CatID,\r\n",
                "\t\t\tProduction.Categories.categoryname AS CatName,\r\n",
                "            Production.Products.productname AS ProdName,\r\n",
                "            Production.Products.unitprice AS UnitPrice\r\n",
                "    FROM    Production.Categories\r\n",
                "            INNER JOIN Production.Products ON Production.Categories.categoryid=Production.Products.categoryid;\r\n",
                "GO\r\n",
                "IF OBJECT_ID('Sales.CategoryQtyYear','V') IS NOT NULL DROP VIEW Sales.CategoryQtyYear\r\n",
                "GO\r\n",
                "CREATE VIEW Sales.CategoryQtyYear\r\n",
                "AS\r\n",
                "SELECT  c.categoryname AS Category,\r\n",
                "        SUM(od.qty) AS Qty,\r\n",
                "        YEAR(o.orderdate) AS Orderyear\r\n",
                "FROM    Production.Categories AS c\r\n",
                "        INNER JOIN Production.Products AS p ON c.categoryid=p.categoryid\r\n",
                "        INNER JOIN Sales.OrderDetails AS od ON p.productid=od.productid\r\n",
                "        INNER JOIN Sales.Orders AS o ON od.orderid=o.orderid\r\n",
                "GROUP BY c.categoryname, YEAR(o.orderdate);\r\n",
                "GO\r\n",
                ""
            ],
            "metadata": {
                "azdata_cell_guid": "96891f6c-9ec4-4180-a80e-95100bfd8c4e"
            },
            "outputs": [
                {
                    "output_type": "display_data",
                    "data": {
                        "text/html": "Commands completed successfully."
                    },
                    "metadata": {}
                },
                {
                    "output_type": "display_data",
                    "data": {
                        "text/html": "Commands completed successfully."
                    },
                    "metadata": {}
                },
                {
                    "output_type": "display_data",
                    "data": {
                        "text/html": "Commands completed successfully."
                    },
                    "metadata": {}
                },
                {
                    "output_type": "display_data",
                    "data": {
                        "text/html": "Commands completed successfully."
                    },
                    "metadata": {}
                },
                {
                    "output_type": "display_data",
                    "data": {
                        "text/html": "Total execution time: 00:00:00.715"
                    },
                    "metadata": {}
                }
            ],
            "execution_count": 3
        },
        {
            "cell_type": "markdown",
            "source": [
                "1.3. Utilizar OVER con ordering, crear un ranking de productos por precio desde el mas alto al mas bajo."
            ],
            "metadata": {
                "azdata_cell_guid": "b129f90a-7153-497f-bcf5-3cbac50ab4e2"
            }
        },
        {
            "cell_type": "code",
            "source": [
                "SELECT CatID, CatName, ProdName, UnitPrice,\r\n",
                "\tRANK() OVER(ORDER BY UnitPrice DESC) AS PriceRank\r\n",
                "FROM Production.CategorizedProducts\r\n",
                "ORDER BY PriceRank; "
            ],
            "metadata": {
                "azdata_cell_guid": "cd4ac1f4-cccb-4291-99cb-bd9ee4e4cd31"
            },
            "outputs": [
                {
                    "output_type": "display_data",
                    "data": {
                        "text/html": "(77 rows affected)"
                    },
                    "metadata": {}
                },
                {
                    "output_type": "display_data",
                    "data": {
                        "text/html": "Total execution time: 00:00:00.211"
                    },
                    "metadata": {}
                },
                {
                    "output_type": "execute_result",
                    "metadata": {},
                    "execution_count": 4,
                    "data": {
                        "application/vnd.dataresource+json": {
                            "schema": {
                                "fields": [
                                    {
                                        "name": "CatID"
                                    },
                                    {
                                        "name": "CatName"
                                    },
                                    {
                                        "name": "ProdName"
                                    },
                                    {
                                        "name": "UnitPrice"
                                    },
                                    {
                                        "name": "PriceRank"
                                    }
                                ]
                            },
                            "data": [
                                {
                                    "0": "1",
                                    "1": "Beverages",
                                    "2": "Product QDOMO",
                                    "3": "263.5000",
                                    "4": "1"
                                },
                                {
                                    "0": "6",
                                    "1": "Meat/Poultry",
                                    "2": "Product VJXYN",
                                    "3": "123.7900",
                                    "4": "2"
                                },
                                {
                                    "0": "6",
                                    "1": "Meat/Poultry",
                                    "2": "Product AOZBW",
                                    "3": "97.0000",
                                    "4": "3"
                                },
                                {
                                    "0": "3",
                                    "1": "Confections",
                                    "2": "Product QHFFP",
                                    "3": "81.0000",
                                    "4": "4"
                                },
                                {
                                    "0": "8",
                                    "1": "Seafood",
                                    "2": "Product CKEDC",
                                    "3": "62.5000",
                                    "4": "5"
                                },
                                {
                                    "0": "4",
                                    "1": "Dairy Products",
                                    "2": "Product UKXRI",
                                    "3": "55.0000",
                                    "4": "6"
                                },
                                {
                                    "0": "7",
                                    "1": "Produce",
                                    "2": "Product APITJ",
                                    "3": "53.0000",
                                    "4": "7"
                                },
                                {
                                    "0": "3",
                                    "1": "Confections",
                                    "2": "Product WUXYK",
                                    "3": "49.3000",
                                    "4": "8"
                                },
                                {
                                    "0": "1",
                                    "1": "Beverages",
                                    "2": "Product ZZZHR",
                                    "3": "46.0000",
                                    "4": "9"
                                },
                                {
                                    "0": "7",
                                    "1": "Produce",
                                    "2": "Product OFBNT",
                                    "3": "45.6000",
                                    "4": "10"
                                },
                                {
                                    "0": "3",
                                    "1": "Confections",
                                    "2": "Product SMIOH",
                                    "3": "43.9000",
                                    "4": "11"
                                },
                                {
                                    "0": "2",
                                    "1": "Condiments",
                                    "2": "Product ICKNK",
                                    "3": "43.9000",
                                    "4": "11"
                                },
                                {
                                    "0": "2",
                                    "1": "Condiments",
                                    "2": "Product WVJFP",
                                    "3": "40.0000",
                                    "4": "13"
                                },
                                {
                                    "0": "6",
                                    "1": "Meat/Poultry",
                                    "2": "Product BLCAX",
                                    "3": "39.0000",
                                    "4": "14"
                                },
                                {
                                    "0": "4",
                                    "1": "Dairy Products",
                                    "2": "Product OSFNS",
                                    "3": "38.0000",
                                    "4": "15"
                                },
                                {
                                    "0": "5",
                                    "1": "Grains/Cereals",
                                    "2": "Product VKCMF",
                                    "3": "38.0000",
                                    "4": "15"
                                },
                                {
                                    "0": "4",
                                    "1": "Dairy Products",
                                    "2": "Product COAXA",
                                    "3": "36.0000",
                                    "4": "17"
                                },
                                {
                                    "0": "4",
                                    "1": "Dairy Products",
                                    "2": "Product GEEOO",
                                    "3": "34.8000",
                                    "4": "18"
                                },
                                {
                                    "0": "4",
                                    "1": "Dairy Products",
                                    "2": "Product WHBYK",
                                    "3": "34.0000",
                                    "4": "19"
                                },
                                {
                                    "0": "5",
                                    "1": "Grains/Cereals",
                                    "2": "Product HCQDE",
                                    "3": "33.2500",
                                    "4": "20"
                                },
                                {
                                    "0": "6",
                                    "1": "Meat/Poultry",
                                    "2": "Product BKGEA",
                                    "3": "32.8000",
                                    "4": "21"
                                },
                                {
                                    "0": "4",
                                    "1": "Dairy Products",
                                    "2": "Product NUNAW",
                                    "3": "32.0000",
                                    "4": "22"
                                },
                                {
                                    "0": "3",
                                    "1": "Confections",
                                    "2": "Product HLGZA",
                                    "3": "31.2300",
                                    "4": "23"
                                },
                                {
                                    "0": "8",
                                    "1": "Seafood",
                                    "2": "Product YHXGE",
                                    "3": "31.0000",
                                    "4": "24"
                                },
                                {
                                    "0": "7",
                                    "1": "Produce",
                                    "2": "Product HMLNI",
                                    "3": "30.0000",
                                    "4": "25"
                                },
                                {
                                    "0": "2",
                                    "1": "Condiments",
                                    "2": "Product XYZPE",
                                    "3": "28.5000",
                                    "4": "26"
                                },
                                {
                                    "0": "8",
                                    "1": "Seafood",
                                    "2": "Product EVFFA",
                                    "3": "26.0000",
                                    "4": "27"
                                },
                                {
                                    "0": "8",
                                    "1": "Seafood",
                                    "2": "Product LYERX",
                                    "3": "25.8900",
                                    "4": "28"
                                },
                                {
                                    "0": "2",
                                    "1": "Condiments",
                                    "2": "Product VAIIV",
                                    "3": "25.0000",
                                    "4": "29"
                                },
                                {
                                    "0": "6",
                                    "1": "Meat/Poultry",
                                    "2": "Product YYWRT",
                                    "3": "24.0000",
                                    "4": "30"
                                },
                                {
                                    "0": "7",
                                    "1": "Produce",
                                    "2": "Product PWCJB",
                                    "3": "23.2500",
                                    "4": "31"
                                },
                                {
                                    "0": "2",
                                    "1": "Condiments",
                                    "2": "Product KSBRM",
                                    "3": "22.0000",
                                    "4": "32"
                                },
                                {
                                    "0": "4",
                                    "1": "Dairy Products",
                                    "2": "Product MYMOI",
                                    "3": "21.5000",
                                    "4": "33"
                                },
                                {
                                    "0": "2",
                                    "1": "Condiments",
                                    "2": "Product EPEIM",
                                    "3": "21.3500",
                                    "4": "34"
                                },
                                {
                                    "0": "2",
                                    "1": "Condiments",
                                    "2": "Product XYWBZ",
                                    "3": "21.0500",
                                    "4": "35"
                                },
                                {
                                    "0": "4",
                                    "1": "Dairy Products",
                                    "2": "Product QMVUN",
                                    "3": "21.0000",
                                    "4": "36"
                                },
                                {
                                    "0": "5",
                                    "1": "Grains/Cereals",
                                    "2": "Product CPHFY",
                                    "3": "21.0000",
                                    "4": "36"
                                },
                                {
                                    "0": "3",
                                    "1": "Confections",
                                    "2": "Product FPYPN",
                                    "3": "20.0000",
                                    "4": "38"
                                },
                                {
                                    "0": "5",
                                    "1": "Grains/Cereals",
                                    "2": "Product OVLQI",
                                    "3": "19.5000",
                                    "4": "39"
                                },
                                {
                                    "0": "2",
                                    "1": "Condiments",
                                    "2": "Product VJIEO",
                                    "3": "19.4500",
                                    "4": "40"
                                },
                                {
                                    "0": "8",
                                    "1": "Seafood",
                                    "2": "Product GMKIJ",
                                    "3": "19.0000",
                                    "4": "41"
                                },
                                {
                                    "0": "1",
                                    "1": "Beverages",
                                    "2": "Product RECZE",
                                    "3": "19.0000",
                                    "4": "41"
                                },
                                {
                                    "0": "8",
                                    "1": "Seafood",
                                    "2": "Product YZIXQ",
                                    "3": "18.4000",
                                    "4": "43"
                                },
                                {
                                    "0": "1",
                                    "1": "Beverages",
                                    "2": "Product LSOFL",
                                    "3": "18.0000",
                                    "4": "44"
                                },
                                {
                                    "0": "1",
                                    "1": "Beverages",
                                    "2": "Product HHYDP",
                                    "3": "18.0000",
                                    "4": "44"
                                },
                                {
                                    "0": "1",
                                    "1": "Beverages",
                                    "2": "Product NEVTJ",
                                    "3": "18.0000",
                                    "4": "44"
                                },
                                {
                                    "0": "1",
                                    "1": "Beverages",
                                    "2": "Product JYGFE",
                                    "3": "18.0000",
                                    "4": "44"
                                },
                                {
                                    "0": "3",
                                    "1": "Confections",
                                    "2": "Product PAFRH",
                                    "3": "17.4500",
                                    "4": "48"
                                },
                                {
                                    "0": "2",
                                    "1": "Condiments",
                                    "2": "Product LQMGN",
                                    "3": "17.0000",
                                    "4": "49"
                                },
                                {
                                    "0": "3",
                                    "1": "Confections",
                                    "2": "Product BIUDV",
                                    "3": "16.2500",
                                    "4": "50"
                                },
                                {
                                    "0": "2",
                                    "1": "Condiments",
                                    "2": "Product KSZOI",
                                    "3": "15.5000",
                                    "4": "51"
                                },
                                {
                                    "0": "1",
                                    "1": "Beverages",
                                    "2": "Product TOONT",
                                    "3": "15.0000",
                                    "4": "52"
                                },
                                {
                                    "0": "8",
                                    "1": "Seafood",
                                    "2": "Product WEUJZ",
                                    "3": "15.0000",
                                    "4": "52"
                                },
                                {
                                    "0": "1",
                                    "1": "Beverages",
                                    "2": "Product XLXQF",
                                    "3": "14.0000",
                                    "4": "54"
                                },
                                {
                                    "0": "5",
                                    "1": "Grains/Cereals",
                                    "2": "Product RJVNM",
                                    "3": "14.0000",
                                    "4": "54"
                                },
                                {
                                    "0": "1",
                                    "1": "Beverages",
                                    "2": "Product SWNJY",
                                    "3": "14.0000",
                                    "4": "54"
                                },
                                {
                                    "0": "3",
                                    "1": "Confections",
                                    "2": "Product LYLNI",
                                    "3": "14.0000",
                                    "4": "54"
                                },
                                {
                                    "0": "8",
                                    "1": "Seafood",
                                    "2": "Product ACRVI",
                                    "3": "13.2500",
                                    "4": "58"
                                },
                                {
                                    "0": "2",
                                    "1": "Condiments",
                                    "2": "Product LUNZZ",
                                    "3": "13.0000",
                                    "4": "59"
                                },
                                {
                                    "0": "3",
                                    "1": "Confections",
                                    "2": "Product MYNXN",
                                    "3": "12.7500",
                                    "4": "60"
                                },
                                {
                                    "0": "3",
                                    "1": "Confections",
                                    "2": "Product TBTBL",
                                    "3": "12.5000",
                                    "4": "61"
                                },
                                {
                                    "0": "4",
                                    "1": "Dairy Products",
                                    "2": "Product XWOXC",
                                    "3": "12.5000",
                                    "4": "61"
                                },
                                {
                                    "0": "8",
                                    "1": "Seafood",
                                    "2": "Product CBRRL",
                                    "3": "12.0000",
                                    "4": "63"
                                },
                                {
                                    "0": "7",
                                    "1": "Produce",
                                    "2": "Product BKAZJ",
                                    "3": "10.0000",
                                    "4": "64"
                                },
                                {
                                    "0": "3",
                                    "1": "Confections",
                                    "2": "Product VJZZH",
                                    "3": "10.0000",
                                    "4": "64"
                                },
                                {
                                    "0": "2",
                                    "1": "Condiments",
                                    "2": "Product IMEHJ",
                                    "3": "10.0000",
                                    "4": "64"
                                },
                                {
                                    "0": "8",
                                    "1": "Seafood",
                                    "2": "Product TTEEX",
                                    "3": "9.6500",
                                    "4": "67"
                                },
                                {
                                    "0": "8",
                                    "1": "Seafood",
                                    "2": "Product AQOKR",
                                    "3": "9.5000",
                                    "4": "68"
                                },
                                {
                                    "0": "3",
                                    "1": "Confections",
                                    "2": "Product EZZPR",
                                    "3": "9.5000",
                                    "4": "68"
                                },
                                {
                                    "0": "3",
                                    "1": "Confections",
                                    "2": "Product XKXDO",
                                    "3": "9.2000",
                                    "4": "70"
                                },
                                {
                                    "0": "5",
                                    "1": "Grains/Cereals",
                                    "2": "Product JLUDZ",
                                    "3": "9.0000",
                                    "4": "71"
                                },
                                {
                                    "0": "1",
                                    "1": "Beverages",
                                    "2": "Product BWRLG",
                                    "3": "7.7500",
                                    "4": "72"
                                },
                                {
                                    "0": "6",
                                    "1": "Meat/Poultry",
                                    "2": "Product QAQRL",
                                    "3": "7.4500",
                                    "4": "73"
                                },
                                {
                                    "0": "5",
                                    "1": "Grains/Cereals",
                                    "2": "Product QSRXF",
                                    "3": "7.0000",
                                    "4": "74"
                                },
                                {
                                    "0": "8",
                                    "1": "Seafood",
                                    "2": "Product POXFU",
                                    "3": "6.0000",
                                    "4": "75"
                                },
                                {
                                    "0": "1",
                                    "1": "Beverages",
                                    "2": "Product QOGNU",
                                    "3": "4.5000",
                                    "4": "76"
                                },
                                {
                                    "0": "4",
                                    "1": "Dairy Products",
                                    "2": "Product ASTMN",
                                    "3": "2.5000",
                                    "4": "77"
                                }
                            ]
                        },
                        "text/html": [
                            "<table>",
                            "<tr><th>CatID</th><th>CatName</th><th>ProdName</th><th>UnitPrice</th><th>PriceRank</th></tr>",
                            "<tr><td>1</td><td>Beverages</td><td>Product QDOMO</td><td>263.5000</td><td>1</td></tr>",
                            "<tr><td>6</td><td>Meat/Poultry</td><td>Product VJXYN</td><td>123.7900</td><td>2</td></tr>",
                            "<tr><td>6</td><td>Meat/Poultry</td><td>Product AOZBW</td><td>97.0000</td><td>3</td></tr>",
                            "<tr><td>3</td><td>Confections</td><td>Product QHFFP</td><td>81.0000</td><td>4</td></tr>",
                            "<tr><td>8</td><td>Seafood</td><td>Product CKEDC</td><td>62.5000</td><td>5</td></tr>",
                            "<tr><td>4</td><td>Dairy Products</td><td>Product UKXRI</td><td>55.0000</td><td>6</td></tr>",
                            "<tr><td>7</td><td>Produce</td><td>Product APITJ</td><td>53.0000</td><td>7</td></tr>",
                            "<tr><td>3</td><td>Confections</td><td>Product WUXYK</td><td>49.3000</td><td>8</td></tr>",
                            "<tr><td>1</td><td>Beverages</td><td>Product ZZZHR</td><td>46.0000</td><td>9</td></tr>",
                            "<tr><td>7</td><td>Produce</td><td>Product OFBNT</td><td>45.6000</td><td>10</td></tr>",
                            "<tr><td>3</td><td>Confections</td><td>Product SMIOH</td><td>43.9000</td><td>11</td></tr>",
                            "<tr><td>2</td><td>Condiments</td><td>Product ICKNK</td><td>43.9000</td><td>11</td></tr>",
                            "<tr><td>2</td><td>Condiments</td><td>Product WVJFP</td><td>40.0000</td><td>13</td></tr>",
                            "<tr><td>6</td><td>Meat/Poultry</td><td>Product BLCAX</td><td>39.0000</td><td>14</td></tr>",
                            "<tr><td>4</td><td>Dairy Products</td><td>Product OSFNS</td><td>38.0000</td><td>15</td></tr>",
                            "<tr><td>5</td><td>Grains/Cereals</td><td>Product VKCMF</td><td>38.0000</td><td>15</td></tr>",
                            "<tr><td>4</td><td>Dairy Products</td><td>Product COAXA</td><td>36.0000</td><td>17</td></tr>",
                            "<tr><td>4</td><td>Dairy Products</td><td>Product GEEOO</td><td>34.8000</td><td>18</td></tr>",
                            "<tr><td>4</td><td>Dairy Products</td><td>Product WHBYK</td><td>34.0000</td><td>19</td></tr>",
                            "<tr><td>5</td><td>Grains/Cereals</td><td>Product HCQDE</td><td>33.2500</td><td>20</td></tr>",
                            "<tr><td>6</td><td>Meat/Poultry</td><td>Product BKGEA</td><td>32.8000</td><td>21</td></tr>",
                            "<tr><td>4</td><td>Dairy Products</td><td>Product NUNAW</td><td>32.0000</td><td>22</td></tr>",
                            "<tr><td>3</td><td>Confections</td><td>Product HLGZA</td><td>31.2300</td><td>23</td></tr>",
                            "<tr><td>8</td><td>Seafood</td><td>Product YHXGE</td><td>31.0000</td><td>24</td></tr>",
                            "<tr><td>7</td><td>Produce</td><td>Product HMLNI</td><td>30.0000</td><td>25</td></tr>",
                            "<tr><td>2</td><td>Condiments</td><td>Product XYZPE</td><td>28.5000</td><td>26</td></tr>",
                            "<tr><td>8</td><td>Seafood</td><td>Product EVFFA</td><td>26.0000</td><td>27</td></tr>",
                            "<tr><td>8</td><td>Seafood</td><td>Product LYERX</td><td>25.8900</td><td>28</td></tr>",
                            "<tr><td>2</td><td>Condiments</td><td>Product VAIIV</td><td>25.0000</td><td>29</td></tr>",
                            "<tr><td>6</td><td>Meat/Poultry</td><td>Product YYWRT</td><td>24.0000</td><td>30</td></tr>",
                            "<tr><td>7</td><td>Produce</td><td>Product PWCJB</td><td>23.2500</td><td>31</td></tr>",
                            "<tr><td>2</td><td>Condiments</td><td>Product KSBRM</td><td>22.0000</td><td>32</td></tr>",
                            "<tr><td>4</td><td>Dairy Products</td><td>Product MYMOI</td><td>21.5000</td><td>33</td></tr>",
                            "<tr><td>2</td><td>Condiments</td><td>Product EPEIM</td><td>21.3500</td><td>34</td></tr>",
                            "<tr><td>2</td><td>Condiments</td><td>Product XYWBZ</td><td>21.0500</td><td>35</td></tr>",
                            "<tr><td>4</td><td>Dairy Products</td><td>Product QMVUN</td><td>21.0000</td><td>36</td></tr>",
                            "<tr><td>5</td><td>Grains/Cereals</td><td>Product CPHFY</td><td>21.0000</td><td>36</td></tr>",
                            "<tr><td>3</td><td>Confections</td><td>Product FPYPN</td><td>20.0000</td><td>38</td></tr>",
                            "<tr><td>5</td><td>Grains/Cereals</td><td>Product OVLQI</td><td>19.5000</td><td>39</td></tr>",
                            "<tr><td>2</td><td>Condiments</td><td>Product VJIEO</td><td>19.4500</td><td>40</td></tr>",
                            "<tr><td>8</td><td>Seafood</td><td>Product GMKIJ</td><td>19.0000</td><td>41</td></tr>",
                            "<tr><td>1</td><td>Beverages</td><td>Product RECZE</td><td>19.0000</td><td>41</td></tr>",
                            "<tr><td>8</td><td>Seafood</td><td>Product YZIXQ</td><td>18.4000</td><td>43</td></tr>",
                            "<tr><td>1</td><td>Beverages</td><td>Product LSOFL</td><td>18.0000</td><td>44</td></tr>",
                            "<tr><td>1</td><td>Beverages</td><td>Product HHYDP</td><td>18.0000</td><td>44</td></tr>",
                            "<tr><td>1</td><td>Beverages</td><td>Product NEVTJ</td><td>18.0000</td><td>44</td></tr>",
                            "<tr><td>1</td><td>Beverages</td><td>Product JYGFE</td><td>18.0000</td><td>44</td></tr>",
                            "<tr><td>3</td><td>Confections</td><td>Product PAFRH</td><td>17.4500</td><td>48</td></tr>",
                            "<tr><td>2</td><td>Condiments</td><td>Product LQMGN</td><td>17.0000</td><td>49</td></tr>",
                            "<tr><td>3</td><td>Confections</td><td>Product BIUDV</td><td>16.2500</td><td>50</td></tr>",
                            "<tr><td>2</td><td>Condiments</td><td>Product KSZOI</td><td>15.5000</td><td>51</td></tr>",
                            "<tr><td>1</td><td>Beverages</td><td>Product TOONT</td><td>15.0000</td><td>52</td></tr>",
                            "<tr><td>8</td><td>Seafood</td><td>Product WEUJZ</td><td>15.0000</td><td>52</td></tr>",
                            "<tr><td>1</td><td>Beverages</td><td>Product XLXQF</td><td>14.0000</td><td>54</td></tr>",
                            "<tr><td>5</td><td>Grains/Cereals</td><td>Product RJVNM</td><td>14.0000</td><td>54</td></tr>",
                            "<tr><td>1</td><td>Beverages</td><td>Product SWNJY</td><td>14.0000</td><td>54</td></tr>",
                            "<tr><td>3</td><td>Confections</td><td>Product LYLNI</td><td>14.0000</td><td>54</td></tr>",
                            "<tr><td>8</td><td>Seafood</td><td>Product ACRVI</td><td>13.2500</td><td>58</td></tr>",
                            "<tr><td>2</td><td>Condiments</td><td>Product LUNZZ</td><td>13.0000</td><td>59</td></tr>",
                            "<tr><td>3</td><td>Confections</td><td>Product MYNXN</td><td>12.7500</td><td>60</td></tr>",
                            "<tr><td>3</td><td>Confections</td><td>Product TBTBL</td><td>12.5000</td><td>61</td></tr>",
                            "<tr><td>4</td><td>Dairy Products</td><td>Product XWOXC</td><td>12.5000</td><td>61</td></tr>",
                            "<tr><td>8</td><td>Seafood</td><td>Product CBRRL</td><td>12.0000</td><td>63</td></tr>",
                            "<tr><td>7</td><td>Produce</td><td>Product BKAZJ</td><td>10.0000</td><td>64</td></tr>",
                            "<tr><td>3</td><td>Confections</td><td>Product VJZZH</td><td>10.0000</td><td>64</td></tr>",
                            "<tr><td>2</td><td>Condiments</td><td>Product IMEHJ</td><td>10.0000</td><td>64</td></tr>",
                            "<tr><td>8</td><td>Seafood</td><td>Product TTEEX</td><td>9.6500</td><td>67</td></tr>",
                            "<tr><td>8</td><td>Seafood</td><td>Product AQOKR</td><td>9.5000</td><td>68</td></tr>",
                            "<tr><td>3</td><td>Confections</td><td>Product EZZPR</td><td>9.5000</td><td>68</td></tr>",
                            "<tr><td>3</td><td>Confections</td><td>Product XKXDO</td><td>9.2000</td><td>70</td></tr>",
                            "<tr><td>5</td><td>Grains/Cereals</td><td>Product JLUDZ</td><td>9.0000</td><td>71</td></tr>",
                            "<tr><td>1</td><td>Beverages</td><td>Product BWRLG</td><td>7.7500</td><td>72</td></tr>",
                            "<tr><td>6</td><td>Meat/Poultry</td><td>Product QAQRL</td><td>7.4500</td><td>73</td></tr>",
                            "<tr><td>5</td><td>Grains/Cereals</td><td>Product QSRXF</td><td>7.0000</td><td>74</td></tr>",
                            "<tr><td>8</td><td>Seafood</td><td>Product POXFU</td><td>6.0000</td><td>75</td></tr>",
                            "<tr><td>1</td><td>Beverages</td><td>Product QOGNU</td><td>4.5000</td><td>76</td></tr>",
                            "<tr><td>4</td><td>Dairy Products</td><td>Product ASTMN</td><td>2.5000</td><td>77</td></tr>",
                            "</table>"
                        ]
                    }
                }
            ],
            "execution_count": 4
        },
        {
            "cell_type": "markdown",
            "source": [
                "1.4. Crear un ranking de productos por precio en orden descendente por cada categoría. (Ojo con los lazos)"
            ],
            "metadata": {
                "azdata_cell_guid": "f56510c6-bcc9-4e30-b0b4-4a7dc9ec634b"
            }
        },
        {
            "cell_type": "code",
            "source": [
                "SELECT CatID, CatName, ProdName, UnitPrice,\r\n",
                "\tRANK() OVER(PARTITION BY CatID ORDER BY UnitPrice DESC) AS PriceRank\r\n",
                "FROM Production.CategorizedProducts\r\n",
                "ORDER BY CatID; "
            ],
            "metadata": {
                "azdata_cell_guid": "f61e86c3-6ad0-4bc5-81cb-bed13122ee0b"
            },
            "outputs": [
                {
                    "output_type": "display_data",
                    "data": {
                        "text/html": "(77 rows affected)"
                    },
                    "metadata": {}
                },
                {
                    "output_type": "display_data",
                    "data": {
                        "text/html": "Total execution time: 00:00:00.216"
                    },
                    "metadata": {}
                },
                {
                    "output_type": "execute_result",
                    "metadata": {},
                    "execution_count": 5,
                    "data": {
                        "application/vnd.dataresource+json": {
                            "schema": {
                                "fields": [
                                    {
                                        "name": "CatID"
                                    },
                                    {
                                        "name": "CatName"
                                    },
                                    {
                                        "name": "ProdName"
                                    },
                                    {
                                        "name": "UnitPrice"
                                    },
                                    {
                                        "name": "PriceRank"
                                    }
                                ]
                            },
                            "data": [
                                {
                                    "0": "1",
                                    "1": "Beverages",
                                    "2": "Product QDOMO",
                                    "3": "263.5000",
                                    "4": "1"
                                },
                                {
                                    "0": "1",
                                    "1": "Beverages",
                                    "2": "Product ZZZHR",
                                    "3": "46.0000",
                                    "4": "2"
                                },
                                {
                                    "0": "1",
                                    "1": "Beverages",
                                    "2": "Product RECZE",
                                    "3": "19.0000",
                                    "4": "3"
                                },
                                {
                                    "0": "1",
                                    "1": "Beverages",
                                    "2": "Product HHYDP",
                                    "3": "18.0000",
                                    "4": "4"
                                },
                                {
                                    "0": "1",
                                    "1": "Beverages",
                                    "2": "Product LSOFL",
                                    "3": "18.0000",
                                    "4": "4"
                                },
                                {
                                    "0": "1",
                                    "1": "Beverages",
                                    "2": "Product NEVTJ",
                                    "3": "18.0000",
                                    "4": "4"
                                },
                                {
                                    "0": "1",
                                    "1": "Beverages",
                                    "2": "Product JYGFE",
                                    "3": "18.0000",
                                    "4": "4"
                                },
                                {
                                    "0": "1",
                                    "1": "Beverages",
                                    "2": "Product TOONT",
                                    "3": "15.0000",
                                    "4": "8"
                                },
                                {
                                    "0": "1",
                                    "1": "Beverages",
                                    "2": "Product XLXQF",
                                    "3": "14.0000",
                                    "4": "9"
                                },
                                {
                                    "0": "1",
                                    "1": "Beverages",
                                    "2": "Product SWNJY",
                                    "3": "14.0000",
                                    "4": "9"
                                },
                                {
                                    "0": "1",
                                    "1": "Beverages",
                                    "2": "Product BWRLG",
                                    "3": "7.7500",
                                    "4": "11"
                                },
                                {
                                    "0": "1",
                                    "1": "Beverages",
                                    "2": "Product QOGNU",
                                    "3": "4.5000",
                                    "4": "12"
                                },
                                {
                                    "0": "2",
                                    "1": "Condiments",
                                    "2": "Product ICKNK",
                                    "3": "43.9000",
                                    "4": "1"
                                },
                                {
                                    "0": "2",
                                    "1": "Condiments",
                                    "2": "Product WVJFP",
                                    "3": "40.0000",
                                    "4": "2"
                                },
                                {
                                    "0": "2",
                                    "1": "Condiments",
                                    "2": "Product XYZPE",
                                    "3": "28.5000",
                                    "4": "3"
                                },
                                {
                                    "0": "2",
                                    "1": "Condiments",
                                    "2": "Product VAIIV",
                                    "3": "25.0000",
                                    "4": "4"
                                },
                                {
                                    "0": "2",
                                    "1": "Condiments",
                                    "2": "Product KSBRM",
                                    "3": "22.0000",
                                    "4": "5"
                                },
                                {
                                    "0": "2",
                                    "1": "Condiments",
                                    "2": "Product EPEIM",
                                    "3": "21.3500",
                                    "4": "6"
                                },
                                {
                                    "0": "2",
                                    "1": "Condiments",
                                    "2": "Product XYWBZ",
                                    "3": "21.0500",
                                    "4": "7"
                                },
                                {
                                    "0": "2",
                                    "1": "Condiments",
                                    "2": "Product VJIEO",
                                    "3": "19.4500",
                                    "4": "8"
                                },
                                {
                                    "0": "2",
                                    "1": "Condiments",
                                    "2": "Product LQMGN",
                                    "3": "17.0000",
                                    "4": "9"
                                },
                                {
                                    "0": "2",
                                    "1": "Condiments",
                                    "2": "Product KSZOI",
                                    "3": "15.5000",
                                    "4": "10"
                                },
                                {
                                    "0": "2",
                                    "1": "Condiments",
                                    "2": "Product LUNZZ",
                                    "3": "13.0000",
                                    "4": "11"
                                },
                                {
                                    "0": "2",
                                    "1": "Condiments",
                                    "2": "Product IMEHJ",
                                    "3": "10.0000",
                                    "4": "12"
                                },
                                {
                                    "0": "3",
                                    "1": "Confections",
                                    "2": "Product QHFFP",
                                    "3": "81.0000",
                                    "4": "1"
                                },
                                {
                                    "0": "3",
                                    "1": "Confections",
                                    "2": "Product WUXYK",
                                    "3": "49.3000",
                                    "4": "2"
                                },
                                {
                                    "0": "3",
                                    "1": "Confections",
                                    "2": "Product SMIOH",
                                    "3": "43.9000",
                                    "4": "3"
                                },
                                {
                                    "0": "3",
                                    "1": "Confections",
                                    "2": "Product HLGZA",
                                    "3": "31.2300",
                                    "4": "4"
                                },
                                {
                                    "0": "3",
                                    "1": "Confections",
                                    "2": "Product FPYPN",
                                    "3": "20.0000",
                                    "4": "5"
                                },
                                {
                                    "0": "3",
                                    "1": "Confections",
                                    "2": "Product PAFRH",
                                    "3": "17.4500",
                                    "4": "6"
                                },
                                {
                                    "0": "3",
                                    "1": "Confections",
                                    "2": "Product BIUDV",
                                    "3": "16.2500",
                                    "4": "7"
                                },
                                {
                                    "0": "3",
                                    "1": "Confections",
                                    "2": "Product LYLNI",
                                    "3": "14.0000",
                                    "4": "8"
                                },
                                {
                                    "0": "3",
                                    "1": "Confections",
                                    "2": "Product MYNXN",
                                    "3": "12.7500",
                                    "4": "9"
                                },
                                {
                                    "0": "3",
                                    "1": "Confections",
                                    "2": "Product TBTBL",
                                    "3": "12.5000",
                                    "4": "10"
                                },
                                {
                                    "0": "3",
                                    "1": "Confections",
                                    "2": "Product VJZZH",
                                    "3": "10.0000",
                                    "4": "11"
                                },
                                {
                                    "0": "3",
                                    "1": "Confections",
                                    "2": "Product EZZPR",
                                    "3": "9.5000",
                                    "4": "12"
                                },
                                {
                                    "0": "3",
                                    "1": "Confections",
                                    "2": "Product XKXDO",
                                    "3": "9.2000",
                                    "4": "13"
                                },
                                {
                                    "0": "4",
                                    "1": "Dairy Products",
                                    "2": "Product UKXRI",
                                    "3": "55.0000",
                                    "4": "1"
                                },
                                {
                                    "0": "4",
                                    "1": "Dairy Products",
                                    "2": "Product OSFNS",
                                    "3": "38.0000",
                                    "4": "2"
                                },
                                {
                                    "0": "4",
                                    "1": "Dairy Products",
                                    "2": "Product COAXA",
                                    "3": "36.0000",
                                    "4": "3"
                                },
                                {
                                    "0": "4",
                                    "1": "Dairy Products",
                                    "2": "Product GEEOO",
                                    "3": "34.8000",
                                    "4": "4"
                                },
                                {
                                    "0": "4",
                                    "1": "Dairy Products",
                                    "2": "Product WHBYK",
                                    "3": "34.0000",
                                    "4": "5"
                                },
                                {
                                    "0": "4",
                                    "1": "Dairy Products",
                                    "2": "Product NUNAW",
                                    "3": "32.0000",
                                    "4": "6"
                                },
                                {
                                    "0": "4",
                                    "1": "Dairy Products",
                                    "2": "Product MYMOI",
                                    "3": "21.5000",
                                    "4": "7"
                                },
                                {
                                    "0": "4",
                                    "1": "Dairy Products",
                                    "2": "Product QMVUN",
                                    "3": "21.0000",
                                    "4": "8"
                                },
                                {
                                    "0": "4",
                                    "1": "Dairy Products",
                                    "2": "Product XWOXC",
                                    "3": "12.5000",
                                    "4": "9"
                                },
                                {
                                    "0": "4",
                                    "1": "Dairy Products",
                                    "2": "Product ASTMN",
                                    "3": "2.5000",
                                    "4": "10"
                                },
                                {
                                    "0": "5",
                                    "1": "Grains/Cereals",
                                    "2": "Product VKCMF",
                                    "3": "38.0000",
                                    "4": "1"
                                },
                                {
                                    "0": "5",
                                    "1": "Grains/Cereals",
                                    "2": "Product HCQDE",
                                    "3": "33.2500",
                                    "4": "2"
                                },
                                {
                                    "0": "5",
                                    "1": "Grains/Cereals",
                                    "2": "Product CPHFY",
                                    "3": "21.0000",
                                    "4": "3"
                                },
                                {
                                    "0": "5",
                                    "1": "Grains/Cereals",
                                    "2": "Product OVLQI",
                                    "3": "19.5000",
                                    "4": "4"
                                },
                                {
                                    "0": "5",
                                    "1": "Grains/Cereals",
                                    "2": "Product RJVNM",
                                    "3": "14.0000",
                                    "4": "5"
                                },
                                {
                                    "0": "5",
                                    "1": "Grains/Cereals",
                                    "2": "Product JLUDZ",
                                    "3": "9.0000",
                                    "4": "6"
                                },
                                {
                                    "0": "5",
                                    "1": "Grains/Cereals",
                                    "2": "Product QSRXF",
                                    "3": "7.0000",
                                    "4": "7"
                                },
                                {
                                    "0": "6",
                                    "1": "Meat/Poultry",
                                    "2": "Product VJXYN",
                                    "3": "123.7900",
                                    "4": "1"
                                },
                                {
                                    "0": "6",
                                    "1": "Meat/Poultry",
                                    "2": "Product AOZBW",
                                    "3": "97.0000",
                                    "4": "2"
                                },
                                {
                                    "0": "6",
                                    "1": "Meat/Poultry",
                                    "2": "Product BLCAX",
                                    "3": "39.0000",
                                    "4": "3"
                                },
                                {
                                    "0": "6",
                                    "1": "Meat/Poultry",
                                    "2": "Product BKGEA",
                                    "3": "32.8000",
                                    "4": "4"
                                },
                                {
                                    "0": "6",
                                    "1": "Meat/Poultry",
                                    "2": "Product YYWRT",
                                    "3": "24.0000",
                                    "4": "5"
                                },
                                {
                                    "0": "6",
                                    "1": "Meat/Poultry",
                                    "2": "Product QAQRL",
                                    "3": "7.4500",
                                    "4": "6"
                                },
                                {
                                    "0": "7",
                                    "1": "Produce",
                                    "2": "Product APITJ",
                                    "3": "53.0000",
                                    "4": "1"
                                },
                                {
                                    "0": "7",
                                    "1": "Produce",
                                    "2": "Product OFBNT",
                                    "3": "45.6000",
                                    "4": "2"
                                },
                                {
                                    "0": "7",
                                    "1": "Produce",
                                    "2": "Product HMLNI",
                                    "3": "30.0000",
                                    "4": "3"
                                },
                                {
                                    "0": "7",
                                    "1": "Produce",
                                    "2": "Product PWCJB",
                                    "3": "23.2500",
                                    "4": "4"
                                },
                                {
                                    "0": "7",
                                    "1": "Produce",
                                    "2": "Product BKAZJ",
                                    "3": "10.0000",
                                    "4": "5"
                                },
                                {
                                    "0": "8",
                                    "1": "Seafood",
                                    "2": "Product CKEDC",
                                    "3": "62.5000",
                                    "4": "1"
                                },
                                {
                                    "0": "8",
                                    "1": "Seafood",
                                    "2": "Product YHXGE",
                                    "3": "31.0000",
                                    "4": "2"
                                },
                                {
                                    "0": "8",
                                    "1": "Seafood",
                                    "2": "Product EVFFA",
                                    "3": "26.0000",
                                    "4": "3"
                                },
                                {
                                    "0": "8",
                                    "1": "Seafood",
                                    "2": "Product LYERX",
                                    "3": "25.8900",
                                    "4": "4"
                                },
                                {
                                    "0": "8",
                                    "1": "Seafood",
                                    "2": "Product GMKIJ",
                                    "3": "19.0000",
                                    "4": "5"
                                },
                                {
                                    "0": "8",
                                    "1": "Seafood",
                                    "2": "Product YZIXQ",
                                    "3": "18.4000",
                                    "4": "6"
                                },
                                {
                                    "0": "8",
                                    "1": "Seafood",
                                    "2": "Product WEUJZ",
                                    "3": "15.0000",
                                    "4": "7"
                                },
                                {
                                    "0": "8",
                                    "1": "Seafood",
                                    "2": "Product ACRVI",
                                    "3": "13.2500",
                                    "4": "8"
                                },
                                {
                                    "0": "8",
                                    "1": "Seafood",
                                    "2": "Product CBRRL",
                                    "3": "12.0000",
                                    "4": "9"
                                },
                                {
                                    "0": "8",
                                    "1": "Seafood",
                                    "2": "Product TTEEX",
                                    "3": "9.6500",
                                    "4": "10"
                                },
                                {
                                    "0": "8",
                                    "1": "Seafood",
                                    "2": "Product AQOKR",
                                    "3": "9.5000",
                                    "4": "11"
                                },
                                {
                                    "0": "8",
                                    "1": "Seafood",
                                    "2": "Product POXFU",
                                    "3": "6.0000",
                                    "4": "12"
                                }
                            ]
                        },
                        "text/html": [
                            "<table>",
                            "<tr><th>CatID</th><th>CatName</th><th>ProdName</th><th>UnitPrice</th><th>PriceRank</th></tr>",
                            "<tr><td>1</td><td>Beverages</td><td>Product QDOMO</td><td>263.5000</td><td>1</td></tr>",
                            "<tr><td>1</td><td>Beverages</td><td>Product ZZZHR</td><td>46.0000</td><td>2</td></tr>",
                            "<tr><td>1</td><td>Beverages</td><td>Product RECZE</td><td>19.0000</td><td>3</td></tr>",
                            "<tr><td>1</td><td>Beverages</td><td>Product HHYDP</td><td>18.0000</td><td>4</td></tr>",
                            "<tr><td>1</td><td>Beverages</td><td>Product LSOFL</td><td>18.0000</td><td>4</td></tr>",
                            "<tr><td>1</td><td>Beverages</td><td>Product NEVTJ</td><td>18.0000</td><td>4</td></tr>",
                            "<tr><td>1</td><td>Beverages</td><td>Product JYGFE</td><td>18.0000</td><td>4</td></tr>",
                            "<tr><td>1</td><td>Beverages</td><td>Product TOONT</td><td>15.0000</td><td>8</td></tr>",
                            "<tr><td>1</td><td>Beverages</td><td>Product XLXQF</td><td>14.0000</td><td>9</td></tr>",
                            "<tr><td>1</td><td>Beverages</td><td>Product SWNJY</td><td>14.0000</td><td>9</td></tr>",
                            "<tr><td>1</td><td>Beverages</td><td>Product BWRLG</td><td>7.7500</td><td>11</td></tr>",
                            "<tr><td>1</td><td>Beverages</td><td>Product QOGNU</td><td>4.5000</td><td>12</td></tr>",
                            "<tr><td>2</td><td>Condiments</td><td>Product ICKNK</td><td>43.9000</td><td>1</td></tr>",
                            "<tr><td>2</td><td>Condiments</td><td>Product WVJFP</td><td>40.0000</td><td>2</td></tr>",
                            "<tr><td>2</td><td>Condiments</td><td>Product XYZPE</td><td>28.5000</td><td>3</td></tr>",
                            "<tr><td>2</td><td>Condiments</td><td>Product VAIIV</td><td>25.0000</td><td>4</td></tr>",
                            "<tr><td>2</td><td>Condiments</td><td>Product KSBRM</td><td>22.0000</td><td>5</td></tr>",
                            "<tr><td>2</td><td>Condiments</td><td>Product EPEIM</td><td>21.3500</td><td>6</td></tr>",
                            "<tr><td>2</td><td>Condiments</td><td>Product XYWBZ</td><td>21.0500</td><td>7</td></tr>",
                            "<tr><td>2</td><td>Condiments</td><td>Product VJIEO</td><td>19.4500</td><td>8</td></tr>",
                            "<tr><td>2</td><td>Condiments</td><td>Product LQMGN</td><td>17.0000</td><td>9</td></tr>",
                            "<tr><td>2</td><td>Condiments</td><td>Product KSZOI</td><td>15.5000</td><td>10</td></tr>",
                            "<tr><td>2</td><td>Condiments</td><td>Product LUNZZ</td><td>13.0000</td><td>11</td></tr>",
                            "<tr><td>2</td><td>Condiments</td><td>Product IMEHJ</td><td>10.0000</td><td>12</td></tr>",
                            "<tr><td>3</td><td>Confections</td><td>Product QHFFP</td><td>81.0000</td><td>1</td></tr>",
                            "<tr><td>3</td><td>Confections</td><td>Product WUXYK</td><td>49.3000</td><td>2</td></tr>",
                            "<tr><td>3</td><td>Confections</td><td>Product SMIOH</td><td>43.9000</td><td>3</td></tr>",
                            "<tr><td>3</td><td>Confections</td><td>Product HLGZA</td><td>31.2300</td><td>4</td></tr>",
                            "<tr><td>3</td><td>Confections</td><td>Product FPYPN</td><td>20.0000</td><td>5</td></tr>",
                            "<tr><td>3</td><td>Confections</td><td>Product PAFRH</td><td>17.4500</td><td>6</td></tr>",
                            "<tr><td>3</td><td>Confections</td><td>Product BIUDV</td><td>16.2500</td><td>7</td></tr>",
                            "<tr><td>3</td><td>Confections</td><td>Product LYLNI</td><td>14.0000</td><td>8</td></tr>",
                            "<tr><td>3</td><td>Confections</td><td>Product MYNXN</td><td>12.7500</td><td>9</td></tr>",
                            "<tr><td>3</td><td>Confections</td><td>Product TBTBL</td><td>12.5000</td><td>10</td></tr>",
                            "<tr><td>3</td><td>Confections</td><td>Product VJZZH</td><td>10.0000</td><td>11</td></tr>",
                            "<tr><td>3</td><td>Confections</td><td>Product EZZPR</td><td>9.5000</td><td>12</td></tr>",
                            "<tr><td>3</td><td>Confections</td><td>Product XKXDO</td><td>9.2000</td><td>13</td></tr>",
                            "<tr><td>4</td><td>Dairy Products</td><td>Product UKXRI</td><td>55.0000</td><td>1</td></tr>",
                            "<tr><td>4</td><td>Dairy Products</td><td>Product OSFNS</td><td>38.0000</td><td>2</td></tr>",
                            "<tr><td>4</td><td>Dairy Products</td><td>Product COAXA</td><td>36.0000</td><td>3</td></tr>",
                            "<tr><td>4</td><td>Dairy Products</td><td>Product GEEOO</td><td>34.8000</td><td>4</td></tr>",
                            "<tr><td>4</td><td>Dairy Products</td><td>Product WHBYK</td><td>34.0000</td><td>5</td></tr>",
                            "<tr><td>4</td><td>Dairy Products</td><td>Product NUNAW</td><td>32.0000</td><td>6</td></tr>",
                            "<tr><td>4</td><td>Dairy Products</td><td>Product MYMOI</td><td>21.5000</td><td>7</td></tr>",
                            "<tr><td>4</td><td>Dairy Products</td><td>Product QMVUN</td><td>21.0000</td><td>8</td></tr>",
                            "<tr><td>4</td><td>Dairy Products</td><td>Product XWOXC</td><td>12.5000</td><td>9</td></tr>",
                            "<tr><td>4</td><td>Dairy Products</td><td>Product ASTMN</td><td>2.5000</td><td>10</td></tr>",
                            "<tr><td>5</td><td>Grains/Cereals</td><td>Product VKCMF</td><td>38.0000</td><td>1</td></tr>",
                            "<tr><td>5</td><td>Grains/Cereals</td><td>Product HCQDE</td><td>33.2500</td><td>2</td></tr>",
                            "<tr><td>5</td><td>Grains/Cereals</td><td>Product CPHFY</td><td>21.0000</td><td>3</td></tr>",
                            "<tr><td>5</td><td>Grains/Cereals</td><td>Product OVLQI</td><td>19.5000</td><td>4</td></tr>",
                            "<tr><td>5</td><td>Grains/Cereals</td><td>Product RJVNM</td><td>14.0000</td><td>5</td></tr>",
                            "<tr><td>5</td><td>Grains/Cereals</td><td>Product JLUDZ</td><td>9.0000</td><td>6</td></tr>",
                            "<tr><td>5</td><td>Grains/Cereals</td><td>Product QSRXF</td><td>7.0000</td><td>7</td></tr>",
                            "<tr><td>6</td><td>Meat/Poultry</td><td>Product VJXYN</td><td>123.7900</td><td>1</td></tr>",
                            "<tr><td>6</td><td>Meat/Poultry</td><td>Product AOZBW</td><td>97.0000</td><td>2</td></tr>",
                            "<tr><td>6</td><td>Meat/Poultry</td><td>Product BLCAX</td><td>39.0000</td><td>3</td></tr>",
                            "<tr><td>6</td><td>Meat/Poultry</td><td>Product BKGEA</td><td>32.8000</td><td>4</td></tr>",
                            "<tr><td>6</td><td>Meat/Poultry</td><td>Product YYWRT</td><td>24.0000</td><td>5</td></tr>",
                            "<tr><td>6</td><td>Meat/Poultry</td><td>Product QAQRL</td><td>7.4500</td><td>6</td></tr>",
                            "<tr><td>7</td><td>Produce</td><td>Product APITJ</td><td>53.0000</td><td>1</td></tr>",
                            "<tr><td>7</td><td>Produce</td><td>Product OFBNT</td><td>45.6000</td><td>2</td></tr>",
                            "<tr><td>7</td><td>Produce</td><td>Product HMLNI</td><td>30.0000</td><td>3</td></tr>",
                            "<tr><td>7</td><td>Produce</td><td>Product PWCJB</td><td>23.2500</td><td>4</td></tr>",
                            "<tr><td>7</td><td>Produce</td><td>Product BKAZJ</td><td>10.0000</td><td>5</td></tr>",
                            "<tr><td>8</td><td>Seafood</td><td>Product CKEDC</td><td>62.5000</td><td>1</td></tr>",
                            "<tr><td>8</td><td>Seafood</td><td>Product YHXGE</td><td>31.0000</td><td>2</td></tr>",
                            "<tr><td>8</td><td>Seafood</td><td>Product EVFFA</td><td>26.0000</td><td>3</td></tr>",
                            "<tr><td>8</td><td>Seafood</td><td>Product LYERX</td><td>25.8900</td><td>4</td></tr>",
                            "<tr><td>8</td><td>Seafood</td><td>Product GMKIJ</td><td>19.0000</td><td>5</td></tr>",
                            "<tr><td>8</td><td>Seafood</td><td>Product YZIXQ</td><td>18.4000</td><td>6</td></tr>",
                            "<tr><td>8</td><td>Seafood</td><td>Product WEUJZ</td><td>15.0000</td><td>7</td></tr>",
                            "<tr><td>8</td><td>Seafood</td><td>Product ACRVI</td><td>13.2500</td><td>8</td></tr>",
                            "<tr><td>8</td><td>Seafood</td><td>Product CBRRL</td><td>12.0000</td><td>9</td></tr>",
                            "<tr><td>8</td><td>Seafood</td><td>Product TTEEX</td><td>9.6500</td><td>10</td></tr>",
                            "<tr><td>8</td><td>Seafood</td><td>Product AQOKR</td><td>9.5000</td><td>11</td></tr>",
                            "<tr><td>8</td><td>Seafood</td><td>Product POXFU</td><td>6.0000</td><td>12</td></tr>",
                            "</table>"
                        ]
                    }
                }
            ],
            "execution_count": 5
        },
        {
            "cell_type": "markdown",
            "source": [
                "1.5. Usar el encuadre para crear el total acumulado. Se muestra un total acumulado de cantidad por categoría de producto. Esto utiliza el encuadre para establecer límites al principio del conjunto y la fila actual, para cada partición."
            ],
            "metadata": {
                "azdata_cell_guid": "527c9e42-2c6f-47fc-b3da-c8c68d561aef"
            }
        },
        {
            "cell_type": "code",
            "source": [
                "SELECT Category, Qty, Orderyear,\r\n",
                "\tSUM(Qty) OVER (\r\n",
                "\t\tPARTITION BY category\r\n",
                "\t\tORDER BY orderyear\r\n",
                "\t\tROWS BETWEEN UNBOUNDED PRECEDING\r\n",
                "\t\tAND CURRENT ROW) AS RunningQty\r\n",
                "FROM Sales.CategoryQtyYear;"
            ],
            "metadata": {
                "azdata_cell_guid": "bc4b1115-6d54-427d-821e-7ad7e2a4b70a"
            },
            "outputs": [
                {
                    "output_type": "display_data",
                    "data": {
                        "text/html": "(24 rows affected)"
                    },
                    "metadata": {}
                },
                {
                    "output_type": "display_data",
                    "data": {
                        "text/html": "Total execution time: 00:00:00.248"
                    },
                    "metadata": {}
                },
                {
                    "output_type": "execute_result",
                    "metadata": {},
                    "execution_count": 6,
                    "data": {
                        "application/vnd.dataresource+json": {
                            "schema": {
                                "fields": [
                                    {
                                        "name": "Category"
                                    },
                                    {
                                        "name": "Qty"
                                    },
                                    {
                                        "name": "Orderyear"
                                    },
                                    {
                                        "name": "RunningQty"
                                    }
                                ]
                            },
                            "data": [
                                {
                                    "0": "Beverages",
                                    "1": "1842",
                                    "2": "2006",
                                    "3": "1842"
                                },
                                {
                                    "0": "Beverages",
                                    "1": "3996",
                                    "2": "2007",
                                    "3": "5838"
                                },
                                {
                                    "0": "Beverages",
                                    "1": "3694",
                                    "2": "2008",
                                    "3": "9532"
                                },
                                {
                                    "0": "Condiments",
                                    "1": "962",
                                    "2": "2006",
                                    "3": "962"
                                },
                                {
                                    "0": "Condiments",
                                    "1": "2895",
                                    "2": "2007",
                                    "3": "3857"
                                },
                                {
                                    "0": "Condiments",
                                    "1": "1441",
                                    "2": "2008",
                                    "3": "5298"
                                },
                                {
                                    "0": "Confections",
                                    "1": "1357",
                                    "2": "2006",
                                    "3": "1357"
                                },
                                {
                                    "0": "Confections",
                                    "1": "4137",
                                    "2": "2007",
                                    "3": "5494"
                                },
                                {
                                    "0": "Confections",
                                    "1": "2412",
                                    "2": "2008",
                                    "3": "7906"
                                },
                                {
                                    "0": "Dairy Products",
                                    "1": "2086",
                                    "2": "2006",
                                    "3": "2086"
                                },
                                {
                                    "0": "Dairy Products",
                                    "1": "4374",
                                    "2": "2007",
                                    "3": "6460"
                                },
                                {
                                    "0": "Dairy Products",
                                    "1": "2689",
                                    "2": "2008",
                                    "3": "9149"
                                },
                                {
                                    "0": "Grains/Cereals",
                                    "1": "549",
                                    "2": "2006",
                                    "3": "549"
                                },
                                {
                                    "0": "Grains/Cereals",
                                    "1": "2636",
                                    "2": "2007",
                                    "3": "3185"
                                },
                                {
                                    "0": "Grains/Cereals",
                                    "1": "1377",
                                    "2": "2008",
                                    "3": "4562"
                                },
                                {
                                    "0": "Meat/Poultry",
                                    "1": "950",
                                    "2": "2006",
                                    "3": "950"
                                },
                                {
                                    "0": "Meat/Poultry",
                                    "1": "2189",
                                    "2": "2007",
                                    "3": "3139"
                                },
                                {
                                    "0": "Meat/Poultry",
                                    "1": "1060",
                                    "2": "2008",
                                    "3": "4199"
                                },
                                {
                                    "0": "Produce",
                                    "1": "549",
                                    "2": "2006",
                                    "3": "549"
                                },
                                {
                                    "0": "Produce",
                                    "1": "1583",
                                    "2": "2007",
                                    "3": "2132"
                                },
                                {
                                    "0": "Produce",
                                    "1": "858",
                                    "2": "2008",
                                    "3": "2990"
                                },
                                {
                                    "0": "Seafood",
                                    "1": "1286",
                                    "2": "2006",
                                    "3": "1286"
                                },
                                {
                                    "0": "Seafood",
                                    "1": "3679",
                                    "2": "2007",
                                    "3": "4965"
                                },
                                {
                                    "0": "Seafood",
                                    "1": "2716",
                                    "2": "2008",
                                    "3": "7681"
                                }
                            ]
                        },
                        "text/html": [
                            "<table>",
                            "<tr><th>Category</th><th>Qty</th><th>Orderyear</th><th>RunningQty</th></tr>",
                            "<tr><td>Beverages</td><td>1842</td><td>2006</td><td>1842</td></tr>",
                            "<tr><td>Beverages</td><td>3996</td><td>2007</td><td>5838</td></tr>",
                            "<tr><td>Beverages</td><td>3694</td><td>2008</td><td>9532</td></tr>",
                            "<tr><td>Condiments</td><td>962</td><td>2006</td><td>962</td></tr>",
                            "<tr><td>Condiments</td><td>2895</td><td>2007</td><td>3857</td></tr>",
                            "<tr><td>Condiments</td><td>1441</td><td>2008</td><td>5298</td></tr>",
                            "<tr><td>Confections</td><td>1357</td><td>2006</td><td>1357</td></tr>",
                            "<tr><td>Confections</td><td>4137</td><td>2007</td><td>5494</td></tr>",
                            "<tr><td>Confections</td><td>2412</td><td>2008</td><td>7906</td></tr>",
                            "<tr><td>Dairy Products</td><td>2086</td><td>2006</td><td>2086</td></tr>",
                            "<tr><td>Dairy Products</td><td>4374</td><td>2007</td><td>6460</td></tr>",
                            "<tr><td>Dairy Products</td><td>2689</td><td>2008</td><td>9149</td></tr>",
                            "<tr><td>Grains/Cereals</td><td>549</td><td>2006</td><td>549</td></tr>",
                            "<tr><td>Grains/Cereals</td><td>2636</td><td>2007</td><td>3185</td></tr>",
                            "<tr><td>Grains/Cereals</td><td>1377</td><td>2008</td><td>4562</td></tr>",
                            "<tr><td>Meat/Poultry</td><td>950</td><td>2006</td><td>950</td></tr>",
                            "<tr><td>Meat/Poultry</td><td>2189</td><td>2007</td><td>3139</td></tr>",
                            "<tr><td>Meat/Poultry</td><td>1060</td><td>2008</td><td>4199</td></tr>",
                            "<tr><td>Produce</td><td>549</td><td>2006</td><td>549</td></tr>",
                            "<tr><td>Produce</td><td>1583</td><td>2007</td><td>2132</td></tr>",
                            "<tr><td>Produce</td><td>858</td><td>2008</td><td>2990</td></tr>",
                            "<tr><td>Seafood</td><td>1286</td><td>2006</td><td>1286</td></tr>",
                            "<tr><td>Seafood</td><td>3679</td><td>2007</td><td>4965</td></tr>",
                            "<tr><td>Seafood</td><td>2716</td><td>2008</td><td>7681</td></tr>",
                            "</table>"
                        ]
                    }
                }
            ],
            "execution_count": 6
        },
        {
            "cell_type": "markdown",
            "source": [
                "1.6. Mostrar un total acumulado de cantidad por año."
            ],
            "metadata": {
                "azdata_cell_guid": "225e1179-9086-4495-bea8-432e3fbfd841"
            }
        },
        {
            "cell_type": "code",
            "source": [
                "SELECT Category, Qty, Orderyear,\r\n",
                "\tSUM(Qty) OVER (\r\n",
                "\t\tPARTITION BY orderyear\r\n",
                "\t\tORDER BY Category\r\n",
                "\t\tROWS BETWEEN UNBOUNDED PRECEDING\r\n",
                "\t\tAND CURRENT ROW) AS RunningQty\r\n",
                "FROM Sales.CategoryQtyYear;"
            ],
            "metadata": {
                "azdata_cell_guid": "bcc4223e-d418-4b9a-bb90-62adfddfcde8"
            },
            "outputs": [
                {
                    "output_type": "display_data",
                    "data": {
                        "text/html": "(24 rows affected)"
                    },
                    "metadata": {}
                },
                {
                    "output_type": "display_data",
                    "data": {
                        "text/html": "Total execution time: 00:00:00.229"
                    },
                    "metadata": {}
                },
                {
                    "output_type": "execute_result",
                    "metadata": {},
                    "execution_count": 7,
                    "data": {
                        "application/vnd.dataresource+json": {
                            "schema": {
                                "fields": [
                                    {
                                        "name": "Category"
                                    },
                                    {
                                        "name": "Qty"
                                    },
                                    {
                                        "name": "Orderyear"
                                    },
                                    {
                                        "name": "RunningQty"
                                    }
                                ]
                            },
                            "data": [
                                {
                                    "0": "Beverages",
                                    "1": "1842",
                                    "2": "2006",
                                    "3": "1842"
                                },
                                {
                                    "0": "Condiments",
                                    "1": "962",
                                    "2": "2006",
                                    "3": "2804"
                                },
                                {
                                    "0": "Confections",
                                    "1": "1357",
                                    "2": "2006",
                                    "3": "4161"
                                },
                                {
                                    "0": "Dairy Products",
                                    "1": "2086",
                                    "2": "2006",
                                    "3": "6247"
                                },
                                {
                                    "0": "Grains/Cereals",
                                    "1": "549",
                                    "2": "2006",
                                    "3": "6796"
                                },
                                {
                                    "0": "Meat/Poultry",
                                    "1": "950",
                                    "2": "2006",
                                    "3": "7746"
                                },
                                {
                                    "0": "Produce",
                                    "1": "549",
                                    "2": "2006",
                                    "3": "8295"
                                },
                                {
                                    "0": "Seafood",
                                    "1": "1286",
                                    "2": "2006",
                                    "3": "9581"
                                },
                                {
                                    "0": "Beverages",
                                    "1": "3996",
                                    "2": "2007",
                                    "3": "3996"
                                },
                                {
                                    "0": "Condiments",
                                    "1": "2895",
                                    "2": "2007",
                                    "3": "6891"
                                },
                                {
                                    "0": "Confections",
                                    "1": "4137",
                                    "2": "2007",
                                    "3": "11028"
                                },
                                {
                                    "0": "Dairy Products",
                                    "1": "4374",
                                    "2": "2007",
                                    "3": "15402"
                                },
                                {
                                    "0": "Grains/Cereals",
                                    "1": "2636",
                                    "2": "2007",
                                    "3": "18038"
                                },
                                {
                                    "0": "Meat/Poultry",
                                    "1": "2189",
                                    "2": "2007",
                                    "3": "20227"
                                },
                                {
                                    "0": "Produce",
                                    "1": "1583",
                                    "2": "2007",
                                    "3": "21810"
                                },
                                {
                                    "0": "Seafood",
                                    "1": "3679",
                                    "2": "2007",
                                    "3": "25489"
                                },
                                {
                                    "0": "Beverages",
                                    "1": "3694",
                                    "2": "2008",
                                    "3": "3694"
                                },
                                {
                                    "0": "Condiments",
                                    "1": "1441",
                                    "2": "2008",
                                    "3": "5135"
                                },
                                {
                                    "0": "Confections",
                                    "1": "2412",
                                    "2": "2008",
                                    "3": "7547"
                                },
                                {
                                    "0": "Dairy Products",
                                    "1": "2689",
                                    "2": "2008",
                                    "3": "10236"
                                },
                                {
                                    "0": "Grains/Cereals",
                                    "1": "1377",
                                    "2": "2008",
                                    "3": "11613"
                                },
                                {
                                    "0": "Meat/Poultry",
                                    "1": "1060",
                                    "2": "2008",
                                    "3": "12673"
                                },
                                {
                                    "0": "Produce",
                                    "1": "858",
                                    "2": "2008",
                                    "3": "13531"
                                },
                                {
                                    "0": "Seafood",
                                    "1": "2716",
                                    "2": "2008",
                                    "3": "16247"
                                }
                            ]
                        },
                        "text/html": [
                            "<table>",
                            "<tr><th>Category</th><th>Qty</th><th>Orderyear</th><th>RunningQty</th></tr>",
                            "<tr><td>Beverages</td><td>1842</td><td>2006</td><td>1842</td></tr>",
                            "<tr><td>Condiments</td><td>962</td><td>2006</td><td>2804</td></tr>",
                            "<tr><td>Confections</td><td>1357</td><td>2006</td><td>4161</td></tr>",
                            "<tr><td>Dairy Products</td><td>2086</td><td>2006</td><td>6247</td></tr>",
                            "<tr><td>Grains/Cereals</td><td>549</td><td>2006</td><td>6796</td></tr>",
                            "<tr><td>Meat/Poultry</td><td>950</td><td>2006</td><td>7746</td></tr>",
                            "<tr><td>Produce</td><td>549</td><td>2006</td><td>8295</td></tr>",
                            "<tr><td>Seafood</td><td>1286</td><td>2006</td><td>9581</td></tr>",
                            "<tr><td>Beverages</td><td>3996</td><td>2007</td><td>3996</td></tr>",
                            "<tr><td>Condiments</td><td>2895</td><td>2007</td><td>6891</td></tr>",
                            "<tr><td>Confections</td><td>4137</td><td>2007</td><td>11028</td></tr>",
                            "<tr><td>Dairy Products</td><td>4374</td><td>2007</td><td>15402</td></tr>",
                            "<tr><td>Grains/Cereals</td><td>2636</td><td>2007</td><td>18038</td></tr>",
                            "<tr><td>Meat/Poultry</td><td>2189</td><td>2007</td><td>20227</td></tr>",
                            "<tr><td>Produce</td><td>1583</td><td>2007</td><td>21810</td></tr>",
                            "<tr><td>Seafood</td><td>3679</td><td>2007</td><td>25489</td></tr>",
                            "<tr><td>Beverages</td><td>3694</td><td>2008</td><td>3694</td></tr>",
                            "<tr><td>Condiments</td><td>1441</td><td>2008</td><td>5135</td></tr>",
                            "<tr><td>Confections</td><td>2412</td><td>2008</td><td>7547</td></tr>",
                            "<tr><td>Dairy Products</td><td>2689</td><td>2008</td><td>10236</td></tr>",
                            "<tr><td>Grains/Cereals</td><td>1377</td><td>2008</td><td>11613</td></tr>",
                            "<tr><td>Meat/Poultry</td><td>1060</td><td>2008</td><td>12673</td></tr>",
                            "<tr><td>Produce</td><td>858</td><td>2008</td><td>13531</td></tr>",
                            "<tr><td>Seafood</td><td>2716</td><td>2008</td><td>16247</td></tr>",
                            "</table>"
                        ]
                    }
                }
            ],
            "execution_count": 7
        },
        {
            "cell_type": "markdown",
            "source": [
                "1.7. Mostrar ambos lado a lado por categoría y por año"
            ],
            "metadata": {
                "azdata_cell_guid": "10494bc0-5436-4f5c-8e60-9b45c5695593"
            }
        },
        {
            "cell_type": "code",
            "source": [
                "SELECT Category, Qty, Orderyear,\r\n",
                "\tSUM(Qty) OVER (PARTITION BY orderyear ORDER BY Category\tROWS BETWEEN UNBOUNDED PRECEDING AND CURRENT ROW) AS RunningTotalByYear,\r\n",
                "\tSUM(Qty) OVER (PARTITION BY Category ORDER BY OrderYear\tROWS BETWEEN UNBOUNDED PRECEDING AND CURRENT ROW) AS RunningTotalByCategory\r\n",
                "FROM Sales.CategoryQtyYear\r\n",
                "ORDER BY Orderyear, Category;"
            ],
            "metadata": {
                "azdata_cell_guid": "67843a06-cad9-463e-a4bc-d7744a33a8f7"
            },
            "outputs": [
                {
                    "output_type": "display_data",
                    "data": {
                        "text/html": "(24 rows affected)"
                    },
                    "metadata": {}
                },
                {
                    "output_type": "display_data",
                    "data": {
                        "text/html": "Total execution time: 00:00:00.241"
                    },
                    "metadata": {}
                },
                {
                    "output_type": "execute_result",
                    "metadata": {},
                    "execution_count": 8,
                    "data": {
                        "application/vnd.dataresource+json": {
                            "schema": {
                                "fields": [
                                    {
                                        "name": "Category"
                                    },
                                    {
                                        "name": "Qty"
                                    },
                                    {
                                        "name": "Orderyear"
                                    },
                                    {
                                        "name": "RunningTotalByYear"
                                    },
                                    {
                                        "name": "RunningTotalByCategory"
                                    }
                                ]
                            },
                            "data": [
                                {
                                    "0": "Beverages",
                                    "1": "1842",
                                    "2": "2006",
                                    "3": "1842",
                                    "4": "1842"
                                },
                                {
                                    "0": "Condiments",
                                    "1": "962",
                                    "2": "2006",
                                    "3": "2804",
                                    "4": "962"
                                },
                                {
                                    "0": "Confections",
                                    "1": "1357",
                                    "2": "2006",
                                    "3": "4161",
                                    "4": "1357"
                                },
                                {
                                    "0": "Dairy Products",
                                    "1": "2086",
                                    "2": "2006",
                                    "3": "6247",
                                    "4": "2086"
                                },
                                {
                                    "0": "Grains/Cereals",
                                    "1": "549",
                                    "2": "2006",
                                    "3": "6796",
                                    "4": "549"
                                },
                                {
                                    "0": "Meat/Poultry",
                                    "1": "950",
                                    "2": "2006",
                                    "3": "7746",
                                    "4": "950"
                                },
                                {
                                    "0": "Produce",
                                    "1": "549",
                                    "2": "2006",
                                    "3": "8295",
                                    "4": "549"
                                },
                                {
                                    "0": "Seafood",
                                    "1": "1286",
                                    "2": "2006",
                                    "3": "9581",
                                    "4": "1286"
                                },
                                {
                                    "0": "Beverages",
                                    "1": "3996",
                                    "2": "2007",
                                    "3": "3996",
                                    "4": "5838"
                                },
                                {
                                    "0": "Condiments",
                                    "1": "2895",
                                    "2": "2007",
                                    "3": "6891",
                                    "4": "3857"
                                },
                                {
                                    "0": "Confections",
                                    "1": "4137",
                                    "2": "2007",
                                    "3": "11028",
                                    "4": "5494"
                                },
                                {
                                    "0": "Dairy Products",
                                    "1": "4374",
                                    "2": "2007",
                                    "3": "15402",
                                    "4": "6460"
                                },
                                {
                                    "0": "Grains/Cereals",
                                    "1": "2636",
                                    "2": "2007",
                                    "3": "18038",
                                    "4": "3185"
                                },
                                {
                                    "0": "Meat/Poultry",
                                    "1": "2189",
                                    "2": "2007",
                                    "3": "20227",
                                    "4": "3139"
                                },
                                {
                                    "0": "Produce",
                                    "1": "1583",
                                    "2": "2007",
                                    "3": "21810",
                                    "4": "2132"
                                },
                                {
                                    "0": "Seafood",
                                    "1": "3679",
                                    "2": "2007",
                                    "3": "25489",
                                    "4": "4965"
                                },
                                {
                                    "0": "Beverages",
                                    "1": "3694",
                                    "2": "2008",
                                    "3": "3694",
                                    "4": "9532"
                                },
                                {
                                    "0": "Condiments",
                                    "1": "1441",
                                    "2": "2008",
                                    "3": "5135",
                                    "4": "5298"
                                },
                                {
                                    "0": "Confections",
                                    "1": "2412",
                                    "2": "2008",
                                    "3": "7547",
                                    "4": "7906"
                                },
                                {
                                    "0": "Dairy Products",
                                    "1": "2689",
                                    "2": "2008",
                                    "3": "10236",
                                    "4": "9149"
                                },
                                {
                                    "0": "Grains/Cereals",
                                    "1": "1377",
                                    "2": "2008",
                                    "3": "11613",
                                    "4": "4562"
                                },
                                {
                                    "0": "Meat/Poultry",
                                    "1": "1060",
                                    "2": "2008",
                                    "3": "12673",
                                    "4": "4199"
                                },
                                {
                                    "0": "Produce",
                                    "1": "858",
                                    "2": "2008",
                                    "3": "13531",
                                    "4": "2990"
                                },
                                {
                                    "0": "Seafood",
                                    "1": "2716",
                                    "2": "2008",
                                    "3": "16247",
                                    "4": "7681"
                                }
                            ]
                        },
                        "text/html": [
                            "<table>",
                            "<tr><th>Category</th><th>Qty</th><th>Orderyear</th><th>RunningTotalByYear</th><th>RunningTotalByCategory</th></tr>",
                            "<tr><td>Beverages</td><td>1842</td><td>2006</td><td>1842</td><td>1842</td></tr>",
                            "<tr><td>Condiments</td><td>962</td><td>2006</td><td>2804</td><td>962</td></tr>",
                            "<tr><td>Confections</td><td>1357</td><td>2006</td><td>4161</td><td>1357</td></tr>",
                            "<tr><td>Dairy Products</td><td>2086</td><td>2006</td><td>6247</td><td>2086</td></tr>",
                            "<tr><td>Grains/Cereals</td><td>549</td><td>2006</td><td>6796</td><td>549</td></tr>",
                            "<tr><td>Meat/Poultry</td><td>950</td><td>2006</td><td>7746</td><td>950</td></tr>",
                            "<tr><td>Produce</td><td>549</td><td>2006</td><td>8295</td><td>549</td></tr>",
                            "<tr><td>Seafood</td><td>1286</td><td>2006</td><td>9581</td><td>1286</td></tr>",
                            "<tr><td>Beverages</td><td>3996</td><td>2007</td><td>3996</td><td>5838</td></tr>",
                            "<tr><td>Condiments</td><td>2895</td><td>2007</td><td>6891</td><td>3857</td></tr>",
                            "<tr><td>Confections</td><td>4137</td><td>2007</td><td>11028</td><td>5494</td></tr>",
                            "<tr><td>Dairy Products</td><td>4374</td><td>2007</td><td>15402</td><td>6460</td></tr>",
                            "<tr><td>Grains/Cereals</td><td>2636</td><td>2007</td><td>18038</td><td>3185</td></tr>",
                            "<tr><td>Meat/Poultry</td><td>2189</td><td>2007</td><td>20227</td><td>3139</td></tr>",
                            "<tr><td>Produce</td><td>1583</td><td>2007</td><td>21810</td><td>2132</td></tr>",
                            "<tr><td>Seafood</td><td>3679</td><td>2007</td><td>25489</td><td>4965</td></tr>",
                            "<tr><td>Beverages</td><td>3694</td><td>2008</td><td>3694</td><td>9532</td></tr>",
                            "<tr><td>Condiments</td><td>1441</td><td>2008</td><td>5135</td><td>5298</td></tr>",
                            "<tr><td>Confections</td><td>2412</td><td>2008</td><td>7547</td><td>7906</td></tr>",
                            "<tr><td>Dairy Products</td><td>2689</td><td>2008</td><td>10236</td><td>9149</td></tr>",
                            "<tr><td>Grains/Cereals</td><td>1377</td><td>2008</td><td>11613</td><td>4562</td></tr>",
                            "<tr><td>Meat/Poultry</td><td>1060</td><td>2008</td><td>12673</td><td>4199</td></tr>",
                            "<tr><td>Produce</td><td>858</td><td>2008</td><td>13531</td><td>2990</td></tr>",
                            "<tr><td>Seafood</td><td>2716</td><td>2008</td><td>16247</td><td>7681</td></tr>",
                            "</table>"
                        ]
                    }
                }
            ],
            "execution_count": 8
        },
        {
            "cell_type": "markdown",
            "source": [
                "1.8. Limpiar los cambios realizados.\r\n",
                ""
            ],
            "metadata": {
                "azdata_cell_guid": "f7f61e05-e6ac-4176-a3e4-c105a7f7bba0"
            }
        },
        {
            "cell_type": "code",
            "source": [
                "IF OBJECT_ID('Production.CategorizedProducts','V') IS NOT NULL DROP VIEW Production.CategorizedProducts\r\n",
                "IF OBJECT_ID('Sales.CategoryQtyYear','V') IS NOT NULL DROP VIEW Sales.CategoryQtyYear\r\n",
                "GO"
            ],
            "metadata": {
                "azdata_cell_guid": "d66f241b-2a67-4a2d-afdf-c4a96c63d935"
            },
            "outputs": [
                {
                    "output_type": "display_data",
                    "data": {
                        "text/html": "Commands completed successfully."
                    },
                    "metadata": {}
                },
                {
                    "output_type": "display_data",
                    "data": {
                        "text/html": "Total execution time: 00:00:00.182"
                    },
                    "metadata": {}
                }
            ],
            "execution_count": 9
        },
        {
            "cell_type": "markdown",
            "source": [
                "<h2>Parte 02. Explorando funciones de ventanas (Window functions)"
            ],
            "metadata": {
                "azdata_cell_guid": "88053507-0d1d-4ed3-a3d5-f26fe42250d1"
            }
        },
        {
            "cell_type": "markdown",
            "source": [
                "2.1. Ejecutar las siguientes vistas"
            ],
            "metadata": {
                "azdata_cell_guid": "a51d6b20-eee4-453b-9d08-79191c8884f0"
            }
        },
        {
            "cell_type": "code",
            "source": [
                "IF OBJECT_ID('Production.CategorizedProducts','V') IS NOT NULL DROP VIEW Production.CategorizedProducts\r\n",
                "GO\r\n",
                "CREATE VIEW Production.CategorizedProducts\r\n",
                "AS\r\n",
                "    SELECT  Production.Categories.categoryid AS CatID,\r\n",
                "\t\t\tProduction.Categories.categoryname AS CatName,\r\n",
                "            Production.Products.productname AS ProdName,\r\n",
                "            Production.Products.unitprice AS UnitPrice\r\n",
                "    FROM    Production.Categories\r\n",
                "            INNER JOIN Production.Products ON Production.Categories.categoryid=Production.Products.categoryid;\r\n",
                "GO\r\n",
                "IF OBJECT_ID('Sales.CategoryQtyYear','V') IS NOT NULL DROP VIEW Sales.CategoryQtyYear\r\n",
                "GO\r\n",
                "CREATE VIEW Sales.CategoryQtyYear\r\n",
                "AS\r\n",
                "SELECT  c.categoryname AS Category,\r\n",
                "        SUM(od.qty) AS Qty,\r\n",
                "        YEAR(o.orderdate) AS Orderyear\r\n",
                "FROM    Production.Categories AS c\r\n",
                "        INNER JOIN Production.Products AS p ON c.categoryid=p.categoryid\r\n",
                "        INNER JOIN Sales.OrderDetails AS od ON p.productid=od.productid\r\n",
                "        INNER JOIN Sales.Orders AS o ON od.orderid=o.orderid\r\n",
                "GROUP BY c.categoryname, YEAR(o.orderdate);\r\n",
                "GO\r\n",
                "IF OBJECT_ID('Sales.OrdersByEmployeeYear','V') IS NOT NULL DROP VIEW Sales.OrdersByEmployeeYear\r\n",
                "GO\r\n",
                "CREATE VIEW Sales.OrdersByEmployeeYear\r\n",
                "AS\r\n",
                "SELECT emp.empid AS employee, YEAR(ord.orderdate) AS orderyear, SUM(od.qty * od.unitprice) AS totalsales\r\n",
                "FROM HR.Employees AS emp\r\n",
                "\tJOIN Sales.Orders AS ord ON emp.empid = ord.empid\r\n",
                "\tJOIN Sales.OrderDetails AS od ON ord.orderid = od.orderid\r\n",
                "GROUP BY emp.empid, YEAR(ord.orderdate)\r\n",
                "GO"
            ],
            "metadata": {
                "azdata_cell_guid": "a672ee96-2723-4632-b0bc-574c828cbcd7"
            },
            "outputs": [
                {
                    "output_type": "display_data",
                    "data": {
                        "text/html": "Commands completed successfully."
                    },
                    "metadata": {}
                },
                {
                    "output_type": "display_data",
                    "data": {
                        "text/html": "Commands completed successfully."
                    },
                    "metadata": {}
                },
                {
                    "output_type": "display_data",
                    "data": {
                        "text/html": "Commands completed successfully."
                    },
                    "metadata": {}
                },
                {
                    "output_type": "display_data",
                    "data": {
                        "text/html": "Commands completed successfully."
                    },
                    "metadata": {}
                },
                {
                    "output_type": "display_data",
                    "data": {
                        "text/html": "Commands completed successfully."
                    },
                    "metadata": {}
                },
                {
                    "output_type": "display_data",
                    "data": {
                        "text/html": "Commands completed successfully."
                    },
                    "metadata": {}
                },
                {
                    "output_type": "display_data",
                    "data": {
                        "text/html": "Total execution time: 00:00:01.021"
                    },
                    "metadata": {}
                }
            ],
            "execution_count": 10
        },
        {
            "cell_type": "markdown",
            "source": [
                "2.2. Crear un ranking de productos por precio utilizando RANK."
            ],
            "metadata": {
                "azdata_cell_guid": "431c8891-e5aa-4bf7-aaa8-d7d2eac1fa26"
            }
        },
        {
            "cell_type": "code",
            "source": [
                "SELECT  productid,\r\n",
                "        productname,\r\n",
                "        unitprice,\r\n",
                "        RANK() OVER ( ORDER BY unitprice DESC ) AS pricerank\r\n",
                "FROM    Production.Products\r\n",
                "ORDER BY pricerank ;"
            ],
            "metadata": {
                "azdata_cell_guid": "2f7ee45c-9d61-40e2-8f10-e730a8966594"
            },
            "outputs": [
                {
                    "output_type": "display_data",
                    "data": {
                        "text/html": "(77 rows affected)"
                    },
                    "metadata": {}
                },
                {
                    "output_type": "display_data",
                    "data": {
                        "text/html": "Total execution time: 00:00:00.200"
                    },
                    "metadata": {}
                },
                {
                    "output_type": "execute_result",
                    "metadata": {},
                    "execution_count": 11,
                    "data": {
                        "application/vnd.dataresource+json": {
                            "schema": {
                                "fields": [
                                    {
                                        "name": "productid"
                                    },
                                    {
                                        "name": "productname"
                                    },
                                    {
                                        "name": "unitprice"
                                    },
                                    {
                                        "name": "pricerank"
                                    }
                                ]
                            },
                            "data": [
                                {
                                    "0": "38",
                                    "1": "Product QDOMO",
                                    "2": "263.5000",
                                    "3": "1"
                                },
                                {
                                    "0": "29",
                                    "1": "Product VJXYN",
                                    "2": "123.7900",
                                    "3": "2"
                                },
                                {
                                    "0": "9",
                                    "1": "Product AOZBW",
                                    "2": "97.0000",
                                    "3": "3"
                                },
                                {
                                    "0": "20",
                                    "1": "Product QHFFP",
                                    "2": "81.0000",
                                    "3": "4"
                                },
                                {
                                    "0": "18",
                                    "1": "Product CKEDC",
                                    "2": "62.5000",
                                    "3": "5"
                                },
                                {
                                    "0": "59",
                                    "1": "Product UKXRI",
                                    "2": "55.0000",
                                    "3": "6"
                                },
                                {
                                    "0": "51",
                                    "1": "Product APITJ",
                                    "2": "53.0000",
                                    "3": "7"
                                },
                                {
                                    "0": "62",
                                    "1": "Product WUXYK",
                                    "2": "49.3000",
                                    "3": "8"
                                },
                                {
                                    "0": "43",
                                    "1": "Product ZZZHR",
                                    "2": "46.0000",
                                    "3": "9"
                                },
                                {
                                    "0": "28",
                                    "1": "Product OFBNT",
                                    "2": "45.6000",
                                    "3": "10"
                                },
                                {
                                    "0": "27",
                                    "1": "Product SMIOH",
                                    "2": "43.9000",
                                    "3": "11"
                                },
                                {
                                    "0": "63",
                                    "1": "Product ICKNK",
                                    "2": "43.9000",
                                    "3": "11"
                                },
                                {
                                    "0": "8",
                                    "1": "Product WVJFP",
                                    "2": "40.0000",
                                    "3": "13"
                                },
                                {
                                    "0": "17",
                                    "1": "Product BLCAX",
                                    "2": "39.0000",
                                    "3": "14"
                                },
                                {
                                    "0": "12",
                                    "1": "Product OSFNS",
                                    "2": "38.0000",
                                    "3": "15"
                                },
                                {
                                    "0": "56",
                                    "1": "Product VKCMF",
                                    "2": "38.0000",
                                    "3": "15"
                                },
                                {
                                    "0": "69",
                                    "1": "Product COAXA",
                                    "2": "36.0000",
                                    "3": "17"
                                },
                                {
                                    "0": "72",
                                    "1": "Product GEEOO",
                                    "2": "34.8000",
                                    "3": "18"
                                },
                                {
                                    "0": "60",
                                    "1": "Product WHBYK",
                                    "2": "34.0000",
                                    "3": "19"
                                },
                                {
                                    "0": "64",
                                    "1": "Product HCQDE",
                                    "2": "33.2500",
                                    "3": "20"
                                },
                                {
                                    "0": "53",
                                    "1": "Product BKGEA",
                                    "2": "32.8000",
                                    "3": "21"
                                },
                                {
                                    "0": "32",
                                    "1": "Product NUNAW",
                                    "2": "32.0000",
                                    "3": "22"
                                },
                                {
                                    "0": "26",
                                    "1": "Product HLGZA",
                                    "2": "31.2300",
                                    "3": "23"
                                },
                                {
                                    "0": "10",
                                    "1": "Product YHXGE",
                                    "2": "31.0000",
                                    "3": "24"
                                },
                                {
                                    "0": "7",
                                    "1": "Product HMLNI",
                                    "2": "30.0000",
                                    "3": "25"
                                },
                                {
                                    "0": "61",
                                    "1": "Product XYZPE",
                                    "2": "28.5000",
                                    "3": "26"
                                },
                                {
                                    "0": "37",
                                    "1": "Product EVFFA",
                                    "2": "26.0000",
                                    "3": "27"
                                },
                                {
                                    "0": "30",
                                    "1": "Product LYERX",
                                    "2": "25.8900",
                                    "3": "28"
                                },
                                {
                                    "0": "6",
                                    "1": "Product VAIIV",
                                    "2": "25.0000",
                                    "3": "29"
                                },
                                {
                                    "0": "55",
                                    "1": "Product YYWRT",
                                    "2": "24.0000",
                                    "3": "30"
                                },
                                {
                                    "0": "14",
                                    "1": "Product PWCJB",
                                    "2": "23.2500",
                                    "3": "31"
                                },
                                {
                                    "0": "4",
                                    "1": "Product KSBRM",
                                    "2": "22.0000",
                                    "3": "32"
                                },
                                {
                                    "0": "71",
                                    "1": "Product MYMOI",
                                    "2": "21.5000",
                                    "3": "33"
                                },
                                {
                                    "0": "5",
                                    "1": "Product EPEIM",
                                    "2": "21.3500",
                                    "3": "34"
                                },
                                {
                                    "0": "65",
                                    "1": "Product XYWBZ",
                                    "2": "21.0500",
                                    "3": "35"
                                },
                                {
                                    "0": "11",
                                    "1": "Product QMVUN",
                                    "2": "21.0000",
                                    "3": "36"
                                },
                                {
                                    "0": "22",
                                    "1": "Product CPHFY",
                                    "2": "21.0000",
                                    "3": "36"
                                },
                                {
                                    "0": "49",
                                    "1": "Product FPYPN",
                                    "2": "20.0000",
                                    "3": "38"
                                },
                                {
                                    "0": "57",
                                    "1": "Product OVLQI",
                                    "2": "19.5000",
                                    "3": "39"
                                },
                                {
                                    "0": "44",
                                    "1": "Product VJIEO",
                                    "2": "19.4500",
                                    "3": "40"
                                },
                                {
                                    "0": "36",
                                    "1": "Product GMKIJ",
                                    "2": "19.0000",
                                    "3": "41"
                                },
                                {
                                    "0": "2",
                                    "1": "Product RECZE",
                                    "2": "19.0000",
                                    "3": "41"
                                },
                                {
                                    "0": "40",
                                    "1": "Product YZIXQ",
                                    "2": "18.4000",
                                    "3": "43"
                                },
                                {
                                    "0": "39",
                                    "1": "Product LSOFL",
                                    "2": "18.0000",
                                    "3": "44"
                                },
                                {
                                    "0": "1",
                                    "1": "Product HHYDP",
                                    "2": "18.0000",
                                    "3": "44"
                                },
                                {
                                    "0": "35",
                                    "1": "Product NEVTJ",
                                    "2": "18.0000",
                                    "3": "44"
                                },
                                {
                                    "0": "76",
                                    "1": "Product JYGFE",
                                    "2": "18.0000",
                                    "3": "44"
                                },
                                {
                                    "0": "16",
                                    "1": "Product PAFRH",
                                    "2": "17.4500",
                                    "3": "48"
                                },
                                {
                                    "0": "66",
                                    "1": "Product LQMGN",
                                    "2": "17.0000",
                                    "3": "49"
                                },
                                {
                                    "0": "50",
                                    "1": "Product BIUDV",
                                    "2": "16.2500",
                                    "3": "50"
                                },
                                {
                                    "0": "15",
                                    "1": "Product KSZOI",
                                    "2": "15.5000",
                                    "3": "51"
                                },
                                {
                                    "0": "70",
                                    "1": "Product TOONT",
                                    "2": "15.0000",
                                    "3": "52"
                                },
                                {
                                    "0": "73",
                                    "1": "Product WEUJZ",
                                    "2": "15.0000",
                                    "3": "52"
                                },
                                {
                                    "0": "67",
                                    "1": "Product XLXQF",
                                    "2": "14.0000",
                                    "3": "54"
                                },
                                {
                                    "0": "42",
                                    "1": "Product RJVNM",
                                    "2": "14.0000",
                                    "3": "54"
                                },
                                {
                                    "0": "34",
                                    "1": "Product SWNJY",
                                    "2": "14.0000",
                                    "3": "54"
                                },
                                {
                                    "0": "25",
                                    "1": "Product LYLNI",
                                    "2": "14.0000",
                                    "3": "54"
                                },
                                {
                                    "0": "58",
                                    "1": "Product ACRVI",
                                    "2": "13.2500",
                                    "3": "58"
                                },
                                {
                                    "0": "77",
                                    "1": "Product LUNZZ",
                                    "2": "13.0000",
                                    "3": "59"
                                },
                                {
                                    "0": "48",
                                    "1": "Product MYNXN",
                                    "2": "12.7500",
                                    "3": "60"
                                },
                                {
                                    "0": "68",
                                    "1": "Product TBTBL",
                                    "2": "12.5000",
                                    "3": "61"
                                },
                                {
                                    "0": "31",
                                    "1": "Product XWOXC",
                                    "2": "12.5000",
                                    "3": "61"
                                },
                                {
                                    "0": "46",
                                    "1": "Product CBRRL",
                                    "2": "12.0000",
                                    "3": "63"
                                },
                                {
                                    "0": "74",
                                    "1": "Product BKAZJ",
                                    "2": "10.0000",
                                    "3": "64"
                                },
                                {
                                    "0": "21",
                                    "1": "Product VJZZH",
                                    "2": "10.0000",
                                    "3": "64"
                                },
                                {
                                    "0": "3",
                                    "1": "Product IMEHJ",
                                    "2": "10.0000",
                                    "3": "64"
                                },
                                {
                                    "0": "41",
                                    "1": "Product TTEEX",
                                    "2": "9.6500",
                                    "3": "67"
                                },
                                {
                                    "0": "45",
                                    "1": "Product AQOKR",
                                    "2": "9.5000",
                                    "3": "68"
                                },
                                {
                                    "0": "47",
                                    "1": "Product EZZPR",
                                    "2": "9.5000",
                                    "3": "68"
                                },
                                {
                                    "0": "19",
                                    "1": "Product XKXDO",
                                    "2": "9.2000",
                                    "3": "70"
                                },
                                {
                                    "0": "23",
                                    "1": "Product JLUDZ",
                                    "2": "9.0000",
                                    "3": "71"
                                },
                                {
                                    "0": "75",
                                    "1": "Product BWRLG",
                                    "2": "7.7500",
                                    "3": "72"
                                },
                                {
                                    "0": "54",
                                    "1": "Product QAQRL",
                                    "2": "7.4500",
                                    "3": "73"
                                },
                                {
                                    "0": "52",
                                    "1": "Product QSRXF",
                                    "2": "7.0000",
                                    "3": "74"
                                },
                                {
                                    "0": "13",
                                    "1": "Product POXFU",
                                    "2": "6.0000",
                                    "3": "75"
                                },
                                {
                                    "0": "24",
                                    "1": "Product QOGNU",
                                    "2": "4.5000",
                                    "3": "76"
                                },
                                {
                                    "0": "33",
                                    "1": "Product ASTMN",
                                    "2": "2.5000",
                                    "3": "77"
                                }
                            ]
                        },
                        "text/html": [
                            "<table>",
                            "<tr><th>productid</th><th>productname</th><th>unitprice</th><th>pricerank</th></tr>",
                            "<tr><td>38</td><td>Product QDOMO</td><td>263.5000</td><td>1</td></tr>",
                            "<tr><td>29</td><td>Product VJXYN</td><td>123.7900</td><td>2</td></tr>",
                            "<tr><td>9</td><td>Product AOZBW</td><td>97.0000</td><td>3</td></tr>",
                            "<tr><td>20</td><td>Product QHFFP</td><td>81.0000</td><td>4</td></tr>",
                            "<tr><td>18</td><td>Product CKEDC</td><td>62.5000</td><td>5</td></tr>",
                            "<tr><td>59</td><td>Product UKXRI</td><td>55.0000</td><td>6</td></tr>",
                            "<tr><td>51</td><td>Product APITJ</td><td>53.0000</td><td>7</td></tr>",
                            "<tr><td>62</td><td>Product WUXYK</td><td>49.3000</td><td>8</td></tr>",
                            "<tr><td>43</td><td>Product ZZZHR</td><td>46.0000</td><td>9</td></tr>",
                            "<tr><td>28</td><td>Product OFBNT</td><td>45.6000</td><td>10</td></tr>",
                            "<tr><td>27</td><td>Product SMIOH</td><td>43.9000</td><td>11</td></tr>",
                            "<tr><td>63</td><td>Product ICKNK</td><td>43.9000</td><td>11</td></tr>",
                            "<tr><td>8</td><td>Product WVJFP</td><td>40.0000</td><td>13</td></tr>",
                            "<tr><td>17</td><td>Product BLCAX</td><td>39.0000</td><td>14</td></tr>",
                            "<tr><td>12</td><td>Product OSFNS</td><td>38.0000</td><td>15</td></tr>",
                            "<tr><td>56</td><td>Product VKCMF</td><td>38.0000</td><td>15</td></tr>",
                            "<tr><td>69</td><td>Product COAXA</td><td>36.0000</td><td>17</td></tr>",
                            "<tr><td>72</td><td>Product GEEOO</td><td>34.8000</td><td>18</td></tr>",
                            "<tr><td>60</td><td>Product WHBYK</td><td>34.0000</td><td>19</td></tr>",
                            "<tr><td>64</td><td>Product HCQDE</td><td>33.2500</td><td>20</td></tr>",
                            "<tr><td>53</td><td>Product BKGEA</td><td>32.8000</td><td>21</td></tr>",
                            "<tr><td>32</td><td>Product NUNAW</td><td>32.0000</td><td>22</td></tr>",
                            "<tr><td>26</td><td>Product HLGZA</td><td>31.2300</td><td>23</td></tr>",
                            "<tr><td>10</td><td>Product YHXGE</td><td>31.0000</td><td>24</td></tr>",
                            "<tr><td>7</td><td>Product HMLNI</td><td>30.0000</td><td>25</td></tr>",
                            "<tr><td>61</td><td>Product XYZPE</td><td>28.5000</td><td>26</td></tr>",
                            "<tr><td>37</td><td>Product EVFFA</td><td>26.0000</td><td>27</td></tr>",
                            "<tr><td>30</td><td>Product LYERX</td><td>25.8900</td><td>28</td></tr>",
                            "<tr><td>6</td><td>Product VAIIV</td><td>25.0000</td><td>29</td></tr>",
                            "<tr><td>55</td><td>Product YYWRT</td><td>24.0000</td><td>30</td></tr>",
                            "<tr><td>14</td><td>Product PWCJB</td><td>23.2500</td><td>31</td></tr>",
                            "<tr><td>4</td><td>Product KSBRM</td><td>22.0000</td><td>32</td></tr>",
                            "<tr><td>71</td><td>Product MYMOI</td><td>21.5000</td><td>33</td></tr>",
                            "<tr><td>5</td><td>Product EPEIM</td><td>21.3500</td><td>34</td></tr>",
                            "<tr><td>65</td><td>Product XYWBZ</td><td>21.0500</td><td>35</td></tr>",
                            "<tr><td>11</td><td>Product QMVUN</td><td>21.0000</td><td>36</td></tr>",
                            "<tr><td>22</td><td>Product CPHFY</td><td>21.0000</td><td>36</td></tr>",
                            "<tr><td>49</td><td>Product FPYPN</td><td>20.0000</td><td>38</td></tr>",
                            "<tr><td>57</td><td>Product OVLQI</td><td>19.5000</td><td>39</td></tr>",
                            "<tr><td>44</td><td>Product VJIEO</td><td>19.4500</td><td>40</td></tr>",
                            "<tr><td>36</td><td>Product GMKIJ</td><td>19.0000</td><td>41</td></tr>",
                            "<tr><td>2</td><td>Product RECZE</td><td>19.0000</td><td>41</td></tr>",
                            "<tr><td>40</td><td>Product YZIXQ</td><td>18.4000</td><td>43</td></tr>",
                            "<tr><td>39</td><td>Product LSOFL</td><td>18.0000</td><td>44</td></tr>",
                            "<tr><td>1</td><td>Product HHYDP</td><td>18.0000</td><td>44</td></tr>",
                            "<tr><td>35</td><td>Product NEVTJ</td><td>18.0000</td><td>44</td></tr>",
                            "<tr><td>76</td><td>Product JYGFE</td><td>18.0000</td><td>44</td></tr>",
                            "<tr><td>16</td><td>Product PAFRH</td><td>17.4500</td><td>48</td></tr>",
                            "<tr><td>66</td><td>Product LQMGN</td><td>17.0000</td><td>49</td></tr>",
                            "<tr><td>50</td><td>Product BIUDV</td><td>16.2500</td><td>50</td></tr>",
                            "<tr><td>15</td><td>Product KSZOI</td><td>15.5000</td><td>51</td></tr>",
                            "<tr><td>70</td><td>Product TOONT</td><td>15.0000</td><td>52</td></tr>",
                            "<tr><td>73</td><td>Product WEUJZ</td><td>15.0000</td><td>52</td></tr>",
                            "<tr><td>67</td><td>Product XLXQF</td><td>14.0000</td><td>54</td></tr>",
                            "<tr><td>42</td><td>Product RJVNM</td><td>14.0000</td><td>54</td></tr>",
                            "<tr><td>34</td><td>Product SWNJY</td><td>14.0000</td><td>54</td></tr>",
                            "<tr><td>25</td><td>Product LYLNI</td><td>14.0000</td><td>54</td></tr>",
                            "<tr><td>58</td><td>Product ACRVI</td><td>13.2500</td><td>58</td></tr>",
                            "<tr><td>77</td><td>Product LUNZZ</td><td>13.0000</td><td>59</td></tr>",
                            "<tr><td>48</td><td>Product MYNXN</td><td>12.7500</td><td>60</td></tr>",
                            "<tr><td>68</td><td>Product TBTBL</td><td>12.5000</td><td>61</td></tr>",
                            "<tr><td>31</td><td>Product XWOXC</td><td>12.5000</td><td>61</td></tr>",
                            "<tr><td>46</td><td>Product CBRRL</td><td>12.0000</td><td>63</td></tr>",
                            "<tr><td>74</td><td>Product BKAZJ</td><td>10.0000</td><td>64</td></tr>",
                            "<tr><td>21</td><td>Product VJZZH</td><td>10.0000</td><td>64</td></tr>",
                            "<tr><td>3</td><td>Product IMEHJ</td><td>10.0000</td><td>64</td></tr>",
                            "<tr><td>41</td><td>Product TTEEX</td><td>9.6500</td><td>67</td></tr>",
                            "<tr><td>45</td><td>Product AQOKR</td><td>9.5000</td><td>68</td></tr>",
                            "<tr><td>47</td><td>Product EZZPR</td><td>9.5000</td><td>68</td></tr>",
                            "<tr><td>19</td><td>Product XKXDO</td><td>9.2000</td><td>70</td></tr>",
                            "<tr><td>23</td><td>Product JLUDZ</td><td>9.0000</td><td>71</td></tr>",
                            "<tr><td>75</td><td>Product BWRLG</td><td>7.7500</td><td>72</td></tr>",
                            "<tr><td>54</td><td>Product QAQRL</td><td>7.4500</td><td>73</td></tr>",
                            "<tr><td>52</td><td>Product QSRXF</td><td>7.0000</td><td>74</td></tr>",
                            "<tr><td>13</td><td>Product POXFU</td><td>6.0000</td><td>75</td></tr>",
                            "<tr><td>24</td><td>Product QOGNU</td><td>4.5000</td><td>76</td></tr>",
                            "<tr><td>33</td><td>Product ASTMN</td><td>2.5000</td><td>77</td></tr>",
                            "</table>"
                        ]
                    }
                }
            ],
            "execution_count": 11
        },
        {
            "cell_type": "markdown",
            "source": [
                "2.3. Crear un funcion de ventana, mostrar la suma calculada por partición. (Ojo aqui no se utiliza ORDER BY)."
            ],
            "metadata": {
                "azdata_cell_guid": "8d5ede88-f56a-4d38-ba30-ef7c1f0496ed"
            }
        },
        {
            "cell_type": "code",
            "source": [
                "SELECT  custid,\r\n",
                "        ordermonth,\r\n",
                "        qty,\r\n",
                "        SUM(qty) OVER ( PARTITION BY custid ) AS totalpercust\r\n",
                "FROM    Sales.CustOrders ;"
            ],
            "metadata": {
                "azdata_cell_guid": "0d5f07e6-e562-4390-a363-bb20286d70b6"
            },
            "outputs": [
                {
                    "output_type": "display_data",
                    "data": {
                        "text/html": "(636 rows affected)"
                    },
                    "metadata": {}
                },
                {
                    "output_type": "display_data",
                    "data": {
                        "text/html": "Total execution time: 00:00:00.398"
                    },
                    "metadata": {}
                },
                {
                    "output_type": "execute_result",
                    "metadata": {},
                    "execution_count": 12,
                    "data": {
                        "application/vnd.dataresource+json": {
                            "schema": {
                                "fields": [
                                    {
                                        "name": "custid"
                                    },
                                    {
                                        "name": "ordermonth"
                                    },
                                    {
                                        "name": "qty"
                                    },
                                    {
                                        "name": "totalpercust"
                                    }
                                ]
                            },
                            "data": [
                                {
                                    "0": "1",
                                    "1": "2007-08-01 00:00:00.000",
                                    "2": "38",
                                    "3": "174"
                                },
                                {
                                    "0": "1",
                                    "1": "2007-10-01 00:00:00.000",
                                    "2": "41",
                                    "3": "174"
                                },
                                {
                                    "0": "1",
                                    "1": "2008-01-01 00:00:00.000",
                                    "2": "17",
                                    "3": "174"
                                },
                                {
                                    "0": "1",
                                    "1": "2008-03-01 00:00:00.000",
                                    "2": "18",
                                    "3": "174"
                                },
                                {
                                    "0": "1",
                                    "1": "2008-04-01 00:00:00.000",
                                    "2": "60",
                                    "3": "174"
                                },
                                {
                                    "0": "2",
                                    "1": "2006-09-01 00:00:00.000",
                                    "2": "6",
                                    "3": "63"
                                },
                                {
                                    "0": "2",
                                    "1": "2007-08-01 00:00:00.000",
                                    "2": "18",
                                    "3": "63"
                                },
                                {
                                    "0": "2",
                                    "1": "2007-11-01 00:00:00.000",
                                    "2": "10",
                                    "3": "63"
                                },
                                {
                                    "0": "2",
                                    "1": "2008-03-01 00:00:00.000",
                                    "2": "29",
                                    "3": "63"
                                },
                                {
                                    "0": "3",
                                    "1": "2006-11-01 00:00:00.000",
                                    "2": "24",
                                    "3": "359"
                                },
                                {
                                    "0": "3",
                                    "1": "2007-04-01 00:00:00.000",
                                    "2": "30",
                                    "3": "359"
                                },
                                {
                                    "0": "3",
                                    "1": "2007-05-01 00:00:00.000",
                                    "2": "80",
                                    "3": "359"
                                },
                                {
                                    "0": "3",
                                    "1": "2007-06-01 00:00:00.000",
                                    "2": "83",
                                    "3": "359"
                                },
                                {
                                    "0": "3",
                                    "1": "2007-09-01 00:00:00.000",
                                    "2": "102",
                                    "3": "359"
                                },
                                {
                                    "0": "3",
                                    "1": "2008-01-01 00:00:00.000",
                                    "2": "40",
                                    "3": "359"
                                },
                                {
                                    "0": "4",
                                    "1": "2006-11-01 00:00:00.000",
                                    "2": "50",
                                    "3": "650"
                                },
                                {
                                    "0": "4",
                                    "1": "2006-12-01 00:00:00.000",
                                    "2": "55",
                                    "3": "650"
                                },
                                {
                                    "0": "4",
                                    "1": "2007-02-01 00:00:00.000",
                                    "2": "40",
                                    "3": "650"
                                },
                                {
                                    "0": "4",
                                    "1": "2007-06-01 00:00:00.000",
                                    "2": "96",
                                    "3": "650"
                                },
                                {
                                    "0": "4",
                                    "1": "2007-10-01 00:00:00.000",
                                    "2": "89",
                                    "3": "650"
                                },
                                {
                                    "0": "4",
                                    "1": "2007-11-01 00:00:00.000",
                                    "2": "43",
                                    "3": "650"
                                },
                                {
                                    "0": "4",
                                    "1": "2007-12-01 00:00:00.000",
                                    "2": "103",
                                    "3": "650"
                                },
                                {
                                    "0": "4",
                                    "1": "2008-02-01 00:00:00.000",
                                    "2": "19",
                                    "3": "650"
                                },
                                {
                                    "0": "4",
                                    "1": "2008-03-01 00:00:00.000",
                                    "2": "124",
                                    "3": "650"
                                },
                                {
                                    "0": "4",
                                    "1": "2008-04-01 00:00:00.000",
                                    "2": "31",
                                    "3": "650"
                                },
                                {
                                    "0": "5",
                                    "1": "2006-08-01 00:00:00.000",
                                    "2": "126",
                                    "3": "1001"
                                },
                                {
                                    "0": "5",
                                    "1": "2006-12-01 00:00:00.000",
                                    "2": "43",
                                    "3": "1001"
                                },
                                {
                                    "0": "5",
                                    "1": "2007-02-01 00:00:00.000",
                                    "2": "84",
                                    "3": "1001"
                                },
                                {
                                    "0": "5",
                                    "1": "2007-05-01 00:00:00.000",
                                    "2": "87",
                                    "3": "1001"
                                },
                                {
                                    "0": "5",
                                    "1": "2007-06-01 00:00:00.000",
                                    "2": "87",
                                    "3": "1001"
                                },
                                {
                                    "0": "5",
                                    "1": "2007-08-01 00:00:00.000",
                                    "2": "52",
                                    "3": "1001"
                                },
                                {
                                    "0": "5",
                                    "1": "2007-09-01 00:00:00.000",
                                    "2": "65",
                                    "3": "1001"
                                },
                                {
                                    "0": "5",
                                    "1": "2007-10-01 00:00:00.000",
                                    "2": "35",
                                    "3": "1001"
                                },
                                {
                                    "0": "5",
                                    "1": "2007-11-01 00:00:00.000",
                                    "2": "61",
                                    "3": "1001"
                                },
                                {
                                    "0": "5",
                                    "1": "2007-12-01 00:00:00.000",
                                    "2": "10",
                                    "3": "1001"
                                },
                                {
                                    "0": "5",
                                    "1": "2008-01-01 00:00:00.000",
                                    "2": "167",
                                    "3": "1001"
                                },
                                {
                                    "0": "5",
                                    "1": "2008-02-01 00:00:00.000",
                                    "2": "128",
                                    "3": "1001"
                                },
                                {
                                    "0": "5",
                                    "1": "2008-03-01 00:00:00.000",
                                    "2": "56",
                                    "3": "1001"
                                },
                                {
                                    "0": "6",
                                    "1": "2007-04-01 00:00:00.000",
                                    "2": "23",
                                    "3": "140"
                                },
                                {
                                    "0": "6",
                                    "1": "2007-06-01 00:00:00.000",
                                    "2": "18",
                                    "3": "140"
                                },
                                {
                                    "0": "6",
                                    "1": "2007-07-01 00:00:00.000",
                                    "2": "27",
                                    "3": "140"
                                },
                                {
                                    "0": "6",
                                    "1": "2008-01-01 00:00:00.000",
                                    "2": "10",
                                    "3": "140"
                                },
                                {
                                    "0": "6",
                                    "1": "2008-03-01 00:00:00.000",
                                    "2": "34",
                                    "3": "140"
                                },
                                {
                                    "0": "6",
                                    "1": "2008-04-01 00:00:00.000",
                                    "2": "28",
                                    "3": "140"
                                },
                                {
                                    "0": "7",
                                    "1": "2006-07-01 00:00:00.000",
                                    "2": "50",
                                    "3": "666"
                                },
                                {
                                    "0": "7",
                                    "1": "2006-09-01 00:00:00.000",
                                    "2": "80",
                                    "3": "666"
                                },
                                {
                                    "0": "7",
                                    "1": "2006-11-01 00:00:00.000",
                                    "2": "138",
                                    "3": "666"
                                },
                                {
                                    "0": "7",
                                    "1": "2007-02-01 00:00:00.000",
                                    "2": "168",
                                    "3": "666"
                                },
                                {
                                    "0": "7",
                                    "1": "2007-06-01 00:00:00.000",
                                    "2": "143",
                                    "3": "666"
                                },
                                {
                                    "0": "7",
                                    "1": "2007-08-01 00:00:00.000",
                                    "2": "25",
                                    "3": "666"
                                },
                                {
                                    "0": "7",
                                    "1": "2007-09-01 00:00:00.000",
                                    "2": "12",
                                    "3": "666"
                                },
                                {
                                    "0": "7",
                                    "1": "2008-01-01 00:00:00.000",
                                    "2": "50",
                                    "3": "666"
                                },
                                {
                                    "0": "8",
                                    "1": "2006-10-01 00:00:00.000",
                                    "2": "90",
                                    "3": "190"
                                },
                                {
                                    "0": "8",
                                    "1": "2007-12-01 00:00:00.000",
                                    "2": "60",
                                    "3": "190"
                                },
                                {
                                    "0": "8",
                                    "1": "2008-03-01 00:00:00.000",
                                    "2": "40",
                                    "3": "190"
                                },
                                {
                                    "0": "9",
                                    "1": "2006-10-01 00:00:00.000",
                                    "2": "87",
                                    "3": "980"
                                },
                                {
                                    "0": "9",
                                    "1": "2006-11-01 00:00:00.000",
                                    "2": "94",
                                    "3": "980"
                                },
                                {
                                    "0": "9",
                                    "1": "2007-03-01 00:00:00.000",
                                    "2": "53",
                                    "3": "980"
                                },
                                {
                                    "0": "9",
                                    "1": "2007-04-01 00:00:00.000",
                                    "2": "110",
                                    "3": "980"
                                },
                                {
                                    "0": "9",
                                    "1": "2007-05-01 00:00:00.000",
                                    "2": "45",
                                    "3": "980"
                                },
                                {
                                    "0": "9",
                                    "1": "2007-09-01 00:00:00.000",
                                    "2": "80",
                                    "3": "980"
                                },
                                {
                                    "0": "9",
                                    "1": "2007-10-01 00:00:00.000",
                                    "2": "51",
                                    "3": "980"
                                },
                                {
                                    "0": "9",
                                    "1": "2007-11-01 00:00:00.000",
                                    "2": "147",
                                    "3": "980"
                                },
                                {
                                    "0": "9",
                                    "1": "2008-01-01 00:00:00.000",
                                    "2": "36",
                                    "3": "980"
                                },
                                {
                                    "0": "9",
                                    "1": "2008-02-01 00:00:00.000",
                                    "2": "119",
                                    "3": "980"
                                },
                                {
                                    "0": "9",
                                    "1": "2008-03-01 00:00:00.000",
                                    "2": "108",
                                    "3": "980"
                                },
                                {
                                    "0": "9",
                                    "1": "2008-05-01 00:00:00.000",
                                    "2": "50",
                                    "3": "980"
                                },
                                {
                                    "0": "10",
                                    "1": "2006-12-01 00:00:00.000",
                                    "2": "81",
                                    "3": "956"
                                },
                                {
                                    "0": "10",
                                    "1": "2007-01-01 00:00:00.000",
                                    "2": "269",
                                    "3": "956"
                                },
                                {
                                    "0": "10",
                                    "1": "2007-04-01 00:00:00.000",
                                    "2": "80",
                                    "3": "956"
                                },
                                {
                                    "0": "10",
                                    "1": "2007-11-01 00:00:00.000",
                                    "2": "105",
                                    "3": "956"
                                },
                                {
                                    "0": "10",
                                    "1": "2008-03-01 00:00:00.000",
                                    "2": "289",
                                    "3": "956"
                                },
                                {
                                    "0": "10",
                                    "1": "2008-04-01 00:00:00.000",
                                    "2": "132",
                                    "3": "956"
                                },
                                {
                                    "0": "11",
                                    "1": "2006-08-01 00:00:00.000",
                                    "2": "39",
                                    "3": "293"
                                },
                                {
                                    "0": "11",
                                    "1": "2007-03-01 00:00:00.000",
                                    "2": "77",
                                    "3": "293"
                                },
                                {
                                    "0": "11",
                                    "1": "2007-05-01 00:00:00.000",
                                    "2": "52",
                                    "3": "293"
                                },
                                {
                                    "0": "11",
                                    "1": "2007-06-01 00:00:00.000",
                                    "2": "26",
                                    "3": "293"
                                },
                                {
                                    "0": "11",
                                    "1": "2007-07-01 00:00:00.000",
                                    "2": "10",
                                    "3": "293"
                                },
                                {
                                    "0": "11",
                                    "1": "2008-03-01 00:00:00.000",
                                    "2": "55",
                                    "3": "293"
                                },
                                {
                                    "0": "11",
                                    "1": "2008-04-01 00:00:00.000",
                                    "2": "34",
                                    "3": "293"
                                },
                                {
                                    "0": "12",
                                    "1": "2007-04-01 00:00:00.000",
                                    "2": "19",
                                    "3": "115"
                                },
                                {
                                    "0": "12",
                                    "1": "2007-12-01 00:00:00.000",
                                    "2": "1",
                                    "3": "115"
                                },
                                {
                                    "0": "12",
                                    "1": "2008-01-01 00:00:00.000",
                                    "2": "27",
                                    "3": "115"
                                },
                                {
                                    "0": "12",
                                    "1": "2008-02-01 00:00:00.000",
                                    "2": "10",
                                    "3": "115"
                                },
                                {
                                    "0": "12",
                                    "1": "2008-03-01 00:00:00.000",
                                    "2": "28",
                                    "3": "115"
                                },
                                {
                                    "0": "12",
                                    "1": "2008-04-01 00:00:00.000",
                                    "2": "30",
                                    "3": "115"
                                },
                                {
                                    "0": "13",
                                    "1": "2006-07-01 00:00:00.000",
                                    "2": "11",
                                    "3": "11"
                                },
                                {
                                    "0": "14",
                                    "1": "2006-07-01 00:00:00.000",
                                    "2": "57",
                                    "3": "465"
                                },
                                {
                                    "0": "14",
                                    "1": "2006-12-01 00:00:00.000",
                                    "2": "65",
                                    "3": "465"
                                },
                                {
                                    "0": "14",
                                    "1": "2007-04-01 00:00:00.000",
                                    "2": "66",
                                    "3": "465"
                                },
                                {
                                    "0": "14",
                                    "1": "2007-11-01 00:00:00.000",
                                    "2": "153",
                                    "3": "465"
                                },
                                {
                                    "0": "14",
                                    "1": "2008-03-01 00:00:00.000",
                                    "2": "32",
                                    "3": "465"
                                },
                                {
                                    "0": "14",
                                    "1": "2008-04-01 00:00:00.000",
                                    "2": "92",
                                    "3": "465"
                                },
                                {
                                    "0": "15",
                                    "1": "2006-08-01 00:00:00.000",
                                    "2": "60",
                                    "3": "133"
                                },
                                {
                                    "0": "15",
                                    "1": "2007-03-01 00:00:00.000",
                                    "2": "15",
                                    "3": "133"
                                },
                                {
                                    "0": "15",
                                    "1": "2007-04-01 00:00:00.000",
                                    "2": "30",
                                    "3": "133"
                                },
                                {
                                    "0": "15",
                                    "1": "2008-03-01 00:00:00.000",
                                    "2": "9",
                                    "3": "133"
                                },
                                {
                                    "0": "15",
                                    "1": "2008-04-01 00:00:00.000",
                                    "2": "19",
                                    "3": "133"
                                },
                                {
                                    "0": "16",
                                    "1": "2007-02-01 00:00:00.000",
                                    "2": "32",
                                    "3": "87"
                                },
                                {
                                    "0": "16",
                                    "1": "2007-03-01 00:00:00.000",
                                    "2": "22",
                                    "3": "87"
                                },
                                {
                                    "0": "16",
                                    "1": "2008-01-01 00:00:00.000",
                                    "2": "33",
                                    "3": "87"
                                },
                                {
                                    "0": "17",
                                    "1": "2006-11-01 00:00:00.000",
                                    "2": "44",
                                    "3": "160"
                                },
                                {
                                    "0": "17",
                                    "1": "2006-12-01 00:00:00.000",
                                    "2": "18",
                                    "3": "160"
                                },
                                {
                                    "0": "17",
                                    "1": "2007-12-01 00:00:00.000",
                                    "2": "20",
                                    "3": "160"
                                },
                                {
                                    "0": "17",
                                    "1": "2008-01-01 00:00:00.000",
                                    "2": "32",
                                    "3": "160"
                                },
                                {
                                    "0": "17",
                                    "1": "2008-04-01 00:00:00.000",
                                    "2": "37",
                                    "3": "160"
                                },
                                {
                                    "0": "17",
                                    "1": "2008-05-01 00:00:00.000",
                                    "2": "9",
                                    "3": "160"
                                },
                                {
                                    "0": "18",
                                    "1": "2006-09-01 00:00:00.000",
                                    "2": "13",
                                    "3": "80"
                                },
                                {
                                    "0": "18",
                                    "1": "2007-07-01 00:00:00.000",
                                    "2": "19",
                                    "3": "80"
                                },
                                {
                                    "0": "18",
                                    "1": "2007-09-01 00:00:00.000",
                                    "2": "9",
                                    "3": "80"
                                },
                                {
                                    "0": "18",
                                    "1": "2008-02-01 00:00:00.000",
                                    "2": "39",
                                    "3": "80"
                                },
                                {
                                    "0": "19",
                                    "1": "2006-11-01 00:00:00.000",
                                    "2": "35",
                                    "3": "569"
                                },
                                {
                                    "0": "19",
                                    "1": "2007-01-01 00:00:00.000",
                                    "2": "86",
                                    "3": "569"
                                },
                                {
                                    "0": "19",
                                    "1": "2007-05-01 00:00:00.000",
                                    "2": "39",
                                    "3": "569"
                                },
                                {
                                    "0": "19",
                                    "1": "2007-11-01 00:00:00.000",
                                    "2": "30",
                                    "3": "569"
                                },
                                {
                                    "0": "19",
                                    "1": "2008-03-01 00:00:00.000",
                                    "2": "86",
                                    "3": "569"
                                },
                                {
                                    "0": "19",
                                    "1": "2008-04-01 00:00:00.000",
                                    "2": "293",
                                    "3": "569"
                                },
                                {
                                    "0": "20",
                                    "1": "2006-07-01 00:00:00.000",
                                    "2": "305",
                                    "3": "4543"
                                },
                                {
                                    "0": "20",
                                    "1": "2006-11-01 00:00:00.000",
                                    "2": "198",
                                    "3": "4543"
                                },
                                {
                                    "0": "20",
                                    "1": "2006-12-01 00:00:00.000",
                                    "2": "334",
                                    "3": "4543"
                                },
                                {
                                    "0": "20",
                                    "1": "2007-01-01 00:00:00.000",
                                    "2": "411",
                                    "3": "4543"
                                },
                                {
                                    "0": "20",
                                    "1": "2007-02-01 00:00:00.000",
                                    "2": "170",
                                    "3": "4543"
                                },
                                {
                                    "0": "20",
                                    "1": "2007-04-01 00:00:00.000",
                                    "2": "233",
                                    "3": "4543"
                                },
                                {
                                    "0": "20",
                                    "1": "2007-06-01 00:00:00.000",
                                    "2": "39",
                                    "3": "4543"
                                },
                                {
                                    "0": "20",
                                    "1": "2007-07-01 00:00:00.000",
                                    "2": "215",
                                    "3": "4543"
                                },
                                {
                                    "0": "20",
                                    "1": "2007-08-01 00:00:00.000",
                                    "2": "164",
                                    "3": "4543"
                                },
                                {
                                    "0": "20",
                                    "1": "2007-09-01 00:00:00.000",
                                    "2": "59",
                                    "3": "4543"
                                },
                                {
                                    "0": "20",
                                    "1": "2007-10-01 00:00:00.000",
                                    "2": "108",
                                    "3": "4543"
                                },
                                {
                                    "0": "20",
                                    "1": "2007-12-01 00:00:00.000",
                                    "2": "551",
                                    "3": "4543"
                                },
                                {
                                    "0": "20",
                                    "1": "2008-01-01 00:00:00.000",
                                    "2": "337",
                                    "3": "4543"
                                },
                                {
                                    "0": "20",
                                    "1": "2008-02-01 00:00:00.000",
                                    "2": "346",
                                    "3": "4543"
                                },
                                {
                                    "0": "20",
                                    "1": "2008-03-01 00:00:00.000",
                                    "2": "271",
                                    "3": "4543"
                                },
                                {
                                    "0": "20",
                                    "1": "2008-04-01 00:00:00.000",
                                    "2": "602",
                                    "3": "4543"
                                },
                                {
                                    "0": "20",
                                    "1": "2008-05-01 00:00:00.000",
                                    "2": "200",
                                    "3": "4543"
                                },
                                {
                                    "0": "21",
                                    "1": "2006-11-01 00:00:00.000",
                                    "2": "70",
                                    "3": "357"
                                },
                                {
                                    "0": "21",
                                    "1": "2006-12-01 00:00:00.000",
                                    "2": "25",
                                    "3": "357"
                                },
                                {
                                    "0": "21",
                                    "1": "2007-01-01 00:00:00.000",
                                    "2": "68",
                                    "3": "357"
                                },
                                {
                                    "0": "21",
                                    "1": "2007-04-01 00:00:00.000",
                                    "2": "37",
                                    "3": "357"
                                },
                                {
                                    "0": "21",
                                    "1": "2007-06-01 00:00:00.000",
                                    "2": "50",
                                    "3": "357"
                                },
                                {
                                    "0": "21",
                                    "1": "2007-08-01 00:00:00.000",
                                    "2": "85",
                                    "3": "357"
                                },
                                {
                                    "0": "21",
                                    "1": "2007-10-01 00:00:00.000",
                                    "2": "22",
                                    "3": "357"
                                },
                                {
                                    "0": "23",
                                    "1": "2007-01-01 00:00:00.000",
                                    "2": "51",
                                    "3": "354"
                                },
                                {
                                    "0": "23",
                                    "1": "2007-03-01 00:00:00.000",
                                    "2": "42",
                                    "3": "354"
                                },
                                {
                                    "0": "23",
                                    "1": "2007-08-01 00:00:00.000",
                                    "2": "102",
                                    "3": "354"
                                },
                                {
                                    "0": "23",
                                    "1": "2007-12-01 00:00:00.000",
                                    "2": "159",
                                    "3": "354"
                                },
                                {
                                    "0": "24",
                                    "1": "2006-07-01 00:00:00.000",
                                    "2": "60",
                                    "3": "1234"
                                },
                                {
                                    "0": "24",
                                    "1": "2006-10-01 00:00:00.000",
                                    "2": "140",
                                    "3": "1234"
                                },
                                {
                                    "0": "24",
                                    "1": "2006-12-01 00:00:00.000",
                                    "2": "6",
                                    "3": "1234"
                                },
                                {
                                    "0": "24",
                                    "1": "2007-02-01 00:00:00.000",
                                    "2": "49",
                                    "3": "1234"
                                },
                                {
                                    "0": "24",
                                    "1": "2007-05-01 00:00:00.000",
                                    "2": "98",
                                    "3": "1234"
                                },
                                {
                                    "0": "24",
                                    "1": "2007-06-01 00:00:00.000",
                                    "2": "60",
                                    "3": "1234"
                                },
                                {
                                    "0": "24",
                                    "1": "2007-10-01 00:00:00.000",
                                    "2": "75",
                                    "3": "1234"
                                },
                                {
                                    "0": "24",
                                    "1": "2007-12-01 00:00:00.000",
                                    "2": "186",
                                    "3": "1234"
                                },
                                {
                                    "0": "24",
                                    "1": "2008-01-01 00:00:00.000",
                                    "2": "21",
                                    "3": "1234"
                                },
                                {
                                    "0": "24",
                                    "1": "2008-02-01 00:00:00.000",
                                    "2": "146",
                                    "3": "1234"
                                },
                                {
                                    "0": "24",
                                    "1": "2008-03-01 00:00:00.000",
                                    "2": "142",
                                    "3": "1234"
                                },
                                {
                                    "0": "24",
                                    "1": "2008-04-01 00:00:00.000",
                                    "2": "251",
                                    "3": "1234"
                                },
                                {
                                    "0": "25",
                                    "1": "2006-07-01 00:00:00.000",
                                    "2": "135",
                                    "3": "1525"
                                },
                                {
                                    "0": "25",
                                    "1": "2006-10-01 00:00:00.000",
                                    "2": "297",
                                    "3": "1525"
                                },
                                {
                                    "0": "25",
                                    "1": "2006-12-01 00:00:00.000",
                                    "2": "121",
                                    "3": "1525"
                                },
                                {
                                    "0": "25",
                                    "1": "2007-03-01 00:00:00.000",
                                    "2": "50",
                                    "3": "1525"
                                },
                                {
                                    "0": "25",
                                    "1": "2007-06-01 00:00:00.000",
                                    "2": "35",
                                    "3": "1525"
                                },
                                {
                                    "0": "25",
                                    "1": "2007-08-01 00:00:00.000",
                                    "2": "94",
                                    "3": "1525"
                                },
                                {
                                    "0": "25",
                                    "1": "2007-09-01 00:00:00.000",
                                    "2": "312",
                                    "3": "1525"
                                },
                                {
                                    "0": "25",
                                    "1": "2007-10-01 00:00:00.000",
                                    "2": "72",
                                    "3": "1525"
                                },
                                {
                                    "0": "25",
                                    "1": "2007-12-01 00:00:00.000",
                                    "2": "34",
                                    "3": "1525"
                                },
                                {
                                    "0": "25",
                                    "1": "2008-01-01 00:00:00.000",
                                    "2": "105",
                                    "3": "1525"
                                },
                                {
                                    "0": "25",
                                    "1": "2008-03-01 00:00:00.000",
                                    "2": "124",
                                    "3": "1525"
                                },
                                {
                                    "0": "25",
                                    "1": "2008-04-01 00:00:00.000",
                                    "2": "146",
                                    "3": "1525"
                                },
                                {
                                    "0": "26",
                                    "1": "2007-09-01 00:00:00.000",
                                    "2": "32",
                                    "3": "69"
                                },
                                {
                                    "0": "26",
                                    "1": "2008-01-01 00:00:00.000",
                                    "2": "23",
                                    "3": "69"
                                },
                                {
                                    "0": "26",
                                    "1": "2008-03-01 00:00:00.000",
                                    "2": "14",
                                    "3": "69"
                                },
                                {
                                    "0": "27",
                                    "1": "2007-01-01 00:00:00.000",
                                    "2": "2",
                                    "3": "54"
                                },
                                {
                                    "0": "27",
                                    "1": "2007-10-01 00:00:00.000",
                                    "2": "10",
                                    "3": "54"
                                },
                                {
                                    "0": "27",
                                    "1": "2007-11-01 00:00:00.000",
                                    "2": "9",
                                    "3": "54"
                                },
                                {
                                    "0": "27",
                                    "1": "2007-12-01 00:00:00.000",
                                    "2": "1",
                                    "3": "54"
                                },
                                {
                                    "0": "27",
                                    "1": "2008-04-01 00:00:00.000",
                                    "2": "32",
                                    "3": "54"
                                },
                                {
                                    "0": "28",
                                    "1": "2006-10-01 00:00:00.000",
                                    "2": "59",
                                    "3": "349"
                                },
                                {
                                    "0": "28",
                                    "1": "2006-11-01 00:00:00.000",
                                    "2": "30",
                                    "3": "349"
                                },
                                {
                                    "0": "28",
                                    "1": "2007-03-01 00:00:00.000",
                                    "2": "91",
                                    "3": "349"
                                },
                                {
                                    "0": "28",
                                    "1": "2007-05-01 00:00:00.000",
                                    "2": "100",
                                    "3": "349"
                                },
                                {
                                    "0": "28",
                                    "1": "2007-07-01 00:00:00.000",
                                    "2": "16",
                                    "3": "349"
                                },
                                {
                                    "0": "28",
                                    "1": "2007-09-01 00:00:00.000",
                                    "2": "51",
                                    "3": "349"
                                },
                                {
                                    "0": "28",
                                    "1": "2008-03-01 00:00:00.000",
                                    "2": "2",
                                    "3": "349"
                                },
                                {
                                    "0": "29",
                                    "1": "2006-11-01 00:00:00.000",
                                    "2": "10",
                                    "3": "42"
                                },
                                {
                                    "0": "29",
                                    "1": "2007-01-01 00:00:00.000",
                                    "2": "12",
                                    "3": "42"
                                },
                                {
                                    "0": "29",
                                    "1": "2007-06-01 00:00:00.000",
                                    "2": "5",
                                    "3": "42"
                                },
                                {
                                    "0": "29",
                                    "1": "2008-02-01 00:00:00.000",
                                    "2": "5",
                                    "3": "42"
                                },
                                {
                                    "0": "29",
                                    "1": "2008-03-01 00:00:00.000",
                                    "2": "10",
                                    "3": "42"
                                },
                                {
                                    "0": "30",
                                    "1": "2006-09-01 00:00:00.000",
                                    "2": "85",
                                    "3": "395"
                                },
                                {
                                    "0": "30",
                                    "1": "2007-05-01 00:00:00.000",
                                    "2": "34",
                                    "3": "395"
                                },
                                {
                                    "0": "30",
                                    "1": "2007-08-01 00:00:00.000",
                                    "2": "29",
                                    "3": "395"
                                },
                                {
                                    "0": "30",
                                    "1": "2008-02-01 00:00:00.000",
                                    "2": "151",
                                    "3": "395"
                                },
                                {
                                    "0": "30",
                                    "1": "2008-03-01 00:00:00.000",
                                    "2": "53",
                                    "3": "395"
                                },
                                {
                                    "0": "30",
                                    "1": "2008-04-01 00:00:00.000",
                                    "2": "43",
                                    "3": "395"
                                },
                                {
                                    "0": "31",
                                    "1": "2007-01-01 00:00:00.000",
                                    "2": "34",
                                    "3": "315"
                                },
                                {
                                    "0": "31",
                                    "1": "2007-09-01 00:00:00.000",
                                    "2": "61",
                                    "3": "315"
                                },
                                {
                                    "0": "31",
                                    "1": "2007-10-01 00:00:00.000",
                                    "2": "78",
                                    "3": "315"
                                },
                                {
                                    "0": "31",
                                    "1": "2007-11-01 00:00:00.000",
                                    "2": "65",
                                    "3": "315"
                                },
                                {
                                    "0": "31",
                                    "1": "2007-12-01 00:00:00.000",
                                    "2": "43",
                                    "3": "315"
                                },
                                {
                                    "0": "31",
                                    "1": "2008-03-01 00:00:00.000",
                                    "2": "20",
                                    "3": "315"
                                },
                                {
                                    "0": "31",
                                    "1": "2008-04-01 00:00:00.000",
                                    "2": "14",
                                    "3": "315"
                                },
                                {
                                    "0": "32",
                                    "1": "2007-05-01 00:00:00.000",
                                    "2": "20",
                                    "3": "345"
                                },
                                {
                                    "0": "32",
                                    "1": "2007-07-01 00:00:00.000",
                                    "2": "93",
                                    "3": "345"
                                },
                                {
                                    "0": "32",
                                    "1": "2007-09-01 00:00:00.000",
                                    "2": "107",
                                    "3": "345"
                                },
                                {
                                    "0": "32",
                                    "1": "2008-01-01 00:00:00.000",
                                    "2": "50",
                                    "3": "345"
                                },
                                {
                                    "0": "32",
                                    "1": "2008-03-01 00:00:00.000",
                                    "2": "30",
                                    "3": "345"
                                },
                                {
                                    "0": "32",
                                    "1": "2008-04-01 00:00:00.000",
                                    "2": "45",
                                    "3": "345"
                                },
                                {
                                    "0": "33",
                                    "1": "2006-07-01 00:00:00.000",
                                    "2": "14",
                                    "3": "34"
                                },
                                {
                                    "0": "33",
                                    "1": "2007-12-01 00:00:00.000",
                                    "2": "20",
                                    "3": "34"
                                },
                                {
                                    "0": "34",
                                    "1": "2006-07-01 00:00:00.000",
                                    "2": "162",
                                    "3": "839"
                                },
                                {
                                    "0": "34",
                                    "1": "2007-05-01 00:00:00.000",
                                    "2": "84",
                                    "3": "839"
                                },
                                {
                                    "0": "34",
                                    "1": "2007-08-01 00:00:00.000",
                                    "2": "35",
                                    "3": "839"
                                },
                                {
                                    "0": "34",
                                    "1": "2007-10-01 00:00:00.000",
                                    "2": "50",
                                    "3": "839"
                                },
                                {
                                    "0": "34",
                                    "1": "2007-12-01 00:00:00.000",
                                    "2": "30",
                                    "3": "839"
                                },
                                {
                                    "0": "34",
                                    "1": "2008-02-01 00:00:00.000",
                                    "2": "226",
                                    "3": "839"
                                },
                                {
                                    "0": "34",
                                    "1": "2008-03-01 00:00:00.000",
                                    "2": "147",
                                    "3": "839"
                                },
                                {
                                    "0": "34",
                                    "1": "2008-04-01 00:00:00.000",
                                    "2": "105",
                                    "3": "839"
                                },
                                {
                                    "0": "35",
                                    "1": "2006-07-01 00:00:00.000",
                                    "2": "46",
                                    "3": "1096"
                                },
                                {
                                    "0": "35",
                                    "1": "2006-12-01 00:00:00.000",
                                    "2": "106",
                                    "3": "1096"
                                },
                                {
                                    "0": "35",
                                    "1": "2007-03-01 00:00:00.000",
                                    "2": "186",
                                    "3": "1096"
                                },
                                {
                                    "0": "35",
                                    "1": "2007-04-01 00:00:00.000",
                                    "2": "49",
                                    "3": "1096"
                                },
                                {
                                    "0": "35",
                                    "1": "2007-05-01 00:00:00.000",
                                    "2": "48",
                                    "3": "1096"
                                },
                                {
                                    "0": "35",
                                    "1": "2007-07-01 00:00:00.000",
                                    "2": "143",
                                    "3": "1096"
                                },
                                {
                                    "0": "35",
                                    "1": "2007-08-01 00:00:00.000",
                                    "2": "110",
                                    "3": "1096"
                                },
                                {
                                    "0": "35",
                                    "1": "2007-10-01 00:00:00.000",
                                    "2": "24",
                                    "3": "1096"
                                },
                                {
                                    "0": "35",
                                    "1": "2007-12-01 00:00:00.000",
                                    "2": "90",
                                    "3": "1096"
                                },
                                {
                                    "0": "35",
                                    "1": "2008-02-01 00:00:00.000",
                                    "2": "92",
                                    "3": "1096"
                                },
                                {
                                    "0": "35",
                                    "1": "2008-03-01 00:00:00.000",
                                    "2": "132",
                                    "3": "1096"
                                },
                                {
                                    "0": "35",
                                    "1": "2008-04-01 00:00:00.000",
                                    "2": "70",
                                    "3": "1096"
                                },
                                {
                                    "0": "36",
                                    "1": "2006-12-01 00:00:00.000",
                                    "2": "45",
                                    "3": "122"
                                },
                                {
                                    "0": "36",
                                    "1": "2007-01-01 00:00:00.000",
                                    "2": "22",
                                    "3": "122"
                                },
                                {
                                    "0": "36",
                                    "1": "2007-07-01 00:00:00.000",
                                    "2": "34",
                                    "3": "122"
                                },
                                {
                                    "0": "36",
                                    "1": "2007-09-01 00:00:00.000",
                                    "2": "21",
                                    "3": "122"
                                },
                                {
                                    "0": "37",
                                    "1": "2006-09-01 00:00:00.000",
                                    "2": "200",
                                    "3": "1684"
                                },
                                {
                                    "0": "37",
                                    "1": "2006-10-01 00:00:00.000",
                                    "2": "86",
                                    "3": "1684"
                                },
                                {
                                    "0": "37",
                                    "1": "2006-12-01 00:00:00.000",
                                    "2": "204",
                                    "3": "1684"
                                },
                                {
                                    "0": "37",
                                    "1": "2007-01-01 00:00:00.000",
                                    "2": "75",
                                    "3": "1684"
                                },
                                {
                                    "0": "37",
                                    "1": "2007-04-01 00:00:00.000",
                                    "2": "215",
                                    "3": "1684"
                                },
                                {
                                    "0": "37",
                                    "1": "2007-06-01 00:00:00.000",
                                    "2": "103",
                                    "3": "1684"
                                },
                                {
                                    "0": "37",
                                    "1": "2007-08-01 00:00:00.000",
                                    "2": "98",
                                    "3": "1684"
                                },
                                {
                                    "0": "37",
                                    "1": "2007-09-01 00:00:00.000",
                                    "2": "118",
                                    "3": "1684"
                                },
                                {
                                    "0": "37",
                                    "1": "2007-10-01 00:00:00.000",
                                    "2": "130",
                                    "3": "1684"
                                },
                                {
                                    "0": "37",
                                    "1": "2007-11-01 00:00:00.000",
                                    "2": "60",
                                    "3": "1684"
                                },
                                {
                                    "0": "37",
                                    "1": "2008-02-01 00:00:00.000",
                                    "2": "216",
                                    "3": "1684"
                                },
                                {
                                    "0": "37",
                                    "1": "2008-03-01 00:00:00.000",
                                    "2": "79",
                                    "3": "1684"
                                },
                                {
                                    "0": "37",
                                    "1": "2008-04-01 00:00:00.000",
                                    "2": "100",
                                    "3": "1684"
                                },
                                {
                                    "0": "38",
                                    "1": "2006-09-01 00:00:00.000",
                                    "2": "44",
                                    "3": "295"
                                },
                                {
                                    "0": "38",
                                    "1": "2006-10-01 00:00:00.000",
                                    "2": "36",
                                    "3": "295"
                                },
                                {
                                    "0": "38",
                                    "1": "2007-03-01 00:00:00.000",
                                    "2": "24",
                                    "3": "295"
                                },
                                {
                                    "0": "38",
                                    "1": "2007-08-01 00:00:00.000",
                                    "2": "50",
                                    "3": "295"
                                },
                                {
                                    "0": "38",
                                    "1": "2007-09-01 00:00:00.000",
                                    "2": "5",
                                    "3": "295"
                                },
                                {
                                    "0": "38",
                                    "1": "2007-11-01 00:00:00.000",
                                    "2": "31",
                                    "3": "295"
                                },
                                {
                                    "0": "38",
                                    "1": "2007-12-01 00:00:00.000",
                                    "2": "12",
                                    "3": "295"
                                },
                                {
                                    "0": "38",
                                    "1": "2008-01-01 00:00:00.000",
                                    "2": "61",
                                    "3": "295"
                                },
                                {
                                    "0": "38",
                                    "1": "2008-03-01 00:00:00.000",
                                    "2": "32",
                                    "3": "295"
                                },
                                {
                                    "0": "39",
                                    "1": "2006-10-01 00:00:00.000",
                                    "2": "84",
                                    "3": "903"
                                },
                                {
                                    "0": "39",
                                    "1": "2007-02-01 00:00:00.000",
                                    "2": "97",
                                    "3": "903"
                                },
                                {
                                    "0": "39",
                                    "1": "2007-03-01 00:00:00.000",
                                    "2": "23",
                                    "3": "903"
                                },
                                {
                                    "0": "39",
                                    "1": "2007-04-01 00:00:00.000",
                                    "2": "32",
                                    "3": "903"
                                },
                                {
                                    "0": "39",
                                    "1": "2007-05-01 00:00:00.000",
                                    "2": "39",
                                    "3": "903"
                                },
                                {
                                    "0": "39",
                                    "1": "2007-08-01 00:00:00.000",
                                    "2": "47",
                                    "3": "903"
                                },
                                {
                                    "0": "39",
                                    "1": "2007-10-01 00:00:00.000",
                                    "2": "116",
                                    "3": "903"
                                },
                                {
                                    "0": "39",
                                    "1": "2007-12-01 00:00:00.000",
                                    "2": "65",
                                    "3": "903"
                                },
                                {
                                    "0": "39",
                                    "1": "2008-01-01 00:00:00.000",
                                    "2": "222",
                                    "3": "903"
                                },
                                {
                                    "0": "39",
                                    "1": "2008-02-01 00:00:00.000",
                                    "2": "119",
                                    "3": "903"
                                },
                                {
                                    "0": "39",
                                    "1": "2008-04-01 00:00:00.000",
                                    "2": "59",
                                    "3": "903"
                                },
                                {
                                    "0": "40",
                                    "1": "2008-01-01 00:00:00.000",
                                    "2": "19",
                                    "3": "83"
                                },
                                {
                                    "0": "40",
                                    "1": "2008-03-01 00:00:00.000",
                                    "2": "64",
                                    "3": "83"
                                },
                                {
                                    "0": "41",
                                    "1": "2006-11-01 00:00:00.000",
                                    "2": "73",
                                    "3": "442"
                                },
                                {
                                    "0": "41",
                                    "1": "2006-12-01 00:00:00.000",
                                    "2": "6",
                                    "3": "442"
                                },
                                {
                                    "0": "41",
                                    "1": "2007-01-01 00:00:00.000",
                                    "2": "108",
                                    "3": "442"
                                },
                                {
                                    "0": "41",
                                    "1": "2007-02-01 00:00:00.000",
                                    "2": "50",
                                    "3": "442"
                                },
                                {
                                    "0": "41",
                                    "1": "2007-04-01 00:00:00.000",
                                    "2": "55",
                                    "3": "442"
                                },
                                {
                                    "0": "41",
                                    "1": "2007-07-01 00:00:00.000",
                                    "2": "21",
                                    "3": "442"
                                },
                                {
                                    "0": "41",
                                    "1": "2007-08-01 00:00:00.000",
                                    "2": "8",
                                    "3": "442"
                                },
                                {
                                    "0": "41",
                                    "1": "2007-12-01 00:00:00.000",
                                    "2": "35",
                                    "3": "442"
                                },
                                {
                                    "0": "41",
                                    "1": "2008-01-01 00:00:00.000",
                                    "2": "32",
                                    "3": "442"
                                },
                                {
                                    "0": "41",
                                    "1": "2008-03-01 00:00:00.000",
                                    "2": "44",
                                    "3": "442"
                                },
                                {
                                    "0": "41",
                                    "1": "2008-04-01 00:00:00.000",
                                    "2": "10",
                                    "3": "442"
                                },
                                {
                                    "0": "42",
                                    "1": "2007-04-01 00:00:00.000",
                                    "2": "35",
                                    "3": "62"
                                },
                                {
                                    "0": "42",
                                    "1": "2007-08-01 00:00:00.000",
                                    "2": "10",
                                    "3": "62"
                                },
                                {
                                    "0": "42",
                                    "1": "2008-01-01 00:00:00.000",
                                    "2": "17",
                                    "3": "62"
                                },
                                {
                                    "0": "43",
                                    "1": "2007-03-01 00:00:00.000",
                                    "2": "10",
                                    "3": "20"
                                },
                                {
                                    "0": "43",
                                    "1": "2007-05-01 00:00:00.000",
                                    "2": "10",
                                    "3": "20"
                                },
                                {
                                    "0": "44",
                                    "1": "2006-08-01 00:00:00.000",
                                    "2": "76",
                                    "3": "794"
                                },
                                {
                                    "0": "44",
                                    "1": "2006-10-01 00:00:00.000",
                                    "2": "69",
                                    "3": "794"
                                },
                                {
                                    "0": "44",
                                    "1": "2007-04-01 00:00:00.000",
                                    "2": "173",
                                    "3": "794"
                                },
                                {
                                    "0": "44",
                                    "1": "2007-05-01 00:00:00.000",
                                    "2": "130",
                                    "3": "794"
                                },
                                {
                                    "0": "44",
                                    "1": "2007-06-01 00:00:00.000",
                                    "2": "50",
                                    "3": "794"
                                },
                                {
                                    "0": "44",
                                    "1": "2007-07-01 00:00:00.000",
                                    "2": "75",
                                    "3": "794"
                                },
                                {
                                    "0": "44",
                                    "1": "2007-12-01 00:00:00.000",
                                    "2": "43",
                                    "3": "794"
                                },
                                {
                                    "0": "44",
                                    "1": "2008-01-01 00:00:00.000",
                                    "2": "33",
                                    "3": "794"
                                },
                                {
                                    "0": "44",
                                    "1": "2008-02-01 00:00:00.000",
                                    "2": "15",
                                    "3": "794"
                                },
                                {
                                    "0": "44",
                                    "1": "2008-03-01 00:00:00.000",
                                    "2": "20",
                                    "3": "794"
                                },
                                {
                                    "0": "44",
                                    "1": "2008-05-01 00:00:00.000",
                                    "2": "110",
                                    "3": "794"
                                },
                                {
                                    "0": "45",
                                    "1": "2007-06-01 00:00:00.000",
                                    "2": "31",
                                    "3": "181"
                                },
                                {
                                    "0": "45",
                                    "1": "2007-10-01 00:00:00.000",
                                    "2": "55",
                                    "3": "181"
                                },
                                {
                                    "0": "45",
                                    "1": "2007-11-01 00:00:00.000",
                                    "2": "22",
                                    "3": "181"
                                },
                                {
                                    "0": "45",
                                    "1": "2008-02-01 00:00:00.000",
                                    "2": "73",
                                    "3": "181"
                                },
                                {
                                    "0": "46",
                                    "1": "2006-08-01 00:00:00.000",
                                    "2": "76",
                                    "3": "836"
                                },
                                {
                                    "0": "46",
                                    "1": "2006-09-01 00:00:00.000",
                                    "2": "57",
                                    "3": "836"
                                },
                                {
                                    "0": "46",
                                    "1": "2006-10-01 00:00:00.000",
                                    "2": "75",
                                    "3": "836"
                                },
                                {
                                    "0": "46",
                                    "1": "2006-11-01 00:00:00.000",
                                    "2": "54",
                                    "3": "836"
                                },
                                {
                                    "0": "46",
                                    "1": "2006-12-01 00:00:00.000",
                                    "2": "14",
                                    "3": "836"
                                },
                                {
                                    "0": "46",
                                    "1": "2007-02-01 00:00:00.000",
                                    "2": "128",
                                    "3": "836"
                                },
                                {
                                    "0": "46",
                                    "1": "2007-04-01 00:00:00.000",
                                    "2": "45",
                                    "3": "836"
                                },
                                {
                                    "0": "46",
                                    "1": "2007-05-01 00:00:00.000",
                                    "2": "100",
                                    "3": "836"
                                },
                                {
                                    "0": "46",
                                    "1": "2007-12-01 00:00:00.000",
                                    "2": "50",
                                    "3": "836"
                                },
                                {
                                    "0": "46",
                                    "1": "2008-01-01 00:00:00.000",
                                    "2": "90",
                                    "3": "836"
                                },
                                {
                                    "0": "46",
                                    "1": "2008-02-01 00:00:00.000",
                                    "2": "8",
                                    "3": "836"
                                },
                                {
                                    "0": "46",
                                    "1": "2008-04-01 00:00:00.000",
                                    "2": "90",
                                    "3": "836"
                                },
                                {
                                    "0": "46",
                                    "1": "2008-05-01 00:00:00.000",
                                    "2": "49",
                                    "3": "836"
                                },
                                {
                                    "0": "47",
                                    "1": "2007-01-01 00:00:00.000",
                                    "2": "50",
                                    "3": "970"
                                },
                                {
                                    "0": "47",
                                    "1": "2007-03-01 00:00:00.000",
                                    "2": "130",
                                    "3": "970"
                                },
                                {
                                    "0": "47",
                                    "1": "2007-08-01 00:00:00.000",
                                    "2": "101",
                                    "3": "970"
                                },
                                {
                                    "0": "47",
                                    "1": "2007-10-01 00:00:00.000",
                                    "2": "76",
                                    "3": "970"
                                },
                                {
                                    "0": "47",
                                    "1": "2007-11-01 00:00:00.000",
                                    "2": "120",
                                    "3": "970"
                                },
                                {
                                    "0": "47",
                                    "1": "2008-01-01 00:00:00.000",
                                    "2": "158",
                                    "3": "970"
                                },
                                {
                                    "0": "47",
                                    "1": "2008-03-01 00:00:00.000",
                                    "2": "175",
                                    "3": "970"
                                },
                                {
                                    "0": "47",
                                    "1": "2008-04-01 00:00:00.000",
                                    "2": "160",
                                    "3": "970"
                                },
                                {
                                    "0": "48",
                                    "1": "2006-09-01 00:00:00.000",
                                    "2": "33",
                                    "3": "134"
                                },
                                {
                                    "0": "48",
                                    "1": "2007-05-01 00:00:00.000",
                                    "2": "14",
                                    "3": "134"
                                },
                                {
                                    "0": "48",
                                    "1": "2007-09-01 00:00:00.000",
                                    "2": "41",
                                    "3": "134"
                                },
                                {
                                    "0": "48",
                                    "1": "2008-02-01 00:00:00.000",
                                    "2": "11",
                                    "3": "134"
                                },
                                {
                                    "0": "48",
                                    "1": "2008-04-01 00:00:00.000",
                                    "2": "35",
                                    "3": "134"
                                },
                                {
                                    "0": "49",
                                    "1": "2006-08-01 00:00:00.000",
                                    "2": "18",
                                    "3": "433"
                                },
                                {
                                    "0": "49",
                                    "1": "2006-09-01 00:00:00.000",
                                    "2": "50",
                                    "3": "433"
                                },
                                {
                                    "0": "49",
                                    "1": "2007-01-01 00:00:00.000",
                                    "2": "100",
                                    "3": "433"
                                },
                                {
                                    "0": "49",
                                    "1": "2007-03-01 00:00:00.000",
                                    "2": "40",
                                    "3": "433"
                                },
                                {
                                    "0": "49",
                                    "1": "2007-08-01 00:00:00.000",
                                    "2": "65",
                                    "3": "433"
                                },
                                {
                                    "0": "49",
                                    "1": "2007-11-01 00:00:00.000",
                                    "2": "3",
                                    "3": "433"
                                },
                                {
                                    "0": "49",
                                    "1": "2007-12-01 00:00:00.000",
                                    "2": "62",
                                    "3": "433"
                                },
                                {
                                    "0": "49",
                                    "1": "2008-01-01 00:00:00.000",
                                    "2": "40",
                                    "3": "433"
                                },
                                {
                                    "0": "49",
                                    "1": "2008-03-01 00:00:00.000",
                                    "2": "55",
                                    "3": "433"
                                },
                                {
                                    "0": "50",
                                    "1": "2007-05-01 00:00:00.000",
                                    "2": "44",
                                    "3": "320"
                                },
                                {
                                    "0": "50",
                                    "1": "2007-08-01 00:00:00.000",
                                    "2": "35",
                                    "3": "320"
                                },
                                {
                                    "0": "50",
                                    "1": "2007-12-01 00:00:00.000",
                                    "2": "82",
                                    "3": "320"
                                },
                                {
                                    "0": "50",
                                    "1": "2008-02-01 00:00:00.000",
                                    "2": "71",
                                    "3": "320"
                                },
                                {
                                    "0": "50",
                                    "1": "2008-03-01 00:00:00.000",
                                    "2": "76",
                                    "3": "320"
                                },
                                {
                                    "0": "50",
                                    "1": "2008-04-01 00:00:00.000",
                                    "2": "12",
                                    "3": "320"
                                },
                                {
                                    "0": "51",
                                    "1": "2006-10-01 00:00:00.000",
                                    "2": "174",
                                    "3": "966"
                                },
                                {
                                    "0": "51",
                                    "1": "2006-12-01 00:00:00.000",
                                    "2": "42",
                                    "3": "966"
                                },
                                {
                                    "0": "51",
                                    "1": "2007-01-01 00:00:00.000",
                                    "2": "139",
                                    "3": "966"
                                },
                                {
                                    "0": "51",
                                    "1": "2007-02-01 00:00:00.000",
                                    "2": "67",
                                    "3": "966"
                                },
                                {
                                    "0": "51",
                                    "1": "2007-04-01 00:00:00.000",
                                    "2": "3",
                                    "3": "966"
                                },
                                {
                                    "0": "51",
                                    "1": "2007-06-01 00:00:00.000",
                                    "2": "118",
                                    "3": "966"
                                },
                                {
                                    "0": "51",
                                    "1": "2007-07-01 00:00:00.000",
                                    "2": "215",
                                    "3": "966"
                                },
                                {
                                    "0": "51",
                                    "1": "2007-08-01 00:00:00.000",
                                    "2": "187",
                                    "3": "966"
                                },
                                {
                                    "0": "51",
                                    "1": "2007-10-01 00:00:00.000",
                                    "2": "21",
                                    "3": "966"
                                },
                                {
                                    "0": "52",
                                    "1": "2006-08-01 00:00:00.000",
                                    "2": "32",
                                    "3": "172"
                                },
                                {
                                    "0": "52",
                                    "1": "2007-06-01 00:00:00.000",
                                    "2": "58",
                                    "3": "172"
                                },
                                {
                                    "0": "52",
                                    "1": "2007-10-01 00:00:00.000",
                                    "2": "12",
                                    "3": "172"
                                },
                                {
                                    "0": "52",
                                    "1": "2007-12-01 00:00:00.000",
                                    "2": "40",
                                    "3": "172"
                                },
                                {
                                    "0": "52",
                                    "1": "2008-03-01 00:00:00.000",
                                    "2": "30",
                                    "3": "172"
                                },
                                {
                                    "0": "53",
                                    "1": "2007-04-01 00:00:00.000",
                                    "2": "16",
                                    "3": "30"
                                },
                                {
                                    "0": "53",
                                    "1": "2007-11-01 00:00:00.000",
                                    "2": "11",
                                    "3": "30"
                                },
                                {
                                    "0": "53",
                                    "1": "2008-04-01 00:00:00.000",
                                    "2": "3",
                                    "3": "30"
                                },
                                {
                                    "0": "54",
                                    "1": "2007-01-01 00:00:00.000",
                                    "2": "24",
                                    "3": "132"
                                },
                                {
                                    "0": "54",
                                    "1": "2007-05-01 00:00:00.000",
                                    "2": "2",
                                    "3": "132"
                                },
                                {
                                    "0": "54",
                                    "1": "2008-02-01 00:00:00.000",
                                    "2": "5",
                                    "3": "132"
                                },
                                {
                                    "0": "54",
                                    "1": "2008-03-01 00:00:00.000",
                                    "2": "101",
                                    "3": "132"
                                },
                                {
                                    "0": "55",
                                    "1": "2006-09-01 00:00:00.000",
                                    "2": "80",
                                    "3": "603"
                                },
                                {
                                    "0": "55",
                                    "1": "2006-10-01 00:00:00.000",
                                    "2": "35",
                                    "3": "603"
                                },
                                {
                                    "0": "55",
                                    "1": "2007-02-01 00:00:00.000",
                                    "2": "50",
                                    "3": "603"
                                },
                                {
                                    "0": "55",
                                    "1": "2007-07-01 00:00:00.000",
                                    "2": "54",
                                    "3": "603"
                                },
                                {
                                    "0": "55",
                                    "1": "2007-09-01 00:00:00.000",
                                    "2": "110",
                                    "3": "603"
                                },
                                {
                                    "0": "55",
                                    "1": "2007-10-01 00:00:00.000",
                                    "2": "52",
                                    "3": "603"
                                },
                                {
                                    "0": "55",
                                    "1": "2008-01-01 00:00:00.000",
                                    "2": "173",
                                    "3": "603"
                                },
                                {
                                    "0": "55",
                                    "1": "2008-03-01 00:00:00.000",
                                    "2": "16",
                                    "3": "603"
                                },
                                {
                                    "0": "55",
                                    "1": "2008-04-01 00:00:00.000",
                                    "2": "33",
                                    "3": "603"
                                },
                                {
                                    "0": "56",
                                    "1": "2006-07-01 00:00:00.000",
                                    "2": "102",
                                    "3": "639"
                                },
                                {
                                    "0": "56",
                                    "1": "2007-01-01 00:00:00.000",
                                    "2": "60",
                                    "3": "639"
                                },
                                {
                                    "0": "56",
                                    "1": "2007-04-01 00:00:00.000",
                                    "2": "20",
                                    "3": "639"
                                },
                                {
                                    "0": "56",
                                    "1": "2007-05-01 00:00:00.000",
                                    "2": "80",
                                    "3": "639"
                                },
                                {
                                    "0": "56",
                                    "1": "2007-06-01 00:00:00.000",
                                    "2": "54",
                                    "3": "639"
                                },
                                {
                                    "0": "56",
                                    "1": "2007-09-01 00:00:00.000",
                                    "2": "90",
                                    "3": "639"
                                },
                                {
                                    "0": "56",
                                    "1": "2007-12-01 00:00:00.000",
                                    "2": "115",
                                    "3": "639"
                                },
                                {
                                    "0": "56",
                                    "1": "2008-01-01 00:00:00.000",
                                    "2": "38",
                                    "3": "639"
                                },
                                {
                                    "0": "56",
                                    "1": "2008-04-01 00:00:00.000",
                                    "2": "80",
                                    "3": "639"
                                },
                                {
                                    "0": "58",
                                    "1": "2006-10-01 00:00:00.000",
                                    "2": "20",
                                    "3": "208"
                                },
                                {
                                    "0": "58",
                                    "1": "2006-11-01 00:00:00.000",
                                    "2": "16",
                                    "3": "208"
                                },
                                {
                                    "0": "58",
                                    "1": "2007-03-01 00:00:00.000",
                                    "2": "61",
                                    "3": "208"
                                },
                                {
                                    "0": "58",
                                    "1": "2007-04-01 00:00:00.000",
                                    "2": "57",
                                    "3": "208"
                                },
                                {
                                    "0": "58",
                                    "1": "2008-04-01 00:00:00.000",
                                    "2": "24",
                                    "3": "208"
                                },
                                {
                                    "0": "58",
                                    "1": "2008-05-01 00:00:00.000",
                                    "2": "30",
                                    "3": "208"
                                },
                                {
                                    "0": "59",
                                    "1": "2006-11-01 00:00:00.000",
                                    "2": "62",
                                    "3": "624"
                                },
                                {
                                    "0": "59",
                                    "1": "2006-12-01 00:00:00.000",
                                    "2": "50",
                                    "3": "624"
                                },
                                {
                                    "0": "59",
                                    "1": "2007-01-01 00:00:00.000",
                                    "2": "35",
                                    "3": "624"
                                },
                                {
                                    "0": "59",
                                    "1": "2007-03-01 00:00:00.000",
                                    "2": "33",
                                    "3": "624"
                                },
                                {
                                    "0": "59",
                                    "1": "2007-05-01 00:00:00.000",
                                    "2": "135",
                                    "3": "624"
                                },
                                {
                                    "0": "59",
                                    "1": "2007-07-01 00:00:00.000",
                                    "2": "67",
                                    "3": "624"
                                },
                                {
                                    "0": "59",
                                    "1": "2007-09-01 00:00:00.000",
                                    "2": "45",
                                    "3": "624"
                                },
                                {
                                    "0": "59",
                                    "1": "2007-11-01 00:00:00.000",
                                    "2": "82",
                                    "3": "624"
                                },
                                {
                                    "0": "59",
                                    "1": "2008-01-01 00:00:00.000",
                                    "2": "35",
                                    "3": "624"
                                },
                                {
                                    "0": "59",
                                    "1": "2008-04-01 00:00:00.000",
                                    "2": "80",
                                    "3": "624"
                                },
                                {
                                    "0": "60",
                                    "1": "2006-10-01 00:00:00.000",
                                    "2": "18",
                                    "3": "184"
                                },
                                {
                                    "0": "60",
                                    "1": "2006-12-01 00:00:00.000",
                                    "2": "28",
                                    "3": "184"
                                },
                                {
                                    "0": "60",
                                    "1": "2007-02-01 00:00:00.000",
                                    "2": "28",
                                    "3": "184"
                                },
                                {
                                    "0": "60",
                                    "1": "2007-03-01 00:00:00.000",
                                    "2": "56",
                                    "3": "184"
                                },
                                {
                                    "0": "60",
                                    "1": "2008-04-01 00:00:00.000",
                                    "2": "54",
                                    "3": "184"
                                },
                                {
                                    "0": "61",
                                    "1": "2006-07-01 00:00:00.000",
                                    "2": "40",
                                    "3": "394"
                                },
                                {
                                    "0": "61",
                                    "1": "2006-08-01 00:00:00.000",
                                    "2": "46",
                                    "3": "394"
                                },
                                {
                                    "0": "61",
                                    "1": "2006-12-01 00:00:00.000",
                                    "2": "44",
                                    "3": "394"
                                },
                                {
                                    "0": "61",
                                    "1": "2007-01-01 00:00:00.000",
                                    "2": "59",
                                    "3": "394"
                                },
                                {
                                    "0": "61",
                                    "1": "2007-07-01 00:00:00.000",
                                    "2": "46",
                                    "3": "394"
                                },
                                {
                                    "0": "61",
                                    "1": "2007-08-01 00:00:00.000",
                                    "2": "50",
                                    "3": "394"
                                },
                                {
                                    "0": "61",
                                    "1": "2007-10-01 00:00:00.000",
                                    "2": "29",
                                    "3": "394"
                                },
                                {
                                    "0": "61",
                                    "1": "2007-12-01 00:00:00.000",
                                    "2": "21",
                                    "3": "394"
                                },
                                {
                                    "0": "61",
                                    "1": "2008-03-01 00:00:00.000",
                                    "2": "59",
                                    "3": "394"
                                },
                                {
                                    "0": "62",
                                    "1": "2006-12-01 00:00:00.000",
                                    "2": "164",
                                    "3": "1031"
                                },
                                {
                                    "0": "62",
                                    "1": "2007-01-01 00:00:00.000",
                                    "2": "89",
                                    "3": "1031"
                                },
                                {
                                    "0": "62",
                                    "1": "2007-03-01 00:00:00.000",
                                    "2": "59",
                                    "3": "1031"
                                },
                                {
                                    "0": "62",
                                    "1": "2007-08-01 00:00:00.000",
                                    "2": "95",
                                    "3": "1031"
                                },
                                {
                                    "0": "62",
                                    "1": "2007-09-01 00:00:00.000",
                                    "2": "84",
                                    "3": "1031"
                                },
                                {
                                    "0": "62",
                                    "1": "2007-10-01 00:00:00.000",
                                    "2": "65",
                                    "3": "1031"
                                },
                                {
                                    "0": "62",
                                    "1": "2007-11-01 00:00:00.000",
                                    "2": "48",
                                    "3": "1031"
                                },
                                {
                                    "0": "62",
                                    "1": "2007-12-01 00:00:00.000",
                                    "2": "87",
                                    "3": "1031"
                                },
                                {
                                    "0": "62",
                                    "1": "2008-02-01 00:00:00.000",
                                    "2": "202",
                                    "3": "1031"
                                },
                                {
                                    "0": "62",
                                    "1": "2008-03-01 00:00:00.000",
                                    "2": "66",
                                    "3": "1031"
                                },
                                {
                                    "0": "62",
                                    "1": "2008-05-01 00:00:00.000",
                                    "2": "72",
                                    "3": "1031"
                                },
                                {
                                    "0": "63",
                                    "1": "2006-08-01 00:00:00.000",
                                    "2": "413",
                                    "3": "3961"
                                },
                                {
                                    "0": "63",
                                    "1": "2006-09-01 00:00:00.000",
                                    "2": "12",
                                    "3": "3961"
                                },
                                {
                                    "0": "63",
                                    "1": "2006-11-01 00:00:00.000",
                                    "2": "268",
                                    "3": "3961"
                                },
                                {
                                    "0": "63",
                                    "1": "2007-01-01 00:00:00.000",
                                    "2": "146",
                                    "3": "3961"
                                },
                                {
                                    "0": "63",
                                    "1": "2007-02-01 00:00:00.000",
                                    "2": "238",
                                    "3": "3961"
                                },
                                {
                                    "0": "63",
                                    "1": "2007-04-01 00:00:00.000",
                                    "2": "286",
                                    "3": "3961"
                                },
                                {
                                    "0": "63",
                                    "1": "2007-05-01 00:00:00.000",
                                    "2": "448",
                                    "3": "3961"
                                },
                                {
                                    "0": "63",
                                    "1": "2007-07-01 00:00:00.000",
                                    "2": "140",
                                    "3": "3961"
                                },
                                {
                                    "0": "63",
                                    "1": "2007-09-01 00:00:00.000",
                                    "2": "255",
                                    "3": "3961"
                                },
                                {
                                    "0": "63",
                                    "1": "2007-10-01 00:00:00.000",
                                    "2": "397",
                                    "3": "3961"
                                },
                                {
                                    "0": "63",
                                    "1": "2007-11-01 00:00:00.000",
                                    "2": "92",
                                    "3": "3961"
                                },
                                {
                                    "0": "63",
                                    "1": "2007-12-01 00:00:00.000",
                                    "2": "170",
                                    "3": "3961"
                                },
                                {
                                    "0": "63",
                                    "1": "2008-01-01 00:00:00.000",
                                    "2": "245",
                                    "3": "3961"
                                },
                                {
                                    "0": "63",
                                    "1": "2008-02-01 00:00:00.000",
                                    "2": "160",
                                    "3": "3961"
                                },
                                {
                                    "0": "63",
                                    "1": "2008-03-01 00:00:00.000",
                                    "2": "323",
                                    "3": "3961"
                                },
                                {
                                    "0": "63",
                                    "1": "2008-04-01 00:00:00.000",
                                    "2": "368",
                                    "3": "3961"
                                },
                                {
                                    "0": "64",
                                    "1": "2007-02-01 00:00:00.000",
                                    "2": "26",
                                    "3": "92"
                                },
                                {
                                    "0": "64",
                                    "1": "2007-10-01 00:00:00.000",
                                    "2": "22",
                                    "3": "92"
                                },
                                {
                                    "0": "64",
                                    "1": "2008-01-01 00:00:00.000",
                                    "2": "7",
                                    "3": "92"
                                },
                                {
                                    "0": "64",
                                    "1": "2008-02-01 00:00:00.000",
                                    "2": "32",
                                    "3": "92"
                                },
                                {
                                    "0": "64",
                                    "1": "2008-04-01 00:00:00.000",
                                    "2": "5",
                                    "3": "92"
                                },
                                {
                                    "0": "65",
                                    "1": "2006-07-01 00:00:00.000",
                                    "2": "29",
                                    "3": "1383"
                                },
                                {
                                    "0": "65",
                                    "1": "2006-08-01 00:00:00.000",
                                    "2": "145",
                                    "3": "1383"
                                },
                                {
                                    "0": "65",
                                    "1": "2006-09-01 00:00:00.000",
                                    "2": "175",
                                    "3": "1383"
                                },
                                {
                                    "0": "65",
                                    "1": "2006-11-01 00:00:00.000",
                                    "2": "56",
                                    "3": "1383"
                                },
                                {
                                    "0": "65",
                                    "1": "2007-01-01 00:00:00.000",
                                    "2": "168",
                                    "3": "1383"
                                },
                                {
                                    "0": "65",
                                    "1": "2007-03-01 00:00:00.000",
                                    "2": "148",
                                    "3": "1383"
                                },
                                {
                                    "0": "65",
                                    "1": "2007-06-01 00:00:00.000",
                                    "2": "112",
                                    "3": "1383"
                                },
                                {
                                    "0": "65",
                                    "1": "2007-07-01 00:00:00.000",
                                    "2": "59",
                                    "3": "1383"
                                },
                                {
                                    "0": "65",
                                    "1": "2007-12-01 00:00:00.000",
                                    "2": "53",
                                    "3": "1383"
                                },
                                {
                                    "0": "65",
                                    "1": "2008-01-01 00:00:00.000",
                                    "2": "101",
                                    "3": "1383"
                                },
                                {
                                    "0": "65",
                                    "1": "2008-02-01 00:00:00.000",
                                    "2": "80",
                                    "3": "1383"
                                },
                                {
                                    "0": "65",
                                    "1": "2008-03-01 00:00:00.000",
                                    "2": "100",
                                    "3": "1383"
                                },
                                {
                                    "0": "65",
                                    "1": "2008-04-01 00:00:00.000",
                                    "2": "85",
                                    "3": "1383"
                                },
                                {
                                    "0": "65",
                                    "1": "2008-05-01 00:00:00.000",
                                    "2": "72",
                                    "3": "1383"
                                },
                                {
                                    "0": "66",
                                    "1": "2006-08-01 00:00:00.000",
                                    "2": "13",
                                    "3": "335"
                                },
                                {
                                    "0": "66",
                                    "1": "2007-01-01 00:00:00.000",
                                    "2": "20",
                                    "3": "335"
                                },
                                {
                                    "0": "66",
                                    "1": "2007-02-01 00:00:00.000",
                                    "2": "18",
                                    "3": "335"
                                },
                                {
                                    "0": "66",
                                    "1": "2007-06-01 00:00:00.000",
                                    "2": "30",
                                    "3": "335"
                                },
                                {
                                    "0": "66",
                                    "1": "2007-07-01 00:00:00.000",
                                    "2": "4",
                                    "3": "335"
                                },
                                {
                                    "0": "66",
                                    "1": "2007-09-01 00:00:00.000",
                                    "2": "20",
                                    "3": "335"
                                },
                                {
                                    "0": "66",
                                    "1": "2007-11-01 00:00:00.000",
                                    "2": "40",
                                    "3": "335"
                                },
                                {
                                    "0": "66",
                                    "1": "2008-01-01 00:00:00.000",
                                    "2": "76",
                                    "3": "335"
                                },
                                {
                                    "0": "66",
                                    "1": "2008-02-01 00:00:00.000",
                                    "2": "34",
                                    "3": "335"
                                },
                                {
                                    "0": "66",
                                    "1": "2008-03-01 00:00:00.000",
                                    "2": "28",
                                    "3": "335"
                                },
                                {
                                    "0": "66",
                                    "1": "2008-04-01 00:00:00.000",
                                    "2": "52",
                                    "3": "335"
                                },
                                {
                                    "0": "67",
                                    "1": "2006-08-01 00:00:00.000",
                                    "2": "75",
                                    "3": "660"
                                },
                                {
                                    "0": "67",
                                    "1": "2006-09-01 00:00:00.000",
                                    "2": "35",
                                    "3": "660"
                                },
                                {
                                    "0": "67",
                                    "1": "2007-02-01 00:00:00.000",
                                    "2": "77",
                                    "3": "660"
                                },
                                {
                                    "0": "67",
                                    "1": "2007-03-01 00:00:00.000",
                                    "2": "64",
                                    "3": "660"
                                },
                                {
                                    "0": "67",
                                    "1": "2007-06-01 00:00:00.000",
                                    "2": "95",
                                    "3": "660"
                                },
                                {
                                    "0": "67",
                                    "1": "2007-08-01 00:00:00.000",
                                    "2": "68",
                                    "3": "660"
                                },
                                {
                                    "0": "67",
                                    "1": "2008-01-01 00:00:00.000",
                                    "2": "114",
                                    "3": "660"
                                },
                                {
                                    "0": "67",
                                    "1": "2008-02-01 00:00:00.000",
                                    "2": "55",
                                    "3": "660"
                                },
                                {
                                    "0": "67",
                                    "1": "2008-04-01 00:00:00.000",
                                    "2": "77",
                                    "3": "660"
                                },
                                {
                                    "0": "68",
                                    "1": "2006-07-01 00:00:00.000",
                                    "2": "110",
                                    "3": "810"
                                },
                                {
                                    "0": "68",
                                    "1": "2007-01-01 00:00:00.000",
                                    "2": "80",
                                    "3": "810"
                                },
                                {
                                    "0": "68",
                                    "1": "2007-05-01 00:00:00.000",
                                    "2": "86",
                                    "3": "810"
                                },
                                {
                                    "0": "68",
                                    "1": "2007-09-01 00:00:00.000",
                                    "2": "46",
                                    "3": "810"
                                },
                                {
                                    "0": "68",
                                    "1": "2007-11-01 00:00:00.000",
                                    "2": "197",
                                    "3": "810"
                                },
                                {
                                    "0": "68",
                                    "1": "2008-03-01 00:00:00.000",
                                    "2": "143",
                                    "3": "810"
                                },
                                {
                                    "0": "68",
                                    "1": "2008-04-01 00:00:00.000",
                                    "2": "106",
                                    "3": "810"
                                },
                                {
                                    "0": "68",
                                    "1": "2008-05-01 00:00:00.000",
                                    "2": "42",
                                    "3": "810"
                                },
                                {
                                    "0": "69",
                                    "1": "2006-08-01 00:00:00.000",
                                    "2": "19",
                                    "3": "91"
                                },
                                {
                                    "0": "69",
                                    "1": "2006-09-01 00:00:00.000",
                                    "2": "25",
                                    "3": "91"
                                },
                                {
                                    "0": "69",
                                    "1": "2008-03-01 00:00:00.000",
                                    "2": "11",
                                    "3": "91"
                                },
                                {
                                    "0": "69",
                                    "1": "2008-04-01 00:00:00.000",
                                    "2": "36",
                                    "3": "91"
                                },
                                {
                                    "0": "70",
                                    "1": "2006-12-01 00:00:00.000",
                                    "2": "48",
                                    "3": "161"
                                },
                                {
                                    "0": "70",
                                    "1": "2007-04-01 00:00:00.000",
                                    "2": "13",
                                    "3": "161"
                                },
                                {
                                    "0": "70",
                                    "1": "2007-08-01 00:00:00.000",
                                    "2": "8",
                                    "3": "161"
                                },
                                {
                                    "0": "70",
                                    "1": "2008-01-01 00:00:00.000",
                                    "2": "27",
                                    "3": "161"
                                },
                                {
                                    "0": "70",
                                    "1": "2008-02-01 00:00:00.000",
                                    "2": "32",
                                    "3": "161"
                                },
                                {
                                    "0": "70",
                                    "1": "2008-04-01 00:00:00.000",
                                    "2": "33",
                                    "3": "161"
                                },
                                {
                                    "0": "71",
                                    "1": "2006-10-01 00:00:00.000",
                                    "2": "241",
                                    "3": "4958"
                                },
                                {
                                    "0": "71",
                                    "1": "2006-12-01 00:00:00.000",
                                    "2": "326",
                                    "3": "4958"
                                },
                                {
                                    "0": "71",
                                    "1": "2007-02-01 00:00:00.000",
                                    "2": "323",
                                    "3": "4958"
                                },
                                {
                                    "0": "71",
                                    "1": "2007-04-01 00:00:00.000",
                                    "2": "72",
                                    "3": "4958"
                                },
                                {
                                    "0": "71",
                                    "1": "2007-06-01 00:00:00.000",
                                    "2": "143",
                                    "3": "4958"
                                },
                                {
                                    "0": "71",
                                    "1": "2007-07-01 00:00:00.000",
                                    "2": "549",
                                    "3": "4958"
                                },
                                {
                                    "0": "71",
                                    "1": "2007-08-01 00:00:00.000",
                                    "2": "50",
                                    "3": "4958"
                                },
                                {
                                    "0": "71",
                                    "1": "2007-09-01 00:00:00.000",
                                    "2": "484",
                                    "3": "4958"
                                },
                                {
                                    "0": "71",
                                    "1": "2007-10-01 00:00:00.000",
                                    "2": "750",
                                    "3": "4958"
                                },
                                {
                                    "0": "71",
                                    "1": "2007-11-01 00:00:00.000",
                                    "2": "203",
                                    "3": "4958"
                                },
                                {
                                    "0": "71",
                                    "1": "2008-01-01 00:00:00.000",
                                    "2": "304",
                                    "3": "4958"
                                },
                                {
                                    "0": "71",
                                    "1": "2008-02-01 00:00:00.000",
                                    "2": "275",
                                    "3": "4958"
                                },
                                {
                                    "0": "71",
                                    "1": "2008-03-01 00:00:00.000",
                                    "2": "418",
                                    "3": "4958"
                                },
                                {
                                    "0": "71",
                                    "1": "2008-04-01 00:00:00.000",
                                    "2": "647",
                                    "3": "4958"
                                },
                                {
                                    "0": "71",
                                    "1": "2008-05-01 00:00:00.000",
                                    "2": "173",
                                    "3": "4958"
                                },
                                {
                                    "0": "72",
                                    "1": "2006-11-01 00:00:00.000",
                                    "2": "206",
                                    "3": "818"
                                },
                                {
                                    "0": "72",
                                    "1": "2006-12-01 00:00:00.000",
                                    "2": "115",
                                    "3": "818"
                                },
                                {
                                    "0": "72",
                                    "1": "2007-03-01 00:00:00.000",
                                    "2": "98",
                                    "3": "818"
                                },
                                {
                                    "0": "72",
                                    "1": "2007-05-01 00:00:00.000",
                                    "2": "148",
                                    "3": "818"
                                },
                                {
                                    "0": "72",
                                    "1": "2007-12-01 00:00:00.000",
                                    "2": "131",
                                    "3": "818"
                                },
                                {
                                    "0": "72",
                                    "1": "2008-02-01 00:00:00.000",
                                    "2": "120",
                                    "3": "818"
                                },
                                {
                                    "0": "73",
                                    "1": "2006-10-01 00:00:00.000",
                                    "2": "17",
                                    "3": "378"
                                },
                                {
                                    "0": "73",
                                    "1": "2007-01-01 00:00:00.000",
                                    "2": "123",
                                    "3": "378"
                                },
                                {
                                    "0": "73",
                                    "1": "2007-06-01 00:00:00.000",
                                    "2": "24",
                                    "3": "378"
                                },
                                {
                                    "0": "73",
                                    "1": "2007-08-01 00:00:00.000",
                                    "2": "50",
                                    "3": "378"
                                },
                                {
                                    "0": "73",
                                    "1": "2007-09-01 00:00:00.000",
                                    "2": "30",
                                    "3": "378"
                                },
                                {
                                    "0": "73",
                                    "1": "2007-12-01 00:00:00.000",
                                    "2": "120",
                                    "3": "378"
                                },
                                {
                                    "0": "73",
                                    "1": "2008-05-01 00:00:00.000",
                                    "2": "14",
                                    "3": "378"
                                },
                                {
                                    "0": "74",
                                    "1": "2007-11-01 00:00:00.000",
                                    "2": "3",
                                    "3": "48"
                                },
                                {
                                    "0": "74",
                                    "1": "2008-02-01 00:00:00.000",
                                    "2": "14",
                                    "3": "48"
                                },
                                {
                                    "0": "74",
                                    "1": "2008-03-01 00:00:00.000",
                                    "2": "21",
                                    "3": "48"
                                },
                                {
                                    "0": "74",
                                    "1": "2008-04-01 00:00:00.000",
                                    "2": "10",
                                    "3": "48"
                                },
                                {
                                    "0": "75",
                                    "1": "2006-08-01 00:00:00.000",
                                    "2": "24",
                                    "3": "327"
                                },
                                {
                                    "0": "75",
                                    "1": "2006-10-01 00:00:00.000",
                                    "2": "50",
                                    "3": "327"
                                },
                                {
                                    "0": "75",
                                    "1": "2006-11-01 00:00:00.000",
                                    "2": "24",
                                    "3": "327"
                                },
                                {
                                    "0": "75",
                                    "1": "2006-12-01 00:00:00.000",
                                    "2": "76",
                                    "3": "327"
                                },
                                {
                                    "0": "75",
                                    "1": "2007-01-01 00:00:00.000",
                                    "2": "50",
                                    "3": "327"
                                },
                                {
                                    "0": "75",
                                    "1": "2007-11-01 00:00:00.000",
                                    "2": "67",
                                    "3": "327"
                                },
                                {
                                    "0": "75",
                                    "1": "2008-01-01 00:00:00.000",
                                    "2": "26",
                                    "3": "327"
                                },
                                {
                                    "0": "75",
                                    "1": "2008-03-01 00:00:00.000",
                                    "2": "10",
                                    "3": "327"
                                },
                                {
                                    "0": "76",
                                    "1": "2006-07-01 00:00:00.000",
                                    "2": "105",
                                    "3": "1072"
                                },
                                {
                                    "0": "76",
                                    "1": "2006-09-01 00:00:00.000",
                                    "2": "80",
                                    "3": "1072"
                                },
                                {
                                    "0": "76",
                                    "1": "2007-02-01 00:00:00.000",
                                    "2": "145",
                                    "3": "1072"
                                },
                                {
                                    "0": "76",
                                    "1": "2007-03-01 00:00:00.000",
                                    "2": "208",
                                    "3": "1072"
                                },
                                {
                                    "0": "76",
                                    "1": "2007-12-01 00:00:00.000",
                                    "2": "2",
                                    "3": "1072"
                                },
                                {
                                    "0": "76",
                                    "1": "2008-01-01 00:00:00.000",
                                    "2": "182",
                                    "3": "1072"
                                },
                                {
                                    "0": "76",
                                    "1": "2008-02-01 00:00:00.000",
                                    "2": "87",
                                    "3": "1072"
                                },
                                {
                                    "0": "76",
                                    "1": "2008-03-01 00:00:00.000",
                                    "2": "116",
                                    "3": "1072"
                                },
                                {
                                    "0": "76",
                                    "1": "2008-04-01 00:00:00.000",
                                    "2": "147",
                                    "3": "1072"
                                },
                                {
                                    "0": "77",
                                    "1": "2006-09-01 00:00:00.000",
                                    "2": "15",
                                    "3": "46"
                                },
                                {
                                    "0": "77",
                                    "1": "2007-10-01 00:00:00.000",
                                    "2": "9",
                                    "3": "46"
                                },
                                {
                                    "0": "77",
                                    "1": "2007-12-01 00:00:00.000",
                                    "2": "20",
                                    "3": "46"
                                },
                                {
                                    "0": "77",
                                    "1": "2008-04-01 00:00:00.000",
                                    "2": "2",
                                    "3": "46"
                                },
                                {
                                    "0": "78",
                                    "1": "2007-08-01 00:00:00.000",
                                    "2": "26",
                                    "3": "59"
                                },
                                {
                                    "0": "78",
                                    "1": "2007-12-01 00:00:00.000",
                                    "2": "9",
                                    "3": "59"
                                },
                                {
                                    "0": "78",
                                    "1": "2008-04-01 00:00:00.000",
                                    "2": "24",
                                    "3": "59"
                                },
                                {
                                    "0": "79",
                                    "1": "2006-07-01 00:00:00.000",
                                    "2": "49",
                                    "3": "253"
                                },
                                {
                                    "0": "79",
                                    "1": "2007-02-01 00:00:00.000",
                                    "2": "100",
                                    "3": "253"
                                },
                                {
                                    "0": "79",
                                    "1": "2007-05-01 00:00:00.000",
                                    "2": "24",
                                    "3": "253"
                                },
                                {
                                    "0": "79",
                                    "1": "2007-07-01 00:00:00.000",
                                    "2": "28",
                                    "3": "253"
                                },
                                {
                                    "0": "79",
                                    "1": "2008-03-01 00:00:00.000",
                                    "2": "52",
                                    "3": "253"
                                },
                                {
                                    "0": "80",
                                    "1": "2006-08-01 00:00:00.000",
                                    "2": "58",
                                    "3": "384"
                                },
                                {
                                    "0": "80",
                                    "1": "2006-09-01 00:00:00.000",
                                    "2": "42",
                                    "3": "384"
                                },
                                {
                                    "0": "80",
                                    "1": "2006-10-01 00:00:00.000",
                                    "2": "52",
                                    "3": "384"
                                },
                                {
                                    "0": "80",
                                    "1": "2007-04-01 00:00:00.000",
                                    "2": "29",
                                    "3": "384"
                                },
                                {
                                    "0": "80",
                                    "1": "2007-06-01 00:00:00.000",
                                    "2": "51",
                                    "3": "384"
                                },
                                {
                                    "0": "80",
                                    "1": "2007-09-01 00:00:00.000",
                                    "2": "30",
                                    "3": "384"
                                },
                                {
                                    "0": "80",
                                    "1": "2008-01-01 00:00:00.000",
                                    "2": "52",
                                    "3": "384"
                                },
                                {
                                    "0": "80",
                                    "1": "2008-02-01 00:00:00.000",
                                    "2": "50",
                                    "3": "384"
                                },
                                {
                                    "0": "80",
                                    "1": "2008-05-01 00:00:00.000",
                                    "2": "20",
                                    "3": "384"
                                },
                                {
                                    "0": "81",
                                    "1": "2006-08-01 00:00:00.000",
                                    "2": "20",
                                    "3": "251"
                                },
                                {
                                    "0": "81",
                                    "1": "2007-04-01 00:00:00.000",
                                    "2": "20",
                                    "3": "251"
                                },
                                {
                                    "0": "81",
                                    "1": "2007-07-01 00:00:00.000",
                                    "2": "50",
                                    "3": "251"
                                },
                                {
                                    "0": "81",
                                    "1": "2008-01-01 00:00:00.000",
                                    "2": "161",
                                    "3": "251"
                                },
                                {
                                    "0": "82",
                                    "1": "2007-06-01 00:00:00.000",
                                    "2": "80",
                                    "3": "89"
                                },
                                {
                                    "0": "82",
                                    "1": "2008-01-01 00:00:00.000",
                                    "2": "9",
                                    "3": "89"
                                },
                                {
                                    "0": "83",
                                    "1": "2006-11-01 00:00:00.000",
                                    "2": "76",
                                    "3": "792"
                                },
                                {
                                    "0": "83",
                                    "1": "2006-12-01 00:00:00.000",
                                    "2": "139",
                                    "3": "792"
                                },
                                {
                                    "0": "83",
                                    "1": "2007-03-01 00:00:00.000",
                                    "2": "118",
                                    "3": "792"
                                },
                                {
                                    "0": "83",
                                    "1": "2007-07-01 00:00:00.000",
                                    "2": "79",
                                    "3": "792"
                                },
                                {
                                    "0": "83",
                                    "1": "2007-10-01 00:00:00.000",
                                    "2": "92",
                                    "3": "792"
                                },
                                {
                                    "0": "83",
                                    "1": "2007-11-01 00:00:00.000",
                                    "2": "50",
                                    "3": "792"
                                },
                                {
                                    "0": "83",
                                    "1": "2007-12-01 00:00:00.000",
                                    "2": "80",
                                    "3": "792"
                                },
                                {
                                    "0": "83",
                                    "1": "2008-03-01 00:00:00.000",
                                    "2": "140",
                                    "3": "792"
                                },
                                {
                                    "0": "83",
                                    "1": "2008-04-01 00:00:00.000",
                                    "2": "18",
                                    "3": "792"
                                },
                                {
                                    "0": "84",
                                    "1": "2006-07-01 00:00:00.000",
                                    "2": "41",
                                    "3": "434"
                                },
                                {
                                    "0": "84",
                                    "1": "2006-10-01 00:00:00.000",
                                    "2": "18",
                                    "3": "434"
                                },
                                {
                                    "0": "84",
                                    "1": "2007-02-01 00:00:00.000",
                                    "2": "102",
                                    "3": "434"
                                },
                                {
                                    "0": "84",
                                    "1": "2007-03-01 00:00:00.000",
                                    "2": "20",
                                    "3": "434"
                                },
                                {
                                    "0": "84",
                                    "1": "2007-05-01 00:00:00.000",
                                    "2": "80",
                                    "3": "434"
                                },
                                {
                                    "0": "84",
                                    "1": "2007-12-01 00:00:00.000",
                                    "2": "37",
                                    "3": "434"
                                },
                                {
                                    "0": "84",
                                    "1": "2008-01-01 00:00:00.000",
                                    "2": "136",
                                    "3": "434"
                                },
                                {
                                    "0": "85",
                                    "1": "2006-07-01 00:00:00.000",
                                    "2": "27",
                                    "3": "98"
                                },
                                {
                                    "0": "85",
                                    "1": "2006-08-01 00:00:00.000",
                                    "2": "27",
                                    "3": "98"
                                },
                                {
                                    "0": "85",
                                    "1": "2006-09-01 00:00:00.000",
                                    "2": "4",
                                    "3": "98"
                                },
                                {
                                    "0": "85",
                                    "1": "2007-11-01 00:00:00.000",
                                    "2": "40",
                                    "3": "98"
                                },
                                {
                                    "0": "86",
                                    "1": "2006-09-01 00:00:00.000",
                                    "2": "88",
                                    "3": "492"
                                },
                                {
                                    "0": "86",
                                    "1": "2006-11-01 00:00:00.000",
                                    "2": "102",
                                    "3": "492"
                                },
                                {
                                    "0": "86",
                                    "1": "2007-04-01 00:00:00.000",
                                    "2": "105",
                                    "3": "492"
                                },
                                {
                                    "0": "86",
                                    "1": "2007-08-01 00:00:00.000",
                                    "2": "85",
                                    "3": "492"
                                },
                                {
                                    "0": "86",
                                    "1": "2007-09-01 00:00:00.000",
                                    "2": "59",
                                    "3": "492"
                                },
                                {
                                    "0": "86",
                                    "1": "2008-04-01 00:00:00.000",
                                    "2": "53",
                                    "3": "492"
                                },
                                {
                                    "0": "87",
                                    "1": "2006-07-01 00:00:00.000",
                                    "2": "12",
                                    "3": "737"
                                },
                                {
                                    "0": "87",
                                    "1": "2006-08-01 00:00:00.000",
                                    "2": "55",
                                    "3": "737"
                                },
                                {
                                    "0": "87",
                                    "1": "2006-10-01 00:00:00.000",
                                    "2": "90",
                                    "3": "737"
                                },
                                {
                                    "0": "87",
                                    "1": "2007-01-01 00:00:00.000",
                                    "2": "70",
                                    "3": "737"
                                },
                                {
                                    "0": "87",
                                    "1": "2007-02-01 00:00:00.000",
                                    "2": "140",
                                    "3": "737"
                                },
                                {
                                    "0": "87",
                                    "1": "2007-05-01 00:00:00.000",
                                    "2": "137",
                                    "3": "737"
                                },
                                {
                                    "0": "87",
                                    "1": "2007-06-01 00:00:00.000",
                                    "2": "44",
                                    "3": "737"
                                },
                                {
                                    "0": "87",
                                    "1": "2007-08-01 00:00:00.000",
                                    "2": "31",
                                    "3": "737"
                                },
                                {
                                    "0": "87",
                                    "1": "2007-11-01 00:00:00.000",
                                    "2": "70",
                                    "3": "737"
                                },
                                {
                                    "0": "87",
                                    "1": "2007-12-01 00:00:00.000",
                                    "2": "58",
                                    "3": "737"
                                },
                                {
                                    "0": "87",
                                    "1": "2008-04-01 00:00:00.000",
                                    "2": "30",
                                    "3": "737"
                                },
                                {
                                    "0": "88",
                                    "1": "2006-07-01 00:00:00.000",
                                    "2": "27",
                                    "3": "267"
                                },
                                {
                                    "0": "88",
                                    "1": "2007-01-01 00:00:00.000",
                                    "2": "50",
                                    "3": "267"
                                },
                                {
                                    "0": "88",
                                    "1": "2007-07-01 00:00:00.000",
                                    "2": "15",
                                    "3": "267"
                                },
                                {
                                    "0": "88",
                                    "1": "2007-08-01 00:00:00.000",
                                    "2": "45",
                                    "3": "267"
                                },
                                {
                                    "0": "88",
                                    "1": "2007-12-01 00:00:00.000",
                                    "2": "54",
                                    "3": "267"
                                },
                                {
                                    "0": "88",
                                    "1": "2008-01-01 00:00:00.000",
                                    "2": "20",
                                    "3": "267"
                                },
                                {
                                    "0": "88",
                                    "1": "2008-02-01 00:00:00.000",
                                    "2": "23",
                                    "3": "267"
                                },
                                {
                                    "0": "88",
                                    "1": "2008-03-01 00:00:00.000",
                                    "2": "33",
                                    "3": "267"
                                },
                                {
                                    "0": "89",
                                    "1": "2006-07-01 00:00:00.000",
                                    "2": "80",
                                    "3": "1063"
                                },
                                {
                                    "0": "89",
                                    "1": "2006-11-01 00:00:00.000",
                                    "2": "105",
                                    "3": "1063"
                                },
                                {
                                    "0": "89",
                                    "1": "2007-03-01 00:00:00.000",
                                    "2": "142",
                                    "3": "1063"
                                },
                                {
                                    "0": "89",
                                    "1": "2007-04-01 00:00:00.000",
                                    "2": "59",
                                    "3": "1063"
                                },
                                {
                                    "0": "89",
                                    "1": "2007-07-01 00:00:00.000",
                                    "2": "59",
                                    "3": "1063"
                                },
                                {
                                    "0": "89",
                                    "1": "2007-10-01 00:00:00.000",
                                    "2": "164",
                                    "3": "1063"
                                },
                                {
                                    "0": "89",
                                    "1": "2007-11-01 00:00:00.000",
                                    "2": "94",
                                    "3": "1063"
                                },
                                {
                                    "0": "89",
                                    "1": "2008-01-01 00:00:00.000",
                                    "2": "140",
                                    "3": "1063"
                                },
                                {
                                    "0": "89",
                                    "1": "2008-02-01 00:00:00.000",
                                    "2": "50",
                                    "3": "1063"
                                },
                                {
                                    "0": "89",
                                    "1": "2008-04-01 00:00:00.000",
                                    "2": "90",
                                    "3": "1063"
                                },
                                {
                                    "0": "89",
                                    "1": "2008-05-01 00:00:00.000",
                                    "2": "80",
                                    "3": "1063"
                                },
                                {
                                    "0": "90",
                                    "1": "2007-07-01 00:00:00.000",
                                    "2": "5",
                                    "3": "148"
                                },
                                {
                                    "0": "90",
                                    "1": "2007-09-01 00:00:00.000",
                                    "2": "15",
                                    "3": "148"
                                },
                                {
                                    "0": "90",
                                    "1": "2007-10-01 00:00:00.000",
                                    "2": "34",
                                    "3": "148"
                                },
                                {
                                    "0": "90",
                                    "1": "2008-02-01 00:00:00.000",
                                    "2": "82",
                                    "3": "148"
                                },
                                {
                                    "0": "90",
                                    "1": "2008-04-01 00:00:00.000",
                                    "2": "12",
                                    "3": "148"
                                },
                                {
                                    "0": "91",
                                    "1": "2006-12-01 00:00:00.000",
                                    "2": "45",
                                    "3": "205"
                                },
                                {
                                    "0": "91",
                                    "1": "2007-07-01 00:00:00.000",
                                    "2": "31",
                                    "3": "205"
                                },
                                {
                                    "0": "91",
                                    "1": "2007-12-01 00:00:00.000",
                                    "2": "28",
                                    "3": "205"
                                },
                                {
                                    "0": "91",
                                    "1": "2008-02-01 00:00:00.000",
                                    "2": "20",
                                    "3": "205"
                                },
                                {
                                    "0": "91",
                                    "1": "2008-04-01 00:00:00.000",
                                    "2": "81",
                                    "3": "205"
                                }
                            ]
                        },
                        "text/html": [
                            "<table>",
                            "<tr><th>custid</th><th>ordermonth</th><th>qty</th><th>totalpercust</th></tr>",
                            "<tr><td>1</td><td>2007-08-01 00:00:00.000</td><td>38</td><td>174</td></tr>",
                            "<tr><td>1</td><td>2007-10-01 00:00:00.000</td><td>41</td><td>174</td></tr>",
                            "<tr><td>1</td><td>2008-01-01 00:00:00.000</td><td>17</td><td>174</td></tr>",
                            "<tr><td>1</td><td>2008-03-01 00:00:00.000</td><td>18</td><td>174</td></tr>",
                            "<tr><td>1</td><td>2008-04-01 00:00:00.000</td><td>60</td><td>174</td></tr>",
                            "<tr><td>2</td><td>2006-09-01 00:00:00.000</td><td>6</td><td>63</td></tr>",
                            "<tr><td>2</td><td>2007-08-01 00:00:00.000</td><td>18</td><td>63</td></tr>",
                            "<tr><td>2</td><td>2007-11-01 00:00:00.000</td><td>10</td><td>63</td></tr>",
                            "<tr><td>2</td><td>2008-03-01 00:00:00.000</td><td>29</td><td>63</td></tr>",
                            "<tr><td>3</td><td>2006-11-01 00:00:00.000</td><td>24</td><td>359</td></tr>",
                            "<tr><td>3</td><td>2007-04-01 00:00:00.000</td><td>30</td><td>359</td></tr>",
                            "<tr><td>3</td><td>2007-05-01 00:00:00.000</td><td>80</td><td>359</td></tr>",
                            "<tr><td>3</td><td>2007-06-01 00:00:00.000</td><td>83</td><td>359</td></tr>",
                            "<tr><td>3</td><td>2007-09-01 00:00:00.000</td><td>102</td><td>359</td></tr>",
                            "<tr><td>3</td><td>2008-01-01 00:00:00.000</td><td>40</td><td>359</td></tr>",
                            "<tr><td>4</td><td>2006-11-01 00:00:00.000</td><td>50</td><td>650</td></tr>",
                            "<tr><td>4</td><td>2006-12-01 00:00:00.000</td><td>55</td><td>650</td></tr>",
                            "<tr><td>4</td><td>2007-02-01 00:00:00.000</td><td>40</td><td>650</td></tr>",
                            "<tr><td>4</td><td>2007-06-01 00:00:00.000</td><td>96</td><td>650</td></tr>",
                            "<tr><td>4</td><td>2007-10-01 00:00:00.000</td><td>89</td><td>650</td></tr>",
                            "<tr><td>4</td><td>2007-11-01 00:00:00.000</td><td>43</td><td>650</td></tr>",
                            "<tr><td>4</td><td>2007-12-01 00:00:00.000</td><td>103</td><td>650</td></tr>",
                            "<tr><td>4</td><td>2008-02-01 00:00:00.000</td><td>19</td><td>650</td></tr>",
                            "<tr><td>4</td><td>2008-03-01 00:00:00.000</td><td>124</td><td>650</td></tr>",
                            "<tr><td>4</td><td>2008-04-01 00:00:00.000</td><td>31</td><td>650</td></tr>",
                            "<tr><td>5</td><td>2006-08-01 00:00:00.000</td><td>126</td><td>1001</td></tr>",
                            "<tr><td>5</td><td>2006-12-01 00:00:00.000</td><td>43</td><td>1001</td></tr>",
                            "<tr><td>5</td><td>2007-02-01 00:00:00.000</td><td>84</td><td>1001</td></tr>",
                            "<tr><td>5</td><td>2007-05-01 00:00:00.000</td><td>87</td><td>1001</td></tr>",
                            "<tr><td>5</td><td>2007-06-01 00:00:00.000</td><td>87</td><td>1001</td></tr>",
                            "<tr><td>5</td><td>2007-08-01 00:00:00.000</td><td>52</td><td>1001</td></tr>",
                            "<tr><td>5</td><td>2007-09-01 00:00:00.000</td><td>65</td><td>1001</td></tr>",
                            "<tr><td>5</td><td>2007-10-01 00:00:00.000</td><td>35</td><td>1001</td></tr>",
                            "<tr><td>5</td><td>2007-11-01 00:00:00.000</td><td>61</td><td>1001</td></tr>",
                            "<tr><td>5</td><td>2007-12-01 00:00:00.000</td><td>10</td><td>1001</td></tr>",
                            "<tr><td>5</td><td>2008-01-01 00:00:00.000</td><td>167</td><td>1001</td></tr>",
                            "<tr><td>5</td><td>2008-02-01 00:00:00.000</td><td>128</td><td>1001</td></tr>",
                            "<tr><td>5</td><td>2008-03-01 00:00:00.000</td><td>56</td><td>1001</td></tr>",
                            "<tr><td>6</td><td>2007-04-01 00:00:00.000</td><td>23</td><td>140</td></tr>",
                            "<tr><td>6</td><td>2007-06-01 00:00:00.000</td><td>18</td><td>140</td></tr>",
                            "<tr><td>6</td><td>2007-07-01 00:00:00.000</td><td>27</td><td>140</td></tr>",
                            "<tr><td>6</td><td>2008-01-01 00:00:00.000</td><td>10</td><td>140</td></tr>",
                            "<tr><td>6</td><td>2008-03-01 00:00:00.000</td><td>34</td><td>140</td></tr>",
                            "<tr><td>6</td><td>2008-04-01 00:00:00.000</td><td>28</td><td>140</td></tr>",
                            "<tr><td>7</td><td>2006-07-01 00:00:00.000</td><td>50</td><td>666</td></tr>",
                            "<tr><td>7</td><td>2006-09-01 00:00:00.000</td><td>80</td><td>666</td></tr>",
                            "<tr><td>7</td><td>2006-11-01 00:00:00.000</td><td>138</td><td>666</td></tr>",
                            "<tr><td>7</td><td>2007-02-01 00:00:00.000</td><td>168</td><td>666</td></tr>",
                            "<tr><td>7</td><td>2007-06-01 00:00:00.000</td><td>143</td><td>666</td></tr>",
                            "<tr><td>7</td><td>2007-08-01 00:00:00.000</td><td>25</td><td>666</td></tr>",
                            "<tr><td>7</td><td>2007-09-01 00:00:00.000</td><td>12</td><td>666</td></tr>",
                            "<tr><td>7</td><td>2008-01-01 00:00:00.000</td><td>50</td><td>666</td></tr>",
                            "<tr><td>8</td><td>2006-10-01 00:00:00.000</td><td>90</td><td>190</td></tr>",
                            "<tr><td>8</td><td>2007-12-01 00:00:00.000</td><td>60</td><td>190</td></tr>",
                            "<tr><td>8</td><td>2008-03-01 00:00:00.000</td><td>40</td><td>190</td></tr>",
                            "<tr><td>9</td><td>2006-10-01 00:00:00.000</td><td>87</td><td>980</td></tr>",
                            "<tr><td>9</td><td>2006-11-01 00:00:00.000</td><td>94</td><td>980</td></tr>",
                            "<tr><td>9</td><td>2007-03-01 00:00:00.000</td><td>53</td><td>980</td></tr>",
                            "<tr><td>9</td><td>2007-04-01 00:00:00.000</td><td>110</td><td>980</td></tr>",
                            "<tr><td>9</td><td>2007-05-01 00:00:00.000</td><td>45</td><td>980</td></tr>",
                            "<tr><td>9</td><td>2007-09-01 00:00:00.000</td><td>80</td><td>980</td></tr>",
                            "<tr><td>9</td><td>2007-10-01 00:00:00.000</td><td>51</td><td>980</td></tr>",
                            "<tr><td>9</td><td>2007-11-01 00:00:00.000</td><td>147</td><td>980</td></tr>",
                            "<tr><td>9</td><td>2008-01-01 00:00:00.000</td><td>36</td><td>980</td></tr>",
                            "<tr><td>9</td><td>2008-02-01 00:00:00.000</td><td>119</td><td>980</td></tr>",
                            "<tr><td>9</td><td>2008-03-01 00:00:00.000</td><td>108</td><td>980</td></tr>",
                            "<tr><td>9</td><td>2008-05-01 00:00:00.000</td><td>50</td><td>980</td></tr>",
                            "<tr><td>10</td><td>2006-12-01 00:00:00.000</td><td>81</td><td>956</td></tr>",
                            "<tr><td>10</td><td>2007-01-01 00:00:00.000</td><td>269</td><td>956</td></tr>",
                            "<tr><td>10</td><td>2007-04-01 00:00:00.000</td><td>80</td><td>956</td></tr>",
                            "<tr><td>10</td><td>2007-11-01 00:00:00.000</td><td>105</td><td>956</td></tr>",
                            "<tr><td>10</td><td>2008-03-01 00:00:00.000</td><td>289</td><td>956</td></tr>",
                            "<tr><td>10</td><td>2008-04-01 00:00:00.000</td><td>132</td><td>956</td></tr>",
                            "<tr><td>11</td><td>2006-08-01 00:00:00.000</td><td>39</td><td>293</td></tr>",
                            "<tr><td>11</td><td>2007-03-01 00:00:00.000</td><td>77</td><td>293</td></tr>",
                            "<tr><td>11</td><td>2007-05-01 00:00:00.000</td><td>52</td><td>293</td></tr>",
                            "<tr><td>11</td><td>2007-06-01 00:00:00.000</td><td>26</td><td>293</td></tr>",
                            "<tr><td>11</td><td>2007-07-01 00:00:00.000</td><td>10</td><td>293</td></tr>",
                            "<tr><td>11</td><td>2008-03-01 00:00:00.000</td><td>55</td><td>293</td></tr>",
                            "<tr><td>11</td><td>2008-04-01 00:00:00.000</td><td>34</td><td>293</td></tr>",
                            "<tr><td>12</td><td>2007-04-01 00:00:00.000</td><td>19</td><td>115</td></tr>",
                            "<tr><td>12</td><td>2007-12-01 00:00:00.000</td><td>1</td><td>115</td></tr>",
                            "<tr><td>12</td><td>2008-01-01 00:00:00.000</td><td>27</td><td>115</td></tr>",
                            "<tr><td>12</td><td>2008-02-01 00:00:00.000</td><td>10</td><td>115</td></tr>",
                            "<tr><td>12</td><td>2008-03-01 00:00:00.000</td><td>28</td><td>115</td></tr>",
                            "<tr><td>12</td><td>2008-04-01 00:00:00.000</td><td>30</td><td>115</td></tr>",
                            "<tr><td>13</td><td>2006-07-01 00:00:00.000</td><td>11</td><td>11</td></tr>",
                            "<tr><td>14</td><td>2006-07-01 00:00:00.000</td><td>57</td><td>465</td></tr>",
                            "<tr><td>14</td><td>2006-12-01 00:00:00.000</td><td>65</td><td>465</td></tr>",
                            "<tr><td>14</td><td>2007-04-01 00:00:00.000</td><td>66</td><td>465</td></tr>",
                            "<tr><td>14</td><td>2007-11-01 00:00:00.000</td><td>153</td><td>465</td></tr>",
                            "<tr><td>14</td><td>2008-03-01 00:00:00.000</td><td>32</td><td>465</td></tr>",
                            "<tr><td>14</td><td>2008-04-01 00:00:00.000</td><td>92</td><td>465</td></tr>",
                            "<tr><td>15</td><td>2006-08-01 00:00:00.000</td><td>60</td><td>133</td></tr>",
                            "<tr><td>15</td><td>2007-03-01 00:00:00.000</td><td>15</td><td>133</td></tr>",
                            "<tr><td>15</td><td>2007-04-01 00:00:00.000</td><td>30</td><td>133</td></tr>",
                            "<tr><td>15</td><td>2008-03-01 00:00:00.000</td><td>9</td><td>133</td></tr>",
                            "<tr><td>15</td><td>2008-04-01 00:00:00.000</td><td>19</td><td>133</td></tr>",
                            "<tr><td>16</td><td>2007-02-01 00:00:00.000</td><td>32</td><td>87</td></tr>",
                            "<tr><td>16</td><td>2007-03-01 00:00:00.000</td><td>22</td><td>87</td></tr>",
                            "<tr><td>16</td><td>2008-01-01 00:00:00.000</td><td>33</td><td>87</td></tr>",
                            "<tr><td>17</td><td>2006-11-01 00:00:00.000</td><td>44</td><td>160</td></tr>",
                            "<tr><td>17</td><td>2006-12-01 00:00:00.000</td><td>18</td><td>160</td></tr>",
                            "<tr><td>17</td><td>2007-12-01 00:00:00.000</td><td>20</td><td>160</td></tr>",
                            "<tr><td>17</td><td>2008-01-01 00:00:00.000</td><td>32</td><td>160</td></tr>",
                            "<tr><td>17</td><td>2008-04-01 00:00:00.000</td><td>37</td><td>160</td></tr>",
                            "<tr><td>17</td><td>2008-05-01 00:00:00.000</td><td>9</td><td>160</td></tr>",
                            "<tr><td>18</td><td>2006-09-01 00:00:00.000</td><td>13</td><td>80</td></tr>",
                            "<tr><td>18</td><td>2007-07-01 00:00:00.000</td><td>19</td><td>80</td></tr>",
                            "<tr><td>18</td><td>2007-09-01 00:00:00.000</td><td>9</td><td>80</td></tr>",
                            "<tr><td>18</td><td>2008-02-01 00:00:00.000</td><td>39</td><td>80</td></tr>",
                            "<tr><td>19</td><td>2006-11-01 00:00:00.000</td><td>35</td><td>569</td></tr>",
                            "<tr><td>19</td><td>2007-01-01 00:00:00.000</td><td>86</td><td>569</td></tr>",
                            "<tr><td>19</td><td>2007-05-01 00:00:00.000</td><td>39</td><td>569</td></tr>",
                            "<tr><td>19</td><td>2007-11-01 00:00:00.000</td><td>30</td><td>569</td></tr>",
                            "<tr><td>19</td><td>2008-03-01 00:00:00.000</td><td>86</td><td>569</td></tr>",
                            "<tr><td>19</td><td>2008-04-01 00:00:00.000</td><td>293</td><td>569</td></tr>",
                            "<tr><td>20</td><td>2006-07-01 00:00:00.000</td><td>305</td><td>4543</td></tr>",
                            "<tr><td>20</td><td>2006-11-01 00:00:00.000</td><td>198</td><td>4543</td></tr>",
                            "<tr><td>20</td><td>2006-12-01 00:00:00.000</td><td>334</td><td>4543</td></tr>",
                            "<tr><td>20</td><td>2007-01-01 00:00:00.000</td><td>411</td><td>4543</td></tr>",
                            "<tr><td>20</td><td>2007-02-01 00:00:00.000</td><td>170</td><td>4543</td></tr>",
                            "<tr><td>20</td><td>2007-04-01 00:00:00.000</td><td>233</td><td>4543</td></tr>",
                            "<tr><td>20</td><td>2007-06-01 00:00:00.000</td><td>39</td><td>4543</td></tr>",
                            "<tr><td>20</td><td>2007-07-01 00:00:00.000</td><td>215</td><td>4543</td></tr>",
                            "<tr><td>20</td><td>2007-08-01 00:00:00.000</td><td>164</td><td>4543</td></tr>",
                            "<tr><td>20</td><td>2007-09-01 00:00:00.000</td><td>59</td><td>4543</td></tr>",
                            "<tr><td>20</td><td>2007-10-01 00:00:00.000</td><td>108</td><td>4543</td></tr>",
                            "<tr><td>20</td><td>2007-12-01 00:00:00.000</td><td>551</td><td>4543</td></tr>",
                            "<tr><td>20</td><td>2008-01-01 00:00:00.000</td><td>337</td><td>4543</td></tr>",
                            "<tr><td>20</td><td>2008-02-01 00:00:00.000</td><td>346</td><td>4543</td></tr>",
                            "<tr><td>20</td><td>2008-03-01 00:00:00.000</td><td>271</td><td>4543</td></tr>",
                            "<tr><td>20</td><td>2008-04-01 00:00:00.000</td><td>602</td><td>4543</td></tr>",
                            "<tr><td>20</td><td>2008-05-01 00:00:00.000</td><td>200</td><td>4543</td></tr>",
                            "<tr><td>21</td><td>2006-11-01 00:00:00.000</td><td>70</td><td>357</td></tr>",
                            "<tr><td>21</td><td>2006-12-01 00:00:00.000</td><td>25</td><td>357</td></tr>",
                            "<tr><td>21</td><td>2007-01-01 00:00:00.000</td><td>68</td><td>357</td></tr>",
                            "<tr><td>21</td><td>2007-04-01 00:00:00.000</td><td>37</td><td>357</td></tr>",
                            "<tr><td>21</td><td>2007-06-01 00:00:00.000</td><td>50</td><td>357</td></tr>",
                            "<tr><td>21</td><td>2007-08-01 00:00:00.000</td><td>85</td><td>357</td></tr>",
                            "<tr><td>21</td><td>2007-10-01 00:00:00.000</td><td>22</td><td>357</td></tr>",
                            "<tr><td>23</td><td>2007-01-01 00:00:00.000</td><td>51</td><td>354</td></tr>",
                            "<tr><td>23</td><td>2007-03-01 00:00:00.000</td><td>42</td><td>354</td></tr>",
                            "<tr><td>23</td><td>2007-08-01 00:00:00.000</td><td>102</td><td>354</td></tr>",
                            "<tr><td>23</td><td>2007-12-01 00:00:00.000</td><td>159</td><td>354</td></tr>",
                            "<tr><td>24</td><td>2006-07-01 00:00:00.000</td><td>60</td><td>1234</td></tr>",
                            "<tr><td>24</td><td>2006-10-01 00:00:00.000</td><td>140</td><td>1234</td></tr>",
                            "<tr><td>24</td><td>2006-12-01 00:00:00.000</td><td>6</td><td>1234</td></tr>",
                            "<tr><td>24</td><td>2007-02-01 00:00:00.000</td><td>49</td><td>1234</td></tr>",
                            "<tr><td>24</td><td>2007-05-01 00:00:00.000</td><td>98</td><td>1234</td></tr>",
                            "<tr><td>24</td><td>2007-06-01 00:00:00.000</td><td>60</td><td>1234</td></tr>",
                            "<tr><td>24</td><td>2007-10-01 00:00:00.000</td><td>75</td><td>1234</td></tr>",
                            "<tr><td>24</td><td>2007-12-01 00:00:00.000</td><td>186</td><td>1234</td></tr>",
                            "<tr><td>24</td><td>2008-01-01 00:00:00.000</td><td>21</td><td>1234</td></tr>",
                            "<tr><td>24</td><td>2008-02-01 00:00:00.000</td><td>146</td><td>1234</td></tr>",
                            "<tr><td>24</td><td>2008-03-01 00:00:00.000</td><td>142</td><td>1234</td></tr>",
                            "<tr><td>24</td><td>2008-04-01 00:00:00.000</td><td>251</td><td>1234</td></tr>",
                            "<tr><td>25</td><td>2006-07-01 00:00:00.000</td><td>135</td><td>1525</td></tr>",
                            "<tr><td>25</td><td>2006-10-01 00:00:00.000</td><td>297</td><td>1525</td></tr>",
                            "<tr><td>25</td><td>2006-12-01 00:00:00.000</td><td>121</td><td>1525</td></tr>",
                            "<tr><td>25</td><td>2007-03-01 00:00:00.000</td><td>50</td><td>1525</td></tr>",
                            "<tr><td>25</td><td>2007-06-01 00:00:00.000</td><td>35</td><td>1525</td></tr>",
                            "<tr><td>25</td><td>2007-08-01 00:00:00.000</td><td>94</td><td>1525</td></tr>",
                            "<tr><td>25</td><td>2007-09-01 00:00:00.000</td><td>312</td><td>1525</td></tr>",
                            "<tr><td>25</td><td>2007-10-01 00:00:00.000</td><td>72</td><td>1525</td></tr>",
                            "<tr><td>25</td><td>2007-12-01 00:00:00.000</td><td>34</td><td>1525</td></tr>",
                            "<tr><td>25</td><td>2008-01-01 00:00:00.000</td><td>105</td><td>1525</td></tr>",
                            "<tr><td>25</td><td>2008-03-01 00:00:00.000</td><td>124</td><td>1525</td></tr>",
                            "<tr><td>25</td><td>2008-04-01 00:00:00.000</td><td>146</td><td>1525</td></tr>",
                            "<tr><td>26</td><td>2007-09-01 00:00:00.000</td><td>32</td><td>69</td></tr>",
                            "<tr><td>26</td><td>2008-01-01 00:00:00.000</td><td>23</td><td>69</td></tr>",
                            "<tr><td>26</td><td>2008-03-01 00:00:00.000</td><td>14</td><td>69</td></tr>",
                            "<tr><td>27</td><td>2007-01-01 00:00:00.000</td><td>2</td><td>54</td></tr>",
                            "<tr><td>27</td><td>2007-10-01 00:00:00.000</td><td>10</td><td>54</td></tr>",
                            "<tr><td>27</td><td>2007-11-01 00:00:00.000</td><td>9</td><td>54</td></tr>",
                            "<tr><td>27</td><td>2007-12-01 00:00:00.000</td><td>1</td><td>54</td></tr>",
                            "<tr><td>27</td><td>2008-04-01 00:00:00.000</td><td>32</td><td>54</td></tr>",
                            "<tr><td>28</td><td>2006-10-01 00:00:00.000</td><td>59</td><td>349</td></tr>",
                            "<tr><td>28</td><td>2006-11-01 00:00:00.000</td><td>30</td><td>349</td></tr>",
                            "<tr><td>28</td><td>2007-03-01 00:00:00.000</td><td>91</td><td>349</td></tr>",
                            "<tr><td>28</td><td>2007-05-01 00:00:00.000</td><td>100</td><td>349</td></tr>",
                            "<tr><td>28</td><td>2007-07-01 00:00:00.000</td><td>16</td><td>349</td></tr>",
                            "<tr><td>28</td><td>2007-09-01 00:00:00.000</td><td>51</td><td>349</td></tr>",
                            "<tr><td>28</td><td>2008-03-01 00:00:00.000</td><td>2</td><td>349</td></tr>",
                            "<tr><td>29</td><td>2006-11-01 00:00:00.000</td><td>10</td><td>42</td></tr>",
                            "<tr><td>29</td><td>2007-01-01 00:00:00.000</td><td>12</td><td>42</td></tr>",
                            "<tr><td>29</td><td>2007-06-01 00:00:00.000</td><td>5</td><td>42</td></tr>",
                            "<tr><td>29</td><td>2008-02-01 00:00:00.000</td><td>5</td><td>42</td></tr>",
                            "<tr><td>29</td><td>2008-03-01 00:00:00.000</td><td>10</td><td>42</td></tr>",
                            "<tr><td>30</td><td>2006-09-01 00:00:00.000</td><td>85</td><td>395</td></tr>",
                            "<tr><td>30</td><td>2007-05-01 00:00:00.000</td><td>34</td><td>395</td></tr>",
                            "<tr><td>30</td><td>2007-08-01 00:00:00.000</td><td>29</td><td>395</td></tr>",
                            "<tr><td>30</td><td>2008-02-01 00:00:00.000</td><td>151</td><td>395</td></tr>",
                            "<tr><td>30</td><td>2008-03-01 00:00:00.000</td><td>53</td><td>395</td></tr>",
                            "<tr><td>30</td><td>2008-04-01 00:00:00.000</td><td>43</td><td>395</td></tr>",
                            "<tr><td>31</td><td>2007-01-01 00:00:00.000</td><td>34</td><td>315</td></tr>",
                            "<tr><td>31</td><td>2007-09-01 00:00:00.000</td><td>61</td><td>315</td></tr>",
                            "<tr><td>31</td><td>2007-10-01 00:00:00.000</td><td>78</td><td>315</td></tr>",
                            "<tr><td>31</td><td>2007-11-01 00:00:00.000</td><td>65</td><td>315</td></tr>",
                            "<tr><td>31</td><td>2007-12-01 00:00:00.000</td><td>43</td><td>315</td></tr>",
                            "<tr><td>31</td><td>2008-03-01 00:00:00.000</td><td>20</td><td>315</td></tr>",
                            "<tr><td>31</td><td>2008-04-01 00:00:00.000</td><td>14</td><td>315</td></tr>",
                            "<tr><td>32</td><td>2007-05-01 00:00:00.000</td><td>20</td><td>345</td></tr>",
                            "<tr><td>32</td><td>2007-07-01 00:00:00.000</td><td>93</td><td>345</td></tr>",
                            "<tr><td>32</td><td>2007-09-01 00:00:00.000</td><td>107</td><td>345</td></tr>",
                            "<tr><td>32</td><td>2008-01-01 00:00:00.000</td><td>50</td><td>345</td></tr>",
                            "<tr><td>32</td><td>2008-03-01 00:00:00.000</td><td>30</td><td>345</td></tr>",
                            "<tr><td>32</td><td>2008-04-01 00:00:00.000</td><td>45</td><td>345</td></tr>",
                            "<tr><td>33</td><td>2006-07-01 00:00:00.000</td><td>14</td><td>34</td></tr>",
                            "<tr><td>33</td><td>2007-12-01 00:00:00.000</td><td>20</td><td>34</td></tr>",
                            "<tr><td>34</td><td>2006-07-01 00:00:00.000</td><td>162</td><td>839</td></tr>",
                            "<tr><td>34</td><td>2007-05-01 00:00:00.000</td><td>84</td><td>839</td></tr>",
                            "<tr><td>34</td><td>2007-08-01 00:00:00.000</td><td>35</td><td>839</td></tr>",
                            "<tr><td>34</td><td>2007-10-01 00:00:00.000</td><td>50</td><td>839</td></tr>",
                            "<tr><td>34</td><td>2007-12-01 00:00:00.000</td><td>30</td><td>839</td></tr>",
                            "<tr><td>34</td><td>2008-02-01 00:00:00.000</td><td>226</td><td>839</td></tr>",
                            "<tr><td>34</td><td>2008-03-01 00:00:00.000</td><td>147</td><td>839</td></tr>",
                            "<tr><td>34</td><td>2008-04-01 00:00:00.000</td><td>105</td><td>839</td></tr>",
                            "<tr><td>35</td><td>2006-07-01 00:00:00.000</td><td>46</td><td>1096</td></tr>",
                            "<tr><td>35</td><td>2006-12-01 00:00:00.000</td><td>106</td><td>1096</td></tr>",
                            "<tr><td>35</td><td>2007-03-01 00:00:00.000</td><td>186</td><td>1096</td></tr>",
                            "<tr><td>35</td><td>2007-04-01 00:00:00.000</td><td>49</td><td>1096</td></tr>",
                            "<tr><td>35</td><td>2007-05-01 00:00:00.000</td><td>48</td><td>1096</td></tr>",
                            "<tr><td>35</td><td>2007-07-01 00:00:00.000</td><td>143</td><td>1096</td></tr>",
                            "<tr><td>35</td><td>2007-08-01 00:00:00.000</td><td>110</td><td>1096</td></tr>",
                            "<tr><td>35</td><td>2007-10-01 00:00:00.000</td><td>24</td><td>1096</td></tr>",
                            "<tr><td>35</td><td>2007-12-01 00:00:00.000</td><td>90</td><td>1096</td></tr>",
                            "<tr><td>35</td><td>2008-02-01 00:00:00.000</td><td>92</td><td>1096</td></tr>",
                            "<tr><td>35</td><td>2008-03-01 00:00:00.000</td><td>132</td><td>1096</td></tr>",
                            "<tr><td>35</td><td>2008-04-01 00:00:00.000</td><td>70</td><td>1096</td></tr>",
                            "<tr><td>36</td><td>2006-12-01 00:00:00.000</td><td>45</td><td>122</td></tr>",
                            "<tr><td>36</td><td>2007-01-01 00:00:00.000</td><td>22</td><td>122</td></tr>",
                            "<tr><td>36</td><td>2007-07-01 00:00:00.000</td><td>34</td><td>122</td></tr>",
                            "<tr><td>36</td><td>2007-09-01 00:00:00.000</td><td>21</td><td>122</td></tr>",
                            "<tr><td>37</td><td>2006-09-01 00:00:00.000</td><td>200</td><td>1684</td></tr>",
                            "<tr><td>37</td><td>2006-10-01 00:00:00.000</td><td>86</td><td>1684</td></tr>",
                            "<tr><td>37</td><td>2006-12-01 00:00:00.000</td><td>204</td><td>1684</td></tr>",
                            "<tr><td>37</td><td>2007-01-01 00:00:00.000</td><td>75</td><td>1684</td></tr>",
                            "<tr><td>37</td><td>2007-04-01 00:00:00.000</td><td>215</td><td>1684</td></tr>",
                            "<tr><td>37</td><td>2007-06-01 00:00:00.000</td><td>103</td><td>1684</td></tr>",
                            "<tr><td>37</td><td>2007-08-01 00:00:00.000</td><td>98</td><td>1684</td></tr>",
                            "<tr><td>37</td><td>2007-09-01 00:00:00.000</td><td>118</td><td>1684</td></tr>",
                            "<tr><td>37</td><td>2007-10-01 00:00:00.000</td><td>130</td><td>1684</td></tr>",
                            "<tr><td>37</td><td>2007-11-01 00:00:00.000</td><td>60</td><td>1684</td></tr>",
                            "<tr><td>37</td><td>2008-02-01 00:00:00.000</td><td>216</td><td>1684</td></tr>",
                            "<tr><td>37</td><td>2008-03-01 00:00:00.000</td><td>79</td><td>1684</td></tr>",
                            "<tr><td>37</td><td>2008-04-01 00:00:00.000</td><td>100</td><td>1684</td></tr>",
                            "<tr><td>38</td><td>2006-09-01 00:00:00.000</td><td>44</td><td>295</td></tr>",
                            "<tr><td>38</td><td>2006-10-01 00:00:00.000</td><td>36</td><td>295</td></tr>",
                            "<tr><td>38</td><td>2007-03-01 00:00:00.000</td><td>24</td><td>295</td></tr>",
                            "<tr><td>38</td><td>2007-08-01 00:00:00.000</td><td>50</td><td>295</td></tr>",
                            "<tr><td>38</td><td>2007-09-01 00:00:00.000</td><td>5</td><td>295</td></tr>",
                            "<tr><td>38</td><td>2007-11-01 00:00:00.000</td><td>31</td><td>295</td></tr>",
                            "<tr><td>38</td><td>2007-12-01 00:00:00.000</td><td>12</td><td>295</td></tr>",
                            "<tr><td>38</td><td>2008-01-01 00:00:00.000</td><td>61</td><td>295</td></tr>",
                            "<tr><td>38</td><td>2008-03-01 00:00:00.000</td><td>32</td><td>295</td></tr>",
                            "<tr><td>39</td><td>2006-10-01 00:00:00.000</td><td>84</td><td>903</td></tr>",
                            "<tr><td>39</td><td>2007-02-01 00:00:00.000</td><td>97</td><td>903</td></tr>",
                            "<tr><td>39</td><td>2007-03-01 00:00:00.000</td><td>23</td><td>903</td></tr>",
                            "<tr><td>39</td><td>2007-04-01 00:00:00.000</td><td>32</td><td>903</td></tr>",
                            "<tr><td>39</td><td>2007-05-01 00:00:00.000</td><td>39</td><td>903</td></tr>",
                            "<tr><td>39</td><td>2007-08-01 00:00:00.000</td><td>47</td><td>903</td></tr>",
                            "<tr><td>39</td><td>2007-10-01 00:00:00.000</td><td>116</td><td>903</td></tr>",
                            "<tr><td>39</td><td>2007-12-01 00:00:00.000</td><td>65</td><td>903</td></tr>",
                            "<tr><td>39</td><td>2008-01-01 00:00:00.000</td><td>222</td><td>903</td></tr>",
                            "<tr><td>39</td><td>2008-02-01 00:00:00.000</td><td>119</td><td>903</td></tr>",
                            "<tr><td>39</td><td>2008-04-01 00:00:00.000</td><td>59</td><td>903</td></tr>",
                            "<tr><td>40</td><td>2008-01-01 00:00:00.000</td><td>19</td><td>83</td></tr>",
                            "<tr><td>40</td><td>2008-03-01 00:00:00.000</td><td>64</td><td>83</td></tr>",
                            "<tr><td>41</td><td>2006-11-01 00:00:00.000</td><td>73</td><td>442</td></tr>",
                            "<tr><td>41</td><td>2006-12-01 00:00:00.000</td><td>6</td><td>442</td></tr>",
                            "<tr><td>41</td><td>2007-01-01 00:00:00.000</td><td>108</td><td>442</td></tr>",
                            "<tr><td>41</td><td>2007-02-01 00:00:00.000</td><td>50</td><td>442</td></tr>",
                            "<tr><td>41</td><td>2007-04-01 00:00:00.000</td><td>55</td><td>442</td></tr>",
                            "<tr><td>41</td><td>2007-07-01 00:00:00.000</td><td>21</td><td>442</td></tr>",
                            "<tr><td>41</td><td>2007-08-01 00:00:00.000</td><td>8</td><td>442</td></tr>",
                            "<tr><td>41</td><td>2007-12-01 00:00:00.000</td><td>35</td><td>442</td></tr>",
                            "<tr><td>41</td><td>2008-01-01 00:00:00.000</td><td>32</td><td>442</td></tr>",
                            "<tr><td>41</td><td>2008-03-01 00:00:00.000</td><td>44</td><td>442</td></tr>",
                            "<tr><td>41</td><td>2008-04-01 00:00:00.000</td><td>10</td><td>442</td></tr>",
                            "<tr><td>42</td><td>2007-04-01 00:00:00.000</td><td>35</td><td>62</td></tr>",
                            "<tr><td>42</td><td>2007-08-01 00:00:00.000</td><td>10</td><td>62</td></tr>",
                            "<tr><td>42</td><td>2008-01-01 00:00:00.000</td><td>17</td><td>62</td></tr>",
                            "<tr><td>43</td><td>2007-03-01 00:00:00.000</td><td>10</td><td>20</td></tr>",
                            "<tr><td>43</td><td>2007-05-01 00:00:00.000</td><td>10</td><td>20</td></tr>",
                            "<tr><td>44</td><td>2006-08-01 00:00:00.000</td><td>76</td><td>794</td></tr>",
                            "<tr><td>44</td><td>2006-10-01 00:00:00.000</td><td>69</td><td>794</td></tr>",
                            "<tr><td>44</td><td>2007-04-01 00:00:00.000</td><td>173</td><td>794</td></tr>",
                            "<tr><td>44</td><td>2007-05-01 00:00:00.000</td><td>130</td><td>794</td></tr>",
                            "<tr><td>44</td><td>2007-06-01 00:00:00.000</td><td>50</td><td>794</td></tr>",
                            "<tr><td>44</td><td>2007-07-01 00:00:00.000</td><td>75</td><td>794</td></tr>",
                            "<tr><td>44</td><td>2007-12-01 00:00:00.000</td><td>43</td><td>794</td></tr>",
                            "<tr><td>44</td><td>2008-01-01 00:00:00.000</td><td>33</td><td>794</td></tr>",
                            "<tr><td>44</td><td>2008-02-01 00:00:00.000</td><td>15</td><td>794</td></tr>",
                            "<tr><td>44</td><td>2008-03-01 00:00:00.000</td><td>20</td><td>794</td></tr>",
                            "<tr><td>44</td><td>2008-05-01 00:00:00.000</td><td>110</td><td>794</td></tr>",
                            "<tr><td>45</td><td>2007-06-01 00:00:00.000</td><td>31</td><td>181</td></tr>",
                            "<tr><td>45</td><td>2007-10-01 00:00:00.000</td><td>55</td><td>181</td></tr>",
                            "<tr><td>45</td><td>2007-11-01 00:00:00.000</td><td>22</td><td>181</td></tr>",
                            "<tr><td>45</td><td>2008-02-01 00:00:00.000</td><td>73</td><td>181</td></tr>",
                            "<tr><td>46</td><td>2006-08-01 00:00:00.000</td><td>76</td><td>836</td></tr>",
                            "<tr><td>46</td><td>2006-09-01 00:00:00.000</td><td>57</td><td>836</td></tr>",
                            "<tr><td>46</td><td>2006-10-01 00:00:00.000</td><td>75</td><td>836</td></tr>",
                            "<tr><td>46</td><td>2006-11-01 00:00:00.000</td><td>54</td><td>836</td></tr>",
                            "<tr><td>46</td><td>2006-12-01 00:00:00.000</td><td>14</td><td>836</td></tr>",
                            "<tr><td>46</td><td>2007-02-01 00:00:00.000</td><td>128</td><td>836</td></tr>",
                            "<tr><td>46</td><td>2007-04-01 00:00:00.000</td><td>45</td><td>836</td></tr>",
                            "<tr><td>46</td><td>2007-05-01 00:00:00.000</td><td>100</td><td>836</td></tr>",
                            "<tr><td>46</td><td>2007-12-01 00:00:00.000</td><td>50</td><td>836</td></tr>",
                            "<tr><td>46</td><td>2008-01-01 00:00:00.000</td><td>90</td><td>836</td></tr>",
                            "<tr><td>46</td><td>2008-02-01 00:00:00.000</td><td>8</td><td>836</td></tr>",
                            "<tr><td>46</td><td>2008-04-01 00:00:00.000</td><td>90</td><td>836</td></tr>",
                            "<tr><td>46</td><td>2008-05-01 00:00:00.000</td><td>49</td><td>836</td></tr>",
                            "<tr><td>47</td><td>2007-01-01 00:00:00.000</td><td>50</td><td>970</td></tr>",
                            "<tr><td>47</td><td>2007-03-01 00:00:00.000</td><td>130</td><td>970</td></tr>",
                            "<tr><td>47</td><td>2007-08-01 00:00:00.000</td><td>101</td><td>970</td></tr>",
                            "<tr><td>47</td><td>2007-10-01 00:00:00.000</td><td>76</td><td>970</td></tr>",
                            "<tr><td>47</td><td>2007-11-01 00:00:00.000</td><td>120</td><td>970</td></tr>",
                            "<tr><td>47</td><td>2008-01-01 00:00:00.000</td><td>158</td><td>970</td></tr>",
                            "<tr><td>47</td><td>2008-03-01 00:00:00.000</td><td>175</td><td>970</td></tr>",
                            "<tr><td>47</td><td>2008-04-01 00:00:00.000</td><td>160</td><td>970</td></tr>",
                            "<tr><td>48</td><td>2006-09-01 00:00:00.000</td><td>33</td><td>134</td></tr>",
                            "<tr><td>48</td><td>2007-05-01 00:00:00.000</td><td>14</td><td>134</td></tr>",
                            "<tr><td>48</td><td>2007-09-01 00:00:00.000</td><td>41</td><td>134</td></tr>",
                            "<tr><td>48</td><td>2008-02-01 00:00:00.000</td><td>11</td><td>134</td></tr>",
                            "<tr><td>48</td><td>2008-04-01 00:00:00.000</td><td>35</td><td>134</td></tr>",
                            "<tr><td>49</td><td>2006-08-01 00:00:00.000</td><td>18</td><td>433</td></tr>",
                            "<tr><td>49</td><td>2006-09-01 00:00:00.000</td><td>50</td><td>433</td></tr>",
                            "<tr><td>49</td><td>2007-01-01 00:00:00.000</td><td>100</td><td>433</td></tr>",
                            "<tr><td>49</td><td>2007-03-01 00:00:00.000</td><td>40</td><td>433</td></tr>",
                            "<tr><td>49</td><td>2007-08-01 00:00:00.000</td><td>65</td><td>433</td></tr>",
                            "<tr><td>49</td><td>2007-11-01 00:00:00.000</td><td>3</td><td>433</td></tr>",
                            "<tr><td>49</td><td>2007-12-01 00:00:00.000</td><td>62</td><td>433</td></tr>",
                            "<tr><td>49</td><td>2008-01-01 00:00:00.000</td><td>40</td><td>433</td></tr>",
                            "<tr><td>49</td><td>2008-03-01 00:00:00.000</td><td>55</td><td>433</td></tr>",
                            "<tr><td>50</td><td>2007-05-01 00:00:00.000</td><td>44</td><td>320</td></tr>",
                            "<tr><td>50</td><td>2007-08-01 00:00:00.000</td><td>35</td><td>320</td></tr>",
                            "<tr><td>50</td><td>2007-12-01 00:00:00.000</td><td>82</td><td>320</td></tr>",
                            "<tr><td>50</td><td>2008-02-01 00:00:00.000</td><td>71</td><td>320</td></tr>",
                            "<tr><td>50</td><td>2008-03-01 00:00:00.000</td><td>76</td><td>320</td></tr>",
                            "<tr><td>50</td><td>2008-04-01 00:00:00.000</td><td>12</td><td>320</td></tr>",
                            "<tr><td>51</td><td>2006-10-01 00:00:00.000</td><td>174</td><td>966</td></tr>",
                            "<tr><td>51</td><td>2006-12-01 00:00:00.000</td><td>42</td><td>966</td></tr>",
                            "<tr><td>51</td><td>2007-01-01 00:00:00.000</td><td>139</td><td>966</td></tr>",
                            "<tr><td>51</td><td>2007-02-01 00:00:00.000</td><td>67</td><td>966</td></tr>",
                            "<tr><td>51</td><td>2007-04-01 00:00:00.000</td><td>3</td><td>966</td></tr>",
                            "<tr><td>51</td><td>2007-06-01 00:00:00.000</td><td>118</td><td>966</td></tr>",
                            "<tr><td>51</td><td>2007-07-01 00:00:00.000</td><td>215</td><td>966</td></tr>",
                            "<tr><td>51</td><td>2007-08-01 00:00:00.000</td><td>187</td><td>966</td></tr>",
                            "<tr><td>51</td><td>2007-10-01 00:00:00.000</td><td>21</td><td>966</td></tr>",
                            "<tr><td>52</td><td>2006-08-01 00:00:00.000</td><td>32</td><td>172</td></tr>",
                            "<tr><td>52</td><td>2007-06-01 00:00:00.000</td><td>58</td><td>172</td></tr>",
                            "<tr><td>52</td><td>2007-10-01 00:00:00.000</td><td>12</td><td>172</td></tr>",
                            "<tr><td>52</td><td>2007-12-01 00:00:00.000</td><td>40</td><td>172</td></tr>",
                            "<tr><td>52</td><td>2008-03-01 00:00:00.000</td><td>30</td><td>172</td></tr>",
                            "<tr><td>53</td><td>2007-04-01 00:00:00.000</td><td>16</td><td>30</td></tr>",
                            "<tr><td>53</td><td>2007-11-01 00:00:00.000</td><td>11</td><td>30</td></tr>",
                            "<tr><td>53</td><td>2008-04-01 00:00:00.000</td><td>3</td><td>30</td></tr>",
                            "<tr><td>54</td><td>2007-01-01 00:00:00.000</td><td>24</td><td>132</td></tr>",
                            "<tr><td>54</td><td>2007-05-01 00:00:00.000</td><td>2</td><td>132</td></tr>",
                            "<tr><td>54</td><td>2008-02-01 00:00:00.000</td><td>5</td><td>132</td></tr>",
                            "<tr><td>54</td><td>2008-03-01 00:00:00.000</td><td>101</td><td>132</td></tr>",
                            "<tr><td>55</td><td>2006-09-01 00:00:00.000</td><td>80</td><td>603</td></tr>",
                            "<tr><td>55</td><td>2006-10-01 00:00:00.000</td><td>35</td><td>603</td></tr>",
                            "<tr><td>55</td><td>2007-02-01 00:00:00.000</td><td>50</td><td>603</td></tr>",
                            "<tr><td>55</td><td>2007-07-01 00:00:00.000</td><td>54</td><td>603</td></tr>",
                            "<tr><td>55</td><td>2007-09-01 00:00:00.000</td><td>110</td><td>603</td></tr>",
                            "<tr><td>55</td><td>2007-10-01 00:00:00.000</td><td>52</td><td>603</td></tr>",
                            "<tr><td>55</td><td>2008-01-01 00:00:00.000</td><td>173</td><td>603</td></tr>",
                            "<tr><td>55</td><td>2008-03-01 00:00:00.000</td><td>16</td><td>603</td></tr>",
                            "<tr><td>55</td><td>2008-04-01 00:00:00.000</td><td>33</td><td>603</td></tr>",
                            "<tr><td>56</td><td>2006-07-01 00:00:00.000</td><td>102</td><td>639</td></tr>",
                            "<tr><td>56</td><td>2007-01-01 00:00:00.000</td><td>60</td><td>639</td></tr>",
                            "<tr><td>56</td><td>2007-04-01 00:00:00.000</td><td>20</td><td>639</td></tr>",
                            "<tr><td>56</td><td>2007-05-01 00:00:00.000</td><td>80</td><td>639</td></tr>",
                            "<tr><td>56</td><td>2007-06-01 00:00:00.000</td><td>54</td><td>639</td></tr>",
                            "<tr><td>56</td><td>2007-09-01 00:00:00.000</td><td>90</td><td>639</td></tr>",
                            "<tr><td>56</td><td>2007-12-01 00:00:00.000</td><td>115</td><td>639</td></tr>",
                            "<tr><td>56</td><td>2008-01-01 00:00:00.000</td><td>38</td><td>639</td></tr>",
                            "<tr><td>56</td><td>2008-04-01 00:00:00.000</td><td>80</td><td>639</td></tr>",
                            "<tr><td>58</td><td>2006-10-01 00:00:00.000</td><td>20</td><td>208</td></tr>",
                            "<tr><td>58</td><td>2006-11-01 00:00:00.000</td><td>16</td><td>208</td></tr>",
                            "<tr><td>58</td><td>2007-03-01 00:00:00.000</td><td>61</td><td>208</td></tr>",
                            "<tr><td>58</td><td>2007-04-01 00:00:00.000</td><td>57</td><td>208</td></tr>",
                            "<tr><td>58</td><td>2008-04-01 00:00:00.000</td><td>24</td><td>208</td></tr>",
                            "<tr><td>58</td><td>2008-05-01 00:00:00.000</td><td>30</td><td>208</td></tr>",
                            "<tr><td>59</td><td>2006-11-01 00:00:00.000</td><td>62</td><td>624</td></tr>",
                            "<tr><td>59</td><td>2006-12-01 00:00:00.000</td><td>50</td><td>624</td></tr>",
                            "<tr><td>59</td><td>2007-01-01 00:00:00.000</td><td>35</td><td>624</td></tr>",
                            "<tr><td>59</td><td>2007-03-01 00:00:00.000</td><td>33</td><td>624</td></tr>",
                            "<tr><td>59</td><td>2007-05-01 00:00:00.000</td><td>135</td><td>624</td></tr>",
                            "<tr><td>59</td><td>2007-07-01 00:00:00.000</td><td>67</td><td>624</td></tr>",
                            "<tr><td>59</td><td>2007-09-01 00:00:00.000</td><td>45</td><td>624</td></tr>",
                            "<tr><td>59</td><td>2007-11-01 00:00:00.000</td><td>82</td><td>624</td></tr>",
                            "<tr><td>59</td><td>2008-01-01 00:00:00.000</td><td>35</td><td>624</td></tr>",
                            "<tr><td>59</td><td>2008-04-01 00:00:00.000</td><td>80</td><td>624</td></tr>",
                            "<tr><td>60</td><td>2006-10-01 00:00:00.000</td><td>18</td><td>184</td></tr>",
                            "<tr><td>60</td><td>2006-12-01 00:00:00.000</td><td>28</td><td>184</td></tr>",
                            "<tr><td>60</td><td>2007-02-01 00:00:00.000</td><td>28</td><td>184</td></tr>",
                            "<tr><td>60</td><td>2007-03-01 00:00:00.000</td><td>56</td><td>184</td></tr>",
                            "<tr><td>60</td><td>2008-04-01 00:00:00.000</td><td>54</td><td>184</td></tr>",
                            "<tr><td>61</td><td>2006-07-01 00:00:00.000</td><td>40</td><td>394</td></tr>",
                            "<tr><td>61</td><td>2006-08-01 00:00:00.000</td><td>46</td><td>394</td></tr>",
                            "<tr><td>61</td><td>2006-12-01 00:00:00.000</td><td>44</td><td>394</td></tr>",
                            "<tr><td>61</td><td>2007-01-01 00:00:00.000</td><td>59</td><td>394</td></tr>",
                            "<tr><td>61</td><td>2007-07-01 00:00:00.000</td><td>46</td><td>394</td></tr>",
                            "<tr><td>61</td><td>2007-08-01 00:00:00.000</td><td>50</td><td>394</td></tr>",
                            "<tr><td>61</td><td>2007-10-01 00:00:00.000</td><td>29</td><td>394</td></tr>",
                            "<tr><td>61</td><td>2007-12-01 00:00:00.000</td><td>21</td><td>394</td></tr>",
                            "<tr><td>61</td><td>2008-03-01 00:00:00.000</td><td>59</td><td>394</td></tr>",
                            "<tr><td>62</td><td>2006-12-01 00:00:00.000</td><td>164</td><td>1031</td></tr>",
                            "<tr><td>62</td><td>2007-01-01 00:00:00.000</td><td>89</td><td>1031</td></tr>",
                            "<tr><td>62</td><td>2007-03-01 00:00:00.000</td><td>59</td><td>1031</td></tr>",
                            "<tr><td>62</td><td>2007-08-01 00:00:00.000</td><td>95</td><td>1031</td></tr>",
                            "<tr><td>62</td><td>2007-09-01 00:00:00.000</td><td>84</td><td>1031</td></tr>",
                            "<tr><td>62</td><td>2007-10-01 00:00:00.000</td><td>65</td><td>1031</td></tr>",
                            "<tr><td>62</td><td>2007-11-01 00:00:00.000</td><td>48</td><td>1031</td></tr>",
                            "<tr><td>62</td><td>2007-12-01 00:00:00.000</td><td>87</td><td>1031</td></tr>",
                            "<tr><td>62</td><td>2008-02-01 00:00:00.000</td><td>202</td><td>1031</td></tr>",
                            "<tr><td>62</td><td>2008-03-01 00:00:00.000</td><td>66</td><td>1031</td></tr>",
                            "<tr><td>62</td><td>2008-05-01 00:00:00.000</td><td>72</td><td>1031</td></tr>",
                            "<tr><td>63</td><td>2006-08-01 00:00:00.000</td><td>413</td><td>3961</td></tr>",
                            "<tr><td>63</td><td>2006-09-01 00:00:00.000</td><td>12</td><td>3961</td></tr>",
                            "<tr><td>63</td><td>2006-11-01 00:00:00.000</td><td>268</td><td>3961</td></tr>",
                            "<tr><td>63</td><td>2007-01-01 00:00:00.000</td><td>146</td><td>3961</td></tr>",
                            "<tr><td>63</td><td>2007-02-01 00:00:00.000</td><td>238</td><td>3961</td></tr>",
                            "<tr><td>63</td><td>2007-04-01 00:00:00.000</td><td>286</td><td>3961</td></tr>",
                            "<tr><td>63</td><td>2007-05-01 00:00:00.000</td><td>448</td><td>3961</td></tr>",
                            "<tr><td>63</td><td>2007-07-01 00:00:00.000</td><td>140</td><td>3961</td></tr>",
                            "<tr><td>63</td><td>2007-09-01 00:00:00.000</td><td>255</td><td>3961</td></tr>",
                            "<tr><td>63</td><td>2007-10-01 00:00:00.000</td><td>397</td><td>3961</td></tr>",
                            "<tr><td>63</td><td>2007-11-01 00:00:00.000</td><td>92</td><td>3961</td></tr>",
                            "<tr><td>63</td><td>2007-12-01 00:00:00.000</td><td>170</td><td>3961</td></tr>",
                            "<tr><td>63</td><td>2008-01-01 00:00:00.000</td><td>245</td><td>3961</td></tr>",
                            "<tr><td>63</td><td>2008-02-01 00:00:00.000</td><td>160</td><td>3961</td></tr>",
                            "<tr><td>63</td><td>2008-03-01 00:00:00.000</td><td>323</td><td>3961</td></tr>",
                            "<tr><td>63</td><td>2008-04-01 00:00:00.000</td><td>368</td><td>3961</td></tr>",
                            "<tr><td>64</td><td>2007-02-01 00:00:00.000</td><td>26</td><td>92</td></tr>",
                            "<tr><td>64</td><td>2007-10-01 00:00:00.000</td><td>22</td><td>92</td></tr>",
                            "<tr><td>64</td><td>2008-01-01 00:00:00.000</td><td>7</td><td>92</td></tr>",
                            "<tr><td>64</td><td>2008-02-01 00:00:00.000</td><td>32</td><td>92</td></tr>",
                            "<tr><td>64</td><td>2008-04-01 00:00:00.000</td><td>5</td><td>92</td></tr>",
                            "<tr><td>65</td><td>2006-07-01 00:00:00.000</td><td>29</td><td>1383</td></tr>",
                            "<tr><td>65</td><td>2006-08-01 00:00:00.000</td><td>145</td><td>1383</td></tr>",
                            "<tr><td>65</td><td>2006-09-01 00:00:00.000</td><td>175</td><td>1383</td></tr>",
                            "<tr><td>65</td><td>2006-11-01 00:00:00.000</td><td>56</td><td>1383</td></tr>",
                            "<tr><td>65</td><td>2007-01-01 00:00:00.000</td><td>168</td><td>1383</td></tr>",
                            "<tr><td>65</td><td>2007-03-01 00:00:00.000</td><td>148</td><td>1383</td></tr>",
                            "<tr><td>65</td><td>2007-06-01 00:00:00.000</td><td>112</td><td>1383</td></tr>",
                            "<tr><td>65</td><td>2007-07-01 00:00:00.000</td><td>59</td><td>1383</td></tr>",
                            "<tr><td>65</td><td>2007-12-01 00:00:00.000</td><td>53</td><td>1383</td></tr>",
                            "<tr><td>65</td><td>2008-01-01 00:00:00.000</td><td>101</td><td>1383</td></tr>",
                            "<tr><td>65</td><td>2008-02-01 00:00:00.000</td><td>80</td><td>1383</td></tr>",
                            "<tr><td>65</td><td>2008-03-01 00:00:00.000</td><td>100</td><td>1383</td></tr>",
                            "<tr><td>65</td><td>2008-04-01 00:00:00.000</td><td>85</td><td>1383</td></tr>",
                            "<tr><td>65</td><td>2008-05-01 00:00:00.000</td><td>72</td><td>1383</td></tr>",
                            "<tr><td>66</td><td>2006-08-01 00:00:00.000</td><td>13</td><td>335</td></tr>",
                            "<tr><td>66</td><td>2007-01-01 00:00:00.000</td><td>20</td><td>335</td></tr>",
                            "<tr><td>66</td><td>2007-02-01 00:00:00.000</td><td>18</td><td>335</td></tr>",
                            "<tr><td>66</td><td>2007-06-01 00:00:00.000</td><td>30</td><td>335</td></tr>",
                            "<tr><td>66</td><td>2007-07-01 00:00:00.000</td><td>4</td><td>335</td></tr>",
                            "<tr><td>66</td><td>2007-09-01 00:00:00.000</td><td>20</td><td>335</td></tr>",
                            "<tr><td>66</td><td>2007-11-01 00:00:00.000</td><td>40</td><td>335</td></tr>",
                            "<tr><td>66</td><td>2008-01-01 00:00:00.000</td><td>76</td><td>335</td></tr>",
                            "<tr><td>66</td><td>2008-02-01 00:00:00.000</td><td>34</td><td>335</td></tr>",
                            "<tr><td>66</td><td>2008-03-01 00:00:00.000</td><td>28</td><td>335</td></tr>",
                            "<tr><td>66</td><td>2008-04-01 00:00:00.000</td><td>52</td><td>335</td></tr>",
                            "<tr><td>67</td><td>2006-08-01 00:00:00.000</td><td>75</td><td>660</td></tr>",
                            "<tr><td>67</td><td>2006-09-01 00:00:00.000</td><td>35</td><td>660</td></tr>",
                            "<tr><td>67</td><td>2007-02-01 00:00:00.000</td><td>77</td><td>660</td></tr>",
                            "<tr><td>67</td><td>2007-03-01 00:00:00.000</td><td>64</td><td>660</td></tr>",
                            "<tr><td>67</td><td>2007-06-01 00:00:00.000</td><td>95</td><td>660</td></tr>",
                            "<tr><td>67</td><td>2007-08-01 00:00:00.000</td><td>68</td><td>660</td></tr>",
                            "<tr><td>67</td><td>2008-01-01 00:00:00.000</td><td>114</td><td>660</td></tr>",
                            "<tr><td>67</td><td>2008-02-01 00:00:00.000</td><td>55</td><td>660</td></tr>",
                            "<tr><td>67</td><td>2008-04-01 00:00:00.000</td><td>77</td><td>660</td></tr>",
                            "<tr><td>68</td><td>2006-07-01 00:00:00.000</td><td>110</td><td>810</td></tr>",
                            "<tr><td>68</td><td>2007-01-01 00:00:00.000</td><td>80</td><td>810</td></tr>",
                            "<tr><td>68</td><td>2007-05-01 00:00:00.000</td><td>86</td><td>810</td></tr>",
                            "<tr><td>68</td><td>2007-09-01 00:00:00.000</td><td>46</td><td>810</td></tr>",
                            "<tr><td>68</td><td>2007-11-01 00:00:00.000</td><td>197</td><td>810</td></tr>",
                            "<tr><td>68</td><td>2008-03-01 00:00:00.000</td><td>143</td><td>810</td></tr>",
                            "<tr><td>68</td><td>2008-04-01 00:00:00.000</td><td>106</td><td>810</td></tr>",
                            "<tr><td>68</td><td>2008-05-01 00:00:00.000</td><td>42</td><td>810</td></tr>",
                            "<tr><td>69</td><td>2006-08-01 00:00:00.000</td><td>19</td><td>91</td></tr>",
                            "<tr><td>69</td><td>2006-09-01 00:00:00.000</td><td>25</td><td>91</td></tr>",
                            "<tr><td>69</td><td>2008-03-01 00:00:00.000</td><td>11</td><td>91</td></tr>",
                            "<tr><td>69</td><td>2008-04-01 00:00:00.000</td><td>36</td><td>91</td></tr>",
                            "<tr><td>70</td><td>2006-12-01 00:00:00.000</td><td>48</td><td>161</td></tr>",
                            "<tr><td>70</td><td>2007-04-01 00:00:00.000</td><td>13</td><td>161</td></tr>",
                            "<tr><td>70</td><td>2007-08-01 00:00:00.000</td><td>8</td><td>161</td></tr>",
                            "<tr><td>70</td><td>2008-01-01 00:00:00.000</td><td>27</td><td>161</td></tr>",
                            "<tr><td>70</td><td>2008-02-01 00:00:00.000</td><td>32</td><td>161</td></tr>",
                            "<tr><td>70</td><td>2008-04-01 00:00:00.000</td><td>33</td><td>161</td></tr>",
                            "<tr><td>71</td><td>2006-10-01 00:00:00.000</td><td>241</td><td>4958</td></tr>",
                            "<tr><td>71</td><td>2006-12-01 00:00:00.000</td><td>326</td><td>4958</td></tr>",
                            "<tr><td>71</td><td>2007-02-01 00:00:00.000</td><td>323</td><td>4958</td></tr>",
                            "<tr><td>71</td><td>2007-04-01 00:00:00.000</td><td>72</td><td>4958</td></tr>",
                            "<tr><td>71</td><td>2007-06-01 00:00:00.000</td><td>143</td><td>4958</td></tr>",
                            "<tr><td>71</td><td>2007-07-01 00:00:00.000</td><td>549</td><td>4958</td></tr>",
                            "<tr><td>71</td><td>2007-08-01 00:00:00.000</td><td>50</td><td>4958</td></tr>",
                            "<tr><td>71</td><td>2007-09-01 00:00:00.000</td><td>484</td><td>4958</td></tr>",
                            "<tr><td>71</td><td>2007-10-01 00:00:00.000</td><td>750</td><td>4958</td></tr>",
                            "<tr><td>71</td><td>2007-11-01 00:00:00.000</td><td>203</td><td>4958</td></tr>",
                            "<tr><td>71</td><td>2008-01-01 00:00:00.000</td><td>304</td><td>4958</td></tr>",
                            "<tr><td>71</td><td>2008-02-01 00:00:00.000</td><td>275</td><td>4958</td></tr>",
                            "<tr><td>71</td><td>2008-03-01 00:00:00.000</td><td>418</td><td>4958</td></tr>",
                            "<tr><td>71</td><td>2008-04-01 00:00:00.000</td><td>647</td><td>4958</td></tr>",
                            "<tr><td>71</td><td>2008-05-01 00:00:00.000</td><td>173</td><td>4958</td></tr>",
                            "<tr><td>72</td><td>2006-11-01 00:00:00.000</td><td>206</td><td>818</td></tr>",
                            "<tr><td>72</td><td>2006-12-01 00:00:00.000</td><td>115</td><td>818</td></tr>",
                            "<tr><td>72</td><td>2007-03-01 00:00:00.000</td><td>98</td><td>818</td></tr>",
                            "<tr><td>72</td><td>2007-05-01 00:00:00.000</td><td>148</td><td>818</td></tr>",
                            "<tr><td>72</td><td>2007-12-01 00:00:00.000</td><td>131</td><td>818</td></tr>",
                            "<tr><td>72</td><td>2008-02-01 00:00:00.000</td><td>120</td><td>818</td></tr>",
                            "<tr><td>73</td><td>2006-10-01 00:00:00.000</td><td>17</td><td>378</td></tr>",
                            "<tr><td>73</td><td>2007-01-01 00:00:00.000</td><td>123</td><td>378</td></tr>",
                            "<tr><td>73</td><td>2007-06-01 00:00:00.000</td><td>24</td><td>378</td></tr>",
                            "<tr><td>73</td><td>2007-08-01 00:00:00.000</td><td>50</td><td>378</td></tr>",
                            "<tr><td>73</td><td>2007-09-01 00:00:00.000</td><td>30</td><td>378</td></tr>",
                            "<tr><td>73</td><td>2007-12-01 00:00:00.000</td><td>120</td><td>378</td></tr>",
                            "<tr><td>73</td><td>2008-05-01 00:00:00.000</td><td>14</td><td>378</td></tr>",
                            "<tr><td>74</td><td>2007-11-01 00:00:00.000</td><td>3</td><td>48</td></tr>",
                            "<tr><td>74</td><td>2008-02-01 00:00:00.000</td><td>14</td><td>48</td></tr>",
                            "<tr><td>74</td><td>2008-03-01 00:00:00.000</td><td>21</td><td>48</td></tr>",
                            "<tr><td>74</td><td>2008-04-01 00:00:00.000</td><td>10</td><td>48</td></tr>",
                            "<tr><td>75</td><td>2006-08-01 00:00:00.000</td><td>24</td><td>327</td></tr>",
                            "<tr><td>75</td><td>2006-10-01 00:00:00.000</td><td>50</td><td>327</td></tr>",
                            "<tr><td>75</td><td>2006-11-01 00:00:00.000</td><td>24</td><td>327</td></tr>",
                            "<tr><td>75</td><td>2006-12-01 00:00:00.000</td><td>76</td><td>327</td></tr>",
                            "<tr><td>75</td><td>2007-01-01 00:00:00.000</td><td>50</td><td>327</td></tr>",
                            "<tr><td>75</td><td>2007-11-01 00:00:00.000</td><td>67</td><td>327</td></tr>",
                            "<tr><td>75</td><td>2008-01-01 00:00:00.000</td><td>26</td><td>327</td></tr>",
                            "<tr><td>75</td><td>2008-03-01 00:00:00.000</td><td>10</td><td>327</td></tr>",
                            "<tr><td>76</td><td>2006-07-01 00:00:00.000</td><td>105</td><td>1072</td></tr>",
                            "<tr><td>76</td><td>2006-09-01 00:00:00.000</td><td>80</td><td>1072</td></tr>",
                            "<tr><td>76</td><td>2007-02-01 00:00:00.000</td><td>145</td><td>1072</td></tr>",
                            "<tr><td>76</td><td>2007-03-01 00:00:00.000</td><td>208</td><td>1072</td></tr>",
                            "<tr><td>76</td><td>2007-12-01 00:00:00.000</td><td>2</td><td>1072</td></tr>",
                            "<tr><td>76</td><td>2008-01-01 00:00:00.000</td><td>182</td><td>1072</td></tr>",
                            "<tr><td>76</td><td>2008-02-01 00:00:00.000</td><td>87</td><td>1072</td></tr>",
                            "<tr><td>76</td><td>2008-03-01 00:00:00.000</td><td>116</td><td>1072</td></tr>",
                            "<tr><td>76</td><td>2008-04-01 00:00:00.000</td><td>147</td><td>1072</td></tr>",
                            "<tr><td>77</td><td>2006-09-01 00:00:00.000</td><td>15</td><td>46</td></tr>",
                            "<tr><td>77</td><td>2007-10-01 00:00:00.000</td><td>9</td><td>46</td></tr>",
                            "<tr><td>77</td><td>2007-12-01 00:00:00.000</td><td>20</td><td>46</td></tr>",
                            "<tr><td>77</td><td>2008-04-01 00:00:00.000</td><td>2</td><td>46</td></tr>",
                            "<tr><td>78</td><td>2007-08-01 00:00:00.000</td><td>26</td><td>59</td></tr>",
                            "<tr><td>78</td><td>2007-12-01 00:00:00.000</td><td>9</td><td>59</td></tr>",
                            "<tr><td>78</td><td>2008-04-01 00:00:00.000</td><td>24</td><td>59</td></tr>",
                            "<tr><td>79</td><td>2006-07-01 00:00:00.000</td><td>49</td><td>253</td></tr>",
                            "<tr><td>79</td><td>2007-02-01 00:00:00.000</td><td>100</td><td>253</td></tr>",
                            "<tr><td>79</td><td>2007-05-01 00:00:00.000</td><td>24</td><td>253</td></tr>",
                            "<tr><td>79</td><td>2007-07-01 00:00:00.000</td><td>28</td><td>253</td></tr>",
                            "<tr><td>79</td><td>2008-03-01 00:00:00.000</td><td>52</td><td>253</td></tr>",
                            "<tr><td>80</td><td>2006-08-01 00:00:00.000</td><td>58</td><td>384</td></tr>",
                            "<tr><td>80</td><td>2006-09-01 00:00:00.000</td><td>42</td><td>384</td></tr>",
                            "<tr><td>80</td><td>2006-10-01 00:00:00.000</td><td>52</td><td>384</td></tr>",
                            "<tr><td>80</td><td>2007-04-01 00:00:00.000</td><td>29</td><td>384</td></tr>",
                            "<tr><td>80</td><td>2007-06-01 00:00:00.000</td><td>51</td><td>384</td></tr>",
                            "<tr><td>80</td><td>2007-09-01 00:00:00.000</td><td>30</td><td>384</td></tr>",
                            "<tr><td>80</td><td>2008-01-01 00:00:00.000</td><td>52</td><td>384</td></tr>",
                            "<tr><td>80</td><td>2008-02-01 00:00:00.000</td><td>50</td><td>384</td></tr>",
                            "<tr><td>80</td><td>2008-05-01 00:00:00.000</td><td>20</td><td>384</td></tr>",
                            "<tr><td>81</td><td>2006-08-01 00:00:00.000</td><td>20</td><td>251</td></tr>",
                            "<tr><td>81</td><td>2007-04-01 00:00:00.000</td><td>20</td><td>251</td></tr>",
                            "<tr><td>81</td><td>2007-07-01 00:00:00.000</td><td>50</td><td>251</td></tr>",
                            "<tr><td>81</td><td>2008-01-01 00:00:00.000</td><td>161</td><td>251</td></tr>",
                            "<tr><td>82</td><td>2007-06-01 00:00:00.000</td><td>80</td><td>89</td></tr>",
                            "<tr><td>82</td><td>2008-01-01 00:00:00.000</td><td>9</td><td>89</td></tr>",
                            "<tr><td>83</td><td>2006-11-01 00:00:00.000</td><td>76</td><td>792</td></tr>",
                            "<tr><td>83</td><td>2006-12-01 00:00:00.000</td><td>139</td><td>792</td></tr>",
                            "<tr><td>83</td><td>2007-03-01 00:00:00.000</td><td>118</td><td>792</td></tr>",
                            "<tr><td>83</td><td>2007-07-01 00:00:00.000</td><td>79</td><td>792</td></tr>",
                            "<tr><td>83</td><td>2007-10-01 00:00:00.000</td><td>92</td><td>792</td></tr>",
                            "<tr><td>83</td><td>2007-11-01 00:00:00.000</td><td>50</td><td>792</td></tr>",
                            "<tr><td>83</td><td>2007-12-01 00:00:00.000</td><td>80</td><td>792</td></tr>",
                            "<tr><td>83</td><td>2008-03-01 00:00:00.000</td><td>140</td><td>792</td></tr>",
                            "<tr><td>83</td><td>2008-04-01 00:00:00.000</td><td>18</td><td>792</td></tr>",
                            "<tr><td>84</td><td>2006-07-01 00:00:00.000</td><td>41</td><td>434</td></tr>",
                            "<tr><td>84</td><td>2006-10-01 00:00:00.000</td><td>18</td><td>434</td></tr>",
                            "<tr><td>84</td><td>2007-02-01 00:00:00.000</td><td>102</td><td>434</td></tr>",
                            "<tr><td>84</td><td>2007-03-01 00:00:00.000</td><td>20</td><td>434</td></tr>",
                            "<tr><td>84</td><td>2007-05-01 00:00:00.000</td><td>80</td><td>434</td></tr>",
                            "<tr><td>84</td><td>2007-12-01 00:00:00.000</td><td>37</td><td>434</td></tr>",
                            "<tr><td>84</td><td>2008-01-01 00:00:00.000</td><td>136</td><td>434</td></tr>",
                            "<tr><td>85</td><td>2006-07-01 00:00:00.000</td><td>27</td><td>98</td></tr>",
                            "<tr><td>85</td><td>2006-08-01 00:00:00.000</td><td>27</td><td>98</td></tr>",
                            "<tr><td>85</td><td>2006-09-01 00:00:00.000</td><td>4</td><td>98</td></tr>",
                            "<tr><td>85</td><td>2007-11-01 00:00:00.000</td><td>40</td><td>98</td></tr>",
                            "<tr><td>86</td><td>2006-09-01 00:00:00.000</td><td>88</td><td>492</td></tr>",
                            "<tr><td>86</td><td>2006-11-01 00:00:00.000</td><td>102</td><td>492</td></tr>",
                            "<tr><td>86</td><td>2007-04-01 00:00:00.000</td><td>105</td><td>492</td></tr>",
                            "<tr><td>86</td><td>2007-08-01 00:00:00.000</td><td>85</td><td>492</td></tr>",
                            "<tr><td>86</td><td>2007-09-01 00:00:00.000</td><td>59</td><td>492</td></tr>",
                            "<tr><td>86</td><td>2008-04-01 00:00:00.000</td><td>53</td><td>492</td></tr>",
                            "<tr><td>87</td><td>2006-07-01 00:00:00.000</td><td>12</td><td>737</td></tr>",
                            "<tr><td>87</td><td>2006-08-01 00:00:00.000</td><td>55</td><td>737</td></tr>",
                            "<tr><td>87</td><td>2006-10-01 00:00:00.000</td><td>90</td><td>737</td></tr>",
                            "<tr><td>87</td><td>2007-01-01 00:00:00.000</td><td>70</td><td>737</td></tr>",
                            "<tr><td>87</td><td>2007-02-01 00:00:00.000</td><td>140</td><td>737</td></tr>",
                            "<tr><td>87</td><td>2007-05-01 00:00:00.000</td><td>137</td><td>737</td></tr>",
                            "<tr><td>87</td><td>2007-06-01 00:00:00.000</td><td>44</td><td>737</td></tr>",
                            "<tr><td>87</td><td>2007-08-01 00:00:00.000</td><td>31</td><td>737</td></tr>",
                            "<tr><td>87</td><td>2007-11-01 00:00:00.000</td><td>70</td><td>737</td></tr>",
                            "<tr><td>87</td><td>2007-12-01 00:00:00.000</td><td>58</td><td>737</td></tr>",
                            "<tr><td>87</td><td>2008-04-01 00:00:00.000</td><td>30</td><td>737</td></tr>",
                            "<tr><td>88</td><td>2006-07-01 00:00:00.000</td><td>27</td><td>267</td></tr>",
                            "<tr><td>88</td><td>2007-01-01 00:00:00.000</td><td>50</td><td>267</td></tr>",
                            "<tr><td>88</td><td>2007-07-01 00:00:00.000</td><td>15</td><td>267</td></tr>",
                            "<tr><td>88</td><td>2007-08-01 00:00:00.000</td><td>45</td><td>267</td></tr>",
                            "<tr><td>88</td><td>2007-12-01 00:00:00.000</td><td>54</td><td>267</td></tr>",
                            "<tr><td>88</td><td>2008-01-01 00:00:00.000</td><td>20</td><td>267</td></tr>",
                            "<tr><td>88</td><td>2008-02-01 00:00:00.000</td><td>23</td><td>267</td></tr>",
                            "<tr><td>88</td><td>2008-03-01 00:00:00.000</td><td>33</td><td>267</td></tr>",
                            "<tr><td>89</td><td>2006-07-01 00:00:00.000</td><td>80</td><td>1063</td></tr>",
                            "<tr><td>89</td><td>2006-11-01 00:00:00.000</td><td>105</td><td>1063</td></tr>",
                            "<tr><td>89</td><td>2007-03-01 00:00:00.000</td><td>142</td><td>1063</td></tr>",
                            "<tr><td>89</td><td>2007-04-01 00:00:00.000</td><td>59</td><td>1063</td></tr>",
                            "<tr><td>89</td><td>2007-07-01 00:00:00.000</td><td>59</td><td>1063</td></tr>",
                            "<tr><td>89</td><td>2007-10-01 00:00:00.000</td><td>164</td><td>1063</td></tr>",
                            "<tr><td>89</td><td>2007-11-01 00:00:00.000</td><td>94</td><td>1063</td></tr>",
                            "<tr><td>89</td><td>2008-01-01 00:00:00.000</td><td>140</td><td>1063</td></tr>",
                            "<tr><td>89</td><td>2008-02-01 00:00:00.000</td><td>50</td><td>1063</td></tr>",
                            "<tr><td>89</td><td>2008-04-01 00:00:00.000</td><td>90</td><td>1063</td></tr>",
                            "<tr><td>89</td><td>2008-05-01 00:00:00.000</td><td>80</td><td>1063</td></tr>",
                            "<tr><td>90</td><td>2007-07-01 00:00:00.000</td><td>5</td><td>148</td></tr>",
                            "<tr><td>90</td><td>2007-09-01 00:00:00.000</td><td>15</td><td>148</td></tr>",
                            "<tr><td>90</td><td>2007-10-01 00:00:00.000</td><td>34</td><td>148</td></tr>",
                            "<tr><td>90</td><td>2008-02-01 00:00:00.000</td><td>82</td><td>148</td></tr>",
                            "<tr><td>90</td><td>2008-04-01 00:00:00.000</td><td>12</td><td>148</td></tr>",
                            "<tr><td>91</td><td>2006-12-01 00:00:00.000</td><td>45</td><td>205</td></tr>",
                            "<tr><td>91</td><td>2007-07-01 00:00:00.000</td><td>31</td><td>205</td></tr>",
                            "<tr><td>91</td><td>2007-12-01 00:00:00.000</td><td>28</td><td>205</td></tr>",
                            "<tr><td>91</td><td>2008-02-01 00:00:00.000</td><td>20</td><td>205</td></tr>",
                            "<tr><td>91</td><td>2008-04-01 00:00:00.000</td><td>81</td><td>205</td></tr>",
                            "</table>"
                        ]
                    }
                }
            ],
            "execution_count": 12
        },
        {
            "cell_type": "markdown",
            "source": [
                "2.4. Lado por lado, usar funciones de agregación con OVER()."
            ],
            "metadata": {
                "azdata_cell_guid": "93d1d0ca-eabd-4ff3-b9df-02e73127ea56"
            }
        },
        {
            "cell_type": "code",
            "source": [
                "SELECT CatID, CatName, ProdName, UnitPrice,\r\n",
                "\tSUM(UnitPrice) OVER(PARTITION BY CatID) AS Total,\r\n",
                "\tAVG(UnitPrice) OVER(PARTITION BY CatID) AS Average,\r\n",
                "\tCOUNT(UnitPrice) OVER(PARTITION BY CatID) AS ProdsPerCat\r\n",
                "FROM Production.CategorizedProducts\r\n",
                "ORDER BY CatID; "
            ],
            "metadata": {
                "azdata_cell_guid": "9e748b9e-7da9-43ab-89eb-a9093ddfdd0c"
            },
            "outputs": [
                {
                    "output_type": "display_data",
                    "data": {
                        "text/html": "(77 rows affected)"
                    },
                    "metadata": {}
                },
                {
                    "output_type": "display_data",
                    "data": {
                        "text/html": "Total execution time: 00:00:00.218"
                    },
                    "metadata": {}
                },
                {
                    "output_type": "execute_result",
                    "metadata": {},
                    "execution_count": 13,
                    "data": {
                        "application/vnd.dataresource+json": {
                            "schema": {
                                "fields": [
                                    {
                                        "name": "CatID"
                                    },
                                    {
                                        "name": "CatName"
                                    },
                                    {
                                        "name": "ProdName"
                                    },
                                    {
                                        "name": "UnitPrice"
                                    },
                                    {
                                        "name": "Total"
                                    },
                                    {
                                        "name": "Average"
                                    },
                                    {
                                        "name": "ProdsPerCat"
                                    }
                                ]
                            },
                            "data": [
                                {
                                    "0": "1",
                                    "1": "Beverages",
                                    "2": "Product HHYDP",
                                    "3": "18.0000",
                                    "4": "455.7500",
                                    "5": "37.9791",
                                    "6": "12"
                                },
                                {
                                    "0": "1",
                                    "1": "Beverages",
                                    "2": "Product RECZE",
                                    "3": "19.0000",
                                    "4": "455.7500",
                                    "5": "37.9791",
                                    "6": "12"
                                },
                                {
                                    "0": "1",
                                    "1": "Beverages",
                                    "2": "Product QOGNU",
                                    "3": "4.5000",
                                    "4": "455.7500",
                                    "5": "37.9791",
                                    "6": "12"
                                },
                                {
                                    "0": "1",
                                    "1": "Beverages",
                                    "2": "Product SWNJY",
                                    "3": "14.0000",
                                    "4": "455.7500",
                                    "5": "37.9791",
                                    "6": "12"
                                },
                                {
                                    "0": "1",
                                    "1": "Beverages",
                                    "2": "Product NEVTJ",
                                    "3": "18.0000",
                                    "4": "455.7500",
                                    "5": "37.9791",
                                    "6": "12"
                                },
                                {
                                    "0": "1",
                                    "1": "Beverages",
                                    "2": "Product QDOMO",
                                    "3": "263.5000",
                                    "4": "455.7500",
                                    "5": "37.9791",
                                    "6": "12"
                                },
                                {
                                    "0": "1",
                                    "1": "Beverages",
                                    "2": "Product LSOFL",
                                    "3": "18.0000",
                                    "4": "455.7500",
                                    "5": "37.9791",
                                    "6": "12"
                                },
                                {
                                    "0": "1",
                                    "1": "Beverages",
                                    "2": "Product ZZZHR",
                                    "3": "46.0000",
                                    "4": "455.7500",
                                    "5": "37.9791",
                                    "6": "12"
                                },
                                {
                                    "0": "1",
                                    "1": "Beverages",
                                    "2": "Product XLXQF",
                                    "3": "14.0000",
                                    "4": "455.7500",
                                    "5": "37.9791",
                                    "6": "12"
                                },
                                {
                                    "0": "1",
                                    "1": "Beverages",
                                    "2": "Product TOONT",
                                    "3": "15.0000",
                                    "4": "455.7500",
                                    "5": "37.9791",
                                    "6": "12"
                                },
                                {
                                    "0": "1",
                                    "1": "Beverages",
                                    "2": "Product BWRLG",
                                    "3": "7.7500",
                                    "4": "455.7500",
                                    "5": "37.9791",
                                    "6": "12"
                                },
                                {
                                    "0": "1",
                                    "1": "Beverages",
                                    "2": "Product JYGFE",
                                    "3": "18.0000",
                                    "4": "455.7500",
                                    "5": "37.9791",
                                    "6": "12"
                                },
                                {
                                    "0": "2",
                                    "1": "Condiments",
                                    "2": "Product IMEHJ",
                                    "3": "10.0000",
                                    "4": "276.7500",
                                    "5": "23.0625",
                                    "6": "12"
                                },
                                {
                                    "0": "2",
                                    "1": "Condiments",
                                    "2": "Product KSBRM",
                                    "3": "22.0000",
                                    "4": "276.7500",
                                    "5": "23.0625",
                                    "6": "12"
                                },
                                {
                                    "0": "2",
                                    "1": "Condiments",
                                    "2": "Product EPEIM",
                                    "3": "21.3500",
                                    "4": "276.7500",
                                    "5": "23.0625",
                                    "6": "12"
                                },
                                {
                                    "0": "2",
                                    "1": "Condiments",
                                    "2": "Product VAIIV",
                                    "3": "25.0000",
                                    "4": "276.7500",
                                    "5": "23.0625",
                                    "6": "12"
                                },
                                {
                                    "0": "2",
                                    "1": "Condiments",
                                    "2": "Product WVJFP",
                                    "3": "40.0000",
                                    "4": "276.7500",
                                    "5": "23.0625",
                                    "6": "12"
                                },
                                {
                                    "0": "2",
                                    "1": "Condiments",
                                    "2": "Product KSZOI",
                                    "3": "15.5000",
                                    "4": "276.7500",
                                    "5": "23.0625",
                                    "6": "12"
                                },
                                {
                                    "0": "2",
                                    "1": "Condiments",
                                    "2": "Product VJIEO",
                                    "3": "19.4500",
                                    "4": "276.7500",
                                    "5": "23.0625",
                                    "6": "12"
                                },
                                {
                                    "0": "2",
                                    "1": "Condiments",
                                    "2": "Product XYZPE",
                                    "3": "28.5000",
                                    "4": "276.7500",
                                    "5": "23.0625",
                                    "6": "12"
                                },
                                {
                                    "0": "2",
                                    "1": "Condiments",
                                    "2": "Product ICKNK",
                                    "3": "43.9000",
                                    "4": "276.7500",
                                    "5": "23.0625",
                                    "6": "12"
                                },
                                {
                                    "0": "2",
                                    "1": "Condiments",
                                    "2": "Product XYWBZ",
                                    "3": "21.0500",
                                    "4": "276.7500",
                                    "5": "23.0625",
                                    "6": "12"
                                },
                                {
                                    "0": "2",
                                    "1": "Condiments",
                                    "2": "Product LQMGN",
                                    "3": "17.0000",
                                    "4": "276.7500",
                                    "5": "23.0625",
                                    "6": "12"
                                },
                                {
                                    "0": "2",
                                    "1": "Condiments",
                                    "2": "Product LUNZZ",
                                    "3": "13.0000",
                                    "4": "276.7500",
                                    "5": "23.0625",
                                    "6": "12"
                                },
                                {
                                    "0": "3",
                                    "1": "Confections",
                                    "2": "Product PAFRH",
                                    "3": "17.4500",
                                    "4": "327.0800",
                                    "5": "25.1600",
                                    "6": "13"
                                },
                                {
                                    "0": "3",
                                    "1": "Confections",
                                    "2": "Product XKXDO",
                                    "3": "9.2000",
                                    "4": "327.0800",
                                    "5": "25.1600",
                                    "6": "13"
                                },
                                {
                                    "0": "3",
                                    "1": "Confections",
                                    "2": "Product QHFFP",
                                    "3": "81.0000",
                                    "4": "327.0800",
                                    "5": "25.1600",
                                    "6": "13"
                                },
                                {
                                    "0": "3",
                                    "1": "Confections",
                                    "2": "Product VJZZH",
                                    "3": "10.0000",
                                    "4": "327.0800",
                                    "5": "25.1600",
                                    "6": "13"
                                },
                                {
                                    "0": "3",
                                    "1": "Confections",
                                    "2": "Product LYLNI",
                                    "3": "14.0000",
                                    "4": "327.0800",
                                    "5": "25.1600",
                                    "6": "13"
                                },
                                {
                                    "0": "3",
                                    "1": "Confections",
                                    "2": "Product HLGZA",
                                    "3": "31.2300",
                                    "4": "327.0800",
                                    "5": "25.1600",
                                    "6": "13"
                                },
                                {
                                    "0": "3",
                                    "1": "Confections",
                                    "2": "Product SMIOH",
                                    "3": "43.9000",
                                    "4": "327.0800",
                                    "5": "25.1600",
                                    "6": "13"
                                },
                                {
                                    "0": "3",
                                    "1": "Confections",
                                    "2": "Product EZZPR",
                                    "3": "9.5000",
                                    "4": "327.0800",
                                    "5": "25.1600",
                                    "6": "13"
                                },
                                {
                                    "0": "3",
                                    "1": "Confections",
                                    "2": "Product MYNXN",
                                    "3": "12.7500",
                                    "4": "327.0800",
                                    "5": "25.1600",
                                    "6": "13"
                                },
                                {
                                    "0": "3",
                                    "1": "Confections",
                                    "2": "Product FPYPN",
                                    "3": "20.0000",
                                    "4": "327.0800",
                                    "5": "25.1600",
                                    "6": "13"
                                },
                                {
                                    "0": "3",
                                    "1": "Confections",
                                    "2": "Product BIUDV",
                                    "3": "16.2500",
                                    "4": "327.0800",
                                    "5": "25.1600",
                                    "6": "13"
                                },
                                {
                                    "0": "3",
                                    "1": "Confections",
                                    "2": "Product WUXYK",
                                    "3": "49.3000",
                                    "4": "327.0800",
                                    "5": "25.1600",
                                    "6": "13"
                                },
                                {
                                    "0": "3",
                                    "1": "Confections",
                                    "2": "Product TBTBL",
                                    "3": "12.5000",
                                    "4": "327.0800",
                                    "5": "25.1600",
                                    "6": "13"
                                },
                                {
                                    "0": "4",
                                    "1": "Dairy Products",
                                    "2": "Product QMVUN",
                                    "3": "21.0000",
                                    "4": "287.3000",
                                    "5": "28.7300",
                                    "6": "10"
                                },
                                {
                                    "0": "4",
                                    "1": "Dairy Products",
                                    "2": "Product OSFNS",
                                    "3": "38.0000",
                                    "4": "287.3000",
                                    "5": "28.7300",
                                    "6": "10"
                                },
                                {
                                    "0": "4",
                                    "1": "Dairy Products",
                                    "2": "Product XWOXC",
                                    "3": "12.5000",
                                    "4": "287.3000",
                                    "5": "28.7300",
                                    "6": "10"
                                },
                                {
                                    "0": "4",
                                    "1": "Dairy Products",
                                    "2": "Product NUNAW",
                                    "3": "32.0000",
                                    "4": "287.3000",
                                    "5": "28.7300",
                                    "6": "10"
                                },
                                {
                                    "0": "4",
                                    "1": "Dairy Products",
                                    "2": "Product ASTMN",
                                    "3": "2.5000",
                                    "4": "287.3000",
                                    "5": "28.7300",
                                    "6": "10"
                                },
                                {
                                    "0": "4",
                                    "1": "Dairy Products",
                                    "2": "Product UKXRI",
                                    "3": "55.0000",
                                    "4": "287.3000",
                                    "5": "28.7300",
                                    "6": "10"
                                },
                                {
                                    "0": "4",
                                    "1": "Dairy Products",
                                    "2": "Product WHBYK",
                                    "3": "34.0000",
                                    "4": "287.3000",
                                    "5": "28.7300",
                                    "6": "10"
                                },
                                {
                                    "0": "4",
                                    "1": "Dairy Products",
                                    "2": "Product COAXA",
                                    "3": "36.0000",
                                    "4": "287.3000",
                                    "5": "28.7300",
                                    "6": "10"
                                },
                                {
                                    "0": "4",
                                    "1": "Dairy Products",
                                    "2": "Product MYMOI",
                                    "3": "21.5000",
                                    "4": "287.3000",
                                    "5": "28.7300",
                                    "6": "10"
                                },
                                {
                                    "0": "4",
                                    "1": "Dairy Products",
                                    "2": "Product GEEOO",
                                    "3": "34.8000",
                                    "4": "287.3000",
                                    "5": "28.7300",
                                    "6": "10"
                                },
                                {
                                    "0": "5",
                                    "1": "Grains/Cereals",
                                    "2": "Product CPHFY",
                                    "3": "21.0000",
                                    "4": "141.7500",
                                    "5": "20.2500",
                                    "6": "7"
                                },
                                {
                                    "0": "5",
                                    "1": "Grains/Cereals",
                                    "2": "Product JLUDZ",
                                    "3": "9.0000",
                                    "4": "141.7500",
                                    "5": "20.2500",
                                    "6": "7"
                                },
                                {
                                    "0": "5",
                                    "1": "Grains/Cereals",
                                    "2": "Product RJVNM",
                                    "3": "14.0000",
                                    "4": "141.7500",
                                    "5": "20.2500",
                                    "6": "7"
                                },
                                {
                                    "0": "5",
                                    "1": "Grains/Cereals",
                                    "2": "Product QSRXF",
                                    "3": "7.0000",
                                    "4": "141.7500",
                                    "5": "20.2500",
                                    "6": "7"
                                },
                                {
                                    "0": "5",
                                    "1": "Grains/Cereals",
                                    "2": "Product VKCMF",
                                    "3": "38.0000",
                                    "4": "141.7500",
                                    "5": "20.2500",
                                    "6": "7"
                                },
                                {
                                    "0": "5",
                                    "1": "Grains/Cereals",
                                    "2": "Product OVLQI",
                                    "3": "19.5000",
                                    "4": "141.7500",
                                    "5": "20.2500",
                                    "6": "7"
                                },
                                {
                                    "0": "5",
                                    "1": "Grains/Cereals",
                                    "2": "Product HCQDE",
                                    "3": "33.2500",
                                    "4": "141.7500",
                                    "5": "20.2500",
                                    "6": "7"
                                },
                                {
                                    "0": "6",
                                    "1": "Meat/Poultry",
                                    "2": "Product AOZBW",
                                    "3": "97.0000",
                                    "4": "324.0400",
                                    "5": "54.0066",
                                    "6": "6"
                                },
                                {
                                    "0": "6",
                                    "1": "Meat/Poultry",
                                    "2": "Product BLCAX",
                                    "3": "39.0000",
                                    "4": "324.0400",
                                    "5": "54.0066",
                                    "6": "6"
                                },
                                {
                                    "0": "6",
                                    "1": "Meat/Poultry",
                                    "2": "Product VJXYN",
                                    "3": "123.7900",
                                    "4": "324.0400",
                                    "5": "54.0066",
                                    "6": "6"
                                },
                                {
                                    "0": "6",
                                    "1": "Meat/Poultry",
                                    "2": "Product BKGEA",
                                    "3": "32.8000",
                                    "4": "324.0400",
                                    "5": "54.0066",
                                    "6": "6"
                                },
                                {
                                    "0": "6",
                                    "1": "Meat/Poultry",
                                    "2": "Product QAQRL",
                                    "3": "7.4500",
                                    "4": "324.0400",
                                    "5": "54.0066",
                                    "6": "6"
                                },
                                {
                                    "0": "6",
                                    "1": "Meat/Poultry",
                                    "2": "Product YYWRT",
                                    "3": "24.0000",
                                    "4": "324.0400",
                                    "5": "54.0066",
                                    "6": "6"
                                },
                                {
                                    "0": "7",
                                    "1": "Produce",
                                    "2": "Product HMLNI",
                                    "3": "30.0000",
                                    "4": "161.8500",
                                    "5": "32.3700",
                                    "6": "5"
                                },
                                {
                                    "0": "7",
                                    "1": "Produce",
                                    "2": "Product PWCJB",
                                    "3": "23.2500",
                                    "4": "161.8500",
                                    "5": "32.3700",
                                    "6": "5"
                                },
                                {
                                    "0": "7",
                                    "1": "Produce",
                                    "2": "Product OFBNT",
                                    "3": "45.6000",
                                    "4": "161.8500",
                                    "5": "32.3700",
                                    "6": "5"
                                },
                                {
                                    "0": "7",
                                    "1": "Produce",
                                    "2": "Product APITJ",
                                    "3": "53.0000",
                                    "4": "161.8500",
                                    "5": "32.3700",
                                    "6": "5"
                                },
                                {
                                    "0": "7",
                                    "1": "Produce",
                                    "2": "Product BKAZJ",
                                    "3": "10.0000",
                                    "4": "161.8500",
                                    "5": "32.3700",
                                    "6": "5"
                                },
                                {
                                    "0": "8",
                                    "1": "Seafood",
                                    "2": "Product YHXGE",
                                    "3": "31.0000",
                                    "4": "248.1900",
                                    "5": "20.6825",
                                    "6": "12"
                                },
                                {
                                    "0": "8",
                                    "1": "Seafood",
                                    "2": "Product POXFU",
                                    "3": "6.0000",
                                    "4": "248.1900",
                                    "5": "20.6825",
                                    "6": "12"
                                },
                                {
                                    "0": "8",
                                    "1": "Seafood",
                                    "2": "Product CKEDC",
                                    "3": "62.5000",
                                    "4": "248.1900",
                                    "5": "20.6825",
                                    "6": "12"
                                },
                                {
                                    "0": "8",
                                    "1": "Seafood",
                                    "2": "Product LYERX",
                                    "3": "25.8900",
                                    "4": "248.1900",
                                    "5": "20.6825",
                                    "6": "12"
                                },
                                {
                                    "0": "8",
                                    "1": "Seafood",
                                    "2": "Product GMKIJ",
                                    "3": "19.0000",
                                    "4": "248.1900",
                                    "5": "20.6825",
                                    "6": "12"
                                },
                                {
                                    "0": "8",
                                    "1": "Seafood",
                                    "2": "Product EVFFA",
                                    "3": "26.0000",
                                    "4": "248.1900",
                                    "5": "20.6825",
                                    "6": "12"
                                },
                                {
                                    "0": "8",
                                    "1": "Seafood",
                                    "2": "Product YZIXQ",
                                    "3": "18.4000",
                                    "4": "248.1900",
                                    "5": "20.6825",
                                    "6": "12"
                                },
                                {
                                    "0": "8",
                                    "1": "Seafood",
                                    "2": "Product TTEEX",
                                    "3": "9.6500",
                                    "4": "248.1900",
                                    "5": "20.6825",
                                    "6": "12"
                                },
                                {
                                    "0": "8",
                                    "1": "Seafood",
                                    "2": "Product AQOKR",
                                    "3": "9.5000",
                                    "4": "248.1900",
                                    "5": "20.6825",
                                    "6": "12"
                                },
                                {
                                    "0": "8",
                                    "1": "Seafood",
                                    "2": "Product CBRRL",
                                    "3": "12.0000",
                                    "4": "248.1900",
                                    "5": "20.6825",
                                    "6": "12"
                                },
                                {
                                    "0": "8",
                                    "1": "Seafood",
                                    "2": "Product ACRVI",
                                    "3": "13.2500",
                                    "4": "248.1900",
                                    "5": "20.6825",
                                    "6": "12"
                                },
                                {
                                    "0": "8",
                                    "1": "Seafood",
                                    "2": "Product WEUJZ",
                                    "3": "15.0000",
                                    "4": "248.1900",
                                    "5": "20.6825",
                                    "6": "12"
                                }
                            ]
                        },
                        "text/html": [
                            "<table>",
                            "<tr><th>CatID</th><th>CatName</th><th>ProdName</th><th>UnitPrice</th><th>Total</th><th>Average</th><th>ProdsPerCat</th></tr>",
                            "<tr><td>1</td><td>Beverages</td><td>Product HHYDP</td><td>18.0000</td><td>455.7500</td><td>37.9791</td><td>12</td></tr>",
                            "<tr><td>1</td><td>Beverages</td><td>Product RECZE</td><td>19.0000</td><td>455.7500</td><td>37.9791</td><td>12</td></tr>",
                            "<tr><td>1</td><td>Beverages</td><td>Product QOGNU</td><td>4.5000</td><td>455.7500</td><td>37.9791</td><td>12</td></tr>",
                            "<tr><td>1</td><td>Beverages</td><td>Product SWNJY</td><td>14.0000</td><td>455.7500</td><td>37.9791</td><td>12</td></tr>",
                            "<tr><td>1</td><td>Beverages</td><td>Product NEVTJ</td><td>18.0000</td><td>455.7500</td><td>37.9791</td><td>12</td></tr>",
                            "<tr><td>1</td><td>Beverages</td><td>Product QDOMO</td><td>263.5000</td><td>455.7500</td><td>37.9791</td><td>12</td></tr>",
                            "<tr><td>1</td><td>Beverages</td><td>Product LSOFL</td><td>18.0000</td><td>455.7500</td><td>37.9791</td><td>12</td></tr>",
                            "<tr><td>1</td><td>Beverages</td><td>Product ZZZHR</td><td>46.0000</td><td>455.7500</td><td>37.9791</td><td>12</td></tr>",
                            "<tr><td>1</td><td>Beverages</td><td>Product XLXQF</td><td>14.0000</td><td>455.7500</td><td>37.9791</td><td>12</td></tr>",
                            "<tr><td>1</td><td>Beverages</td><td>Product TOONT</td><td>15.0000</td><td>455.7500</td><td>37.9791</td><td>12</td></tr>",
                            "<tr><td>1</td><td>Beverages</td><td>Product BWRLG</td><td>7.7500</td><td>455.7500</td><td>37.9791</td><td>12</td></tr>",
                            "<tr><td>1</td><td>Beverages</td><td>Product JYGFE</td><td>18.0000</td><td>455.7500</td><td>37.9791</td><td>12</td></tr>",
                            "<tr><td>2</td><td>Condiments</td><td>Product IMEHJ</td><td>10.0000</td><td>276.7500</td><td>23.0625</td><td>12</td></tr>",
                            "<tr><td>2</td><td>Condiments</td><td>Product KSBRM</td><td>22.0000</td><td>276.7500</td><td>23.0625</td><td>12</td></tr>",
                            "<tr><td>2</td><td>Condiments</td><td>Product EPEIM</td><td>21.3500</td><td>276.7500</td><td>23.0625</td><td>12</td></tr>",
                            "<tr><td>2</td><td>Condiments</td><td>Product VAIIV</td><td>25.0000</td><td>276.7500</td><td>23.0625</td><td>12</td></tr>",
                            "<tr><td>2</td><td>Condiments</td><td>Product WVJFP</td><td>40.0000</td><td>276.7500</td><td>23.0625</td><td>12</td></tr>",
                            "<tr><td>2</td><td>Condiments</td><td>Product KSZOI</td><td>15.5000</td><td>276.7500</td><td>23.0625</td><td>12</td></tr>",
                            "<tr><td>2</td><td>Condiments</td><td>Product VJIEO</td><td>19.4500</td><td>276.7500</td><td>23.0625</td><td>12</td></tr>",
                            "<tr><td>2</td><td>Condiments</td><td>Product XYZPE</td><td>28.5000</td><td>276.7500</td><td>23.0625</td><td>12</td></tr>",
                            "<tr><td>2</td><td>Condiments</td><td>Product ICKNK</td><td>43.9000</td><td>276.7500</td><td>23.0625</td><td>12</td></tr>",
                            "<tr><td>2</td><td>Condiments</td><td>Product XYWBZ</td><td>21.0500</td><td>276.7500</td><td>23.0625</td><td>12</td></tr>",
                            "<tr><td>2</td><td>Condiments</td><td>Product LQMGN</td><td>17.0000</td><td>276.7500</td><td>23.0625</td><td>12</td></tr>",
                            "<tr><td>2</td><td>Condiments</td><td>Product LUNZZ</td><td>13.0000</td><td>276.7500</td><td>23.0625</td><td>12</td></tr>",
                            "<tr><td>3</td><td>Confections</td><td>Product PAFRH</td><td>17.4500</td><td>327.0800</td><td>25.1600</td><td>13</td></tr>",
                            "<tr><td>3</td><td>Confections</td><td>Product XKXDO</td><td>9.2000</td><td>327.0800</td><td>25.1600</td><td>13</td></tr>",
                            "<tr><td>3</td><td>Confections</td><td>Product QHFFP</td><td>81.0000</td><td>327.0800</td><td>25.1600</td><td>13</td></tr>",
                            "<tr><td>3</td><td>Confections</td><td>Product VJZZH</td><td>10.0000</td><td>327.0800</td><td>25.1600</td><td>13</td></tr>",
                            "<tr><td>3</td><td>Confections</td><td>Product LYLNI</td><td>14.0000</td><td>327.0800</td><td>25.1600</td><td>13</td></tr>",
                            "<tr><td>3</td><td>Confections</td><td>Product HLGZA</td><td>31.2300</td><td>327.0800</td><td>25.1600</td><td>13</td></tr>",
                            "<tr><td>3</td><td>Confections</td><td>Product SMIOH</td><td>43.9000</td><td>327.0800</td><td>25.1600</td><td>13</td></tr>",
                            "<tr><td>3</td><td>Confections</td><td>Product EZZPR</td><td>9.5000</td><td>327.0800</td><td>25.1600</td><td>13</td></tr>",
                            "<tr><td>3</td><td>Confections</td><td>Product MYNXN</td><td>12.7500</td><td>327.0800</td><td>25.1600</td><td>13</td></tr>",
                            "<tr><td>3</td><td>Confections</td><td>Product FPYPN</td><td>20.0000</td><td>327.0800</td><td>25.1600</td><td>13</td></tr>",
                            "<tr><td>3</td><td>Confections</td><td>Product BIUDV</td><td>16.2500</td><td>327.0800</td><td>25.1600</td><td>13</td></tr>",
                            "<tr><td>3</td><td>Confections</td><td>Product WUXYK</td><td>49.3000</td><td>327.0800</td><td>25.1600</td><td>13</td></tr>",
                            "<tr><td>3</td><td>Confections</td><td>Product TBTBL</td><td>12.5000</td><td>327.0800</td><td>25.1600</td><td>13</td></tr>",
                            "<tr><td>4</td><td>Dairy Products</td><td>Product QMVUN</td><td>21.0000</td><td>287.3000</td><td>28.7300</td><td>10</td></tr>",
                            "<tr><td>4</td><td>Dairy Products</td><td>Product OSFNS</td><td>38.0000</td><td>287.3000</td><td>28.7300</td><td>10</td></tr>",
                            "<tr><td>4</td><td>Dairy Products</td><td>Product XWOXC</td><td>12.5000</td><td>287.3000</td><td>28.7300</td><td>10</td></tr>",
                            "<tr><td>4</td><td>Dairy Products</td><td>Product NUNAW</td><td>32.0000</td><td>287.3000</td><td>28.7300</td><td>10</td></tr>",
                            "<tr><td>4</td><td>Dairy Products</td><td>Product ASTMN</td><td>2.5000</td><td>287.3000</td><td>28.7300</td><td>10</td></tr>",
                            "<tr><td>4</td><td>Dairy Products</td><td>Product UKXRI</td><td>55.0000</td><td>287.3000</td><td>28.7300</td><td>10</td></tr>",
                            "<tr><td>4</td><td>Dairy Products</td><td>Product WHBYK</td><td>34.0000</td><td>287.3000</td><td>28.7300</td><td>10</td></tr>",
                            "<tr><td>4</td><td>Dairy Products</td><td>Product COAXA</td><td>36.0000</td><td>287.3000</td><td>28.7300</td><td>10</td></tr>",
                            "<tr><td>4</td><td>Dairy Products</td><td>Product MYMOI</td><td>21.5000</td><td>287.3000</td><td>28.7300</td><td>10</td></tr>",
                            "<tr><td>4</td><td>Dairy Products</td><td>Product GEEOO</td><td>34.8000</td><td>287.3000</td><td>28.7300</td><td>10</td></tr>",
                            "<tr><td>5</td><td>Grains/Cereals</td><td>Product CPHFY</td><td>21.0000</td><td>141.7500</td><td>20.2500</td><td>7</td></tr>",
                            "<tr><td>5</td><td>Grains/Cereals</td><td>Product JLUDZ</td><td>9.0000</td><td>141.7500</td><td>20.2500</td><td>7</td></tr>",
                            "<tr><td>5</td><td>Grains/Cereals</td><td>Product RJVNM</td><td>14.0000</td><td>141.7500</td><td>20.2500</td><td>7</td></tr>",
                            "<tr><td>5</td><td>Grains/Cereals</td><td>Product QSRXF</td><td>7.0000</td><td>141.7500</td><td>20.2500</td><td>7</td></tr>",
                            "<tr><td>5</td><td>Grains/Cereals</td><td>Product VKCMF</td><td>38.0000</td><td>141.7500</td><td>20.2500</td><td>7</td></tr>",
                            "<tr><td>5</td><td>Grains/Cereals</td><td>Product OVLQI</td><td>19.5000</td><td>141.7500</td><td>20.2500</td><td>7</td></tr>",
                            "<tr><td>5</td><td>Grains/Cereals</td><td>Product HCQDE</td><td>33.2500</td><td>141.7500</td><td>20.2500</td><td>7</td></tr>",
                            "<tr><td>6</td><td>Meat/Poultry</td><td>Product AOZBW</td><td>97.0000</td><td>324.0400</td><td>54.0066</td><td>6</td></tr>",
                            "<tr><td>6</td><td>Meat/Poultry</td><td>Product BLCAX</td><td>39.0000</td><td>324.0400</td><td>54.0066</td><td>6</td></tr>",
                            "<tr><td>6</td><td>Meat/Poultry</td><td>Product VJXYN</td><td>123.7900</td><td>324.0400</td><td>54.0066</td><td>6</td></tr>",
                            "<tr><td>6</td><td>Meat/Poultry</td><td>Product BKGEA</td><td>32.8000</td><td>324.0400</td><td>54.0066</td><td>6</td></tr>",
                            "<tr><td>6</td><td>Meat/Poultry</td><td>Product QAQRL</td><td>7.4500</td><td>324.0400</td><td>54.0066</td><td>6</td></tr>",
                            "<tr><td>6</td><td>Meat/Poultry</td><td>Product YYWRT</td><td>24.0000</td><td>324.0400</td><td>54.0066</td><td>6</td></tr>",
                            "<tr><td>7</td><td>Produce</td><td>Product HMLNI</td><td>30.0000</td><td>161.8500</td><td>32.3700</td><td>5</td></tr>",
                            "<tr><td>7</td><td>Produce</td><td>Product PWCJB</td><td>23.2500</td><td>161.8500</td><td>32.3700</td><td>5</td></tr>",
                            "<tr><td>7</td><td>Produce</td><td>Product OFBNT</td><td>45.6000</td><td>161.8500</td><td>32.3700</td><td>5</td></tr>",
                            "<tr><td>7</td><td>Produce</td><td>Product APITJ</td><td>53.0000</td><td>161.8500</td><td>32.3700</td><td>5</td></tr>",
                            "<tr><td>7</td><td>Produce</td><td>Product BKAZJ</td><td>10.0000</td><td>161.8500</td><td>32.3700</td><td>5</td></tr>",
                            "<tr><td>8</td><td>Seafood</td><td>Product YHXGE</td><td>31.0000</td><td>248.1900</td><td>20.6825</td><td>12</td></tr>",
                            "<tr><td>8</td><td>Seafood</td><td>Product POXFU</td><td>6.0000</td><td>248.1900</td><td>20.6825</td><td>12</td></tr>",
                            "<tr><td>8</td><td>Seafood</td><td>Product CKEDC</td><td>62.5000</td><td>248.1900</td><td>20.6825</td><td>12</td></tr>",
                            "<tr><td>8</td><td>Seafood</td><td>Product LYERX</td><td>25.8900</td><td>248.1900</td><td>20.6825</td><td>12</td></tr>",
                            "<tr><td>8</td><td>Seafood</td><td>Product GMKIJ</td><td>19.0000</td><td>248.1900</td><td>20.6825</td><td>12</td></tr>",
                            "<tr><td>8</td><td>Seafood</td><td>Product EVFFA</td><td>26.0000</td><td>248.1900</td><td>20.6825</td><td>12</td></tr>",
                            "<tr><td>8</td><td>Seafood</td><td>Product YZIXQ</td><td>18.4000</td><td>248.1900</td><td>20.6825</td><td>12</td></tr>",
                            "<tr><td>8</td><td>Seafood</td><td>Product TTEEX</td><td>9.6500</td><td>248.1900</td><td>20.6825</td><td>12</td></tr>",
                            "<tr><td>8</td><td>Seafood</td><td>Product AQOKR</td><td>9.5000</td><td>248.1900</td><td>20.6825</td><td>12</td></tr>",
                            "<tr><td>8</td><td>Seafood</td><td>Product CBRRL</td><td>12.0000</td><td>248.1900</td><td>20.6825</td><td>12</td></tr>",
                            "<tr><td>8</td><td>Seafood</td><td>Product ACRVI</td><td>13.2500</td><td>248.1900</td><td>20.6825</td><td>12</td></tr>",
                            "<tr><td>8</td><td>Seafood</td><td>Product WEUJZ</td><td>15.0000</td><td>248.1900</td><td>20.6825</td><td>12</td></tr>",
                            "</table>"
                        ]
                    }
                }
            ],
            "execution_count": 13
        },
        {
            "cell_type": "markdown",
            "source": [
                "2.5. Comparar RANK y DENSE_RANK para mostrar el tratamiento de lazos. (Ojo las brechas en RANK no estan presentes en DENSE_RANK)"
            ],
            "metadata": {
                "azdata_cell_guid": "018306d4-7aa8-45af-87c4-b66b6e88454a"
            }
        },
        {
            "cell_type": "code",
            "source": [
                "SELECT CatID, CatName, ProdName, UnitPrice,\r\n",
                "\tRANK() OVER(PARTITION BY CatID ORDER BY UnitPrice DESC) AS PriceRank,\r\n",
                "\tDENSE_RANK() OVER(PARTITION BY CatID ORDER BY UnitPrice DESC) AS DensePriceRank\r\n",
                "FROM Production.CategorizedProducts\r\n",
                "ORDER BY CatID; "
            ],
            "metadata": {
                "azdata_cell_guid": "da4da8b2-41ca-4181-abd8-babae5eb62e5"
            },
            "outputs": [
                {
                    "output_type": "display_data",
                    "data": {
                        "text/html": "(77 rows affected)"
                    },
                    "metadata": {}
                },
                {
                    "output_type": "display_data",
                    "data": {
                        "text/html": "Total execution time: 00:00:00.230"
                    },
                    "metadata": {}
                },
                {
                    "output_type": "execute_result",
                    "metadata": {},
                    "execution_count": 14,
                    "data": {
                        "application/vnd.dataresource+json": {
                            "schema": {
                                "fields": [
                                    {
                                        "name": "CatID"
                                    },
                                    {
                                        "name": "CatName"
                                    },
                                    {
                                        "name": "ProdName"
                                    },
                                    {
                                        "name": "UnitPrice"
                                    },
                                    {
                                        "name": "PriceRank"
                                    },
                                    {
                                        "name": "DensePriceRank"
                                    }
                                ]
                            },
                            "data": [
                                {
                                    "0": "1",
                                    "1": "Beverages",
                                    "2": "Product QDOMO",
                                    "3": "263.5000",
                                    "4": "1",
                                    "5": "1"
                                },
                                {
                                    "0": "1",
                                    "1": "Beverages",
                                    "2": "Product ZZZHR",
                                    "3": "46.0000",
                                    "4": "2",
                                    "5": "2"
                                },
                                {
                                    "0": "1",
                                    "1": "Beverages",
                                    "2": "Product RECZE",
                                    "3": "19.0000",
                                    "4": "3",
                                    "5": "3"
                                },
                                {
                                    "0": "1",
                                    "1": "Beverages",
                                    "2": "Product HHYDP",
                                    "3": "18.0000",
                                    "4": "4",
                                    "5": "4"
                                },
                                {
                                    "0": "1",
                                    "1": "Beverages",
                                    "2": "Product LSOFL",
                                    "3": "18.0000",
                                    "4": "4",
                                    "5": "4"
                                },
                                {
                                    "0": "1",
                                    "1": "Beverages",
                                    "2": "Product NEVTJ",
                                    "3": "18.0000",
                                    "4": "4",
                                    "5": "4"
                                },
                                {
                                    "0": "1",
                                    "1": "Beverages",
                                    "2": "Product JYGFE",
                                    "3": "18.0000",
                                    "4": "4",
                                    "5": "4"
                                },
                                {
                                    "0": "1",
                                    "1": "Beverages",
                                    "2": "Product TOONT",
                                    "3": "15.0000",
                                    "4": "8",
                                    "5": "5"
                                },
                                {
                                    "0": "1",
                                    "1": "Beverages",
                                    "2": "Product XLXQF",
                                    "3": "14.0000",
                                    "4": "9",
                                    "5": "6"
                                },
                                {
                                    "0": "1",
                                    "1": "Beverages",
                                    "2": "Product SWNJY",
                                    "3": "14.0000",
                                    "4": "9",
                                    "5": "6"
                                },
                                {
                                    "0": "1",
                                    "1": "Beverages",
                                    "2": "Product BWRLG",
                                    "3": "7.7500",
                                    "4": "11",
                                    "5": "7"
                                },
                                {
                                    "0": "1",
                                    "1": "Beverages",
                                    "2": "Product QOGNU",
                                    "3": "4.5000",
                                    "4": "12",
                                    "5": "8"
                                },
                                {
                                    "0": "2",
                                    "1": "Condiments",
                                    "2": "Product ICKNK",
                                    "3": "43.9000",
                                    "4": "1",
                                    "5": "1"
                                },
                                {
                                    "0": "2",
                                    "1": "Condiments",
                                    "2": "Product WVJFP",
                                    "3": "40.0000",
                                    "4": "2",
                                    "5": "2"
                                },
                                {
                                    "0": "2",
                                    "1": "Condiments",
                                    "2": "Product XYZPE",
                                    "3": "28.5000",
                                    "4": "3",
                                    "5": "3"
                                },
                                {
                                    "0": "2",
                                    "1": "Condiments",
                                    "2": "Product VAIIV",
                                    "3": "25.0000",
                                    "4": "4",
                                    "5": "4"
                                },
                                {
                                    "0": "2",
                                    "1": "Condiments",
                                    "2": "Product KSBRM",
                                    "3": "22.0000",
                                    "4": "5",
                                    "5": "5"
                                },
                                {
                                    "0": "2",
                                    "1": "Condiments",
                                    "2": "Product EPEIM",
                                    "3": "21.3500",
                                    "4": "6",
                                    "5": "6"
                                },
                                {
                                    "0": "2",
                                    "1": "Condiments",
                                    "2": "Product XYWBZ",
                                    "3": "21.0500",
                                    "4": "7",
                                    "5": "7"
                                },
                                {
                                    "0": "2",
                                    "1": "Condiments",
                                    "2": "Product VJIEO",
                                    "3": "19.4500",
                                    "4": "8",
                                    "5": "8"
                                },
                                {
                                    "0": "2",
                                    "1": "Condiments",
                                    "2": "Product LQMGN",
                                    "3": "17.0000",
                                    "4": "9",
                                    "5": "9"
                                },
                                {
                                    "0": "2",
                                    "1": "Condiments",
                                    "2": "Product KSZOI",
                                    "3": "15.5000",
                                    "4": "10",
                                    "5": "10"
                                },
                                {
                                    "0": "2",
                                    "1": "Condiments",
                                    "2": "Product LUNZZ",
                                    "3": "13.0000",
                                    "4": "11",
                                    "5": "11"
                                },
                                {
                                    "0": "2",
                                    "1": "Condiments",
                                    "2": "Product IMEHJ",
                                    "3": "10.0000",
                                    "4": "12",
                                    "5": "12"
                                },
                                {
                                    "0": "3",
                                    "1": "Confections",
                                    "2": "Product QHFFP",
                                    "3": "81.0000",
                                    "4": "1",
                                    "5": "1"
                                },
                                {
                                    "0": "3",
                                    "1": "Confections",
                                    "2": "Product WUXYK",
                                    "3": "49.3000",
                                    "4": "2",
                                    "5": "2"
                                },
                                {
                                    "0": "3",
                                    "1": "Confections",
                                    "2": "Product SMIOH",
                                    "3": "43.9000",
                                    "4": "3",
                                    "5": "3"
                                },
                                {
                                    "0": "3",
                                    "1": "Confections",
                                    "2": "Product HLGZA",
                                    "3": "31.2300",
                                    "4": "4",
                                    "5": "4"
                                },
                                {
                                    "0": "3",
                                    "1": "Confections",
                                    "2": "Product FPYPN",
                                    "3": "20.0000",
                                    "4": "5",
                                    "5": "5"
                                },
                                {
                                    "0": "3",
                                    "1": "Confections",
                                    "2": "Product PAFRH",
                                    "3": "17.4500",
                                    "4": "6",
                                    "5": "6"
                                },
                                {
                                    "0": "3",
                                    "1": "Confections",
                                    "2": "Product BIUDV",
                                    "3": "16.2500",
                                    "4": "7",
                                    "5": "7"
                                },
                                {
                                    "0": "3",
                                    "1": "Confections",
                                    "2": "Product LYLNI",
                                    "3": "14.0000",
                                    "4": "8",
                                    "5": "8"
                                },
                                {
                                    "0": "3",
                                    "1": "Confections",
                                    "2": "Product MYNXN",
                                    "3": "12.7500",
                                    "4": "9",
                                    "5": "9"
                                },
                                {
                                    "0": "3",
                                    "1": "Confections",
                                    "2": "Product TBTBL",
                                    "3": "12.5000",
                                    "4": "10",
                                    "5": "10"
                                },
                                {
                                    "0": "3",
                                    "1": "Confections",
                                    "2": "Product VJZZH",
                                    "3": "10.0000",
                                    "4": "11",
                                    "5": "11"
                                },
                                {
                                    "0": "3",
                                    "1": "Confections",
                                    "2": "Product EZZPR",
                                    "3": "9.5000",
                                    "4": "12",
                                    "5": "12"
                                },
                                {
                                    "0": "3",
                                    "1": "Confections",
                                    "2": "Product XKXDO",
                                    "3": "9.2000",
                                    "4": "13",
                                    "5": "13"
                                },
                                {
                                    "0": "4",
                                    "1": "Dairy Products",
                                    "2": "Product UKXRI",
                                    "3": "55.0000",
                                    "4": "1",
                                    "5": "1"
                                },
                                {
                                    "0": "4",
                                    "1": "Dairy Products",
                                    "2": "Product OSFNS",
                                    "3": "38.0000",
                                    "4": "2",
                                    "5": "2"
                                },
                                {
                                    "0": "4",
                                    "1": "Dairy Products",
                                    "2": "Product COAXA",
                                    "3": "36.0000",
                                    "4": "3",
                                    "5": "3"
                                },
                                {
                                    "0": "4",
                                    "1": "Dairy Products",
                                    "2": "Product GEEOO",
                                    "3": "34.8000",
                                    "4": "4",
                                    "5": "4"
                                },
                                {
                                    "0": "4",
                                    "1": "Dairy Products",
                                    "2": "Product WHBYK",
                                    "3": "34.0000",
                                    "4": "5",
                                    "5": "5"
                                },
                                {
                                    "0": "4",
                                    "1": "Dairy Products",
                                    "2": "Product NUNAW",
                                    "3": "32.0000",
                                    "4": "6",
                                    "5": "6"
                                },
                                {
                                    "0": "4",
                                    "1": "Dairy Products",
                                    "2": "Product MYMOI",
                                    "3": "21.5000",
                                    "4": "7",
                                    "5": "7"
                                },
                                {
                                    "0": "4",
                                    "1": "Dairy Products",
                                    "2": "Product QMVUN",
                                    "3": "21.0000",
                                    "4": "8",
                                    "5": "8"
                                },
                                {
                                    "0": "4",
                                    "1": "Dairy Products",
                                    "2": "Product XWOXC",
                                    "3": "12.5000",
                                    "4": "9",
                                    "5": "9"
                                },
                                {
                                    "0": "4",
                                    "1": "Dairy Products",
                                    "2": "Product ASTMN",
                                    "3": "2.5000",
                                    "4": "10",
                                    "5": "10"
                                },
                                {
                                    "0": "5",
                                    "1": "Grains/Cereals",
                                    "2": "Product VKCMF",
                                    "3": "38.0000",
                                    "4": "1",
                                    "5": "1"
                                },
                                {
                                    "0": "5",
                                    "1": "Grains/Cereals",
                                    "2": "Product HCQDE",
                                    "3": "33.2500",
                                    "4": "2",
                                    "5": "2"
                                },
                                {
                                    "0": "5",
                                    "1": "Grains/Cereals",
                                    "2": "Product CPHFY",
                                    "3": "21.0000",
                                    "4": "3",
                                    "5": "3"
                                },
                                {
                                    "0": "5",
                                    "1": "Grains/Cereals",
                                    "2": "Product OVLQI",
                                    "3": "19.5000",
                                    "4": "4",
                                    "5": "4"
                                },
                                {
                                    "0": "5",
                                    "1": "Grains/Cereals",
                                    "2": "Product RJVNM",
                                    "3": "14.0000",
                                    "4": "5",
                                    "5": "5"
                                },
                                {
                                    "0": "5",
                                    "1": "Grains/Cereals",
                                    "2": "Product JLUDZ",
                                    "3": "9.0000",
                                    "4": "6",
                                    "5": "6"
                                },
                                {
                                    "0": "5",
                                    "1": "Grains/Cereals",
                                    "2": "Product QSRXF",
                                    "3": "7.0000",
                                    "4": "7",
                                    "5": "7"
                                },
                                {
                                    "0": "6",
                                    "1": "Meat/Poultry",
                                    "2": "Product VJXYN",
                                    "3": "123.7900",
                                    "4": "1",
                                    "5": "1"
                                },
                                {
                                    "0": "6",
                                    "1": "Meat/Poultry",
                                    "2": "Product AOZBW",
                                    "3": "97.0000",
                                    "4": "2",
                                    "5": "2"
                                },
                                {
                                    "0": "6",
                                    "1": "Meat/Poultry",
                                    "2": "Product BLCAX",
                                    "3": "39.0000",
                                    "4": "3",
                                    "5": "3"
                                },
                                {
                                    "0": "6",
                                    "1": "Meat/Poultry",
                                    "2": "Product BKGEA",
                                    "3": "32.8000",
                                    "4": "4",
                                    "5": "4"
                                },
                                {
                                    "0": "6",
                                    "1": "Meat/Poultry",
                                    "2": "Product YYWRT",
                                    "3": "24.0000",
                                    "4": "5",
                                    "5": "5"
                                },
                                {
                                    "0": "6",
                                    "1": "Meat/Poultry",
                                    "2": "Product QAQRL",
                                    "3": "7.4500",
                                    "4": "6",
                                    "5": "6"
                                },
                                {
                                    "0": "7",
                                    "1": "Produce",
                                    "2": "Product APITJ",
                                    "3": "53.0000",
                                    "4": "1",
                                    "5": "1"
                                },
                                {
                                    "0": "7",
                                    "1": "Produce",
                                    "2": "Product OFBNT",
                                    "3": "45.6000",
                                    "4": "2",
                                    "5": "2"
                                },
                                {
                                    "0": "7",
                                    "1": "Produce",
                                    "2": "Product HMLNI",
                                    "3": "30.0000",
                                    "4": "3",
                                    "5": "3"
                                },
                                {
                                    "0": "7",
                                    "1": "Produce",
                                    "2": "Product PWCJB",
                                    "3": "23.2500",
                                    "4": "4",
                                    "5": "4"
                                },
                                {
                                    "0": "7",
                                    "1": "Produce",
                                    "2": "Product BKAZJ",
                                    "3": "10.0000",
                                    "4": "5",
                                    "5": "5"
                                },
                                {
                                    "0": "8",
                                    "1": "Seafood",
                                    "2": "Product CKEDC",
                                    "3": "62.5000",
                                    "4": "1",
                                    "5": "1"
                                },
                                {
                                    "0": "8",
                                    "1": "Seafood",
                                    "2": "Product YHXGE",
                                    "3": "31.0000",
                                    "4": "2",
                                    "5": "2"
                                },
                                {
                                    "0": "8",
                                    "1": "Seafood",
                                    "2": "Product EVFFA",
                                    "3": "26.0000",
                                    "4": "3",
                                    "5": "3"
                                },
                                {
                                    "0": "8",
                                    "1": "Seafood",
                                    "2": "Product LYERX",
                                    "3": "25.8900",
                                    "4": "4",
                                    "5": "4"
                                },
                                {
                                    "0": "8",
                                    "1": "Seafood",
                                    "2": "Product GMKIJ",
                                    "3": "19.0000",
                                    "4": "5",
                                    "5": "5"
                                },
                                {
                                    "0": "8",
                                    "1": "Seafood",
                                    "2": "Product YZIXQ",
                                    "3": "18.4000",
                                    "4": "6",
                                    "5": "6"
                                },
                                {
                                    "0": "8",
                                    "1": "Seafood",
                                    "2": "Product WEUJZ",
                                    "3": "15.0000",
                                    "4": "7",
                                    "5": "7"
                                },
                                {
                                    "0": "8",
                                    "1": "Seafood",
                                    "2": "Product ACRVI",
                                    "3": "13.2500",
                                    "4": "8",
                                    "5": "8"
                                },
                                {
                                    "0": "8",
                                    "1": "Seafood",
                                    "2": "Product CBRRL",
                                    "3": "12.0000",
                                    "4": "9",
                                    "5": "9"
                                },
                                {
                                    "0": "8",
                                    "1": "Seafood",
                                    "2": "Product TTEEX",
                                    "3": "9.6500",
                                    "4": "10",
                                    "5": "10"
                                },
                                {
                                    "0": "8",
                                    "1": "Seafood",
                                    "2": "Product AQOKR",
                                    "3": "9.5000",
                                    "4": "11",
                                    "5": "11"
                                },
                                {
                                    "0": "8",
                                    "1": "Seafood",
                                    "2": "Product POXFU",
                                    "3": "6.0000",
                                    "4": "12",
                                    "5": "12"
                                }
                            ]
                        },
                        "text/html": [
                            "<table>",
                            "<tr><th>CatID</th><th>CatName</th><th>ProdName</th><th>UnitPrice</th><th>PriceRank</th><th>DensePriceRank</th></tr>",
                            "<tr><td>1</td><td>Beverages</td><td>Product QDOMO</td><td>263.5000</td><td>1</td><td>1</td></tr>",
                            "<tr><td>1</td><td>Beverages</td><td>Product ZZZHR</td><td>46.0000</td><td>2</td><td>2</td></tr>",
                            "<tr><td>1</td><td>Beverages</td><td>Product RECZE</td><td>19.0000</td><td>3</td><td>3</td></tr>",
                            "<tr><td>1</td><td>Beverages</td><td>Product HHYDP</td><td>18.0000</td><td>4</td><td>4</td></tr>",
                            "<tr><td>1</td><td>Beverages</td><td>Product LSOFL</td><td>18.0000</td><td>4</td><td>4</td></tr>",
                            "<tr><td>1</td><td>Beverages</td><td>Product NEVTJ</td><td>18.0000</td><td>4</td><td>4</td></tr>",
                            "<tr><td>1</td><td>Beverages</td><td>Product JYGFE</td><td>18.0000</td><td>4</td><td>4</td></tr>",
                            "<tr><td>1</td><td>Beverages</td><td>Product TOONT</td><td>15.0000</td><td>8</td><td>5</td></tr>",
                            "<tr><td>1</td><td>Beverages</td><td>Product XLXQF</td><td>14.0000</td><td>9</td><td>6</td></tr>",
                            "<tr><td>1</td><td>Beverages</td><td>Product SWNJY</td><td>14.0000</td><td>9</td><td>6</td></tr>",
                            "<tr><td>1</td><td>Beverages</td><td>Product BWRLG</td><td>7.7500</td><td>11</td><td>7</td></tr>",
                            "<tr><td>1</td><td>Beverages</td><td>Product QOGNU</td><td>4.5000</td><td>12</td><td>8</td></tr>",
                            "<tr><td>2</td><td>Condiments</td><td>Product ICKNK</td><td>43.9000</td><td>1</td><td>1</td></tr>",
                            "<tr><td>2</td><td>Condiments</td><td>Product WVJFP</td><td>40.0000</td><td>2</td><td>2</td></tr>",
                            "<tr><td>2</td><td>Condiments</td><td>Product XYZPE</td><td>28.5000</td><td>3</td><td>3</td></tr>",
                            "<tr><td>2</td><td>Condiments</td><td>Product VAIIV</td><td>25.0000</td><td>4</td><td>4</td></tr>",
                            "<tr><td>2</td><td>Condiments</td><td>Product KSBRM</td><td>22.0000</td><td>5</td><td>5</td></tr>",
                            "<tr><td>2</td><td>Condiments</td><td>Product EPEIM</td><td>21.3500</td><td>6</td><td>6</td></tr>",
                            "<tr><td>2</td><td>Condiments</td><td>Product XYWBZ</td><td>21.0500</td><td>7</td><td>7</td></tr>",
                            "<tr><td>2</td><td>Condiments</td><td>Product VJIEO</td><td>19.4500</td><td>8</td><td>8</td></tr>",
                            "<tr><td>2</td><td>Condiments</td><td>Product LQMGN</td><td>17.0000</td><td>9</td><td>9</td></tr>",
                            "<tr><td>2</td><td>Condiments</td><td>Product KSZOI</td><td>15.5000</td><td>10</td><td>10</td></tr>",
                            "<tr><td>2</td><td>Condiments</td><td>Product LUNZZ</td><td>13.0000</td><td>11</td><td>11</td></tr>",
                            "<tr><td>2</td><td>Condiments</td><td>Product IMEHJ</td><td>10.0000</td><td>12</td><td>12</td></tr>",
                            "<tr><td>3</td><td>Confections</td><td>Product QHFFP</td><td>81.0000</td><td>1</td><td>1</td></tr>",
                            "<tr><td>3</td><td>Confections</td><td>Product WUXYK</td><td>49.3000</td><td>2</td><td>2</td></tr>",
                            "<tr><td>3</td><td>Confections</td><td>Product SMIOH</td><td>43.9000</td><td>3</td><td>3</td></tr>",
                            "<tr><td>3</td><td>Confections</td><td>Product HLGZA</td><td>31.2300</td><td>4</td><td>4</td></tr>",
                            "<tr><td>3</td><td>Confections</td><td>Product FPYPN</td><td>20.0000</td><td>5</td><td>5</td></tr>",
                            "<tr><td>3</td><td>Confections</td><td>Product PAFRH</td><td>17.4500</td><td>6</td><td>6</td></tr>",
                            "<tr><td>3</td><td>Confections</td><td>Product BIUDV</td><td>16.2500</td><td>7</td><td>7</td></tr>",
                            "<tr><td>3</td><td>Confections</td><td>Product LYLNI</td><td>14.0000</td><td>8</td><td>8</td></tr>",
                            "<tr><td>3</td><td>Confections</td><td>Product MYNXN</td><td>12.7500</td><td>9</td><td>9</td></tr>",
                            "<tr><td>3</td><td>Confections</td><td>Product TBTBL</td><td>12.5000</td><td>10</td><td>10</td></tr>",
                            "<tr><td>3</td><td>Confections</td><td>Product VJZZH</td><td>10.0000</td><td>11</td><td>11</td></tr>",
                            "<tr><td>3</td><td>Confections</td><td>Product EZZPR</td><td>9.5000</td><td>12</td><td>12</td></tr>",
                            "<tr><td>3</td><td>Confections</td><td>Product XKXDO</td><td>9.2000</td><td>13</td><td>13</td></tr>",
                            "<tr><td>4</td><td>Dairy Products</td><td>Product UKXRI</td><td>55.0000</td><td>1</td><td>1</td></tr>",
                            "<tr><td>4</td><td>Dairy Products</td><td>Product OSFNS</td><td>38.0000</td><td>2</td><td>2</td></tr>",
                            "<tr><td>4</td><td>Dairy Products</td><td>Product COAXA</td><td>36.0000</td><td>3</td><td>3</td></tr>",
                            "<tr><td>4</td><td>Dairy Products</td><td>Product GEEOO</td><td>34.8000</td><td>4</td><td>4</td></tr>",
                            "<tr><td>4</td><td>Dairy Products</td><td>Product WHBYK</td><td>34.0000</td><td>5</td><td>5</td></tr>",
                            "<tr><td>4</td><td>Dairy Products</td><td>Product NUNAW</td><td>32.0000</td><td>6</td><td>6</td></tr>",
                            "<tr><td>4</td><td>Dairy Products</td><td>Product MYMOI</td><td>21.5000</td><td>7</td><td>7</td></tr>",
                            "<tr><td>4</td><td>Dairy Products</td><td>Product QMVUN</td><td>21.0000</td><td>8</td><td>8</td></tr>",
                            "<tr><td>4</td><td>Dairy Products</td><td>Product XWOXC</td><td>12.5000</td><td>9</td><td>9</td></tr>",
                            "<tr><td>4</td><td>Dairy Products</td><td>Product ASTMN</td><td>2.5000</td><td>10</td><td>10</td></tr>",
                            "<tr><td>5</td><td>Grains/Cereals</td><td>Product VKCMF</td><td>38.0000</td><td>1</td><td>1</td></tr>",
                            "<tr><td>5</td><td>Grains/Cereals</td><td>Product HCQDE</td><td>33.2500</td><td>2</td><td>2</td></tr>",
                            "<tr><td>5</td><td>Grains/Cereals</td><td>Product CPHFY</td><td>21.0000</td><td>3</td><td>3</td></tr>",
                            "<tr><td>5</td><td>Grains/Cereals</td><td>Product OVLQI</td><td>19.5000</td><td>4</td><td>4</td></tr>",
                            "<tr><td>5</td><td>Grains/Cereals</td><td>Product RJVNM</td><td>14.0000</td><td>5</td><td>5</td></tr>",
                            "<tr><td>5</td><td>Grains/Cereals</td><td>Product JLUDZ</td><td>9.0000</td><td>6</td><td>6</td></tr>",
                            "<tr><td>5</td><td>Grains/Cereals</td><td>Product QSRXF</td><td>7.0000</td><td>7</td><td>7</td></tr>",
                            "<tr><td>6</td><td>Meat/Poultry</td><td>Product VJXYN</td><td>123.7900</td><td>1</td><td>1</td></tr>",
                            "<tr><td>6</td><td>Meat/Poultry</td><td>Product AOZBW</td><td>97.0000</td><td>2</td><td>2</td></tr>",
                            "<tr><td>6</td><td>Meat/Poultry</td><td>Product BLCAX</td><td>39.0000</td><td>3</td><td>3</td></tr>",
                            "<tr><td>6</td><td>Meat/Poultry</td><td>Product BKGEA</td><td>32.8000</td><td>4</td><td>4</td></tr>",
                            "<tr><td>6</td><td>Meat/Poultry</td><td>Product YYWRT</td><td>24.0000</td><td>5</td><td>5</td></tr>",
                            "<tr><td>6</td><td>Meat/Poultry</td><td>Product QAQRL</td><td>7.4500</td><td>6</td><td>6</td></tr>",
                            "<tr><td>7</td><td>Produce</td><td>Product APITJ</td><td>53.0000</td><td>1</td><td>1</td></tr>",
                            "<tr><td>7</td><td>Produce</td><td>Product OFBNT</td><td>45.6000</td><td>2</td><td>2</td></tr>",
                            "<tr><td>7</td><td>Produce</td><td>Product HMLNI</td><td>30.0000</td><td>3</td><td>3</td></tr>",
                            "<tr><td>7</td><td>Produce</td><td>Product PWCJB</td><td>23.2500</td><td>4</td><td>4</td></tr>",
                            "<tr><td>7</td><td>Produce</td><td>Product BKAZJ</td><td>10.0000</td><td>5</td><td>5</td></tr>",
                            "<tr><td>8</td><td>Seafood</td><td>Product CKEDC</td><td>62.5000</td><td>1</td><td>1</td></tr>",
                            "<tr><td>8</td><td>Seafood</td><td>Product YHXGE</td><td>31.0000</td><td>2</td><td>2</td></tr>",
                            "<tr><td>8</td><td>Seafood</td><td>Product EVFFA</td><td>26.0000</td><td>3</td><td>3</td></tr>",
                            "<tr><td>8</td><td>Seafood</td><td>Product LYERX</td><td>25.8900</td><td>4</td><td>4</td></tr>",
                            "<tr><td>8</td><td>Seafood</td><td>Product GMKIJ</td><td>19.0000</td><td>5</td><td>5</td></tr>",
                            "<tr><td>8</td><td>Seafood</td><td>Product YZIXQ</td><td>18.4000</td><td>6</td><td>6</td></tr>",
                            "<tr><td>8</td><td>Seafood</td><td>Product WEUJZ</td><td>15.0000</td><td>7</td><td>7</td></tr>",
                            "<tr><td>8</td><td>Seafood</td><td>Product ACRVI</td><td>13.2500</td><td>8</td><td>8</td></tr>",
                            "<tr><td>8</td><td>Seafood</td><td>Product CBRRL</td><td>12.0000</td><td>9</td><td>9</td></tr>",
                            "<tr><td>8</td><td>Seafood</td><td>Product TTEEX</td><td>9.6500</td><td>10</td><td>10</td></tr>",
                            "<tr><td>8</td><td>Seafood</td><td>Product AQOKR</td><td>9.5000</td><td>11</td><td>11</td></tr>",
                            "<tr><td>8</td><td>Seafood</td><td>Product POXFU</td><td>6.0000</td><td>12</td><td>12</td></tr>",
                            "</table>"
                        ]
                    }
                }
            ],
            "execution_count": 14
        },
        {
            "cell_type": "markdown",
            "source": [
                "2.6. Ahora utilizar ROW_NUMEBR()."
            ],
            "metadata": {
                "azdata_cell_guid": "f8eeb190-7a1c-424a-9ee0-76a895ca0763"
            }
        },
        {
            "cell_type": "code",
            "source": [
                "SELECT CatID, CatName, ProdName, UnitPrice,\r\n",
                "\tROW_NUMBER() OVER(PARTITION BY CatID ORDER BY UnitPrice DESC) AS RowNumber\r\n",
                "FROM Production.CategorizedProducts\r\n",
                "ORDER BY CatID; "
            ],
            "metadata": {
                "azdata_cell_guid": "2e435835-f0f1-4ce9-bb16-54f5501730bd"
            },
            "outputs": [],
            "execution_count": null
        },
        {
            "cell_type": "markdown",
            "source": [
                "2.7. NTILE para crear 7 grupos."
            ],
            "metadata": {
                "azdata_cell_guid": "b9344c19-f985-4b2d-b5cc-4d109e48ebd3"
            }
        },
        {
            "cell_type": "code",
            "source": [
                "SELECT CatID, CatName, ProdName, UnitPrice,\r\n",
                "\tNTILE(7) OVER(PARTITION BY CatID ORDER BY UnitPrice DESC) AS NT\r\n",
                "FROM Production.CategorizedProducts\r\n",
                "ORDER BY CatID, NT; "
            ],
            "metadata": {
                "azdata_cell_guid": "7e474e8e-a66b-4f46-ae75-ec230c96f954"
            },
            "outputs": [
                {
                    "output_type": "display_data",
                    "data": {
                        "text/html": "(77 rows affected)"
                    },
                    "metadata": {}
                },
                {
                    "output_type": "display_data",
                    "data": {
                        "text/html": "Total execution time: 00:00:00.242"
                    },
                    "metadata": {}
                },
                {
                    "output_type": "execute_result",
                    "metadata": {},
                    "execution_count": 15,
                    "data": {
                        "application/vnd.dataresource+json": {
                            "schema": {
                                "fields": [
                                    {
                                        "name": "CatID"
                                    },
                                    {
                                        "name": "CatName"
                                    },
                                    {
                                        "name": "ProdName"
                                    },
                                    {
                                        "name": "UnitPrice"
                                    },
                                    {
                                        "name": "NT"
                                    }
                                ]
                            },
                            "data": [
                                {
                                    "0": "1",
                                    "1": "Beverages",
                                    "2": "Product QDOMO",
                                    "3": "263.5000",
                                    "4": "1"
                                },
                                {
                                    "0": "1",
                                    "1": "Beverages",
                                    "2": "Product ZZZHR",
                                    "3": "46.0000",
                                    "4": "1"
                                },
                                {
                                    "0": "1",
                                    "1": "Beverages",
                                    "2": "Product RECZE",
                                    "3": "19.0000",
                                    "4": "2"
                                },
                                {
                                    "0": "1",
                                    "1": "Beverages",
                                    "2": "Product HHYDP",
                                    "3": "18.0000",
                                    "4": "2"
                                },
                                {
                                    "0": "1",
                                    "1": "Beverages",
                                    "2": "Product LSOFL",
                                    "3": "18.0000",
                                    "4": "3"
                                },
                                {
                                    "0": "1",
                                    "1": "Beverages",
                                    "2": "Product NEVTJ",
                                    "3": "18.0000",
                                    "4": "3"
                                },
                                {
                                    "0": "1",
                                    "1": "Beverages",
                                    "2": "Product JYGFE",
                                    "3": "18.0000",
                                    "4": "4"
                                },
                                {
                                    "0": "1",
                                    "1": "Beverages",
                                    "2": "Product TOONT",
                                    "3": "15.0000",
                                    "4": "4"
                                },
                                {
                                    "0": "1",
                                    "1": "Beverages",
                                    "2": "Product XLXQF",
                                    "3": "14.0000",
                                    "4": "5"
                                },
                                {
                                    "0": "1",
                                    "1": "Beverages",
                                    "2": "Product SWNJY",
                                    "3": "14.0000",
                                    "4": "5"
                                },
                                {
                                    "0": "1",
                                    "1": "Beverages",
                                    "2": "Product BWRLG",
                                    "3": "7.7500",
                                    "4": "6"
                                },
                                {
                                    "0": "1",
                                    "1": "Beverages",
                                    "2": "Product QOGNU",
                                    "3": "4.5000",
                                    "4": "7"
                                },
                                {
                                    "0": "2",
                                    "1": "Condiments",
                                    "2": "Product ICKNK",
                                    "3": "43.9000",
                                    "4": "1"
                                },
                                {
                                    "0": "2",
                                    "1": "Condiments",
                                    "2": "Product WVJFP",
                                    "3": "40.0000",
                                    "4": "1"
                                },
                                {
                                    "0": "2",
                                    "1": "Condiments",
                                    "2": "Product XYZPE",
                                    "3": "28.5000",
                                    "4": "2"
                                },
                                {
                                    "0": "2",
                                    "1": "Condiments",
                                    "2": "Product VAIIV",
                                    "3": "25.0000",
                                    "4": "2"
                                },
                                {
                                    "0": "2",
                                    "1": "Condiments",
                                    "2": "Product KSBRM",
                                    "3": "22.0000",
                                    "4": "3"
                                },
                                {
                                    "0": "2",
                                    "1": "Condiments",
                                    "2": "Product EPEIM",
                                    "3": "21.3500",
                                    "4": "3"
                                },
                                {
                                    "0": "2",
                                    "1": "Condiments",
                                    "2": "Product XYWBZ",
                                    "3": "21.0500",
                                    "4": "4"
                                },
                                {
                                    "0": "2",
                                    "1": "Condiments",
                                    "2": "Product VJIEO",
                                    "3": "19.4500",
                                    "4": "4"
                                },
                                {
                                    "0": "2",
                                    "1": "Condiments",
                                    "2": "Product LQMGN",
                                    "3": "17.0000",
                                    "4": "5"
                                },
                                {
                                    "0": "2",
                                    "1": "Condiments",
                                    "2": "Product KSZOI",
                                    "3": "15.5000",
                                    "4": "5"
                                },
                                {
                                    "0": "2",
                                    "1": "Condiments",
                                    "2": "Product LUNZZ",
                                    "3": "13.0000",
                                    "4": "6"
                                },
                                {
                                    "0": "2",
                                    "1": "Condiments",
                                    "2": "Product IMEHJ",
                                    "3": "10.0000",
                                    "4": "7"
                                },
                                {
                                    "0": "3",
                                    "1": "Confections",
                                    "2": "Product QHFFP",
                                    "3": "81.0000",
                                    "4": "1"
                                },
                                {
                                    "0": "3",
                                    "1": "Confections",
                                    "2": "Product WUXYK",
                                    "3": "49.3000",
                                    "4": "1"
                                },
                                {
                                    "0": "3",
                                    "1": "Confections",
                                    "2": "Product SMIOH",
                                    "3": "43.9000",
                                    "4": "2"
                                },
                                {
                                    "0": "3",
                                    "1": "Confections",
                                    "2": "Product HLGZA",
                                    "3": "31.2300",
                                    "4": "2"
                                },
                                {
                                    "0": "3",
                                    "1": "Confections",
                                    "2": "Product FPYPN",
                                    "3": "20.0000",
                                    "4": "3"
                                },
                                {
                                    "0": "3",
                                    "1": "Confections",
                                    "2": "Product PAFRH",
                                    "3": "17.4500",
                                    "4": "3"
                                },
                                {
                                    "0": "3",
                                    "1": "Confections",
                                    "2": "Product BIUDV",
                                    "3": "16.2500",
                                    "4": "4"
                                },
                                {
                                    "0": "3",
                                    "1": "Confections",
                                    "2": "Product LYLNI",
                                    "3": "14.0000",
                                    "4": "4"
                                },
                                {
                                    "0": "3",
                                    "1": "Confections",
                                    "2": "Product MYNXN",
                                    "3": "12.7500",
                                    "4": "5"
                                },
                                {
                                    "0": "3",
                                    "1": "Confections",
                                    "2": "Product TBTBL",
                                    "3": "12.5000",
                                    "4": "5"
                                },
                                {
                                    "0": "3",
                                    "1": "Confections",
                                    "2": "Product VJZZH",
                                    "3": "10.0000",
                                    "4": "6"
                                },
                                {
                                    "0": "3",
                                    "1": "Confections",
                                    "2": "Product EZZPR",
                                    "3": "9.5000",
                                    "4": "6"
                                },
                                {
                                    "0": "3",
                                    "1": "Confections",
                                    "2": "Product XKXDO",
                                    "3": "9.2000",
                                    "4": "7"
                                },
                                {
                                    "0": "4",
                                    "1": "Dairy Products",
                                    "2": "Product UKXRI",
                                    "3": "55.0000",
                                    "4": "1"
                                },
                                {
                                    "0": "4",
                                    "1": "Dairy Products",
                                    "2": "Product OSFNS",
                                    "3": "38.0000",
                                    "4": "1"
                                },
                                {
                                    "0": "4",
                                    "1": "Dairy Products",
                                    "2": "Product COAXA",
                                    "3": "36.0000",
                                    "4": "2"
                                },
                                {
                                    "0": "4",
                                    "1": "Dairy Products",
                                    "2": "Product GEEOO",
                                    "3": "34.8000",
                                    "4": "2"
                                },
                                {
                                    "0": "4",
                                    "1": "Dairy Products",
                                    "2": "Product WHBYK",
                                    "3": "34.0000",
                                    "4": "3"
                                },
                                {
                                    "0": "4",
                                    "1": "Dairy Products",
                                    "2": "Product NUNAW",
                                    "3": "32.0000",
                                    "4": "3"
                                },
                                {
                                    "0": "4",
                                    "1": "Dairy Products",
                                    "2": "Product MYMOI",
                                    "3": "21.5000",
                                    "4": "4"
                                },
                                {
                                    "0": "4",
                                    "1": "Dairy Products",
                                    "2": "Product QMVUN",
                                    "3": "21.0000",
                                    "4": "5"
                                },
                                {
                                    "0": "4",
                                    "1": "Dairy Products",
                                    "2": "Product XWOXC",
                                    "3": "12.5000",
                                    "4": "6"
                                },
                                {
                                    "0": "4",
                                    "1": "Dairy Products",
                                    "2": "Product ASTMN",
                                    "3": "2.5000",
                                    "4": "7"
                                },
                                {
                                    "0": "5",
                                    "1": "Grains/Cereals",
                                    "2": "Product VKCMF",
                                    "3": "38.0000",
                                    "4": "1"
                                },
                                {
                                    "0": "5",
                                    "1": "Grains/Cereals",
                                    "2": "Product HCQDE",
                                    "3": "33.2500",
                                    "4": "2"
                                },
                                {
                                    "0": "5",
                                    "1": "Grains/Cereals",
                                    "2": "Product CPHFY",
                                    "3": "21.0000",
                                    "4": "3"
                                },
                                {
                                    "0": "5",
                                    "1": "Grains/Cereals",
                                    "2": "Product OVLQI",
                                    "3": "19.5000",
                                    "4": "4"
                                },
                                {
                                    "0": "5",
                                    "1": "Grains/Cereals",
                                    "2": "Product RJVNM",
                                    "3": "14.0000",
                                    "4": "5"
                                },
                                {
                                    "0": "5",
                                    "1": "Grains/Cereals",
                                    "2": "Product JLUDZ",
                                    "3": "9.0000",
                                    "4": "6"
                                },
                                {
                                    "0": "5",
                                    "1": "Grains/Cereals",
                                    "2": "Product QSRXF",
                                    "3": "7.0000",
                                    "4": "7"
                                },
                                {
                                    "0": "6",
                                    "1": "Meat/Poultry",
                                    "2": "Product VJXYN",
                                    "3": "123.7900",
                                    "4": "1"
                                },
                                {
                                    "0": "6",
                                    "1": "Meat/Poultry",
                                    "2": "Product AOZBW",
                                    "3": "97.0000",
                                    "4": "2"
                                },
                                {
                                    "0": "6",
                                    "1": "Meat/Poultry",
                                    "2": "Product BLCAX",
                                    "3": "39.0000",
                                    "4": "3"
                                },
                                {
                                    "0": "6",
                                    "1": "Meat/Poultry",
                                    "2": "Product BKGEA",
                                    "3": "32.8000",
                                    "4": "4"
                                },
                                {
                                    "0": "6",
                                    "1": "Meat/Poultry",
                                    "2": "Product YYWRT",
                                    "3": "24.0000",
                                    "4": "5"
                                },
                                {
                                    "0": "6",
                                    "1": "Meat/Poultry",
                                    "2": "Product QAQRL",
                                    "3": "7.4500",
                                    "4": "6"
                                },
                                {
                                    "0": "7",
                                    "1": "Produce",
                                    "2": "Product APITJ",
                                    "3": "53.0000",
                                    "4": "1"
                                },
                                {
                                    "0": "7",
                                    "1": "Produce",
                                    "2": "Product OFBNT",
                                    "3": "45.6000",
                                    "4": "2"
                                },
                                {
                                    "0": "7",
                                    "1": "Produce",
                                    "2": "Product HMLNI",
                                    "3": "30.0000",
                                    "4": "3"
                                },
                                {
                                    "0": "7",
                                    "1": "Produce",
                                    "2": "Product PWCJB",
                                    "3": "23.2500",
                                    "4": "4"
                                },
                                {
                                    "0": "7",
                                    "1": "Produce",
                                    "2": "Product BKAZJ",
                                    "3": "10.0000",
                                    "4": "5"
                                },
                                {
                                    "0": "8",
                                    "1": "Seafood",
                                    "2": "Product CKEDC",
                                    "3": "62.5000",
                                    "4": "1"
                                },
                                {
                                    "0": "8",
                                    "1": "Seafood",
                                    "2": "Product YHXGE",
                                    "3": "31.0000",
                                    "4": "1"
                                },
                                {
                                    "0": "8",
                                    "1": "Seafood",
                                    "2": "Product EVFFA",
                                    "3": "26.0000",
                                    "4": "2"
                                },
                                {
                                    "0": "8",
                                    "1": "Seafood",
                                    "2": "Product LYERX",
                                    "3": "25.8900",
                                    "4": "2"
                                },
                                {
                                    "0": "8",
                                    "1": "Seafood",
                                    "2": "Product GMKIJ",
                                    "3": "19.0000",
                                    "4": "3"
                                },
                                {
                                    "0": "8",
                                    "1": "Seafood",
                                    "2": "Product YZIXQ",
                                    "3": "18.4000",
                                    "4": "3"
                                },
                                {
                                    "0": "8",
                                    "1": "Seafood",
                                    "2": "Product WEUJZ",
                                    "3": "15.0000",
                                    "4": "4"
                                },
                                {
                                    "0": "8",
                                    "1": "Seafood",
                                    "2": "Product ACRVI",
                                    "3": "13.2500",
                                    "4": "4"
                                },
                                {
                                    "0": "8",
                                    "1": "Seafood",
                                    "2": "Product CBRRL",
                                    "3": "12.0000",
                                    "4": "5"
                                },
                                {
                                    "0": "8",
                                    "1": "Seafood",
                                    "2": "Product TTEEX",
                                    "3": "9.6500",
                                    "4": "5"
                                },
                                {
                                    "0": "8",
                                    "1": "Seafood",
                                    "2": "Product AQOKR",
                                    "3": "9.5000",
                                    "4": "6"
                                },
                                {
                                    "0": "8",
                                    "1": "Seafood",
                                    "2": "Product POXFU",
                                    "3": "6.0000",
                                    "4": "7"
                                }
                            ]
                        },
                        "text/html": [
                            "<table>",
                            "<tr><th>CatID</th><th>CatName</th><th>ProdName</th><th>UnitPrice</th><th>NT</th></tr>",
                            "<tr><td>1</td><td>Beverages</td><td>Product QDOMO</td><td>263.5000</td><td>1</td></tr>",
                            "<tr><td>1</td><td>Beverages</td><td>Product ZZZHR</td><td>46.0000</td><td>1</td></tr>",
                            "<tr><td>1</td><td>Beverages</td><td>Product RECZE</td><td>19.0000</td><td>2</td></tr>",
                            "<tr><td>1</td><td>Beverages</td><td>Product HHYDP</td><td>18.0000</td><td>2</td></tr>",
                            "<tr><td>1</td><td>Beverages</td><td>Product LSOFL</td><td>18.0000</td><td>3</td></tr>",
                            "<tr><td>1</td><td>Beverages</td><td>Product NEVTJ</td><td>18.0000</td><td>3</td></tr>",
                            "<tr><td>1</td><td>Beverages</td><td>Product JYGFE</td><td>18.0000</td><td>4</td></tr>",
                            "<tr><td>1</td><td>Beverages</td><td>Product TOONT</td><td>15.0000</td><td>4</td></tr>",
                            "<tr><td>1</td><td>Beverages</td><td>Product XLXQF</td><td>14.0000</td><td>5</td></tr>",
                            "<tr><td>1</td><td>Beverages</td><td>Product SWNJY</td><td>14.0000</td><td>5</td></tr>",
                            "<tr><td>1</td><td>Beverages</td><td>Product BWRLG</td><td>7.7500</td><td>6</td></tr>",
                            "<tr><td>1</td><td>Beverages</td><td>Product QOGNU</td><td>4.5000</td><td>7</td></tr>",
                            "<tr><td>2</td><td>Condiments</td><td>Product ICKNK</td><td>43.9000</td><td>1</td></tr>",
                            "<tr><td>2</td><td>Condiments</td><td>Product WVJFP</td><td>40.0000</td><td>1</td></tr>",
                            "<tr><td>2</td><td>Condiments</td><td>Product XYZPE</td><td>28.5000</td><td>2</td></tr>",
                            "<tr><td>2</td><td>Condiments</td><td>Product VAIIV</td><td>25.0000</td><td>2</td></tr>",
                            "<tr><td>2</td><td>Condiments</td><td>Product KSBRM</td><td>22.0000</td><td>3</td></tr>",
                            "<tr><td>2</td><td>Condiments</td><td>Product EPEIM</td><td>21.3500</td><td>3</td></tr>",
                            "<tr><td>2</td><td>Condiments</td><td>Product XYWBZ</td><td>21.0500</td><td>4</td></tr>",
                            "<tr><td>2</td><td>Condiments</td><td>Product VJIEO</td><td>19.4500</td><td>4</td></tr>",
                            "<tr><td>2</td><td>Condiments</td><td>Product LQMGN</td><td>17.0000</td><td>5</td></tr>",
                            "<tr><td>2</td><td>Condiments</td><td>Product KSZOI</td><td>15.5000</td><td>5</td></tr>",
                            "<tr><td>2</td><td>Condiments</td><td>Product LUNZZ</td><td>13.0000</td><td>6</td></tr>",
                            "<tr><td>2</td><td>Condiments</td><td>Product IMEHJ</td><td>10.0000</td><td>7</td></tr>",
                            "<tr><td>3</td><td>Confections</td><td>Product QHFFP</td><td>81.0000</td><td>1</td></tr>",
                            "<tr><td>3</td><td>Confections</td><td>Product WUXYK</td><td>49.3000</td><td>1</td></tr>",
                            "<tr><td>3</td><td>Confections</td><td>Product SMIOH</td><td>43.9000</td><td>2</td></tr>",
                            "<tr><td>3</td><td>Confections</td><td>Product HLGZA</td><td>31.2300</td><td>2</td></tr>",
                            "<tr><td>3</td><td>Confections</td><td>Product FPYPN</td><td>20.0000</td><td>3</td></tr>",
                            "<tr><td>3</td><td>Confections</td><td>Product PAFRH</td><td>17.4500</td><td>3</td></tr>",
                            "<tr><td>3</td><td>Confections</td><td>Product BIUDV</td><td>16.2500</td><td>4</td></tr>",
                            "<tr><td>3</td><td>Confections</td><td>Product LYLNI</td><td>14.0000</td><td>4</td></tr>",
                            "<tr><td>3</td><td>Confections</td><td>Product MYNXN</td><td>12.7500</td><td>5</td></tr>",
                            "<tr><td>3</td><td>Confections</td><td>Product TBTBL</td><td>12.5000</td><td>5</td></tr>",
                            "<tr><td>3</td><td>Confections</td><td>Product VJZZH</td><td>10.0000</td><td>6</td></tr>",
                            "<tr><td>3</td><td>Confections</td><td>Product EZZPR</td><td>9.5000</td><td>6</td></tr>",
                            "<tr><td>3</td><td>Confections</td><td>Product XKXDO</td><td>9.2000</td><td>7</td></tr>",
                            "<tr><td>4</td><td>Dairy Products</td><td>Product UKXRI</td><td>55.0000</td><td>1</td></tr>",
                            "<tr><td>4</td><td>Dairy Products</td><td>Product OSFNS</td><td>38.0000</td><td>1</td></tr>",
                            "<tr><td>4</td><td>Dairy Products</td><td>Product COAXA</td><td>36.0000</td><td>2</td></tr>",
                            "<tr><td>4</td><td>Dairy Products</td><td>Product GEEOO</td><td>34.8000</td><td>2</td></tr>",
                            "<tr><td>4</td><td>Dairy Products</td><td>Product WHBYK</td><td>34.0000</td><td>3</td></tr>",
                            "<tr><td>4</td><td>Dairy Products</td><td>Product NUNAW</td><td>32.0000</td><td>3</td></tr>",
                            "<tr><td>4</td><td>Dairy Products</td><td>Product MYMOI</td><td>21.5000</td><td>4</td></tr>",
                            "<tr><td>4</td><td>Dairy Products</td><td>Product QMVUN</td><td>21.0000</td><td>5</td></tr>",
                            "<tr><td>4</td><td>Dairy Products</td><td>Product XWOXC</td><td>12.5000</td><td>6</td></tr>",
                            "<tr><td>4</td><td>Dairy Products</td><td>Product ASTMN</td><td>2.5000</td><td>7</td></tr>",
                            "<tr><td>5</td><td>Grains/Cereals</td><td>Product VKCMF</td><td>38.0000</td><td>1</td></tr>",
                            "<tr><td>5</td><td>Grains/Cereals</td><td>Product HCQDE</td><td>33.2500</td><td>2</td></tr>",
                            "<tr><td>5</td><td>Grains/Cereals</td><td>Product CPHFY</td><td>21.0000</td><td>3</td></tr>",
                            "<tr><td>5</td><td>Grains/Cereals</td><td>Product OVLQI</td><td>19.5000</td><td>4</td></tr>",
                            "<tr><td>5</td><td>Grains/Cereals</td><td>Product RJVNM</td><td>14.0000</td><td>5</td></tr>",
                            "<tr><td>5</td><td>Grains/Cereals</td><td>Product JLUDZ</td><td>9.0000</td><td>6</td></tr>",
                            "<tr><td>5</td><td>Grains/Cereals</td><td>Product QSRXF</td><td>7.0000</td><td>7</td></tr>",
                            "<tr><td>6</td><td>Meat/Poultry</td><td>Product VJXYN</td><td>123.7900</td><td>1</td></tr>",
                            "<tr><td>6</td><td>Meat/Poultry</td><td>Product AOZBW</td><td>97.0000</td><td>2</td></tr>",
                            "<tr><td>6</td><td>Meat/Poultry</td><td>Product BLCAX</td><td>39.0000</td><td>3</td></tr>",
                            "<tr><td>6</td><td>Meat/Poultry</td><td>Product BKGEA</td><td>32.8000</td><td>4</td></tr>",
                            "<tr><td>6</td><td>Meat/Poultry</td><td>Product YYWRT</td><td>24.0000</td><td>5</td></tr>",
                            "<tr><td>6</td><td>Meat/Poultry</td><td>Product QAQRL</td><td>7.4500</td><td>6</td></tr>",
                            "<tr><td>7</td><td>Produce</td><td>Product APITJ</td><td>53.0000</td><td>1</td></tr>",
                            "<tr><td>7</td><td>Produce</td><td>Product OFBNT</td><td>45.6000</td><td>2</td></tr>",
                            "<tr><td>7</td><td>Produce</td><td>Product HMLNI</td><td>30.0000</td><td>3</td></tr>",
                            "<tr><td>7</td><td>Produce</td><td>Product PWCJB</td><td>23.2500</td><td>4</td></tr>",
                            "<tr><td>7</td><td>Produce</td><td>Product BKAZJ</td><td>10.0000</td><td>5</td></tr>",
                            "<tr><td>8</td><td>Seafood</td><td>Product CKEDC</td><td>62.5000</td><td>1</td></tr>",
                            "<tr><td>8</td><td>Seafood</td><td>Product YHXGE</td><td>31.0000</td><td>1</td></tr>",
                            "<tr><td>8</td><td>Seafood</td><td>Product EVFFA</td><td>26.0000</td><td>2</td></tr>",
                            "<tr><td>8</td><td>Seafood</td><td>Product LYERX</td><td>25.8900</td><td>2</td></tr>",
                            "<tr><td>8</td><td>Seafood</td><td>Product GMKIJ</td><td>19.0000</td><td>3</td></tr>",
                            "<tr><td>8</td><td>Seafood</td><td>Product YZIXQ</td><td>18.4000</td><td>3</td></tr>",
                            "<tr><td>8</td><td>Seafood</td><td>Product WEUJZ</td><td>15.0000</td><td>4</td></tr>",
                            "<tr><td>8</td><td>Seafood</td><td>Product ACRVI</td><td>13.2500</td><td>4</td></tr>",
                            "<tr><td>8</td><td>Seafood</td><td>Product CBRRL</td><td>12.0000</td><td>5</td></tr>",
                            "<tr><td>8</td><td>Seafood</td><td>Product TTEEX</td><td>9.6500</td><td>5</td></tr>",
                            "<tr><td>8</td><td>Seafood</td><td>Product AQOKR</td><td>9.5000</td><td>6</td></tr>",
                            "<tr><td>8</td><td>Seafood</td><td>Product POXFU</td><td>6.0000</td><td>7</td></tr>",
                            "</table>"
                        ]
                    }
                }
            ],
            "execution_count": 15
        },
        {
            "cell_type": "markdown",
            "source": [
                "2.8. Funciones OFFSET. utilizando LAG para comparar el año de ventas anterior al ultimo. (Ojo particionado por empleado)"
            ],
            "metadata": {
                "azdata_cell_guid": "2cc757fd-0cf7-4d1a-a154-862a6f58ef2c"
            }
        },
        {
            "cell_type": "code",
            "source": [
                "SELECT employee, orderyear, totalsales AS currentsales,\r\n",
                "      LAG(totalsales, 1,0) OVER (PARTITION BY employee ORDER BY orderyear) AS previousyearsales\r\n",
                "  FROM Sales.OrdersByEmployeeYear\r\n",
                "ORDER BY employee, orderyear;\r\n",
                "GO"
            ],
            "metadata": {
                "azdata_cell_guid": "ad6ce617-32e4-4684-bdac-c75a1d7c12ac",
                "tags": []
            },
            "outputs": [
                {
                    "output_type": "display_data",
                    "data": {
                        "text/html": "(27 rows affected)"
                    },
                    "metadata": {}
                },
                {
                    "output_type": "display_data",
                    "data": {
                        "text/html": "Total execution time: 00:00:00.296"
                    },
                    "metadata": {}
                },
                {
                    "output_type": "execute_result",
                    "metadata": {},
                    "execution_count": 16,
                    "data": {
                        "application/vnd.dataresource+json": {
                            "schema": {
                                "fields": [
                                    {
                                        "name": "employee"
                                    },
                                    {
                                        "name": "orderyear"
                                    },
                                    {
                                        "name": "currentsales"
                                    },
                                    {
                                        "name": "previousyearsales"
                                    }
                                ]
                            },
                            "data": [
                                {
                                    "0": "1",
                                    "1": "2006",
                                    "2": "38789.0000",
                                    "3": "0.0000"
                                },
                                {
                                    "0": "1",
                                    "1": "2007",
                                    "2": "97533.5800",
                                    "3": "38789.0000"
                                },
                                {
                                    "0": "1",
                                    "1": "2008",
                                    "2": "65821.1300",
                                    "3": "97533.5800"
                                },
                                {
                                    "0": "2",
                                    "1": "2006",
                                    "2": "22834.7000",
                                    "3": "0.0000"
                                },
                                {
                                    "0": "2",
                                    "1": "2007",
                                    "2": "74958.6000",
                                    "3": "22834.7000"
                                },
                                {
                                    "0": "2",
                                    "1": "2008",
                                    "2": "79955.9600",
                                    "3": "74958.6000"
                                },
                                {
                                    "0": "3",
                                    "1": "2006",
                                    "2": "19231.8000",
                                    "3": "0.0000"
                                },
                                {
                                    "0": "3",
                                    "1": "2007",
                                    "2": "111788.6100",
                                    "3": "19231.8000"
                                },
                                {
                                    "0": "3",
                                    "1": "2008",
                                    "2": "82030.8900",
                                    "3": "111788.6100"
                                },
                                {
                                    "0": "4",
                                    "1": "2006",
                                    "2": "53114.8000",
                                    "3": "0.0000"
                                },
                                {
                                    "0": "4",
                                    "1": "2007",
                                    "2": "139477.7000",
                                    "3": "53114.8000"
                                },
                                {
                                    "0": "4",
                                    "1": "2008",
                                    "2": "57594.9500",
                                    "3": "139477.7000"
                                },
                                {
                                    "0": "5",
                                    "1": "2006",
                                    "2": "21965.2000",
                                    "3": "0.0000"
                                },
                                {
                                    "0": "5",
                                    "1": "2007",
                                    "2": "32595.0500",
                                    "3": "21965.2000"
                                },
                                {
                                    "0": "5",
                                    "1": "2008",
                                    "2": "21007.5000",
                                    "3": "32595.0500"
                                },
                                {
                                    "0": "6",
                                    "1": "2006",
                                    "2": "17731.1000",
                                    "3": "0.0000"
                                },
                                {
                                    "0": "6",
                                    "1": "2007",
                                    "2": "45992.0000",
                                    "3": "17731.1000"
                                },
                                {
                                    "0": "6",
                                    "1": "2008",
                                    "2": "14475.0000",
                                    "3": "45992.0000"
                                },
                                {
                                    "0": "7",
                                    "1": "2006",
                                    "2": "18104.8000",
                                    "3": "0.0000"
                                },
                                {
                                    "0": "7",
                                    "1": "2007",
                                    "2": "66689.1400",
                                    "3": "18104.8000"
                                },
                                {
                                    "0": "7",
                                    "1": "2008",
                                    "2": "56502.0500",
                                    "3": "66689.1400"
                                },
                                {
                                    "0": "8",
                                    "1": "2006",
                                    "2": "23161.4000",
                                    "3": "0.0000"
                                },
                                {
                                    "0": "8",
                                    "1": "2007",
                                    "2": "59776.5200",
                                    "3": "23161.4000"
                                },
                                {
                                    "0": "8",
                                    "1": "2008",
                                    "2": "50363.1100",
                                    "3": "59776.5200"
                                },
                                {
                                    "0": "9",
                                    "1": "2006",
                                    "2": "11365.7000",
                                    "3": "0.0000"
                                },
                                {
                                    "0": "9",
                                    "1": "2007",
                                    "2": "29577.5500",
                                    "3": "11365.7000"
                                },
                                {
                                    "0": "9",
                                    "1": "2008",
                                    "2": "42020.7500",
                                    "3": "29577.5500"
                                }
                            ]
                        },
                        "text/html": [
                            "<table>",
                            "<tr><th>employee</th><th>orderyear</th><th>currentsales</th><th>previousyearsales</th></tr>",
                            "<tr><td>1</td><td>2006</td><td>38789.0000</td><td>0.0000</td></tr>",
                            "<tr><td>1</td><td>2007</td><td>97533.5800</td><td>38789.0000</td></tr>",
                            "<tr><td>1</td><td>2008</td><td>65821.1300</td><td>97533.5800</td></tr>",
                            "<tr><td>2</td><td>2006</td><td>22834.7000</td><td>0.0000</td></tr>",
                            "<tr><td>2</td><td>2007</td><td>74958.6000</td><td>22834.7000</td></tr>",
                            "<tr><td>2</td><td>2008</td><td>79955.9600</td><td>74958.6000</td></tr>",
                            "<tr><td>3</td><td>2006</td><td>19231.8000</td><td>0.0000</td></tr>",
                            "<tr><td>3</td><td>2007</td><td>111788.6100</td><td>19231.8000</td></tr>",
                            "<tr><td>3</td><td>2008</td><td>82030.8900</td><td>111788.6100</td></tr>",
                            "<tr><td>4</td><td>2006</td><td>53114.8000</td><td>0.0000</td></tr>",
                            "<tr><td>4</td><td>2007</td><td>139477.7000</td><td>53114.8000</td></tr>",
                            "<tr><td>4</td><td>2008</td><td>57594.9500</td><td>139477.7000</td></tr>",
                            "<tr><td>5</td><td>2006</td><td>21965.2000</td><td>0.0000</td></tr>",
                            "<tr><td>5</td><td>2007</td><td>32595.0500</td><td>21965.2000</td></tr>",
                            "<tr><td>5</td><td>2008</td><td>21007.5000</td><td>32595.0500</td></tr>",
                            "<tr><td>6</td><td>2006</td><td>17731.1000</td><td>0.0000</td></tr>",
                            "<tr><td>6</td><td>2007</td><td>45992.0000</td><td>17731.1000</td></tr>",
                            "<tr><td>6</td><td>2008</td><td>14475.0000</td><td>45992.0000</td></tr>",
                            "<tr><td>7</td><td>2006</td><td>18104.8000</td><td>0.0000</td></tr>",
                            "<tr><td>7</td><td>2007</td><td>66689.1400</td><td>18104.8000</td></tr>",
                            "<tr><td>7</td><td>2008</td><td>56502.0500</td><td>66689.1400</td></tr>",
                            "<tr><td>8</td><td>2006</td><td>23161.4000</td><td>0.0000</td></tr>",
                            "<tr><td>8</td><td>2007</td><td>59776.5200</td><td>23161.4000</td></tr>",
                            "<tr><td>8</td><td>2008</td><td>50363.1100</td><td>59776.5200</td></tr>",
                            "<tr><td>9</td><td>2006</td><td>11365.7000</td><td>0.0000</td></tr>",
                            "<tr><td>9</td><td>2007</td><td>29577.5500</td><td>11365.7000</td></tr>",
                            "<tr><td>9</td><td>2008</td><td>42020.7500</td><td>29577.5500</td></tr>",
                            "</table>"
                        ]
                    }
                }
            ],
            "execution_count": 16
        },
        {
            "cell_type": "markdown",
            "source": [
                "2.9. Usar FIRST_VALUE para comparar la fila actual con la primera en la partición"
            ],
            "metadata": {
                "azdata_cell_guid": "05fa2971-03d0-406f-bb98-048ad3ea256a"
            }
        },
        {
            "cell_type": "code",
            "source": [
                "SELECT employee\r\n",
                "      ,orderyear\r\n",
                "      ,totalsales AS currentsales,\r\n",
                "      (totalsales - FIRST_VALUE(totalsales) OVER (PARTITION BY employee ORDER BY orderyear)) AS salesdiffsincefirstyear\r\n",
                "  FROM TSQL.Sales.OrdersByEmployeeYear\r\n",
                "ORDER BY employee, orderyear;\r\n",
                "GO"
            ],
            "metadata": {
                "azdata_cell_guid": "645e6d82-20da-4690-851d-7cd0ccc1816e"
            },
            "outputs": [
                {
                    "output_type": "display_data",
                    "data": {
                        "text/html": "(27 rows affected)"
                    },
                    "metadata": {}
                },
                {
                    "output_type": "display_data",
                    "data": {
                        "text/html": "Total execution time: 00:00:00.208"
                    },
                    "metadata": {}
                },
                {
                    "output_type": "execute_result",
                    "metadata": {},
                    "execution_count": 17,
                    "data": {
                        "application/vnd.dataresource+json": {
                            "schema": {
                                "fields": [
                                    {
                                        "name": "employee"
                                    },
                                    {
                                        "name": "orderyear"
                                    },
                                    {
                                        "name": "currentsales"
                                    },
                                    {
                                        "name": "salesdiffsincefirstyear"
                                    }
                                ]
                            },
                            "data": [
                                {
                                    "0": "1",
                                    "1": "2006",
                                    "2": "38789.0000",
                                    "3": "0.0000"
                                },
                                {
                                    "0": "1",
                                    "1": "2007",
                                    "2": "97533.5800",
                                    "3": "58744.5800"
                                },
                                {
                                    "0": "1",
                                    "1": "2008",
                                    "2": "65821.1300",
                                    "3": "27032.1300"
                                },
                                {
                                    "0": "2",
                                    "1": "2006",
                                    "2": "22834.7000",
                                    "3": "0.0000"
                                },
                                {
                                    "0": "2",
                                    "1": "2007",
                                    "2": "74958.6000",
                                    "3": "52123.9000"
                                },
                                {
                                    "0": "2",
                                    "1": "2008",
                                    "2": "79955.9600",
                                    "3": "57121.2600"
                                },
                                {
                                    "0": "3",
                                    "1": "2006",
                                    "2": "19231.8000",
                                    "3": "0.0000"
                                },
                                {
                                    "0": "3",
                                    "1": "2007",
                                    "2": "111788.6100",
                                    "3": "92556.8100"
                                },
                                {
                                    "0": "3",
                                    "1": "2008",
                                    "2": "82030.8900",
                                    "3": "62799.0900"
                                },
                                {
                                    "0": "4",
                                    "1": "2006",
                                    "2": "53114.8000",
                                    "3": "0.0000"
                                },
                                {
                                    "0": "4",
                                    "1": "2007",
                                    "2": "139477.7000",
                                    "3": "86362.9000"
                                },
                                {
                                    "0": "4",
                                    "1": "2008",
                                    "2": "57594.9500",
                                    "3": "4480.1500"
                                },
                                {
                                    "0": "5",
                                    "1": "2006",
                                    "2": "21965.2000",
                                    "3": "0.0000"
                                },
                                {
                                    "0": "5",
                                    "1": "2007",
                                    "2": "32595.0500",
                                    "3": "10629.8500"
                                },
                                {
                                    "0": "5",
                                    "1": "2008",
                                    "2": "21007.5000",
                                    "3": "-957.7000"
                                },
                                {
                                    "0": "6",
                                    "1": "2006",
                                    "2": "17731.1000",
                                    "3": "0.0000"
                                },
                                {
                                    "0": "6",
                                    "1": "2007",
                                    "2": "45992.0000",
                                    "3": "28260.9000"
                                },
                                {
                                    "0": "6",
                                    "1": "2008",
                                    "2": "14475.0000",
                                    "3": "-3256.1000"
                                },
                                {
                                    "0": "7",
                                    "1": "2006",
                                    "2": "18104.8000",
                                    "3": "0.0000"
                                },
                                {
                                    "0": "7",
                                    "1": "2007",
                                    "2": "66689.1400",
                                    "3": "48584.3400"
                                },
                                {
                                    "0": "7",
                                    "1": "2008",
                                    "2": "56502.0500",
                                    "3": "38397.2500"
                                },
                                {
                                    "0": "8",
                                    "1": "2006",
                                    "2": "23161.4000",
                                    "3": "0.0000"
                                },
                                {
                                    "0": "8",
                                    "1": "2007",
                                    "2": "59776.5200",
                                    "3": "36615.1200"
                                },
                                {
                                    "0": "8",
                                    "1": "2008",
                                    "2": "50363.1100",
                                    "3": "27201.7100"
                                },
                                {
                                    "0": "9",
                                    "1": "2006",
                                    "2": "11365.7000",
                                    "3": "0.0000"
                                },
                                {
                                    "0": "9",
                                    "1": "2007",
                                    "2": "29577.5500",
                                    "3": "18211.8500"
                                },
                                {
                                    "0": "9",
                                    "1": "2008",
                                    "2": "42020.7500",
                                    "3": "30655.0500"
                                }
                            ]
                        },
                        "text/html": [
                            "<table>",
                            "<tr><th>employee</th><th>orderyear</th><th>currentsales</th><th>salesdiffsincefirstyear</th></tr>",
                            "<tr><td>1</td><td>2006</td><td>38789.0000</td><td>0.0000</td></tr>",
                            "<tr><td>1</td><td>2007</td><td>97533.5800</td><td>58744.5800</td></tr>",
                            "<tr><td>1</td><td>2008</td><td>65821.1300</td><td>27032.1300</td></tr>",
                            "<tr><td>2</td><td>2006</td><td>22834.7000</td><td>0.0000</td></tr>",
                            "<tr><td>2</td><td>2007</td><td>74958.6000</td><td>52123.9000</td></tr>",
                            "<tr><td>2</td><td>2008</td><td>79955.9600</td><td>57121.2600</td></tr>",
                            "<tr><td>3</td><td>2006</td><td>19231.8000</td><td>0.0000</td></tr>",
                            "<tr><td>3</td><td>2007</td><td>111788.6100</td><td>92556.8100</td></tr>",
                            "<tr><td>3</td><td>2008</td><td>82030.8900</td><td>62799.0900</td></tr>",
                            "<tr><td>4</td><td>2006</td><td>53114.8000</td><td>0.0000</td></tr>",
                            "<tr><td>4</td><td>2007</td><td>139477.7000</td><td>86362.9000</td></tr>",
                            "<tr><td>4</td><td>2008</td><td>57594.9500</td><td>4480.1500</td></tr>",
                            "<tr><td>5</td><td>2006</td><td>21965.2000</td><td>0.0000</td></tr>",
                            "<tr><td>5</td><td>2007</td><td>32595.0500</td><td>10629.8500</td></tr>",
                            "<tr><td>5</td><td>2008</td><td>21007.5000</td><td>-957.7000</td></tr>",
                            "<tr><td>6</td><td>2006</td><td>17731.1000</td><td>0.0000</td></tr>",
                            "<tr><td>6</td><td>2007</td><td>45992.0000</td><td>28260.9000</td></tr>",
                            "<tr><td>6</td><td>2008</td><td>14475.0000</td><td>-3256.1000</td></tr>",
                            "<tr><td>7</td><td>2006</td><td>18104.8000</td><td>0.0000</td></tr>",
                            "<tr><td>7</td><td>2007</td><td>66689.1400</td><td>48584.3400</td></tr>",
                            "<tr><td>7</td><td>2008</td><td>56502.0500</td><td>38397.2500</td></tr>",
                            "<tr><td>8</td><td>2006</td><td>23161.4000</td><td>0.0000</td></tr>",
                            "<tr><td>8</td><td>2007</td><td>59776.5200</td><td>36615.1200</td></tr>",
                            "<tr><td>8</td><td>2008</td><td>50363.1100</td><td>27201.7100</td></tr>",
                            "<tr><td>9</td><td>2006</td><td>11365.7000</td><td>0.0000</td></tr>",
                            "<tr><td>9</td><td>2007</td><td>29577.5500</td><td>18211.8500</td></tr>",
                            "<tr><td>9</td><td>2008</td><td>42020.7500</td><td>30655.0500</td></tr>",
                            "</table>"
                        ]
                    }
                }
            ],
            "execution_count": 17
        },
        {
            "cell_type": "markdown",
            "source": [
                "2.10. Finalmente limpiar los cambios"
            ],
            "metadata": {
                "azdata_cell_guid": "5cea0e21-f2d6-49f2-92ec-860e30e6a7cb"
            }
        },
        {
            "cell_type": "code",
            "source": [
                "IF OBJECT_ID('Production.CategorizedProducts','V') IS NOT NULL DROP VIEW Production.CategorizedProducts\r\n",
                "IF OBJECT_ID('Sales.CategoryQtyYear','V') IS NOT NULL DROP VIEW Sales.CategoryQtyYear\r\n",
                "IF OBJECT_ID('Sales.OrdersByEmployeeYear','V') IS NOT NULL DROP VIEW Sales.OrdersByEmployeeYear\r\n",
                "GO"
            ],
            "metadata": {
                "azdata_cell_guid": "68e818d1-c148-4071-a9e2-140769156f3e"
            },
            "outputs": [
                {
                    "output_type": "display_data",
                    "data": {
                        "text/html": "Commands completed successfully."
                    },
                    "metadata": {}
                },
                {
                    "output_type": "display_data",
                    "data": {
                        "text/html": "Total execution time: 00:00:00.181"
                    },
                    "metadata": {}
                }
            ],
            "execution_count": 18
        }
    ]
}